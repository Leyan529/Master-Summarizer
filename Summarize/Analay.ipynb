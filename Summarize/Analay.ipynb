{
 "cells": [
  {
   "cell_type": "code",
   "execution_count": 1,
   "metadata": {},
   "outputs": [],
   "source": [
    "import pandas as pd\n",
    "from utils import config\n",
    "\n",
    "from sklearn.model_selection import train_test_split\n",
    "\n",
    "total_df = pd.read_excel(config.xls_path)\n",
    "total_df = total_df.sort_values(by=['lemm_review_len','overlap'], ascending = False)\n",
    "train_df, val_df = train_test_split(total_df, test_size=0.1, \n",
    "                                    random_state=0, shuffle=True)"
   ]
  },
  {
   "cell_type": "code",
   "execution_count": 2,
   "metadata": {},
   "outputs": [],
   "source": [
    "def longest_common_subsequence(main_string, comparing_string):\n",
    "\n",
    "#     main_string = main_string.split(\" \")\n",
    "#     comparing_string = comparing_string.split(\" \")\n",
    "    columns_length = len(main_string)  # Get the length of the first word or base word\n",
    "    rows_length = len(comparing_string)  # Get the length of the second word or comparing word\n",
    "\n",
    "    # MAKE A 2D LIST (MATRIX)\n",
    "    dynamic_table = [[0] * (columns_length + 1) for i in range(rows_length + 1)]\n",
    "\n",
    "    # rows_length = NUMBER OF ROWS\n",
    "    # columns_length = NUMBER OF COLUMNS\n",
    "    \n",
    "    # FILL THE MATRIX FOLLOWING LCS ALGORITHM.\n",
    "    for i in range(1, rows_length + 1):\n",
    "        for j in range(1, columns_length + 1):\n",
    "            if main_string[j - 1] == comparing_string[i - 1]:\n",
    "                dynamic_table[i][j] = 1 + dynamic_table[i - 1][j - 1]\n",
    "\n",
    "            else:\n",
    "                dynamic_table[i][j] = max(dynamic_table[i - 1][j], dynamic_table[i][j - 1])\n",
    "\n",
    "#     print(\"MATRIX ACCORDING TO LONGEST COMMON SUBSEQUENCE ALGORITHM: \\n \")\n",
    "\n",
    "    # for i in range(rows_length + 1):\n",
    "    #     print(dynamic_table[i])\n",
    "\n",
    "    #print(\"LENGTH OF LONGEST COMMON SUBSEQUENCE = \", dynamic_table[rows_length][columns_length])\n",
    "\n",
    "    len_lcs = dynamic_table[rows_length][columns_length]\n",
    "\n",
    "    i = len(comparing_string)\n",
    "    j = len(main_string)\n",
    "\n",
    "    lcs_string = str()\n",
    "\n",
    "    # BACKTRACKING TO FIND THE LONGEST COMMON SUBSEQUENCE\n",
    "\n",
    "    temp = True\n",
    "\n",
    "    while temp is True:\n",
    "        if dynamic_table[i][j] == 0:\n",
    "            temp = False\n",
    "        elif dynamic_table[i][j] == dynamic_table[i][j - 1]:\n",
    "            j = j - 1\n",
    "\n",
    "        else:\n",
    "            lcs_string = main_string[j-1] + \" \" + lcs_string\n",
    "            i = i - 1\n",
    "            j = j - 1\n",
    "\n",
    "    return lcs_string, len_lcs"
   ]
  },
  {
   "cell_type": "code",
   "execution_count": null,
   "metadata": {},
   "outputs": [
    {
     "name": "stderr",
     "output_type": "stream",
     "text": [
      "train row: 276434 | overlap_pos: 2 (81.82)percent| len_lcs: 9:  12%|█▏        | 52530/439076 [5:37:02<59:14:50,  1.81it/s]"
     ]
    }
   ],
   "source": [
    "#%%\n",
    "from tqdm import tqdm\n",
    "def analay(df, mode):\n",
    "    with tqdm(total=len(df)) as pbar:\n",
    "        for i ,row in df.iterrows():       \n",
    "            overlap_pos = None\n",
    "\n",
    "            rev, summary = row['review'], row['summary']\n",
    "            rev_tokens, summary_tokens = rev.split(\" \"), summary.split(\" \")           \n",
    "            token_lcs, len_lcs = longest_common_subsequence(rev_tokens, summary_tokens)\n",
    "            percent_lcs = len_lcs / len(summary_tokens) * 100 # percent\n",
    "\n",
    "            rev_sents = rev.split(\" . \")\n",
    "            overlap_sents = {idx: longest_common_subsequence(sent.split(\" \"), summary_tokens) for idx, sent in enumerate(rev_sents)}\n",
    "            sort_overlap_sent = {k:v for k,v in sorted(overlap_sents.items(), key= lambda item: item[1], reverse=True)}\n",
    "            overlap_sent_id = list(sort_overlap_sent.items())[0][0]\n",
    "\n",
    "            if (overlap_sent_id == 0) and (percent_lcs >= 20): overlap_pos = 0 # overlap_Top \n",
    "            elif (overlap_sent_id == len(rev_tokens)-1) and (percent_lcs >= 20): overlap_pos = 1 # overlap_Final \n",
    "            elif (percent_lcs >= 20): overlap_pos = 2 # overlap_other \n",
    "            else: overlap_pos = -1 # no overlap \n",
    "\n",
    "            df.loc[i,'token_lcs'] = token_lcs\n",
    "            df.loc[i,'len_lcs'] = len_lcs\n",
    "            df.loc[i,'percent_lcs'] = percent_lcs\n",
    "            df.loc[i,'overlap_pos'] = overlap_pos\n",
    "            \n",
    "            df.loc[i,'reveiw_len'] = len(rev_tokens)\n",
    "            df.loc[i,'summary_len'] = len(summary_tokens)\n",
    "            \n",
    "            pbar.update(1)\n",
    "            pbar.set_description(\"%s row: %s | overlap_pos: %s (%2.2f)percent| len_lcs: %s\" % (mode, i, overlap_pos, percent_lcs, len_lcs))\n",
    "\n",
    "    return df\n",
    "\n",
    "train_df, val_df = analay(train_df, 'train'), analay(val_df, 'test')"
   ]
  },
  {
   "cell_type": "code",
   "execution_count": null,
   "metadata": {},
   "outputs": [],
   "source": [
    "train_df.to_excel('Analay/train_df.xlsx', encoding='utf8')\n",
    "val_df.to_excel('Analay/val_df.xlsx', encoding='utf8')"
   ]
  },
  {
   "cell_type": "code",
   "execution_count": null,
   "metadata": {},
   "outputs": [],
   "source": []
  }
 ],
 "metadata": {
  "kernelspec": {
   "display_name": "Python 3",
   "language": "python",
   "name": "python3"
  },
  "language_info": {
   "codemirror_mode": {
    "name": "ipython",
    "version": 3
   },
   "file_extension": ".py",
   "mimetype": "text/x-python",
   "name": "python",
   "nbconvert_exporter": "python",
   "pygments_lexer": "ipython3",
   "version": "3.6.7"
  }
 },
 "nbformat": 4,
 "nbformat_minor": 2
}
