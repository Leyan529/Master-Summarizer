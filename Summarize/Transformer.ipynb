{
 "cells": [
  {
   "cell_type": "code",
   "execution_count": 1,
   "metadata": {},
   "outputs": [
    {
     "name": "stderr",
     "output_type": "stream",
     "text": [
      "I0417 23:19:08.661403 139696977332032 file_utils.py:35] PyTorch version 1.4.0 available.\n",
      "2020-04-17 23:19:09 - Transformer_no_pretrain - INFO: - logger已啟動\n",
      "I0417 23:19:09.506498 139696977332032 train_util.py:146] logger已啟動\n"
     ]
    }
   ],
   "source": [
    "from utils import config, data\n",
    "from utils.batcher import *\n",
    "from utils.train_util import *\n",
    "from utils.initialize import loadCheckpoint, save_model\n",
    "\n",
    "from utils.write_result import *\n",
    "from datetime import datetime as dt\n",
    "from tqdm import tqdm\n",
    "# from beam.transormer_beam_search import *\n",
    "# from beam.transormer_beam_search_hyp_order import *\n",
    "# from beam.transormer_beam_search_beam_order import *\n",
    "from beam.transormer_beam_search_multi_order import *\n",
    "from tensorboardX import SummaryWriter\n",
    "import argparse\n",
    "from utils.rl_util import *\n",
    "from torch.distributions import Categorical\n",
    "\n",
    "import os\n",
    "os.environ[\"CUDA_VISIBLE_DEVICES\"] = \"1\"\n",
    "\n",
    "os.environ['CUDA_LAUNCH_BLOCKING'] = \"1\" \n",
    "\n",
    "parser = argparse.ArgumentParser()\n",
    "parser.add_argument('--key_attention', type=bool, default=False, help = 'True/False')# for PG\n",
    "parser.add_argument('--intra_encoder', type=bool, default=False, help = 'True/False')# for PG\n",
    "parser.add_argument('--intra_decoder', type=bool, default=False, help = 'True/False')# for PG\n",
    "parser.add_argument('--copy', type=bool, default=False, help = 'True/False') # for transformer\n",
    "parser.add_argument('--transformer', type=bool, default=True, help = 'True/False')\n",
    "parser.add_argument('--train_rl', type=bool, default=False, help = 'True/False')\n",
    "parser.add_argument('--keywords', type=str, default='POS_FOP_keywords', \n",
    "                    help = 'POS_FOP_keywords / DEP_FOP_keywords / TextRank_keywords')\n",
    "\n",
    "parser.add_argument('--lr', type=float, default=0.0001)\n",
    "parser.add_argument('--rand_unif_init_mag', type=float, default=0.02)\n",
    "parser.add_argument('--trunc_norm_init_std', type=float, default=0.001)\n",
    "parser.add_argument('--mle_weight', type=float, default=1.0)\n",
    "parser.add_argument('--gound_truth_prob', type=float, default=0.1)\n",
    "\n",
    "parser.add_argument('--max_enc_steps', type=int, default=1000)\n",
    "parser.add_argument('--max_dec_steps', type=int, default=50)\n",
    "parser.add_argument('--min_dec_steps', type=int, default=8)\n",
    "parser.add_argument('--max_epochs', type=int, default=20)\n",
    "parser.add_argument('--vocab_size', type=int, default=50000)\n",
    "parser.add_argument('--beam_size', type=int, default=16)\n",
    "parser.add_argument('--batch_size', type=int, default=8)\n",
    "\n",
    "parser.add_argument('--hidden_dim', type=int, default=512)\n",
    "parser.add_argument('--emb_dim', type=int, default=512)\n",
    "parser.add_argument('--gradient_accum', type=int, default=1)\n",
    "\n",
    "parser.add_argument('--load_ckpt', type=str, default=None, help='0002000')\n",
    "parser.add_argument('--word_emb_type', type=str, default='word2Vec', help='word2Vec/glove/FastText')\n",
    "parser.add_argument('--pre_train_emb', type=bool, default=False, help = 'True/False') # 若pre_train_emb為false, 則emb type為NoPretrain\n",
    "\n",
    "opt = parser.parse_args(args=[])\n",
    "config = re_config(opt)\n",
    "# config.copy = True\n",
    "loggerName, writerPath = getName(config)    \n",
    "logger = getLogger(loggerName)\n",
    "writer = SummaryWriter(writerPath)"
   ]
  },
  {
   "cell_type": "code",
   "execution_count": 2,
   "metadata": {},
   "outputs": [
    {
     "name": "stderr",
     "output_type": "stream",
     "text": [
      "2020-04-17 23:19:15 - Transformer_no_pretrain - INFO: - train : 37771, test : 4197\n",
      "I0417 23:19:15.827946 139696977332032 batcher.py:171] train : 37771, test : 4197\n",
      "2020-04-17 23:19:15 - Transformer_no_pretrain - INFO: - train batches : 4722, test batches : 525\n",
      "I0417 23:19:15.846394 139696977332032 batcher.py:182] train batches : 4722, test batches : 525\n"
     ]
    }
   ],
   "source": [
    "train_loader, validate_loader, vocab = getDataLoader(logger, config)"
   ]
  },
  {
   "cell_type": "code",
   "execution_count": 3,
   "metadata": {},
   "outputs": [],
   "source": [
    "from transformer import Model\n",
    "import torch.nn as nn\n",
    "import torch as T\n",
    "import torch.nn.functional as F\n",
    "from torch.nn.utils import clip_grad_norm_\n",
    "\n",
    "load_step = None\n",
    "model = Model(pre_train_emb=config.pre_train_emb, \n",
    "              word_emb_type = config.word_emb_type, \n",
    "              vocab = vocab,config=config)\n",
    "\n",
    "model = model.cuda()\n",
    "\n",
    "optimizer = T.optim.Adam(model.parameters(), lr=config.lr)   \n",
    "# optimizer = T.optim.Adagrad(model.parameters(),lr=config.lr, initial_accumulator_value=0.1)\n",
    "\n",
    "load_model_path = config.save_model_path + '/%s/%s.tar' % (logger, config.load_ckpt)\n",
    "\n",
    "if os.path.exists(load_model_path):\n",
    "    model, optimizer, load_step = loadCheckpoint(logger, load_model_path, model, optimizer)"
   ]
  },
  {
   "cell_type": "code",
   "execution_count": 4,
   "metadata": {},
   "outputs": [],
   "source": [
    "def train_one(model, config, batch):\n",
    "        ''' Calculate Negative Log Likelihood Loss for the given batch. In order to reduce exposure bias,\n",
    "                pass the previous generated token as input with a probability of 0.25 instead of ground truth label\n",
    "        Args:\n",
    "        :param enc_out: Outputs of the encoder for all time steps (batch_size, length_input_sequence, 2*hidden_size)\n",
    "        :param enc_hidden: Tuple containing final hidden state & cell state of encoder. Shape of h & c: (batch_size, hidden_size)\n",
    "        :param enc_padding_mask: Mask for encoder input; Tensor of size (batch_size, length_input_sequence) with values of 0 for pad tokens & 1 for others\n",
    "        :param ct_e: encoder context vector for time_step=0 (eq 5 in https://arxiv.org/pdf/1705.04304.pdf)\n",
    "        :param extra_zeros: Tensor used to extend vocab distribution for pointer mechanism\n",
    "        :param enc_batch_extend_vocab: Input batch that stores OOV ids\n",
    "        :param batch: batch object\n",
    "        '''\n",
    "        'Encoder data'\n",
    "        enc_batch, enc_padding_mask, enc_lens, enc_batch_extend_vocab, extra_zeros, _, \\\n",
    "        _, _, _, _= \\\n",
    "            get_input_from_batch(batch, config, batch_first = True)\n",
    "       \n",
    "        'Decoder data'\n",
    "        dec_batch, dec_padding_mask, dec_lens, max_dec_len, target_batch = \\\n",
    "        get_output_from_batch(batch, config, batch_first = True) # Get input and target batchs for training decoder\n",
    "\n",
    "#         print(enc_batch_extend_vocab)\n",
    "        pred = model(enc_batch, dec_batch, enc_padding_mask, dec_padding_mask, enc_batch_extend_vocab, extra_zeros)\n",
    "        loss = model.label_smoothing_loss(pred, target_batch)\n",
    "#         loss = model.nll_loss(pred, target_batch, dec_lens)\n",
    "#         print('loss',loss)#         \n",
    "        # >>>>>>>> DEBUG Session <<<<<<<<<\n",
    "#         print('------------------------------------')\n",
    "#         print(\"ENC\\n\")\n",
    "#         print(enc_batch.shape)\n",
    "#         print(\"DEC\\n\")\n",
    "#         print(dec_batch.shape)\n",
    "        # print(\"TGT\\n\")\n",
    "        # print(target_batch.shape)\n",
    "        # print(\"ENCP\\n\")\n",
    "        # print(enc_padding_mask.shape)\n",
    "        # print(\"DECP\\n\")\n",
    "        # print(dec_padding_mask.shape)\n",
    "        return loss\n"
   ]
  },
  {
   "cell_type": "code",
   "execution_count": 5,
   "metadata": {},
   "outputs": [],
   "source": [
    "# @torch.no_grad()\n",
    "@torch.autograd.no_grad()\n",
    "def validate(validate_loader, config, model):\n",
    "    model.eval()\n",
    "    losses = []\n",
    "#     batch = next(iter(validate_loader))\n",
    "    for batch in validate_loader:\n",
    "        loss = train_one(model, config, batch)\n",
    "        losses.append(loss.item())\n",
    "#         break\n",
    "    model.train()\n",
    "    ave_loss = sum(losses) / len(losses)\n",
    "    return ave_loss"
   ]
  },
  {
   "cell_type": "code",
   "execution_count": 6,
   "metadata": {},
   "outputs": [],
   "source": [
    "@torch.autograd.no_grad()\n",
    "def calc_running_avg_loss(loss, running_avg_loss, decay=0.99):\n",
    "    if running_avg_loss == 0:  # on the first iteration just take the loss\n",
    "        running_avg_loss = loss\n",
    "    else:\n",
    "        running_avg_loss = running_avg_loss * decay + (1 - decay) * loss\n",
    "    running_avg_loss = min(running_avg_loss, 12)  # clip\n",
    "    return running_avg_loss"
   ]
  },
  {
   "cell_type": "code",
   "execution_count": 7,
   "metadata": {},
   "outputs": [],
   "source": [
    "from random import randint\n",
    "@torch.autograd.no_grad()\n",
    "def decode(writer, logger, step, config, model, batch, mode):\n",
    "    # 動態取batch\n",
    "    model.eval()\n",
    "    model.is_predicting = True\n",
    "    if mode == 'test':\n",
    "        num = len(iter(batch))\n",
    "        select_batch = None\n",
    "        rand_b_id = randint(0,num-2)\n",
    "#         logger.info('test_batch : ' + str(num)+ ' ' + str(rand_b_id))\n",
    "        for idx, b in enumerate(batch):\n",
    "            if idx == rand_b_id:\n",
    "                select_batch = b\n",
    "                break   \n",
    "#         select_batch = iter(batch)[rand_b_id]\n",
    "#         select_batch = next(iter(batch))\n",
    "        batch = select_batch\n",
    "        if type(batch) == torch.utils.data.dataloader.DataLoader:\n",
    "            batch = next(iter(batch))\n",
    "\n",
    "#     print(batch.enc_pad_mask.shape[0])\n",
    "    pred_ids = beam_search(config, batch, model, START, END, UNKNOWN_TOKEN)\n",
    "    model.is_predicting = False\n",
    "\n",
    "    article_sents, decoded_sents, keywords_list, \\\n",
    "    ref_sents, long_seq_index = prepare_result(vocab, batch, pred_ids)\n",
    "#     print(prepare_result(vocab, batch, pred_ids))\n",
    "    rouge_1, rouge_2, rouge_l = write_rouge(writer, step, mode,article_sents, decoded_sents, \\\n",
    "                keywords_list, ref_sents, long_seq_index)\n",
    "\n",
    "    write_bleu(writer, step, mode, article_sents, decoded_sents, \\\n",
    "               keywords_list, ref_sents, long_seq_index)\n",
    "\n",
    "    write_group(writer, step, mode, article_sents, decoded_sents,\\\n",
    "                keywords_list, ref_sents, long_seq_index)\n",
    "\n",
    "    return rouge_l"
   ]
  },
  {
   "cell_type": "code",
   "execution_count": 8,
   "metadata": {},
   "outputs": [],
   "source": [
    "from random import randint\n",
    "@torch.autograd.no_grad()\n",
    "def avg_acc(writer, logger, epoch, config, model, dataloader, mode):\n",
    "    # 動態取batch\n",
    "    num = len(iter(dataloader))\n",
    "    avg_rouge_l = []\n",
    "    model.eval()\n",
    "    model.is_predicting = True\n",
    "    for idx, batch in enumerate(dataloader): \n",
    "        if batch.enc_inp.shape[0] != config.batch_size: continue\n",
    "        pred_ids = beam_search(config, batch, model, START, END, UNKNOWN_TOKEN)\n",
    "        \n",
    "        article_sents, decoded_sents, keywords_list, \\\n",
    "        ref_sents, long_seq_index = prepare_result(vocab, batch, pred_ids)\n",
    "\n",
    "        rouge_1, rouge_2, rouge_l = write_rouge(writer, None, None, article_sents, decoded_sents, \\\n",
    "                    keywords_list, ref_sents, long_seq_index, write = False)\n",
    "        avg_rouge_l.append(rouge_l)\n",
    "\n",
    "    model.is_predicting = False\n",
    "    avg_rouge_l = sum(avg_rouge_l) / num\n",
    "    writer.add_scalars('scalar_avg/acc',  \n",
    "                   {'%sing_avg_acc'%(mode): avg_rouge_l\n",
    "                   }, epoch)\n",
    "\n",
    "    return avg_rouge_l"
   ]
  },
  {
   "cell_type": "code",
   "execution_count": 9,
   "metadata": {},
   "outputs": [],
   "source": [
    "def RL(model, config, batch, greedy):    \n",
    "        '''Generate sentences from decoder entirely using sampled tokens as input. These sentences are used for ROUGE evaluation\n",
    "        Args\n",
    "        :param enc_out: Outputs of the encoder for all time steps (batch_size, length_input_sequence, 2*hidden_size)\n",
    "        :param enc_hidden: Tuple containing final hidden state & cell state of encoder. Shape of h & c: (batch_size, hidden_size)\n",
    "        :param enc_padding_mask: Mask for encoder input; Tensor of size (batch_size, length_input_sequence) with values of 0 for pad tokens & 1 for others\n",
    "        :param ct_e: encoder context vector for time_step=0 (eq 5 in https://arxiv.org/pdf/1705.04304.pdf)\n",
    "        :param extra_zeros: Tensor used to extend vocab distribution for pointer mechanism\n",
    "        :param enc_batch_extend_vocab: Input batch that stores OOV ids\n",
    "        :param article_oovs: Batch containing list of OOVs in each example\n",
    "        :param greedy: If true, performs greedy based sampling, else performs multinomial sampling\n",
    "        Returns:\n",
    "        :decoded_strs: List of decoded sentences\n",
    "        :log_probs: Log probabilities of sampled words\n",
    "        '''\n",
    "        'Encoder data'\n",
    "        enc_batch, enc_padding_mask, enc_lens, enc_batch_extend_vocab, extra_zeros, _, \\\n",
    "        _, _, _, _= \\\n",
    "            get_input_from_batch(batch, config, batch_first = True)\n",
    "\n",
    "        'Decoder data'\n",
    "        dec_batch, dec_padding_mask, dec_lens, max_dec_len, target_batch = \\\n",
    "        get_output_from_batch(batch, config, batch_first = True) # Get input and target batchs for training decoder\n",
    "        log_probs = []                          #Stores log probabilites of generated samples\n",
    "\n",
    "        probs = model(enc_batch, dec_batch, enc_padding_mask, dec_padding_mask, enc_batch_extend_vocab, extra_zeros)\n",
    "        dec_padding_mask = dec_padding_mask.eq(0).float()\n",
    "        if greedy is False:\n",
    "                multi_dist = Categorical(probs) # 建立以參數probs為標準的類別分佈\n",
    "                # perform multinomial sampling\n",
    "                inds = multi_dist.sample()  # 將下一個時間點的x_t，視為下一個action   \n",
    "                # 使用log_prob实施梯度方法 Policy Gradient，构造一个等价類別分佈的损失函数\n",
    "                log_probs = multi_dist.log_prob(inds)  \n",
    "        else:\n",
    "            # perform greedy sampling distribution\n",
    "            _, inds = T.max(probs, dim=1)  # 因greedy以機率最大進行取樣，視為其中一個action \n",
    "\n",
    "        inds = inds.detach() # detach返回的 Variable 永远不会需要梯度\n",
    "\n",
    "        if greedy is False:                                                                         #If multinomial based sampling, compute log probabilites of sampled words\n",
    "            log_probs = log_probs * dec_padding_mask # 遮罩掉為[END] or [STOP]不計算損失           #Not considering sampled words with padding mask = 0\n",
    "            lens = T.sum(dec_padding_mask, dim=1) # 計算每個sample words生成的總長度               #Length of sampled sentence\n",
    "            log_probs = T.sum(log_probs, dim=1) / lens  # 計算平均的每個句子的log loss # (bs,1)        #compute normalizied log probability of a sentence\n",
    "\n",
    "        decoded_strs = []\n",
    "        for i in range(len(enc_batch)):\n",
    "            id_list = inds[i].cpu().numpy() # 取出每個sample sentence 的word id list\n",
    "            S = output2words(id_list, vocab, batch.art_oovs[i]) #Generate sentence corresponding to sampled words\n",
    "            try:\n",
    "                end_idx = S.index(data.STOP_DECODING)\n",
    "                S = S[:end_idx]\n",
    "            except ValueError:\n",
    "                S = S\n",
    "            if len(S) < 2:          #If length of sentence is less than 2 words, replace it with \"xxx\"; Avoids setences like \".\" which throws error while calculating ROUGE\n",
    "                S = [\"xxx\"]\n",
    "            S = \" \".join(S)\n",
    "            decoded_strs.append(S)\n",
    "        return decoded_strs, log_probs"
   ]
  },
  {
   "cell_type": "code",
   "execution_count": 10,
   "metadata": {},
   "outputs": [],
   "source": [
    "def train_one_RL(model, config, batch):\n",
    "    # Self-Critical sequence training(SCST)\n",
    "    sample_sents, RL_log_probs = RL(model, config, batch, greedy=False)   # multinomial sampling\n",
    "    with T.autograd.no_grad():        \n",
    "        greedy_sents, _ = RL(model, config, batch, greedy=True)  # greedy sampling\n",
    "\n",
    "    sample_reward = reward_function(sample_sents, batch.original_abstract) # r(w^s):通过根据概率来随机sample词生成句子的reward值\n",
    "    baseline_reward = reward_function(greedy_sents, batch.original_abstract) # r(w^):测试阶段使用greedy decoding取概率最大的词来生成句子的reward值\n",
    "\n",
    "    batch_reward = T.mean(sample_reward).item()\n",
    "    #Self-critic policy gradient training (eq 15 in https://arxiv.org/pdf/1705.04304.pdf)\n",
    "    rl_loss = -(sample_reward - baseline_reward) * RL_log_probs  # SCST梯度計算公式     \n",
    "    rl_loss = T.mean(rl_loss)  \n",
    "    '''\n",
    "    公式的意思就是：对于如果当前sample到的词比测试阶段生成的词好，那么在这次词的维度上，整个式子的值就是负的（因为后面那一项一定为负），\n",
    "    这样梯度就会上升，从而提高这个词的分数st；而对于其他词，后面那一项为正，梯度就会下降，从而降低其他词的分数\n",
    "    '''                 \n",
    "    return rl_loss, batch_reward"
   ]
  },
  {
   "cell_type": "code",
   "execution_count": 11,
   "metadata": {},
   "outputs": [],
   "source": [
    "import pandas as pd\n",
    "import time\n",
    "from utils.write_result import *\n",
    "\n",
    "@torch.autograd.no_grad()\n",
    "def decode_write_all(writer, logger, epoch, config, model, dataloader, mode):\n",
    "    # 動態取batch\n",
    "    num = len(iter(dataloader))\n",
    "    avg_rouge_1, avg_rouge_2, avg_rouge_l,  = [], [], []\n",
    "    avg_bleu1, avg_bleu2, avg_bleu3, avg_bleu4 = [], [], [], []\n",
    "    outFrame = None\n",
    "    avg_time = 0\n",
    "    for idx, batch in enumerate(dataloader):\n",
    "        start = time.time() \n",
    "#         'Encoder data'\n",
    "#         enc_batch, enc_padding_mask, enc_lens, enc_batch_extend_vocab, extra_zeros, coverage, \\\n",
    "#         ct_e, enc_key_batch, enc_key_mask, enc_key_lens= \\\n",
    "#             get_input_from_batch(batch, config, batch_first = True)\n",
    "\n",
    "#         enc_batch = model.embeds(enc_batch)  # Get embeddings for encoder input    \n",
    "#         enc_key_batch = model.embeds(enc_key_batch)  # Get key embeddings for encoder input\n",
    "\n",
    "#         enc_out, enc_hidden = model.encoder(enc_batch, enc_lens)\n",
    "\n",
    "        if batch.enc_inp.shape[0] != config.batch_size: continue\n",
    "        pred_ids = beam_search(config, batch, model, START, END, UNKNOWN_TOKEN)\n",
    "        \n",
    "#         'Feed encoder data to predict'\n",
    "#         pred_ids = beam_search(enc_hidden, enc_out, enc_padding_mask, ct_e, extra_zeros, \n",
    "#                                 enc_batch_extend_vocab, enc_key_batch, enc_key_lens, model, \n",
    "#                                 START, END, UNKNOWN_TOKEN)\n",
    "\n",
    "        article_sents, decoded_sents, keywords_list, ref_sents, long_seq_index = prepare_result(vocab, batch, pred_ids)\n",
    "        cost = (time.time() - start)\n",
    "        avg_time += cost\n",
    "        logger.info('decode batch cost time : %s ms'%(cost / (config.batch_size)))        \n",
    "        # ----------------------------------------------------\n",
    "        batch_frame = {\n",
    "            'article':article_sents,\n",
    "            'keywords':keywords_list,\n",
    "            'reference':ref_sents,\n",
    "            'decoded':decoded_sents\n",
    "        }\n",
    "        batch_frame = pd.DataFrame(batch_frame)\n",
    "        if idx == 0: outFrame = batch_frame \n",
    "        else: outFrame = pd.concat([outFrame, batch_frame], axis=0, ignore_index=True) \n",
    "        # ----------------------------------------------------\n",
    "        rouge_1, rouge_2, rouge_l = write_rouge(writer, None, None, article_sents, decoded_sents, \\\n",
    "                    keywords_list, ref_sents, long_seq_index, write = False)\n",
    "        Bleu_1, Bleu_2, Bleu_3, Bleu_4 = write_bleu(writer, None, None, article_sents, decoded_sents, \\\n",
    "            keywords_list, ref_sents, long_seq_index, write = False)\n",
    "        # ----------------------------------------------------\n",
    "        avg_rouge_1.append(rouge_1)\n",
    "        avg_rouge_2.append(rouge_2)\n",
    "        avg_rouge_l.append(rouge_l)\n",
    "        \n",
    "        avg_bleu1.append(Bleu_1)\n",
    "        avg_bleu2.append(Bleu_2)\n",
    "        avg_bleu3.append(Bleu_3)\n",
    "        avg_bleu4.append(Bleu_4)\n",
    "        # ----------------------------------------------------\n",
    "    avg_rouge_1 = sum(avg_rouge_1) / num\n",
    "    avg_rouge_2 = sum(avg_rouge_2) / num\n",
    "    avg_rouge_l = sum(avg_rouge_l) / num\n",
    "    writer.add_scalars('Rouge_avg/mode',  \n",
    "                    {'avg_rouge_1': avg_rouge_1,\n",
    "                    'avg_rouge_2': avg_rouge_2,\n",
    "                    'avg_rouge_l': avg_rouge_l\n",
    "                    }, epoch)\n",
    "    # --------------------------------------               \n",
    "    avg_bleu1 = sum(avg_bleu1)/num\n",
    "    avg_bleu2 = sum(avg_bleu2)/num\n",
    "    avg_bleu3 = sum(avg_bleu3)/num\n",
    "    avg_bleu4 = sum(avg_bleu4)/num\n",
    "    \n",
    "    writer.add_scalars('BLEU_avg/mode',  \n",
    "                    {\n",
    "                    '%sing_avg_bleu1'%(mode): avg_bleu1,\n",
    "                    '%sing_avg_bleu1'%(mode): avg_bleu2,\n",
    "                    '%sing_avg_bleu1'%(mode): avg_bleu3,\n",
    "                    '%sing_avg_bleu1'%(mode): avg_bleu4,                   \n",
    "                    }, epoch)\n",
    "    # --------------------------------------      \n",
    "    outFrame.to_excel(writerPath + '/%s_output.xls'% mode)\n",
    "    avg_time = avg_time / (num * config.batch_size) \n",
    "    with open(writerPath + '/%s_res.txt'% mode, 'w', encoding='utf-8') as f:\n",
    "        f.write('Accuracy result:\\n')\n",
    "        f.write('##-- Rouge --##\\n')\n",
    "        f.write('%sing_avg_rouge_1: %s \\n'%(mode, avg_rouge_1))\n",
    "        f.write('%sing_avg_rouge_2: %s \\n'%(mode, avg_rouge_2))\n",
    "        f.write('%sing_avg_rouge_l: %s \\n'%(mode, avg_rouge_l))\n",
    "\n",
    "        f.write('##-- BLEU --##\\n')\n",
    "        f.write('%sing_avg_bleu1: %s \\n'%(mode, avg_bleu1))\n",
    "        f.write('%sing_avg_bleu2: %s \\n'%(mode, avg_bleu2))\n",
    "        f.write('%sing_avg_bleu3: %s \\n'%(mode, avg_bleu3))\n",
    "        f.write('%sing_avg_bleu4: %s \\n'%(mode, avg_bleu4))\n",
    "\n",
    "        f.write('Execute Time: %s \\n' % avg_time)        \n",
    "    # --------------------------------------              \n",
    "    return avg_rouge_l"
   ]
  },
  {
   "cell_type": "code",
   "execution_count": 12,
   "metadata": {},
   "outputs": [
    {
     "name": "stderr",
     "output_type": "stream",
     "text": [
      "2020-04-17 23:19:20 - Transformer_no_pretrain - INFO: - ------Training START--------\n",
      "I0417 23:19:20.415174 139696977332032 <ipython-input-12-855e57fc9e57>:2] ------Training START--------\n",
      "2020-04-17 23:24:39 - Transformer_no_pretrain - INFO: - epoch 0: 1000, training batch loss = 4.455187, running_avg_loss loss = 4.455187, validation loss = 4.558357\n",
      "I0417 23:24:39.946844 139696977332032 <ipython-input-12-855e57fc9e57>:44] epoch 0: 1000, training batch loss = 4.455187, running_avg_loss loss = 4.455187, validation loss = 4.558357\n"
     ]
    },
    {
     "name": "stdout",
     "output_type": "stream",
     "text": [
      "predicted_words [[181, 231], [108, 61], [122, 393], [149, 618], [24, 35], [7, 149], [181, 181], [393, 108]]\n",
      "---------------------------\n"
     ]
    },
    {
     "name": "stderr",
     "output_type": "stream",
     "text": [
      "2020-04-17 23:24:40 - Transformer_no_pretrain - INFO: - epoch 0: 1000, train_rouge_l_f = 0.007919, test_rouge_l_f = 0.034722\n",
      "I0417 23:24:40.523661 139696977332032 <ipython-input-12-855e57fc9e57>:77] epoch 0: 1000, train_rouge_l_f = 0.007919, test_rouge_l_f = 0.034722\n"
     ]
    },
    {
     "name": "stdout",
     "output_type": "stream",
     "text": [
      "predicted_words [[9, 231], [181, 231], [122, 393], [149, 618], [24, 35], [7, 108], [24, 35], [24, 35]]\n",
      "---------------------------\n"
     ]
    },
    {
     "name": "stderr",
     "output_type": "stream",
     "text": [
      "2020-04-17 23:29:43 - Transformer_no_pretrain - INFO: - epoch 0: 2000, training batch loss = 4.483906, running_avg_loss loss = 4.455474, validation loss = 4.365143\n",
      "I0417 23:29:43.283313 139696977332032 <ipython-input-12-855e57fc9e57>:44] epoch 0: 2000, training batch loss = 4.483906, running_avg_loss loss = 4.455474, validation loss = 4.365143\n"
     ]
    },
    {
     "name": "stdout",
     "output_type": "stream",
     "text": [
      "predicted_words [[4, 859], [95, 108], [149, 36], [95, 108], [108, 41], [4, 1024], [59, 181], [231, 108]]\n",
      "---------------------------\n"
     ]
    },
    {
     "name": "stderr",
     "output_type": "stream",
     "text": [
      "2020-04-17 23:29:44 - Transformer_no_pretrain - INFO: - epoch 0: 2000, train_rouge_l_f = 0.065242, test_rouge_l_f = 0.027256\n",
      "I0417 23:29:44.726134 139696977332032 <ipython-input-12-855e57fc9e57>:77] epoch 0: 2000, train_rouge_l_f = 0.065242, test_rouge_l_f = 0.027256\n"
     ]
    },
    {
     "name": "stdout",
     "output_type": "stream",
     "text": [
      "predicted_words [[59, 15], [24, 584], [24, 36], [108, 618], [181, 35], [461, 9], [181, 35], [149, 36]]\n",
      "---------------------------\n"
     ]
    },
    {
     "name": "stderr",
     "output_type": "stream",
     "text": [
      "2020-04-17 23:34:45 - Transformer_no_pretrain - INFO: - epoch 0: 3000, training batch loss = 4.060115, running_avg_loss loss = 4.451520, validation loss = 4.288501\n",
      "I0417 23:34:45.745913 139696977332032 <ipython-input-12-855e57fc9e57>:44] epoch 0: 3000, training batch loss = 4.060115, running_avg_loss loss = 4.451520, validation loss = 4.288501\n"
     ]
    },
    {
     "name": "stdout",
     "output_type": "stream",
     "text": [
      "predicted_words [[181, 149], [122, 74], [149, 25], [149, 74], [4, 15], [35, 584], [95, 15], [9, 15]]\n",
      "---------------------------\n"
     ]
    },
    {
     "name": "stderr",
     "output_type": "stream",
     "text": [
      "2020-04-17 23:34:47 - Transformer_no_pretrain - INFO: - epoch 0: 3000, train_rouge_l_f = 0.007021, test_rouge_l_f = 0.000000\n",
      "I0417 23:34:47.228489 139696977332032 <ipython-input-12-855e57fc9e57>:77] epoch 0: 3000, train_rouge_l_f = 0.007021, test_rouge_l_f = 0.000000\n"
     ]
    },
    {
     "name": "stdout",
     "output_type": "stream",
     "text": [
      "predicted_words [[35, 149], [122, 74], [149, 25], [149, 74], [338, 122], [4, 181], [338, 122], [122, 859]]\n",
      "---------------------------\n"
     ]
    },
    {
     "name": "stderr",
     "output_type": "stream",
     "text": [
      "2020-04-17 23:39:50 - Transformer_no_pretrain - INFO: - epoch 0: 4000, training batch loss = 4.376394, running_avg_loss loss = 4.450769, validation loss = 4.207910\n",
      "I0417 23:39:50.881197 139696977332032 <ipython-input-12-855e57fc9e57>:44] epoch 0: 4000, training batch loss = 4.376394, running_avg_loss loss = 4.450769, validation loss = 4.207910\n"
     ]
    },
    {
     "name": "stdout",
     "output_type": "stream",
     "text": [
      "predicted_words [[149, 584], [231, 24], [149, 584], [108, 231], [7, 24], [4, 393], [24, 9], [4, 393]]\n",
      "---------------------------\n"
     ]
    },
    {
     "name": "stderr",
     "output_type": "stream",
     "text": [
      "2020-04-17 23:39:52 - Transformer_no_pretrain - INFO: - epoch 0: 4000, train_rouge_l_f = 0.054337, test_rouge_l_f = 0.022321\n",
      "I0417 23:39:52.026126 139696977332032 <ipython-input-12-855e57fc9e57>:77] epoch 0: 4000, train_rouge_l_f = 0.054337, test_rouge_l_f = 0.022321\n"
     ]
    },
    {
     "name": "stdout",
     "output_type": "stream",
     "text": [
      "predicted_words [[149, 584], [231, 24], [181, 338], [62, 393], [4, 380], [138, 9], [62, 380], [181, 393]]\n",
      "---------------------------\n"
     ]
    },
    {
     "name": "stderr",
     "output_type": "stream",
     "text": [
      "2020-04-17 23:43:10 - Transformer_no_pretrain - INFO: - ------Training SUCCESS--------\n",
      "I0417 23:43:10.763074 139696977332032 <ipython-input-12-855e57fc9e57>:85] ------Training SUCCESS--------\n",
      "2020-04-17 23:43:10 - Transformer_no_pretrain - INFO: - ------Training END--------\n",
      "I0417 23:43:10.765010 139696977332032 <ipython-input-12-855e57fc9e57>:87] ------Training END--------\n",
      "2020-04-17 23:43:11 - Transformer_no_pretrain - INFO: - decode batch cost time : 0.033322304487228394 ms\n",
      "I0417 23:43:11.044305 139696977332032 <ipython-input-11-3340543714f4>:36] decode batch cost time : 0.033322304487228394 ms\n"
     ]
    },
    {
     "name": "stdout",
     "output_type": "stream",
     "text": [
      "predicted_words [[95, 4, 22], [62, 59, 338], [26, 1024, 114], [122, 846, 338], [26, 1024, 989], [26, 1024, 114], [22, 792, 692], [26, 99, 398]]\n",
      "---------------------------\n"
     ]
    },
    {
     "name": "stderr",
     "output_type": "stream",
     "text": [
      "2020-04-17 23:43:11 - Transformer_no_pretrain - INFO: - decode batch cost time : 0.03407987952232361 ms\n",
      "I0417 23:43:11.323662 139696977332032 <ipython-input-11-3340543714f4>:36] decode batch cost time : 0.03407987952232361 ms\n",
      "2020-04-17 23:43:11 - Transformer_no_pretrain - INFO: - decode batch cost time : 0.022511035203933716 ms\n",
      "I0417 23:43:11.519511 139696977332032 <ipython-input-11-3340543714f4>:36] decode batch cost time : 0.022511035203933716 ms\n"
     ]
    },
    {
     "name": "stdout",
     "output_type": "stream",
     "text": [
      "predicted_words [[9, 24, 22], [122, 846, 338], [181, 24, 74], [7, 9, 8], [380, 24, 22], [1024, 181, 22], [24, 380, 213], [380, 26, 398]]\n",
      "---------------------------\n",
      "predicted_words [[24, 393], [1024, 181], [1024, 181], [122, 846], [461, 4], [108, 449], [99, 4], [7, 181]]\n",
      "---------------------------\n"
     ]
    },
    {
     "name": "stderr",
     "output_type": "stream",
     "text": [
      "2020-04-17 23:43:11 - Transformer_no_pretrain - INFO: - decode batch cost time : 0.021799534559249878 ms\n",
      "I0417 23:43:11.700312 139696977332032 <ipython-input-11-3340543714f4>:36] decode batch cost time : 0.021799534559249878 ms\n",
      "2020-04-17 23:43:11 - Transformer_no_pretrain - INFO: - decode batch cost time : 0.021926462650299072 ms\n",
      "I0417 23:43:11.882220 139696977332032 <ipython-input-11-3340543714f4>:36] decode batch cost time : 0.021926462650299072 ms\n"
     ]
    },
    {
     "name": "stdout",
     "output_type": "stream",
     "text": [
      "predicted_words [[24, 393], [1024, 181], [122, 461], [122, 846], [461, 4], [108, 449], [9, 4], [7, 181]]\n",
      "---------------------------\n",
      "predicted_words [[149, 449], [1024, 181], [24, 393], [449, 181], [461, 4], [108, 449], [24, 380], [7, 181]]\n",
      "---------------------------\n"
     ]
    },
    {
     "name": "stderr",
     "output_type": "stream",
     "text": [
      "2020-04-17 23:43:12 - Transformer_no_pretrain - INFO: - decode batch cost time : 0.02264249324798584 ms\n",
      "I0417 23:43:12.079139 139696977332032 <ipython-input-11-3340543714f4>:36] decode batch cost time : 0.02264249324798584 ms\n",
      "2020-04-17 23:43:12 - Transformer_no_pretrain - INFO: - decode batch cost time : 0.022643566131591797 ms\n",
      "I0417 23:43:12.276379 139696977332032 <ipython-input-11-3340543714f4>:36] decode batch cost time : 0.022643566131591797 ms\n"
     ]
    },
    {
     "name": "stdout",
     "output_type": "stream",
     "text": [
      "predicted_words [[7, 9], [231, 108], [122, 461], [122, 846], [461, 4], [108, 449], [24, 380], [24, 393]]\n",
      "---------------------------\n",
      "predicted_words [[24, 393], [4, 393], [1024, 181], [449, 181], [122, 461], [24, 393], [99, 4], [122, 1024]]\n",
      "---------------------------\n"
     ]
    },
    {
     "name": "stderr",
     "output_type": "stream",
     "text": [
      "2020-04-17 23:43:12 - Transformer_no_pretrain - INFO: - decode batch cost time : 0.023053616285324097 ms\n",
      "I0417 23:43:12.475572 139696977332032 <ipython-input-11-3340543714f4>:36] decode batch cost time : 0.023053616285324097 ms\n",
      "2020-04-17 23:43:12 - Transformer_no_pretrain - INFO: - decode batch cost time : 0.022365272045135498 ms\n",
      "I0417 23:43:12.660346 139696977332032 <ipython-input-11-3340543714f4>:36] decode batch cost time : 0.022365272045135498 ms\n"
     ]
    },
    {
     "name": "stdout",
     "output_type": "stream",
     "text": [
      "predicted_words [[24, 393], [1024, 181], [1024, 181], [449, 181], [461, 4], [108, 449], [9, 4], [7, 181]]\n",
      "---------------------------\n",
      "predicted_words [[24, 393], [449, 181], [1024, 181], [449, 181], [461, 4], [108, 449], [99, 4], [7, 181]]\n",
      "---------------------------\n"
     ]
    },
    {
     "name": "stderr",
     "output_type": "stream",
     "text": [
      "2020-04-17 23:43:12 - Transformer_no_pretrain - INFO: - decode batch cost time : 0.03422549366950989 ms\n",
      "I0417 23:43:12.940170 139696977332032 <ipython-input-11-3340543714f4>:36] decode batch cost time : 0.03422549366950989 ms\n"
     ]
    },
    {
     "name": "stdout",
     "output_type": "stream",
     "text": [
      "predicted_words [[231, 9, 16], [1024, 149, 8], [26, 1024, 989], [461, 4, 229], [26, 1024, 114], [231, 4, 22], [461, 149, 301], [7, 149, 301]]\n",
      "---------------------------\n"
     ]
    },
    {
     "name": "stderr",
     "output_type": "stream",
     "text": [
      "2020-04-17 23:43:13 - Transformer_no_pretrain - INFO: - decode batch cost time : 0.03245851397514343 ms\n",
      "I0417 23:43:13.207071 139696977332032 <ipython-input-11-3340543714f4>:36] decode batch cost time : 0.03245851397514343 ms\n"
     ]
    },
    {
     "name": "stdout",
     "output_type": "stream",
     "text": [
      "predicted_words [[231, 149, 79], [26, 1317, 22], [26, 1024, 989], [461, 4, 26], [99, 149, 22], [26, 1024, 114], [22, 223, 112], [15, 122, 69]]\n",
      "---------------------------\n"
     ]
    },
    {
     "name": "stderr",
     "output_type": "stream",
     "text": [
      "2020-04-17 23:43:13 - Transformer_no_pretrain - INFO: - decode batch cost time : 0.031183958053588867 ms\n",
      "I0417 23:43:13.463965 139696977332032 <ipython-input-11-3340543714f4>:36] decode batch cost time : 0.031183958053588867 ms\n",
      "2020-04-17 23:43:13 - Transformer_no_pretrain - INFO: - decode batch cost time : 0.022157728672027588 ms\n",
      "I0417 23:43:13.648489 139696977332032 <ipython-input-11-3340543714f4>:36] decode batch cost time : 0.022157728672027588 ms\n"
     ]
    },
    {
     "name": "stdout",
     "output_type": "stream",
     "text": [
      "predicted_words [[26, 1317, 229], [22, 461, 353], [26, 1024, 989], [461, 4, 26], [380, 24, 22], [22, 792, 42], [22, 223, 112], [26, 1024, 74]]\n",
      "---------------------------\n",
      "predicted_words [[24, 393], [1024, 181], [1024, 181], [1024, 181], [231, 9], [24, 393], [15, 4], [7, 181]]\n",
      "---------------------------\n"
     ]
    },
    {
     "name": "stderr",
     "output_type": "stream",
     "text": [
      "2020-04-17 23:43:13 - Transformer_no_pretrain - INFO: - decode batch cost time : 0.022308349609375 ms\n",
      "I0417 23:43:13.834238 139696977332032 <ipython-input-11-3340543714f4>:36] decode batch cost time : 0.022308349609375 ms\n",
      "2020-04-17 23:43:14 - Transformer_no_pretrain - INFO: - decode batch cost time : 0.02228894829750061 ms\n",
      "I0417 23:43:14.019715 139696977332032 <ipython-input-11-3340543714f4>:36] decode batch cost time : 0.02228894829750061 ms\n"
     ]
    },
    {
     "name": "stdout",
     "output_type": "stream",
     "text": [
      "predicted_words [[24, 393], [1024, 181], [1024, 181], [449, 181], [122, 461], [108, 449], [99, 4], [7, 181]]\n",
      "---------------------------\n",
      "predicted_words [[24, 393], [108, 74], [1024, 181], [449, 181], [461, 4], [108, 449], [99, 4], [7, 181]]\n",
      "---------------------------\n"
     ]
    },
    {
     "name": "stderr",
     "output_type": "stream",
     "text": [
      "2020-04-17 23:43:14 - Transformer_no_pretrain - INFO: - decode batch cost time : 0.023288846015930176 ms\n",
      "I0417 23:43:14.213420 139696977332032 <ipython-input-11-3340543714f4>:36] decode batch cost time : 0.023288846015930176 ms\n",
      "2020-04-17 23:43:14 - Transformer_no_pretrain - INFO: - decode batch cost time : 0.022032856941223145 ms\n",
      "I0417 23:43:14.396546 139696977332032 <ipython-input-11-3340543714f4>:36] decode batch cost time : 0.022032856941223145 ms\n"
     ]
    },
    {
     "name": "stdout",
     "output_type": "stream",
     "text": [
      "predicted_words [[149, 449], [1024, 181], [24, 393], [231, 149], [1024, 9], [108, 449], [122, 461], [7, 181]]\n",
      "---------------------------\n",
      "predicted_words [[7, 9], [1024, 181], [24, 393], [99, 181], [461, 4], [108, 449], [15, 4], [24, 393]]\n",
      "---------------------------\n"
     ]
    },
    {
     "name": "stderr",
     "output_type": "stream",
     "text": [
      "2020-04-17 23:43:14 - Transformer_no_pretrain - INFO: - decode batch cost time : 0.022154420614242554 ms\n",
      "I0417 23:43:14.580630 139696977332032 <ipython-input-11-3340543714f4>:36] decode batch cost time : 0.022154420614242554 ms\n",
      "2020-04-17 23:43:14 - Transformer_no_pretrain - INFO: - decode batch cost time : 0.021963000297546387 ms\n",
      "I0417 23:43:14.763367 139696977332032 <ipython-input-11-3340543714f4>:36] decode batch cost time : 0.021963000297546387 ms\n"
     ]
    },
    {
     "name": "stdout",
     "output_type": "stream",
     "text": [
      "predicted_words [[231, 9], [24, 393], [122, 461], [122, 846], [461, 4], [24, 393], [24, 380], [24, 393]]\n",
      "---------------------------\n",
      "predicted_words [[7, 9], [1024, 181], [24, 393], [99, 181], [461, 4], [108, 449], [24, 380], [24, 393]]\n",
      "---------------------------\n"
     ]
    },
    {
     "name": "stderr",
     "output_type": "stream",
     "text": [
      "2020-04-17 23:43:14 - Transformer_no_pretrain - INFO: - decode batch cost time : 0.022188544273376465 ms\n",
      "I0417 23:43:14.947910 139696977332032 <ipython-input-11-3340543714f4>:36] decode batch cost time : 0.022188544273376465 ms\n",
      "2020-04-17 23:43:15 - Transformer_no_pretrain - INFO: - decode batch cost time : 0.02220788598060608 ms\n",
      "I0417 23:43:15.131824 139696977332032 <ipython-input-11-3340543714f4>:36] decode batch cost time : 0.02220788598060608 ms\n"
     ]
    },
    {
     "name": "stdout",
     "output_type": "stream",
     "text": [
      "predicted_words [[149, 449], [1024, 181], [122, 461], [122, 846], [461, 4], [108, 449], [24, 380], [7, 181]]\n",
      "---------------------------\n",
      "predicted_words [[149, 449], [4, 393], [122, 461], [122, 846], [461, 4], [108, 449], [9, 4], [7, 181]]\n",
      "---------------------------\n"
     ]
    },
    {
     "name": "stderr",
     "output_type": "stream",
     "text": [
      "2020-04-17 23:43:15 - Transformer_no_pretrain - INFO: - decode batch cost time : 0.024164289236068726 ms\n",
      "I0417 23:43:15.332349 139696977332032 <ipython-input-11-3340543714f4>:36] decode batch cost time : 0.024164289236068726 ms\n",
      "2020-04-17 23:43:15 - Transformer_no_pretrain - INFO: - decode batch cost time : 0.022129297256469727 ms\n",
      "I0417 23:43:15.516155 139696977332032 <ipython-input-11-3340543714f4>:36] decode batch cost time : 0.022129297256469727 ms\n"
     ]
    },
    {
     "name": "stdout",
     "output_type": "stream",
     "text": [
      "predicted_words [[149, 449], [4, 393], [122, 461], [122, 846], [461, 4], [108, 449], [9, 4], [7, 181]]\n",
      "---------------------------\n",
      "predicted_words [[24, 393], [449, 181], [24, 393], [449, 181], [461, 4], [449, 181], [15, 4], [7, 181]]\n",
      "---------------------------\n"
     ]
    },
    {
     "name": "stderr",
     "output_type": "stream",
     "text": [
      "2020-04-17 23:43:15 - Transformer_no_pretrain - INFO: - decode batch cost time : 0.022443681955337524 ms\n",
      "I0417 23:43:15.702580 139696977332032 <ipython-input-11-3340543714f4>:36] decode batch cost time : 0.022443681955337524 ms\n",
      "2020-04-17 23:43:15 - Transformer_no_pretrain - INFO: - decode batch cost time : 0.021887898445129395 ms\n",
      "I0417 23:43:15.884545 139696977332032 <ipython-input-11-3340543714f4>:36] decode batch cost time : 0.021887898445129395 ms\n"
     ]
    },
    {
     "name": "stdout",
     "output_type": "stream",
     "text": [
      "predicted_words [[24, 393], [449, 181], [24, 393], [122, 846], [461, 4], [24, 393], [15, 4], [7, 181]]\n",
      "---------------------------\n",
      "predicted_words [[24, 393], [1024, 181], [122, 461], [122, 846], [461, 4], [108, 449], [9, 4], [7, 181]]\n",
      "---------------------------\n"
     ]
    },
    {
     "name": "stderr",
     "output_type": "stream",
     "text": [
      "2020-04-17 23:43:16 - Transformer_no_pretrain - INFO: - decode batch cost time : 0.02459612488746643 ms\n",
      "I0417 23:43:16.087885 139696977332032 <ipython-input-11-3340543714f4>:36] decode batch cost time : 0.02459612488746643 ms\n",
      "2020-04-17 23:43:16 - Transformer_no_pretrain - INFO: - decode batch cost time : 0.02187204360961914 ms\n",
      "I0417 23:43:16.269624 139696977332032 <ipython-input-11-3340543714f4>:36] decode batch cost time : 0.02187204360961914 ms\n"
     ]
    },
    {
     "name": "stdout",
     "output_type": "stream",
     "text": [
      "predicted_words [[149, 449], [449, 181], [122, 461], [122, 846], [461, 4], [108, 449], [24, 380], [449, 181]]\n",
      "---------------------------\n",
      "predicted_words [[149, 449], [449, 181], [122, 461], [122, 846], [461, 4], [108, 449], [24, 380], [7, 181]]\n",
      "---------------------------\n"
     ]
    },
    {
     "name": "stderr",
     "output_type": "stream",
     "text": [
      "2020-04-17 23:43:16 - Transformer_no_pretrain - INFO: - decode batch cost time : 0.02242302894592285 ms\n",
      "I0417 23:43:16.457720 139696977332032 <ipython-input-11-3340543714f4>:36] decode batch cost time : 0.02242302894592285 ms\n",
      "2020-04-17 23:43:16 - Transformer_no_pretrain - INFO: - decode batch cost time : 0.023708611726760864 ms\n",
      "I0417 23:43:16.654205 139696977332032 <ipython-input-11-3340543714f4>:36] decode batch cost time : 0.023708611726760864 ms\n"
     ]
    },
    {
     "name": "stdout",
     "output_type": "stream",
     "text": [
      "predicted_words [[149, 449], [4, 393], [1024, 181], [461, 9], [461, 4], [99, 9], [231, 4], [7, 181]]\n",
      "---------------------------\n",
      "predicted_words [[24, 393], [4, 393], [1024, 181], [461, 9], [461, 4], [99, 9], [9, 4], [449, 181]]\n",
      "---------------------------\n"
     ]
    },
    {
     "name": "stderr",
     "output_type": "stream",
     "text": [
      "2020-04-17 23:43:16 - Transformer_no_pretrain - INFO: - decode batch cost time : 0.021816879510879517 ms\n",
      "I0417 23:43:16.835894 139696977332032 <ipython-input-11-3340543714f4>:36] decode batch cost time : 0.021816879510879517 ms\n",
      "2020-04-17 23:43:17 - Transformer_no_pretrain - INFO: - decode batch cost time : 0.02201703190803528 ms\n",
      "I0417 23:43:17.018843 139696977332032 <ipython-input-11-3340543714f4>:36] decode batch cost time : 0.02201703190803528 ms\n"
     ]
    },
    {
     "name": "stdout",
     "output_type": "stream",
     "text": [
      "predicted_words [[149, 449], [449, 181], [24, 393], [449, 181], [122, 461], [108, 449], [99, 4], [7, 181]]\n",
      "---------------------------\n",
      "predicted_words [[24, 393], [4, 393], [1024, 181], [122, 846], [461, 4], [99, 9], [9, 4], [7, 181]]\n",
      "---------------------------\n"
     ]
    },
    {
     "name": "stderr",
     "output_type": "stream",
     "text": [
      "2020-04-17 23:43:17 - Transformer_no_pretrain - INFO: - decode batch cost time : 0.02296966314315796 ms\n",
      "I0417 23:43:17.229155 139696977332032 <ipython-input-11-3340543714f4>:36] decode batch cost time : 0.02296966314315796 ms\n",
      "2020-04-17 23:43:17 - Transformer_no_pretrain - INFO: - decode batch cost time : 0.023617833852767944 ms\n",
      "I0417 23:43:17.425040 139696977332032 <ipython-input-11-3340543714f4>:36] decode batch cost time : 0.023617833852767944 ms\n"
     ]
    },
    {
     "name": "stdout",
     "output_type": "stream",
     "text": [
      "predicted_words [[149, 449], [4, 393], [1024, 181], [122, 846], [461, 4], [108, 449], [9, 4], [449, 181]]\n",
      "---------------------------\n",
      "predicted_words [[24, 393], [1024, 181], [1024, 181], [122, 846], [461, 4], [108, 449], [9, 4], [7, 181]]\n",
      "---------------------------\n"
     ]
    },
    {
     "name": "stderr",
     "output_type": "stream",
     "text": [
      "2020-04-17 23:43:17 - Transformer_no_pretrain - INFO: - decode batch cost time : 0.03209522366523743 ms\n",
      "I0417 23:43:17.687878 139696977332032 <ipython-input-11-3340543714f4>:36] decode batch cost time : 0.03209522366523743 ms\n"
     ]
    },
    {
     "name": "stdout",
     "output_type": "stream",
     "text": [
      "predicted_words [[26, 1024, 989], [26, 1024, 989], [26, 1024, 989], [181, 393], [149, 449, 8], [231, 4, 22], [122, 461, 8], [108, 62, 22]]\n",
      "---------------------------\n"
     ]
    },
    {
     "name": "stderr",
     "output_type": "stream",
     "text": [
      "2020-04-17 23:43:17 - Transformer_no_pretrain - INFO: - decode batch cost time : 0.03317838907241821 ms\n",
      "I0417 23:43:17.963646 139696977332032 <ipython-input-11-3340543714f4>:36] decode batch cost time : 0.03317838907241821 ms\n"
     ]
    },
    {
     "name": "stdout",
     "output_type": "stream",
     "text": [
      "predicted_words [[149, 449, 338], [26, 1024, 989], [26, 99, 846], [181, 393], [1024, 26, 692], [26, 1024, 114], [122, 461, 8], [108, 62, 22]]\n",
      "---------------------------\n"
     ]
    },
    {
     "name": "stderr",
     "output_type": "stream",
     "text": [
      "2020-04-17 23:43:18 - Transformer_no_pretrain - INFO: - decode batch cost time : 0.03602278232574463 ms\n",
      "I0417 23:43:18.258972 139696977332032 <ipython-input-11-3340543714f4>:36] decode batch cost time : 0.03602278232574463 ms\n",
      "2020-04-17 23:43:18 - Transformer_no_pretrain - INFO: - decode batch cost time : 0.02182447910308838 ms\n",
      "I0417 23:43:18.441187 139696977332032 <ipython-input-11-3340543714f4>:36] decode batch cost time : 0.02182447910308838 ms\n"
     ]
    },
    {
     "name": "stdout",
     "output_type": "stream",
     "text": [
      "predicted_words [[149, 449], [26, 1024, 989], [1024, 122, 792], [181, 59, 229], [122, 99, 90], [62, 59, 22], [181, 26, 99], [108, 62, 22]]\n",
      "---------------------------\n",
      "predicted_words [[24, 393], [4, 393], [24, 393], [449, 181], [461, 4], [99, 4], [99, 4], [108, 74]]\n",
      "---------------------------\n"
     ]
    },
    {
     "name": "stderr",
     "output_type": "stream",
     "text": [
      "2020-04-17 23:43:18 - Transformer_no_pretrain - INFO: - decode batch cost time : 0.021840721368789673 ms\n",
      "I0417 23:43:18.621960 139696977332032 <ipython-input-11-3340543714f4>:36] decode batch cost time : 0.021840721368789673 ms\n",
      "2020-04-17 23:43:18 - Transformer_no_pretrain - INFO: - decode batch cost time : 0.022512346506118774 ms\n",
      "I0417 23:43:18.808792 139696977332032 <ipython-input-11-3340543714f4>:36] decode batch cost time : 0.022512346506118774 ms\n"
     ]
    },
    {
     "name": "stdout",
     "output_type": "stream",
     "text": [
      "predicted_words [[24, 393], [24, 393], [1024, 181], [122, 846], [461, 4], [108, 449], [9, 4], [7, 181]]\n",
      "---------------------------\n",
      "predicted_words [[24, 393], [24, 393], [1024, 181], [122, 846], [461, 4], [108, 449], [9, 4], [7, 181]]\n",
      "---------------------------\n"
     ]
    },
    {
     "name": "stderr",
     "output_type": "stream",
     "text": [
      "2020-04-17 23:43:18 - Transformer_no_pretrain - INFO: - decode batch cost time : 0.022366076707839966 ms\n",
      "I0417 23:43:18.994368 139696977332032 <ipython-input-11-3340543714f4>:36] decode batch cost time : 0.022366076707839966 ms\n",
      "2020-04-17 23:43:19 - Transformer_no_pretrain - INFO: - decode batch cost time : 0.021854281425476074 ms\n",
      "I0417 23:43:19.175946 139696977332032 <ipython-input-11-3340543714f4>:36] decode batch cost time : 0.021854281425476074 ms\n"
     ]
    },
    {
     "name": "stdout",
     "output_type": "stream",
     "text": [
      "predicted_words [[24, 393], [1024, 181], [1024, 181], [122, 846], [461, 4], [108, 449], [9, 4], [7, 181]]\n",
      "---------------------------\n",
      "predicted_words [[24, 393], [4, 393], [1024, 181], [122, 846], [461, 4], [108, 449], [9, 4], [7, 181]]\n",
      "---------------------------\n"
     ]
    },
    {
     "name": "stderr",
     "output_type": "stream",
     "text": [
      "2020-04-17 23:43:19 - Transformer_no_pretrain - INFO: - decode batch cost time : 0.022685110569000244 ms\n",
      "I0417 23:43:19.368910 139696977332032 <ipython-input-11-3340543714f4>:36] decode batch cost time : 0.022685110569000244 ms\n",
      "2020-04-17 23:43:19 - Transformer_no_pretrain - INFO: - decode batch cost time : 0.021946847438812256 ms\n",
      "I0417 23:43:19.551614 139696977332032 <ipython-input-11-3340543714f4>:36] decode batch cost time : 0.021946847438812256 ms\n"
     ]
    },
    {
     "name": "stdout",
     "output_type": "stream",
     "text": [
      "predicted_words [[24, 393], [449, 181], [1024, 181], [122, 846], [461, 4], [108, 449], [9, 4], [449, 181]]\n",
      "---------------------------\n",
      "predicted_words [[149, 449], [449, 181], [122, 461], [122, 846], [461, 4], [108, 449], [9, 4], [7, 181]]\n",
      "---------------------------\n"
     ]
    },
    {
     "name": "stderr",
     "output_type": "stream",
     "text": [
      "2020-04-17 23:43:19 - Transformer_no_pretrain - INFO: - decode batch cost time : 0.022296786308288574 ms\n",
      "I0417 23:43:19.736551 139696977332032 <ipython-input-11-3340543714f4>:36] decode batch cost time : 0.022296786308288574 ms\n",
      "2020-04-17 23:43:19 - Transformer_no_pretrain - INFO: - decode batch cost time : 0.02350631356239319 ms\n",
      "I0417 23:43:19.931356 139696977332032 <ipython-input-11-3340543714f4>:36] decode batch cost time : 0.02350631356239319 ms\n"
     ]
    },
    {
     "name": "stdout",
     "output_type": "stream",
     "text": [
      "predicted_words [[149, 449], [449, 181], [122, 461], [122, 846], [461, 4], [108, 449], [9, 4], [7, 181]]\n",
      "---------------------------\n",
      "predicted_words [[149, 449], [449, 181], [122, 461], [122, 846], [461, 4], [108, 449], [9, 4], [7, 181]]\n",
      "---------------------------\n"
     ]
    },
    {
     "name": "stderr",
     "output_type": "stream",
     "text": [
      "2020-04-17 23:43:20 - Transformer_no_pretrain - INFO: - decode batch cost time : 0.022551387548446655 ms\n",
      "I0417 23:43:20.118660 139696977332032 <ipython-input-11-3340543714f4>:36] decode batch cost time : 0.022551387548446655 ms\n",
      "2020-04-17 23:43:20 - Transformer_no_pretrain - INFO: - decode batch cost time : 0.022412121295928955 ms\n",
      "I0417 23:43:20.305031 139696977332032 <ipython-input-11-3340543714f4>:36] decode batch cost time : 0.022412121295928955 ms\n"
     ]
    },
    {
     "name": "stdout",
     "output_type": "stream",
     "text": [
      "predicted_words [[24, 393], [231, 149], [24, 393], [122, 846], [461, 4], [99, 4], [99, 4], [1024, 181]]\n",
      "---------------------------\n",
      "predicted_words [[24, 393], [231, 149], [24, 393], [122, 846], [461, 4], [99, 4], [99, 4], [7, 181]]\n",
      "---------------------------\n"
     ]
    },
    {
     "name": "stderr",
     "output_type": "stream",
     "text": [
      "2020-04-17 23:43:20 - Transformer_no_pretrain - INFO: - decode batch cost time : 0.02255880832672119 ms\n",
      "I0417 23:43:20.492489 139696977332032 <ipython-input-11-3340543714f4>:36] decode batch cost time : 0.02255880832672119 ms\n",
      "2020-04-17 23:43:20 - Transformer_no_pretrain - INFO: - decode batch cost time : 0.02215510606765747 ms\n",
      "I0417 23:43:20.676626 139696977332032 <ipython-input-11-3340543714f4>:36] decode batch cost time : 0.02215510606765747 ms\n"
     ]
    },
    {
     "name": "stdout",
     "output_type": "stream",
     "text": [
      "predicted_words [[7, 9], [449, 181], [122, 461], [122, 846], [461, 4], [108, 449], [9, 4], [449, 181]]\n",
      "---------------------------\n",
      "predicted_words [[7, 9], [449, 181], [122, 461], [122, 846], [461, 4], [108, 449], [9, 4], [449, 181]]\n",
      "---------------------------\n"
     ]
    },
    {
     "name": "stderr",
     "output_type": "stream",
     "text": [
      "2020-04-17 23:43:20 - Transformer_no_pretrain - INFO: - decode batch cost time : 0.02287033200263977 ms\n",
      "I0417 23:43:20.866788 139696977332032 <ipython-input-11-3340543714f4>:36] decode batch cost time : 0.02287033200263977 ms\n",
      "2020-04-17 23:43:21 - Transformer_no_pretrain - INFO: - decode batch cost time : 0.02194112539291382 ms\n",
      "I0417 23:43:21.049031 139696977332032 <ipython-input-11-3340543714f4>:36] decode batch cost time : 0.02194112539291382 ms\n"
     ]
    },
    {
     "name": "stdout",
     "output_type": "stream",
     "text": [
      "predicted_words [[7, 9], [449, 181], [122, 461], [122, 846], [461, 4], [108, 449], [24, 380], [24, 393]]\n",
      "---------------------------\n",
      "predicted_words [[108, 449], [122, 846], [24, 393], [122, 846], [461, 4], [108, 449], [24, 380], [7, 181]]\n",
      "---------------------------\n"
     ]
    },
    {
     "name": "stderr",
     "output_type": "stream",
     "text": [
      "2020-04-17 23:43:21 - Transformer_no_pretrain - INFO: - decode batch cost time : 0.023923367261886597 ms\n",
      "I0417 23:43:21.247439 139696977332032 <ipython-input-11-3340543714f4>:36] decode batch cost time : 0.023923367261886597 ms\n",
      "2020-04-17 23:43:21 - Transformer_no_pretrain - INFO: - decode batch cost time : 0.02243483066558838 ms\n",
      "I0417 23:43:21.433492 139696977332032 <ipython-input-11-3340543714f4>:36] decode batch cost time : 0.02243483066558838 ms\n"
     ]
    },
    {
     "name": "stdout",
     "output_type": "stream",
     "text": [
      "predicted_words [[108, 449], [122, 846], [24, 393], [122, 846], [461, 4], [108, 449], [99, 4], [7, 181]]\n",
      "---------------------------\n",
      "predicted_words [[108, 449], [122, 846], [24, 393], [122, 846], [461, 4], [108, 449], [99, 4], [7, 181]]\n",
      "---------------------------\n"
     ]
    },
    {
     "name": "stderr",
     "output_type": "stream",
     "text": [
      "2020-04-17 23:43:21 - Transformer_no_pretrain - INFO: - decode batch cost time : 0.02367451786994934 ms\n",
      "I0417 23:43:21.629129 139696977332032 <ipython-input-11-3340543714f4>:36] decode batch cost time : 0.02367451786994934 ms\n",
      "2020-04-17 23:43:21 - Transformer_no_pretrain - INFO: - decode batch cost time : 0.02403971552848816 ms\n",
      "I0417 23:43:21.828502 139696977332032 <ipython-input-11-3340543714f4>:36] decode batch cost time : 0.02403971552848816 ms\n"
     ]
    },
    {
     "name": "stdout",
     "output_type": "stream",
     "text": [
      "predicted_words [[24, 393], [122, 846], [24, 393], [122, 846], [461, 4], [108, 449], [99, 4], [7, 181]]\n",
      "---------------------------\n",
      "predicted_words [[24, 393], [4, 393], [24, 393], [449, 181], [461, 4], [108, 449], [99, 4], [7, 181]]\n",
      "---------------------------\n"
     ]
    },
    {
     "name": "stderr",
     "output_type": "stream",
     "text": [
      "2020-04-17 23:43:22 - Transformer_no_pretrain - INFO: - decode batch cost time : 0.02305331826210022 ms\n",
      "I0417 23:43:22.020200 139696977332032 <ipython-input-11-3340543714f4>:36] decode batch cost time : 0.02305331826210022 ms\n",
      "2020-04-17 23:43:22 - Transformer_no_pretrain - INFO: - decode batch cost time : 0.022641897201538086 ms\n",
      "I0417 23:43:22.208636 139696977332032 <ipython-input-11-3340543714f4>:36] decode batch cost time : 0.022641897201538086 ms\n"
     ]
    },
    {
     "name": "stdout",
     "output_type": "stream",
     "text": [
      "predicted_words [[24, 393], [1024, 181], [1024, 181], [122, 846], [461, 4], [108, 449], [9, 4], [7, 181]]\n",
      "---------------------------\n",
      "predicted_words [[24, 393], [4, 393], [1024, 181], [122, 846], [461, 4], [108, 449], [9, 4], [7, 181]]\n",
      "---------------------------\n"
     ]
    },
    {
     "name": "stderr",
     "output_type": "stream",
     "text": [
      "2020-04-17 23:43:22 - Transformer_no_pretrain - INFO: - decode batch cost time : 0.03391346335411072 ms\n",
      "I0417 23:43:22.487273 139696977332032 <ipython-input-11-3340543714f4>:36] decode batch cost time : 0.03391346335411072 ms\n"
     ]
    },
    {
     "name": "stdout",
     "output_type": "stream",
     "text": [
      "predicted_words [[149, 449, 338], [1024, 108, 8], [149, 449, 338], [122, 99, 847], [461, 9, 213], [26, 1024, 114], [22, 223, 692], [26, 1024, 114]]\n",
      "---------------------------\n"
     ]
    },
    {
     "name": "stderr",
     "output_type": "stream",
     "text": [
      "2020-04-17 23:43:22 - Transformer_no_pretrain - INFO: - decode batch cost time : 0.032460421323776245 ms\n",
      "I0417 23:43:22.754537 139696977332032 <ipython-input-11-3340543714f4>:36] decode batch cost time : 0.032460421323776245 ms\n"
     ]
    },
    {
     "name": "stdout",
     "output_type": "stream",
     "text": [
      "predicted_words [[380, 24, 8], [22, 99, 36], [181, 59, 74], [171, 149, 8], [461, 181, 213], [62, 59, 22], [22, 792, 692], [449, 149, 22]]\n",
      "---------------------------\n"
     ]
    },
    {
     "name": "stderr",
     "output_type": "stream",
     "text": [
      "2020-04-17 23:43:23 - Transformer_no_pretrain - INFO: - decode batch cost time : 0.03193545341491699 ms\n",
      "I0417 23:43:23.016944 139696977332032 <ipython-input-11-3340543714f4>:36] decode batch cost time : 0.03193545341491699 ms\n"
     ]
    },
    {
     "name": "stdout",
     "output_type": "stream",
     "text": [
      "predicted_words [[122, 95, 285], [62, 26, 23], [26, 1024, 989], [26, 1024, 45], [22, 223, 692], [7, 149, 22], [22, 792, 692], [1024, 181, 338]]\n",
      "---------------------------\n"
     ]
    },
    {
     "name": "stderr",
     "output_type": "stream",
     "text": [
      "2020-04-17 23:43:23 - Transformer_no_pretrain - INFO: - decode batch cost time : 0.025068670511245728 ms\n",
      "I0417 23:43:23.225357 139696977332032 <ipython-input-11-3340543714f4>:36] decode batch cost time : 0.025068670511245728 ms\n",
      "2020-04-17 23:43:23 - Transformer_no_pretrain - INFO: - decode batch cost time : 0.022458702325820923 ms\n",
      "I0417 23:43:23.411324 139696977332032 <ipython-input-11-3340543714f4>:36] decode batch cost time : 0.022458702325820923 ms\n"
     ]
    },
    {
     "name": "stdout",
     "output_type": "stream",
     "text": [
      "predicted_words [[24, 393], [1024, 181], [1024, 181], [449, 181], [461, 4], [108, 449], [99, 4], [7, 181]]\n",
      "---------------------------\n",
      "predicted_words [[24, 393], [4, 393], [122, 461], [122, 846], [461, 4], [108, 449], [9, 4], [7, 181]]\n",
      "---------------------------\n"
     ]
    },
    {
     "name": "stderr",
     "output_type": "stream",
     "text": [
      "2020-04-17 23:43:23 - Transformer_no_pretrain - INFO: - decode batch cost time : 0.022308707237243652 ms\n",
      "I0417 23:43:23.596126 139696977332032 <ipython-input-11-3340543714f4>:36] decode batch cost time : 0.022308707237243652 ms\n",
      "2020-04-17 23:43:23 - Transformer_no_pretrain - INFO: - decode batch cost time : 0.022490888833999634 ms\n",
      "I0417 23:43:23.782602 139696977332032 <ipython-input-11-3340543714f4>:36] decode batch cost time : 0.022490888833999634 ms\n"
     ]
    },
    {
     "name": "stdout",
     "output_type": "stream",
     "text": [
      "predicted_words [[24, 393], [4, 393], [1024, 181], [122, 846], [461, 4], [108, 449], [9, 4], [7, 181]]\n",
      "---------------------------\n",
      "predicted_words [[24, 393], [1024, 181], [24, 393], [449, 181], [461, 4], [7, 4], [24, 380], [122, 846]]\n",
      "---------------------------\n"
     ]
    },
    {
     "name": "stderr",
     "output_type": "stream",
     "text": [
      "2020-04-17 23:43:23 - Transformer_no_pretrain - INFO: - decode batch cost time : 0.022061437368392944 ms\n",
      "I0417 23:43:23.966179 139696977332032 <ipython-input-11-3340543714f4>:36] decode batch cost time : 0.022061437368392944 ms\n"
     ]
    },
    {
     "name": "stdout",
     "output_type": "stream",
     "text": [
      "predicted_words [[24, 393], [122, 846], [24, 393], [449, 181], [461, 4], [108, 449], [99, 4], [7, 181]]\n",
      "---------------------------\n"
     ]
    },
    {
     "name": "stderr",
     "output_type": "stream",
     "text": [
      "2020-04-17 23:43:24 - Transformer_no_pretrain - INFO: - decode batch cost time : 0.023385316133499146 ms\n",
      "I0417 23:43:24.173799 139696977332032 <ipython-input-11-3340543714f4>:36] decode batch cost time : 0.023385316133499146 ms\n",
      "2020-04-17 23:43:24 - Transformer_no_pretrain - INFO: - decode batch cost time : 0.02209332585334778 ms\n",
      "I0417 23:43:24.358018 139696977332032 <ipython-input-11-3340543714f4>:36] decode batch cost time : 0.02209332585334778 ms\n"
     ]
    },
    {
     "name": "stdout",
     "output_type": "stream",
     "text": [
      "predicted_words [[24, 393], [122, 846], [122, 461], [449, 181], [461, 4], [108, 449], [99, 4], [7, 181]]\n",
      "---------------------------\n",
      "predicted_words [[108, 449], [24, 393], [122, 461], [122, 846], [461, 4], [108, 449], [24, 380], [7, 181]]\n",
      "---------------------------\n"
     ]
    },
    {
     "name": "stderr",
     "output_type": "stream",
     "text": [
      "2020-04-17 23:43:24 - Transformer_no_pretrain - INFO: - decode batch cost time : 0.021949797868728638 ms\n",
      "I0417 23:43:24.540076 139696977332032 <ipython-input-11-3340543714f4>:36] decode batch cost time : 0.021949797868728638 ms\n",
      "2020-04-17 23:43:24 - Transformer_no_pretrain - INFO: - decode batch cost time : 0.02197137475013733 ms\n",
      "I0417 23:43:24.722233 139696977332032 <ipython-input-11-3340543714f4>:36] decode batch cost time : 0.02197137475013733 ms\n"
     ]
    },
    {
     "name": "stdout",
     "output_type": "stream",
     "text": [
      "predicted_words [[24, 393], [122, 846], [24, 393], [449, 181], [461, 4], [108, 449], [99, 4], [7, 181]]\n",
      "---------------------------\n",
      "predicted_words [[149, 449], [449, 181], [122, 461], [122, 846], [461, 4], [108, 449], [9, 4], [7, 181]]\n",
      "---------------------------\n"
     ]
    },
    {
     "name": "stderr",
     "output_type": "stream",
     "text": [
      "2020-04-17 23:43:24 - Transformer_no_pretrain - INFO: - decode batch cost time : 0.0214482843875885 ms\n",
      "I0417 23:43:24.899978 139696977332032 <ipython-input-11-3340543714f4>:36] decode batch cost time : 0.0214482843875885 ms\n",
      "2020-04-17 23:43:25 - Transformer_no_pretrain - INFO: - decode batch cost time : 0.02132400870323181 ms\n",
      "I0417 23:43:25.078836 139696977332032 <ipython-input-11-3340543714f4>:36] decode batch cost time : 0.02132400870323181 ms\n"
     ]
    },
    {
     "name": "stdout",
     "output_type": "stream",
     "text": [
      "predicted_words [[149, 449], [449, 181], [122, 461], [122, 846], [461, 4], [108, 449], [9, 4], [7, 181]]\n",
      "---------------------------\n",
      "predicted_words [[149, 449], [4, 393], [1024, 181], [231, 149], [122, 461], [24, 393], [24, 380], [108, 74]]\n",
      "---------------------------\n"
     ]
    },
    {
     "name": "stderr",
     "output_type": "stream",
     "text": [
      "2020-04-17 23:43:25 - Transformer_no_pretrain - INFO: - decode batch cost time : 0.024292707443237305 ms\n",
      "I0417 23:43:25.280554 139696977332032 <ipython-input-11-3340543714f4>:36] decode batch cost time : 0.024292707443237305 ms\n",
      "2020-04-17 23:43:25 - Transformer_no_pretrain - INFO: - decode batch cost time : 0.022124946117401123 ms\n",
      "I0417 23:43:25.467980 139696977332032 <ipython-input-11-3340543714f4>:36] decode batch cost time : 0.022124946117401123 ms\n"
     ]
    },
    {
     "name": "stdout",
     "output_type": "stream",
     "text": [
      "predicted_words [[149, 449], [4, 393], [108, 393], [171, 149], [99, 4], [108, 449], [24, 380], [122, 846]]\n",
      "---------------------------\n",
      "predicted_words [[149, 449], [4, 393], [108, 393], [171, 149], [99, 4], [108, 449], [24, 380], [122, 846]]\n",
      "---------------------------\n"
     ]
    },
    {
     "name": "stderr",
     "output_type": "stream",
     "text": [
      "2020-04-17 23:43:25 - Transformer_no_pretrain - INFO: - decode batch cost time : 0.02310079336166382 ms\n",
      "I0417 23:43:25.663959 139696977332032 <ipython-input-11-3340543714f4>:36] decode batch cost time : 0.02310079336166382 ms\n",
      "2020-04-17 23:43:25 - Transformer_no_pretrain - INFO: - decode batch cost time : 0.022658348083496094 ms\n",
      "I0417 23:43:25.857276 139696977332032 <ipython-input-11-3340543714f4>:36] decode batch cost time : 0.022658348083496094 ms\n"
     ]
    },
    {
     "name": "stdout",
     "output_type": "stream",
     "text": [
      "predicted_words [[149, 449], [1024, 181], [122, 461], [461, 9], [461, 4], [108, 449], [9, 4], [7, 181]]\n",
      "---------------------------\n",
      "predicted_words [[149, 449], [449, 181], [122, 461], [122, 846], [461, 4], [108, 449], [9, 4], [24, 393]]\n",
      "---------------------------\n"
     ]
    },
    {
     "name": "stderr",
     "output_type": "stream",
     "text": [
      "2020-04-17 23:43:26 - Transformer_no_pretrain - INFO: - decode batch cost time : 0.02399083971977234 ms\n",
      "I0417 23:43:26.060468 139696977332032 <ipython-input-11-3340543714f4>:36] decode batch cost time : 0.02399083971977234 ms\n",
      "2020-04-17 23:43:26 - Transformer_no_pretrain - INFO: - decode batch cost time : 0.022166907787322998 ms\n",
      "I0417 23:43:26.244357 139696977332032 <ipython-input-11-3340543714f4>:36] decode batch cost time : 0.022166907787322998 ms\n"
     ]
    },
    {
     "name": "stdout",
     "output_type": "stream",
     "text": [
      "predicted_words [[149, 449], [4, 393], [122, 461], [122, 846], [461, 4], [108, 449], [99, 4], [7, 181]]\n",
      "---------------------------\n",
      "predicted_words [[149, 449], [1024, 181], [122, 461], [122, 846], [461, 4], [108, 449], [9, 4], [7, 181]]\n",
      "---------------------------\n"
     ]
    },
    {
     "name": "stderr",
     "output_type": "stream",
     "text": [
      "2020-04-17 23:43:26 - Transformer_no_pretrain - INFO: - decode batch cost time : 0.024413704872131348 ms\n",
      "I0417 23:43:26.446052 139696977332032 <ipython-input-11-3340543714f4>:36] decode batch cost time : 0.024413704872131348 ms\n",
      "2020-04-17 23:43:26 - Transformer_no_pretrain - INFO: - decode batch cost time : 0.02184748649597168 ms\n",
      "I0417 23:43:26.627889 139696977332032 <ipython-input-11-3340543714f4>:36] decode batch cost time : 0.02184748649597168 ms\n"
     ]
    },
    {
     "name": "stdout",
     "output_type": "stream",
     "text": [
      "predicted_words [[149, 449], [449, 181], [122, 461], [122, 846], [122, 461], [149, 449], [99, 4], [7, 181]]\n",
      "---------------------------\n",
      "predicted_words [[24, 393], [4, 393], [1024, 181], [122, 846], [461, 4], [108, 449], [9, 4], [7, 181]]\n",
      "---------------------------\n"
     ]
    },
    {
     "name": "stderr",
     "output_type": "stream",
     "text": [
      "2020-04-17 23:43:26 - Transformer_no_pretrain - INFO: - decode batch cost time : 0.02202504873275757 ms\n",
      "I0417 23:43:26.811055 139696977332032 <ipython-input-11-3340543714f4>:36] decode batch cost time : 0.02202504873275757 ms\n",
      "2020-04-17 23:43:26 - Transformer_no_pretrain - INFO: - decode batch cost time : 0.02219301462173462 ms\n",
      "I0417 23:43:26.995903 139696977332032 <ipython-input-11-3340543714f4>:36] decode batch cost time : 0.02219301462173462 ms\n"
     ]
    },
    {
     "name": "stdout",
     "output_type": "stream",
     "text": [
      "predicted_words [[24, 393], [4, 393], [1024, 181], [122, 846], [461, 4], [108, 449], [9, 4], [7, 181]]\n",
      "---------------------------\n",
      "predicted_words [[4, 393], [231, 149], [1024, 181], [122, 1024], [62, 59], [122, 461], [461, 4], [24, 393]]\n",
      "---------------------------\n"
     ]
    },
    {
     "name": "stderr",
     "output_type": "stream",
     "text": [
      "2020-04-17 23:43:27 - Transformer_no_pretrain - INFO: - decode batch cost time : 0.0244523286819458 ms\n",
      "I0417 23:43:27.200330 139696977332032 <ipython-input-11-3340543714f4>:36] decode batch cost time : 0.0244523286819458 ms\n",
      "2020-04-17 23:43:27 - Transformer_no_pretrain - INFO: - decode batch cost time : 0.022481024265289307 ms\n",
      "I0417 23:43:27.389413 139696977332032 <ipython-input-11-3340543714f4>:36] decode batch cost time : 0.022481024265289307 ms\n"
     ]
    },
    {
     "name": "stdout",
     "output_type": "stream",
     "text": [
      "predicted_words [[4, 393], [231, 149], [1024, 181], [122, 1024], [62, 59], [122, 461], [231, 4], [24, 393]]\n",
      "---------------------------\n",
      "predicted_words [[4, 393], [231, 149], [1024, 181], [122, 1024], [62, 59], [122, 461], [231, 4], [24, 393]]\n",
      "---------------------------\n"
     ]
    },
    {
     "name": "stderr",
     "output_type": "stream",
     "text": [
      "2020-04-17 23:43:27 - Transformer_no_pretrain - INFO: - decode batch cost time : 0.022517502307891846 ms\n",
      "I0417 23:43:27.577165 139696977332032 <ipython-input-11-3340543714f4>:36] decode batch cost time : 0.022517502307891846 ms\n",
      "2020-04-17 23:43:27 - Transformer_no_pretrain - INFO: - decode batch cost time : 0.022475600242614746 ms\n",
      "I0417 23:43:27.763789 139696977332032 <ipython-input-11-3340543714f4>:36] decode batch cost time : 0.022475600242614746 ms\n"
     ]
    },
    {
     "name": "stdout",
     "output_type": "stream",
     "text": [
      "predicted_words [[4, 393], [231, 149], [1024, 181], [122, 1024], [62, 59], [122, 461], [231, 4], [24, 393]]\n",
      "---------------------------\n",
      "predicted_words [[4, 393], [231, 149], [1024, 181], [122, 1024], [62, 59], [122, 461], [231, 4], [24, 393]]\n",
      "---------------------------\n"
     ]
    },
    {
     "name": "stderr",
     "output_type": "stream",
     "text": [
      "2020-04-17 23:43:27 - Transformer_no_pretrain - INFO: - decode batch cost time : 0.022367000579833984 ms\n",
      "I0417 23:43:27.949651 139696977332032 <ipython-input-11-3340543714f4>:36] decode batch cost time : 0.022367000579833984 ms\n",
      "2020-04-17 23:43:28 - Transformer_no_pretrain - INFO: - decode batch cost time : 0.022185832262039185 ms\n",
      "I0417 23:43:28.134383 139696977332032 <ipython-input-11-3340543714f4>:36] decode batch cost time : 0.022185832262039185 ms\n"
     ]
    },
    {
     "name": "stdout",
     "output_type": "stream",
     "text": [
      "predicted_words [[24, 393], [1024, 181], [122, 461], [122, 846], [461, 4], [108, 449], [9, 4], [7, 181]]\n",
      "---------------------------\n",
      "predicted_words [[149, 449], [1024, 181], [122, 461], [122, 846], [461, 4], [108, 449], [9, 4], [7, 181]]\n",
      "---------------------------\n"
     ]
    },
    {
     "name": "stderr",
     "output_type": "stream",
     "text": [
      "2020-04-17 23:43:28 - Transformer_no_pretrain - INFO: - decode batch cost time : 0.02574262022972107 ms\n",
      "I0417 23:43:28.347571 139696977332032 <ipython-input-11-3340543714f4>:36] decode batch cost time : 0.02574262022972107 ms\n",
      "2020-04-17 23:43:28 - Transformer_no_pretrain - INFO: - decode batch cost time : 0.02209573984146118 ms\n",
      "I0417 23:43:28.530985 139696977332032 <ipython-input-11-3340543714f4>:36] decode batch cost time : 0.02209573984146118 ms\n"
     ]
    },
    {
     "name": "stdout",
     "output_type": "stream",
     "text": [
      "predicted_words [[24, 393], [4, 393], [1024, 181], [122, 846], [461, 4], [231, 9], [9, 4], [7, 181]]\n",
      "---------------------------\n",
      "predicted_words [[24, 393], [4, 393], [122, 461], [122, 846], [461, 4], [99, 9], [9, 4], [7, 181]]\n",
      "---------------------------\n"
     ]
    },
    {
     "name": "stderr",
     "output_type": "stream",
     "text": [
      "2020-04-17 23:43:28 - Transformer_no_pretrain - INFO: - decode batch cost time : 0.022458821535110474 ms\n",
      "I0417 23:43:28.717268 139696977332032 <ipython-input-11-3340543714f4>:36] decode batch cost time : 0.022458821535110474 ms\n"
     ]
    },
    {
     "name": "stdout",
     "output_type": "stream",
     "text": [
      "predicted_words [[24, 393], [4, 393], [1024, 181], [461, 9], [461, 4], [99, 9], [9, 4], [7, 181]]\n",
      "---------------------------\n"
     ]
    },
    {
     "name": "stderr",
     "output_type": "stream",
     "text": [
      "2020-04-17 23:43:28 - Transformer_no_pretrain - INFO: - decode batch cost time : 0.025142520666122437 ms\n",
      "I0417 23:43:28.925459 139696977332032 <ipython-input-11-3340543714f4>:36] decode batch cost time : 0.025142520666122437 ms\n",
      "2020-04-17 23:43:29 - Transformer_no_pretrain - INFO: - decode batch cost time : 0.022225767374038696 ms\n",
      "I0417 23:43:29.110985 139696977332032 <ipython-input-11-3340543714f4>:36] decode batch cost time : 0.022225767374038696 ms\n"
     ]
    },
    {
     "name": "stdout",
     "output_type": "stream",
     "text": [
      "predicted_words [[149, 449], [4, 393], [24, 393], [122, 846], [461, 4], [108, 449], [99, 4], [7, 181]]\n",
      "---------------------------\n",
      "predicted_words [[149, 449], [1024, 181], [122, 461], [122, 846], [461, 4], [108, 449], [9, 4], [7, 181]]\n",
      "---------------------------\n"
     ]
    },
    {
     "name": "stderr",
     "output_type": "stream",
     "text": [
      "2020-04-17 23:43:29 - Transformer_no_pretrain - INFO: - decode batch cost time : 0.022677898406982422 ms\n",
      "I0417 23:43:29.299992 139696977332032 <ipython-input-11-3340543714f4>:36] decode batch cost time : 0.022677898406982422 ms\n",
      "2020-04-17 23:43:29 - Transformer_no_pretrain - INFO: - decode batch cost time : 0.021946638822555542 ms\n",
      "I0417 23:43:29.483274 139696977332032 <ipython-input-11-3340543714f4>:36] decode batch cost time : 0.021946638822555542 ms\n"
     ]
    },
    {
     "name": "stdout",
     "output_type": "stream",
     "text": [
      "predicted_words [[149, 449], [1024, 181], [122, 461], [122, 846], [461, 4], [108, 449], [9, 4], [7, 181]]\n",
      "---------------------------\n",
      "predicted_words [[24, 393], [122, 846], [1024, 181], [231, 149], [461, 4], [149, 449], [24, 380], [122, 846]]\n",
      "---------------------------\n"
     ]
    },
    {
     "name": "stderr",
     "output_type": "stream",
     "text": [
      "2020-04-17 23:43:29 - Transformer_no_pretrain - INFO: - decode batch cost time : 0.0232660174369812 ms\n",
      "I0417 23:43:29.676939 139696977332032 <ipython-input-11-3340543714f4>:36] decode batch cost time : 0.0232660174369812 ms\n",
      "2020-04-17 23:43:29 - Transformer_no_pretrain - INFO: - decode batch cost time : 0.022317588329315186 ms\n",
      "I0417 23:43:29.862715 139696977332032 <ipython-input-11-3340543714f4>:36] decode batch cost time : 0.022317588329315186 ms\n"
     ]
    },
    {
     "name": "stdout",
     "output_type": "stream",
     "text": [
      "predicted_words [[149, 449], [122, 846], [1024, 181], [449, 181], [461, 4], [108, 393], [24, 380], [122, 846]]\n",
      "---------------------------\n",
      "predicted_words [[24, 393], [122, 846], [1024, 181], [231, 149], [461, 4], [149, 449], [24, 380], [122, 846]]\n",
      "---------------------------\n"
     ]
    },
    {
     "name": "stderr",
     "output_type": "stream",
     "text": [
      "2020-04-17 23:43:30 - Transformer_no_pretrain - INFO: - decode batch cost time : 0.02359500527381897 ms\n",
      "I0417 23:43:30.059443 139696977332032 <ipython-input-11-3340543714f4>:36] decode batch cost time : 0.02359500527381897 ms\n",
      "2020-04-17 23:43:30 - Transformer_no_pretrain - INFO: - decode batch cost time : 0.02215781807899475 ms\n",
      "I0417 23:43:30.243851 139696977332032 <ipython-input-11-3340543714f4>:36] decode batch cost time : 0.02215781807899475 ms\n"
     ]
    },
    {
     "name": "stdout",
     "output_type": "stream",
     "text": [
      "predicted_words [[149, 449], [449, 181], [122, 461], [122, 846], [461, 4], [108, 449], [24, 380], [7, 181]]\n",
      "---------------------------\n",
      "predicted_words [[149, 449], [449, 181], [122, 461], [122, 846], [461, 4], [108, 449], [24, 380], [24, 393]]\n",
      "---------------------------\n"
     ]
    },
    {
     "name": "stderr",
     "output_type": "stream",
     "text": [
      "2020-04-17 23:43:30 - Transformer_no_pretrain - INFO: - decode batch cost time : 0.024830371141433716 ms\n",
      "I0417 23:43:30.449332 139696977332032 <ipython-input-11-3340543714f4>:36] decode batch cost time : 0.024830371141433716 ms\n",
      "2020-04-17 23:43:30 - Transformer_no_pretrain - INFO: - decode batch cost time : 0.022670447826385498 ms\n",
      "I0417 23:43:30.642411 139696977332032 <ipython-input-11-3340543714f4>:36] decode batch cost time : 0.022670447826385498 ms\n"
     ]
    },
    {
     "name": "stdout",
     "output_type": "stream",
     "text": [
      "predicted_words [[149, 449], [449, 181], [122, 461], [122, 846], [461, 4], [108, 449], [24, 380], [7, 181]]\n",
      "---------------------------\n",
      "predicted_words [[149, 449], [449, 181], [122, 461], [122, 846], [461, 4], [108, 449], [24, 380], [7, 181]]\n",
      "---------------------------\n"
     ]
    },
    {
     "name": "stderr",
     "output_type": "stream",
     "text": [
      "2020-04-17 23:43:30 - Transformer_no_pretrain - INFO: - decode batch cost time : 0.02421116828918457 ms\n",
      "I0417 23:43:30.843223 139696977332032 <ipython-input-11-3340543714f4>:36] decode batch cost time : 0.02421116828918457 ms\n",
      "2020-04-17 23:43:31 - Transformer_no_pretrain - INFO: - decode batch cost time : 0.022918403148651123 ms\n",
      "I0417 23:43:31.038027 139696977332032 <ipython-input-11-3340543714f4>:36] decode batch cost time : 0.022918403148651123 ms\n"
     ]
    },
    {
     "name": "stdout",
     "output_type": "stream",
     "text": [
      "predicted_words [[108, 449], [122, 846], [24, 393], [449, 181], [461, 4], [108, 449], [99, 4], [7, 181]]\n",
      "---------------------------\n",
      "predicted_words [[108, 449], [24, 393], [122, 461], [122, 846], [461, 4], [108, 449], [99, 4], [7, 181]]\n",
      "---------------------------\n"
     ]
    },
    {
     "name": "stderr",
     "output_type": "stream",
     "text": [
      "2020-04-17 23:43:31 - Transformer_no_pretrain - INFO: - decode batch cost time : 0.023156076669692993 ms\n",
      "I0417 23:43:31.234379 139696977332032 <ipython-input-11-3340543714f4>:36] decode batch cost time : 0.023156076669692993 ms\n",
      "2020-04-17 23:43:31 - Transformer_no_pretrain - INFO: - decode batch cost time : 0.022386163473129272 ms\n",
      "I0417 23:43:31.420565 139696977332032 <ipython-input-11-3340543714f4>:36] decode batch cost time : 0.022386163473129272 ms\n"
     ]
    },
    {
     "name": "stdout",
     "output_type": "stream",
     "text": [
      "predicted_words [[108, 449], [24, 393], [122, 461], [122, 846], [461, 4], [108, 449], [99, 4], [7, 181]]\n",
      "---------------------------\n",
      "predicted_words [[108, 449], [24, 393], [122, 461], [122, 846], [461, 4], [108, 449], [99, 4], [7, 181]]\n",
      "---------------------------\n"
     ]
    },
    {
     "name": "stderr",
     "output_type": "stream",
     "text": [
      "2020-04-17 23:43:31 - Transformer_no_pretrain - INFO: - decode batch cost time : 0.023418694734573364 ms\n",
      "I0417 23:43:31.624904 139696977332032 <ipython-input-11-3340543714f4>:36] decode batch cost time : 0.023418694734573364 ms\n",
      "2020-04-17 23:43:31 - Transformer_no_pretrain - INFO: - decode batch cost time : 0.02316787838935852 ms\n",
      "I0417 23:43:31.821920 139696977332032 <ipython-input-11-3340543714f4>:36] decode batch cost time : 0.02316787838935852 ms\n"
     ]
    },
    {
     "name": "stdout",
     "output_type": "stream",
     "text": [
      "predicted_words [[149, 449], [1024, 181], [122, 461], [122, 846], [461, 4], [108, 449], [99, 4], [7, 181]]\n",
      "---------------------------\n",
      "predicted_words [[149, 449], [4, 393], [122, 461], [122, 846], [461, 4], [108, 449], [9, 4], [7, 181]]\n",
      "---------------------------\n"
     ]
    },
    {
     "name": "stderr",
     "output_type": "stream",
     "text": [
      "2020-04-17 23:43:32 - Transformer_no_pretrain - INFO: - decode batch cost time : 0.023941785097122192 ms\n",
      "I0417 23:43:32.025393 139696977332032 <ipython-input-11-3340543714f4>:36] decode batch cost time : 0.023941785097122192 ms\n",
      "2020-04-17 23:43:32 - Transformer_no_pretrain - INFO: - decode batch cost time : 0.022684037685394287 ms\n",
      "I0417 23:43:32.214195 139696977332032 <ipython-input-11-3340543714f4>:36] decode batch cost time : 0.022684037685394287 ms\n"
     ]
    },
    {
     "name": "stdout",
     "output_type": "stream",
     "text": [
      "predicted_words [[149, 449], [449, 181], [122, 461], [122, 846], [461, 4], [108, 449], [9, 4], [7, 181]]\n",
      "---------------------------\n",
      "predicted_words [[4, 393], [108, 74], [24, 393], [231, 149], [62, 59], [149, 449], [181, 59], [7, 181]]\n",
      "---------------------------\n"
     ]
    },
    {
     "name": "stderr",
     "output_type": "stream",
     "text": [
      "2020-04-17 23:43:32 - Transformer_no_pretrain - INFO: - decode batch cost time : 0.02223268151283264 ms\n",
      "I0417 23:43:32.398457 139696977332032 <ipython-input-11-3340543714f4>:36] decode batch cost time : 0.02223268151283264 ms\n",
      "2020-04-17 23:43:32 - Transformer_no_pretrain - INFO: - decode batch cost time : 0.0223255455493927 ms\n",
      "I0417 23:43:32.584058 139696977332032 <ipython-input-11-3340543714f4>:36] decode batch cost time : 0.0223255455493927 ms\n"
     ]
    },
    {
     "name": "stdout",
     "output_type": "stream",
     "text": [
      "predicted_words [[4, 393], [108, 74], [24, 393], [231, 149], [62, 59], [149, 449], [181, 59], [7, 181]]\n",
      "---------------------------\n",
      "predicted_words [[24, 393], [4, 393], [24, 393], [122, 846], [461, 4], [108, 449], [99, 4], [7, 181]]\n",
      "---------------------------\n"
     ]
    },
    {
     "name": "stderr",
     "output_type": "stream",
     "text": [
      "2020-04-17 23:43:32 - Transformer_no_pretrain - INFO: - decode batch cost time : 0.022655010223388672 ms\n",
      "I0417 23:43:32.771802 139696977332032 <ipython-input-11-3340543714f4>:36] decode batch cost time : 0.022655010223388672 ms\n",
      "2020-04-17 23:43:32 - Transformer_no_pretrain - INFO: - decode batch cost time : 0.022346049547195435 ms\n",
      "I0417 23:43:32.957082 139696977332032 <ipython-input-11-3340543714f4>:36] decode batch cost time : 0.022346049547195435 ms\n"
     ]
    },
    {
     "name": "stdout",
     "output_type": "stream",
     "text": [
      "predicted_words [[149, 449], [449, 181], [122, 461], [122, 846], [461, 4], [108, 449], [9, 4], [7, 181]]\n",
      "---------------------------\n",
      "predicted_words [[149, 449], [1024, 181], [122, 461], [122, 846], [461, 4], [108, 449], [9, 4], [7, 181]]\n",
      "---------------------------\n"
     ]
    },
    {
     "name": "stderr",
     "output_type": "stream",
     "text": [
      "2020-04-17 23:43:33 - Transformer_no_pretrain - INFO: - decode batch cost time : 0.022524774074554443 ms\n",
      "I0417 23:43:33.144136 139696977332032 <ipython-input-11-3340543714f4>:36] decode batch cost time : 0.022524774074554443 ms\n"
     ]
    },
    {
     "name": "stdout",
     "output_type": "stream",
     "text": [
      "predicted_words [[108, 449], [24, 393], [24, 393], [122, 846], [461, 4], [108, 449], [99, 4], [7, 181]]\n",
      "---------------------------\n"
     ]
    },
    {
     "name": "stderr",
     "output_type": "stream",
     "text": [
      "2020-04-17 23:43:33 - Transformer_no_pretrain - INFO: - decode batch cost time : 0.02450677752494812 ms\n",
      "I0417 23:43:33.350659 139696977332032 <ipython-input-11-3340543714f4>:36] decode batch cost time : 0.02450677752494812 ms\n",
      "2020-04-17 23:43:33 - Transformer_no_pretrain - INFO: - decode batch cost time : 0.02345523238182068 ms\n"
     ]
    },
    {
     "name": "stdout",
     "output_type": "stream",
     "text": [
      "predicted_words [[108, 449], [24, 393], [122, 461], [122, 846], [461, 4], [108, 449], [99, 4], [7, 181]]\n",
      "---------------------------\n",
      "predicted_words [[108, 449], [24, 393], [24, 393], [122, 846], [461, 4], [108, 449], [99, 4], [7, 181]]\n",
      "---------------------------\n"
     ]
    },
    {
     "name": "stderr",
     "output_type": "stream",
     "text": [
      "I0417 23:43:33.550851 139696977332032 <ipython-input-11-3340543714f4>:36] decode batch cost time : 0.02345523238182068 ms\n",
      "2020-04-17 23:43:33 - Transformer_no_pretrain - INFO: - decode batch cost time : 0.024348556995391846 ms\n",
      "I0417 23:43:33.753078 139696977332032 <ipython-input-11-3340543714f4>:36] decode batch cost time : 0.024348556995391846 ms\n"
     ]
    },
    {
     "name": "stdout",
     "output_type": "stream",
     "text": [
      "predicted_words [[149, 449], [449, 181], [122, 461], [122, 846], [461, 4], [108, 449], [9, 4], [7, 181]]\n",
      "---------------------------\n"
     ]
    },
    {
     "name": "stderr",
     "output_type": "stream",
     "text": [
      "2020-04-17 23:43:33 - Transformer_no_pretrain - INFO: - decode batch cost time : 0.024475544691085815 ms\n",
      "I0417 23:43:33.956408 139696977332032 <ipython-input-11-3340543714f4>:36] decode batch cost time : 0.024475544691085815 ms\n",
      "2020-04-17 23:43:34 - Transformer_no_pretrain - INFO: - decode batch cost time : 0.02328735589981079 ms\n",
      "I0417 23:43:34.150422 139696977332032 <ipython-input-11-3340543714f4>:36] decode batch cost time : 0.02328735589981079 ms\n"
     ]
    },
    {
     "name": "stdout",
     "output_type": "stream",
     "text": [
      "predicted_words [[149, 449], [449, 181], [122, 461], [122, 846], [461, 4], [108, 449], [9, 4], [7, 181]]\n",
      "---------------------------\n",
      "predicted_words [[149, 449], [449, 181], [122, 461], [122, 846], [461, 4], [108, 449], [9, 4], [7, 181]]\n",
      "---------------------------\n"
     ]
    },
    {
     "name": "stderr",
     "output_type": "stream",
     "text": [
      "2020-04-17 23:43:34 - Transformer_no_pretrain - INFO: - decode batch cost time : 0.02366626262664795 ms\n",
      "I0417 23:43:34.347631 139696977332032 <ipython-input-11-3340543714f4>:36] decode batch cost time : 0.02366626262664795 ms\n",
      "2020-04-17 23:43:34 - Transformer_no_pretrain - INFO: - decode batch cost time : 0.022159963846206665 ms\n",
      "I0417 23:43:34.533002 139696977332032 <ipython-input-11-3340543714f4>:36] decode batch cost time : 0.022159963846206665 ms\n"
     ]
    },
    {
     "name": "stdout",
     "output_type": "stream",
     "text": [
      "predicted_words [[24, 393], [1024, 181], [24, 393], [449, 181], [461, 4], [449, 181], [99, 4], [122, 846]]\n",
      "---------------------------\n",
      "predicted_words [[149, 449], [24, 393], [122, 461], [122, 846], [461, 4], [108, 449], [9, 4], [449, 181]]\n",
      "---------------------------\n"
     ]
    },
    {
     "name": "stderr",
     "output_type": "stream",
     "text": [
      "2020-04-17 23:43:34 - Transformer_no_pretrain - INFO: - decode batch cost time : 0.023067086935043335 ms\n",
      "I0417 23:43:34.725175 139696977332032 <ipython-input-11-3340543714f4>:36] decode batch cost time : 0.023067086935043335 ms\n",
      "2020-04-17 23:43:34 - Transformer_no_pretrain - INFO: - decode batch cost time : 0.02276971936225891 ms\n",
      "I0417 23:43:34.914938 139696977332032 <ipython-input-11-3340543714f4>:36] decode batch cost time : 0.02276971936225891 ms\n"
     ]
    },
    {
     "name": "stdout",
     "output_type": "stream",
     "text": [
      "predicted_words [[149, 449], [24, 393], [122, 461], [122, 846], [461, 4], [108, 449], [9, 4], [449, 181]]\n",
      "---------------------------\n",
      "predicted_words [[108, 449], [24, 393], [122, 461], [122, 846], [461, 4], [108, 449], [9, 4], [7, 181]]\n",
      "---------------------------\n"
     ]
    },
    {
     "name": "stderr",
     "output_type": "stream",
     "text": [
      "2020-04-17 23:43:35 - Transformer_no_pretrain - INFO: - decode batch cost time : 0.02356448769569397 ms\n",
      "I0417 23:43:35.110753 139696977332032 <ipython-input-11-3340543714f4>:36] decode batch cost time : 0.02356448769569397 ms\n",
      "2020-04-17 23:43:35 - Transformer_no_pretrain - INFO: - decode batch cost time : 0.022852301597595215 ms\n",
      "I0417 23:43:35.301512 139696977332032 <ipython-input-11-3340543714f4>:36] decode batch cost time : 0.022852301597595215 ms\n"
     ]
    },
    {
     "name": "stdout",
     "output_type": "stream",
     "text": [
      "predicted_words [[24, 393], [4, 393], [1024, 181], [122, 846], [461, 4], [108, 449], [99, 4], [7, 181]]\n",
      "---------------------------\n",
      "predicted_words [[149, 449], [449, 181], [122, 461], [122, 846], [461, 4], [108, 449], [9, 4], [7, 181]]\n",
      "---------------------------\n"
     ]
    },
    {
     "name": "stderr",
     "output_type": "stream",
     "text": [
      "2020-04-17 23:43:35 - Transformer_no_pretrain - INFO: - decode batch cost time : 0.024960845708847046 ms\n",
      "I0417 23:43:35.508885 139696977332032 <ipython-input-11-3340543714f4>:36] decode batch cost time : 0.024960845708847046 ms\n",
      "2020-04-17 23:43:35 - Transformer_no_pretrain - INFO: - decode batch cost time : 0.022148966789245605 ms\n",
      "I0417 23:43:35.693269 139696977332032 <ipython-input-11-3340543714f4>:36] decode batch cost time : 0.022148966789245605 ms\n"
     ]
    },
    {
     "name": "stdout",
     "output_type": "stream",
     "text": [
      "predicted_words [[149, 449], [449, 181], [122, 461], [122, 846], [461, 4], [108, 449], [9, 4], [7, 181]]\n",
      "---------------------------\n",
      "predicted_words [[149, 449], [1024, 181], [122, 461], [122, 846], [461, 4], [108, 449], [9, 4], [7, 181]]\n",
      "---------------------------\n"
     ]
    },
    {
     "name": "stderr",
     "output_type": "stream",
     "text": [
      "2020-04-17 23:43:35 - Transformer_no_pretrain - INFO: - decode batch cost time : 0.02264043688774109 ms\n",
      "I0417 23:43:35.881177 139696977332032 <ipython-input-11-3340543714f4>:36] decode batch cost time : 0.02264043688774109 ms\n",
      "2020-04-17 23:43:36 - Transformer_no_pretrain - INFO: - decode batch cost time : 0.022296786308288574 ms\n",
      "I0417 23:43:36.066327 139696977332032 <ipython-input-11-3340543714f4>:36] decode batch cost time : 0.022296786308288574 ms\n"
     ]
    },
    {
     "name": "stdout",
     "output_type": "stream",
     "text": [
      "predicted_words [[149, 449], [4, 393], [1024, 181], [122, 846], [461, 4], [108, 449], [9, 4], [7, 181]]\n",
      "---------------------------\n",
      "predicted_words [[149, 449], [449, 181], [122, 461], [122, 846], [461, 4], [108, 449], [9, 4], [7, 181]]\n",
      "---------------------------\n"
     ]
    },
    {
     "name": "stderr",
     "output_type": "stream",
     "text": [
      "2020-04-17 23:43:36 - Transformer_no_pretrain - INFO: - decode batch cost time : 0.022189617156982422 ms\n",
      "I0417 23:43:36.250369 139696977332032 <ipython-input-11-3340543714f4>:36] decode batch cost time : 0.022189617156982422 ms\n",
      "2020-04-17 23:43:36 - Transformer_no_pretrain - INFO: - decode batch cost time : 0.022528409957885742 ms\n",
      "I0417 23:43:36.437194 139696977332032 <ipython-input-11-3340543714f4>:36] decode batch cost time : 0.022528409957885742 ms\n"
     ]
    },
    {
     "name": "stdout",
     "output_type": "stream",
     "text": [
      "predicted_words [[149, 449], [449, 181], [122, 461], [122, 846], [461, 4], [108, 449], [9, 4], [449, 181]]\n",
      "---------------------------\n",
      "predicted_words [[149, 449], [449, 181], [122, 461], [122, 846], [461, 4], [108, 449], [9, 4], [7, 181]]\n",
      "---------------------------\n"
     ]
    },
    {
     "name": "stderr",
     "output_type": "stream",
     "text": [
      "2020-04-17 23:43:36 - Transformer_no_pretrain - INFO: - decode batch cost time : 0.022235602140426636 ms\n",
      "I0417 23:43:36.621630 139696977332032 <ipython-input-11-3340543714f4>:36] decode batch cost time : 0.022235602140426636 ms\n",
      "2020-04-17 23:43:36 - Transformer_no_pretrain - INFO: - decode batch cost time : 0.022402554750442505 ms\n",
      "I0417 23:43:36.807917 139696977332032 <ipython-input-11-3340543714f4>:36] decode batch cost time : 0.022402554750442505 ms\n"
     ]
    },
    {
     "name": "stdout",
     "output_type": "stream",
     "text": [
      "predicted_words [[149, 449], [1024, 181], [122, 461], [122, 846], [461, 4], [108, 449], [9, 4], [7, 181]]\n",
      "---------------------------\n",
      "predicted_words [[149, 449], [1024, 181], [122, 461], [122, 846], [461, 4], [108, 449], [9, 4], [7, 181]]\n",
      "---------------------------\n"
     ]
    },
    {
     "name": "stderr",
     "output_type": "stream",
     "text": [
      "2020-04-17 23:43:37 - Transformer_no_pretrain - INFO: - decode batch cost time : 0.024190247058868408 ms\n",
      "I0417 23:43:37.009160 139696977332032 <ipython-input-11-3340543714f4>:36] decode batch cost time : 0.024190247058868408 ms\n",
      "2020-04-17 23:43:37 - Transformer_no_pretrain - INFO: - decode batch cost time : 0.02322208881378174 ms\n",
      "I0417 23:43:37.202273 139696977332032 <ipython-input-11-3340543714f4>:36] decode batch cost time : 0.02322208881378174 ms\n"
     ]
    },
    {
     "name": "stdout",
     "output_type": "stream",
     "text": [
      "predicted_words [[24, 393], [1024, 181], [1024, 181], [122, 846], [461, 4], [108, 449], [9, 4], [7, 181]]\n",
      "---------------------------\n",
      "predicted_words [[24, 393], [4, 393], [1024, 181], [122, 846], [461, 4], [108, 449], [9, 4], [7, 181]]\n",
      "---------------------------\n"
     ]
    },
    {
     "name": "stderr",
     "output_type": "stream",
     "text": [
      "2020-04-17 23:43:37 - Transformer_no_pretrain - INFO: - decode batch cost time : 0.023390620946884155 ms\n",
      "I0417 23:43:37.396701 139696977332032 <ipython-input-11-3340543714f4>:36] decode batch cost time : 0.023390620946884155 ms\n",
      "2020-04-17 23:43:37 - Transformer_no_pretrain - INFO: - decode batch cost time : 0.022450953722000122 ms\n",
      "I0417 23:43:37.583724 139696977332032 <ipython-input-11-3340543714f4>:36] decode batch cost time : 0.022450953722000122 ms\n"
     ]
    },
    {
     "name": "stdout",
     "output_type": "stream",
     "text": [
      "predicted_words [[149, 449], [449, 181], [122, 461], [122, 846], [461, 4], [108, 449], [9, 4], [7, 181]]\n",
      "---------------------------\n",
      "predicted_words [[149, 449], [449, 181], [122, 461], [122, 846], [461, 4], [108, 449], [9, 4], [449, 181]]\n",
      "---------------------------\n"
     ]
    },
    {
     "name": "stderr",
     "output_type": "stream",
     "text": [
      "2020-04-17 23:43:37 - Transformer_no_pretrain - INFO: - decode batch cost time : 0.022826403379440308 ms\n",
      "I0417 23:43:37.774081 139696977332032 <ipython-input-11-3340543714f4>:36] decode batch cost time : 0.022826403379440308 ms\n",
      "2020-04-17 23:43:37 - Transformer_no_pretrain - INFO: - decode batch cost time : 0.02295359969139099 ms\n",
      "I0417 23:43:37.965128 139696977332032 <ipython-input-11-3340543714f4>:36] decode batch cost time : 0.02295359969139099 ms\n"
     ]
    },
    {
     "name": "stdout",
     "output_type": "stream",
     "text": [
      "predicted_words [[149, 449], [4, 393], [1024, 181], [122, 846], [461, 4], [108, 449], [9, 4], [7, 181]]\n",
      "---------------------------\n",
      "predicted_words [[149, 449], [449, 181], [122, 461], [122, 846], [461, 4], [108, 449], [9, 4], [7, 181]]\n",
      "---------------------------\n"
     ]
    },
    {
     "name": "stderr",
     "output_type": "stream",
     "text": [
      "2020-04-17 23:43:38 - Transformer_no_pretrain - INFO: - decode batch cost time : 0.02285704016685486 ms\n",
      "I0417 23:43:38.155761 139696977332032 <ipython-input-11-3340543714f4>:36] decode batch cost time : 0.02285704016685486 ms\n"
     ]
    },
    {
     "name": "stdout",
     "output_type": "stream",
     "text": [
      "predicted_words [[149, 449], [449, 181], [122, 461], [122, 846], [461, 4], [108, 449], [24, 380], [7, 181]]\n",
      "---------------------------\n",
      "predicted_words [[24, 393], [108, 74], [24, 393], [122, 846], [461, 4], [108, 449], [9, 4], [449, 181]]\n",
      "---------------------------\n"
     ]
    },
    {
     "name": "stderr",
     "output_type": "stream",
     "text": [
      "2020-04-17 23:43:38 - Transformer_no_pretrain - INFO: - decode batch cost time : 0.024197816848754883 ms\n",
      "I0417 23:43:38.356585 139696977332032 <ipython-input-11-3340543714f4>:36] decode batch cost time : 0.024197816848754883 ms\n",
      "2020-04-17 23:43:38 - Transformer_no_pretrain - INFO: - decode batch cost time : 0.022087067365646362 ms\n",
      "I0417 23:43:38.540598 139696977332032 <ipython-input-11-3340543714f4>:36] decode batch cost time : 0.022087067365646362 ms\n",
      "2020-04-17 23:43:38 - Transformer_no_pretrain - INFO: - decode batch cost time : 0.022844702005386353 ms\n",
      "I0417 23:43:38.735023 139696977332032 <ipython-input-11-3340543714f4>:36] decode batch cost time : 0.022844702005386353 ms\n"
     ]
    },
    {
     "name": "stdout",
     "output_type": "stream",
     "text": [
      "predicted_words [[24, 393], [108, 74], [24, 393], [122, 846], [122, 461], [108, 449], [9, 4], [449, 181]]\n",
      "---------------------------\n",
      "predicted_words [[149, 449], [1024, 181], [1024, 181], [122, 846], [461, 4], [108, 449], [99, 4], [7, 181]]\n",
      "---------------------------\n"
     ]
    },
    {
     "name": "stderr",
     "output_type": "stream",
     "text": [
      "2020-04-17 23:43:38 - Transformer_no_pretrain - INFO: - decode batch cost time : 0.02334439754486084 ms\n",
      "I0417 23:43:38.939230 139696977332032 <ipython-input-11-3340543714f4>:36] decode batch cost time : 0.02334439754486084 ms\n"
     ]
    },
    {
     "name": "stdout",
     "output_type": "stream",
     "text": [
      "predicted_words [[149, 449], [449, 181], [122, 461], [122, 846], [461, 4], [108, 449], [9, 4], [7, 181]]\n",
      "---------------------------\n"
     ]
    },
    {
     "name": "stderr",
     "output_type": "stream",
     "text": [
      "2020-04-17 23:43:39 - Transformer_no_pretrain - INFO: - decode batch cost time : 0.025231242179870605 ms\n",
      "I0417 23:43:39.148378 139696977332032 <ipython-input-11-3340543714f4>:36] decode batch cost time : 0.025231242179870605 ms\n",
      "2020-04-17 23:43:39 - Transformer_no_pretrain - INFO: - decode batch cost time : 0.02296021580696106 ms\n",
      "I0417 23:43:39.340298 139696977332032 <ipython-input-11-3340543714f4>:36] decode batch cost time : 0.02296021580696106 ms\n"
     ]
    },
    {
     "name": "stdout",
     "output_type": "stream",
     "text": [
      "predicted_words [[149, 449], [449, 181], [122, 461], [122, 846], [461, 4], [108, 449], [9, 4], [7, 181]]\n",
      "---------------------------\n",
      "predicted_words [[149, 449], [449, 181], [122, 461], [122, 846], [461, 4], [108, 449], [9, 4], [7, 181]]\n",
      "---------------------------\n"
     ]
    },
    {
     "name": "stderr",
     "output_type": "stream",
     "text": [
      "2020-04-17 23:43:39 - Transformer_no_pretrain - INFO: - decode batch cost time : 0.022804170846939087 ms\n",
      "I0417 23:43:39.529995 139696977332032 <ipython-input-11-3340543714f4>:36] decode batch cost time : 0.022804170846939087 ms\n",
      "2020-04-17 23:43:39 - Transformer_no_pretrain - INFO: - decode batch cost time : 0.02272510528564453 ms\n",
      "I0417 23:43:39.718936 139696977332032 <ipython-input-11-3340543714f4>:36] decode batch cost time : 0.02272510528564453 ms\n"
     ]
    },
    {
     "name": "stdout",
     "output_type": "stream",
     "text": [
      "predicted_words [[108, 449], [24, 393], [122, 461], [122, 846], [461, 4], [108, 449], [9, 4], [7, 181]]\n",
      "---------------------------\n",
      "predicted_words [[108, 449], [24, 393], [1024, 181], [122, 846], [461, 4], [108, 449], [99, 4], [7, 181]]\n",
      "---------------------------\n"
     ]
    },
    {
     "name": "stderr",
     "output_type": "stream",
     "text": [
      "2020-04-17 23:43:39 - Transformer_no_pretrain - INFO: - decode batch cost time : 0.02409765124320984 ms\n",
      "I0417 23:43:39.919211 139696977332032 <ipython-input-11-3340543714f4>:36] decode batch cost time : 0.02409765124320984 ms\n",
      "2020-04-17 23:43:40 - Transformer_no_pretrain - INFO: - decode batch cost time : 0.022493839263916016 ms\n",
      "I0417 23:43:40.105765 139696977332032 <ipython-input-11-3340543714f4>:36] decode batch cost time : 0.022493839263916016 ms\n"
     ]
    },
    {
     "name": "stdout",
     "output_type": "stream",
     "text": [
      "predicted_words [[24, 393], [4, 393], [24, 393], [122, 846], [461, 4], [108, 449], [99, 4], [7, 181]]\n",
      "---------------------------\n",
      "predicted_words [[149, 449], [4, 393], [1024, 181], [122, 846], [461, 4], [108, 449], [9, 4], [7, 181]]\n",
      "---------------------------\n"
     ]
    },
    {
     "name": "stderr",
     "output_type": "stream",
     "text": [
      "2020-04-17 23:43:40 - Transformer_no_pretrain - INFO: - decode batch cost time : 0.02384626865386963 ms\n",
      "I0417 23:43:40.303914 139696977332032 <ipython-input-11-3340543714f4>:36] decode batch cost time : 0.02384626865386963 ms\n",
      "2020-04-17 23:43:40 - Transformer_no_pretrain - INFO: - decode batch cost time : 0.023615151643753052 ms\n"
     ]
    },
    {
     "name": "stdout",
     "output_type": "stream",
     "text": [
      "predicted_words [[149, 449], [1024, 181], [122, 461], [122, 846], [461, 4], [108, 449], [9, 4], [7, 181]]\n",
      "---------------------------\n",
      "predicted_words [[24, 393], [4, 393], [108, 449], [449, 181], [122, 461], [231, 9], [24, 380], [449, 181]]\n",
      "---------------------------\n"
     ]
    },
    {
     "name": "stderr",
     "output_type": "stream",
     "text": [
      "I0417 23:43:40.504173 139696977332032 <ipython-input-11-3340543714f4>:36] decode batch cost time : 0.023615151643753052 ms\n",
      "2020-04-17 23:43:40 - Transformer_no_pretrain - INFO: - decode batch cost time : 0.022909045219421387 ms\n",
      "I0417 23:43:40.694413 139696977332032 <ipython-input-11-3340543714f4>:36] decode batch cost time : 0.022909045219421387 ms\n",
      "2020-04-17 23:43:40 - Transformer_no_pretrain - INFO: - decode batch cost time : 0.02276402711868286 ms\n",
      "I0417 23:43:40.883532 139696977332032 <ipython-input-11-3340543714f4>:36] decode batch cost time : 0.02276402711868286 ms\n"
     ]
    },
    {
     "name": "stdout",
     "output_type": "stream",
     "text": [
      "predicted_words [[7, 9], [4, 393], [24, 393], [449, 181], [461, 4], [231, 9], [24, 380], [449, 181]]\n",
      "---------------------------\n",
      "predicted_words [[108, 449], [4, 393], [24, 393], [449, 181], [461, 4], [231, 9], [24, 380], [449, 181]]\n",
      "---------------------------\n"
     ]
    },
    {
     "name": "stderr",
     "output_type": "stream",
     "text": [
      "2020-04-17 23:43:41 - Transformer_no_pretrain - INFO: - decode batch cost time : 0.023510456085205078 ms\n",
      "I0417 23:43:41.088235 139696977332032 <ipython-input-11-3340543714f4>:36] decode batch cost time : 0.023510456085205078 ms\n",
      "2020-04-17 23:43:41 - Transformer_no_pretrain - INFO: - decode batch cost time : 0.022605687379837036 ms\n",
      "I0417 23:43:41.276494 139696977332032 <ipython-input-11-3340543714f4>:36] decode batch cost time : 0.022605687379837036 ms\n"
     ]
    },
    {
     "name": "stdout",
     "output_type": "stream",
     "text": [
      "predicted_words [[149, 449], [449, 181], [122, 461], [122, 846], [461, 4], [108, 449], [9, 4], [7, 181]]\n",
      "---------------------------\n",
      "predicted_words [[149, 449], [4, 393], [122, 461], [122, 846], [461, 4], [108, 449], [9, 4], [7, 181]]\n",
      "---------------------------\n"
     ]
    },
    {
     "name": "stderr",
     "output_type": "stream",
     "text": [
      "2020-04-17 23:43:41 - Transformer_no_pretrain - INFO: - decode batch cost time : 0.02510806918144226 ms\n",
      "I0417 23:43:41.484692 139696977332032 <ipython-input-11-3340543714f4>:36] decode batch cost time : 0.02510806918144226 ms\n",
      "2020-04-17 23:43:41 - Transformer_no_pretrain - INFO: - decode batch cost time : 0.02237558364868164 ms\n",
      "I0417 23:43:41.671395 139696977332032 <ipython-input-11-3340543714f4>:36] decode batch cost time : 0.02237558364868164 ms\n"
     ]
    },
    {
     "name": "stdout",
     "output_type": "stream",
     "text": [
      "predicted_words [[149, 449], [4, 393], [122, 461], [122, 846], [461, 4], [108, 449], [9, 4], [7, 181]]\n",
      "---------------------------\n",
      "predicted_words [[108, 449], [24, 393], [122, 461], [122, 846], [461, 4], [108, 449], [9, 4], [7, 181]]\n",
      "---------------------------\n"
     ]
    },
    {
     "name": "stderr",
     "output_type": "stream",
     "text": [
      "2020-04-17 23:43:41 - Transformer_no_pretrain - INFO: - decode batch cost time : 0.022883296012878418 ms\n",
      "I0417 23:43:41.861242 139696977332032 <ipython-input-11-3340543714f4>:36] decode batch cost time : 0.022883296012878418 ms\n",
      "2020-04-17 23:43:42 - Transformer_no_pretrain - INFO: - decode batch cost time : 0.022155940532684326 ms\n",
      "I0417 23:43:42.044892 139696977332032 <ipython-input-11-3340543714f4>:36] decode batch cost time : 0.022155940532684326 ms\n"
     ]
    },
    {
     "name": "stdout",
     "output_type": "stream",
     "text": [
      "predicted_words [[24, 393], [24, 393], [1024, 181], [122, 846], [461, 4], [108, 449], [99, 4], [7, 181]]\n",
      "---------------------------\n",
      "predicted_words [[24, 393], [4, 393], [1024, 181], [122, 846], [461, 4], [108, 449], [99, 4], [7, 181]]\n",
      "---------------------------\n"
     ]
    },
    {
     "name": "stderr",
     "output_type": "stream",
     "text": [
      "2020-04-17 23:43:42 - Transformer_no_pretrain - INFO: - decode batch cost time : 0.022531121969223022 ms\n",
      "I0417 23:43:42.231838 139696977332032 <ipython-input-11-3340543714f4>:36] decode batch cost time : 0.022531121969223022 ms\n",
      "2020-04-17 23:43:42 - Transformer_no_pretrain - INFO: - decode batch cost time : 0.021867454051971436 ms\n",
      "I0417 23:43:42.413207 139696977332032 <ipython-input-11-3340543714f4>:36] decode batch cost time : 0.021867454051971436 ms\n"
     ]
    },
    {
     "name": "stdout",
     "output_type": "stream",
     "text": [
      "predicted_words [[149, 449], [449, 181], [122, 461], [122, 846], [461, 4], [108, 449], [9, 4], [7, 181]]\n",
      "---------------------------\n",
      "predicted_words [[149, 449], [449, 181], [122, 461], [122, 846], [461, 4], [108, 449], [9, 4], [7, 181]]\n",
      "---------------------------\n"
     ]
    },
    {
     "name": "stderr",
     "output_type": "stream",
     "text": [
      "2020-04-17 23:43:42 - Transformer_no_pretrain - INFO: - decode batch cost time : 0.022206515073776245 ms\n",
      "I0417 23:43:42.598390 139696977332032 <ipython-input-11-3340543714f4>:36] decode batch cost time : 0.022206515073776245 ms\n",
      "2020-04-17 23:43:42 - Transformer_no_pretrain - INFO: - decode batch cost time : 0.023650169372558594 ms\n",
      "I0417 23:43:42.795309 139696977332032 <ipython-input-11-3340543714f4>:36] decode batch cost time : 0.023650169372558594 ms\n"
     ]
    },
    {
     "name": "stdout",
     "output_type": "stream",
     "text": [
      "predicted_words [[149, 449], [449, 181], [122, 461], [122, 846], [461, 4], [108, 449], [9, 4], [7, 181]]\n",
      "---------------------------\n",
      "predicted_words [[24, 393], [1024, 181], [122, 461], [122, 846], [461, 4], [231, 9], [24, 380], [7, 181]]\n",
      "---------------------------\n"
     ]
    },
    {
     "name": "stderr",
     "output_type": "stream",
     "text": [
      "2020-04-17 23:43:42 - Transformer_no_pretrain - INFO: - decode batch cost time : 0.024412930011749268 ms\n",
      "I0417 23:43:42.998320 139696977332032 <ipython-input-11-3340543714f4>:36] decode batch cost time : 0.024412930011749268 ms\n",
      "2020-04-17 23:43:43 - Transformer_no_pretrain - INFO: - decode batch cost time : 0.02271205186843872 ms\n",
      "I0417 23:43:43.192462 139696977332032 <ipython-input-11-3340543714f4>:36] decode batch cost time : 0.02271205186843872 ms\n"
     ]
    },
    {
     "name": "stdout",
     "output_type": "stream",
     "text": [
      "predicted_words [[24, 393], [4, 393], [122, 461], [449, 181], [461, 4], [122, 461], [24, 380], [7, 181]]\n",
      "---------------------------\n",
      "predicted_words [[24, 393], [4, 393], [122, 461], [449, 181], [461, 4], [122, 461], [24, 380], [7, 181]]\n",
      "---------------------------\n"
     ]
    },
    {
     "name": "stderr",
     "output_type": "stream",
     "text": [
      "2020-04-17 23:43:43 - Transformer_no_pretrain - INFO: - decode batch cost time : 0.025769352912902832 ms\n",
      "I0417 23:43:43.410102 139696977332032 <ipython-input-11-3340543714f4>:36] decode batch cost time : 0.025769352912902832 ms\n",
      "2020-04-17 23:43:43 - Transformer_no_pretrain - INFO: - decode batch cost time : 0.02220362424850464 ms\n",
      "I0417 23:43:43.594955 139696977332032 <ipython-input-11-3340543714f4>:36] decode batch cost time : 0.02220362424850464 ms\n"
     ]
    },
    {
     "name": "stdout",
     "output_type": "stream",
     "text": [
      "predicted_words [[24, 393], [4, 393], [122, 461], [449, 181], [461, 4], [122, 461], [24, 380], [7, 181]]\n",
      "---------------------------\n",
      "predicted_words [[149, 449], [449, 181], [122, 461], [122, 846], [461, 4], [108, 449], [9, 4], [7, 181]]\n",
      "---------------------------\n"
     ]
    },
    {
     "name": "stderr",
     "output_type": "stream",
     "text": [
      "2020-04-17 23:43:43 - Transformer_no_pretrain - INFO: - decode batch cost time : 0.022572308778762817 ms\n",
      "I0417 23:43:43.782521 139696977332032 <ipython-input-11-3340543714f4>:36] decode batch cost time : 0.022572308778762817 ms\n",
      "2020-04-17 23:43:43 - Transformer_no_pretrain - INFO: - decode batch cost time : 0.02242395281791687 ms\n",
      "I0417 23:43:43.969571 139696977332032 <ipython-input-11-3340543714f4>:36] decode batch cost time : 0.02242395281791687 ms\n"
     ]
    },
    {
     "name": "stdout",
     "output_type": "stream",
     "text": [
      "predicted_words [[149, 449], [449, 181], [122, 461], [122, 846], [461, 4], [108, 449], [9, 4], [7, 181]]\n",
      "---------------------------\n",
      "predicted_words [[149, 449], [4, 393], [122, 461], [122, 846], [461, 4], [108, 449], [9, 4], [7, 181]]\n",
      "---------------------------\n"
     ]
    },
    {
     "name": "stderr",
     "output_type": "stream",
     "text": [
      "2020-04-17 23:43:44 - Transformer_no_pretrain - INFO: - decode batch cost time : 0.022418618202209473 ms\n",
      "I0417 23:43:44.156612 139696977332032 <ipython-input-11-3340543714f4>:36] decode batch cost time : 0.022418618202209473 ms\n",
      "2020-04-17 23:43:44 - Transformer_no_pretrain - INFO: - decode batch cost time : 0.023682087659835815 ms\n",
      "I0417 23:43:44.353833 139696977332032 <ipython-input-11-3340543714f4>:36] decode batch cost time : 0.023682087659835815 ms\n"
     ]
    },
    {
     "name": "stdout",
     "output_type": "stream",
     "text": [
      "predicted_words [[149, 449], [449, 181], [122, 461], [122, 846], [461, 4], [108, 449], [9, 4], [7, 181]]\n",
      "---------------------------\n",
      "predicted_words [[149, 449], [449, 181], [122, 461], [122, 846], [461, 4], [108, 449], [9, 4], [7, 181]]\n",
      "---------------------------\n"
     ]
    },
    {
     "name": "stderr",
     "output_type": "stream",
     "text": [
      "2020-04-17 23:43:44 - Transformer_no_pretrain - INFO: - decode batch cost time : 0.024407297372817993 ms\n",
      "I0417 23:43:44.556693 139696977332032 <ipython-input-11-3340543714f4>:36] decode batch cost time : 0.024407297372817993 ms\n"
     ]
    },
    {
     "name": "stdout",
     "output_type": "stream",
     "text": [
      "predicted_words [[24, 393], [4, 393], [1024, 181], [122, 846], [461, 4], [108, 449], [99, 4], [7, 181]]\n",
      "---------------------------\n"
     ]
    },
    {
     "name": "stderr",
     "output_type": "stream",
     "text": [
      "2020-04-17 23:43:44 - Transformer_no_pretrain - INFO: - decode batch cost time : 0.023491710424423218 ms\n",
      "I0417 23:43:44.760526 139696977332032 <ipython-input-11-3340543714f4>:36] decode batch cost time : 0.023491710424423218 ms\n"
     ]
    },
    {
     "name": "stdout",
     "output_type": "stream",
     "text": [
      "predicted_words [[149, 449], [1024, 181], [122, 461], [122, 846], [461, 4], [108, 449], [9, 4], [7, 181]]\n",
      "---------------------------\n"
     ]
    },
    {
     "name": "stderr",
     "output_type": "stream",
     "text": [
      "2020-04-17 23:43:44 - Transformer_no_pretrain - INFO: - decode batch cost time : 0.024276435375213623 ms\n",
      "I0417 23:43:44.966016 139696977332032 <ipython-input-11-3340543714f4>:36] decode batch cost time : 0.024276435375213623 ms\n",
      "2020-04-17 23:43:45 - Transformer_no_pretrain - INFO: - decode batch cost time : 0.022502869367599487 ms\n",
      "I0417 23:43:45.153591 139696977332032 <ipython-input-11-3340543714f4>:36] decode batch cost time : 0.022502869367599487 ms\n"
     ]
    },
    {
     "name": "stdout",
     "output_type": "stream",
     "text": [
      "predicted_words [[149, 449], [449, 181], [122, 461], [122, 846], [461, 4], [108, 449], [9, 4], [7, 181]]\n",
      "---------------------------\n",
      "predicted_words [[149, 449], [1024, 181], [122, 461], [122, 846], [461, 4], [108, 449], [9, 4], [7, 181]]\n",
      "---------------------------\n"
     ]
    },
    {
     "name": "stderr",
     "output_type": "stream",
     "text": [
      "2020-04-17 23:43:45 - Transformer_no_pretrain - INFO: - decode batch cost time : 0.023221760988235474 ms\n",
      "I0417 23:43:45.346974 139696977332032 <ipython-input-11-3340543714f4>:36] decode batch cost time : 0.023221760988235474 ms\n",
      "2020-04-17 23:43:45 - Transformer_no_pretrain - INFO: - decode batch cost time : 0.02275407314300537 ms\n",
      "I0417 23:43:45.536448 139696977332032 <ipython-input-11-3340543714f4>:36] decode batch cost time : 0.02275407314300537 ms\n"
     ]
    },
    {
     "name": "stdout",
     "output_type": "stream",
     "text": [
      "predicted_words [[24, 393], [4, 393], [1024, 181], [449, 181], [461, 4], [108, 449], [24, 380], [24, 393]]\n",
      "---------------------------\n",
      "predicted_words [[24, 393], [4, 393], [1024, 181], [449, 181], [461, 4], [108, 449], [24, 380], [24, 393]]\n",
      "---------------------------\n"
     ]
    },
    {
     "name": "stderr",
     "output_type": "stream",
     "text": [
      "2020-04-17 23:43:45 - Transformer_no_pretrain - INFO: - decode batch cost time : 0.02303028106689453 ms\n",
      "I0417 23:43:45.737663 139696977332032 <ipython-input-11-3340543714f4>:36] decode batch cost time : 0.02303028106689453 ms\n",
      "2020-04-17 23:43:45 - Transformer_no_pretrain - INFO: - decode batch cost time : 0.022758930921554565 ms\n",
      "I0417 23:43:45.936861 139696977332032 <ipython-input-11-3340543714f4>:36] decode batch cost time : 0.022758930921554565 ms\n"
     ]
    },
    {
     "name": "stdout",
     "output_type": "stream",
     "text": [
      "predicted_words [[24, 393], [4, 393], [1024, 181], [449, 181], [461, 4], [108, 449], [24, 380], [24, 393]]\n",
      "---------------------------\n",
      "predicted_words [[149, 449], [1024, 181], [122, 461], [122, 846], [461, 4], [108, 449], [9, 4], [7, 181]]\n",
      "---------------------------\n"
     ]
    },
    {
     "name": "stderr",
     "output_type": "stream",
     "text": [
      "2020-04-17 23:43:46 - Transformer_no_pretrain - INFO: - decode batch cost time : 0.022556066513061523 ms\n",
      "I0417 23:43:46.124506 139696977332032 <ipython-input-11-3340543714f4>:36] decode batch cost time : 0.022556066513061523 ms\n",
      "2020-04-17 23:43:46 - Transformer_no_pretrain - INFO: - decode batch cost time : 0.022603392601013184 ms\n",
      "I0417 23:43:46.312390 139696977332032 <ipython-input-11-3340543714f4>:36] decode batch cost time : 0.022603392601013184 ms\n"
     ]
    },
    {
     "name": "stdout",
     "output_type": "stream",
     "text": [
      "predicted_words [[149, 449], [1024, 181], [122, 461], [122, 846], [461, 4], [108, 449], [9, 4], [7, 181]]\n",
      "---------------------------\n",
      "predicted_words [[24, 393], [4, 393], [24, 393], [449, 181], [461, 4], [108, 449], [99, 4], [7, 181]]\n",
      "---------------------------\n"
     ]
    },
    {
     "name": "stderr",
     "output_type": "stream",
     "text": [
      "2020-04-17 23:43:46 - Transformer_no_pretrain - INFO: - decode batch cost time : 0.02348467707633972 ms\n",
      "I0417 23:43:46.512617 139696977332032 <ipython-input-11-3340543714f4>:36] decode batch cost time : 0.02348467707633972 ms\n",
      "2020-04-17 23:43:46 - Transformer_no_pretrain - INFO: - decode batch cost time : 0.022603541612625122 ms\n",
      "I0417 23:43:46.701322 139696977332032 <ipython-input-11-3340543714f4>:36] decode batch cost time : 0.022603541612625122 ms\n"
     ]
    },
    {
     "name": "stdout",
     "output_type": "stream",
     "text": [
      "predicted_words [[149, 449], [449, 181], [122, 461], [461, 9], [461, 4], [108, 449], [9, 4], [7, 181]]\n",
      "---------------------------\n",
      "predicted_words [[149, 449], [449, 181], [122, 461], [122, 846], [461, 4], [108, 449], [9, 4], [7, 181]]\n",
      "---------------------------\n"
     ]
    },
    {
     "name": "stderr",
     "output_type": "stream",
     "text": [
      "2020-04-17 23:43:46 - Transformer_no_pretrain - INFO: - decode batch cost time : 0.02274879813194275 ms\n",
      "I0417 23:43:46.890959 139696977332032 <ipython-input-11-3340543714f4>:36] decode batch cost time : 0.02274879813194275 ms\n",
      "2020-04-17 23:43:47 - Transformer_no_pretrain - INFO: - decode batch cost time : 0.02239471673965454 ms\n",
      "I0417 23:43:47.077268 139696977332032 <ipython-input-11-3340543714f4>:36] decode batch cost time : 0.02239471673965454 ms\n"
     ]
    },
    {
     "name": "stdout",
     "output_type": "stream",
     "text": [
      "predicted_words [[149, 449], [1024, 181], [122, 461], [122, 846], [461, 4], [108, 449], [9, 4], [7, 181]]\n",
      "---------------------------\n",
      "predicted_words [[149, 449], [449, 181], [122, 461], [122, 846], [461, 4], [108, 449], [9, 4], [7, 181]]\n",
      "---------------------------\n"
     ]
    },
    {
     "name": "stderr",
     "output_type": "stream",
     "text": [
      "2020-04-17 23:43:47 - Transformer_no_pretrain - INFO: - decode batch cost time : 0.022737324237823486 ms\n",
      "I0417 23:43:47.266148 139696977332032 <ipython-input-11-3340543714f4>:36] decode batch cost time : 0.022737324237823486 ms\n"
     ]
    },
    {
     "name": "stdout",
     "output_type": "stream",
     "text": [
      "predicted_words [[24, 393], [1024, 181], [1024, 181], [449, 181], [461, 4], [231, 9], [9, 4], [7, 181]]\n",
      "---------------------------\n"
     ]
    },
    {
     "name": "stderr",
     "output_type": "stream",
     "text": [
      "2020-04-17 23:43:47 - Transformer_no_pretrain - INFO: - decode batch cost time : 0.024292796850204468 ms\n",
      "I0417 23:43:47.467735 139696977332032 <ipython-input-11-3340543714f4>:36] decode batch cost time : 0.024292796850204468 ms\n",
      "2020-04-17 23:43:47 - Transformer_no_pretrain - INFO: - decode batch cost time : 0.022518396377563477 ms\n",
      "I0417 23:43:47.654912 139696977332032 <ipython-input-11-3340543714f4>:36] decode batch cost time : 0.022518396377563477 ms\n"
     ]
    },
    {
     "name": "stdout",
     "output_type": "stream",
     "text": [
      "predicted_words [[24, 393], [24, 393], [1024, 181], [449, 181], [461, 4], [99, 9], [9, 4], [7, 181]]\n",
      "---------------------------\n",
      "predicted_words [[24, 393], [4, 393], [1024, 181], [122, 846], [461, 4], [108, 449], [99, 4], [7, 181]]\n",
      "---------------------------\n"
     ]
    },
    {
     "name": "stderr",
     "output_type": "stream",
     "text": [
      "2020-04-17 23:43:47 - Transformer_no_pretrain - INFO: - decode batch cost time : 0.02265113592147827 ms\n",
      "I0417 23:43:47.842816 139696977332032 <ipython-input-11-3340543714f4>:36] decode batch cost time : 0.02265113592147827 ms\n",
      "2020-04-17 23:43:48 - Transformer_no_pretrain - INFO: - decode batch cost time : 0.02258172631263733 ms\n",
      "I0417 23:43:48.030163 139696977332032 <ipython-input-11-3340543714f4>:36] decode batch cost time : 0.02258172631263733 ms\n"
     ]
    },
    {
     "name": "stdout",
     "output_type": "stream",
     "text": [
      "predicted_words [[149, 449], [1024, 181], [122, 461], [122, 846], [461, 4], [108, 449], [9, 4], [7, 181]]\n",
      "---------------------------\n",
      "predicted_words [[149, 449], [1024, 181], [122, 461], [122, 846], [461, 4], [108, 449], [9, 4], [7, 181]]\n",
      "---------------------------\n"
     ]
    },
    {
     "name": "stderr",
     "output_type": "stream",
     "text": [
      "2020-04-17 23:43:48 - Transformer_no_pretrain - INFO: - decode batch cost time : 0.02397066354751587 ms\n",
      "I0417 23:43:48.233505 139696977332032 <ipython-input-11-3340543714f4>:36] decode batch cost time : 0.02397066354751587 ms\n"
     ]
    },
    {
     "name": "stdout",
     "output_type": "stream",
     "text": [
      "predicted_words [[24, 393], [1024, 181], [24, 393], [449, 181], [461, 4], [108, 449], [99, 4], [7, 181]]\n",
      "---------------------------\n"
     ]
    },
    {
     "name": "stderr",
     "output_type": "stream",
     "text": [
      "2020-04-17 23:43:48 - Transformer_no_pretrain - INFO: - decode batch cost time : 0.023853003978729248 ms\n",
      "I0417 23:43:48.436801 139696977332032 <ipython-input-11-3340543714f4>:36] decode batch cost time : 0.023853003978729248 ms\n",
      "2020-04-17 23:43:48 - Transformer_no_pretrain - INFO: - decode batch cost time : 0.02262362837791443 ms\n",
      "I0417 23:43:48.630530 139696977332032 <ipython-input-11-3340543714f4>:36] decode batch cost time : 0.02262362837791443 ms\n"
     ]
    },
    {
     "name": "stdout",
     "output_type": "stream",
     "text": [
      "predicted_words [[24, 393], [24, 393], [1024, 181], [122, 846], [461, 4], [108, 449], [99, 4], [7, 181]]\n",
      "---------------------------\n",
      "predicted_words [[149, 449], [4, 393], [1024, 181], [122, 846], [461, 4], [149, 449], [99, 4], [7, 181]]\n",
      "---------------------------\n"
     ]
    },
    {
     "name": "stderr",
     "output_type": "stream",
     "text": [
      "2020-04-17 23:43:48 - Transformer_no_pretrain - INFO: - decode batch cost time : 0.02538686990737915 ms\n",
      "I0417 23:43:48.841231 139696977332032 <ipython-input-11-3340543714f4>:36] decode batch cost time : 0.02538686990737915 ms\n",
      "2020-04-17 23:43:49 - Transformer_no_pretrain - INFO: - decode batch cost time : 0.023187905550003052 ms\n",
      "I0417 23:43:49.033955 139696977332032 <ipython-input-11-3340543714f4>:36] decode batch cost time : 0.023187905550003052 ms\n"
     ]
    },
    {
     "name": "stdout",
     "output_type": "stream",
     "text": [
      "predicted_words [[149, 449], [1024, 181], [122, 461], [122, 846], [461, 4], [108, 449], [9, 4], [7, 181]]\n",
      "---------------------------\n",
      "predicted_words [[149, 449], [449, 181], [122, 461], [122, 846], [461, 4], [108, 449], [9, 4], [7, 181]]\n",
      "---------------------------\n"
     ]
    },
    {
     "name": "stderr",
     "output_type": "stream",
     "text": [
      "2020-04-17 23:43:49 - Transformer_no_pretrain - INFO: - decode batch cost time : 0.022747159004211426 ms\n",
      "I0417 23:43:49.223828 139696977332032 <ipython-input-11-3340543714f4>:36] decode batch cost time : 0.022747159004211426 ms\n",
      "2020-04-17 23:43:49 - Transformer_no_pretrain - INFO: - decode batch cost time : 0.022757530212402344 ms\n",
      "I0417 23:43:49.413661 139696977332032 <ipython-input-11-3340543714f4>:36] decode batch cost time : 0.022757530212402344 ms\n"
     ]
    },
    {
     "name": "stdout",
     "output_type": "stream",
     "text": [
      "predicted_words [[24, 393], [4, 393], [24, 393], [449, 181], [461, 4], [7, 9], [461, 4], [24, 393]]\n",
      "---------------------------\n",
      "predicted_words [[231, 9], [4, 393], [122, 461], [122, 846], [461, 4], [122, 461], [461, 4], [449, 181]]\n",
      "---------------------------\n"
     ]
    },
    {
     "name": "stderr",
     "output_type": "stream",
     "text": [
      "2020-04-17 23:43:49 - Transformer_no_pretrain - INFO: - decode batch cost time : 0.02429214119911194 ms\n",
      "I0417 23:43:49.623412 139696977332032 <ipython-input-11-3340543714f4>:36] decode batch cost time : 0.02429214119911194 ms\n",
      "2020-04-17 23:43:49 - Transformer_no_pretrain - INFO: - decode batch cost time : 0.023431390523910522 ms\n",
      "I0417 23:43:49.822899 139696977332032 <ipython-input-11-3340543714f4>:36] decode batch cost time : 0.023431390523910522 ms\n"
     ]
    },
    {
     "name": "stdout",
     "output_type": "stream",
     "text": [
      "predicted_words [[24, 393], [1024, 181], [1024, 181], [449, 181], [461, 4], [108, 449], [9, 4], [7, 181]]\n",
      "---------------------------\n",
      "predicted_words [[149, 449], [1024, 181], [122, 461], [122, 846], [461, 4], [108, 449], [9, 4], [7, 181]]\n",
      "---------------------------\n"
     ]
    },
    {
     "name": "stderr",
     "output_type": "stream",
     "text": [
      "2020-04-17 23:43:50 - Transformer_no_pretrain - INFO: - decode batch cost time : 0.02275639772415161 ms\n",
      "I0417 23:43:50.012795 139696977332032 <ipython-input-11-3340543714f4>:36] decode batch cost time : 0.02275639772415161 ms\n"
     ]
    },
    {
     "name": "stdout",
     "output_type": "stream",
     "text": [
      "predicted_words [[149, 449], [449, 181], [122, 461], [122, 846], [461, 4], [108, 449], [9, 4], [7, 181]]\n",
      "---------------------------\n"
     ]
    },
    {
     "name": "stderr",
     "output_type": "stream",
     "text": [
      "2020-04-17 23:43:50 - Transformer_no_pretrain - INFO: - decode batch cost time : 0.027978122234344482 ms\n",
      "I0417 23:43:50.244878 139696977332032 <ipython-input-11-3340543714f4>:36] decode batch cost time : 0.027978122234344482 ms\n",
      "2020-04-17 23:43:50 - Transformer_no_pretrain - INFO: - decode batch cost time : 0.022509902715682983 ms\n",
      "I0417 23:43:50.433287 139696977332032 <ipython-input-11-3340543714f4>:36] decode batch cost time : 0.022509902715682983 ms\n"
     ]
    },
    {
     "name": "stdout",
     "output_type": "stream",
     "text": [
      "predicted_words [[149, 449], [449, 181], [122, 461], [122, 846], [461, 4], [108, 449], [9, 4], [7, 181]]\n",
      "---------------------------\n",
      "predicted_words [[149, 449], [449, 181], [122, 461], [122, 846], [461, 4], [108, 449], [99, 4], [24, 393]]\n",
      "---------------------------\n"
     ]
    },
    {
     "name": "stderr",
     "output_type": "stream",
     "text": [
      "2020-04-17 23:43:50 - Transformer_no_pretrain - INFO: - decode batch cost time : 0.022163838148117065 ms\n",
      "I0417 23:43:50.618561 139696977332032 <ipython-input-11-3340543714f4>:36] decode batch cost time : 0.022163838148117065 ms\n",
      "2020-04-17 23:43:50 - Transformer_no_pretrain - INFO: - decode batch cost time : 0.021726250648498535 ms\n",
      "I0417 23:43:50.800211 139696977332032 <ipython-input-11-3340543714f4>:36] decode batch cost time : 0.021726250648498535 ms\n"
     ]
    },
    {
     "name": "stdout",
     "output_type": "stream",
     "text": [
      "predicted_words [[108, 449], [24, 393], [122, 461], [122, 846], [461, 4], [108, 449], [99, 4], [7, 181]]\n",
      "---------------------------\n",
      "predicted_words [[149, 449], [449, 181], [122, 461], [122, 846], [461, 4], [108, 449], [9, 4], [7, 181]]\n",
      "---------------------------\n"
     ]
    },
    {
     "name": "stderr",
     "output_type": "stream",
     "text": [
      "2020-04-17 23:43:50 - Transformer_no_pretrain - INFO: - decode batch cost time : 0.02317357063293457 ms\n",
      "I0417 23:43:50.993064 139696977332032 <ipython-input-11-3340543714f4>:36] decode batch cost time : 0.02317357063293457 ms\n",
      "2020-04-17 23:43:51 - Transformer_no_pretrain - INFO: - decode batch cost time : 0.023273169994354248 ms\n",
      "I0417 23:43:51.186662 139696977332032 <ipython-input-11-3340543714f4>:36] decode batch cost time : 0.023273169994354248 ms\n"
     ]
    },
    {
     "name": "stdout",
     "output_type": "stream",
     "text": [
      "predicted_words [[149, 449], [449, 181], [122, 461], [122, 846], [461, 4], [108, 449], [9, 4], [7, 181]]\n",
      "---------------------------\n",
      "predicted_words [[149, 449], [24, 393], [122, 461], [122, 846], [461, 4], [108, 449], [99, 4], [7, 181]]\n",
      "---------------------------\n"
     ]
    },
    {
     "name": "stderr",
     "output_type": "stream",
     "text": [
      "2020-04-17 23:43:51 - Transformer_no_pretrain - INFO: - decode batch cost time : 0.023947864770889282 ms\n",
      "I0417 23:43:51.386281 139696977332032 <ipython-input-11-3340543714f4>:36] decode batch cost time : 0.023947864770889282 ms\n",
      "2020-04-17 23:43:51 - Transformer_no_pretrain - INFO: - decode batch cost time : 0.023116111755371094 ms\n",
      "I0417 23:43:51.579629 139696977332032 <ipython-input-11-3340543714f4>:36] decode batch cost time : 0.023116111755371094 ms\n"
     ]
    },
    {
     "name": "stdout",
     "output_type": "stream",
     "text": [
      "predicted_words [[24, 393], [1024, 181], [1024, 181], [122, 846], [461, 4], [108, 449], [9, 4], [7, 181]]\n",
      "---------------------------\n",
      "predicted_words [[149, 449], [1024, 181], [1024, 181], [122, 846], [461, 4], [108, 449], [99, 4], [7, 181]]\n",
      "---------------------------\n"
     ]
    },
    {
     "name": "stderr",
     "output_type": "stream",
     "text": [
      "2020-04-17 23:43:51 - Transformer_no_pretrain - INFO: - decode batch cost time : 0.024235427379608154 ms\n",
      "I0417 23:43:51.781116 139696977332032 <ipython-input-11-3340543714f4>:36] decode batch cost time : 0.024235427379608154 ms\n",
      "2020-04-17 23:43:51 - Transformer_no_pretrain - INFO: - decode batch cost time : 0.023244529962539673 ms\n",
      "I0417 23:43:51.980607 139696977332032 <ipython-input-11-3340543714f4>:36] decode batch cost time : 0.023244529962539673 ms\n"
     ]
    },
    {
     "name": "stdout",
     "output_type": "stream",
     "text": [
      "predicted_words [[149, 449], [449, 181], [122, 461], [122, 846], [461, 4], [108, 449], [9, 4], [7, 181]]\n",
      "---------------------------\n",
      "predicted_words [[149, 449], [449, 181], [122, 461], [122, 846], [461, 4], [108, 449], [9, 4], [7, 181]]\n",
      "---------------------------\n"
     ]
    },
    {
     "name": "stderr",
     "output_type": "stream",
     "text": [
      "2020-04-17 23:43:52 - Transformer_no_pretrain - INFO: - decode batch cost time : 0.024016499519348145 ms\n",
      "I0417 23:43:52.186077 139696977332032 <ipython-input-11-3340543714f4>:36] decode batch cost time : 0.024016499519348145 ms\n",
      "2020-04-17 23:43:52 - Transformer_no_pretrain - INFO: - decode batch cost time : 0.0228690505027771 ms\n",
      "I0417 23:43:52.376730 139696977332032 <ipython-input-11-3340543714f4>:36] decode batch cost time : 0.0228690505027771 ms\n"
     ]
    },
    {
     "name": "stdout",
     "output_type": "stream",
     "text": [
      "predicted_words [[149, 449], [449, 181], [122, 461], [122, 846], [461, 4], [108, 449], [9, 4], [7, 181]]\n",
      "---------------------------\n",
      "predicted_words [[149, 449], [449, 181], [122, 461], [122, 846], [461, 4], [108, 449], [9, 4], [7, 181]]\n",
      "---------------------------\n"
     ]
    },
    {
     "name": "stderr",
     "output_type": "stream",
     "text": [
      "2020-04-17 23:43:52 - Transformer_no_pretrain - INFO: - decode batch cost time : 0.02219688892364502 ms\n",
      "I0417 23:43:52.561873 139696977332032 <ipython-input-11-3340543714f4>:36] decode batch cost time : 0.02219688892364502 ms\n",
      "2020-04-17 23:43:52 - Transformer_no_pretrain - INFO: - decode batch cost time : 0.02184697985649109 ms\n",
      "I0417 23:43:52.743814 139696977332032 <ipython-input-11-3340543714f4>:36] decode batch cost time : 0.02184697985649109 ms\n"
     ]
    },
    {
     "name": "stdout",
     "output_type": "stream",
     "text": [
      "predicted_words [[149, 449], [449, 181], [122, 461], [122, 846], [461, 4], [108, 449], [9, 4], [7, 181]]\n",
      "---------------------------\n",
      "predicted_words [[149, 449], [4, 393], [122, 461], [122, 846], [461, 4], [108, 449], [9, 4], [7, 181]]\n",
      "---------------------------\n"
     ]
    },
    {
     "name": "stderr",
     "output_type": "stream",
     "text": [
      "2020-04-17 23:43:52 - Transformer_no_pretrain - INFO: - decode batch cost time : 0.022985398769378662 ms\n",
      "I0417 23:43:52.935476 139696977332032 <ipython-input-11-3340543714f4>:36] decode batch cost time : 0.022985398769378662 ms\n"
     ]
    },
    {
     "name": "stdout",
     "output_type": "stream",
     "text": [
      "predicted_words [[149, 449], [1024, 181], [122, 461], [122, 846], [461, 4], [108, 449], [9, 4], [7, 181]]\n",
      "---------------------------\n"
     ]
    },
    {
     "name": "stderr",
     "output_type": "stream",
     "text": [
      "2020-04-17 23:43:53 - Transformer_no_pretrain - INFO: - decode batch cost time : 0.024486452341079712 ms\n",
      "I0417 23:43:53.138391 139696977332032 <ipython-input-11-3340543714f4>:36] decode batch cost time : 0.024486452341079712 ms\n"
     ]
    },
    {
     "name": "stdout",
     "output_type": "stream",
     "text": [
      "predicted_words [[149, 449], [1024, 181], [122, 461], [122, 846], [461, 4], [108, 449], [9, 4], [7, 181]]\n",
      "---------------------------\n",
      "predicted_words "
     ]
    },
    {
     "name": "stderr",
     "output_type": "stream",
     "text": [
      "2020-04-17 23:43:53 - Transformer_no_pretrain - INFO: - decode batch cost time : 0.022898077964782715 ms\n",
      "I0417 23:43:53.339477 139696977332032 <ipython-input-11-3340543714f4>:36] decode batch cost time : 0.022898077964782715 ms\n",
      "2020-04-17 23:43:53 - Transformer_no_pretrain - INFO: - decode batch cost time : 0.023295462131500244 ms\n",
      "I0417 23:43:53.533264 139696977332032 <ipython-input-11-3340543714f4>:36] decode batch cost time : 0.023295462131500244 ms\n",
      "2020-04-17 23:43:53 - Transformer_no_pretrain - INFO: - decode batch cost time : 0.02261599898338318 ms\n",
      "I0417 23:43:53.721579 139696977332032 <ipython-input-11-3340543714f4>:36] decode batch cost time : 0.02261599898338318 ms\n"
     ]
    },
    {
     "name": "stdout",
     "output_type": "stream",
     "text": [
      "[[24, 393], [99, 149], [24, 393], [1024, 181], [231, 4], [7, 4], [461, 4], [122, 846]]\n",
      "---------------------------\n",
      "predicted_words [[108, 449], [15, 108], [24, 393], [1024, 181], [231, 4], [7, 4], [461, 4], [24, 393]]\n",
      "---------------------------\n",
      "predicted_words [[149, 449], [1024, 181], [122, 461], [122, 846], [461, 4], [108, 449], [9, 4], [7, 181]]\n",
      "---------------------------\n"
     ]
    },
    {
     "name": "stderr",
     "output_type": "stream",
     "text": [
      "2020-04-17 23:43:53 - Transformer_no_pretrain - INFO: - decode batch cost time : 0.02302536368370056 ms\n",
      "I0417 23:43:53.913741 139696977332032 <ipython-input-11-3340543714f4>:36] decode batch cost time : 0.02302536368370056 ms\n",
      "2020-04-17 23:43:54 - Transformer_no_pretrain - INFO: - decode batch cost time : 0.02279949188232422 ms\n",
      "I0417 23:43:54.106346 139696977332032 <ipython-input-11-3340543714f4>:36] decode batch cost time : 0.02279949188232422 ms\n"
     ]
    },
    {
     "name": "stdout",
     "output_type": "stream",
     "text": [
      "predicted_words [[24, 393], [4, 393], [1024, 181], [122, 846], [461, 4], [108, 449], [99, 4], [7, 181]]\n",
      "---------------------------\n",
      "predicted_words [[149, 449], [1024, 181], [122, 461], [122, 846], [461, 4], [108, 449], [9, 4], [7, 181]]\n",
      "---------------------------\n"
     ]
    },
    {
     "name": "stderr",
     "output_type": "stream",
     "text": [
      "2020-04-17 23:43:54 - Transformer_no_pretrain - INFO: - decode batch cost time : 0.022816866636276245 ms\n",
      "I0417 23:43:54.296659 139696977332032 <ipython-input-11-3340543714f4>:36] decode batch cost time : 0.022816866636276245 ms\n",
      "2020-04-17 23:43:54 - Transformer_no_pretrain - INFO: - decode batch cost time : 0.022834479808807373 ms\n",
      "I0417 23:43:54.487248 139696977332032 <ipython-input-11-3340543714f4>:36] decode batch cost time : 0.022834479808807373 ms\n"
     ]
    },
    {
     "name": "stdout",
     "output_type": "stream",
     "text": [
      "predicted_words [[149, 449], [4, 393], [1024, 181], [122, 846], [461, 4], [108, 449], [9, 4], [7, 181]]\n",
      "---------------------------\n",
      "predicted_words [[149, 449], [449, 181], [122, 461], [122, 846], [461, 4], [108, 449], [9, 4], [7, 181]]\n",
      "---------------------------\n"
     ]
    },
    {
     "name": "stderr",
     "output_type": "stream",
     "text": [
      "2020-04-17 23:43:54 - Transformer_no_pretrain - INFO: - decode batch cost time : 0.025464177131652832 ms\n",
      "I0417 23:43:54.698627 139696977332032 <ipython-input-11-3340543714f4>:36] decode batch cost time : 0.025464177131652832 ms\n",
      "2020-04-17 23:43:54 - Transformer_no_pretrain - INFO: - decode batch cost time : 0.023045271635055542 ms\n",
      "I0417 23:43:54.890594 139696977332032 <ipython-input-11-3340543714f4>:36] decode batch cost time : 0.023045271635055542 ms\n"
     ]
    },
    {
     "name": "stdout",
     "output_type": "stream",
     "text": [
      "predicted_words [[149, 449], [1024, 181], [122, 461], [122, 846], [461, 4], [108, 449], [9, 4], [7, 181]]\n",
      "---------------------------\n",
      "predicted_words [[24, 393], [1024, 181], [1024, 181], [122, 846], [461, 4], [108, 449], [9, 4], [449, 181]]\n",
      "---------------------------\n"
     ]
    },
    {
     "name": "stderr",
     "output_type": "stream",
     "text": [
      "2020-04-17 23:43:55 - Transformer_no_pretrain - INFO: - decode batch cost time : 0.022962301969528198 ms\n",
      "I0417 23:43:55.082199 139696977332032 <ipython-input-11-3340543714f4>:36] decode batch cost time : 0.022962301969528198 ms\n",
      "2020-04-17 23:43:55 - Transformer_no_pretrain - INFO: - decode batch cost time : 0.022985368967056274 ms\n",
      "I0417 23:43:55.273772 139696977332032 <ipython-input-11-3340543714f4>:36] decode batch cost time : 0.022985368967056274 ms\n"
     ]
    },
    {
     "name": "stdout",
     "output_type": "stream",
     "text": [
      "predicted_words [[24, 393], [1024, 181], [1024, 181], [122, 846], [461, 4], [108, 449], [9, 4], [449, 181]]\n",
      "---------------------------\n",
      "predicted_words [[149, 449], [449, 181], [122, 461], [122, 846], [461, 4], [108, 449], [9, 4], [7, 181]]\n",
      "---------------------------\n"
     ]
    },
    {
     "name": "stderr",
     "output_type": "stream",
     "text": [
      "2020-04-17 23:43:55 - Transformer_no_pretrain - INFO: - decode batch cost time : 0.024066954851150513 ms\n",
      "I0417 23:43:55.473590 139696977332032 <ipython-input-11-3340543714f4>:36] decode batch cost time : 0.024066954851150513 ms\n",
      "2020-04-17 23:43:55 - Transformer_no_pretrain - INFO: - decode batch cost time : 0.02290743589401245 ms\n",
      "I0417 23:43:55.664505 139696977332032 <ipython-input-11-3340543714f4>:36] decode batch cost time : 0.02290743589401245 ms\n"
     ]
    },
    {
     "name": "stdout",
     "output_type": "stream",
     "text": [
      "predicted_words [[149, 449], [449, 181], [122, 461], [122, 846], [461, 4], [108, 449], [9, 4], [7, 181]]\n",
      "---------------------------\n",
      "predicted_words [[108, 449], [1024, 181], [122, 461], [122, 846], [461, 4], [108, 449], [99, 4], [7, 181]]\n",
      "---------------------------\n"
     ]
    },
    {
     "name": "stderr",
     "output_type": "stream",
     "text": [
      "2020-04-17 23:43:55 - Transformer_no_pretrain - INFO: - decode batch cost time : 0.02351430058479309 ms\n",
      "I0417 23:43:55.864972 139696977332032 <ipython-input-11-3340543714f4>:36] decode batch cost time : 0.02351430058479309 ms\n",
      "2020-04-17 23:43:56 - Transformer_no_pretrain - INFO: - decode batch cost time : 0.022473007440567017 ms\n",
      "I0417 23:43:56.052590 139696977332032 <ipython-input-11-3340543714f4>:36] decode batch cost time : 0.022473007440567017 ms\n"
     ]
    },
    {
     "name": "stdout",
     "output_type": "stream",
     "text": [
      "predicted_words [[24, 393], [1024, 181], [1024, 181], [449, 181], [461, 4], [108, 449], [99, 4], [7, 181]]\n",
      "---------------------------\n",
      "predicted_words [[24, 393], [1024, 181], [122, 461], [122, 846], [461, 4], [108, 449], [9, 4], [7, 181]]\n",
      "---------------------------\n"
     ]
    },
    {
     "name": "stderr",
     "output_type": "stream",
     "text": [
      "2020-04-17 23:43:56 - Transformer_no_pretrain - INFO: - decode batch cost time : 0.021907061338424683 ms\n",
      "I0417 23:43:56.235538 139696977332032 <ipython-input-11-3340543714f4>:36] decode batch cost time : 0.021907061338424683 ms\n",
      "2020-04-17 23:43:56 - Transformer_no_pretrain - INFO: - decode batch cost time : 0.02277684211730957 ms\n",
      "I0417 23:43:56.430693 139696977332032 <ipython-input-11-3340543714f4>:36] decode batch cost time : 0.02277684211730957 ms\n"
     ]
    },
    {
     "name": "stdout",
     "output_type": "stream",
     "text": [
      "predicted_words [[149, 449], [1024, 181], [122, 461], [122, 846], [461, 4], [108, 449], [9, 4], [7, 181]]\n",
      "---------------------------\n",
      "predicted_words [[24, 393], [4, 393], [24, 393], [171, 149], [62, 59], [108, 449], [461, 4], [122, 846]]\n",
      "---------------------------\n"
     ]
    },
    {
     "name": "stderr",
     "output_type": "stream",
     "text": [
      "2020-04-17 23:43:56 - Transformer_no_pretrain - INFO: - decode batch cost time : 0.023830324411392212 ms\n",
      "I0417 23:43:56.634083 139696977332032 <ipython-input-11-3340543714f4>:36] decode batch cost time : 0.023830324411392212 ms\n",
      "2020-04-17 23:43:56 - Transformer_no_pretrain - INFO: - decode batch cost time : 0.023220181465148926 ms\n",
      "I0417 23:43:56.828137 139696977332032 <ipython-input-11-3340543714f4>:36] decode batch cost time : 0.023220181465148926 ms\n"
     ]
    },
    {
     "name": "stdout",
     "output_type": "stream",
     "text": [
      "predicted_words [[149, 449], [1024, 181], [122, 461], [122, 846], [461, 4], [108, 449], [9, 4], [7, 181]]\n",
      "---------------------------\n",
      "predicted_words [[149, 449], [1024, 181], [122, 461], [122, 846], [461, 4], [108, 449], [9, 4], [7, 181]]\n",
      "---------------------------\n"
     ]
    },
    {
     "name": "stderr",
     "output_type": "stream",
     "text": [
      "2020-04-17 23:43:57 - Transformer_no_pretrain - INFO: - decode batch cost time : 0.024287939071655273 ms\n",
      "I0417 23:43:57.029898 139696977332032 <ipython-input-11-3340543714f4>:36] decode batch cost time : 0.024287939071655273 ms\n",
      "2020-04-17 23:43:57 - Transformer_no_pretrain - INFO: - decode batch cost time : 0.022709816694259644 ms\n",
      "I0417 23:43:57.219343 139696977332032 <ipython-input-11-3340543714f4>:36] decode batch cost time : 0.022709816694259644 ms\n"
     ]
    },
    {
     "name": "stdout",
     "output_type": "stream",
     "text": [
      "predicted_words [[24, 393], [24, 393], [1024, 181], [449, 181], [461, 4], [108, 449], [99, 4], [7, 181]]\n",
      "---------------------------\n",
      "predicted_words [[149, 449], [449, 181], [122, 461], [122, 846], [461, 4], [108, 449], [9, 4], [24, 393]]\n",
      "---------------------------\n"
     ]
    },
    {
     "name": "stderr",
     "output_type": "stream",
     "text": [
      "2020-04-17 23:43:57 - Transformer_no_pretrain - INFO: - decode batch cost time : 0.022760510444641113 ms\n",
      "I0417 23:43:57.408482 139696977332032 <ipython-input-11-3340543714f4>:36] decode batch cost time : 0.022760510444641113 ms\n",
      "2020-04-17 23:43:57 - Transformer_no_pretrain - INFO: - decode batch cost time : 0.022175580263137817 ms\n",
      "I0417 23:43:57.593024 139696977332032 <ipython-input-11-3340543714f4>:36] decode batch cost time : 0.022175580263137817 ms\n"
     ]
    },
    {
     "name": "stdout",
     "output_type": "stream",
     "text": [
      "predicted_words [[149, 449], [449, 181], [122, 461], [122, 846], [461, 4], [108, 449], [9, 4], [7, 181]]\n",
      "---------------------------\n",
      "predicted_words [[149, 449], [1024, 181], [122, 461], [122, 846], [461, 4], [108, 449], [9, 4], [7, 181]]\n",
      "---------------------------\n"
     ]
    },
    {
     "name": "stderr",
     "output_type": "stream",
     "text": [
      "2020-04-17 23:43:57 - Transformer_no_pretrain - INFO: - decode batch cost time : 0.024216145277023315 ms\n",
      "I0417 23:43:57.794298 139696977332032 <ipython-input-11-3340543714f4>:36] decode batch cost time : 0.024216145277023315 ms\n",
      "2020-04-17 23:43:57 - Transformer_no_pretrain - INFO: - decode batch cost time : 0.02145323157310486 ms\n",
      "I0417 23:43:57.984661 139696977332032 <ipython-input-11-3340543714f4>:36] decode batch cost time : 0.02145323157310486 ms\n"
     ]
    },
    {
     "name": "stdout",
     "output_type": "stream",
     "text": [
      "predicted_words [[149, 449], [1024, 181], [122, 461], [122, 846], [461, 4], [108, 449], [24, 380], [7, 181]]\n",
      "---------------------------\n",
      "predicted_words [[24, 393], [1024, 181], [122, 461], [122, 846], [461, 4], [122, 461], [24, 380], [7, 181]]\n",
      "---------------------------\n"
     ]
    },
    {
     "name": "stderr",
     "output_type": "stream",
     "text": [
      "2020-04-17 23:43:58 - Transformer_no_pretrain - INFO: - decode batch cost time : 0.023000210523605347 ms\n",
      "I0417 23:43:58.176334 139696977332032 <ipython-input-11-3340543714f4>:36] decode batch cost time : 0.023000210523605347 ms\n",
      "2020-04-17 23:43:58 - Transformer_no_pretrain - INFO: - decode batch cost time : 0.02211582660675049 ms\n",
      "I0417 23:43:58.361352 139696977332032 <ipython-input-11-3340543714f4>:36] decode batch cost time : 0.02211582660675049 ms\n"
     ]
    },
    {
     "name": "stdout",
     "output_type": "stream",
     "text": [
      "predicted_words [[24, 393], [1024, 181], [122, 461], [122, 846], [461, 4], [122, 461], [24, 380], [7, 181]]\n",
      "---------------------------\n",
      "predicted_words [[149, 449], [1024, 181], [122, 461], [122, 846], [461, 4], [108, 449], [9, 4], [7, 181]]\n",
      "---------------------------\n"
     ]
    },
    {
     "name": "stderr",
     "output_type": "stream",
     "text": [
      "2020-04-17 23:43:58 - Transformer_no_pretrain - INFO: - decode batch cost time : 0.02426236867904663 ms\n",
      "I0417 23:43:58.563671 139696977332032 <ipython-input-11-3340543714f4>:36] decode batch cost time : 0.02426236867904663 ms\n",
      "2020-04-17 23:43:58 - Transformer_no_pretrain - INFO: - decode batch cost time : 0.02292001247406006 ms\n",
      "I0417 23:43:58.754062 139696977332032 <ipython-input-11-3340543714f4>:36] decode batch cost time : 0.02292001247406006 ms\n"
     ]
    },
    {
     "name": "stdout",
     "output_type": "stream",
     "text": [
      "predicted_words [[149, 449], [449, 181], [122, 461], [122, 846], [461, 4], [108, 449], [9, 4], [7, 181]]\n",
      "---------------------------\n",
      "predicted_words [[149, 449], [449, 181], [122, 461], [122, 846], [461, 4], [108, 449], [9, 4], [7, 181]]\n",
      "---------------------------\n"
     ]
    },
    {
     "name": "stderr",
     "output_type": "stream",
     "text": [
      "2020-04-17 23:43:58 - Transformer_no_pretrain - INFO: - decode batch cost time : 0.023295938968658447 ms\n",
      "I0417 23:43:58.948229 139696977332032 <ipython-input-11-3340543714f4>:36] decode batch cost time : 0.023295938968658447 ms\n",
      "2020-04-17 23:43:59 - Transformer_no_pretrain - INFO: - decode batch cost time : 0.022496551275253296 ms\n",
      "I0417 23:43:59.140443 139696977332032 <ipython-input-11-3340543714f4>:36] decode batch cost time : 0.022496551275253296 ms\n"
     ]
    },
    {
     "name": "stdout",
     "output_type": "stream",
     "text": [
      "predicted_words [[149, 449], [449, 181], [122, 461], [122, 846], [461, 4], [108, 449], [9, 4], [7, 181]]\n",
      "---------------------------\n",
      "predicted_words [[149, 449], [449, 181], [122, 461], [122, 846], [461, 4], [108, 449], [9, 4], [7, 181]]\n",
      "---------------------------\n"
     ]
    },
    {
     "name": "stderr",
     "output_type": "stream",
     "text": [
      "2020-04-17 23:43:59 - Transformer_no_pretrain - INFO: - decode batch cost time : 0.023031234741210938 ms\n",
      "I0417 23:43:59.337986 139696977332032 <ipython-input-11-3340543714f4>:36] decode batch cost time : 0.023031234741210938 ms\n"
     ]
    },
    {
     "name": "stdout",
     "output_type": "stream",
     "text": [
      "predicted_words [[149, 449], [1024, 181], [122, 461], [122, 846], [461, 4], [108, 449], [9, 4], [7, 181]]\n",
      "---------------------------\n"
     ]
    },
    {
     "name": "stderr",
     "output_type": "stream",
     "text": [
      "2020-04-17 23:43:59 - Transformer_no_pretrain - INFO: - decode batch cost time : 0.024744689464569092 ms\n",
      "I0417 23:43:59.543904 139696977332032 <ipython-input-11-3340543714f4>:36] decode batch cost time : 0.024744689464569092 ms\n",
      "2020-04-17 23:43:59 - Transformer_no_pretrain - INFO: - decode batch cost time : 0.02144014835357666 ms\n",
      "I0417 23:43:59.724612 139696977332032 <ipython-input-11-3340543714f4>:36] decode batch cost time : 0.02144014835357666 ms\n"
     ]
    },
    {
     "name": "stdout",
     "output_type": "stream",
     "text": [
      "predicted_words [[149, 449], [1024, 181], [122, 461], [122, 846], [461, 4], [108, 449], [9, 4], [7, 181]]\n",
      "---------------------------\n",
      "predicted_words [[24, 393], [99, 149], [1024, 181], [449, 181], [461, 4], [231, 4], [461, 4], [24, 393]]\n",
      "---------------------------\n"
     ]
    },
    {
     "name": "stderr",
     "output_type": "stream",
     "text": [
      "2020-04-17 23:43:59 - Transformer_no_pretrain - INFO: - decode batch cost time : 0.022251039743423462 ms\n",
      "I0417 23:43:59.910731 139696977332032 <ipython-input-11-3340543714f4>:36] decode batch cost time : 0.022251039743423462 ms\n",
      "2020-04-17 23:44:00 - Transformer_no_pretrain - INFO: - decode batch cost time : 0.02245268225669861 ms\n",
      "I0417 23:44:00.098639 139696977332032 <ipython-input-11-3340543714f4>:36] decode batch cost time : 0.02245268225669861 ms\n"
     ]
    },
    {
     "name": "stdout",
     "output_type": "stream",
     "text": [
      "predicted_words [[149, 449], [4, 393], [1024, 181], [122, 846], [461, 4], [108, 449], [99, 4], [7, 181]]\n",
      "---------------------------\n",
      "predicted_words [[149, 449], [449, 181], [122, 461], [122, 846], [461, 4], [108, 449], [9, 4], [7, 181]]\n",
      "---------------------------\n"
     ]
    },
    {
     "name": "stderr",
     "output_type": "stream",
     "text": [
      "2020-04-17 23:44:00 - Transformer_no_pretrain - INFO: - decode batch cost time : 0.02381083369255066 ms\n",
      "I0417 23:44:00.297665 139696977332032 <ipython-input-11-3340543714f4>:36] decode batch cost time : 0.02381083369255066 ms\n",
      "2020-04-17 23:44:00 - Transformer_no_pretrain - INFO: - decode batch cost time : 0.02266719937324524 ms\n",
      "I0417 23:44:00.486743 139696977332032 <ipython-input-11-3340543714f4>:36] decode batch cost time : 0.02266719937324524 ms\n"
     ]
    },
    {
     "name": "stdout",
     "output_type": "stream",
     "text": [
      "predicted_words [[149, 449], [1024, 181], [122, 461], [122, 846], [461, 4], [108, 449], [9, 4], [7, 181]]\n",
      "---------------------------\n",
      "predicted_words [[149, 449], [449, 181], [122, 461], [122, 846], [461, 4], [108, 449], [9, 4], [7, 181]]\n",
      "---------------------------\n"
     ]
    },
    {
     "name": "stderr",
     "output_type": "stream",
     "text": [
      "2020-04-17 23:44:00 - Transformer_no_pretrain - INFO: - decode batch cost time : 0.022464394569396973 ms\n",
      "I0417 23:44:00.674584 139696977332032 <ipython-input-11-3340543714f4>:36] decode batch cost time : 0.022464394569396973 ms\n",
      "2020-04-17 23:44:00 - Transformer_no_pretrain - INFO: - decode batch cost time : 0.021761327981948853 ms\n",
      "I0417 23:44:00.856682 139696977332032 <ipython-input-11-3340543714f4>:36] decode batch cost time : 0.021761327981948853 ms\n"
     ]
    },
    {
     "name": "stdout",
     "output_type": "stream",
     "text": [
      "predicted_words [[149, 449], [449, 181], [122, 461], [122, 846], [461, 4], [108, 449], [9, 4], [7, 181]]\n",
      "---------------------------\n",
      "predicted_words [[24, 393], [1024, 181], [1024, 181], [449, 181], [461, 4], [231, 9], [9, 4], [7, 181]]\n",
      "---------------------------\n"
     ]
    },
    {
     "name": "stderr",
     "output_type": "stream",
     "text": [
      "2020-04-17 23:44:01 - Transformer_no_pretrain - INFO: - decode batch cost time : 0.023292362689971924 ms\n",
      "I0417 23:44:01.050561 139696977332032 <ipython-input-11-3340543714f4>:36] decode batch cost time : 0.023292362689971924 ms\n",
      "2020-04-17 23:44:01 - Transformer_no_pretrain - INFO: - decode batch cost time : 0.021608412265777588 ms\n",
      "I0417 23:44:01.230509 139696977332032 <ipython-input-11-3340543714f4>:36] decode batch cost time : 0.021608412265777588 ms\n"
     ]
    },
    {
     "name": "stdout",
     "output_type": "stream",
     "text": [
      "predicted_words [[24, 393], [24, 393], [122, 461], [122, 846], [461, 4], [99, 9], [9, 4], [7, 181]]\n",
      "---------------------------\n",
      "predicted_words [[24, 393], [4, 393], [1024, 181], [122, 846], [461, 4], [108, 449], [9, 4], [7, 181]]\n",
      "---------------------------\n"
     ]
    },
    {
     "name": "stderr",
     "output_type": "stream",
     "text": [
      "2020-04-17 23:44:01 - Transformer_no_pretrain - INFO: - decode batch cost time : 0.02332085371017456 ms\n",
      "I0417 23:44:01.426201 139696977332032 <ipython-input-11-3340543714f4>:36] decode batch cost time : 0.02332085371017456 ms\n",
      "2020-04-17 23:44:01 - Transformer_no_pretrain - INFO: - decode batch cost time : 0.023061245679855347 ms\n",
      "I0417 23:44:01.618399 139696977332032 <ipython-input-11-3340543714f4>:36] decode batch cost time : 0.023061245679855347 ms\n"
     ]
    },
    {
     "name": "stdout",
     "output_type": "stream",
     "text": [
      "predicted_words [[149, 449], [449, 181], [122, 461], [122, 846], [461, 4], [108, 449], [9, 4], [7, 181]]\n",
      "---------------------------\n",
      "predicted_words [[149, 449], [449, 181], [1024, 181], [122, 846], [461, 4], [108, 449], [9, 4], [7, 181]]\n",
      "---------------------------\n"
     ]
    },
    {
     "name": "stderr",
     "output_type": "stream",
     "text": [
      "2020-04-17 23:44:01 - Transformer_no_pretrain - INFO: - decode batch cost time : 0.02287834882736206 ms\n",
      "I0417 23:44:01.809377 139696977332032 <ipython-input-11-3340543714f4>:36] decode batch cost time : 0.02287834882736206 ms\n",
      "2020-04-17 23:44:02 - Transformer_no_pretrain - INFO: - decode batch cost time : 0.023066610097885132 ms\n",
      "I0417 23:44:02.002624 139696977332032 <ipython-input-11-3340543714f4>:36] decode batch cost time : 0.023066610097885132 ms\n"
     ]
    },
    {
     "name": "stdout",
     "output_type": "stream",
     "text": [
      "predicted_words [[24, 393], [24, 393], [24, 393], [122, 846], [461, 4], [108, 449], [99, 4], [7, 181]]\n",
      "---------------------------\n",
      "predicted_words [[24, 393], [24, 393], [1024, 181], [122, 846], [461, 4], [108, 449], [9, 4], [7, 181]]\n",
      "---------------------------\n"
     ]
    },
    {
     "name": "stderr",
     "output_type": "stream",
     "text": [
      "2020-04-17 23:44:02 - Transformer_no_pretrain - INFO: - decode batch cost time : 0.023072034120559692 ms\n",
      "I0417 23:44:02.195207 139696977332032 <ipython-input-11-3340543714f4>:36] decode batch cost time : 0.023072034120559692 ms\n",
      "2020-04-17 23:44:02 - Transformer_no_pretrain - INFO: - decode batch cost time : 0.022845417261123657 ms\n",
      "I0417 23:44:02.384812 139696977332032 <ipython-input-11-3340543714f4>:36] decode batch cost time : 0.022845417261123657 ms\n"
     ]
    },
    {
     "name": "stdout",
     "output_type": "stream",
     "text": [
      "predicted_words [[149, 449], [4, 393], [122, 461], [122, 846], [461, 4], [108, 449], [9, 4], [7, 181]]\n",
      "---------------------------\n",
      "predicted_words [[149, 449], [1024, 181], [122, 461], [122, 846], [461, 4], [108, 449], [9, 4], [7, 181]]\n",
      "---------------------------\n"
     ]
    },
    {
     "name": "stderr",
     "output_type": "stream",
     "text": [
      "2020-04-17 23:44:02 - Transformer_no_pretrain - INFO: - decode batch cost time : 0.023060083389282227 ms\n",
      "I0417 23:44:02.576820 139696977332032 <ipython-input-11-3340543714f4>:36] decode batch cost time : 0.023060083389282227 ms\n",
      "2020-04-17 23:44:02 - Transformer_no_pretrain - INFO: - decode batch cost time : 0.023188680410385132 ms\n",
      "I0417 23:44:02.770351 139696977332032 <ipython-input-11-3340543714f4>:36] decode batch cost time : 0.023188680410385132 ms\n"
     ]
    },
    {
     "name": "stdout",
     "output_type": "stream",
     "text": [
      "predicted_words [[24, 393], [1024, 181], [1024, 181], [122, 846], [461, 4], [99, 9], [24, 380], [7, 181]]\n",
      "---------------------------\n",
      "predicted_words [[24, 393], [4, 393], [1024, 181], [122, 846], [461, 4], [108, 449], [9, 4], [7, 181]]\n",
      "---------------------------\n"
     ]
    },
    {
     "name": "stderr",
     "output_type": "stream",
     "text": [
      "2020-04-17 23:44:02 - Transformer_no_pretrain - INFO: - decode batch cost time : 0.023081094026565552 ms\n",
      "I0417 23:44:02.962832 139696977332032 <ipython-input-11-3340543714f4>:36] decode batch cost time : 0.023081094026565552 ms\n",
      "2020-04-17 23:44:03 - Transformer_no_pretrain - INFO: - decode batch cost time : 0.022872209548950195 ms\n",
      "I0417 23:44:03.153838 139696977332032 <ipython-input-11-3340543714f4>:36] decode batch cost time : 0.022872209548950195 ms\n"
     ]
    },
    {
     "name": "stdout",
     "output_type": "stream",
     "text": [
      "predicted_words [[149, 449], [449, 181], [122, 461], [122, 846], [461, 4], [108, 449], [9, 4], [7, 181]]\n",
      "---------------------------\n",
      "predicted_words [[24, 393], [1024, 181], [24, 393], [449, 181], [461, 4], [108, 449], [99, 4], [7, 181]]\n",
      "---------------------------\n"
     ]
    },
    {
     "name": "stderr",
     "output_type": "stream",
     "text": [
      "2020-04-17 23:44:03 - Transformer_no_pretrain - INFO: - decode batch cost time : 0.023287326097488403 ms\n",
      "I0417 23:44:03.347993 139696977332032 <ipython-input-11-3340543714f4>:36] decode batch cost time : 0.023287326097488403 ms\n",
      "2020-04-17 23:44:03 - Transformer_no_pretrain - INFO: - decode batch cost time : 0.02383291721343994 ms\n",
      "I0417 23:44:03.546226 139696977332032 <ipython-input-11-3340543714f4>:36] decode batch cost time : 0.02383291721343994 ms\n"
     ]
    },
    {
     "name": "stdout",
     "output_type": "stream",
     "text": [
      "predicted_words [[149, 449], [1024, 181], [122, 461], [122, 846], [461, 4], [108, 449], [9, 4], [7, 181]]\n",
      "---------------------------\n",
      "predicted_words [[149, 449], [1024, 181], [122, 461], [122, 846], [461, 4], [108, 449], [9, 4], [7, 181]]\n",
      "---------------------------\n"
     ]
    },
    {
     "name": "stderr",
     "output_type": "stream",
     "text": [
      "2020-04-17 23:44:03 - Transformer_no_pretrain - INFO: - decode batch cost time : 0.02378237247467041 ms\n",
      "I0417 23:44:03.755131 139696977332032 <ipython-input-11-3340543714f4>:36] decode batch cost time : 0.02378237247467041 ms\n",
      "2020-04-17 23:44:03 - Transformer_no_pretrain - INFO: - decode batch cost time : 0.022798746824264526 ms\n",
      "I0417 23:44:03.945666 139696977332032 <ipython-input-11-3340543714f4>:36] decode batch cost time : 0.022798746824264526 ms\n"
     ]
    },
    {
     "name": "stdout",
     "output_type": "stream",
     "text": [
      "predicted_words [[149, 449], [449, 181], [122, 461], [122, 846], [461, 4], [108, 449], [9, 4], [7, 181]]\n",
      "---------------------------\n",
      "predicted_words [[149, 449], [449, 181], [122, 461], [122, 846], [461, 4], [108, 449], [9, 4], [7, 181]]\n",
      "---------------------------\n"
     ]
    },
    {
     "name": "stderr",
     "output_type": "stream",
     "text": [
      "2020-04-17 23:44:04 - Transformer_no_pretrain - INFO: - decode batch cost time : 0.02247557044029236 ms\n",
      "I0417 23:44:04.133621 139696977332032 <ipython-input-11-3340543714f4>:36] decode batch cost time : 0.02247557044029236 ms\n",
      "2020-04-17 23:44:04 - Transformer_no_pretrain - INFO: - decode batch cost time : 0.021874040365219116 ms\n",
      "I0417 23:44:04.316891 139696977332032 <ipython-input-11-3340543714f4>:36] decode batch cost time : 0.021874040365219116 ms\n"
     ]
    },
    {
     "name": "stdout",
     "output_type": "stream",
     "text": [
      "predicted_words [[24, 393], [24, 393], [1024, 181], [122, 846], [461, 4], [108, 449], [9, 4], [7, 181]]\n",
      "---------------------------\n",
      "predicted_words [[24, 393], [24, 393], [1024, 181], [122, 846], [461, 4], [108, 449], [99, 4], [7, 181]]\n",
      "---------------------------\n"
     ]
    },
    {
     "name": "stderr",
     "output_type": "stream",
     "text": [
      "2020-04-17 23:44:04 - Transformer_no_pretrain - INFO: - decode batch cost time : 0.022254228591918945 ms\n",
      "I0417 23:44:04.512683 139696977332032 <ipython-input-11-3340543714f4>:36] decode batch cost time : 0.022254228591918945 ms\n",
      "2020-04-17 23:44:04 - Transformer_no_pretrain - INFO: - decode batch cost time : 0.023554235696792603 ms\n",
      "I0417 23:44:04.709451 139696977332032 <ipython-input-11-3340543714f4>:36] decode batch cost time : 0.023554235696792603 ms\n"
     ]
    },
    {
     "name": "stdout",
     "output_type": "stream",
     "text": [
      "predicted_words [[24, 393], [4, 393], [1024, 181], [122, 846], [461, 4], [108, 449], [9, 4], [7, 181]]\n",
      "---------------------------\n",
      "predicted_words [[149, 449], [449, 181], [122, 461], [122, 846], [461, 4], [108, 449], [9, 4], [7, 181]]\n",
      "---------------------------\n"
     ]
    },
    {
     "name": "stderr",
     "output_type": "stream",
     "text": [
      "2020-04-17 23:44:04 - Transformer_no_pretrain - INFO: - decode batch cost time : 0.02327585220336914 ms\n",
      "I0417 23:44:04.913356 139696977332032 <ipython-input-11-3340543714f4>:36] decode batch cost time : 0.02327585220336914 ms\n",
      "2020-04-17 23:44:05 - Transformer_no_pretrain - INFO: - decode batch cost time : 0.022807717323303223 ms\n",
      "I0417 23:44:05.103259 139696977332032 <ipython-input-11-3340543714f4>:36] decode batch cost time : 0.022807717323303223 ms\n"
     ]
    },
    {
     "name": "stdout",
     "output_type": "stream",
     "text": [
      "predicted_words [[149, 449], [449, 181], [122, 461], [122, 846], [461, 4], [108, 449], [9, 4], [7, 181]]\n",
      "---------------------------\n",
      "predicted_words [[149, 449], [449, 181], [122, 461], [122, 846], [461, 4], [108, 449], [9, 4], [7, 181]]\n",
      "---------------------------\n"
     ]
    },
    {
     "name": "stderr",
     "output_type": "stream",
     "text": [
      "2020-04-17 23:44:05 - Transformer_no_pretrain - INFO: - decode batch cost time : 0.023101866245269775 ms\n",
      "I0417 23:44:05.295253 139696977332032 <ipython-input-11-3340543714f4>:36] decode batch cost time : 0.023101866245269775 ms\n",
      "2020-04-17 23:44:05 - Transformer_no_pretrain - INFO: - decode batch cost time : 0.022656142711639404 ms\n",
      "I0417 23:44:05.483959 139696977332032 <ipython-input-11-3340543714f4>:36] decode batch cost time : 0.022656142711639404 ms\n"
     ]
    },
    {
     "name": "stdout",
     "output_type": "stream",
     "text": [
      "predicted_words [[149, 449], [4, 393], [122, 461], [122, 846], [461, 4], [108, 449], [9, 4], [7, 181]]\n",
      "---------------------------\n",
      "predicted_words [[149, 449], [449, 181], [122, 461], [122, 846], [461, 4], [108, 449], [24, 380], [7, 181]]\n",
      "---------------------------\n"
     ]
    },
    {
     "name": "stderr",
     "output_type": "stream",
     "text": [
      "2020-04-17 23:44:05 - Transformer_no_pretrain - INFO: - decode batch cost time : 0.023477911949157715 ms\n",
      "I0417 23:44:05.678904 139696977332032 <ipython-input-11-3340543714f4>:36] decode batch cost time : 0.023477911949157715 ms\n",
      "2020-04-17 23:44:05 - Transformer_no_pretrain - INFO: - decode batch cost time : 0.023579180240631104 ms\n",
      "I0417 23:44:05.878354 139696977332032 <ipython-input-11-3340543714f4>:36] decode batch cost time : 0.023579180240631104 ms\n"
     ]
    },
    {
     "name": "stdout",
     "output_type": "stream",
     "text": [
      "predicted_words [[24, 393], [4, 393], [1024, 181], [122, 846], [461, 4], [108, 449], [99, 4], [7, 181]]\n",
      "---------------------------\n",
      "predicted_words [[149, 449], [4, 393], [122, 461], [122, 846], [461, 4], [108, 449], [9, 4], [7, 181]]\n",
      "---------------------------\n"
     ]
    },
    {
     "name": "stderr",
     "output_type": "stream",
     "text": [
      "2020-04-17 23:44:06 - Transformer_no_pretrain - INFO: - decode batch cost time : 0.024610191583633423 ms\n",
      "I0417 23:44:06.083169 139696977332032 <ipython-input-11-3340543714f4>:36] decode batch cost time : 0.024610191583633423 ms\n",
      "2020-04-17 23:44:06 - Transformer_no_pretrain - INFO: - decode batch cost time : 0.023544013500213623 ms\n",
      "I0417 23:44:06.279083 139696977332032 <ipython-input-11-3340543714f4>:36] decode batch cost time : 0.023544013500213623 ms\n"
     ]
    },
    {
     "name": "stdout",
     "output_type": "stream",
     "text": [
      "predicted_words [[24, 393], [4, 393], [1024, 181], [122, 846], [461, 4], [108, 449], [9, 4], [7, 181]]\n",
      "---------------------------\n",
      "predicted_words [[24, 393], [449, 181], [1024, 181], [122, 846], [461, 4], [108, 449], [9, 4], [449, 181]]\n",
      "---------------------------\n"
     ]
    },
    {
     "name": "stderr",
     "output_type": "stream",
     "text": [
      "2020-04-17 23:44:06 - Transformer_no_pretrain - INFO: - decode batch cost time : 0.024875253438949585 ms\n",
      "I0417 23:44:06.491300 139696977332032 <ipython-input-11-3340543714f4>:36] decode batch cost time : 0.024875253438949585 ms\n",
      "2020-04-17 23:44:06 - Transformer_no_pretrain - INFO: - decode batch cost time : 0.023284107446670532 ms\n",
      "I0417 23:44:06.685523 139696977332032 <ipython-input-11-3340543714f4>:36] decode batch cost time : 0.023284107446670532 ms\n"
     ]
    },
    {
     "name": "stdout",
     "output_type": "stream",
     "text": [
      "predicted_words [[149, 449], [1024, 181], [122, 461], [122, 846], [461, 4], [108, 449], [9, 4], [7, 181]]\n",
      "---------------------------\n",
      "predicted_words [[24, 393], [4, 393], [1024, 181], [122, 846], [461, 4], [108, 449], [9, 4], [449, 181]]\n",
      "---------------------------\n"
     ]
    },
    {
     "name": "stderr",
     "output_type": "stream",
     "text": [
      "2020-04-17 23:44:06 - Transformer_no_pretrain - INFO: - decode batch cost time : 0.02401772141456604 ms\n",
      "I0417 23:44:06.885563 139696977332032 <ipython-input-11-3340543714f4>:36] decode batch cost time : 0.02401772141456604 ms\n"
     ]
    },
    {
     "name": "stdout",
     "output_type": "stream",
     "text": [
      "predicted_words [[149, 449], [449, 181], [122, 461], [122, 846], [461, 4], [108, 449], [99, 4], [7, 181]]\n",
      "---------------------------\n"
     ]
    },
    {
     "name": "stderr",
     "output_type": "stream",
     "text": [
      "2020-04-17 23:44:07 - Transformer_no_pretrain - INFO: - decode batch cost time : 0.02452141046524048 ms\n",
      "I0417 23:44:07.089718 139696977332032 <ipython-input-11-3340543714f4>:36] decode batch cost time : 0.02452141046524048 ms\n"
     ]
    },
    {
     "name": "stdout",
     "output_type": "stream",
     "text": [
      "predicted_words [[149, 449], [449, 181], [122, 461], [122, 846], [461, 4], [108, 449], [9, 4], [7, 181]]\n",
      "---------------------------\n"
     ]
    },
    {
     "name": "stderr",
     "output_type": "stream",
     "text": [
      "2020-04-17 23:44:07 - Transformer_no_pretrain - INFO: - decode batch cost time : 0.024386733770370483 ms\n",
      "I0417 23:44:07.292437 139696977332032 <ipython-input-11-3340543714f4>:36] decode batch cost time : 0.024386733770370483 ms\n"
     ]
    },
    {
     "name": "stdout",
     "output_type": "stream",
     "text": [
      "predicted_words [[149, 449], [449, 181], [122, 461], [122, 846], [461, 4], [108, 449], [9, 4], [7, 181]]\n",
      "---------------------------\n"
     ]
    },
    {
     "name": "stderr",
     "output_type": "stream",
     "text": [
      "2020-04-17 23:44:07 - Transformer_no_pretrain - INFO: - decode batch cost time : 0.025015264749526978 ms\n",
      "I0417 23:44:07.500719 139696977332032 <ipython-input-11-3340543714f4>:36] decode batch cost time : 0.025015264749526978 ms\n"
     ]
    },
    {
     "name": "stdout",
     "output_type": "stream",
     "text": [
      "predicted_words [[149, 449], [4, 393], [122, 461], [122, 846], [461, 4], [108, 449], [9, 4], [7, 181]]\n",
      "---------------------------\n"
     ]
    },
    {
     "name": "stderr",
     "output_type": "stream",
     "text": [
      "2020-04-17 23:44:07 - Transformer_no_pretrain - INFO: - decode batch cost time : 0.024267971515655518 ms\n",
      "I0417 23:44:07.703700 139696977332032 <ipython-input-11-3340543714f4>:36] decode batch cost time : 0.024267971515655518 ms\n"
     ]
    },
    {
     "name": "stdout",
     "output_type": "stream",
     "text": [
      "predicted_words [[149, 449], [4, 393], [122, 461], [122, 846], [461, 4], [108, 449], [9, 4], [7, 181]]\n",
      "---------------------------\n"
     ]
    },
    {
     "name": "stderr",
     "output_type": "stream",
     "text": [
      "2020-04-17 23:44:07 - Transformer_no_pretrain - INFO: - decode batch cost time : 0.024191200733184814 ms\n",
      "I0417 23:44:07.915555 139696977332032 <ipython-input-11-3340543714f4>:36] decode batch cost time : 0.024191200733184814 ms\n"
     ]
    },
    {
     "name": "stdout",
     "output_type": "stream",
     "text": [
      "predicted_words [[24, 393], [24, 393], [1024, 181], [449, 181], [461, 4], [99, 9], [24, 380], [449, 181]]\n",
      "---------------------------\n"
     ]
    },
    {
     "name": "stderr",
     "output_type": "stream",
     "text": [
      "2020-04-17 23:44:08 - Transformer_no_pretrain - INFO: - decode batch cost time : 0.025143831968307495 ms\n",
      "I0417 23:44:08.128691 139696977332032 <ipython-input-11-3340543714f4>:36] decode batch cost time : 0.025143831968307495 ms\n"
     ]
    },
    {
     "name": "stdout",
     "output_type": "stream",
     "text": [
      "predicted_words [[24, 393], [4, 393], [1024, 181], [122, 846], [461, 4], [108, 449], [99, 4], [7, 181]]\n",
      "---------------------------\n"
     ]
    },
    {
     "name": "stderr",
     "output_type": "stream",
     "text": [
      "2020-04-17 23:44:08 - Transformer_no_pretrain - INFO: - decode batch cost time : 0.02391505241394043 ms\n",
      "I0417 23:44:08.331068 139696977332032 <ipython-input-11-3340543714f4>:36] decode batch cost time : 0.02391505241394043 ms\n"
     ]
    },
    {
     "name": "stdout",
     "output_type": "stream",
     "text": [
      "predicted_words [[149, 449], [449, 181], [122, 461], [122, 846], [461, 4], [108, 449], [9, 4], [7, 181]]\n",
      "---------------------------\n"
     ]
    },
    {
     "name": "stderr",
     "output_type": "stream",
     "text": [
      "2020-04-17 23:44:08 - Transformer_no_pretrain - INFO: - decode batch cost time : 0.02533721923828125 ms\n",
      "I0417 23:44:08.549112 139696977332032 <ipython-input-11-3340543714f4>:36] decode batch cost time : 0.02533721923828125 ms\n"
     ]
    },
    {
     "name": "stdout",
     "output_type": "stream",
     "text": [
      "predicted_words [[149, 449], [1024, 181], [122, 461], [122, 846], [461, 4], [108, 449], [99, 4], [7, 181]]\n",
      "---------------------------\n"
     ]
    },
    {
     "name": "stderr",
     "output_type": "stream",
     "text": [
      "2020-04-17 23:44:08 - Transformer_no_pretrain - INFO: - decode batch cost time : 0.026112735271453857 ms\n",
      "I0417 23:44:08.766461 139696977332032 <ipython-input-11-3340543714f4>:36] decode batch cost time : 0.026112735271453857 ms\n"
     ]
    },
    {
     "name": "stdout",
     "output_type": "stream",
     "text": [
      "predicted_words [[24, 393], [24, 393], [122, 461], [122, 846], [461, 4], [108, 449], [9, 4], [7, 181]]\n",
      "---------------------------\n"
     ]
    },
    {
     "name": "stderr",
     "output_type": "stream",
     "text": [
      "2020-04-17 23:44:08 - Transformer_no_pretrain - INFO: - decode batch cost time : 0.025740891695022583 ms\n",
      "I0417 23:44:08.985646 139696977332032 <ipython-input-11-3340543714f4>:36] decode batch cost time : 0.025740891695022583 ms\n"
     ]
    },
    {
     "name": "stdout",
     "output_type": "stream",
     "text": [
      "predicted_words [[24, 393], [4, 393], [24, 393], [449, 181], [461, 4], [108, 449], [99, 4], [7, 181]]\n",
      "---------------------------\n"
     ]
    },
    {
     "name": "stderr",
     "output_type": "stream",
     "text": [
      "2020-04-17 23:44:09 - Transformer_no_pretrain - INFO: - decode batch cost time : 0.02440732717514038 ms\n",
      "I0417 23:44:09.194673 139696977332032 <ipython-input-11-3340543714f4>:36] decode batch cost time : 0.02440732717514038 ms\n"
     ]
    },
    {
     "name": "stdout",
     "output_type": "stream",
     "text": [
      "predicted_words [[149, 449], [449, 181], [122, 461], [122, 846], [461, 4], [108, 449], [9, 4], [7, 181]]\n",
      "---------------------------\n"
     ]
    },
    {
     "name": "stderr",
     "output_type": "stream",
     "text": [
      "2020-04-17 23:44:09 - Transformer_no_pretrain - INFO: - decode batch cost time : 0.02583765983581543 ms\n",
      "I0417 23:44:09.412307 139696977332032 <ipython-input-11-3340543714f4>:36] decode batch cost time : 0.02583765983581543 ms\n"
     ]
    },
    {
     "name": "stdout",
     "output_type": "stream",
     "text": [
      "predicted_words [[24, 393], [1024, 181], [122, 461], [122, 846], [461, 4], [108, 449], [24, 380], [7, 181]]\n",
      "---------------------------\n"
     ]
    },
    {
     "name": "stderr",
     "output_type": "stream",
     "text": [
      "2020-04-17 23:44:09 - Transformer_no_pretrain - INFO: - decode batch cost time : 0.02465885877609253 ms\n",
      "I0417 23:44:09.623498 139696977332032 <ipython-input-11-3340543714f4>:36] decode batch cost time : 0.02465885877609253 ms\n",
      "2020-04-17 23:44:09 - Transformer_no_pretrain - INFO: - decode batch cost time : 0.02320381999015808 ms\n",
      "I0417 23:44:09.816919 139696977332032 <ipython-input-11-3340543714f4>:36] decode batch cost time : 0.02320381999015808 ms\n"
     ]
    },
    {
     "name": "stdout",
     "output_type": "stream",
     "text": [
      "predicted_words [[149, 449], [1024, 181], [122, 461], [122, 846], [461, 4], [108, 449], [9, 4], [7, 181]]\n",
      "---------------------------\n",
      "predicted_words [[24, 393], [4, 393], [1024, 181], [122, 846], [461, 4], [108, 449], [9, 4], [7, 181]]\n",
      "---------------------------\n"
     ]
    },
    {
     "name": "stderr",
     "output_type": "stream",
     "text": [
      "2020-04-17 23:44:10 - Transformer_no_pretrain - INFO: - decode batch cost time : 0.024417787790298462 ms\n",
      "I0417 23:44:10.019596 139696977332032 <ipython-input-11-3340543714f4>:36] decode batch cost time : 0.024417787790298462 ms\n"
     ]
    },
    {
     "name": "stdout",
     "output_type": "stream",
     "text": [
      "predicted_words [[24, 393], [4, 393], [1024, 181], [122, 846], [461, 4], [108, 449], [9, 4], [7, 181]]\n",
      "---------------------------\n"
     ]
    },
    {
     "name": "stderr",
     "output_type": "stream",
     "text": [
      "2020-04-17 23:44:10 - Transformer_no_pretrain - INFO: - decode batch cost time : 0.02769806981086731 ms\n",
      "I0417 23:44:10.254889 139696977332032 <ipython-input-11-3340543714f4>:36] decode batch cost time : 0.02769806981086731 ms\n"
     ]
    },
    {
     "name": "stdout",
     "output_type": "stream",
     "text": [
      "predicted_words [[149, 449], [1024, 181], [122, 461], [122, 846], [461, 4], [108, 449], [9, 4], [7, 181]]\n",
      "---------------------------\n"
     ]
    },
    {
     "name": "stderr",
     "output_type": "stream",
     "text": [
      "2020-04-17 23:44:10 - Transformer_no_pretrain - INFO: - decode batch cost time : 0.02674826979637146 ms\n",
      "I0417 23:44:10.478505 139696977332032 <ipython-input-11-3340543714f4>:36] decode batch cost time : 0.02674826979637146 ms\n"
     ]
    },
    {
     "name": "stdout",
     "output_type": "stream",
     "text": [
      "predicted_words [[24, 393], [1024, 181], [1024, 181], [449, 181], [461, 4], [99, 9], [24, 380], [99, 7]]\n",
      "---------------------------\n"
     ]
    },
    {
     "name": "stderr",
     "output_type": "stream",
     "text": [
      "2020-04-17 23:44:10 - Transformer_no_pretrain - INFO: - decode batch cost time : 0.025059819221496582 ms\n",
      "I0417 23:44:10.687962 139696977332032 <ipython-input-11-3340543714f4>:36] decode batch cost time : 0.025059819221496582 ms\n"
     ]
    },
    {
     "name": "stdout",
     "output_type": "stream",
     "text": [
      "predicted_words [[24, 393], [1024, 181], [1024, 181], [449, 181], [461, 4], [99, 9], [24, 380], [99, 7]]\n",
      "---------------------------\n"
     ]
    },
    {
     "name": "stderr",
     "output_type": "stream",
     "text": [
      "2020-04-17 23:44:10 - Transformer_no_pretrain - INFO: - decode batch cost time : 0.024853408336639404 ms\n",
      "I0417 23:44:10.894457 139696977332032 <ipython-input-11-3340543714f4>:36] decode batch cost time : 0.024853408336639404 ms\n"
     ]
    },
    {
     "name": "stdout",
     "output_type": "stream",
     "text": [
      "predicted_words [[149, 449], [4, 393], [1024, 181], [122, 846], [461, 4], [108, 449], [99, 4], [7, 181]]\n",
      "---------------------------\n"
     ]
    },
    {
     "name": "stderr",
     "output_type": "stream",
     "text": [
      "2020-04-17 23:44:11 - Transformer_no_pretrain - INFO: - decode batch cost time : 0.024849534034729004 ms\n",
      "I0417 23:44:11.102790 139696977332032 <ipython-input-11-3340543714f4>:36] decode batch cost time : 0.024849534034729004 ms\n",
      "2020-04-17 23:44:11 - Transformer_no_pretrain - INFO: - decode batch cost time : 0.02357637882232666 ms\n",
      "I0417 23:44:11.298902 139696977332032 <ipython-input-11-3340543714f4>:36] decode batch cost time : 0.02357637882232666 ms\n"
     ]
    },
    {
     "name": "stdout",
     "output_type": "stream",
     "text": [
      "predicted_words [[24, 393], [1024, 181], [24, 393], [449, 181], [461, 4], [108, 449], [99, 4], [7, 181]]\n",
      "---------------------------\n",
      "predicted_words [[149, 449], [449, 181], [122, 461], [122, 846], [461, 4], [108, 449], [9, 4], [449, 181]]\n",
      "---------------------------\n"
     ]
    },
    {
     "name": "stderr",
     "output_type": "stream",
     "text": [
      "2020-04-17 23:44:11 - Transformer_no_pretrain - INFO: - decode batch cost time : 0.023981958627700806 ms\n",
      "I0417 23:44:11.498421 139696977332032 <ipython-input-11-3340543714f4>:36] decode batch cost time : 0.023981958627700806 ms\n",
      "2020-04-17 23:44:11 - Transformer_no_pretrain - INFO: - decode batch cost time : 0.023849457502365112 ms\n",
      "I0417 23:44:11.696620 139696977332032 <ipython-input-11-3340543714f4>:36] decode batch cost time : 0.023849457502365112 ms\n"
     ]
    },
    {
     "name": "stdout",
     "output_type": "stream",
     "text": [
      "predicted_words [[149, 449], [449, 181], [122, 461], [122, 846], [461, 4], [108, 449], [9, 4], [7, 181]]\n",
      "---------------------------\n",
      "predicted_words [[24, 393], [24, 393], [122, 461], [122, 846], [461, 4], [108, 449], [24, 380], [7, 181]]\n",
      "---------------------------\n"
     ]
    },
    {
     "name": "stderr",
     "output_type": "stream",
     "text": [
      "2020-04-17 23:44:11 - Transformer_no_pretrain - INFO: - decode batch cost time : 0.02422073483467102 ms\n",
      "I0417 23:44:11.898773 139696977332032 <ipython-input-11-3340543714f4>:36] decode batch cost time : 0.02422073483467102 ms\n"
     ]
    },
    {
     "name": "stdout",
     "output_type": "stream",
     "text": [
      "predicted_words [[149, 449], [4, 393], [122, 461], [122, 846], [461, 4], [108, 449], [9, 4], [7, 181]]\n",
      "---------------------------\n"
     ]
    },
    {
     "name": "stderr",
     "output_type": "stream",
     "text": [
      "2020-04-17 23:44:12 - Transformer_no_pretrain - INFO: - decode batch cost time : 0.025382965803146362 ms\n",
      "I0417 23:44:12.110809 139696977332032 <ipython-input-11-3340543714f4>:36] decode batch cost time : 0.025382965803146362 ms\n",
      "2020-04-17 23:44:12 - Transformer_no_pretrain - INFO: - decode batch cost time : 0.024137049913406372 ms\n"
     ]
    },
    {
     "name": "stdout",
     "output_type": "stream",
     "text": [
      "predicted_words [[149, 449], [449, 181], [122, 461], [122, 846], [461, 4], [108, 449], [99, 4], [7, 181]]\n",
      "---------------------------\n",
      "predicted_words [[149, 449], [449, 181], [122, 461], [122, 846], [461, 4], [108, 449], [9, 4], [7, 181]]\n",
      "---------------------------\n"
     ]
    },
    {
     "name": "stderr",
     "output_type": "stream",
     "text": [
      "I0417 23:44:12.311636 139696977332032 <ipython-input-11-3340543714f4>:36] decode batch cost time : 0.024137049913406372 ms\n",
      "2020-04-17 23:44:12 - Transformer_no_pretrain - INFO: - decode batch cost time : 0.02446231245994568 ms\n",
      "I0417 23:44:12.515848 139696977332032 <ipython-input-11-3340543714f4>:36] decode batch cost time : 0.02446231245994568 ms\n"
     ]
    },
    {
     "name": "stdout",
     "output_type": "stream",
     "text": [
      "predicted_words [[149, 449], [1024, 181], [122, 461], [122, 846], [461, 4], [108, 449], [9, 4], [7, 181]]\n",
      "---------------------------\n"
     ]
    },
    {
     "name": "stderr",
     "output_type": "stream",
     "text": [
      "2020-04-17 23:44:12 - Transformer_no_pretrain - INFO: - decode batch cost time : 0.02346944808959961 ms\n",
      "I0417 23:44:12.721414 139696977332032 <ipython-input-11-3340543714f4>:36] decode batch cost time : 0.02346944808959961 ms\n"
     ]
    },
    {
     "name": "stdout",
     "output_type": "stream",
     "text": [
      "predicted_words [[24, 393], [4, 393], [24, 393], [449, 181], [461, 4], [108, 449], [24, 380], [7, 181]]\n",
      "---------------------------\n"
     ]
    },
    {
     "name": "stderr",
     "output_type": "stream",
     "text": [
      "2020-04-17 23:44:12 - Transformer_no_pretrain - INFO: - decode batch cost time : 0.02580314874649048 ms\n",
      "I0417 23:44:12.936202 139696977332032 <ipython-input-11-3340543714f4>:36] decode batch cost time : 0.02580314874649048 ms\n"
     ]
    },
    {
     "name": "stdout",
     "output_type": "stream",
     "text": [
      "predicted_words [[24, 393], [1024, 181], [24, 393], [449, 181], [461, 4], [99, 9], [24, 380], [7, 181]]\n",
      "---------------------------\n"
     ]
    },
    {
     "name": "stderr",
     "output_type": "stream",
     "text": [
      "2020-04-17 23:44:13 - Transformer_no_pretrain - INFO: - decode batch cost time : 0.024548083543777466 ms\n",
      "I0417 23:44:13.140791 139696977332032 <ipython-input-11-3340543714f4>:36] decode batch cost time : 0.024548083543777466 ms\n",
      "2020-04-17 23:44:13 - Transformer_no_pretrain - INFO: - decode batch cost time : 0.02289840579032898 ms\n",
      "I0417 23:44:13.332689 139696977332032 <ipython-input-11-3340543714f4>:36] decode batch cost time : 0.02289840579032898 ms\n"
     ]
    },
    {
     "name": "stdout",
     "output_type": "stream",
     "text": [
      "predicted_words [[24, 393], [4, 393], [1024, 181], [122, 846], [461, 4], [108, 449], [99, 4], [7, 181]]\n",
      "---------------------------\n",
      "predicted_words [[149, 449], [1024, 181], [122, 461], [122, 846], [461, 4], [108, 449], [9, 4], [7, 181]]\n",
      "---------------------------\n"
     ]
    },
    {
     "name": "stderr",
     "output_type": "stream",
     "text": [
      "2020-04-17 23:44:13 - Transformer_no_pretrain - INFO: - decode batch cost time : 0.024877071380615234 ms\n",
      "I0417 23:44:13.545685 139696977332032 <ipython-input-11-3340543714f4>:36] decode batch cost time : 0.024877071380615234 ms\n"
     ]
    },
    {
     "name": "stdout",
     "output_type": "stream",
     "text": [
      "predicted_words [[149, 449], [449, 181], [122, 461], [122, 846], [461, 4], [108, 449], [9, 4], [7, 181]]\n",
      "---------------------------\n"
     ]
    },
    {
     "name": "stderr",
     "output_type": "stream",
     "text": [
      "2020-04-17 23:44:13 - Transformer_no_pretrain - INFO: - decode batch cost time : 0.02631393074989319 ms\n",
      "I0417 23:44:13.770130 139696977332032 <ipython-input-11-3340543714f4>:36] decode batch cost time : 0.02631393074989319 ms\n"
     ]
    },
    {
     "name": "stdout",
     "output_type": "stream",
     "text": [
      "predicted_words [[149, 449], [4, 393], [1024, 181], [122, 846], [461, 4], [108, 449], [99, 4], [7, 181]]\n",
      "---------------------------\n"
     ]
    },
    {
     "name": "stderr",
     "output_type": "stream",
     "text": [
      "2020-04-17 23:44:14 - Transformer_no_pretrain - INFO: - decode batch cost time : 0.027223587036132812 ms\n",
      "I0417 23:44:14.007594 139696977332032 <ipython-input-11-3340543714f4>:36] decode batch cost time : 0.027223587036132812 ms\n",
      "2020-04-17 23:44:14 - Transformer_no_pretrain - INFO: - decode batch cost time : 0.022318542003631592 ms\n",
      "I0417 23:44:14.194407 139696977332032 <ipython-input-11-3340543714f4>:36] decode batch cost time : 0.022318542003631592 ms\n"
     ]
    },
    {
     "name": "stdout",
     "output_type": "stream",
     "text": [
      "predicted_words [[149, 449], [449, 181], [122, 461], [122, 846], [461, 4], [108, 449], [9, 4], [7, 181]]\n",
      "---------------------------\n",
      "predicted_words [[149, 449], [1024, 181], [122, 461], [122, 846], [461, 4], [108, 449], [9, 4], [7, 181]]\n",
      "---------------------------\n"
     ]
    },
    {
     "name": "stderr",
     "output_type": "stream",
     "text": [
      "2020-04-17 23:44:14 - Transformer_no_pretrain - INFO: - decode batch cost time : 0.022504687309265137 ms\n",
      "I0417 23:44:14.382867 139696977332032 <ipython-input-11-3340543714f4>:36] decode batch cost time : 0.022504687309265137 ms\n",
      "2020-04-17 23:44:14 - Transformer_no_pretrain - INFO: - decode batch cost time : 0.022273391485214233 ms\n",
      "I0417 23:44:14.569550 139696977332032 <ipython-input-11-3340543714f4>:36] decode batch cost time : 0.022273391485214233 ms\n"
     ]
    },
    {
     "name": "stdout",
     "output_type": "stream",
     "text": [
      "predicted_words [[149, 449], [4, 393], [122, 461], [122, 846], [461, 4], [108, 449], [99, 4], [7, 181]]\n",
      "---------------------------\n",
      "predicted_words [[149, 449], [1024, 181], [122, 461], [122, 846], [461, 4], [108, 449], [9, 4], [7, 181]]\n",
      "---------------------------\n"
     ]
    },
    {
     "name": "stderr",
     "output_type": "stream",
     "text": [
      "2020-04-17 23:44:14 - Transformer_no_pretrain - INFO: - decode batch cost time : 0.023124098777770996 ms\n",
      "I0417 23:44:14.763068 139696977332032 <ipython-input-11-3340543714f4>:36] decode batch cost time : 0.023124098777770996 ms\n",
      "2020-04-17 23:44:14 - Transformer_no_pretrain - INFO: - decode batch cost time : 0.023492932319641113 ms\n",
      "I0417 23:44:14.958996 139696977332032 <ipython-input-11-3340543714f4>:36] decode batch cost time : 0.023492932319641113 ms\n"
     ]
    },
    {
     "name": "stdout",
     "output_type": "stream",
     "text": [
      "predicted_words [[149, 449], [449, 181], [122, 461], [122, 846], [461, 4], [108, 449], [9, 4], [7, 181]]\n",
      "---------------------------\n",
      "predicted_words [[24, 393], [4, 393], [1024, 181], [1024, 181], [461, 4], [108, 449], [99, 4], [7, 181]]\n",
      "---------------------------\n"
     ]
    },
    {
     "name": "stderr",
     "output_type": "stream",
     "text": [
      "2020-04-17 23:44:15 - Transformer_no_pretrain - INFO: - decode batch cost time : 0.025285780429840088 ms\n",
      "I0417 23:44:15.169854 139696977332032 <ipython-input-11-3340543714f4>:36] decode batch cost time : 0.025285780429840088 ms\n"
     ]
    },
    {
     "name": "stdout",
     "output_type": "stream",
     "text": [
      "predicted_words [[149, 449], [449, 181], [122, 461], [122, 846], [461, 4], [108, 449], [9, 4], [7, 181]]\n",
      "---------------------------\n"
     ]
    },
    {
     "name": "stderr",
     "output_type": "stream",
     "text": [
      "2020-04-17 23:44:15 - Transformer_no_pretrain - INFO: - decode batch cost time : 0.025477051734924316 ms\n",
      "I0417 23:44:15.386389 139696977332032 <ipython-input-11-3340543714f4>:36] decode batch cost time : 0.025477051734924316 ms\n",
      "2020-04-17 23:44:15 - Transformer_no_pretrain - INFO: - decode batch cost time : 0.023248881101608276 ms\n",
      "I0417 23:44:15.580967 139696977332032 <ipython-input-11-3340543714f4>:36] decode batch cost time : 0.023248881101608276 ms\n"
     ]
    },
    {
     "name": "stdout",
     "output_type": "stream",
     "text": [
      "predicted_words [[24, 393], [4, 393], [1024, 181], [122, 846], [461, 4], [108, 449], [99, 4], [7, 181]]\n",
      "---------------------------\n",
      "predicted_words [[149, 449], [449, 181], [122, 461], [122, 846], [461, 4], [108, 449], [9, 4], [7, 181]]\n",
      "---------------------------\n"
     ]
    },
    {
     "name": "stderr",
     "output_type": "stream",
     "text": [
      "2020-04-17 23:44:15 - Transformer_no_pretrain - INFO: - decode batch cost time : 0.023428499698638916 ms\n",
      "I0417 23:44:15.776986 139696977332032 <ipython-input-11-3340543714f4>:36] decode batch cost time : 0.023428499698638916 ms\n",
      "2020-04-17 23:44:15 - Transformer_no_pretrain - INFO: - decode batch cost time : 0.023775309324264526 ms\n",
      "I0417 23:44:15.975744 139696977332032 <ipython-input-11-3340543714f4>:36] decode batch cost time : 0.023775309324264526 ms\n"
     ]
    },
    {
     "name": "stdout",
     "output_type": "stream",
     "text": [
      "predicted_words [[24, 393], [4, 393], [1024, 181], [122, 846], [461, 4], [108, 449], [99, 4], [7, 181]]\n",
      "---------------------------\n",
      "predicted_words [[24, 393], [4, 393], [1024, 181], [122, 846], [461, 4], [108, 449], [9, 4], [449, 181]]\n",
      "---------------------------\n"
     ]
    },
    {
     "name": "stderr",
     "output_type": "stream",
     "text": [
      "2020-04-17 23:44:16 - Transformer_no_pretrain - INFO: - decode batch cost time : 0.024255037307739258 ms\n",
      "I0417 23:44:16.188131 139696977332032 <ipython-input-11-3340543714f4>:36] decode batch cost time : 0.024255037307739258 ms\n",
      "2020-04-17 23:44:16 - Transformer_no_pretrain - INFO: - decode batch cost time : 0.024043023586273193 ms\n",
      "I0417 23:44:16.388184 139696977332032 <ipython-input-11-3340543714f4>:36] decode batch cost time : 0.024043023586273193 ms\n"
     ]
    },
    {
     "name": "stdout",
     "output_type": "stream",
     "text": [
      "predicted_words [[24, 393], [4, 393], [1024, 181], [122, 846], [461, 4], [108, 449], [9, 4], [449, 181]]\n",
      "---------------------------\n",
      "predicted_words [[149, 449], [449, 181], [122, 461], [122, 846], [461, 4], [108, 449], [9, 4], [7, 181]]\n",
      "---------------------------\n"
     ]
    },
    {
     "name": "stderr",
     "output_type": "stream",
     "text": [
      "2020-04-17 23:44:16 - Transformer_no_pretrain - INFO: - decode batch cost time : 0.023813456296920776 ms\n",
      "I0417 23:44:16.586933 139696977332032 <ipython-input-11-3340543714f4>:36] decode batch cost time : 0.023813456296920776 ms\n",
      "2020-04-17 23:44:16 - Transformer_no_pretrain - INFO: - decode batch cost time : 0.023407280445098877 ms\n",
      "I0417 23:44:16.781794 139696977332032 <ipython-input-11-3340543714f4>:36] decode batch cost time : 0.023407280445098877 ms\n"
     ]
    },
    {
     "name": "stdout",
     "output_type": "stream",
     "text": [
      "predicted_words [[149, 449], [1024, 181], [122, 461], [122, 846], [461, 4], [108, 449], [99, 4], [7, 181]]\n",
      "---------------------------\n",
      "predicted_words [[149, 449], [4, 393], [122, 461], [122, 846], [461, 4], [108, 449], [9, 4], [7, 181]]\n",
      "---------------------------\n"
     ]
    },
    {
     "name": "stderr",
     "output_type": "stream",
     "text": [
      "2020-04-17 23:44:16 - Transformer_no_pretrain - INFO: - decode batch cost time : 0.023813724517822266 ms\n",
      "I0417 23:44:16.979937 139696977332032 <ipython-input-11-3340543714f4>:36] decode batch cost time : 0.023813724517822266 ms\n",
      "2020-04-17 23:44:17 - Transformer_no_pretrain - INFO: - decode batch cost time : 0.023368120193481445 ms\n",
      "I0417 23:44:17.175016 139696977332032 <ipython-input-11-3340543714f4>:36] decode batch cost time : 0.023368120193481445 ms\n"
     ]
    },
    {
     "name": "stdout",
     "output_type": "stream",
     "text": [
      "predicted_words [[149, 449], [449, 181], [122, 461], [122, 846], [461, 4], [108, 449], [9, 4], [7, 181]]\n",
      "---------------------------\n",
      "predicted_words [[24, 393], [24, 393], [24, 393], [122, 846], [7, 4], [108, 449], [24, 380], [7, 181]]\n",
      "---------------------------\n"
     ]
    },
    {
     "name": "stderr",
     "output_type": "stream",
     "text": [
      "2020-04-17 23:44:17 - Transformer_no_pretrain - INFO: - decode batch cost time : 0.025639593601226807 ms\n",
      "I0417 23:44:17.388414 139696977332032 <ipython-input-11-3340543714f4>:36] decode batch cost time : 0.025639593601226807 ms\n"
     ]
    },
    {
     "name": "stdout",
     "output_type": "stream",
     "text": [
      "predicted_words [[149, 449], [449, 181], [122, 461], [122, 846], [461, 4], [108, 449], [9, 4], [7, 181]]\n",
      "---------------------------\n"
     ]
    },
    {
     "name": "stderr",
     "output_type": "stream",
     "text": [
      "2020-04-17 23:44:17 - Transformer_no_pretrain - INFO: - decode batch cost time : 0.024278581142425537 ms\n",
      "I0417 23:44:17.597842 139696977332032 <ipython-input-11-3340543714f4>:36] decode batch cost time : 0.024278581142425537 ms\n",
      "2020-04-17 23:44:17 - Transformer_no_pretrain - INFO: - decode batch cost time : 0.023653119802474976 ms\n",
      "I0417 23:44:17.795480 139696977332032 <ipython-input-11-3340543714f4>:36] decode batch cost time : 0.023653119802474976 ms\n"
     ]
    },
    {
     "name": "stdout",
     "output_type": "stream",
     "text": [
      "predicted_words [[149, 449], [449, 181], [122, 461], [122, 846], [461, 4], [108, 449], [9, 4], [7, 181]]\n",
      "---------------------------\n",
      "predicted_words [[149, 449], [1024, 181], [122, 461], [122, 846], [461, 4], [108, 449], [9, 4], [7, 181]]\n",
      "---------------------------\n"
     ]
    },
    {
     "name": "stderr",
     "output_type": "stream",
     "text": [
      "2020-04-17 23:44:18 - Transformer_no_pretrain - INFO: - decode batch cost time : 0.024493634700775146 ms\n",
      "I0417 23:44:18.006193 139696977332032 <ipython-input-11-3340543714f4>:36] decode batch cost time : 0.024493634700775146 ms\n"
     ]
    },
    {
     "name": "stdout",
     "output_type": "stream",
     "text": [
      "predicted_words [[24, 393], [1024, 181], [122, 461], [122, 846], [461, 4], [108, 449], [9, 4], [7, 181]]\n",
      "---------------------------\n"
     ]
    },
    {
     "name": "stderr",
     "output_type": "stream",
     "text": [
      "2020-04-17 23:44:18 - Transformer_no_pretrain - INFO: - decode batch cost time : 0.02394282817840576 ms\n",
      "I0417 23:44:18.215366 139696977332032 <ipython-input-11-3340543714f4>:36] decode batch cost time : 0.02394282817840576 ms\n",
      "2020-04-17 23:44:18 - Transformer_no_pretrain - INFO: - decode batch cost time : 0.02370518445968628 ms\n",
      "I0417 23:44:18.413347 139696977332032 <ipython-input-11-3340543714f4>:36] decode batch cost time : 0.02370518445968628 ms\n"
     ]
    },
    {
     "name": "stdout",
     "output_type": "stream",
     "text": [
      "predicted_words [[149, 449], [449, 181], [122, 461], [122, 846], [461, 4], [108, 449], [9, 4], [7, 181]]\n",
      "---------------------------\n",
      "predicted_words [[149, 449], [449, 181], [122, 461], [122, 846], [461, 4], [108, 449], [9, 4], [7, 181]]\n",
      "---------------------------\n"
     ]
    },
    {
     "name": "stderr",
     "output_type": "stream",
     "text": [
      "2020-04-17 23:44:18 - Transformer_no_pretrain - INFO: - decode batch cost time : 0.026745080947875977 ms\n",
      "I0417 23:44:18.635240 139696977332032 <ipython-input-11-3340543714f4>:36] decode batch cost time : 0.026745080947875977 ms\n"
     ]
    },
    {
     "name": "stdout",
     "output_type": "stream",
     "text": [
      "predicted_words [[149, 449], [449, 181], [122, 461], [122, 846], [461, 4], [108, 449], [9, 4], [7, 181]]\n",
      "---------------------------\n",
      "predicted_words [[24, 393], [1024, 181], [1024, 181], [449, 181], [461, 4], [108, 449], [24, 380], [7, 181]]\n",
      "---------------------------\n"
     ]
    },
    {
     "name": "stderr",
     "output_type": "stream",
     "text": [
      "2020-04-17 23:44:18 - Transformer_no_pretrain - INFO: - decode batch cost time : 0.02381160855293274 ms\n",
      "I0417 23:44:18.836561 139696977332032 <ipython-input-11-3340543714f4>:36] decode batch cost time : 0.02381160855293274 ms\n",
      "2020-04-17 23:44:19 - Transformer_no_pretrain - INFO: - decode batch cost time : 0.02357947826385498 ms\n",
      "I0417 23:44:19.034193 139696977332032 <ipython-input-11-3340543714f4>:36] decode batch cost time : 0.02357947826385498 ms\n"
     ]
    },
    {
     "name": "stdout",
     "output_type": "stream",
     "text": [
      "predicted_words [[149, 449], [449, 181], [122, 461], [122, 846], [461, 4], [108, 449], [9, 4], [7, 181]]\n",
      "---------------------------\n"
     ]
    },
    {
     "name": "stderr",
     "output_type": "stream",
     "text": [
      "2020-04-17 23:44:19 - Transformer_no_pretrain - INFO: - decode batch cost time : 0.02447575330734253 ms\n",
      "I0417 23:44:19.248103 139696977332032 <ipython-input-11-3340543714f4>:36] decode batch cost time : 0.02447575330734253 ms\n",
      "2020-04-17 23:44:19 - Transformer_no_pretrain - INFO: - decode batch cost time : 0.024038225412368774 ms\n",
      "I0417 23:44:19.448068 139696977332032 <ipython-input-11-3340543714f4>:36] decode batch cost time : 0.024038225412368774 ms\n"
     ]
    },
    {
     "name": "stdout",
     "output_type": "stream",
     "text": [
      "predicted_words [[149, 449], [1024, 181], [122, 461], [122, 846], [461, 4], [108, 449], [9, 4], [7, 181]]\n",
      "---------------------------\n",
      "predicted_words [[149, 449], [449, 181], [122, 461], [122, 846], [461, 4], [108, 449], [9, 4], [7, 181]]\n",
      "---------------------------\n"
     ]
    },
    {
     "name": "stderr",
     "output_type": "stream",
     "text": [
      "2020-04-17 23:44:19 - Transformer_no_pretrain - INFO: - decode batch cost time : 0.02473205327987671 ms\n",
      "I0417 23:44:19.653585 139696977332032 <ipython-input-11-3340543714f4>:36] decode batch cost time : 0.02473205327987671 ms\n",
      "2020-04-17 23:44:19 - Transformer_no_pretrain - INFO: - decode batch cost time : 0.023713409900665283 ms\n",
      "I0417 23:44:19.850694 139696977332032 <ipython-input-11-3340543714f4>:36] decode batch cost time : 0.023713409900665283 ms\n"
     ]
    },
    {
     "name": "stdout",
     "output_type": "stream",
     "text": [
      "predicted_words [[24, 393], [24, 393], [122, 461], [449, 181], [461, 4], [108, 449], [9, 4], [7, 181]]\n",
      "---------------------------\n",
      "predicted_words [[149, 449], [449, 181], [122, 461], [122, 846], [461, 4], [108, 449], [9, 4], [7, 181]]\n",
      "---------------------------\n"
     ]
    },
    {
     "name": "stderr",
     "output_type": "stream",
     "text": [
      "2020-04-17 23:44:20 - Transformer_no_pretrain - INFO: - decode batch cost time : 0.024735450744628906 ms\n",
      "I0417 23:44:20.056279 139696977332032 <ipython-input-11-3340543714f4>:36] decode batch cost time : 0.024735450744628906 ms\n"
     ]
    },
    {
     "name": "stdout",
     "output_type": "stream",
     "text": [
      "predicted_words [[149, 449], [1024, 181], [122, 461], [122, 846], [461, 4], [108, 449], [99, 4], [7, 181]]\n",
      "---------------------------\n"
     ]
    },
    {
     "name": "stderr",
     "output_type": "stream",
     "text": [
      "2020-04-17 23:44:20 - Transformer_no_pretrain - INFO: - decode batch cost time : 0.024818092584609985 ms\n",
      "I0417 23:44:20.262724 139696977332032 <ipython-input-11-3340543714f4>:36] decode batch cost time : 0.024818092584609985 ms\n"
     ]
    },
    {
     "name": "stdout",
     "output_type": "stream",
     "text": [
      "predicted_words [[149, 449], [1024, 181], [122, 461], [122, 846], [461, 4], [108, 449], [9, 4], [7, 181]]\n",
      "---------------------------\n"
     ]
    },
    {
     "name": "stderr",
     "output_type": "stream",
     "text": [
      "2020-04-17 23:44:20 - Transformer_no_pretrain - INFO: - decode batch cost time : 0.025311380624771118 ms\n",
      "I0417 23:44:20.486932 139696977332032 <ipython-input-11-3340543714f4>:36] decode batch cost time : 0.025311380624771118 ms\n",
      "2020-04-17 23:44:20 - Transformer_no_pretrain - INFO: - decode batch cost time : 0.024142146110534668 ms\n"
     ]
    },
    {
     "name": "stdout",
     "output_type": "stream",
     "text": [
      "predicted_words [[24, 393], [1024, 181], [1024, 181], [122, 846], [461, 4], [122, 461], [24, 380], [7, 181]]\n",
      "---------------------------\n",
      "predicted_words [[149, 449], [4, 393], [1024, 181], [122, 846], [461, 4], [108, 449], [99, 4], [7, 181]]\n",
      "---------------------------\n"
     ]
    },
    {
     "name": "stderr",
     "output_type": "stream",
     "text": [
      "I0417 23:44:20.688179 139696977332032 <ipython-input-11-3340543714f4>:36] decode batch cost time : 0.024142146110534668 ms\n",
      "2020-04-17 23:44:20 - Transformer_no_pretrain - INFO: - decode batch cost time : 0.024463772773742676 ms\n",
      "I0417 23:44:20.891615 139696977332032 <ipython-input-11-3340543714f4>:36] decode batch cost time : 0.024463772773742676 ms\n"
     ]
    },
    {
     "name": "stdout",
     "output_type": "stream",
     "text": [
      "predicted_words [[149, 449], [449, 181], [122, 461], [122, 846], [461, 4], [108, 449], [9, 4], [7, 181]]\n",
      "---------------------------\n"
     ]
    },
    {
     "name": "stderr",
     "output_type": "stream",
     "text": [
      "2020-04-17 23:44:21 - Transformer_no_pretrain - INFO: - decode batch cost time : 0.026065587997436523 ms\n",
      "I0417 23:44:21.113548 139696977332032 <ipython-input-11-3340543714f4>:36] decode batch cost time : 0.026065587997436523 ms\n"
     ]
    },
    {
     "name": "stdout",
     "output_type": "stream",
     "text": [
      "predicted_words [[24, 393], [4, 393], [1024, 181], [122, 846], [461, 4], [108, 449], [99, 4], [7, 181]]\n",
      "---------------------------\n",
      "predicted_words [[149, 449], [1024, 181], [122, 461], [122, 846], [461, 4], [108, 449], [9, 4], [7, 181]]\n",
      "---------------------------\n"
     ]
    },
    {
     "name": "stderr",
     "output_type": "stream",
     "text": [
      "2020-04-17 23:44:21 - Transformer_no_pretrain - INFO: - decode batch cost time : 0.024039357900619507 ms\n",
      "I0417 23:44:21.314913 139696977332032 <ipython-input-11-3340543714f4>:36] decode batch cost time : 0.024039357900619507 ms\n",
      "2020-04-17 23:44:21 - Transformer_no_pretrain - INFO: - decode batch cost time : 0.024612098932266235 ms\n",
      "I0417 23:44:21.526684 139696977332032 <ipython-input-11-3340543714f4>:36] decode batch cost time : 0.024612098932266235 ms\n"
     ]
    },
    {
     "name": "stdout",
     "output_type": "stream",
     "text": [
      "predicted_words [[149, 449], [4, 393], [122, 461], [122, 846], [461, 4], [108, 449], [99, 4], [7, 181]]\n",
      "---------------------------\n"
     ]
    },
    {
     "name": "stderr",
     "output_type": "stream",
     "text": [
      "2020-04-17 23:44:21 - Transformer_no_pretrain - INFO: - decode batch cost time : 0.02493000030517578 ms\n",
      "I0417 23:44:21.740520 139696977332032 <ipython-input-11-3340543714f4>:36] decode batch cost time : 0.02493000030517578 ms\n"
     ]
    },
    {
     "name": "stdout",
     "output_type": "stream",
     "text": [
      "predicted_words [[149, 449], [4, 393], [1024, 181], [122, 846], [461, 4], [108, 449], [9, 4], [7, 181]]\n",
      "---------------------------\n"
     ]
    },
    {
     "name": "stderr",
     "output_type": "stream",
     "text": [
      "2020-04-17 23:44:21 - Transformer_no_pretrain - INFO: - decode batch cost time : 0.024639427661895752 ms\n",
      "I0417 23:44:21.946270 139696977332032 <ipython-input-11-3340543714f4>:36] decode batch cost time : 0.024639427661895752 ms\n"
     ]
    },
    {
     "name": "stdout",
     "output_type": "stream",
     "text": [
      "predicted_words [[149, 449], [449, 181], [122, 461], [122, 846], [461, 4], [108, 449], [9, 4], [7, 181]]\n",
      "---------------------------\n"
     ]
    },
    {
     "name": "stderr",
     "output_type": "stream",
     "text": [
      "2020-04-17 23:44:22 - Transformer_no_pretrain - INFO: - decode batch cost time : 0.023124396800994873 ms\n",
      "I0417 23:44:22.148101 139696977332032 <ipython-input-11-3340543714f4>:36] decode batch cost time : 0.023124396800994873 ms\n",
      "2020-04-17 23:44:22 - Transformer_no_pretrain - INFO: - decode batch cost time : 0.02297145128250122 ms\n",
      "I0417 23:44:22.340755 139696977332032 <ipython-input-11-3340543714f4>:36] decode batch cost time : 0.02297145128250122 ms\n"
     ]
    },
    {
     "name": "stdout",
     "output_type": "stream",
     "text": [
      "predicted_words [[149, 449], [449, 181], [122, 461], [122, 846], [461, 4], [108, 449], [9, 4], [7, 181]]\n",
      "---------------------------\n",
      "predicted_words [[149, 449], [449, 181], [122, 461], [122, 846], [461, 4], [108, 449], [9, 4], [7, 181]]\n",
      "---------------------------\n"
     ]
    },
    {
     "name": "stderr",
     "output_type": "stream",
     "text": [
      "2020-04-17 23:44:22 - Transformer_no_pretrain - INFO: - decode batch cost time : 0.023078620433807373 ms\n",
      "I0417 23:44:22.534068 139696977332032 <ipython-input-11-3340543714f4>:36] decode batch cost time : 0.023078620433807373 ms\n",
      "2020-04-17 23:44:22 - Transformer_no_pretrain - INFO: - decode batch cost time : 0.023444294929504395 ms\n",
      "I0417 23:44:22.729373 139696977332032 <ipython-input-11-3340543714f4>:36] decode batch cost time : 0.023444294929504395 ms\n"
     ]
    },
    {
     "name": "stdout",
     "output_type": "stream",
     "text": [
      "predicted_words [[149, 449], [449, 181], [122, 461], [122, 846], [461, 4], [108, 449], [9, 4], [7, 181]]\n",
      "---------------------------\n",
      "predicted_words [[149, 449], [1024, 181], [122, 461], [122, 846], [461, 4], [108, 449], [9, 4], [7, 181]]\n",
      "---------------------------\n"
     ]
    },
    {
     "name": "stderr",
     "output_type": "stream",
     "text": [
      "2020-04-17 23:44:22 - Transformer_no_pretrain - INFO: - decode batch cost time : 0.02407422661781311 ms\n",
      "I0417 23:44:22.930964 139696977332032 <ipython-input-11-3340543714f4>:36] decode batch cost time : 0.02407422661781311 ms\n",
      "2020-04-17 23:44:23 - Transformer_no_pretrain - INFO: - decode batch cost time : 0.02366521954536438 ms\n",
      "I0417 23:44:23.129771 139696977332032 <ipython-input-11-3340543714f4>:36] decode batch cost time : 0.02366521954536438 ms\n"
     ]
    },
    {
     "name": "stdout",
     "output_type": "stream",
     "text": [
      "predicted_words [[149, 449], [449, 181], [122, 461], [122, 846], [461, 4], [108, 449], [9, 4], [7, 181]]\n",
      "---------------------------\n",
      "predicted_words [[24, 393], [449, 181], [1024, 181], [449, 181], [461, 4], [108, 449], [99, 4], [7, 181]]\n",
      "---------------------------\n"
     ]
    },
    {
     "name": "stderr",
     "output_type": "stream",
     "text": [
      "2020-04-17 23:44:23 - Transformer_no_pretrain - INFO: - decode batch cost time : 0.024132102727890015 ms\n",
      "I0417 23:44:23.331621 139696977332032 <ipython-input-11-3340543714f4>:36] decode batch cost time : 0.024132102727890015 ms\n"
     ]
    },
    {
     "name": "stdout",
     "output_type": "stream",
     "text": [
      "predicted_words [[24, 393], [4, 393], [1024, 181], [122, 846], [461, 4], [108, 449], [9, 4], [7, 181]]\n",
      "---------------------------\n"
     ]
    },
    {
     "name": "stderr",
     "output_type": "stream",
     "text": [
      "2020-04-17 23:44:23 - Transformer_no_pretrain - INFO: - decode batch cost time : 0.026025325059890747 ms\n",
      "I0417 23:44:23.548662 139696977332032 <ipython-input-11-3340543714f4>:36] decode batch cost time : 0.026025325059890747 ms\n"
     ]
    },
    {
     "name": "stdout",
     "output_type": "stream",
     "text": [
      "predicted_words [[149, 449], [4, 393], [122, 461], [122, 846], [461, 4], [108, 449], [9, 4], [7, 181]]\n",
      "---------------------------\n"
     ]
    },
    {
     "name": "stderr",
     "output_type": "stream",
     "text": [
      "2020-04-17 23:44:23 - Transformer_no_pretrain - INFO: - decode batch cost time : 0.025221705436706543 ms\n",
      "I0417 23:44:23.759102 139696977332032 <ipython-input-11-3340543714f4>:36] decode batch cost time : 0.025221705436706543 ms\n",
      "2020-04-17 23:44:23 - Transformer_no_pretrain - INFO: - decode batch cost time : 0.023918122053146362 ms\n",
      "I0417 23:44:23.959175 139696977332032 <ipython-input-11-3340543714f4>:36] decode batch cost time : 0.023918122053146362 ms\n"
     ]
    },
    {
     "name": "stdout",
     "output_type": "stream",
     "text": [
      "predicted_words [[149, 449], [1024, 181], [122, 461], [122, 846], [461, 4], [108, 449], [9, 4], [7, 181]]\n",
      "---------------------------\n",
      "predicted_words [[24, 393], [1024, 181], [1024, 181], [122, 846], [461, 4], [108, 449], [9, 4], [7, 181]]\n",
      "---------------------------\n"
     ]
    },
    {
     "name": "stderr",
     "output_type": "stream",
     "text": [
      "2020-04-17 23:44:24 - Transformer_no_pretrain - INFO: - decode batch cost time : 0.024027258157730103 ms\n",
      "I0417 23:44:24.160621 139696977332032 <ipython-input-11-3340543714f4>:36] decode batch cost time : 0.024027258157730103 ms\n",
      "2020-04-17 23:44:24 - Transformer_no_pretrain - INFO: - decode batch cost time : 0.023664534091949463 ms\n",
      "I0417 23:44:24.358216 139696977332032 <ipython-input-11-3340543714f4>:36] decode batch cost time : 0.023664534091949463 ms\n"
     ]
    },
    {
     "name": "stdout",
     "output_type": "stream",
     "text": [
      "predicted_words [[149, 449], [24, 393], [1024, 181], [122, 846], [461, 4], [108, 449], [24, 380], [7, 181]]\n",
      "---------------------------\n",
      "predicted_words [[149, 449], [1024, 181], [122, 461], [122, 846], [461, 4], [108, 449], [9, 4], [7, 181]]\n",
      "---------------------------\n"
     ]
    },
    {
     "name": "stderr",
     "output_type": "stream",
     "text": [
      "2020-04-17 23:44:24 - Transformer_no_pretrain - INFO: - decode batch cost time : 0.024764060974121094 ms\n",
      "I0417 23:44:24.570572 139696977332032 <ipython-input-11-3340543714f4>:36] decode batch cost time : 0.024764060974121094 ms\n"
     ]
    },
    {
     "name": "stdout",
     "output_type": "stream",
     "text": [
      "predicted_words [[24, 393], [1024, 181], [1024, 181], [122, 846], [461, 4], [108, 449], [9, 4], [7, 181]]\n",
      "---------------------------\n"
     ]
    },
    {
     "name": "stderr",
     "output_type": "stream",
     "text": [
      "2020-04-17 23:44:24 - Transformer_no_pretrain - INFO: - decode batch cost time : 0.024320513010025024 ms\n",
      "I0417 23:44:24.779880 139696977332032 <ipython-input-11-3340543714f4>:36] decode batch cost time : 0.024320513010025024 ms\n",
      "2020-04-17 23:44:24 - Transformer_no_pretrain - INFO: - decode batch cost time : 0.023726671934127808 ms\n",
      "I0417 23:44:24.978343 139696977332032 <ipython-input-11-3340543714f4>:36] decode batch cost time : 0.023726671934127808 ms\n"
     ]
    },
    {
     "name": "stdout",
     "output_type": "stream",
     "text": [
      "predicted_words [[149, 449], [449, 181], [122, 461], [122, 846], [461, 4], [108, 449], [9, 4], [7, 181]]\n",
      "---------------------------\n",
      "predicted_words [[149, 449], [449, 181], [122, 461], [122, 846], [461, 4], [108, 449], [9, 4], [7, 181]]\n",
      "---------------------------\n"
     ]
    },
    {
     "name": "stderr",
     "output_type": "stream",
     "text": [
      "2020-04-17 23:44:25 - Transformer_no_pretrain - INFO: - decode batch cost time : 0.025598108768463135 ms\n",
      "I0417 23:44:25.196201 139696977332032 <ipython-input-11-3340543714f4>:36] decode batch cost time : 0.025598108768463135 ms\n",
      "2020-04-17 23:44:25 - Transformer_no_pretrain - INFO: - decode batch cost time : 0.024008333683013916 ms\n"
     ]
    },
    {
     "name": "stdout",
     "output_type": "stream",
     "text": [
      "predicted_words [[149, 449], [1024, 181], [122, 461], [122, 846], [461, 4], [108, 449], [24, 380], [449, 181]]\n",
      "---------------------------\n",
      "predicted_words [[149, 449], [1024, 181], [122, 461], [122, 846], [461, 4], [108, 449], [9, 4], [7, 181]]\n",
      "---------------------------\n"
     ]
    },
    {
     "name": "stderr",
     "output_type": "stream",
     "text": [
      "I0417 23:44:25.397202 139696977332032 <ipython-input-11-3340543714f4>:36] decode batch cost time : 0.024008333683013916 ms\n",
      "2020-04-17 23:44:25 - Transformer_no_pretrain - INFO: - decode batch cost time : 0.023884952068328857 ms\n",
      "I0417 23:44:25.596301 139696977332032 <ipython-input-11-3340543714f4>:36] decode batch cost time : 0.023884952068328857 ms\n"
     ]
    },
    {
     "name": "stdout",
     "output_type": "stream",
     "text": [
      "predicted_words [[149, 449], [449, 181], [122, 461], [122, 846], [461, 4], [108, 449], [9, 4], [7, 181]]\n",
      "---------------------------\n"
     ]
    },
    {
     "name": "stderr",
     "output_type": "stream",
     "text": [
      "2020-04-17 23:44:25 - Transformer_no_pretrain - INFO: - decode batch cost time : 0.02451092004776001 ms\n",
      "I0417 23:44:25.806912 139696977332032 <ipython-input-11-3340543714f4>:36] decode batch cost time : 0.02451092004776001 ms\n",
      "2020-04-17 23:44:26 - Transformer_no_pretrain - INFO: - decode batch cost time : 0.023776710033416748 ms\n",
      "I0417 23:44:26.006037 139696977332032 <ipython-input-11-3340543714f4>:36] decode batch cost time : 0.023776710033416748 ms\n"
     ]
    },
    {
     "name": "stdout",
     "output_type": "stream",
     "text": [
      "predicted_words [[149, 449], [1024, 181], [122, 461], [122, 846], [461, 4], [108, 449], [9, 4], [7, 181]]\n",
      "---------------------------\n",
      "predicted_words [[149, 449], [4, 393], [122, 461], [122, 846], [461, 4], [108, 449], [99, 4], [7, 181]]\n",
      "---------------------------\n"
     ]
    },
    {
     "name": "stderr",
     "output_type": "stream",
     "text": [
      "2020-04-17 23:44:26 - Transformer_no_pretrain - INFO: - decode batch cost time : 0.023841023445129395 ms\n",
      "I0417 23:44:26.215843 139696977332032 <ipython-input-11-3340543714f4>:36] decode batch cost time : 0.023841023445129395 ms\n"
     ]
    },
    {
     "name": "stdout",
     "output_type": "stream",
     "text": [
      "predicted_words [[149, 449], [449, 181], [122, 461], [122, 846], [461, 4], [108, 449], [9, 4], [7, 181]]\n",
      "---------------------------\n"
     ]
    },
    {
     "name": "stderr",
     "output_type": "stream",
     "text": [
      "2020-04-17 23:44:26 - Transformer_no_pretrain - INFO: - decode batch cost time : 0.024703532457351685 ms\n",
      "I0417 23:44:26.427552 139696977332032 <ipython-input-11-3340543714f4>:36] decode batch cost time : 0.024703532457351685 ms\n",
      "2020-04-17 23:44:26 - Transformer_no_pretrain - INFO: - decode batch cost time : 0.023804396390914917 ms\n",
      "I0417 23:44:26.627044 139696977332032 <ipython-input-11-3340543714f4>:36] decode batch cost time : 0.023804396390914917 ms\n"
     ]
    },
    {
     "name": "stdout",
     "output_type": "stream",
     "text": [
      "predicted_words [[149, 449], [449, 181], [122, 461], [122, 846], [461, 4], [108, 449], [9, 4], [7, 181]]\n",
      "---------------------------\n",
      "predicted_words [[149, 449], [4, 393], [1024, 181], [122, 846], [461, 4], [108, 449], [99, 4], [7, 181]]\n",
      "---------------------------\n"
     ]
    },
    {
     "name": "stderr",
     "output_type": "stream",
     "text": [
      "2020-04-17 23:44:26 - Transformer_no_pretrain - INFO: - decode batch cost time : 0.024401426315307617 ms\n",
      "I0417 23:44:26.831322 139696977332032 <ipython-input-11-3340543714f4>:36] decode batch cost time : 0.024401426315307617 ms\n"
     ]
    },
    {
     "name": "stdout",
     "output_type": "stream",
     "text": [
      "predicted_words [[149, 449], [4, 393], [1024, 181], [122, 846], [461, 4], [108, 449], [99, 4], [7, 181]]\n",
      "---------------------------\n"
     ]
    },
    {
     "name": "stderr",
     "output_type": "stream",
     "text": [
      "2020-04-17 23:44:27 - Transformer_no_pretrain - INFO: - decode batch cost time : 0.024202555418014526 ms\n",
      "I0417 23:44:27.036189 139696977332032 <ipython-input-11-3340543714f4>:36] decode batch cost time : 0.024202555418014526 ms\n"
     ]
    },
    {
     "name": "stdout",
     "output_type": "stream",
     "text": [
      "predicted_words [[149, 449], [1024, 181], [1024, 181], [122, 846], [461, 4], [108, 449], [99, 4], [7, 181]]\n",
      "---------------------------\n"
     ]
    },
    {
     "name": "stderr",
     "output_type": "stream",
     "text": [
      "2020-04-17 23:44:27 - Transformer_no_pretrain - INFO: - decode batch cost time : 0.024018913507461548 ms\n",
      "I0417 23:44:27.245510 139696977332032 <ipython-input-11-3340543714f4>:36] decode batch cost time : 0.024018913507461548 ms\n"
     ]
    },
    {
     "name": "stdout",
     "output_type": "stream",
     "text": [
      "predicted_words [[149, 449], [449, 181], [122, 461], [122, 846], [461, 4], [108, 449], [9, 4], [7, 181]]\n",
      "---------------------------\n"
     ]
    },
    {
     "name": "stderr",
     "output_type": "stream",
     "text": [
      "2020-04-17 23:44:27 - Transformer_no_pretrain - INFO: - decode batch cost time : 0.02452811598777771 ms\n",
      "I0417 23:44:27.451405 139696977332032 <ipython-input-11-3340543714f4>:36] decode batch cost time : 0.02452811598777771 ms\n"
     ]
    },
    {
     "name": "stdout",
     "output_type": "stream",
     "text": [
      "predicted_words [[149, 449], [4, 393], [1024, 181], [122, 846], [461, 4], [108, 449], [9, 4], [7, 181]]\n",
      "---------------------------\n"
     ]
    },
    {
     "name": "stderr",
     "output_type": "stream",
     "text": [
      "2020-04-17 23:44:27 - Transformer_no_pretrain - INFO: - decode batch cost time : 0.024140864610671997 ms\n",
      "I0417 23:44:27.653789 139696977332032 <ipython-input-11-3340543714f4>:36] decode batch cost time : 0.024140864610671997 ms\n"
     ]
    },
    {
     "name": "stdout",
     "output_type": "stream",
     "text": [
      "predicted_words [[24, 393], [4, 393], [122, 461], [122, 846], [461, 4], [108, 449], [99, 4], [7, 181]]\n",
      "---------------------------\n"
     ]
    },
    {
     "name": "stderr",
     "output_type": "stream",
     "text": [
      "2020-04-17 23:44:27 - Transformer_no_pretrain - INFO: - decode batch cost time : 0.02440926432609558 ms\n",
      "I0417 23:44:27.858378 139696977332032 <ipython-input-11-3340543714f4>:36] decode batch cost time : 0.02440926432609558 ms\n"
     ]
    },
    {
     "name": "stdout",
     "output_type": "stream",
     "text": [
      "predicted_words [[24, 393], [4, 393], [24, 393], [122, 846], [461, 4], [108, 449], [99, 4], [7, 181]]\n",
      "---------------------------\n"
     ]
    },
    {
     "name": "stderr",
     "output_type": "stream",
     "text": [
      "2020-04-17 23:44:28 - Transformer_no_pretrain - INFO: - decode batch cost time : 0.024565309286117554 ms\n",
      "I0417 23:44:28.070322 139696977332032 <ipython-input-11-3340543714f4>:36] decode batch cost time : 0.024565309286117554 ms\n"
     ]
    },
    {
     "name": "stdout",
     "output_type": "stream",
     "text": [
      "predicted_words [[24, 393], [1024, 181], [24, 393], [449, 181], [461, 4], [108, 449], [9, 4], [7, 181]]\n",
      "---------------------------\n"
     ]
    },
    {
     "name": "stderr",
     "output_type": "stream",
     "text": [
      "2020-04-17 23:44:28 - Transformer_no_pretrain - INFO: - decode batch cost time : 0.024021536111831665 ms\n",
      "I0417 23:44:28.271688 139696977332032 <ipython-input-11-3340543714f4>:36] decode batch cost time : 0.024021536111831665 ms\n"
     ]
    },
    {
     "name": "stdout",
     "output_type": "stream",
     "text": [
      "predicted_words [[24, 393], [1024, 181], [24, 393], [449, 181], [461, 4], [108, 449], [9, 4], [7, 181]]\n",
      "---------------------------\n"
     ]
    },
    {
     "name": "stderr",
     "output_type": "stream",
     "text": [
      "2020-04-17 23:44:28 - Transformer_no_pretrain - INFO: - decode batch cost time : 0.026255637407302856 ms\n",
      "I0417 23:44:28.489859 139696977332032 <ipython-input-11-3340543714f4>:36] decode batch cost time : 0.026255637407302856 ms\n"
     ]
    },
    {
     "name": "stdout",
     "output_type": "stream",
     "text": [
      "predicted_words [[149, 449], [1024, 181], [122, 461], [122, 846], [461, 4], [108, 449], [9, 4], [7, 181]]\n",
      "---------------------------\n"
     ]
    },
    {
     "name": "stderr",
     "output_type": "stream",
     "text": [
      "2020-04-17 23:44:28 - Transformer_no_pretrain - INFO: - decode batch cost time : 0.025101959705352783 ms\n",
      "I0417 23:44:28.699169 139696977332032 <ipython-input-11-3340543714f4>:36] decode batch cost time : 0.025101959705352783 ms\n"
     ]
    },
    {
     "name": "stdout",
     "output_type": "stream",
     "text": [
      "predicted_words [[149, 449], [4, 393], [122, 461], [122, 846], [461, 4], [108, 449], [9, 4], [7, 181]]\n",
      "---------------------------\n"
     ]
    },
    {
     "name": "stderr",
     "output_type": "stream",
     "text": [
      "2020-04-17 23:44:28 - Transformer_no_pretrain - INFO: - decode batch cost time : 0.025116264820098877 ms\n",
      "I0417 23:44:28.918411 139696977332032 <ipython-input-11-3340543714f4>:36] decode batch cost time : 0.025116264820098877 ms\n",
      "2020-04-17 23:44:29 - Transformer_no_pretrain - INFO: - decode batch cost time : 0.023330867290496826 ms\n",
      "I0417 23:44:29.114197 139696977332032 <ipython-input-11-3340543714f4>:36] decode batch cost time : 0.023330867290496826 ms\n"
     ]
    },
    {
     "name": "stdout",
     "output_type": "stream",
     "text": [
      "predicted_words [[24, 393], [4, 393], [1024, 181], [122, 846], [461, 4], [108, 449], [99, 4], [7, 181]]\n",
      "---------------------------\n",
      "predicted_words [[24, 393], [1024, 181], [1024, 181], [449, 181], [461, 4], [108, 449], [99, 4], [7, 181]]\n",
      "---------------------------\n"
     ]
    },
    {
     "name": "stderr",
     "output_type": "stream",
     "text": [
      "2020-04-17 23:44:29 - Transformer_no_pretrain - INFO: - decode batch cost time : 0.023724466562271118 ms\n",
      "I0417 23:44:29.313224 139696977332032 <ipython-input-11-3340543714f4>:36] decode batch cost time : 0.023724466562271118 ms\n",
      "2020-04-17 23:44:29 - Transformer_no_pretrain - INFO: - decode batch cost time : 0.02306351065635681 ms\n",
      "I0417 23:44:29.507422 139696977332032 <ipython-input-11-3340543714f4>:36] decode batch cost time : 0.02306351065635681 ms\n"
     ]
    },
    {
     "name": "stdout",
     "output_type": "stream",
     "text": [
      "predicted_words [[149, 449], [449, 181], [122, 461], [122, 846], [461, 4], [108, 449], [9, 4], [7, 181]]\n",
      "---------------------------\n",
      "predicted_words [[24, 393], [4, 393], [24, 393], [449, 181], [461, 4], [108, 449], [99, 4], [7, 181]]\n",
      "---------------------------\n"
     ]
    },
    {
     "name": "stderr",
     "output_type": "stream",
     "text": [
      "2020-04-17 23:44:29 - Transformer_no_pretrain - INFO: - decode batch cost time : 0.023879677057266235 ms\n",
      "I0417 23:44:29.707252 139696977332032 <ipython-input-11-3340543714f4>:36] decode batch cost time : 0.023879677057266235 ms\n",
      "2020-04-17 23:44:29 - Transformer_no_pretrain - INFO: - decode batch cost time : 0.023519396781921387 ms\n",
      "I0417 23:44:29.904448 139696977332032 <ipython-input-11-3340543714f4>:36] decode batch cost time : 0.023519396781921387 ms\n"
     ]
    },
    {
     "name": "stdout",
     "output_type": "stream",
     "text": [
      "predicted_words [[149, 449], [4, 393], [1024, 181], [122, 846], [461, 4], [108, 449], [99, 4], [7, 181]]\n",
      "---------------------------\n",
      "predicted_words [[149, 449], [4, 393], [1024, 181], [122, 846], [461, 4], [108, 449], [99, 4], [7, 181]]\n",
      "---------------------------\n"
     ]
    },
    {
     "name": "stderr",
     "output_type": "stream",
     "text": [
      "2020-04-17 23:44:30 - Transformer_no_pretrain - INFO: - decode batch cost time : 0.025023430585861206 ms\n",
      "I0417 23:44:30.113438 139696977332032 <ipython-input-11-3340543714f4>:36] decode batch cost time : 0.025023430585861206 ms\n"
     ]
    },
    {
     "name": "stdout",
     "output_type": "stream",
     "text": [
      "predicted_words [[24, 393], [1024, 181], [1024, 181], [449, 181], [461, 4], [108, 449], [9, 4], [7, 181]]\n",
      "---------------------------\n"
     ]
    },
    {
     "name": "stderr",
     "output_type": "stream",
     "text": [
      "2020-04-17 23:44:30 - Transformer_no_pretrain - INFO: - decode batch cost time : 0.024774998426437378 ms\n",
      "I0417 23:44:30.320626 139696977332032 <ipython-input-11-3340543714f4>:36] decode batch cost time : 0.024774998426437378 ms\n"
     ]
    },
    {
     "name": "stdout",
     "output_type": "stream",
     "text": [
      "predicted_words [[24, 393], [1024, 181], [122, 461], [122, 846], [461, 4], [108, 449], [24, 380], [449, 181]]\n",
      "---------------------------\n"
     ]
    },
    {
     "name": "stderr",
     "output_type": "stream",
     "text": [
      "2020-04-17 23:44:30 - Transformer_no_pretrain - INFO: - decode batch cost time : 0.024469763040542603 ms\n",
      "I0417 23:44:30.524605 139696977332032 <ipython-input-11-3340543714f4>:36] decode batch cost time : 0.024469763040542603 ms\n"
     ]
    },
    {
     "name": "stdout",
     "output_type": "stream",
     "text": [
      "predicted_words [[149, 449], [4, 393], [1024, 181], [122, 846], [461, 4], [108, 449], [99, 4], [7, 181]]\n",
      "---------------------------\n"
     ]
    },
    {
     "name": "stderr",
     "output_type": "stream",
     "text": [
      "2020-04-17 23:44:30 - Transformer_no_pretrain - INFO: - decode batch cost time : 0.02415451407432556 ms\n",
      "I0417 23:44:30.727204 139696977332032 <ipython-input-11-3340543714f4>:36] decode batch cost time : 0.02415451407432556 ms\n"
     ]
    },
    {
     "name": "stdout",
     "output_type": "stream",
     "text": [
      "predicted_words [[24, 393], [449, 181], [1024, 181], [449, 181], [461, 4], [108, 449], [9, 4], [7, 181]]\n",
      "---------------------------\n"
     ]
    },
    {
     "name": "stderr",
     "output_type": "stream",
     "text": [
      "2020-04-17 23:44:30 - Transformer_no_pretrain - INFO: - decode batch cost time : 0.024730920791625977 ms\n",
      "I0417 23:44:30.944635 139696977332032 <ipython-input-11-3340543714f4>:36] decode batch cost time : 0.024730920791625977 ms\n"
     ]
    },
    {
     "name": "stdout",
     "output_type": "stream",
     "text": [
      "predicted_words [[149, 449], [1024, 181], [122, 461], [122, 846], [461, 4], [108, 449], [9, 4], [7, 181]]\n",
      "---------------------------\n"
     ]
    },
    {
     "name": "stderr",
     "output_type": "stream",
     "text": [
      "2020-04-17 23:44:31 - Transformer_no_pretrain - INFO: - decode batch cost time : 0.024514466524124146 ms\n",
      "I0417 23:44:31.162427 139696977332032 <ipython-input-11-3340543714f4>:36] decode batch cost time : 0.024514466524124146 ms\n"
     ]
    },
    {
     "name": "stdout",
     "output_type": "stream",
     "text": [
      "predicted_words [[149, 449], [1024, 181], [122, 461], [122, 846], [461, 4], [108, 449], [9, 4], [7, 181]]\n",
      "---------------------------\n"
     ]
    },
    {
     "name": "stderr",
     "output_type": "stream",
     "text": [
      "2020-04-17 23:44:31 - Transformer_no_pretrain - INFO: - decode batch cost time : 0.02475401759147644 ms\n",
      "I0417 23:44:31.378601 139696977332032 <ipython-input-11-3340543714f4>:36] decode batch cost time : 0.02475401759147644 ms\n"
     ]
    },
    {
     "name": "stdout",
     "output_type": "stream",
     "text": [
      "predicted_words [[149, 449], [449, 181], [122, 461], [122, 846], [461, 4], [108, 449], [9, 4], [7, 181]]\n",
      "---------------------------\n"
     ]
    },
    {
     "name": "stderr",
     "output_type": "stream",
     "text": [
      "2020-04-17 23:44:31 - Transformer_no_pretrain - INFO: - decode batch cost time : 0.024226337671279907 ms\n",
      "I0417 23:44:31.581639 139696977332032 <ipython-input-11-3340543714f4>:36] decode batch cost time : 0.024226337671279907 ms\n",
      "2020-04-17 23:44:31 - Transformer_no_pretrain - INFO: - decode batch cost time : 0.023263484239578247 ms\n",
      "I0417 23:44:31.775933 139696977332032 <ipython-input-11-3340543714f4>:36] decode batch cost time : 0.023263484239578247 ms\n"
     ]
    },
    {
     "name": "stdout",
     "output_type": "stream",
     "text": [
      "predicted_words [[149, 449], [4, 393], [122, 461], [122, 846], [461, 4], [108, 449], [9, 4], [7, 181]]\n",
      "---------------------------\n",
      "predicted_words [[149, 449], [449, 181], [122, 461], [122, 846], [461, 4], [108, 449], [9, 4], [7, 181]]\n",
      "---------------------------\n"
     ]
    },
    {
     "name": "stderr",
     "output_type": "stream",
     "text": [
      "2020-04-17 23:44:31 - Transformer_no_pretrain - INFO: - decode batch cost time : 0.023379415273666382 ms\n",
      "I0417 23:44:31.971518 139696977332032 <ipython-input-11-3340543714f4>:36] decode batch cost time : 0.023379415273666382 ms\n",
      "2020-04-17 23:44:32 - Transformer_no_pretrain - INFO: - decode batch cost time : 0.023974329233169556 ms\n"
     ]
    },
    {
     "name": "stdout",
     "output_type": "stream",
     "text": [
      "predicted_words [[24, 393], [4, 393], [24, 393], [449, 181], [461, 4], [108, 449], [99, 4], [7, 181]]\n",
      "---------------------------\n",
      "predicted_words [[149, 449], [1024, 181], [122, 461], [122, 846], [461, 4], [108, 449], [9, 4], [7, 181]]\n",
      "---------------------------\n"
     ]
    },
    {
     "name": "stderr",
     "output_type": "stream",
     "text": [
      "I0417 23:44:32.171849 139696977332032 <ipython-input-11-3340543714f4>:36] decode batch cost time : 0.023974329233169556 ms\n",
      "2020-04-17 23:44:32 - Transformer_no_pretrain - INFO: - decode batch cost time : 0.023182839155197144 ms\n",
      "I0417 23:44:32.368875 139696977332032 <ipython-input-11-3340543714f4>:36] decode batch cost time : 0.023182839155197144 ms\n"
     ]
    },
    {
     "name": "stdout",
     "output_type": "stream",
     "text": [
      "predicted_words [[24, 393], [1024, 181], [1024, 181], [449, 181], [122, 461], [108, 449], [9, 4], [7, 181]]\n",
      "---------------------------\n"
     ]
    },
    {
     "name": "stderr",
     "output_type": "stream",
     "text": [
      "2020-04-17 23:44:32 - Transformer_no_pretrain - INFO: - decode batch cost time : 0.02606832981109619 ms\n",
      "I0417 23:44:32.586364 139696977332032 <ipython-input-11-3340543714f4>:36] decode batch cost time : 0.02606832981109619 ms\n",
      "2020-04-17 23:44:32 - Transformer_no_pretrain - INFO: - decode batch cost time : 0.02353653311729431 ms\n",
      "I0417 23:44:32.784033 139696977332032 <ipython-input-11-3340543714f4>:36] decode batch cost time : 0.02353653311729431 ms\n"
     ]
    },
    {
     "name": "stdout",
     "output_type": "stream",
     "text": [
      "predicted_words [[149, 449], [1024, 181], [122, 461], [122, 846], [461, 4], [108, 449], [9, 4], [7, 181]]\n",
      "---------------------------\n",
      "predicted_words [[7, 9], [1024, 181], [122, 461], [122, 846], [1024, 181], [108, 449], [24, 380], [7, 181]]\n",
      "---------------------------\n"
     ]
    },
    {
     "name": "stderr",
     "output_type": "stream",
     "text": [
      "2020-04-17 23:44:32 - Transformer_no_pretrain - INFO: - decode batch cost time : 0.024317950010299683 ms\n",
      "I0417 23:44:32.988081 139696977332032 <ipython-input-11-3340543714f4>:36] decode batch cost time : 0.024317950010299683 ms\n",
      "2020-04-17 23:44:33 - Transformer_no_pretrain - INFO: - decode batch cost time : 0.023395419120788574 ms\n",
      "I0417 23:44:33.184113 139696977332032 <ipython-input-11-3340543714f4>:36] decode batch cost time : 0.023395419120788574 ms\n"
     ]
    },
    {
     "name": "stdout",
     "output_type": "stream",
     "text": [
      "predicted_words [[7, 9], [449, 181], [1024, 181], [122, 846], [1024, 181], [108, 449], [99, 4], [7, 181]]\n",
      "---------------------------\n",
      "predicted_words [[24, 393], [4, 393], [1024, 181], [122, 846], [122, 461], [108, 449], [99, 4], [7, 181]]\n",
      "---------------------------\n"
     ]
    },
    {
     "name": "stderr",
     "output_type": "stream",
     "text": [
      "2020-04-17 23:44:33 - Transformer_no_pretrain - INFO: - decode batch cost time : 0.02469494938850403 ms\n",
      "I0417 23:44:33.391026 139696977332032 <ipython-input-11-3340543714f4>:36] decode batch cost time : 0.02469494938850403 ms\n"
     ]
    },
    {
     "name": "stdout",
     "output_type": "stream",
     "text": [
      "predicted_words [[24, 393], [4, 393], [1024, 181], [122, 846], [461, 4], [108, 449], [9, 4], [7, 181]]\n",
      "---------------------------\n"
     ]
    },
    {
     "name": "stderr",
     "output_type": "stream",
     "text": [
      "2020-04-17 23:44:33 - Transformer_no_pretrain - INFO: - decode batch cost time : 0.024954646825790405 ms\n",
      "I0417 23:44:33.599963 139696977332032 <ipython-input-11-3340543714f4>:36] decode batch cost time : 0.024954646825790405 ms\n"
     ]
    },
    {
     "name": "stdout",
     "output_type": "stream",
     "text": [
      "predicted_words [[149, 449], [4, 393], [122, 461], [122, 846], [461, 4], [108, 449], [99, 4], [7, 181]]\n",
      "---------------------------\n"
     ]
    },
    {
     "name": "stderr",
     "output_type": "stream",
     "text": [
      "2020-04-17 23:44:33 - Transformer_no_pretrain - INFO: - decode batch cost time : 0.02556610107421875 ms\n",
      "I0417 23:44:33.813826 139696977332032 <ipython-input-11-3340543714f4>:36] decode batch cost time : 0.02556610107421875 ms\n"
     ]
    },
    {
     "name": "stdout",
     "output_type": "stream",
     "text": [
      "predicted_words [[149, 449], [449, 181], [122, 461], [122, 846], [461, 4], [108, 449], [9, 4], [7, 181]]\n",
      "---------------------------\n"
     ]
    },
    {
     "name": "stderr",
     "output_type": "stream",
     "text": [
      "2020-04-17 23:44:34 - Transformer_no_pretrain - INFO: - decode batch cost time : 0.025274008512496948 ms\n",
      "I0417 23:44:34.024911 139696977332032 <ipython-input-11-3340543714f4>:36] decode batch cost time : 0.025274008512496948 ms\n",
      "2020-04-17 23:44:34 - Transformer_no_pretrain - INFO: - decode batch cost time : 0.023711055517196655 ms\n",
      "I0417 23:44:34.223646 139696977332032 <ipython-input-11-3340543714f4>:36] decode batch cost time : 0.023711055517196655 ms\n"
     ]
    },
    {
     "name": "stdout",
     "output_type": "stream",
     "text": [
      "predicted_words [[24, 393], [1024, 181], [24, 393], [449, 181], [122, 461], [99, 9], [99, 4], [7, 181]]\n",
      "---------------------------\n",
      "predicted_words [[149, 449], [4, 393], [122, 461], [122, 846], [461, 4], [108, 449], [9, 4], [7, 181]]\n",
      "---------------------------\n"
     ]
    },
    {
     "name": "stderr",
     "output_type": "stream",
     "text": [
      "2020-04-17 23:44:34 - Transformer_no_pretrain - INFO: - decode batch cost time : 0.02369639277458191 ms\n",
      "I0417 23:44:34.422401 139696977332032 <ipython-input-11-3340543714f4>:36] decode batch cost time : 0.02369639277458191 ms\n",
      "2020-04-17 23:44:34 - Transformer_no_pretrain - INFO: - decode batch cost time : 0.023652642965316772 ms\n",
      "I0417 23:44:34.620639 139696977332032 <ipython-input-11-3340543714f4>:36] decode batch cost time : 0.023652642965316772 ms\n"
     ]
    },
    {
     "name": "stdout",
     "output_type": "stream",
     "text": [
      "predicted_words [[24, 393], [24, 393], [1024, 181], [122, 846], [461, 4], [108, 449], [9, 4], [7, 181]]\n",
      "---------------------------\n",
      "predicted_words [[149, 449], [4, 393], [122, 461], [122, 846], [461, 4], [108, 449], [9, 4], [7, 181]]\n",
      "---------------------------\n"
     ]
    },
    {
     "name": "stderr",
     "output_type": "stream",
     "text": [
      "2020-04-17 23:44:34 - Transformer_no_pretrain - INFO: - decode batch cost time : 0.02527254819869995 ms\n",
      "I0417 23:44:34.831651 139696977332032 <ipython-input-11-3340543714f4>:36] decode batch cost time : 0.02527254819869995 ms\n"
     ]
    },
    {
     "name": "stdout",
     "output_type": "stream",
     "text": [
      "predicted_words [[24, 393], [4, 393], [24, 393], [449, 181], [461, 4], [108, 449], [99, 4], [7, 181]]\n",
      "---------------------------\n"
     ]
    },
    {
     "name": "stderr",
     "output_type": "stream",
     "text": [
      "2020-04-17 23:44:35 - Transformer_no_pretrain - INFO: - decode batch cost time : 0.025666475296020508 ms\n",
      "I0417 23:44:35.046610 139696977332032 <ipython-input-11-3340543714f4>:36] decode batch cost time : 0.025666475296020508 ms\n"
     ]
    },
    {
     "name": "stdout",
     "output_type": "stream",
     "text": [
      "predicted_words [[149, 449], [4, 393], [1024, 181], [122, 846], [461, 4], [108, 449], [99, 4], [7, 181]]\n",
      "---------------------------\n"
     ]
    },
    {
     "name": "stderr",
     "output_type": "stream",
     "text": [
      "2020-04-17 23:44:35 - Transformer_no_pretrain - INFO: - decode batch cost time : 0.025379806756973267 ms\n",
      "I0417 23:44:35.264760 139696977332032 <ipython-input-11-3340543714f4>:36] decode batch cost time : 0.025379806756973267 ms\n"
     ]
    },
    {
     "name": "stdout",
     "output_type": "stream",
     "text": [
      "predicted_words [[149, 449], [449, 181], [122, 461], [122, 846], [461, 4], [108, 449], [9, 4], [7, 181]]\n",
      "---------------------------\n"
     ]
    },
    {
     "name": "stderr",
     "output_type": "stream",
     "text": [
      "2020-04-17 23:44:35 - Transformer_no_pretrain - INFO: - decode batch cost time : 0.024027317762374878 ms\n",
      "I0417 23:44:35.466155 139696977332032 <ipython-input-11-3340543714f4>:36] decode batch cost time : 0.024027317762374878 ms\n",
      "2020-04-17 23:44:35 - Transformer_no_pretrain - INFO: - decode batch cost time : 0.02353188395500183 ms\n",
      "I0417 23:44:35.663896 139696977332032 <ipython-input-11-3340543714f4>:36] decode batch cost time : 0.02353188395500183 ms\n"
     ]
    },
    {
     "name": "stdout",
     "output_type": "stream",
     "text": [
      "predicted_words [[24, 393], [4, 393], [1024, 181], [449, 181], [461, 4], [231, 9], [99, 4], [7, 181]]\n",
      "---------------------------\n",
      "predicted_words [[149, 449], [1024, 181], [122, 461], [122, 846], [461, 4], [108, 449], [9, 4], [7, 181]]\n",
      "---------------------------\n"
     ]
    },
    {
     "name": "stderr",
     "output_type": "stream",
     "text": [
      "2020-04-17 23:44:35 - Transformer_no_pretrain - INFO: - decode batch cost time : 0.02406933903694153 ms\n",
      "I0417 23:44:35.865520 139696977332032 <ipython-input-11-3340543714f4>:36] decode batch cost time : 0.02406933903694153 ms\n",
      "2020-04-17 23:44:36 - Transformer_no_pretrain - INFO: - decode batch cost time : 0.023714929819107056 ms\n",
      "I0417 23:44:36.064321 139696977332032 <ipython-input-11-3340543714f4>:36] decode batch cost time : 0.023714929819107056 ms\n"
     ]
    },
    {
     "name": "stdout",
     "output_type": "stream",
     "text": [
      "predicted_words [[149, 449], [449, 181], [1024, 181], [449, 181], [461, 4], [108, 449], [9, 4], [449, 181]]\n",
      "---------------------------\n",
      "predicted_words [[149, 449], [449, 181], [122, 461], [122, 846], [461, 4], [108, 449], [9, 4], [7, 181]]\n",
      "---------------------------\n"
     ]
    },
    {
     "name": "stderr",
     "output_type": "stream",
     "text": [
      "2020-04-17 23:44:36 - Transformer_no_pretrain - INFO: - decode batch cost time : 0.02466621994972229 ms\n",
      "I0417 23:44:36.271081 139696977332032 <ipython-input-11-3340543714f4>:36] decode batch cost time : 0.02466621994972229 ms\n"
     ]
    },
    {
     "name": "stdout",
     "output_type": "stream",
     "text": [
      "predicted_words [[149, 449], [449, 181], [122, 461], [122, 846], [461, 4], [108, 449], [9, 4], [7, 181]]\n",
      "---------------------------\n"
     ]
    },
    {
     "name": "stderr",
     "output_type": "stream",
     "text": [
      "2020-04-17 23:44:36 - Transformer_no_pretrain - INFO: - decode batch cost time : 0.02585059404373169 ms\n",
      "I0417 23:44:36.486838 139696977332032 <ipython-input-11-3340543714f4>:36] decode batch cost time : 0.02585059404373169 ms\n",
      "2020-04-17 23:44:36 - Transformer_no_pretrain - INFO: - decode batch cost time : 0.0235385000705719 ms\n",
      "I0417 23:44:36.684507 139696977332032 <ipython-input-11-3340543714f4>:36] decode batch cost time : 0.0235385000705719 ms\n"
     ]
    },
    {
     "name": "stdout",
     "output_type": "stream",
     "text": [
      "predicted_words [[149, 449], [449, 181], [122, 461], [122, 846], [461, 4], [108, 449], [9, 4], [7, 181]]\n",
      "---------------------------\n",
      "predicted_words [[24, 393], [1024, 181], [24, 393], [122, 846], [7, 4], [108, 449], [9, 4], [7, 181]]\n",
      "---------------------------\n"
     ]
    },
    {
     "name": "stderr",
     "output_type": "stream",
     "text": [
      "2020-04-17 23:44:36 - Transformer_no_pretrain - INFO: - decode batch cost time : 0.025731325149536133 ms\n",
      "I0417 23:44:36.900326 139696977332032 <ipython-input-11-3340543714f4>:36] decode batch cost time : 0.025731325149536133 ms\n"
     ]
    },
    {
     "name": "stdout",
     "output_type": "stream",
     "text": [
      "predicted_words [[149, 449], [4, 393], [122, 461], [122, 846], [461, 4], [108, 449], [9, 4], [7, 181]]\n",
      "---------------------------\n"
     ]
    },
    {
     "name": "stderr",
     "output_type": "stream",
     "text": [
      "2020-04-17 23:44:37 - Transformer_no_pretrain - INFO: - decode batch cost time : 0.02472248673439026 ms\n",
      "I0417 23:44:37.106628 139696977332032 <ipython-input-11-3340543714f4>:36] decode batch cost time : 0.02472248673439026 ms\n"
     ]
    },
    {
     "name": "stdout",
     "output_type": "stream",
     "text": [
      "predicted_words [[149, 449], [449, 181], [122, 461], [122, 846], [461, 4], [108, 449], [9, 4], [7, 181]]\n",
      "---------------------------\n"
     ]
    },
    {
     "name": "stderr",
     "output_type": "stream",
     "text": [
      "2020-04-17 23:44:37 - Transformer_no_pretrain - INFO: - decode batch cost time : 0.024205297231674194 ms\n",
      "I0417 23:44:37.309642 139696977332032 <ipython-input-11-3340543714f4>:36] decode batch cost time : 0.024205297231674194 ms\n"
     ]
    },
    {
     "name": "stdout",
     "output_type": "stream",
     "text": [
      "predicted_words [[149, 449], [1024, 181], [122, 461], [122, 846], [461, 4], [108, 449], [9, 4], [7, 181]]\n",
      "---------------------------\n",
      "predicted_words "
     ]
    },
    {
     "name": "stderr",
     "output_type": "stream",
     "text": [
      "2020-04-17 23:44:37 - Transformer_no_pretrain - INFO: - decode batch cost time : 0.02393236756324768 ms\n",
      "I0417 23:44:37.510389 139696977332032 <ipython-input-11-3340543714f4>:36] decode batch cost time : 0.02393236756324768 ms\n",
      "2020-04-17 23:44:37 - Transformer_no_pretrain - INFO: - decode batch cost time : 0.02359163761138916 ms\n",
      "I0417 23:44:37.708160 139696977332032 <ipython-input-11-3340543714f4>:36] decode batch cost time : 0.02359163761138916 ms\n"
     ]
    },
    {
     "name": "stdout",
     "output_type": "stream",
     "text": [
      "[[24, 393], [1024, 181], [122, 461], [122, 846], [7, 4], [108, 449], [9, 4], [7, 181]]\n",
      "---------------------------\n",
      "predicted_words [[24, 393], [1024, 181], [1024, 181], [449, 181], [461, 4], [108, 449], [9, 4], [7, 181]]\n",
      "---------------------------\n"
     ]
    },
    {
     "name": "stderr",
     "output_type": "stream",
     "text": [
      "2020-04-17 23:44:37 - Transformer_no_pretrain - INFO: - decode batch cost time : 0.026029884815216064 ms\n",
      "I0417 23:44:37.925028 139696977332032 <ipython-input-11-3340543714f4>:36] decode batch cost time : 0.026029884815216064 ms\n"
     ]
    },
    {
     "name": "stdout",
     "output_type": "stream",
     "text": [
      "predicted_words [[24, 393], [4, 393], [1024, 181], [122, 846], [461, 4], [108, 449], [99, 4], [7, 181]]\n",
      "---------------------------\n"
     ]
    },
    {
     "name": "stderr",
     "output_type": "stream",
     "text": [
      "2020-04-17 23:44:38 - Transformer_no_pretrain - INFO: - decode batch cost time : 0.02498689293861389 ms\n",
      "I0417 23:44:38.139352 139696977332032 <ipython-input-11-3340543714f4>:36] decode batch cost time : 0.02498689293861389 ms\n"
     ]
    },
    {
     "name": "stdout",
     "output_type": "stream",
     "text": [
      "predicted_words [[149, 449], [4, 393], [1024, 181], [122, 846], [461, 4], [108, 449], [99, 4], [7, 181]]\n",
      "---------------------------\n"
     ]
    },
    {
     "name": "stderr",
     "output_type": "stream",
     "text": [
      "2020-04-17 23:44:38 - Transformer_no_pretrain - INFO: - decode batch cost time : 0.02478158473968506 ms\n",
      "I0417 23:44:38.347631 139696977332032 <ipython-input-11-3340543714f4>:36] decode batch cost time : 0.02478158473968506 ms\n"
     ]
    },
    {
     "name": "stdout",
     "output_type": "stream",
     "text": [
      "predicted_words [[149, 449], [1024, 181], [122, 461], [122, 846], [461, 4], [108, 449], [99, 4], [7, 181]]\n",
      "---------------------------\n"
     ]
    },
    {
     "name": "stderr",
     "output_type": "stream",
     "text": [
      "2020-04-17 23:44:38 - Transformer_no_pretrain - INFO: - decode batch cost time : 0.02426496148109436 ms\n",
      "I0417 23:44:38.550553 139696977332032 <ipython-input-11-3340543714f4>:36] decode batch cost time : 0.02426496148109436 ms\n"
     ]
    },
    {
     "name": "stdout",
     "output_type": "stream",
     "text": [
      "predicted_words [[149, 449], [4, 393], [122, 461], [122, 846], [461, 4], [108, 449], [99, 4], [7, 181]]\n",
      "---------------------------\n"
     ]
    },
    {
     "name": "stderr",
     "output_type": "stream",
     "text": [
      "2020-04-17 23:44:38 - Transformer_no_pretrain - INFO: - decode batch cost time : 0.024438947439193726 ms\n",
      "I0417 23:44:38.755286 139696977332032 <ipython-input-11-3340543714f4>:36] decode batch cost time : 0.024438947439193726 ms\n"
     ]
    },
    {
     "name": "stdout",
     "output_type": "stream",
     "text": [
      "predicted_words [[24, 393], [4, 393], [1024, 181], [122, 846], [461, 4], [108, 449], [99, 4], [7, 181]]\n",
      "---------------------------\n"
     ]
    },
    {
     "name": "stderr",
     "output_type": "stream",
     "text": [
      "2020-04-17 23:44:38 - Transformer_no_pretrain - INFO: - decode batch cost time : 0.026427119970321655 ms\n",
      "I0417 23:44:38.986927 139696977332032 <ipython-input-11-3340543714f4>:36] decode batch cost time : 0.026427119970321655 ms\n"
     ]
    },
    {
     "name": "stdout",
     "output_type": "stream",
     "text": [
      "predicted_words [[149, 449], [1024, 181], [122, 461], [122, 846], [461, 4], [108, 449], [9, 4], [7, 181]]\n",
      "---------------------------\n"
     ]
    },
    {
     "name": "stderr",
     "output_type": "stream",
     "text": [
      "2020-04-17 23:44:39 - Transformer_no_pretrain - INFO: - decode batch cost time : 0.026148736476898193 ms\n",
      "I0417 23:44:39.206338 139696977332032 <ipython-input-11-3340543714f4>:36] decode batch cost time : 0.026148736476898193 ms\n"
     ]
    },
    {
     "name": "stdout",
     "output_type": "stream",
     "text": [
      "predicted_words [[24, 393], [24, 393], [122, 461], [122, 846], [461, 4], [108, 449], [9, 4], [7, 181]]\n",
      "---------------------------\n"
     ]
    },
    {
     "name": "stderr",
     "output_type": "stream",
     "text": [
      "2020-04-17 23:44:39 - Transformer_no_pretrain - INFO: - decode batch cost time : 0.02436649799346924 ms\n",
      "I0417 23:44:39.421151 139696977332032 <ipython-input-11-3340543714f4>:36] decode batch cost time : 0.02436649799346924 ms\n"
     ]
    },
    {
     "name": "stdout",
     "output_type": "stream",
     "text": [
      "predicted_words [[149, 449], [449, 181], [122, 461], [122, 846], [461, 4], [108, 449], [9, 4], [7, 181]]\n",
      "---------------------------\n"
     ]
    },
    {
     "name": "stderr",
     "output_type": "stream",
     "text": [
      "2020-04-17 23:44:39 - Transformer_no_pretrain - INFO: - decode batch cost time : 0.026674747467041016 ms\n",
      "I0417 23:44:39.657816 139696977332032 <ipython-input-11-3340543714f4>:36] decode batch cost time : 0.026674747467041016 ms\n"
     ]
    },
    {
     "name": "stdout",
     "output_type": "stream",
     "text": [
      "predicted_words [[24, 393], [4, 393], [1024, 181], [122, 846], [461, 4], [108, 449], [99, 4], [7, 181]]\n",
      "---------------------------\n"
     ]
    },
    {
     "name": "stderr",
     "output_type": "stream",
     "text": [
      "2020-04-17 23:44:39 - Transformer_no_pretrain - INFO: - decode batch cost time : 0.02647450566291809 ms\n",
      "I0417 23:44:39.897334 139696977332032 <ipython-input-11-3340543714f4>:36] decode batch cost time : 0.02647450566291809 ms\n"
     ]
    },
    {
     "name": "stdout",
     "output_type": "stream",
     "text": [
      "predicted_words [[149, 449], [1024, 181], [122, 461], [122, 846], [461, 4], [108, 449], [9, 4], [7, 181]]\n",
      "---------------------------\n"
     ]
    },
    {
     "name": "stderr",
     "output_type": "stream",
     "text": [
      "2020-04-17 23:44:40 - Transformer_no_pretrain - INFO: - decode batch cost time : 0.0251026451587677 ms\n",
      "I0417 23:44:40.107677 139696977332032 <ipython-input-11-3340543714f4>:36] decode batch cost time : 0.0251026451587677 ms\n"
     ]
    },
    {
     "name": "stdout",
     "output_type": "stream",
     "text": [
      "predicted_words [[24, 393], [4, 393], [1024, 181], [122, 846], [461, 4], [108, 449], [99, 4], [7, 181]]\n",
      "---------------------------\n"
     ]
    },
    {
     "name": "stderr",
     "output_type": "stream",
     "text": [
      "2020-04-17 23:44:40 - Transformer_no_pretrain - INFO: - decode batch cost time : 0.02463546395301819 ms\n",
      "I0417 23:44:40.316789 139696977332032 <ipython-input-11-3340543714f4>:36] decode batch cost time : 0.02463546395301819 ms\n"
     ]
    },
    {
     "name": "stdout",
     "output_type": "stream",
     "text": [
      "predicted_words [[24, 393], [4, 393], [24, 393], [449, 181], [461, 4], [108, 449], [99, 4], [7, 181]]\n",
      "---------------------------\n"
     ]
    },
    {
     "name": "stderr",
     "output_type": "stream",
     "text": [
      "2020-04-17 23:44:40 - Transformer_no_pretrain - INFO: - decode batch cost time : 0.024517327547073364 ms\n",
      "I0417 23:44:40.522693 139696977332032 <ipython-input-11-3340543714f4>:36] decode batch cost time : 0.024517327547073364 ms\n"
     ]
    },
    {
     "name": "stdout",
     "output_type": "stream",
     "text": [
      "predicted_words [[149, 449], [4, 393], [1024, 181], [122, 846], [461, 4], [108, 449], [99, 4], [7, 181]]\n",
      "---------------------------\n"
     ]
    },
    {
     "name": "stderr",
     "output_type": "stream",
     "text": [
      "2020-04-17 23:44:40 - Transformer_no_pretrain - INFO: - decode batch cost time : 0.024680227041244507 ms\n",
      "I0417 23:44:40.731858 139696977332032 <ipython-input-11-3340543714f4>:36] decode batch cost time : 0.024680227041244507 ms\n"
     ]
    },
    {
     "name": "stdout",
     "output_type": "stream",
     "text": [
      "predicted_words [[24, 393], [24, 393], [122, 461], [122, 846], [461, 4], [108, 449], [9, 4], [449, 181]]\n",
      "---------------------------\n"
     ]
    },
    {
     "name": "stderr",
     "output_type": "stream",
     "text": [
      "2020-04-17 23:44:40 - Transformer_no_pretrain - INFO: - decode batch cost time : 0.025526702404022217 ms\n",
      "I0417 23:44:40.959391 139696977332032 <ipython-input-11-3340543714f4>:36] decode batch cost time : 0.025526702404022217 ms\n"
     ]
    },
    {
     "name": "stdout",
     "output_type": "stream",
     "text": [
      "predicted_words [[149, 449], [4, 393], [122, 461], [122, 846], [461, 4], [108, 449], [9, 4], [7, 181]]\n",
      "---------------------------\n"
     ]
    },
    {
     "name": "stderr",
     "output_type": "stream",
     "text": [
      "2020-04-17 23:44:41 - Transformer_no_pretrain - INFO: - decode batch cost time : 0.027686506509780884 ms\n",
      "I0417 23:44:41.196224 139696977332032 <ipython-input-11-3340543714f4>:36] decode batch cost time : 0.027686506509780884 ms\n"
     ]
    },
    {
     "name": "stdout",
     "output_type": "stream",
     "text": [
      "predicted_words [[149, 449], [4, 393], [122, 461], [122, 846], [461, 4], [108, 449], [9, 4], [7, 181]]\n",
      "---------------------------\n"
     ]
    },
    {
     "name": "stderr",
     "output_type": "stream",
     "text": [
      "2020-04-17 23:44:41 - Transformer_no_pretrain - INFO: - decode batch cost time : 0.02619999647140503 ms\n",
      "I0417 23:44:41.415593 139696977332032 <ipython-input-11-3340543714f4>:36] decode batch cost time : 0.02619999647140503 ms\n"
     ]
    },
    {
     "name": "stdout",
     "output_type": "stream",
     "text": [
      "predicted_words [[149, 449], [1024, 181], [122, 461], [122, 846], [461, 4], [108, 449], [9, 4], [7, 181]]\n",
      "---------------------------\n"
     ]
    },
    {
     "name": "stderr",
     "output_type": "stream",
     "text": [
      "2020-04-17 23:44:41 - Transformer_no_pretrain - INFO: - decode batch cost time : 0.02514415979385376 ms\n",
      "I0417 23:44:41.632072 139696977332032 <ipython-input-11-3340543714f4>:36] decode batch cost time : 0.02514415979385376 ms\n"
     ]
    },
    {
     "name": "stdout",
     "output_type": "stream",
     "text": [
      "predicted_words [[149, 449], [4, 393], [122, 461], [122, 846], [461, 4], [108, 449], [9, 4], [7, 181]]\n",
      "---------------------------\n"
     ]
    },
    {
     "name": "stderr",
     "output_type": "stream",
     "text": [
      "2020-04-17 23:44:41 - Transformer_no_pretrain - INFO: - decode batch cost time : 0.024427831172943115 ms\n",
      "I0417 23:44:41.841532 139696977332032 <ipython-input-11-3340543714f4>:36] decode batch cost time : 0.024427831172943115 ms\n"
     ]
    },
    {
     "name": "stdout",
     "output_type": "stream",
     "text": [
      "predicted_words [[24, 393], [4, 393], [122, 461], [122, 846], [461, 4], [108, 449], [99, 4], [7, 181]]\n",
      "---------------------------\n"
     ]
    },
    {
     "name": "stderr",
     "output_type": "stream",
     "text": [
      "2020-04-17 23:44:42 - Transformer_no_pretrain - INFO: - decode batch cost time : 0.02499973773956299 ms\n",
      "I0417 23:44:42.051539 139696977332032 <ipython-input-11-3340543714f4>:36] decode batch cost time : 0.02499973773956299 ms\n"
     ]
    },
    {
     "name": "stdout",
     "output_type": "stream",
     "text": [
      "predicted_words [[24, 393], [4, 393], [1024, 181], [122, 846], [461, 4], [108, 449], [99, 4], [7, 181]]\n",
      "---------------------------\n"
     ]
    },
    {
     "name": "stderr",
     "output_type": "stream",
     "text": [
      "2020-04-17 23:44:42 - Transformer_no_pretrain - INFO: - decode batch cost time : 0.0247897207736969 ms\n",
      "I0417 23:44:42.259740 139696977332032 <ipython-input-11-3340543714f4>:36] decode batch cost time : 0.0247897207736969 ms\n"
     ]
    },
    {
     "name": "stdout",
     "output_type": "stream",
     "text": [
      "predicted_words [[149, 449], [4, 393], [122, 461], [122, 846], [461, 4], [108, 449], [99, 4], [7, 181]]\n",
      "---------------------------\n"
     ]
    },
    {
     "name": "stderr",
     "output_type": "stream",
     "text": [
      "2020-04-17 23:44:42 - Transformer_no_pretrain - INFO: - decode batch cost time : 0.02436244487762451 ms\n",
      "I0417 23:44:42.464081 139696977332032 <ipython-input-11-3340543714f4>:36] decode batch cost time : 0.02436244487762451 ms\n"
     ]
    },
    {
     "name": "stdout",
     "output_type": "stream",
     "text": [
      "predicted_words [[24, 393], [4, 393], [1024, 181], [122, 846], [461, 4], [108, 449], [99, 4], [7, 181]]\n",
      "---------------------------\n"
     ]
    },
    {
     "name": "stderr",
     "output_type": "stream",
     "text": [
      "2020-04-17 23:44:42 - Transformer_no_pretrain - INFO: - decode batch cost time : 0.024738699197769165 ms\n",
      "I0417 23:44:42.683196 139696977332032 <ipython-input-11-3340543714f4>:36] decode batch cost time : 0.024738699197769165 ms\n"
     ]
    },
    {
     "name": "stdout",
     "output_type": "stream",
     "text": [
      "predicted_words [[24, 393], [4, 393], [24, 393], [449, 181], [461, 4], [108, 449], [99, 4], [7, 181]]\n",
      "---------------------------\n",
      "predicted_words "
     ]
    },
    {
     "name": "stderr",
     "output_type": "stream",
     "text": [
      "2020-04-17 23:44:42 - Transformer_no_pretrain - INFO: - decode batch cost time : 0.02393120527267456 ms\n",
      "I0417 23:44:42.884282 139696977332032 <ipython-input-11-3340543714f4>:36] decode batch cost time : 0.02393120527267456 ms\n",
      "2020-04-17 23:44:43 - Transformer_no_pretrain - INFO: - decode batch cost time : 0.024094820022583008 ms\n",
      "I0417 23:44:43.086176 139696977332032 <ipython-input-11-3340543714f4>:36] decode batch cost time : 0.024094820022583008 ms\n"
     ]
    },
    {
     "name": "stdout",
     "output_type": "stream",
     "text": [
      "[[149, 449], [449, 181], [122, 461], [122, 846], [461, 4], [108, 449], [9, 4], [7, 181]]\n",
      "---------------------------\n",
      "predicted_words [[149, 449], [4, 393], [122, 461], [122, 846], [461, 4], [108, 449], [99, 4], [7, 181]]\n",
      "---------------------------\n"
     ]
    },
    {
     "name": "stderr",
     "output_type": "stream",
     "text": [
      "2020-04-17 23:44:43 - Transformer_no_pretrain - INFO: - decode batch cost time : 0.024017900228500366 ms\n",
      "I0417 23:44:43.287102 139696977332032 <ipython-input-11-3340543714f4>:36] decode batch cost time : 0.024017900228500366 ms\n"
     ]
    },
    {
     "name": "stdout",
     "output_type": "stream",
     "text": [
      "predicted_words [[24, 393], [1024, 181], [24, 393], [122, 846], [461, 4], [108, 449], [9, 4], [7, 181]]\n",
      "---------------------------\n"
     ]
    },
    {
     "name": "stderr",
     "output_type": "stream",
     "text": [
      "2020-04-17 23:44:43 - Transformer_no_pretrain - INFO: - decode batch cost time : 0.024304836988449097 ms\n",
      "I0417 23:44:43.490755 139696977332032 <ipython-input-11-3340543714f4>:36] decode batch cost time : 0.024304836988449097 ms\n"
     ]
    },
    {
     "name": "stdout",
     "output_type": "stream",
     "text": [
      "predicted_words [[24, 393], [1024, 181], [1024, 181], [449, 181], [461, 4], [108, 449], [99, 4], [7, 181]]\n",
      "---------------------------\n"
     ]
    },
    {
     "name": "stderr",
     "output_type": "stream",
     "text": [
      "2020-04-17 23:44:43 - Transformer_no_pretrain - INFO: - decode batch cost time : 0.024194777011871338 ms\n",
      "I0417 23:44:43.693210 139696977332032 <ipython-input-11-3340543714f4>:36] decode batch cost time : 0.024194777011871338 ms\n"
     ]
    },
    {
     "name": "stdout",
     "output_type": "stream",
     "text": [
      "predicted_words [[24, 393], [4, 393], [1024, 181], [122, 846], [461, 4], [108, 449], [99, 4], [7, 181]]\n",
      "---------------------------\n"
     ]
    },
    {
     "name": "stderr",
     "output_type": "stream",
     "text": [
      "2020-04-17 23:44:43 - Transformer_no_pretrain - INFO: - decode batch cost time : 0.02749115228652954 ms\n",
      "I0417 23:44:43.928097 139696977332032 <ipython-input-11-3340543714f4>:36] decode batch cost time : 0.02749115228652954 ms\n"
     ]
    },
    {
     "name": "stdout",
     "output_type": "stream",
     "text": [
      "predicted_words [[149, 449], [449, 181], [122, 461], [122, 846], [461, 4], [108, 449], [9, 4], [7, 181]]\n",
      "---------------------------\n"
     ]
    },
    {
     "name": "stderr",
     "output_type": "stream",
     "text": [
      "2020-04-17 23:44:44 - Transformer_no_pretrain - INFO: - decode batch cost time : 0.025025665760040283 ms\n",
      "I0417 23:44:44.149299 139696977332032 <ipython-input-11-3340543714f4>:36] decode batch cost time : 0.025025665760040283 ms\n"
     ]
    },
    {
     "name": "stdout",
     "output_type": "stream",
     "text": [
      "predicted_words [[149, 449], [1024, 181], [122, 461], [122, 846], [461, 4], [108, 449], [9, 4], [7, 181]]\n",
      "---------------------------\n"
     ]
    },
    {
     "name": "stderr",
     "output_type": "stream",
     "text": [
      "2020-04-17 23:44:44 - Transformer_no_pretrain - INFO: - decode batch cost time : 0.026267439126968384 ms\n",
      "I0417 23:44:44.369431 139696977332032 <ipython-input-11-3340543714f4>:36] decode batch cost time : 0.026267439126968384 ms\n"
     ]
    },
    {
     "name": "stdout",
     "output_type": "stream",
     "text": [
      "predicted_words [[24, 393], [4, 393], [24, 393], [122, 846], [461, 4], [108, 449], [99, 4], [7, 181]]\n",
      "---------------------------\n"
     ]
    },
    {
     "name": "stderr",
     "output_type": "stream",
     "text": [
      "2020-04-17 23:44:44 - Transformer_no_pretrain - INFO: - decode batch cost time : 0.0262087881565094 ms\n",
      "I0417 23:44:44.589692 139696977332032 <ipython-input-11-3340543714f4>:36] decode batch cost time : 0.0262087881565094 ms\n"
     ]
    },
    {
     "name": "stdout",
     "output_type": "stream",
     "text": [
      "predicted_words [[24, 393], [4, 393], [1024, 181], [122, 846], [461, 4], [108, 449], [99, 4], [7, 181]]\n",
      "---------------------------\n"
     ]
    },
    {
     "name": "stderr",
     "output_type": "stream",
     "text": [
      "2020-04-17 23:44:44 - Transformer_no_pretrain - INFO: - decode batch cost time : 0.02681022882461548 ms\n",
      "I0417 23:44:44.813446 139696977332032 <ipython-input-11-3340543714f4>:36] decode batch cost time : 0.02681022882461548 ms\n"
     ]
    },
    {
     "name": "stdout",
     "output_type": "stream",
     "text": [
      "predicted_words [[149, 449], [449, 181], [122, 461], [122, 846], [461, 4], [108, 449], [9, 4], [7, 181]]\n",
      "---------------------------\n"
     ]
    },
    {
     "name": "stderr",
     "output_type": "stream",
     "text": [
      "2020-04-17 23:44:45 - Transformer_no_pretrain - INFO: - decode batch cost time : 0.02618694305419922 ms\n",
      "I0417 23:44:45.032898 139696977332032 <ipython-input-11-3340543714f4>:36] decode batch cost time : 0.02618694305419922 ms\n"
     ]
    },
    {
     "name": "stdout",
     "output_type": "stream",
     "text": [
      "predicted_words [[24, 393], [4, 393], [1024, 181], [122, 846], [461, 4], [108, 449], [99, 4], [7, 181]]\n",
      "---------------------------\n"
     ]
    },
    {
     "name": "stderr",
     "output_type": "stream",
     "text": [
      "2020-04-17 23:44:45 - Transformer_no_pretrain - INFO: - decode batch cost time : 0.027152568101882935 ms\n",
      "I0417 23:44:45.259056 139696977332032 <ipython-input-11-3340543714f4>:36] decode batch cost time : 0.027152568101882935 ms\n"
     ]
    },
    {
     "name": "stdout",
     "output_type": "stream",
     "text": [
      "predicted_words [[149, 449], [1024, 181], [122, 461], [122, 846], [461, 4], [231, 9], [9, 4], [449, 181]]\n",
      "---------------------------\n"
     ]
    },
    {
     "name": "stderr",
     "output_type": "stream",
     "text": [
      "2020-04-17 23:44:45 - Transformer_no_pretrain - INFO: - decode batch cost time : 0.02691897749900818 ms\n",
      "I0417 23:44:45.484204 139696977332032 <ipython-input-11-3340543714f4>:36] decode batch cost time : 0.02691897749900818 ms\n"
     ]
    },
    {
     "name": "stdout",
     "output_type": "stream",
     "text": [
      "predicted_words [[149, 449], [1024, 181], [122, 461], [122, 846], [461, 4], [108, 449], [9, 4], [7, 181]]\n",
      "---------------------------\n"
     ]
    },
    {
     "name": "stderr",
     "output_type": "stream",
     "text": [
      "2020-04-17 23:44:45 - Transformer_no_pretrain - INFO: - decode batch cost time : 0.02651152014732361 ms\n",
      "I0417 23:44:45.706178 139696977332032 <ipython-input-11-3340543714f4>:36] decode batch cost time : 0.02651152014732361 ms\n"
     ]
    },
    {
     "name": "stdout",
     "output_type": "stream",
     "text": [
      "predicted_words [[24, 393], [4, 393], [1024, 181], [122, 846], [461, 4], [108, 449], [99, 4], [7, 181]]\n",
      "---------------------------\n"
     ]
    },
    {
     "name": "stderr",
     "output_type": "stream",
     "text": [
      "2020-04-17 23:44:45 - Transformer_no_pretrain - INFO: - decode batch cost time : 0.026714205741882324 ms\n",
      "I0417 23:44:45.929178 139696977332032 <ipython-input-11-3340543714f4>:36] decode batch cost time : 0.026714205741882324 ms\n"
     ]
    },
    {
     "name": "stdout",
     "output_type": "stream",
     "text": [
      "predicted_words [[149, 449], [449, 181], [122, 461], [122, 846], [461, 4], [108, 449], [9, 4], [7, 181]]\n",
      "---------------------------\n"
     ]
    },
    {
     "name": "stderr",
     "output_type": "stream",
     "text": [
      "2020-04-17 23:44:46 - Transformer_no_pretrain - INFO: - decode batch cost time : 0.025550007820129395 ms\n",
      "I0417 23:44:46.144186 139696977332032 <ipython-input-11-3340543714f4>:36] decode batch cost time : 0.025550007820129395 ms\n"
     ]
    },
    {
     "name": "stdout",
     "output_type": "stream",
     "text": [
      "predicted_words [[24, 393], [4, 393], [1024, 181], [122, 846], [461, 4], [108, 449], [99, 4], [7, 181]]\n",
      "---------------------------\n"
     ]
    },
    {
     "name": "stderr",
     "output_type": "stream",
     "text": [
      "2020-04-17 23:44:46 - Transformer_no_pretrain - INFO: - decode batch cost time : 0.024824202060699463 ms\n",
      "I0417 23:44:46.359088 139696977332032 <ipython-input-11-3340543714f4>:36] decode batch cost time : 0.024824202060699463 ms\n"
     ]
    },
    {
     "name": "stdout",
     "output_type": "stream",
     "text": [
      "predicted_words [[24, 393], [4, 393], [1024, 181], [122, 846], [461, 4], [108, 449], [99, 4], [7, 181]]\n",
      "---------------------------\n"
     ]
    },
    {
     "name": "stderr",
     "output_type": "stream",
     "text": [
      "2020-04-17 23:44:46 - Transformer_no_pretrain - INFO: - decode batch cost time : 0.02486896514892578 ms\n",
      "I0417 23:44:46.567840 139696977332032 <ipython-input-11-3340543714f4>:36] decode batch cost time : 0.02486896514892578 ms\n"
     ]
    },
    {
     "name": "stdout",
     "output_type": "stream",
     "text": [
      "predicted_words [[149, 449], [1024, 181], [122, 461], [122, 846], [461, 4], [108, 449], [99, 4], [7, 181]]\n",
      "---------------------------\n"
     ]
    },
    {
     "name": "stderr",
     "output_type": "stream",
     "text": [
      "2020-04-17 23:44:46 - Transformer_no_pretrain - INFO: - decode batch cost time : 0.024948686361312866 ms\n",
      "I0417 23:44:46.776936 139696977332032 <ipython-input-11-3340543714f4>:36] decode batch cost time : 0.024948686361312866 ms\n"
     ]
    },
    {
     "name": "stdout",
     "output_type": "stream",
     "text": [
      "predicted_words [[149, 449], [4, 393], [1024, 181], [122, 846], [461, 4], [108, 449], [99, 4], [7, 181]]\n",
      "---------------------------\n"
     ]
    },
    {
     "name": "stderr",
     "output_type": "stream",
     "text": [
      "2020-04-17 23:44:46 - Transformer_no_pretrain - INFO: - decode batch cost time : 0.025210052728652954 ms\n",
      "I0417 23:44:46.988424 139696977332032 <ipython-input-11-3340543714f4>:36] decode batch cost time : 0.025210052728652954 ms\n"
     ]
    },
    {
     "name": "stdout",
     "output_type": "stream",
     "text": [
      "predicted_words [[24, 393], [24, 393], [122, 461], [449, 181], [461, 4], [108, 449], [9, 4], [7, 181]]\n",
      "---------------------------\n"
     ]
    },
    {
     "name": "stderr",
     "output_type": "stream",
     "text": [
      "2020-04-17 23:44:47 - Transformer_no_pretrain - INFO: - decode batch cost time : 0.025324255228042603 ms\n",
      "I0417 23:44:47.200979 139696977332032 <ipython-input-11-3340543714f4>:36] decode batch cost time : 0.025324255228042603 ms\n"
     ]
    },
    {
     "name": "stdout",
     "output_type": "stream",
     "text": [
      "predicted_words [[24, 393], [1024, 181], [1024, 181], [449, 181], [461, 4], [108, 449], [99, 4], [7, 181]]\n",
      "---------------------------\n"
     ]
    },
    {
     "name": "stderr",
     "output_type": "stream",
     "text": [
      "2020-04-17 23:44:47 - Transformer_no_pretrain - INFO: - decode batch cost time : 0.027376949787139893 ms\n",
      "I0417 23:44:47.430035 139696977332032 <ipython-input-11-3340543714f4>:36] decode batch cost time : 0.027376949787139893 ms\n"
     ]
    },
    {
     "name": "stdout",
     "output_type": "stream",
     "text": [
      "predicted_words [[24, 393], [4, 393], [24, 393], [449, 181], [461, 4], [99, 4], [122, 461], [108, 74]]\n",
      "---------------------------\n"
     ]
    },
    {
     "name": "stderr",
     "output_type": "stream",
     "text": [
      "2020-04-17 23:44:47 - Transformer_no_pretrain - INFO: - decode batch cost time : 0.027325600385665894 ms\n",
      "I0417 23:44:47.671783 139696977332032 <ipython-input-11-3340543714f4>:36] decode batch cost time : 0.027325600385665894 ms\n"
     ]
    },
    {
     "name": "stdout",
     "output_type": "stream",
     "text": [
      "predicted_words [[149, 449], [4, 393], [122, 461], [122, 846], [461, 4], [108, 449], [99, 4], [7, 181]]\n",
      "---------------------------\n"
     ]
    },
    {
     "name": "stderr",
     "output_type": "stream",
     "text": [
      "2020-04-17 23:44:47 - Transformer_no_pretrain - INFO: - decode batch cost time : 0.02841523289680481 ms\n",
      "I0417 23:44:47.909766 139696977332032 <ipython-input-11-3340543714f4>:36] decode batch cost time : 0.02841523289680481 ms\n"
     ]
    },
    {
     "name": "stdout",
     "output_type": "stream",
     "text": [
      "predicted_words [[24, 393], [4, 393], [1024, 181], [122, 846], [461, 4], [108, 449], [99, 4], [7, 181]]\n",
      "---------------------------\n"
     ]
    },
    {
     "name": "stderr",
     "output_type": "stream",
     "text": [
      "2020-04-17 23:44:48 - Transformer_no_pretrain - INFO: - decode batch cost time : 0.02847468852996826 ms\n",
      "I0417 23:44:48.147310 139696977332032 <ipython-input-11-3340543714f4>:36] decode batch cost time : 0.02847468852996826 ms\n"
     ]
    },
    {
     "name": "stdout",
     "output_type": "stream",
     "text": [
      "predicted_words [[149, 449], [1024, 181], [122, 461], [122, 846], [461, 4], [108, 449], [99, 4], [7, 181]]\n",
      "---------------------------\n"
     ]
    },
    {
     "name": "stderr",
     "output_type": "stream",
     "text": [
      "2020-04-17 23:44:48 - Transformer_no_pretrain - INFO: - decode batch cost time : 0.028841018676757812 ms\n",
      "I0417 23:44:48.394201 139696977332032 <ipython-input-11-3340543714f4>:36] decode batch cost time : 0.028841018676757812 ms\n"
     ]
    },
    {
     "name": "stdout",
     "output_type": "stream",
     "text": [
      "predicted_words [[24, 393], [4, 393], [122, 461], [122, 846], [461, 4], [108, 449], [99, 4], [7, 181]]\n",
      "---------------------------\n"
     ]
    },
    {
     "name": "stderr",
     "output_type": "stream",
     "text": [
      "2020-04-17 23:44:48 - Transformer_no_pretrain - INFO: - decode batch cost time : 0.026477932929992676 ms\n",
      "I0417 23:44:48.616662 139696977332032 <ipython-input-11-3340543714f4>:36] decode batch cost time : 0.026477932929992676 ms\n"
     ]
    },
    {
     "name": "stdout",
     "output_type": "stream",
     "text": [
      "predicted_words [[24, 393], [4, 393], [24, 393], [449, 181], [461, 4], [108, 449], [99, 4], [7, 181]]\n",
      "---------------------------\n"
     ]
    },
    {
     "name": "stderr",
     "output_type": "stream",
     "text": [
      "2020-04-17 23:44:48 - Transformer_no_pretrain - INFO: - decode batch cost time : 0.027085214853286743 ms\n",
      "I0417 23:44:48.843915 139696977332032 <ipython-input-11-3340543714f4>:36] decode batch cost time : 0.027085214853286743 ms\n"
     ]
    },
    {
     "name": "stdout",
     "output_type": "stream",
     "text": [
      "predicted_words [[24, 393], [1024, 181], [24, 393], [449, 181], [461, 4], [108, 449], [99, 4], [7, 181]]\n",
      "---------------------------\n"
     ]
    },
    {
     "name": "stderr",
     "output_type": "stream",
     "text": [
      "2020-04-17 23:44:49 - Transformer_no_pretrain - INFO: - decode batch cost time : 0.030190229415893555 ms\n",
      "I0417 23:44:49.097755 139696977332032 <ipython-input-11-3340543714f4>:36] decode batch cost time : 0.030190229415893555 ms\n"
     ]
    },
    {
     "name": "stdout",
     "output_type": "stream",
     "text": [
      "predicted_words [[149, 449], [4, 393], [122, 461], [122, 846], [461, 4], [108, 449], [99, 4], [7, 181]]\n",
      "---------------------------\n"
     ]
    },
    {
     "name": "stderr",
     "output_type": "stream",
     "text": [
      "2020-04-17 23:44:49 - Transformer_no_pretrain - INFO: - decode batch cost time : 0.02878701686859131 ms\n",
      "I0417 23:44:49.339010 139696977332032 <ipython-input-11-3340543714f4>:36] decode batch cost time : 0.02878701686859131 ms\n"
     ]
    },
    {
     "name": "stdout",
     "output_type": "stream",
     "text": [
      "predicted_words [[149, 449], [1024, 181], [122, 461], [122, 846], [461, 4], [108, 449], [9, 4], [7, 181]]\n",
      "---------------------------\n"
     ]
    },
    {
     "name": "stderr",
     "output_type": "stream",
     "text": [
      "2020-04-17 23:44:49 - Transformer_no_pretrain - INFO: - decode batch cost time : 0.028746962547302246 ms\n",
      "I0417 23:44:49.578951 139696977332032 <ipython-input-11-3340543714f4>:36] decode batch cost time : 0.028746962547302246 ms\n"
     ]
    },
    {
     "name": "stdout",
     "output_type": "stream",
     "text": [
      "predicted_words [[149, 449], [4, 393], [122, 461], [122, 846], [461, 4], [108, 449], [99, 4], [7, 181]]\n",
      "---------------------------\n"
     ]
    },
    {
     "name": "stderr",
     "output_type": "stream",
     "text": [
      "2020-04-17 23:44:49 - Transformer_no_pretrain - INFO: - decode batch cost time : 0.028575152158737183 ms\n",
      "I0417 23:44:49.818169 139696977332032 <ipython-input-11-3340543714f4>:36] decode batch cost time : 0.028575152158737183 ms\n"
     ]
    },
    {
     "name": "stdout",
     "output_type": "stream",
     "text": [
      "predicted_words [[149, 449], [4, 393], [1024, 181], [122, 846], [461, 4], [108, 449], [99, 4], [7, 181]]\n",
      "---------------------------\n"
     ]
    },
    {
     "name": "stderr",
     "output_type": "stream",
     "text": [
      "2020-04-17 23:44:50 - Transformer_no_pretrain - INFO: - decode batch cost time : 0.028902560472488403 ms\n",
      "I0417 23:44:50.060816 139696977332032 <ipython-input-11-3340543714f4>:36] decode batch cost time : 0.028902560472488403 ms\n"
     ]
    },
    {
     "name": "stdout",
     "output_type": "stream",
     "text": [
      "predicted_words [[149, 449], [1024, 181], [1024, 181], [122, 846], [461, 4], [108, 449], [99, 4], [7, 181]]\n",
      "---------------------------\n"
     ]
    },
    {
     "name": "stderr",
     "output_type": "stream",
     "text": [
      "2020-04-17 23:44:50 - Transformer_no_pretrain - INFO: - decode batch cost time : 0.02762201428413391 ms\n",
      "I0417 23:44:50.301253 139696977332032 <ipython-input-11-3340543714f4>:36] decode batch cost time : 0.02762201428413391 ms\n"
     ]
    },
    {
     "name": "stdout",
     "output_type": "stream",
     "text": [
      "predicted_words [[149, 449], [4, 393], [24, 393], [449, 181], [181, 59], [108, 449], [99, 4], [122, 846]]\n",
      "---------------------------\n"
     ]
    },
    {
     "name": "stderr",
     "output_type": "stream",
     "text": [
      "2020-04-17 23:44:50 - Transformer_no_pretrain - INFO: - decode batch cost time : 0.029106199741363525 ms\n",
      "I0417 23:44:50.544631 139696977332032 <ipython-input-11-3340543714f4>:36] decode batch cost time : 0.029106199741363525 ms\n"
     ]
    },
    {
     "name": "stdout",
     "output_type": "stream",
     "text": [
      "predicted_words [[149, 449], [4, 393], [1024, 181], [122, 846], [461, 4], [108, 449], [99, 4], [7, 181]]\n",
      "---------------------------\n"
     ]
    },
    {
     "name": "stderr",
     "output_type": "stream",
     "text": [
      "2020-04-17 23:44:50 - Transformer_no_pretrain - INFO: - decode batch cost time : 0.02805611491203308 ms\n",
      "I0417 23:44:50.779508 139696977332032 <ipython-input-11-3340543714f4>:36] decode batch cost time : 0.02805611491203308 ms\n"
     ]
    },
    {
     "name": "stdout",
     "output_type": "stream",
     "text": [
      "predicted_words [[24, 393], [1024, 181], [24, 393], [122, 846], [461, 4], [99, 9], [231, 4], [7, 181]]\n",
      "---------------------------\n"
     ]
    },
    {
     "name": "stderr",
     "output_type": "stream",
     "text": [
      "2020-04-17 23:44:51 - Transformer_no_pretrain - INFO: - decode batch cost time : 0.028894096612930298 ms\n",
      "I0417 23:44:51.021908 139696977332032 <ipython-input-11-3340543714f4>:36] decode batch cost time : 0.028894096612930298 ms\n"
     ]
    },
    {
     "name": "stdout",
     "output_type": "stream",
     "text": [
      "predicted_words [[149, 449], [1024, 181], [122, 461], [122, 846], [461, 4], [108, 449], [9, 4], [7, 181]]\n",
      "---------------------------\n"
     ]
    },
    {
     "name": "stderr",
     "output_type": "stream",
     "text": [
      "2020-04-17 23:44:51 - Transformer_no_pretrain - INFO: - decode batch cost time : 0.026695221662521362 ms\n",
      "I0417 23:44:51.246592 139696977332032 <ipython-input-11-3340543714f4>:36] decode batch cost time : 0.026695221662521362 ms\n"
     ]
    },
    {
     "name": "stdout",
     "output_type": "stream",
     "text": [
      "predicted_words [[24, 393], [4, 393], [24, 393], [122, 846], [461, 4], [108, 449], [99, 4], [7, 181]]\n",
      "---------------------------\n"
     ]
    },
    {
     "name": "stderr",
     "output_type": "stream",
     "text": [
      "2020-04-17 23:44:51 - Transformer_no_pretrain - INFO: - decode batch cost time : 0.027469724416732788 ms\n",
      "I0417 23:44:51.478225 139696977332032 <ipython-input-11-3340543714f4>:36] decode batch cost time : 0.027469724416732788 ms\n"
     ]
    },
    {
     "name": "stdout",
     "output_type": "stream",
     "text": [
      "predicted_words [[24, 393], [4, 393], [24, 393], [449, 181], [461, 4], [108, 449], [122, 461], [7, 181]]\n",
      "---------------------------\n"
     ]
    },
    {
     "name": "stderr",
     "output_type": "stream",
     "text": [
      "2020-04-17 23:44:51 - Transformer_no_pretrain - INFO: - decode batch cost time : 0.0274868905544281 ms\n",
      "I0417 23:44:51.709081 139696977332032 <ipython-input-11-3340543714f4>:36] decode batch cost time : 0.0274868905544281 ms\n"
     ]
    },
    {
     "name": "stdout",
     "output_type": "stream",
     "text": [
      "predicted_words [[149, 449], [1024, 181], [122, 461], [122, 846], [461, 4], [108, 449], [99, 4], [7, 181]]\n",
      "---------------------------\n"
     ]
    },
    {
     "name": "stderr",
     "output_type": "stream",
     "text": [
      "2020-04-17 23:44:51 - Transformer_no_pretrain - INFO: - decode batch cost time : 0.02825900912284851 ms\n",
      "I0417 23:44:51.947198 139696977332032 <ipython-input-11-3340543714f4>:36] decode batch cost time : 0.02825900912284851 ms\n"
     ]
    },
    {
     "name": "stdout",
     "output_type": "stream",
     "text": [
      "predicted_words [[149, 449], [4, 393], [1024, 181], [122, 846], [461, 4], [108, 449], [99, 4], [7, 181]]\n",
      "---------------------------\n"
     ]
    },
    {
     "name": "stderr",
     "output_type": "stream",
     "text": [
      "2020-04-17 23:44:52 - Transformer_no_pretrain - INFO: - decode batch cost time : 0.029538005590438843 ms\n",
      "I0417 23:44:52.204284 139696977332032 <ipython-input-11-3340543714f4>:36] decode batch cost time : 0.029538005590438843 ms\n"
     ]
    },
    {
     "name": "stdout",
     "output_type": "stream",
     "text": [
      "predicted_words [[24, 393], [4, 393], [1024, 181], [122, 846], [461, 4], [108, 449], [99, 4], [7, 181]]\n",
      "---------------------------\n"
     ]
    },
    {
     "name": "stderr",
     "output_type": "stream",
     "text": [
      "2020-04-17 23:44:52 - Transformer_no_pretrain - INFO: - decode batch cost time : 0.029345601797103882 ms\n",
      "I0417 23:44:52.449378 139696977332032 <ipython-input-11-3340543714f4>:36] decode batch cost time : 0.029345601797103882 ms\n"
     ]
    },
    {
     "name": "stdout",
     "output_type": "stream",
     "text": [
      "predicted_words [[149, 449], [4, 393], [122, 461], [122, 846], [461, 4], [108, 449], [99, 4], [7, 181]]\n",
      "---------------------------\n"
     ]
    },
    {
     "name": "stderr",
     "output_type": "stream",
     "text": [
      "2020-04-17 23:44:52 - Transformer_no_pretrain - INFO: - decode batch cost time : 0.029648512601852417 ms\n",
      "I0417 23:44:52.697535 139696977332032 <ipython-input-11-3340543714f4>:36] decode batch cost time : 0.029648512601852417 ms\n"
     ]
    },
    {
     "name": "stdout",
     "output_type": "stream",
     "text": [
      "predicted_words [[24, 393], [4, 393], [24, 393], [449, 181], [461, 4], [108, 449], [15, 4], [7, 181]]\n",
      "---------------------------\n"
     ]
    },
    {
     "name": "stderr",
     "output_type": "stream",
     "text": [
      "2020-04-17 23:44:52 - Transformer_no_pretrain - INFO: - decode batch cost time : 0.0277901291847229 ms\n",
      "I0417 23:44:52.931367 139696977332032 <ipython-input-11-3340543714f4>:36] decode batch cost time : 0.0277901291847229 ms\n"
     ]
    },
    {
     "name": "stdout",
     "output_type": "stream",
     "text": [
      "predicted_words [[149, 449], [4, 393], [1024, 181], [122, 846], [461, 4], [108, 449], [99, 4], [7, 181]]\n",
      "---------------------------\n"
     ]
    },
    {
     "name": "stderr",
     "output_type": "stream",
     "text": [
      "2020-04-17 23:44:53 - Transformer_no_pretrain - INFO: - decode batch cost time : 0.02860352396965027 ms\n",
      "I0417 23:44:53.173419 139696977332032 <ipython-input-11-3340543714f4>:36] decode batch cost time : 0.02860352396965027 ms\n"
     ]
    },
    {
     "name": "stdout",
     "output_type": "stream",
     "text": [
      "predicted_words [[149, 449], [4, 393], [1024, 181], [122, 846], [461, 4], [108, 449], [99, 4], [7, 181]]\n",
      "---------------------------\n"
     ]
    },
    {
     "name": "stderr",
     "output_type": "stream",
     "text": [
      "2020-04-17 23:44:53 - Transformer_no_pretrain - INFO: - decode batch cost time : 0.031189292669296265 ms\n",
      "I0417 23:44:53.434139 139696977332032 <ipython-input-11-3340543714f4>:36] decode batch cost time : 0.031189292669296265 ms\n"
     ]
    },
    {
     "name": "stdout",
     "output_type": "stream",
     "text": [
      "predicted_words [[24, 393], [4, 393], [1024, 181], [122, 846], [461, 4], [108, 449], [99, 4], [7, 181]]\n",
      "---------------------------\n"
     ]
    },
    {
     "name": "stderr",
     "output_type": "stream",
     "text": [
      "2020-04-17 23:44:53 - Transformer_no_pretrain - INFO: - decode batch cost time : 0.030831634998321533 ms\n",
      "I0417 23:44:53.692016 139696977332032 <ipython-input-11-3340543714f4>:36] decode batch cost time : 0.030831634998321533 ms\n"
     ]
    },
    {
     "name": "stdout",
     "output_type": "stream",
     "text": [
      "predicted_words [[24, 393], [4, 393], [1024, 181], [122, 846], [461, 4], [108, 449], [99, 4], [7, 181]]\n",
      "---------------------------\n"
     ]
    },
    {
     "name": "stderr",
     "output_type": "stream",
     "text": [
      "2020-04-17 23:44:53 - Transformer_no_pretrain - INFO: - decode batch cost time : 0.030301332473754883 ms\n",
      "I0417 23:44:53.945407 139696977332032 <ipython-input-11-3340543714f4>:36] decode batch cost time : 0.030301332473754883 ms\n"
     ]
    },
    {
     "name": "stdout",
     "output_type": "stream",
     "text": [
      "predicted_words [[24, 393], [1024, 181], [24, 393], [449, 181], [461, 4], [108, 449], [99, 4], [7, 181]]\n",
      "---------------------------\n"
     ]
    },
    {
     "name": "stderr",
     "output_type": "stream",
     "text": [
      "2020-04-17 23:44:54 - Transformer_no_pretrain - INFO: - decode batch cost time : 0.029477953910827637 ms\n",
      "I0417 23:44:54.193237 139696977332032 <ipython-input-11-3340543714f4>:36] decode batch cost time : 0.029477953910827637 ms\n"
     ]
    },
    {
     "name": "stdout",
     "output_type": "stream",
     "text": [
      "predicted_words [[24, 393], [449, 181], [24, 393], [1024, 181], [461, 4], [108, 449], [99, 4], [7, 181]]\n",
      "---------------------------\n"
     ]
    },
    {
     "name": "stderr",
     "output_type": "stream",
     "text": [
      "2020-04-17 23:44:54 - Transformer_no_pretrain - INFO: - decode batch cost time : 0.029863864183425903 ms\n",
      "I0417 23:44:54.443527 139696977332032 <ipython-input-11-3340543714f4>:36] decode batch cost time : 0.029863864183425903 ms\n"
     ]
    },
    {
     "name": "stdout",
     "output_type": "stream",
     "text": [
      "predicted_words [[149, 449], [4, 393], [122, 461], [122, 846], [461, 4], [108, 449], [99, 4], [7, 181]]\n",
      "---------------------------\n"
     ]
    },
    {
     "name": "stderr",
     "output_type": "stream",
     "text": [
      "2020-04-17 23:44:54 - Transformer_no_pretrain - INFO: - decode batch cost time : 0.031006038188934326 ms\n",
      "I0417 23:44:54.710406 139696977332032 <ipython-input-11-3340543714f4>:36] decode batch cost time : 0.031006038188934326 ms\n"
     ]
    },
    {
     "name": "stdout",
     "output_type": "stream",
     "text": [
      "predicted_words [[24, 393], [4, 393], [24, 393], [449, 181], [461, 4], [108, 449], [99, 4], [7, 181]]\n",
      "---------------------------\n"
     ]
    },
    {
     "name": "stderr",
     "output_type": "stream",
     "text": [
      "2020-04-17 23:44:54 - Transformer_no_pretrain - INFO: - decode batch cost time : 0.032121628522872925 ms\n",
      "I0417 23:44:54.978645 139696977332032 <ipython-input-11-3340543714f4>:36] decode batch cost time : 0.032121628522872925 ms\n"
     ]
    },
    {
     "name": "stdout",
     "output_type": "stream",
     "text": [
      "predicted_words [[149, 449], [4, 393], [122, 461], [122, 846], [461, 4], [108, 449], [99, 4], [7, 181]]\n",
      "---------------------------\n"
     ]
    },
    {
     "name": "stderr",
     "output_type": "stream",
     "text": [
      "2020-04-17 23:44:55 - Transformer_no_pretrain - INFO: - decode batch cost time : 0.032612353563308716 ms\n",
      "I0417 23:44:55.252767 139696977332032 <ipython-input-11-3340543714f4>:36] decode batch cost time : 0.032612353563308716 ms\n"
     ]
    },
    {
     "name": "stdout",
     "output_type": "stream",
     "text": [
      "predicted_words [[24, 393], [4, 393], [24, 393], [449, 181], [461, 4], [108, 449], [99, 4], [7, 181]]\n",
      "---------------------------\n"
     ]
    },
    {
     "name": "stderr",
     "output_type": "stream",
     "text": [
      "2020-04-17 23:44:55 - Transformer_no_pretrain - INFO: - decode batch cost time : 0.031887441873550415 ms\n",
      "I0417 23:44:55.528017 139696977332032 <ipython-input-11-3340543714f4>:36] decode batch cost time : 0.031887441873550415 ms\n"
     ]
    },
    {
     "name": "stdout",
     "output_type": "stream",
     "text": [
      "predicted_words [[24, 393], [4, 393], [24, 393], [449, 181], [461, 4], [108, 449], [99, 4], [7, 181]]\n",
      "---------------------------\n"
     ]
    },
    {
     "name": "stderr",
     "output_type": "stream",
     "text": [
      "2020-04-17 23:44:55 - Transformer_no_pretrain - INFO: - decode batch cost time : 0.030521690845489502 ms\n",
      "I0417 23:44:55.785269 139696977332032 <ipython-input-11-3340543714f4>:36] decode batch cost time : 0.030521690845489502 ms\n"
     ]
    },
    {
     "name": "stdout",
     "output_type": "stream",
     "text": [
      "predicted_words [[149, 449], [4, 393], [122, 461], [122, 846], [461, 4], [108, 449], [99, 4], [7, 181]]\n",
      "---------------------------\n"
     ]
    },
    {
     "name": "stderr",
     "output_type": "stream",
     "text": [
      "2020-04-17 23:44:56 - Transformer_no_pretrain - INFO: - decode batch cost time : 0.030934154987335205 ms\n",
      "I0417 23:44:56.044781 139696977332032 <ipython-input-11-3340543714f4>:36] decode batch cost time : 0.030934154987335205 ms\n"
     ]
    },
    {
     "name": "stdout",
     "output_type": "stream",
     "text": [
      "predicted_words [[24, 393], [4, 393], [24, 393], [449, 181], [461, 4], [108, 449], [99, 4], [7, 181]]\n",
      "---------------------------\n"
     ]
    },
    {
     "name": "stderr",
     "output_type": "stream",
     "text": [
      "2020-04-17 23:44:56 - Transformer_no_pretrain - INFO: - decode batch cost time : 0.03208768367767334 ms\n",
      "I0417 23:44:56.314123 139696977332032 <ipython-input-11-3340543714f4>:36] decode batch cost time : 0.03208768367767334 ms\n"
     ]
    },
    {
     "name": "stdout",
     "output_type": "stream",
     "text": [
      "predicted_words [[24, 393], [4, 393], [24, 393], [449, 181], [461, 4], [108, 449], [15, 4], [7, 181]]\n",
      "---------------------------\n"
     ]
    },
    {
     "name": "stderr",
     "output_type": "stream",
     "text": [
      "2020-04-17 23:44:56 - Transformer_no_pretrain - INFO: - decode batch cost time : 0.033239901065826416 ms\n",
      "I0417 23:44:56.592733 139696977332032 <ipython-input-11-3340543714f4>:36] decode batch cost time : 0.033239901065826416 ms\n"
     ]
    },
    {
     "name": "stdout",
     "output_type": "stream",
     "text": [
      "predicted_words [[149, 449], [4, 393], [122, 461], [122, 846], [461, 4], [108, 449], [99, 4], [7, 181]]\n",
      "---------------------------\n"
     ]
    },
    {
     "name": "stderr",
     "output_type": "stream",
     "text": [
      "2020-04-17 23:44:56 - Transformer_no_pretrain - INFO: - decode batch cost time : 0.032547593116760254 ms\n",
      "I0417 23:44:56.875308 139696977332032 <ipython-input-11-3340543714f4>:36] decode batch cost time : 0.032547593116760254 ms\n"
     ]
    },
    {
     "name": "stdout",
     "output_type": "stream",
     "text": [
      "predicted_words [[24, 393], [449, 181], [24, 393], [449, 181], [461, 4], [108, 449], [99, 4], [7, 181]]\n",
      "---------------------------\n"
     ]
    },
    {
     "name": "stderr",
     "output_type": "stream",
     "text": [
      "2020-04-17 23:44:57 - Transformer_no_pretrain - INFO: - decode batch cost time : 0.0331154465675354 ms\n",
      "I0417 23:44:57.152346 139696977332032 <ipython-input-11-3340543714f4>:36] decode batch cost time : 0.0331154465675354 ms\n"
     ]
    },
    {
     "name": "stdout",
     "output_type": "stream",
     "text": [
      "predicted_words [[24, 393], [4, 393], [24, 393], [449, 181], [461, 4], [108, 449], [99, 4], [7, 181]]\n",
      "---------------------------\n"
     ]
    },
    {
     "name": "stderr",
     "output_type": "stream",
     "text": [
      "2020-04-17 23:44:57 - Transformer_no_pretrain - INFO: - decode batch cost time : 0.03566187620162964 ms\n",
      "I0417 23:44:57.457139 139696977332032 <ipython-input-11-3340543714f4>:36] decode batch cost time : 0.03566187620162964 ms\n"
     ]
    },
    {
     "name": "stdout",
     "output_type": "stream",
     "text": [
      "predicted_words [[24, 393], [4, 393], [24, 393], [449, 181], [461, 4], [99, 4], [122, 461], [108, 74]]\n",
      "---------------------------\n"
     ]
    },
    {
     "name": "stderr",
     "output_type": "stream",
     "text": [
      "2020-04-17 23:44:57 - Transformer_no_pretrain - INFO: - decode batch cost time : 0.03522223234176636 ms\n",
      "I0417 23:44:57.752542 139696977332032 <ipython-input-11-3340543714f4>:36] decode batch cost time : 0.03522223234176636 ms\n"
     ]
    },
    {
     "name": "stdout",
     "output_type": "stream",
     "text": [
      "predicted_words [[24, 393], [4, 393], [24, 393], [449, 181], [461, 4], [108, 449], [15, 4], [7, 181]]\n",
      "---------------------------\n"
     ]
    },
    {
     "name": "stderr",
     "output_type": "stream",
     "text": [
      "2020-04-17 23:44:58 - Transformer_no_pretrain - INFO: - decode batch cost time : 0.03690207004547119 ms\n",
      "I0417 23:44:58.073589 139696977332032 <ipython-input-11-3340543714f4>:36] decode batch cost time : 0.03690207004547119 ms\n"
     ]
    },
    {
     "name": "stdout",
     "output_type": "stream",
     "text": [
      "predicted_words [[24, 393], [4, 393], [24, 393], [449, 181], [122, 461], [231, 9], [122, 461], [7, 181]]\n",
      "---------------------------\n"
     ]
    },
    {
     "name": "stderr",
     "output_type": "stream",
     "text": [
      "2020-04-17 23:44:58 - Transformer_no_pretrain - INFO: - decode batch cost time : 0.030896633863449097 ms\n",
      "I0417 23:44:58.601394 139696977332032 <ipython-input-11-3340543714f4>:36] decode batch cost time : 0.030896633863449097 ms\n"
     ]
    },
    {
     "name": "stdout",
     "output_type": "stream",
     "text": [
      "predicted_words [[95, 4, 22], [62, 59, 338], [26, 1024, 114], [122, 846, 338], [26, 1024, 989], [26, 1024, 114], [22, 792, 692], [26, 99, 398]]\n",
      "---------------------------\n"
     ]
    },
    {
     "name": "stderr",
     "output_type": "stream",
     "text": [
      "2020-04-17 23:44:58 - Transformer_no_pretrain - INFO: - decode batch cost time : 0.031662315130233765 ms\n",
      "I0417 23:44:58.860331 139696977332032 <ipython-input-11-3340543714f4>:36] decode batch cost time : 0.031662315130233765 ms\n",
      "2020-04-17 23:44:59 - Transformer_no_pretrain - INFO: - decode batch cost time : 0.022978097200393677 ms\n",
      "I0417 23:44:59.050715 139696977332032 <ipython-input-11-3340543714f4>:36] decode batch cost time : 0.022978097200393677 ms\n"
     ]
    },
    {
     "name": "stdout",
     "output_type": "stream",
     "text": [
      "predicted_words [[9, 24, 22], [122, 846, 338], [181, 24, 74], [7, 9, 8], [380, 24, 22], [1024, 181, 22], [24, 380, 213], [380, 26, 398]]\n",
      "---------------------------\n",
      "predicted_words [[24, 393], [1024, 181], [1024, 181], [122, 846], [461, 4], [108, 449], [99, 4], [7, 181]]\n",
      "---------------------------\n"
     ]
    },
    {
     "name": "stderr",
     "output_type": "stream",
     "text": [
      "2020-04-17 23:44:59 - Transformer_no_pretrain - INFO: - decode batch cost time : 0.022449880838394165 ms\n",
      "I0417 23:44:59.238788 139696977332032 <ipython-input-11-3340543714f4>:36] decode batch cost time : 0.022449880838394165 ms\n",
      "2020-04-17 23:44:59 - Transformer_no_pretrain - INFO: - decode batch cost time : 0.022316336631774902 ms\n",
      "I0417 23:44:59.423911 139696977332032 <ipython-input-11-3340543714f4>:36] decode batch cost time : 0.022316336631774902 ms\n"
     ]
    },
    {
     "name": "stdout",
     "output_type": "stream",
     "text": [
      "predicted_words [[24, 393], [1024, 181], [122, 461], [122, 846], [461, 4], [108, 449], [9, 4], [7, 181]]\n",
      "---------------------------\n",
      "predicted_words [[149, 449], [1024, 181], [24, 393], [449, 181], [461, 4], [108, 449], [24, 380], [7, 181]]\n",
      "---------------------------\n"
     ]
    },
    {
     "name": "stderr",
     "output_type": "stream",
     "text": [
      "2020-04-17 23:44:59 - Transformer_no_pretrain - INFO: - decode batch cost time : 0.022515982389450073 ms\n",
      "I0417 23:44:59.610494 139696977332032 <ipython-input-11-3340543714f4>:36] decode batch cost time : 0.022515982389450073 ms\n",
      "2020-04-17 23:44:59 - Transformer_no_pretrain - INFO: - decode batch cost time : 0.022361963987350464 ms\n",
      "I0417 23:44:59.795457 139696977332032 <ipython-input-11-3340543714f4>:36] decode batch cost time : 0.022361963987350464 ms\n"
     ]
    },
    {
     "name": "stdout",
     "output_type": "stream",
     "text": [
      "predicted_words [[7, 9], [231, 108], [122, 461], [122, 846], [461, 4], [108, 449], [24, 380], [24, 393]]\n",
      "---------------------------\n",
      "predicted_words [[24, 393], [4, 393], [1024, 181], [449, 181], [122, 461], [24, 393], [99, 4], [122, 1024]]\n",
      "---------------------------\n"
     ]
    },
    {
     "name": "stderr",
     "output_type": "stream",
     "text": [
      "2020-04-17 23:44:59 - Transformer_no_pretrain - INFO: - decode batch cost time : 0.023032844066619873 ms\n",
      "I0417 23:44:59.985792 139696977332032 <ipython-input-11-3340543714f4>:36] decode batch cost time : 0.023032844066619873 ms\n",
      "2020-04-17 23:45:00 - Transformer_no_pretrain - INFO: - decode batch cost time : 0.022898942232131958 ms\n",
      "I0417 23:45:00.175354 139696977332032 <ipython-input-11-3340543714f4>:36] decode batch cost time : 0.022898942232131958 ms\n"
     ]
    },
    {
     "name": "stdout",
     "output_type": "stream",
     "text": [
      "predicted_words [[24, 393], [1024, 181], [1024, 181], [449, 181], [461, 4], [108, 449], [9, 4], [7, 181]]\n",
      "---------------------------\n",
      "predicted_words [[24, 393], [449, 181], [1024, 181], [449, 181], [461, 4], [108, 449], [99, 4], [7, 181]]\n",
      "---------------------------\n"
     ]
    },
    {
     "name": "stderr",
     "output_type": "stream",
     "text": [
      "2020-04-17 23:45:00 - Transformer_no_pretrain - INFO: - decode batch cost time : 0.03232598304748535 ms\n",
      "I0417 23:45:00.440234 139696977332032 <ipython-input-11-3340543714f4>:36] decode batch cost time : 0.03232598304748535 ms\n"
     ]
    },
    {
     "name": "stdout",
     "output_type": "stream",
     "text": [
      "predicted_words [[231, 9, 16], [1024, 149, 8], [26, 1024, 989], [461, 4, 229], [26, 1024, 114], [231, 4, 22], [461, 149, 301], [7, 149, 301]]\n",
      "---------------------------\n"
     ]
    },
    {
     "name": "stderr",
     "output_type": "stream",
     "text": [
      "2020-04-17 23:45:00 - Transformer_no_pretrain - INFO: - decode batch cost time : 0.03194013237953186 ms\n",
      "I0417 23:45:00.702272 139696977332032 <ipython-input-11-3340543714f4>:36] decode batch cost time : 0.03194013237953186 ms\n"
     ]
    },
    {
     "name": "stdout",
     "output_type": "stream",
     "text": [
      "predicted_words [[231, 149, 79], [26, 1317, 22], [26, 1024, 989], [461, 4, 26], [99, 149, 22], [26, 1024, 114], [22, 223, 112], [15, 122, 69]]\n",
      "---------------------------\n"
     ]
    },
    {
     "name": "stderr",
     "output_type": "stream",
     "text": [
      "2020-04-17 23:45:00 - Transformer_no_pretrain - INFO: - decode batch cost time : 0.03454422950744629 ms\n",
      "I0417 23:45:00.985595 139696977332032 <ipython-input-11-3340543714f4>:36] decode batch cost time : 0.03454422950744629 ms\n",
      "2020-04-17 23:45:01 - Transformer_no_pretrain - INFO: - decode batch cost time : 0.02311280369758606 ms\n",
      "I0417 23:45:01.180194 139696977332032 <ipython-input-11-3340543714f4>:36] decode batch cost time : 0.02311280369758606 ms\n"
     ]
    },
    {
     "name": "stdout",
     "output_type": "stream",
     "text": [
      "predicted_words [[26, 1317, 229], [22, 461, 353], [26, 1024, 989], [461, 4, 26], [380, 24, 22], [22, 792, 42], [22, 223, 112], [26, 1024, 74]]\n",
      "---------------------------\n",
      "predicted_words [[24, 393], [1024, 181], [1024, 181], [1024, 181], [231, 9], [24, 393], [15, 4], [7, 181]]\n",
      "---------------------------\n"
     ]
    },
    {
     "name": "stderr",
     "output_type": "stream",
     "text": [
      "2020-04-17 23:45:01 - Transformer_no_pretrain - INFO: - decode batch cost time : 0.023801177740097046 ms\n",
      "I0417 23:45:01.377063 139696977332032 <ipython-input-11-3340543714f4>:36] decode batch cost time : 0.023801177740097046 ms\n",
      "2020-04-17 23:45:01 - Transformer_no_pretrain - INFO: - decode batch cost time : 0.02205073833465576 ms\n",
      "I0417 23:45:01.560345 139696977332032 <ipython-input-11-3340543714f4>:36] decode batch cost time : 0.02205073833465576 ms\n"
     ]
    },
    {
     "name": "stdout",
     "output_type": "stream",
     "text": [
      "predicted_words [[24, 393], [1024, 181], [1024, 181], [449, 181], [122, 461], [108, 449], [99, 4], [7, 181]]\n",
      "---------------------------\n",
      "predicted_words [[24, 393], [108, 74], [1024, 181], [449, 181], [461, 4], [108, 449], [99, 4], [7, 181]]\n",
      "---------------------------\n"
     ]
    },
    {
     "name": "stderr",
     "output_type": "stream",
     "text": [
      "2020-04-17 23:45:01 - Transformer_no_pretrain - INFO: - decode batch cost time : 0.023437201976776123 ms\n",
      "I0417 23:45:01.755013 139696977332032 <ipython-input-11-3340543714f4>:36] decode batch cost time : 0.023437201976776123 ms\n",
      "2020-04-17 23:45:01 - Transformer_no_pretrain - INFO: - decode batch cost time : 0.022163033485412598 ms\n",
      "I0417 23:45:01.939226 139696977332032 <ipython-input-11-3340543714f4>:36] decode batch cost time : 0.022163033485412598 ms\n"
     ]
    },
    {
     "name": "stdout",
     "output_type": "stream",
     "text": [
      "predicted_words [[149, 449], [1024, 181], [24, 393], [231, 149], [1024, 9], [108, 449], [122, 461], [7, 181]]\n",
      "---------------------------\n",
      "predicted_words [[7, 9], [1024, 181], [24, 393], [99, 181], [461, 4], [108, 449], [15, 4], [24, 393]]\n",
      "---------------------------\n"
     ]
    },
    {
     "name": "stderr",
     "output_type": "stream",
     "text": [
      "2020-04-17 23:45:02 - Transformer_no_pretrain - INFO: - decode batch cost time : 0.02296215295791626 ms\n",
      "I0417 23:45:02.129788 139696977332032 <ipython-input-11-3340543714f4>:36] decode batch cost time : 0.02296215295791626 ms\n",
      "2020-04-17 23:45:02 - Transformer_no_pretrain - INFO: - decode batch cost time : 0.02250385284423828 ms\n",
      "I0417 23:45:02.317271 139696977332032 <ipython-input-11-3340543714f4>:36] decode batch cost time : 0.02250385284423828 ms\n"
     ]
    },
    {
     "name": "stdout",
     "output_type": "stream",
     "text": [
      "predicted_words [[231, 9], [24, 393], [122, 461], [122, 846], [461, 4], [24, 393], [24, 380], [24, 393]]\n",
      "---------------------------\n",
      "predicted_words [[7, 9], [1024, 181], [24, 393], [99, 181], [461, 4], [108, 449], [24, 380], [24, 393]]\n",
      "---------------------------\n"
     ]
    },
    {
     "name": "stderr",
     "output_type": "stream",
     "text": [
      "2020-04-17 23:45:02 - Transformer_no_pretrain - INFO: - decode batch cost time : 0.02328699827194214 ms\n",
      "I0417 23:45:02.510578 139696977332032 <ipython-input-11-3340543714f4>:36] decode batch cost time : 0.02328699827194214 ms\n",
      "2020-04-17 23:45:02 - Transformer_no_pretrain - INFO: - decode batch cost time : 0.023249328136444092 ms\n",
      "I0417 23:45:02.706244 139696977332032 <ipython-input-11-3340543714f4>:36] decode batch cost time : 0.023249328136444092 ms\n"
     ]
    },
    {
     "name": "stdout",
     "output_type": "stream",
     "text": [
      "predicted_words [[149, 449], [1024, 181], [122, 461], [122, 846], [461, 4], [108, 449], [24, 380], [7, 181]]\n",
      "---------------------------\n",
      "predicted_words [[149, 449], [4, 393], [122, 461], [122, 846], [461, 4], [108, 449], [9, 4], [7, 181]]\n",
      "---------------------------\n"
     ]
    },
    {
     "name": "stderr",
     "output_type": "stream",
     "text": [
      "2020-04-17 23:45:02 - Transformer_no_pretrain - INFO: - decode batch cost time : 0.02359655499458313 ms\n",
      "I0417 23:45:02.901639 139696977332032 <ipython-input-11-3340543714f4>:36] decode batch cost time : 0.02359655499458313 ms\n",
      "2020-04-17 23:45:03 - Transformer_no_pretrain - INFO: - decode batch cost time : 0.022735238075256348 ms\n",
      "I0417 23:45:03.094857 139696977332032 <ipython-input-11-3340543714f4>:36] decode batch cost time : 0.022735238075256348 ms\n"
     ]
    },
    {
     "name": "stdout",
     "output_type": "stream",
     "text": [
      "predicted_words [[149, 449], [4, 393], [122, 461], [122, 846], [461, 4], [108, 449], [9, 4], [7, 181]]\n",
      "---------------------------\n",
      "predicted_words [[24, 393], [449, 181], [24, 393], [449, 181], [461, 4], [449, 181], [15, 4], [7, 181]]\n",
      "---------------------------\n"
     ]
    },
    {
     "name": "stderr",
     "output_type": "stream",
     "text": [
      "2020-04-17 23:45:03 - Transformer_no_pretrain - INFO: - decode batch cost time : 0.02391958236694336 ms\n",
      "I0417 23:45:03.292958 139696977332032 <ipython-input-11-3340543714f4>:36] decode batch cost time : 0.02391958236694336 ms\n",
      "2020-04-17 23:45:03 - Transformer_no_pretrain - INFO: - decode batch cost time : 0.02252495288848877 ms\n",
      "I0417 23:45:03.480660 139696977332032 <ipython-input-11-3340543714f4>:36] decode batch cost time : 0.02252495288848877 ms\n"
     ]
    },
    {
     "name": "stdout",
     "output_type": "stream",
     "text": [
      "predicted_words [[24, 393], [449, 181], [24, 393], [122, 846], [461, 4], [24, 393], [15, 4], [7, 181]]\n",
      "---------------------------\n",
      "predicted_words [[24, 393], [1024, 181], [122, 461], [122, 846], [461, 4], [108, 449], [9, 4], [7, 181]]\n",
      "---------------------------\n"
     ]
    },
    {
     "name": "stderr",
     "output_type": "stream",
     "text": [
      "2020-04-17 23:45:03 - Transformer_no_pretrain - INFO: - decode batch cost time : 0.023251235485076904 ms\n",
      "I0417 23:45:03.673377 139696977332032 <ipython-input-11-3340543714f4>:36] decode batch cost time : 0.023251235485076904 ms\n",
      "2020-04-17 23:45:03 - Transformer_no_pretrain - INFO: - decode batch cost time : 0.02244126796722412 ms\n",
      "I0417 23:45:03.860035 139696977332032 <ipython-input-11-3340543714f4>:36] decode batch cost time : 0.02244126796722412 ms\n"
     ]
    },
    {
     "name": "stdout",
     "output_type": "stream",
     "text": [
      "predicted_words [[149, 449], [449, 181], [122, 461], [122, 846], [461, 4], [108, 449], [24, 380], [449, 181]]\n",
      "---------------------------\n",
      "predicted_words [[149, 449], [449, 181], [122, 461], [122, 846], [461, 4], [108, 449], [24, 380], [7, 181]]\n",
      "---------------------------\n"
     ]
    },
    {
     "name": "stderr",
     "output_type": "stream",
     "text": [
      "2020-04-17 23:45:04 - Transformer_no_pretrain - INFO: - decode batch cost time : 0.02306625247001648 ms\n",
      "I0417 23:45:04.051393 139696977332032 <ipython-input-11-3340543714f4>:36] decode batch cost time : 0.02306625247001648 ms\n"
     ]
    },
    {
     "name": "stdout",
     "output_type": "stream",
     "text": [
      "predicted_words [[149, 449], [4, 393], [1024, 181], [461, 9], [461, 4], [99, 9], [231, 4], [7, 181]]\n",
      "---------------------------\n"
     ]
    },
    {
     "name": "stderr",
     "output_type": "stream",
     "text": [
      "2020-04-17 23:45:04 - Transformer_no_pretrain - INFO: - decode batch cost time : 0.025355428457260132 ms\n",
      "I0417 23:45:04.263092 139696977332032 <ipython-input-11-3340543714f4>:36] decode batch cost time : 0.025355428457260132 ms\n",
      "2020-04-17 23:45:04 - Transformer_no_pretrain - INFO: - decode batch cost time : 0.021949559450149536 ms\n",
      "I0417 23:45:04.452954 139696977332032 <ipython-input-11-3340543714f4>:36] decode batch cost time : 0.021949559450149536 ms\n"
     ]
    },
    {
     "name": "stdout",
     "output_type": "stream",
     "text": [
      "predicted_words [[24, 393], [4, 393], [1024, 181], [461, 9], [461, 4], [99, 9], [9, 4], [449, 181]]\n",
      "---------------------------\n",
      "predicted_words [[149, 449], [449, 181], [24, 393], [449, 181], [122, 461], [108, 449], [99, 4], [7, 181]]\n",
      "---------------------------\n"
     ]
    },
    {
     "name": "stderr",
     "output_type": "stream",
     "text": [
      "2020-04-17 23:45:04 - Transformer_no_pretrain - INFO: - decode batch cost time : 0.025046497583389282 ms\n",
      "I0417 23:45:04.660032 139696977332032 <ipython-input-11-3340543714f4>:36] decode batch cost time : 0.025046497583389282 ms\n",
      "2020-04-17 23:45:04 - Transformer_no_pretrain - INFO: - decode batch cost time : 0.022905021905899048 ms\n",
      "I0417 23:45:04.853150 139696977332032 <ipython-input-11-3340543714f4>:36] decode batch cost time : 0.022905021905899048 ms\n"
     ]
    },
    {
     "name": "stdout",
     "output_type": "stream",
     "text": [
      "predicted_words [[24, 393], [4, 393], [1024, 181], [122, 846], [461, 4], [99, 9], [9, 4], [7, 181]]\n",
      "---------------------------\n",
      "predicted_words [[149, 449], [4, 393], [1024, 181], [122, 846], [461, 4], [108, 449], [9, 4], [449, 181]]\n",
      "---------------------------\n"
     ]
    },
    {
     "name": "stderr",
     "output_type": "stream",
     "text": [
      "2020-04-17 23:45:05 - Transformer_no_pretrain - INFO: - decode batch cost time : 0.02263692021369934 ms\n",
      "I0417 23:45:05.041151 139696977332032 <ipython-input-11-3340543714f4>:36] decode batch cost time : 0.02263692021369934 ms\n"
     ]
    },
    {
     "name": "stdout",
     "output_type": "stream",
     "text": [
      "predicted_words [[24, 393], [1024, 181], [1024, 181], [122, 846], [461, 4], [108, 449], [9, 4], [7, 181]]\n",
      "---------------------------\n"
     ]
    },
    {
     "name": "stderr",
     "output_type": "stream",
     "text": [
      "2020-04-17 23:45:05 - Transformer_no_pretrain - INFO: - decode batch cost time : 0.032441288232803345 ms\n",
      "I0417 23:45:05.308356 139696977332032 <ipython-input-11-3340543714f4>:36] decode batch cost time : 0.032441288232803345 ms\n"
     ]
    },
    {
     "name": "stdout",
     "output_type": "stream",
     "text": [
      "predicted_words [[26, 1024, 989], [26, 1024, 989], [26, 1024, 989], [181, 393], [149, 449, 8], [231, 4, 22], [122, 461, 8], [108, 62, 22]]\n",
      "---------------------------\n"
     ]
    },
    {
     "name": "stderr",
     "output_type": "stream",
     "text": [
      "2020-04-17 23:45:05 - Transformer_no_pretrain - INFO: - decode batch cost time : 0.03225097060203552 ms\n",
      "I0417 23:45:05.573447 139696977332032 <ipython-input-11-3340543714f4>:36] decode batch cost time : 0.03225097060203552 ms\n"
     ]
    },
    {
     "name": "stdout",
     "output_type": "stream",
     "text": [
      "predicted_words [[149, 449, 338], [26, 1024, 989], [26, 99, 846], [181, 393], [1024, 26, 692], [26, 1024, 114], [122, 461, 8], [108, 62, 22]]\n",
      "---------------------------\n"
     ]
    },
    {
     "name": "stderr",
     "output_type": "stream",
     "text": [
      "2020-04-17 23:45:05 - Transformer_no_pretrain - INFO: - decode batch cost time : 0.03249916434288025 ms\n",
      "I0417 23:45:05.841038 139696977332032 <ipython-input-11-3340543714f4>:36] decode batch cost time : 0.03249916434288025 ms\n",
      "2020-04-17 23:45:06 - Transformer_no_pretrain - INFO: - decode batch cost time : 0.02343413233757019 ms\n",
      "I0417 23:45:06.035987 139696977332032 <ipython-input-11-3340543714f4>:36] decode batch cost time : 0.02343413233757019 ms\n"
     ]
    },
    {
     "name": "stdout",
     "output_type": "stream",
     "text": [
      "predicted_words [[149, 449], [26, 1024, 989], [1024, 122, 792], [181, 59, 229], [122, 99, 90], [62, 59, 22], [181, 26, 99], [108, 62, 22]]\n",
      "---------------------------\n",
      "predicted_words [[24, 393], [4, 393], [24, 393], [449, 181], [461, 4], [99, 4], [99, 4], [108, 74]]\n",
      "---------------------------\n"
     ]
    },
    {
     "name": "stderr",
     "output_type": "stream",
     "text": [
      "2020-04-17 23:45:06 - Transformer_no_pretrain - INFO: - decode batch cost time : 0.02413797378540039 ms\n",
      "I0417 23:45:06.235304 139696977332032 <ipython-input-11-3340543714f4>:36] decode batch cost time : 0.02413797378540039 ms\n",
      "2020-04-17 23:45:06 - Transformer_no_pretrain - INFO: - decode batch cost time : 0.022097110748291016 ms\n",
      "I0417 23:45:06.418689 139696977332032 <ipython-input-11-3340543714f4>:36] decode batch cost time : 0.022097110748291016 ms\n"
     ]
    },
    {
     "name": "stdout",
     "output_type": "stream",
     "text": [
      "predicted_words [[24, 393], [24, 393], [1024, 181], [122, 846], [461, 4], [108, 449], [9, 4], [7, 181]]\n",
      "---------------------------\n",
      "predicted_words [[24, 393], [24, 393], [1024, 181], [122, 846], [461, 4], [108, 449], [9, 4], [7, 181]]\n",
      "---------------------------\n"
     ]
    },
    {
     "name": "stderr",
     "output_type": "stream",
     "text": [
      "2020-04-17 23:45:06 - Transformer_no_pretrain - INFO: - decode batch cost time : 0.02238565683364868 ms\n",
      "I0417 23:45:06.604250 139696977332032 <ipython-input-11-3340543714f4>:36] decode batch cost time : 0.02238565683364868 ms\n",
      "2020-04-17 23:45:06 - Transformer_no_pretrain - INFO: - decode batch cost time : 0.022348642349243164 ms\n",
      "I0417 23:45:06.799667 139696977332032 <ipython-input-11-3340543714f4>:36] decode batch cost time : 0.022348642349243164 ms\n"
     ]
    },
    {
     "name": "stdout",
     "output_type": "stream",
     "text": [
      "predicted_words [[24, 393], [1024, 181], [1024, 181], [122, 846], [461, 4], [108, 449], [9, 4], [7, 181]]\n",
      "---------------------------\n",
      "predicted_words [[24, 393], [4, 393], [1024, 181], [122, 846], [461, 4], [108, 449], [9, 4], [7, 181]]\n",
      "---------------------------\n"
     ]
    },
    {
     "name": "stderr",
     "output_type": "stream",
     "text": [
      "2020-04-17 23:45:07 - Transformer_no_pretrain - INFO: - decode batch cost time : 0.0241166353225708 ms\n",
      "I0417 23:45:07.008909 139696977332032 <ipython-input-11-3340543714f4>:36] decode batch cost time : 0.0241166353225708 ms\n",
      "2020-04-17 23:45:07 - Transformer_no_pretrain - INFO: - decode batch cost time : 0.021856993436813354 ms\n",
      "I0417 23:45:07.191601 139696977332032 <ipython-input-11-3340543714f4>:36] decode batch cost time : 0.021856993436813354 ms\n"
     ]
    },
    {
     "name": "stdout",
     "output_type": "stream",
     "text": [
      "predicted_words [[24, 393], [449, 181], [1024, 181], [122, 846], [461, 4], [108, 449], [9, 4], [449, 181]]\n",
      "---------------------------\n",
      "predicted_words [[149, 449], [449, 181], [122, 461], [122, 846], [461, 4], [108, 449], [9, 4], [7, 181]]\n",
      "---------------------------\n"
     ]
    },
    {
     "name": "stderr",
     "output_type": "stream",
     "text": [
      "2020-04-17 23:45:07 - Transformer_no_pretrain - INFO: - decode batch cost time : 0.023025333881378174 ms\n",
      "I0417 23:45:07.381990 139696977332032 <ipython-input-11-3340543714f4>:36] decode batch cost time : 0.023025333881378174 ms\n",
      "2020-04-17 23:45:07 - Transformer_no_pretrain - INFO: - decode batch cost time : 0.022443294525146484 ms\n",
      "I0417 23:45:07.568621 139696977332032 <ipython-input-11-3340543714f4>:36] decode batch cost time : 0.022443294525146484 ms\n"
     ]
    },
    {
     "name": "stdout",
     "output_type": "stream",
     "text": [
      "predicted_words [[149, 449], [449, 181], [122, 461], [122, 846], [461, 4], [108, 449], [9, 4], [7, 181]]\n",
      "---------------------------\n",
      "predicted_words [[149, 449], [449, 181], [122, 461], [122, 846], [461, 4], [108, 449], [9, 4], [7, 181]]\n",
      "---------------------------\n"
     ]
    },
    {
     "name": "stderr",
     "output_type": "stream",
     "text": [
      "2020-04-17 23:45:07 - Transformer_no_pretrain - INFO: - decode batch cost time : 0.023548543453216553 ms\n",
      "I0417 23:45:07.763933 139696977332032 <ipython-input-11-3340543714f4>:36] decode batch cost time : 0.023548543453216553 ms\n",
      "2020-04-17 23:45:07 - Transformer_no_pretrain - INFO: - decode batch cost time : 0.02228766679763794 ms\n",
      "I0417 23:45:07.949611 139696977332032 <ipython-input-11-3340543714f4>:36] decode batch cost time : 0.02228766679763794 ms\n"
     ]
    },
    {
     "name": "stdout",
     "output_type": "stream",
     "text": [
      "predicted_words [[24, 393], [231, 149], [24, 393], [122, 846], [461, 4], [99, 4], [99, 4], [1024, 181]]\n",
      "---------------------------\n",
      "predicted_words [[24, 393], [231, 149], [24, 393], [122, 846], [461, 4], [99, 4], [99, 4], [7, 181]]\n",
      "---------------------------\n"
     ]
    },
    {
     "name": "stderr",
     "output_type": "stream",
     "text": [
      "2020-04-17 23:45:08 - Transformer_no_pretrain - INFO: - decode batch cost time : 0.023707836866378784 ms\n",
      "I0417 23:45:08.146927 139696977332032 <ipython-input-11-3340543714f4>:36] decode batch cost time : 0.023707836866378784 ms\n",
      "2020-04-17 23:45:08 - Transformer_no_pretrain - INFO: - decode batch cost time : 0.022314906120300293 ms\n",
      "I0417 23:45:08.332430 139696977332032 <ipython-input-11-3340543714f4>:36] decode batch cost time : 0.022314906120300293 ms\n"
     ]
    },
    {
     "name": "stdout",
     "output_type": "stream",
     "text": [
      "predicted_words [[7, 9], [449, 181], [122, 461], [122, 846], [461, 4], [108, 449], [9, 4], [449, 181]]\n",
      "---------------------------\n",
      "predicted_words [[7, 9], [449, 181], [122, 461], [122, 846], [461, 4], [108, 449], [9, 4], [449, 181]]\n",
      "---------------------------\n"
     ]
    },
    {
     "name": "stderr",
     "output_type": "stream",
     "text": [
      "2020-04-17 23:45:08 - Transformer_no_pretrain - INFO: - decode batch cost time : 0.022672832012176514 ms\n",
      "I0417 23:45:08.519993 139696977332032 <ipython-input-11-3340543714f4>:36] decode batch cost time : 0.022672832012176514 ms\n",
      "2020-04-17 23:45:08 - Transformer_no_pretrain - INFO: - decode batch cost time : 0.02307063341140747 ms\n",
      "I0417 23:45:08.711710 139696977332032 <ipython-input-11-3340543714f4>:36] decode batch cost time : 0.02307063341140747 ms\n"
     ]
    },
    {
     "name": "stdout",
     "output_type": "stream",
     "text": [
      "predicted_words [[7, 9], [449, 181], [122, 461], [122, 846], [461, 4], [108, 449], [24, 380], [24, 393]]\n",
      "---------------------------\n",
      "predicted_words [[108, 449], [122, 846], [24, 393], [122, 846], [461, 4], [108, 449], [24, 380], [7, 181]]\n",
      "---------------------------\n"
     ]
    },
    {
     "name": "stderr",
     "output_type": "stream",
     "text": [
      "2020-04-17 23:45:08 - Transformer_no_pretrain - INFO: - decode batch cost time : 0.02435678243637085 ms\n",
      "I0417 23:45:08.913711 139696977332032 <ipython-input-11-3340543714f4>:36] decode batch cost time : 0.02435678243637085 ms\n",
      "2020-04-17 23:45:09 - Transformer_no_pretrain - INFO: - decode batch cost time : 0.02425810694694519 ms\n"
     ]
    },
    {
     "name": "stdout",
     "output_type": "stream",
     "text": [
      "predicted_words [[108, 449], [122, 846], [24, 393], [122, 846], [461, 4], [108, 449], [99, 4], [7, 181]]\n",
      "---------------------------\n",
      "predicted_words [[108, 449], [122, 846], [24, 393], [122, 846], [461, 4], [108, 449], [99, 4], [7, 181]]\n",
      "---------------------------\n"
     ]
    },
    {
     "name": "stderr",
     "output_type": "stream",
     "text": [
      "I0417 23:45:09.114284 139696977332032 <ipython-input-11-3340543714f4>:36] decode batch cost time : 0.02425810694694519 ms\n",
      "2020-04-17 23:45:09 - Transformer_no_pretrain - INFO: - decode batch cost time : 0.02838805317878723 ms\n",
      "I0417 23:45:09.351114 139696977332032 <ipython-input-11-3340543714f4>:36] decode batch cost time : 0.02838805317878723 ms\n",
      "2020-04-17 23:45:09 - Transformer_no_pretrain - INFO: - decode batch cost time : 0.022086501121520996 ms\n",
      "I0417 23:45:09.535191 139696977332032 <ipython-input-11-3340543714f4>:36] decode batch cost time : 0.022086501121520996 ms\n"
     ]
    },
    {
     "name": "stdout",
     "output_type": "stream",
     "text": [
      "predicted_words [[24, 393], [122, 846], [24, 393], [122, 846], [461, 4], [108, 449], [99, 4], [7, 181]]\n",
      "---------------------------\n",
      "predicted_words [[24, 393], [4, 393], [24, 393], [449, 181], [461, 4], [108, 449], [99, 4], [7, 181]]\n",
      "---------------------------\n"
     ]
    },
    {
     "name": "stderr",
     "output_type": "stream",
     "text": [
      "2020-04-17 23:45:09 - Transformer_no_pretrain - INFO: - decode batch cost time : 0.026140570640563965 ms\n",
      "I0417 23:45:09.751206 139696977332032 <ipython-input-11-3340543714f4>:36] decode batch cost time : 0.026140570640563965 ms\n",
      "2020-04-17 23:45:09 - Transformer_no_pretrain - INFO: - decode batch cost time : 0.023620784282684326 ms\n",
      "I0417 23:45:09.949764 139696977332032 <ipython-input-11-3340543714f4>:36] decode batch cost time : 0.023620784282684326 ms\n"
     ]
    },
    {
     "name": "stdout",
     "output_type": "stream",
     "text": [
      "predicted_words [[24, 393], [1024, 181], [1024, 181], [122, 846], [461, 4], [108, 449], [9, 4], [7, 181]]\n",
      "---------------------------\n",
      "predicted_words [[24, 393], [4, 393], [1024, 181], [122, 846], [461, 4], [108, 449], [9, 4], [7, 181]]\n",
      "---------------------------\n"
     ]
    },
    {
     "name": "stderr",
     "output_type": "stream",
     "text": [
      "2020-04-17 23:45:10 - Transformer_no_pretrain - INFO: - decode batch cost time : 0.03313380479812622 ms\n",
      "I0417 23:45:10.221475 139696977332032 <ipython-input-11-3340543714f4>:36] decode batch cost time : 0.03313380479812622 ms\n"
     ]
    },
    {
     "name": "stdout",
     "output_type": "stream",
     "text": [
      "predicted_words [[149, 449, 338], [1024, 108, 8], [149, 449, 338], [122, 99, 847], [461, 9, 213], [26, 1024, 114], [22, 223, 692], [26, 1024, 114]]\n",
      "---------------------------\n"
     ]
    },
    {
     "name": "stderr",
     "output_type": "stream",
     "text": [
      "2020-04-17 23:45:10 - Transformer_no_pretrain - INFO: - decode batch cost time : 0.03516390919685364 ms\n",
      "I0417 23:45:10.509813 139696977332032 <ipython-input-11-3340543714f4>:36] decode batch cost time : 0.03516390919685364 ms\n"
     ]
    },
    {
     "name": "stdout",
     "output_type": "stream",
     "text": [
      "predicted_words [[380, 24, 8], [22, 99, 36], [181, 59, 74], [171, 149, 8], [461, 181, 213], [62, 59, 22], [22, 792, 692], [449, 149, 22]]\n",
      "---------------------------\n"
     ]
    },
    {
     "name": "stderr",
     "output_type": "stream",
     "text": [
      "2020-04-17 23:45:10 - Transformer_no_pretrain - INFO: - decode batch cost time : 0.03305399417877197 ms\n",
      "I0417 23:45:10.781764 139696977332032 <ipython-input-11-3340543714f4>:36] decode batch cost time : 0.03305399417877197 ms\n",
      "2020-04-17 23:45:10 - Transformer_no_pretrain - INFO: - decode batch cost time : 0.022085219621658325 ms\n",
      "I0417 23:45:10.965612 139696977332032 <ipython-input-11-3340543714f4>:36] decode batch cost time : 0.022085219621658325 ms\n"
     ]
    },
    {
     "name": "stdout",
     "output_type": "stream",
     "text": [
      "predicted_words [[122, 95, 285], [62, 26, 23], [26, 1024, 989], [26, 1024, 45], [22, 223, 692], [7, 149, 22], [22, 792, 692], [1024, 181, 338]]\n",
      "---------------------------\n",
      "predicted_words [[24, 393], [1024, 181], [1024, 181], [449, 181], [461, 4], [108, 449], [99, 4], [7, 181]]\n",
      "---------------------------\n"
     ]
    },
    {
     "name": "stderr",
     "output_type": "stream",
     "text": [
      "2020-04-17 23:45:11 - Transformer_no_pretrain - INFO: - decode batch cost time : 0.024467885494232178 ms\n",
      "I0417 23:45:11.168727 139696977332032 <ipython-input-11-3340543714f4>:36] decode batch cost time : 0.024467885494232178 ms\n",
      "2020-04-17 23:45:11 - Transformer_no_pretrain - INFO: - decode batch cost time : 0.022317856550216675 ms\n",
      "I0417 23:45:11.358719 139696977332032 <ipython-input-11-3340543714f4>:36] decode batch cost time : 0.022317856550216675 ms\n"
     ]
    },
    {
     "name": "stdout",
     "output_type": "stream",
     "text": [
      "predicted_words [[24, 393], [4, 393], [122, 461], [122, 846], [461, 4], [108, 449], [9, 4], [7, 181]]\n",
      "---------------------------\n",
      "predicted_words [[24, 393], [4, 393], [1024, 181], [122, 846], [461, 4], [108, 449], [9, 4], [7, 181]]\n",
      "---------------------------\n"
     ]
    },
    {
     "name": "stderr",
     "output_type": "stream",
     "text": [
      "2020-04-17 23:45:11 - Transformer_no_pretrain - INFO: - decode batch cost time : 0.022316932678222656 ms\n",
      "I0417 23:45:11.544022 139696977332032 <ipython-input-11-3340543714f4>:36] decode batch cost time : 0.022316932678222656 ms\n",
      "2020-04-17 23:45:11 - Transformer_no_pretrain - INFO: - decode batch cost time : 0.02278265357017517 ms\n"
     ]
    },
    {
     "name": "stdout",
     "output_type": "stream",
     "text": [
      "predicted_words [[24, 393], [1024, 181], [24, 393], [449, 181], [461, 4], [7, 4], [24, 380], [122, 846]]\n",
      "---------------------------\n",
      "predicted_words [[24, 393], [122, 846], [24, 393], [449, 181], [461, 4], [108, 449], [99, 4], [7, 181]]\n",
      "---------------------------\n"
     ]
    },
    {
     "name": "stderr",
     "output_type": "stream",
     "text": [
      "I0417 23:45:11.744449 139696977332032 <ipython-input-11-3340543714f4>:36] decode batch cost time : 0.02278265357017517 ms\n",
      "2020-04-17 23:45:11 - Transformer_no_pretrain - INFO: - decode batch cost time : 0.02302679419517517 ms\n",
      "I0417 23:45:11.935075 139696977332032 <ipython-input-11-3340543714f4>:36] decode batch cost time : 0.02302679419517517 ms\n",
      "2020-04-17 23:45:12 - Transformer_no_pretrain - INFO: - decode batch cost time : 0.022211015224456787 ms\n",
      "I0417 23:45:12.119059 139696977332032 <ipython-input-11-3340543714f4>:36] decode batch cost time : 0.022211015224456787 ms\n"
     ]
    },
    {
     "name": "stdout",
     "output_type": "stream",
     "text": [
      "predicted_words [[24, 393], [122, 846], [122, 461], [449, 181], [461, 4], [108, 449], [99, 4], [7, 181]]\n",
      "---------------------------\n",
      "predicted_words [[108, 449], [24, 393], [122, 461], [122, 846], [461, 4], [108, 449], [24, 380], [7, 181]]\n",
      "---------------------------\n"
     ]
    },
    {
     "name": "stderr",
     "output_type": "stream",
     "text": [
      "2020-04-17 23:45:12 - Transformer_no_pretrain - INFO: - decode batch cost time : 0.022858470678329468 ms\n",
      "I0417 23:45:12.308264 139696977332032 <ipython-input-11-3340543714f4>:36] decode batch cost time : 0.022858470678329468 ms\n",
      "2020-04-17 23:45:12 - Transformer_no_pretrain - INFO: - decode batch cost time : 0.02361583709716797 ms\n",
      "I0417 23:45:12.505709 139696977332032 <ipython-input-11-3340543714f4>:36] decode batch cost time : 0.02361583709716797 ms\n"
     ]
    },
    {
     "name": "stdout",
     "output_type": "stream",
     "text": [
      "predicted_words [[24, 393], [122, 846], [24, 393], [449, 181], [461, 4], [108, 449], [99, 4], [7, 181]]\n",
      "---------------------------\n",
      "predicted_words [[149, 449], [449, 181], [122, 461], [122, 846], [461, 4], [108, 449], [9, 4], [7, 181]]\n",
      "---------------------------\n"
     ]
    },
    {
     "name": "stderr",
     "output_type": "stream",
     "text": [
      "2020-04-17 23:45:12 - Transformer_no_pretrain - INFO: - decode batch cost time : 0.023145049810409546 ms\n",
      "I0417 23:45:12.704746 139696977332032 <ipython-input-11-3340543714f4>:36] decode batch cost time : 0.023145049810409546 ms\n",
      "2020-04-17 23:45:12 - Transformer_no_pretrain - INFO: - decode batch cost time : 0.022498726844787598 ms\n",
      "I0417 23:45:12.891107 139696977332032 <ipython-input-11-3340543714f4>:36] decode batch cost time : 0.022498726844787598 ms\n"
     ]
    },
    {
     "name": "stdout",
     "output_type": "stream",
     "text": [
      "predicted_words [[149, 449], [449, 181], [122, 461], [122, 846], [461, 4], [108, 449], [9, 4], [7, 181]]\n",
      "---------------------------\n",
      "predicted_words [[149, 449], [4, 393], [1024, 181], [231, 149], [122, 461], [24, 393], [24, 380], [108, 74]]\n",
      "---------------------------\n"
     ]
    },
    {
     "name": "stderr",
     "output_type": "stream",
     "text": [
      "2020-04-17 23:45:13 - Transformer_no_pretrain - INFO: - decode batch cost time : 0.023031920194625854 ms\n",
      "I0417 23:45:13.081748 139696977332032 <ipython-input-11-3340543714f4>:36] decode batch cost time : 0.023031920194625854 ms\n",
      "2020-04-17 23:45:13 - Transformer_no_pretrain - INFO: - decode batch cost time : 0.022167086601257324 ms\n",
      "I0417 23:45:13.265367 139696977332032 <ipython-input-11-3340543714f4>:36] decode batch cost time : 0.022167086601257324 ms\n"
     ]
    },
    {
     "name": "stdout",
     "output_type": "stream",
     "text": [
      "predicted_words [[149, 449], [4, 393], [108, 393], [171, 149], [99, 4], [108, 449], [24, 380], [122, 846]]\n",
      "---------------------------\n",
      "predicted_words [[149, 449], [4, 393], [108, 393], [171, 149], [99, 4], [108, 449], [24, 380], [122, 846]]\n",
      "---------------------------\n"
     ]
    },
    {
     "name": "stderr",
     "output_type": "stream",
     "text": [
      "2020-04-17 23:45:13 - Transformer_no_pretrain - INFO: - decode batch cost time : 0.022083431482315063 ms\n",
      "I0417 23:45:13.448419 139696977332032 <ipython-input-11-3340543714f4>:36] decode batch cost time : 0.022083431482315063 ms\n",
      "2020-04-17 23:45:13 - Transformer_no_pretrain - INFO: - decode batch cost time : 0.021351099014282227 ms\n",
      "I0417 23:45:13.625926 139696977332032 <ipython-input-11-3340543714f4>:36] decode batch cost time : 0.021351099014282227 ms\n"
     ]
    },
    {
     "name": "stdout",
     "output_type": "stream",
     "text": [
      "predicted_words [[149, 449], [1024, 181], [122, 461], [461, 9], [461, 4], [108, 449], [9, 4], [7, 181]]\n",
      "---------------------------\n",
      "predicted_words [[149, 449], [449, 181], [122, 461], [122, 846], [461, 4], [108, 449], [9, 4], [24, 393]]\n",
      "---------------------------\n"
     ]
    },
    {
     "name": "stderr",
     "output_type": "stream",
     "text": [
      "2020-04-17 23:45:13 - Transformer_no_pretrain - INFO: - decode batch cost time : 0.02228948473930359 ms\n",
      "I0417 23:45:13.810760 139696977332032 <ipython-input-11-3340543714f4>:36] decode batch cost time : 0.02228948473930359 ms\n",
      "2020-04-17 23:45:14 - Transformer_no_pretrain - INFO: - decode batch cost time : 0.023780614137649536 ms\n",
      "I0417 23:45:14.008559 139696977332032 <ipython-input-11-3340543714f4>:36] decode batch cost time : 0.023780614137649536 ms\n"
     ]
    },
    {
     "name": "stdout",
     "output_type": "stream",
     "text": [
      "predicted_words [[149, 449], [4, 393], [122, 461], [122, 846], [461, 4], [108, 449], [99, 4], [7, 181]]\n",
      "---------------------------\n",
      "predicted_words [[149, 449], [1024, 181], [122, 461], [122, 846], [461, 4], [108, 449], [9, 4], [7, 181]]\n",
      "---------------------------\n"
     ]
    },
    {
     "name": "stderr",
     "output_type": "stream",
     "text": [
      "2020-04-17 23:45:14 - Transformer_no_pretrain - INFO: - decode batch cost time : 0.021995484828948975 ms\n",
      "I0417 23:45:14.192573 139696977332032 <ipython-input-11-3340543714f4>:36] decode batch cost time : 0.021995484828948975 ms\n",
      "2020-04-17 23:45:14 - Transformer_no_pretrain - INFO: - decode batch cost time : 0.022637873888015747 ms\n",
      "I0417 23:45:14.380622 139696977332032 <ipython-input-11-3340543714f4>:36] decode batch cost time : 0.022637873888015747 ms\n"
     ]
    },
    {
     "name": "stdout",
     "output_type": "stream",
     "text": [
      "predicted_words [[149, 449], [449, 181], [122, 461], [122, 846], [122, 461], [149, 449], [99, 4], [7, 181]]\n",
      "---------------------------\n",
      "predicted_words [[24, 393], [4, 393], [1024, 181], [122, 846], [461, 4], [108, 449], [9, 4], [7, 181]]\n",
      "---------------------------\n"
     ]
    },
    {
     "name": "stderr",
     "output_type": "stream",
     "text": [
      "2020-04-17 23:45:14 - Transformer_no_pretrain - INFO: - decode batch cost time : 0.021515846252441406 ms\n",
      "I0417 23:45:14.559944 139696977332032 <ipython-input-11-3340543714f4>:36] decode batch cost time : 0.021515846252441406 ms\n",
      "2020-04-17 23:45:14 - Transformer_no_pretrain - INFO: - decode batch cost time : 0.021641165018081665 ms\n",
      "I0417 23:45:14.740496 139696977332032 <ipython-input-11-3340543714f4>:36] decode batch cost time : 0.021641165018081665 ms\n"
     ]
    },
    {
     "name": "stdout",
     "output_type": "stream",
     "text": [
      "predicted_words [[24, 393], [4, 393], [1024, 181], [122, 846], [461, 4], [108, 449], [9, 4], [7, 181]]\n",
      "---------------------------\n",
      "predicted_words [[4, 393], [231, 149], [1024, 181], [122, 1024], [62, 59], [122, 461], [461, 4], [24, 393]]\n",
      "---------------------------\n"
     ]
    },
    {
     "name": "stderr",
     "output_type": "stream",
     "text": [
      "2020-04-17 23:45:14 - Transformer_no_pretrain - INFO: - decode batch cost time : 0.02241438627243042 ms\n",
      "I0417 23:45:14.926501 139696977332032 <ipython-input-11-3340543714f4>:36] decode batch cost time : 0.02241438627243042 ms\n",
      "2020-04-17 23:45:15 - Transformer_no_pretrain - INFO: - decode batch cost time : 0.022514820098876953 ms\n",
      "I0417 23:45:15.113376 139696977332032 <ipython-input-11-3340543714f4>:36] decode batch cost time : 0.022514820098876953 ms\n"
     ]
    },
    {
     "name": "stdout",
     "output_type": "stream",
     "text": [
      "predicted_words [[4, 393], [231, 149], [1024, 181], [122, 1024], [62, 59], [122, 461], [231, 4], [24, 393]]\n",
      "---------------------------\n",
      "predicted_words [[4, 393], [231, 149], [1024, 181], [122, 1024], [62, 59], [122, 461], [231, 4], [24, 393]]\n",
      "---------------------------\n"
     ]
    },
    {
     "name": "stderr",
     "output_type": "stream",
     "text": [
      "2020-04-17 23:45:15 - Transformer_no_pretrain - INFO: - decode batch cost time : 0.023017287254333496 ms\n",
      "I0417 23:45:15.305410 139696977332032 <ipython-input-11-3340543714f4>:36] decode batch cost time : 0.023017287254333496 ms\n",
      "2020-04-17 23:45:15 - Transformer_no_pretrain - INFO: - decode batch cost time : 0.022860705852508545 ms\n",
      "I0417 23:45:15.495850 139696977332032 <ipython-input-11-3340543714f4>:36] decode batch cost time : 0.022860705852508545 ms\n"
     ]
    },
    {
     "name": "stdout",
     "output_type": "stream",
     "text": [
      "predicted_words [[4, 393], [231, 149], [1024, 181], [122, 1024], [62, 59], [122, 461], [231, 4], [24, 393]]\n",
      "---------------------------\n",
      "predicted_words [[4, 393], [231, 149], [1024, 181], [122, 1024], [62, 59], [122, 461], [231, 4], [24, 393]]\n",
      "---------------------------\n"
     ]
    },
    {
     "name": "stderr",
     "output_type": "stream",
     "text": [
      "2020-04-17 23:45:15 - Transformer_no_pretrain - INFO: - decode batch cost time : 0.024132996797561646 ms\n",
      "I0417 23:45:15.704446 139696977332032 <ipython-input-11-3340543714f4>:36] decode batch cost time : 0.024132996797561646 ms\n",
      "2020-04-17 23:45:15 - Transformer_no_pretrain - INFO: - decode batch cost time : 0.02369794249534607 ms\n",
      "I0417 23:45:15.900824 139696977332032 <ipython-input-11-3340543714f4>:36] decode batch cost time : 0.02369794249534607 ms\n"
     ]
    },
    {
     "name": "stdout",
     "output_type": "stream",
     "text": [
      "predicted_words [[24, 393], [1024, 181], [122, 461], [122, 846], [461, 4], [108, 449], [9, 4], [7, 181]]\n",
      "---------------------------\n",
      "predicted_words [[149, 449], [1024, 181], [122, 461], [122, 846], [461, 4], [108, 449], [9, 4], [7, 181]]\n",
      "---------------------------\n"
     ]
    },
    {
     "name": "stderr",
     "output_type": "stream",
     "text": [
      "2020-04-17 23:45:16 - Transformer_no_pretrain - INFO: - decode batch cost time : 0.02405226230621338 ms\n",
      "I0417 23:45:16.103467 139696977332032 <ipython-input-11-3340543714f4>:36] decode batch cost time : 0.02405226230621338 ms\n",
      "2020-04-17 23:45:16 - Transformer_no_pretrain - INFO: - decode batch cost time : 0.02266383171081543 ms\n",
      "I0417 23:45:16.292079 139696977332032 <ipython-input-11-3340543714f4>:36] decode batch cost time : 0.02266383171081543 ms\n"
     ]
    },
    {
     "name": "stdout",
     "output_type": "stream",
     "text": [
      "predicted_words [[24, 393], [4, 393], [1024, 181], [122, 846], [461, 4], [231, 9], [9, 4], [7, 181]]\n",
      "---------------------------\n",
      "predicted_words [[24, 393], [4, 393], [122, 461], [122, 846], [461, 4], [99, 9], [9, 4], [7, 181]]\n",
      "---------------------------\n"
     ]
    },
    {
     "name": "stderr",
     "output_type": "stream",
     "text": [
      "2020-04-17 23:45:16 - Transformer_no_pretrain - INFO: - decode batch cost time : 0.02360174059867859 ms\n",
      "I0417 23:45:16.488300 139696977332032 <ipython-input-11-3340543714f4>:36] decode batch cost time : 0.02360174059867859 ms\n",
      "2020-04-17 23:45:16 - Transformer_no_pretrain - INFO: - decode batch cost time : 0.022416383028030396 ms\n",
      "I0417 23:45:16.674827 139696977332032 <ipython-input-11-3340543714f4>:36] decode batch cost time : 0.022416383028030396 ms\n"
     ]
    },
    {
     "name": "stdout",
     "output_type": "stream",
     "text": [
      "predicted_words [[24, 393], [4, 393], [1024, 181], [461, 9], [461, 4], [99, 9], [9, 4], [7, 181]]\n",
      "---------------------------\n",
      "predicted_words [[149, 449], [4, 393], [24, 393], [122, 846], [461, 4], [108, 449], [99, 4], [7, 181]]\n",
      "---------------------------\n"
     ]
    },
    {
     "name": "stderr",
     "output_type": "stream",
     "text": [
      "2020-04-17 23:45:16 - Transformer_no_pretrain - INFO: - decode batch cost time : 0.024197906255722046 ms\n",
      "I0417 23:45:16.875575 139696977332032 <ipython-input-11-3340543714f4>:36] decode batch cost time : 0.024197906255722046 ms\n",
      "2020-04-17 23:45:17 - Transformer_no_pretrain - INFO: - decode batch cost time : 0.02231428027153015 ms\n",
      "I0417 23:45:17.060487 139696977332032 <ipython-input-11-3340543714f4>:36] decode batch cost time : 0.02231428027153015 ms\n"
     ]
    },
    {
     "name": "stdout",
     "output_type": "stream",
     "text": [
      "predicted_words [[149, 449], [1024, 181], [122, 461], [122, 846], [461, 4], [108, 449], [9, 4], [7, 181]]\n",
      "---------------------------\n",
      "predicted_words [[149, 449], [1024, 181], [122, 461], [122, 846], [461, 4], [108, 449], [9, 4], [7, 181]]\n",
      "---------------------------\n"
     ]
    },
    {
     "name": "stderr",
     "output_type": "stream",
     "text": [
      "2020-04-17 23:45:17 - Transformer_no_pretrain - INFO: - decode batch cost time : 0.022927075624465942 ms\n",
      "I0417 23:45:17.250459 139696977332032 <ipython-input-11-3340543714f4>:36] decode batch cost time : 0.022927075624465942 ms\n",
      "2020-04-17 23:45:17 - Transformer_no_pretrain - INFO: - decode batch cost time : 0.02174079418182373 ms\n",
      "I0417 23:45:17.431344 139696977332032 <ipython-input-11-3340543714f4>:36] decode batch cost time : 0.02174079418182373 ms\n"
     ]
    },
    {
     "name": "stdout",
     "output_type": "stream",
     "text": [
      "predicted_words [[24, 393], [122, 846], [1024, 181], [231, 149], [461, 4], [149, 449], [24, 380], [122, 846]]\n",
      "---------------------------\n",
      "predicted_words [[149, 449], [122, 846], [1024, 181], [449, 181], [461, 4], [108, 393], [24, 380], [122, 846]]\n",
      "---------------------------\n"
     ]
    },
    {
     "name": "stderr",
     "output_type": "stream",
     "text": [
      "2020-04-17 23:45:17 - Transformer_no_pretrain - INFO: - decode batch cost time : 0.022568821907043457 ms\n",
      "I0417 23:45:17.619615 139696977332032 <ipython-input-11-3340543714f4>:36] decode batch cost time : 0.022568821907043457 ms\n",
      "2020-04-17 23:45:17 - Transformer_no_pretrain - INFO: - decode batch cost time : 0.023043185472488403 ms\n",
      "I0417 23:45:17.815132 139696977332032 <ipython-input-11-3340543714f4>:36] decode batch cost time : 0.023043185472488403 ms\n"
     ]
    },
    {
     "name": "stdout",
     "output_type": "stream",
     "text": [
      "predicted_words [[24, 393], [122, 846], [1024, 181], [231, 149], [461, 4], [149, 449], [24, 380], [122, 846]]\n",
      "---------------------------\n",
      "predicted_words [[149, 449], [449, 181], [122, 461], [122, 846], [461, 4], [108, 449], [24, 380], [7, 181]]\n",
      "---------------------------\n"
     ]
    },
    {
     "name": "stderr",
     "output_type": "stream",
     "text": [
      "2020-04-17 23:45:18 - Transformer_no_pretrain - INFO: - decode batch cost time : 0.025170594453811646 ms\n",
      "I0417 23:45:18.023391 139696977332032 <ipython-input-11-3340543714f4>:36] decode batch cost time : 0.025170594453811646 ms\n",
      "2020-04-17 23:45:18 - Transformer_no_pretrain - INFO: - decode batch cost time : 0.023020505905151367 ms\n",
      "I0417 23:45:18.214871 139696977332032 <ipython-input-11-3340543714f4>:36] decode batch cost time : 0.023020505905151367 ms\n"
     ]
    },
    {
     "name": "stdout",
     "output_type": "stream",
     "text": [
      "predicted_words [[149, 449], [449, 181], [122, 461], [122, 846], [461, 4], [108, 449], [24, 380], [24, 393]]\n",
      "---------------------------\n",
      "predicted_words [[149, 449], [449, 181], [122, 461], [122, 846], [461, 4], [108, 449], [24, 380], [7, 181]]\n",
      "---------------------------\n"
     ]
    },
    {
     "name": "stderr",
     "output_type": "stream",
     "text": [
      "2020-04-17 23:45:18 - Transformer_no_pretrain - INFO: - decode batch cost time : 0.023722320795059204 ms\n",
      "I0417 23:45:18.412188 139696977332032 <ipython-input-11-3340543714f4>:36] decode batch cost time : 0.023722320795059204 ms\n",
      "2020-04-17 23:45:18 - Transformer_no_pretrain - INFO: - decode batch cost time : 0.022369712591171265 ms\n",
      "I0417 23:45:18.607282 139696977332032 <ipython-input-11-3340543714f4>:36] decode batch cost time : 0.022369712591171265 ms\n"
     ]
    },
    {
     "name": "stdout",
     "output_type": "stream",
     "text": [
      "predicted_words [[149, 449], [449, 181], [122, 461], [122, 846], [461, 4], [108, 449], [24, 380], [7, 181]]\n",
      "---------------------------\n",
      "predicted_words [[108, 449], [122, 846], [24, 393], [449, 181], [461, 4], [108, 449], [99, 4], [7, 181]]\n",
      "---------------------------\n"
     ]
    },
    {
     "name": "stderr",
     "output_type": "stream",
     "text": [
      "2020-04-17 23:45:18 - Transformer_no_pretrain - INFO: - decode batch cost time : 0.024441182613372803 ms\n",
      "I0417 23:45:18.809845 139696977332032 <ipython-input-11-3340543714f4>:36] decode batch cost time : 0.024441182613372803 ms\n",
      "2020-04-17 23:45:19 - Transformer_no_pretrain - INFO: - decode batch cost time : 0.022917062044143677 ms\n",
      "I0417 23:45:19.000323 139696977332032 <ipython-input-11-3340543714f4>:36] decode batch cost time : 0.022917062044143677 ms\n"
     ]
    },
    {
     "name": "stdout",
     "output_type": "stream",
     "text": [
      "predicted_words [[108, 449], [24, 393], [122, 461], [122, 846], [461, 4], [108, 449], [99, 4], [7, 181]]\n",
      "---------------------------\n",
      "predicted_words [[108, 449], [24, 393], [122, 461], [122, 846], [461, 4], [108, 449], [99, 4], [7, 181]]\n",
      "---------------------------\n"
     ]
    },
    {
     "name": "stderr",
     "output_type": "stream",
     "text": [
      "2020-04-17 23:45:19 - Transformer_no_pretrain - INFO: - decode batch cost time : 0.02482953667640686 ms\n",
      "I0417 23:45:19.206302 139696977332032 <ipython-input-11-3340543714f4>:36] decode batch cost time : 0.02482953667640686 ms\n"
     ]
    },
    {
     "name": "stdout",
     "output_type": "stream",
     "text": [
      "predicted_words [[108, 449], [24, 393], [122, 461], [122, 846], [461, 4], [108, 449], [99, 4], [7, 181]]\n",
      "---------------------------\n"
     ]
    },
    {
     "name": "stderr",
     "output_type": "stream",
     "text": [
      "2020-04-17 23:45:19 - Transformer_no_pretrain - INFO: - decode batch cost time : 0.02413836121559143 ms\n",
      "I0417 23:45:19.415599 139696977332032 <ipython-input-11-3340543714f4>:36] decode batch cost time : 0.02413836121559143 ms\n",
      "2020-04-17 23:45:19 - Transformer_no_pretrain - INFO: - decode batch cost time : 0.022464215755462646 ms\n",
      "I0417 23:45:19.603404 139696977332032 <ipython-input-11-3340543714f4>:36] decode batch cost time : 0.022464215755462646 ms\n"
     ]
    },
    {
     "name": "stdout",
     "output_type": "stream",
     "text": [
      "predicted_words [[149, 449], [1024, 181], [122, 461], [122, 846], [461, 4], [108, 449], [99, 4], [7, 181]]\n",
      "---------------------------\n",
      "predicted_words [[149, 449], [4, 393], [122, 461], [122, 846], [461, 4], [108, 449], [9, 4], [7, 181]]\n",
      "---------------------------\n"
     ]
    },
    {
     "name": "stderr",
     "output_type": "stream",
     "text": [
      "2020-04-17 23:45:19 - Transformer_no_pretrain - INFO: - decode batch cost time : 0.026505082845687866 ms\n",
      "I0417 23:45:19.826768 139696977332032 <ipython-input-11-3340543714f4>:36] decode batch cost time : 0.026505082845687866 ms\n",
      "2020-04-17 23:45:20 - Transformer_no_pretrain - INFO: - decode batch cost time : 0.02255880832672119 ms\n",
      "I0417 23:45:20.023538 139696977332032 <ipython-input-11-3340543714f4>:36] decode batch cost time : 0.02255880832672119 ms\n"
     ]
    },
    {
     "name": "stdout",
     "output_type": "stream",
     "text": [
      "predicted_words [[149, 449], [449, 181], [122, 461], [122, 846], [461, 4], [108, 449], [9, 4], [7, 181]]\n",
      "---------------------------\n",
      "predicted_words [[4, 393], [108, 74], [24, 393], [231, 149], [62, 59], [149, 449], [181, 59], [7, 181]]\n",
      "---------------------------\n"
     ]
    },
    {
     "name": "stderr",
     "output_type": "stream",
     "text": [
      "2020-04-17 23:45:20 - Transformer_no_pretrain - INFO: - decode batch cost time : 0.02213972806930542 ms\n",
      "I0417 23:45:20.207433 139696977332032 <ipython-input-11-3340543714f4>:36] decode batch cost time : 0.02213972806930542 ms\n",
      "2020-04-17 23:45:20 - Transformer_no_pretrain - INFO: - decode batch cost time : 0.023381352424621582 ms\n",
      "I0417 23:45:20.401353 139696977332032 <ipython-input-11-3340543714f4>:36] decode batch cost time : 0.023381352424621582 ms\n"
     ]
    },
    {
     "name": "stdout",
     "output_type": "stream",
     "text": [
      "predicted_words [[4, 393], [108, 74], [24, 393], [231, 149], [62, 59], [149, 449], [181, 59], [7, 181]]\n",
      "---------------------------\n",
      "predicted_words [[24, 393], [4, 393], [24, 393], [122, 846], [461, 4], [108, 449], [99, 4], [7, 181]]\n",
      "---------------------------\n"
     ]
    },
    {
     "name": "stderr",
     "output_type": "stream",
     "text": [
      "2020-04-17 23:45:20 - Transformer_no_pretrain - INFO: - decode batch cost time : 0.023358792066574097 ms\n",
      "I0417 23:45:20.594764 139696977332032 <ipython-input-11-3340543714f4>:36] decode batch cost time : 0.023358792066574097 ms\n",
      "2020-04-17 23:45:20 - Transformer_no_pretrain - INFO: - decode batch cost time : 0.022549480199813843 ms\n",
      "I0417 23:45:20.782665 139696977332032 <ipython-input-11-3340543714f4>:36] decode batch cost time : 0.022549480199813843 ms\n"
     ]
    },
    {
     "name": "stdout",
     "output_type": "stream",
     "text": [
      "predicted_words [[149, 449], [449, 181], [122, 461], [122, 846], [461, 4], [108, 449], [9, 4], [7, 181]]\n",
      "---------------------------\n",
      "predicted_words [[149, 449], [1024, 181], [122, 461], [122, 846], [461, 4], [108, 449], [9, 4], [7, 181]]\n",
      "---------------------------\n"
     ]
    },
    {
     "name": "stderr",
     "output_type": "stream",
     "text": [
      "2020-04-17 23:45:20 - Transformer_no_pretrain - INFO: - decode batch cost time : 0.02273958921432495 ms\n",
      "I0417 23:45:20.972027 139696977332032 <ipython-input-11-3340543714f4>:36] decode batch cost time : 0.02273958921432495 ms\n",
      "2020-04-17 23:45:21 - Transformer_no_pretrain - INFO: - decode batch cost time : 0.022289574146270752 ms\n",
      "I0417 23:45:21.157061 139696977332032 <ipython-input-11-3340543714f4>:36] decode batch cost time : 0.022289574146270752 ms\n"
     ]
    },
    {
     "name": "stdout",
     "output_type": "stream",
     "text": [
      "predicted_words [[108, 449], [24, 393], [24, 393], [122, 846], [461, 4], [108, 449], [99, 4], [7, 181]]\n",
      "---------------------------\n",
      "predicted_words [[108, 449], [24, 393], [122, 461], [122, 846], [461, 4], [108, 449], [99, 4], [7, 181]]\n",
      "---------------------------\n"
     ]
    },
    {
     "name": "stderr",
     "output_type": "stream",
     "text": [
      "2020-04-17 23:45:21 - Transformer_no_pretrain - INFO: - decode batch cost time : 0.022419363260269165 ms\n",
      "I0417 23:45:21.343421 139696977332032 <ipython-input-11-3340543714f4>:36] decode batch cost time : 0.022419363260269165 ms\n",
      "2020-04-17 23:45:21 - Transformer_no_pretrain - INFO: - decode batch cost time : 0.022114276885986328 ms\n",
      "I0417 23:45:21.527523 139696977332032 <ipython-input-11-3340543714f4>:36] decode batch cost time : 0.022114276885986328 ms\n"
     ]
    },
    {
     "name": "stdout",
     "output_type": "stream",
     "text": [
      "predicted_words [[108, 449], [24, 393], [24, 393], [122, 846], [461, 4], [108, 449], [99, 4], [7, 181]]\n",
      "---------------------------\n",
      "predicted_words [[149, 449], [449, 181], [122, 461], [122, 846], [461, 4], [108, 449], [9, 4], [7, 181]]\n",
      "---------------------------\n"
     ]
    },
    {
     "name": "stderr",
     "output_type": "stream",
     "text": [
      "2020-04-17 23:45:21 - Transformer_no_pretrain - INFO: - decode batch cost time : 0.02577275037765503 ms\n",
      "I0417 23:45:21.746321 139696977332032 <ipython-input-11-3340543714f4>:36] decode batch cost time : 0.02577275037765503 ms\n",
      "2020-04-17 23:45:21 - Transformer_no_pretrain - INFO: - decode batch cost time : 0.022559702396392822 ms\n",
      "I0417 23:45:21.943176 139696977332032 <ipython-input-11-3340543714f4>:36] decode batch cost time : 0.022559702396392822 ms\n"
     ]
    },
    {
     "name": "stdout",
     "output_type": "stream",
     "text": [
      "predicted_words [[149, 449], [449, 181], [122, 461], [122, 846], [461, 4], [108, 449], [9, 4], [7, 181]]\n",
      "---------------------------\n",
      "predicted_words [[149, 449], [449, 181], [122, 461], [122, 846], [461, 4], [108, 449], [9, 4], [7, 181]]\n",
      "---------------------------\n"
     ]
    },
    {
     "name": "stderr",
     "output_type": "stream",
     "text": [
      "2020-04-17 23:45:22 - Transformer_no_pretrain - INFO: - decode batch cost time : 0.02458435297012329 ms\n",
      "I0417 23:45:22.147058 139696977332032 <ipython-input-11-3340543714f4>:36] decode batch cost time : 0.02458435297012329 ms\n",
      "2020-04-17 23:45:22 - Transformer_no_pretrain - INFO: - decode batch cost time : 0.022237062454223633 ms\n",
      "I0417 23:45:22.331370 139696977332032 <ipython-input-11-3340543714f4>:36] decode batch cost time : 0.022237062454223633 ms\n"
     ]
    },
    {
     "name": "stdout",
     "output_type": "stream",
     "text": [
      "predicted_words [[24, 393], [1024, 181], [24, 393], [449, 181], [461, 4], [449, 181], [99, 4], [122, 846]]\n",
      "---------------------------\n",
      "predicted_words [[149, 449], [24, 393], [122, 461], [122, 846], [461, 4], [108, 449], [9, 4], [449, 181]]\n",
      "---------------------------\n"
     ]
    },
    {
     "name": "stderr",
     "output_type": "stream",
     "text": [
      "2020-04-17 23:45:22 - Transformer_no_pretrain - INFO: - decode batch cost time : 0.022568106651306152 ms\n",
      "I0417 23:45:22.518285 139696977332032 <ipython-input-11-3340543714f4>:36] decode batch cost time : 0.022568106651306152 ms\n"
     ]
    },
    {
     "name": "stdout",
     "output_type": "stream",
     "text": [
      "predicted_words [[149, 449], [24, 393], [122, 461], [122, 846], [461, 4], [108, 449], [9, 4], [449, 181]]\n",
      "---------------------------\n"
     ]
    },
    {
     "name": "stderr",
     "output_type": "stream",
     "text": [
      "2020-04-17 23:45:22 - Transformer_no_pretrain - INFO: - decode batch cost time : 0.024965763092041016 ms\n",
      "I0417 23:45:22.728822 139696977332032 <ipython-input-11-3340543714f4>:36] decode batch cost time : 0.024965763092041016 ms\n",
      "2020-04-17 23:45:22 - Transformer_no_pretrain - INFO: - decode batch cost time : 0.023099780082702637 ms\n",
      "I0417 23:45:22.921693 139696977332032 <ipython-input-11-3340543714f4>:36] decode batch cost time : 0.023099780082702637 ms\n"
     ]
    },
    {
     "name": "stdout",
     "output_type": "stream",
     "text": [
      "predicted_words [[108, 449], [24, 393], [122, 461], [122, 846], [461, 4], [108, 449], [9, 4], [7, 181]]\n",
      "---------------------------\n",
      "predicted_words [[24, 393], [4, 393], [1024, 181], [122, 846], [461, 4], [108, 449], [99, 4], [7, 181]]\n",
      "---------------------------\n"
     ]
    },
    {
     "name": "stderr",
     "output_type": "stream",
     "text": [
      "2020-04-17 23:45:23 - Transformer_no_pretrain - INFO: - decode batch cost time : 0.023112177848815918 ms\n",
      "I0417 23:45:23.114260 139696977332032 <ipython-input-11-3340543714f4>:36] decode batch cost time : 0.023112177848815918 ms\n",
      "2020-04-17 23:45:23 - Transformer_no_pretrain - INFO: - decode batch cost time : 0.02274724841117859 ms\n",
      "I0417 23:45:23.303716 139696977332032 <ipython-input-11-3340543714f4>:36] decode batch cost time : 0.02274724841117859 ms\n"
     ]
    },
    {
     "name": "stdout",
     "output_type": "stream",
     "text": [
      "predicted_words [[149, 449], [449, 181], [122, 461], [122, 846], [461, 4], [108, 449], [9, 4], [7, 181]]\n",
      "---------------------------\n",
      "predicted_words [[149, 449], [449, 181], [122, 461], [122, 846], [461, 4], [108, 449], [9, 4], [7, 181]]\n",
      "---------------------------\n"
     ]
    },
    {
     "name": "stderr",
     "output_type": "stream",
     "text": [
      "2020-04-17 23:45:23 - Transformer_no_pretrain - INFO: - decode batch cost time : 0.022708475589752197 ms\n",
      "I0417 23:45:23.493137 139696977332032 <ipython-input-11-3340543714f4>:36] decode batch cost time : 0.022708475589752197 ms\n"
     ]
    },
    {
     "name": "stdout",
     "output_type": "stream",
     "text": [
      "predicted_words [[149, 449], [1024, 181], [122, 461], [122, 846], [461, 4], [108, 449], [9, 4], [7, 181]]\n",
      "---------------------------\n"
     ]
    },
    {
     "name": "stderr",
     "output_type": "stream",
     "text": [
      "2020-04-17 23:45:23 - Transformer_no_pretrain - INFO: - decode batch cost time : 0.02387794852256775 ms\n",
      "I0417 23:45:23.695853 139696977332032 <ipython-input-11-3340543714f4>:36] decode batch cost time : 0.02387794852256775 ms\n",
      "2020-04-17 23:45:23 - Transformer_no_pretrain - INFO: - decode batch cost time : 0.022593647241592407 ms\n",
      "I0417 23:45:23.882987 139696977332032 <ipython-input-11-3340543714f4>:36] decode batch cost time : 0.022593647241592407 ms\n"
     ]
    },
    {
     "name": "stdout",
     "output_type": "stream",
     "text": [
      "predicted_words [[149, 449], [4, 393], [1024, 181], [122, 846], [461, 4], [108, 449], [9, 4], [7, 181]]\n",
      "---------------------------\n",
      "predicted_words [[149, 449], [449, 181], [122, 461], [122, 846], [461, 4], [108, 449], [9, 4], [7, 181]]\n",
      "---------------------------\n"
     ]
    },
    {
     "name": "stderr",
     "output_type": "stream",
     "text": [
      "2020-04-17 23:45:24 - Transformer_no_pretrain - INFO: - decode batch cost time : 0.02332395315170288 ms\n",
      "I0417 23:45:24.075932 139696977332032 <ipython-input-11-3340543714f4>:36] decode batch cost time : 0.02332395315170288 ms\n",
      "2020-04-17 23:45:24 - Transformer_no_pretrain - INFO: - decode batch cost time : 0.023975521326065063 ms\n",
      "I0417 23:45:24.274426 139696977332032 <ipython-input-11-3340543714f4>:36] decode batch cost time : 0.023975521326065063 ms\n"
     ]
    },
    {
     "name": "stdout",
     "output_type": "stream",
     "text": [
      "predicted_words [[149, 449], [449, 181], [122, 461], [122, 846], [461, 4], [108, 449], [9, 4], [449, 181]]\n",
      "---------------------------\n",
      "predicted_words [[149, 449], [449, 181], [122, 461], [122, 846], [461, 4], [108, 449], [9, 4], [7, 181]]\n",
      "---------------------------\n"
     ]
    },
    {
     "name": "stderr",
     "output_type": "stream",
     "text": [
      "2020-04-17 23:45:24 - Transformer_no_pretrain - INFO: - decode batch cost time : 0.023900359869003296 ms\n",
      "I0417 23:45:24.472610 139696977332032 <ipython-input-11-3340543714f4>:36] decode batch cost time : 0.023900359869003296 ms\n",
      "2020-04-17 23:45:24 - Transformer_no_pretrain - INFO: - decode batch cost time : 0.022178977727890015 ms\n",
      "I0417 23:45:24.657368 139696977332032 <ipython-input-11-3340543714f4>:36] decode batch cost time : 0.022178977727890015 ms\n"
     ]
    },
    {
     "name": "stdout",
     "output_type": "stream",
     "text": [
      "predicted_words [[149, 449], [1024, 181], [122, 461], [122, 846], [461, 4], [108, 449], [9, 4], [7, 181]]\n",
      "---------------------------\n",
      "predicted_words [[149, 449], [1024, 181], [122, 461], [122, 846], [461, 4], [108, 449], [9, 4], [7, 181]]\n",
      "---------------------------\n"
     ]
    },
    {
     "name": "stderr",
     "output_type": "stream",
     "text": [
      "2020-04-17 23:45:24 - Transformer_no_pretrain - INFO: - decode batch cost time : 0.022185832262039185 ms\n",
      "I0417 23:45:24.841483 139696977332032 <ipython-input-11-3340543714f4>:36] decode batch cost time : 0.022185832262039185 ms\n",
      "2020-04-17 23:45:25 - Transformer_no_pretrain - INFO: - decode batch cost time : 0.021650761365890503 ms\n",
      "I0417 23:45:25.021361 139696977332032 <ipython-input-11-3340543714f4>:36] decode batch cost time : 0.021650761365890503 ms\n"
     ]
    },
    {
     "name": "stdout",
     "output_type": "stream",
     "text": [
      "predicted_words [[24, 393], [1024, 181], [1024, 181], [122, 846], [461, 4], [108, 449], [9, 4], [7, 181]]\n",
      "---------------------------\n",
      "predicted_words [[24, 393], [4, 393], [1024, 181], [122, 846], [461, 4], [108, 449], [9, 4], [7, 181]]\n",
      "---------------------------\n"
     ]
    },
    {
     "name": "stderr",
     "output_type": "stream",
     "text": [
      "2020-04-17 23:45:25 - Transformer_no_pretrain - INFO: - decode batch cost time : 0.022188901901245117 ms\n",
      "I0417 23:45:25.206463 139696977332032 <ipython-input-11-3340543714f4>:36] decode batch cost time : 0.022188901901245117 ms\n",
      "2020-04-17 23:45:25 - Transformer_no_pretrain - INFO: - decode batch cost time : 0.02231660485267639 ms\n",
      "I0417 23:45:25.392295 139696977332032 <ipython-input-11-3340543714f4>:36] decode batch cost time : 0.02231660485267639 ms\n"
     ]
    },
    {
     "name": "stdout",
     "output_type": "stream",
     "text": [
      "predicted_words [[149, 449], [449, 181], [122, 461], [122, 846], [461, 4], [108, 449], [9, 4], [7, 181]]\n",
      "---------------------------\n",
      "predicted_words [[149, 449], [449, 181], [122, 461], [122, 846], [461, 4], [108, 449], [9, 4], [449, 181]]\n",
      "---------------------------\n"
     ]
    },
    {
     "name": "stderr",
     "output_type": "stream",
     "text": [
      "2020-04-17 23:45:25 - Transformer_no_pretrain - INFO: - decode batch cost time : 0.023660868406295776 ms\n",
      "I0417 23:45:25.588372 139696977332032 <ipython-input-11-3340543714f4>:36] decode batch cost time : 0.023660868406295776 ms\n",
      "2020-04-17 23:45:25 - Transformer_no_pretrain - INFO: - decode batch cost time : 0.022564351558685303 ms\n",
      "I0417 23:45:25.775469 139696977332032 <ipython-input-11-3340543714f4>:36] decode batch cost time : 0.022564351558685303 ms\n"
     ]
    },
    {
     "name": "stdout",
     "output_type": "stream",
     "text": [
      "predicted_words [[149, 449], [4, 393], [1024, 181], [122, 846], [461, 4], [108, 449], [9, 4], [7, 181]]\n",
      "---------------------------\n",
      "predicted_words [[149, 449], [449, 181], [122, 461], [122, 846], [461, 4], [108, 449], [9, 4], [7, 181]]\n",
      "---------------------------\n"
     ]
    },
    {
     "name": "stderr",
     "output_type": "stream",
     "text": [
      "2020-04-17 23:45:25 - Transformer_no_pretrain - INFO: - decode batch cost time : 0.02291208505630493 ms\n",
      "I0417 23:45:25.966381 139696977332032 <ipython-input-11-3340543714f4>:36] decode batch cost time : 0.02291208505630493 ms\n",
      "2020-04-17 23:45:26 - Transformer_no_pretrain - INFO: - decode batch cost time : 0.022555679082870483 ms\n",
      "I0417 23:45:26.154455 139696977332032 <ipython-input-11-3340543714f4>:36] decode batch cost time : 0.022555679082870483 ms\n"
     ]
    },
    {
     "name": "stdout",
     "output_type": "stream",
     "text": [
      "predicted_words [[149, 449], [449, 181], [122, 461], [122, 846], [461, 4], [108, 449], [24, 380], [7, 181]]\n",
      "---------------------------\n",
      "predicted_words [[24, 393], [108, 74], [24, 393], [122, 846], [461, 4], [108, 449], [9, 4], [449, 181]]\n",
      "---------------------------\n"
     ]
    },
    {
     "name": "stderr",
     "output_type": "stream",
     "text": [
      "2020-04-17 23:45:26 - Transformer_no_pretrain - INFO: - decode batch cost time : 0.022867292165756226 ms\n",
      "I0417 23:45:26.345158 139696977332032 <ipython-input-11-3340543714f4>:36] decode batch cost time : 0.022867292165756226 ms\n",
      "2020-04-17 23:45:26 - Transformer_no_pretrain - INFO: - decode batch cost time : 0.022347241640090942 ms\n",
      "I0417 23:45:26.531497 139696977332032 <ipython-input-11-3340543714f4>:36] decode batch cost time : 0.022347241640090942 ms\n"
     ]
    },
    {
     "name": "stdout",
     "output_type": "stream",
     "text": [
      "predicted_words [[24, 393], [108, 74], [24, 393], [122, 846], [122, 461], [108, 449], [9, 4], [449, 181]]\n",
      "---------------------------\n",
      "predicted_words [[149, 449], [1024, 181], [1024, 181], [122, 846], [461, 4], [108, 449], [99, 4], [7, 181]]\n",
      "---------------------------\n"
     ]
    },
    {
     "name": "stderr",
     "output_type": "stream",
     "text": [
      "2020-04-17 23:45:26 - Transformer_no_pretrain - INFO: - decode batch cost time : 0.023091763257980347 ms\n",
      "I0417 23:45:26.723792 139696977332032 <ipython-input-11-3340543714f4>:36] decode batch cost time : 0.023091763257980347 ms\n",
      "2020-04-17 23:45:26 - Transformer_no_pretrain - INFO: - decode batch cost time : 0.023178070783615112 ms\n",
      "I0417 23:45:26.916630 139696977332032 <ipython-input-11-3340543714f4>:36] decode batch cost time : 0.023178070783615112 ms\n"
     ]
    },
    {
     "name": "stdout",
     "output_type": "stream",
     "text": [
      "predicted_words [[149, 449], [449, 181], [122, 461], [122, 846], [461, 4], [108, 449], [9, 4], [7, 181]]\n",
      "---------------------------\n",
      "predicted_words [[149, 449], [449, 181], [122, 461], [122, 846], [461, 4], [108, 449], [9, 4], [7, 181]]\n",
      "---------------------------\n"
     ]
    },
    {
     "name": "stderr",
     "output_type": "stream",
     "text": [
      "2020-04-17 23:45:27 - Transformer_no_pretrain - INFO: - decode batch cost time : 0.023491263389587402 ms\n",
      "I0417 23:45:27.111293 139696977332032 <ipython-input-11-3340543714f4>:36] decode batch cost time : 0.023491263389587402 ms\n",
      "2020-04-17 23:45:27 - Transformer_no_pretrain - INFO: - decode batch cost time : 0.023447036743164062 ms\n",
      "I0417 23:45:27.305773 139696977332032 <ipython-input-11-3340543714f4>:36] decode batch cost time : 0.023447036743164062 ms\n"
     ]
    },
    {
     "name": "stdout",
     "output_type": "stream",
     "text": [
      "predicted_words [[149, 449], [449, 181], [122, 461], [122, 846], [461, 4], [108, 449], [9, 4], [7, 181]]\n",
      "---------------------------\n",
      "predicted_words [[108, 449], [24, 393], [122, 461], [122, 846], [461, 4], [108, 449], [9, 4], [7, 181]]\n",
      "---------------------------\n"
     ]
    },
    {
     "name": "stderr",
     "output_type": "stream",
     "text": [
      "2020-04-17 23:45:27 - Transformer_no_pretrain - INFO: - decode batch cost time : 0.022689998149871826 ms\n",
      "I0417 23:45:27.494933 139696977332032 <ipython-input-11-3340543714f4>:36] decode batch cost time : 0.022689998149871826 ms\n",
      "2020-04-17 23:45:27 - Transformer_no_pretrain - INFO: - decode batch cost time : 0.021809041500091553 ms\n",
      "I0417 23:45:27.676841 139696977332032 <ipython-input-11-3340543714f4>:36] decode batch cost time : 0.021809041500091553 ms\n"
     ]
    },
    {
     "name": "stdout",
     "output_type": "stream",
     "text": [
      "predicted_words [[108, 449], [24, 393], [1024, 181], [122, 846], [461, 4], [108, 449], [99, 4], [7, 181]]\n",
      "---------------------------\n",
      "predicted_words [[24, 393], [4, 393], [24, 393], [122, 846], [461, 4], [108, 449], [99, 4], [7, 181]]\n",
      "---------------------------\n"
     ]
    },
    {
     "name": "stderr",
     "output_type": "stream",
     "text": [
      "2020-04-17 23:45:27 - Transformer_no_pretrain - INFO: - decode batch cost time : 0.022423624992370605 ms\n",
      "I0417 23:45:27.863726 139696977332032 <ipython-input-11-3340543714f4>:36] decode batch cost time : 0.022423624992370605 ms\n",
      "2020-04-17 23:45:28 - Transformer_no_pretrain - INFO: - decode batch cost time : 0.02232670783996582 ms\n",
      "I0417 23:45:28.049934 139696977332032 <ipython-input-11-3340543714f4>:36] decode batch cost time : 0.02232670783996582 ms\n"
     ]
    },
    {
     "name": "stdout",
     "output_type": "stream",
     "text": [
      "predicted_words [[149, 449], [4, 393], [1024, 181], [122, 846], [461, 4], [108, 449], [9, 4], [7, 181]]\n",
      "---------------------------\n",
      "predicted_words [[149, 449], [1024, 181], [122, 461], [122, 846], [461, 4], [108, 449], [9, 4], [7, 181]]\n",
      "---------------------------\n"
     ]
    },
    {
     "name": "stderr",
     "output_type": "stream",
     "text": [
      "2020-04-17 23:45:28 - Transformer_no_pretrain - INFO: - decode batch cost time : 0.022988706827163696 ms\n",
      "I0417 23:45:28.241613 139696977332032 <ipython-input-11-3340543714f4>:36] decode batch cost time : 0.022988706827163696 ms\n",
      "2020-04-17 23:45:28 - Transformer_no_pretrain - INFO: - decode batch cost time : 0.0218808650970459 ms\n",
      "I0417 23:45:28.424426 139696977332032 <ipython-input-11-3340543714f4>:36] decode batch cost time : 0.0218808650970459 ms\n"
     ]
    },
    {
     "name": "stdout",
     "output_type": "stream",
     "text": [
      "predicted_words [[24, 393], [4, 393], [108, 449], [449, 181], [122, 461], [231, 9], [24, 380], [449, 181]]\n",
      "---------------------------\n",
      "predicted_words [[7, 9], [4, 393], [24, 393], [449, 181], [461, 4], [231, 9], [24, 380], [449, 181]]\n",
      "---------------------------\n"
     ]
    },
    {
     "name": "stderr",
     "output_type": "stream",
     "text": [
      "2020-04-17 23:45:28 - Transformer_no_pretrain - INFO: - decode batch cost time : 0.022186249494552612 ms\n",
      "I0417 23:45:28.609378 139696977332032 <ipython-input-11-3340543714f4>:36] decode batch cost time : 0.022186249494552612 ms\n",
      "2020-04-17 23:45:28 - Transformer_no_pretrain - INFO: - decode batch cost time : 0.021990984678268433 ms\n",
      "I0417 23:45:28.794883 139696977332032 <ipython-input-11-3340543714f4>:36] decode batch cost time : 0.021990984678268433 ms\n"
     ]
    },
    {
     "name": "stdout",
     "output_type": "stream",
     "text": [
      "predicted_words [[108, 449], [4, 393], [24, 393], [449, 181], [461, 4], [231, 9], [24, 380], [449, 181]]\n",
      "---------------------------\n",
      "predicted_words [[149, 449], [449, 181], [122, 461], [122, 846], [461, 4], [108, 449], [9, 4], [7, 181]]\n",
      "---------------------------\n"
     ]
    },
    {
     "name": "stderr",
     "output_type": "stream",
     "text": [
      "2020-04-17 23:45:28 - Transformer_no_pretrain - INFO: - decode batch cost time : 0.022606581449508667 ms\n",
      "I0417 23:45:28.983209 139696977332032 <ipython-input-11-3340543714f4>:36] decode batch cost time : 0.022606581449508667 ms\n",
      "2020-04-17 23:45:29 - Transformer_no_pretrain - INFO: - decode batch cost time : 0.022948622703552246 ms\n",
      "I0417 23:45:29.174321 139696977332032 <ipython-input-11-3340543714f4>:36] decode batch cost time : 0.022948622703552246 ms\n"
     ]
    },
    {
     "name": "stdout",
     "output_type": "stream",
     "text": [
      "predicted_words [[149, 449], [4, 393], [122, 461], [122, 846], [461, 4], [108, 449], [9, 4], [7, 181]]\n",
      "---------------------------\n",
      "predicted_words [[149, 449], [4, 393], [122, 461], [122, 846], [461, 4], [108, 449], [9, 4], [7, 181]]\n",
      "---------------------------\n"
     ]
    },
    {
     "name": "stderr",
     "output_type": "stream",
     "text": [
      "2020-04-17 23:45:29 - Transformer_no_pretrain - INFO: - decode batch cost time : 0.022689253091812134 ms\n",
      "I0417 23:45:29.368912 139696977332032 <ipython-input-11-3340543714f4>:36] decode batch cost time : 0.022689253091812134 ms\n"
     ]
    },
    {
     "name": "stdout",
     "output_type": "stream",
     "text": [
      "predicted_words [[108, 449], [24, 393], [122, 461], [122, 846], [461, 4], [108, 449], [9, 4], [7, 181]]\n",
      "---------------------------\n"
     ]
    },
    {
     "name": "stderr",
     "output_type": "stream",
     "text": [
      "2020-04-17 23:45:29 - Transformer_no_pretrain - INFO: - decode batch cost time : 0.025165081024169922 ms\n",
      "I0417 23:45:29.578256 139696977332032 <ipython-input-11-3340543714f4>:36] decode batch cost time : 0.025165081024169922 ms\n",
      "2020-04-17 23:45:29 - Transformer_no_pretrain - INFO: - decode batch cost time : 0.022905319929122925 ms\n",
      "I0417 23:45:29.769133 139696977332032 <ipython-input-11-3340543714f4>:36] decode batch cost time : 0.022905319929122925 ms\n"
     ]
    },
    {
     "name": "stdout",
     "output_type": "stream",
     "text": [
      "predicted_words [[24, 393], [24, 393], [1024, 181], [122, 846], [461, 4], [108, 449], [99, 4], [7, 181]]\n",
      "---------------------------\n",
      "predicted_words [[24, 393], [4, 393], [1024, 181], [122, 846], [461, 4], [108, 449], [99, 4], [7, 181]]\n",
      "---------------------------\n"
     ]
    },
    {
     "name": "stderr",
     "output_type": "stream",
     "text": [
      "2020-04-17 23:45:29 - Transformer_no_pretrain - INFO: - decode batch cost time : 0.022742092609405518 ms\n",
      "I0417 23:45:29.958737 139696977332032 <ipython-input-11-3340543714f4>:36] decode batch cost time : 0.022742092609405518 ms\n",
      "2020-04-17 23:45:30 - Transformer_no_pretrain - INFO: - decode batch cost time : 0.021852582693099976 ms\n",
      "I0417 23:45:30.141277 139696977332032 <ipython-input-11-3340543714f4>:36] decode batch cost time : 0.021852582693099976 ms\n"
     ]
    },
    {
     "name": "stdout",
     "output_type": "stream",
     "text": [
      "predicted_words [[149, 449], [449, 181], [122, 461], [122, 846], [461, 4], [108, 449], [9, 4], [7, 181]]\n",
      "---------------------------\n",
      "predicted_words [[149, 449], [449, 181], [122, 461], [122, 846], [461, 4], [108, 449], [9, 4], [7, 181]]\n",
      "---------------------------\n"
     ]
    },
    {
     "name": "stderr",
     "output_type": "stream",
     "text": [
      "2020-04-17 23:45:30 - Transformer_no_pretrain - INFO: - decode batch cost time : 0.022854387760162354 ms\n",
      "I0417 23:45:30.331438 139696977332032 <ipython-input-11-3340543714f4>:36] decode batch cost time : 0.022854387760162354 ms\n",
      "2020-04-17 23:45:30 - Transformer_no_pretrain - INFO: - decode batch cost time : 0.022513151168823242 ms\n",
      "I0417 23:45:30.518822 139696977332032 <ipython-input-11-3340543714f4>:36] decode batch cost time : 0.022513151168823242 ms\n"
     ]
    },
    {
     "name": "stdout",
     "output_type": "stream",
     "text": [
      "predicted_words [[149, 449], [449, 181], [122, 461], [122, 846], [461, 4], [108, 449], [9, 4], [7, 181]]\n",
      "---------------------------\n",
      "predicted_words [[24, 393], [1024, 181], [122, 461], [122, 846], [461, 4], [231, 9], [24, 380], [7, 181]]\n",
      "---------------------------\n"
     ]
    },
    {
     "name": "stderr",
     "output_type": "stream",
     "text": [
      "2020-04-17 23:45:30 - Transformer_no_pretrain - INFO: - decode batch cost time : 0.023568540811538696 ms\n",
      "I0417 23:45:30.713980 139696977332032 <ipython-input-11-3340543714f4>:36] decode batch cost time : 0.023568540811538696 ms\n",
      "2020-04-17 23:45:30 - Transformer_no_pretrain - INFO: - decode batch cost time : 0.02231156826019287 ms\n",
      "I0417 23:45:30.900045 139696977332032 <ipython-input-11-3340543714f4>:36] decode batch cost time : 0.02231156826019287 ms\n"
     ]
    },
    {
     "name": "stdout",
     "output_type": "stream",
     "text": [
      "predicted_words [[24, 393], [4, 393], [122, 461], [449, 181], [461, 4], [122, 461], [24, 380], [7, 181]]\n",
      "---------------------------\n",
      "predicted_words [[24, 393], [4, 393], [122, 461], [449, 181], [461, 4], [122, 461], [24, 380], [7, 181]]\n",
      "---------------------------\n"
     ]
    },
    {
     "name": "stderr",
     "output_type": "stream",
     "text": [
      "2020-04-17 23:45:31 - Transformer_no_pretrain - INFO: - decode batch cost time : 0.02285507321357727 ms\n",
      "I0417 23:45:31.090445 139696977332032 <ipython-input-11-3340543714f4>:36] decode batch cost time : 0.02285507321357727 ms\n",
      "2020-04-17 23:45:31 - Transformer_no_pretrain - INFO: - decode batch cost time : 0.021730870008468628 ms\n",
      "I0417 23:45:31.272236 139696977332032 <ipython-input-11-3340543714f4>:36] decode batch cost time : 0.021730870008468628 ms\n"
     ]
    },
    {
     "name": "stdout",
     "output_type": "stream",
     "text": [
      "predicted_words [[24, 393], [4, 393], [122, 461], [449, 181], [461, 4], [122, 461], [24, 380], [7, 181]]\n",
      "---------------------------\n",
      "predicted_words [[149, 449], [449, 181], [122, 461], [122, 846], [461, 4], [108, 449], [9, 4], [7, 181]]\n",
      "---------------------------\n"
     ]
    },
    {
     "name": "stderr",
     "output_type": "stream",
     "text": [
      "2020-04-17 23:45:31 - Transformer_no_pretrain - INFO: - decode batch cost time : 0.023937761783599854 ms\n",
      "I0417 23:45:31.471386 139696977332032 <ipython-input-11-3340543714f4>:36] decode batch cost time : 0.023937761783599854 ms\n"
     ]
    },
    {
     "name": "stdout",
     "output_type": "stream",
     "text": [
      "predicted_words [[149, 449], [449, 181], [122, 461], [122, 846], [461, 4], [108, 449], [9, 4], [7, 181]]\n",
      "---------------------------\n",
      "predicted_words [[149, 449], [4, 393], [122, 461], [122, 846], [461, 4], [108, 449], [9, 4], [7, 181]]\n",
      "---------------------------\n"
     ]
    },
    {
     "name": "stderr",
     "output_type": "stream",
     "text": [
      "2020-04-17 23:45:31 - Transformer_no_pretrain - INFO: - decode batch cost time : 0.023610979318618774 ms\n",
      "I0417 23:45:31.671134 139696977332032 <ipython-input-11-3340543714f4>:36] decode batch cost time : 0.023610979318618774 ms\n",
      "2020-04-17 23:45:31 - Transformer_no_pretrain - INFO: - decode batch cost time : 0.02278009057044983 ms\n",
      "I0417 23:45:31.861679 139696977332032 <ipython-input-11-3340543714f4>:36] decode batch cost time : 0.02278009057044983 ms\n",
      "2020-04-17 23:45:32 - Transformer_no_pretrain - INFO: - decode batch cost time : 0.02324974536895752 ms\n",
      "I0417 23:45:32.055175 139696977332032 <ipython-input-11-3340543714f4>:36] decode batch cost time : 0.02324974536895752 ms\n"
     ]
    },
    {
     "name": "stdout",
     "output_type": "stream",
     "text": [
      "predicted_words [[149, 449], [449, 181], [122, 461], [122, 846], [461, 4], [108, 449], [9, 4], [7, 181]]\n",
      "---------------------------\n",
      "predicted_words [[149, 449], [449, 181], [122, 461], [122, 846], [461, 4], [108, 449], [9, 4], [7, 181]]\n",
      "---------------------------\n"
     ]
    },
    {
     "name": "stderr",
     "output_type": "stream",
     "text": [
      "2020-04-17 23:45:32 - Transformer_no_pretrain - INFO: - decode batch cost time : 0.024324089288711548 ms\n",
      "I0417 23:45:32.257163 139696977332032 <ipython-input-11-3340543714f4>:36] decode batch cost time : 0.024324089288711548 ms\n",
      "2020-04-17 23:45:32 - Transformer_no_pretrain - INFO: - decode batch cost time : 0.023121178150177002 ms\n",
      "I0417 23:45:32.450645 139696977332032 <ipython-input-11-3340543714f4>:36] decode batch cost time : 0.023121178150177002 ms\n"
     ]
    },
    {
     "name": "stdout",
     "output_type": "stream",
     "text": [
      "predicted_words [[24, 393], [4, 393], [1024, 181], [122, 846], [461, 4], [108, 449], [99, 4], [7, 181]]\n",
      "---------------------------\n",
      "predicted_words [[149, 449], [1024, 181], [122, 461], [122, 846], [461, 4], [108, 449], [9, 4], [7, 181]]\n",
      "---------------------------\n"
     ]
    },
    {
     "name": "stderr",
     "output_type": "stream",
     "text": [
      "2020-04-17 23:45:32 - Transformer_no_pretrain - INFO: - decode batch cost time : 0.02509361505508423 ms\n",
      "I0417 23:45:32.658714 139696977332032 <ipython-input-11-3340543714f4>:36] decode batch cost time : 0.02509361505508423 ms\n",
      "2020-04-17 23:45:32 - Transformer_no_pretrain - INFO: - decode batch cost time : 0.02266484498977661 ms\n",
      "I0417 23:45:32.847364 139696977332032 <ipython-input-11-3340543714f4>:36] decode batch cost time : 0.02266484498977661 ms\n"
     ]
    },
    {
     "name": "stdout",
     "output_type": "stream",
     "text": [
      "predicted_words [[149, 449], [449, 181], [122, 461], [122, 846], [461, 4], [108, 449], [9, 4], [7, 181]]\n",
      "---------------------------\n",
      "predicted_words [[149, 449], [1024, 181], [122, 461], [122, 846], [461, 4], [108, 449], [9, 4], [7, 181]]\n",
      "---------------------------\n"
     ]
    },
    {
     "name": "stderr",
     "output_type": "stream",
     "text": [
      "2020-04-17 23:45:33 - Transformer_no_pretrain - INFO: - decode batch cost time : 0.023106098175048828 ms\n",
      "I0417 23:45:33.039663 139696977332032 <ipython-input-11-3340543714f4>:36] decode batch cost time : 0.023106098175048828 ms\n",
      "2020-04-17 23:45:33 - Transformer_no_pretrain - INFO: - decode batch cost time : 0.02350848913192749 ms\n",
      "I0417 23:45:33.235381 139696977332032 <ipython-input-11-3340543714f4>:36] decode batch cost time : 0.02350848913192749 ms\n"
     ]
    },
    {
     "name": "stdout",
     "output_type": "stream",
     "text": [
      "predicted_words [[24, 393], [4, 393], [1024, 181], [449, 181], [461, 4], [108, 449], [24, 380], [24, 393]]\n",
      "---------------------------\n",
      "predicted_words [[24, 393], [4, 393], [1024, 181], [449, 181], [461, 4], [108, 449], [24, 380], [24, 393]]\n",
      "---------------------------\n"
     ]
    },
    {
     "name": "stderr",
     "output_type": "stream",
     "text": [
      "2020-04-17 23:45:33 - Transformer_no_pretrain - INFO: - decode batch cost time : 0.024476319551467896 ms\n",
      "I0417 23:45:33.438025 139696977332032 <ipython-input-11-3340543714f4>:36] decode batch cost time : 0.024476319551467896 ms\n",
      "2020-04-17 23:45:33 - Transformer_no_pretrain - INFO: - decode batch cost time : 0.022982239723205566 ms\n",
      "I0417 23:45:33.629694 139696977332032 <ipython-input-11-3340543714f4>:36] decode batch cost time : 0.022982239723205566 ms\n"
     ]
    },
    {
     "name": "stdout",
     "output_type": "stream",
     "text": [
      "predicted_words [[24, 393], [4, 393], [1024, 181], [449, 181], [461, 4], [108, 449], [24, 380], [24, 393]]\n",
      "---------------------------\n",
      "predicted_words [[149, 449], [1024, 181], [122, 461], [122, 846], [461, 4], [108, 449], [9, 4], [7, 181]]\n",
      "---------------------------\n"
     ]
    },
    {
     "name": "stderr",
     "output_type": "stream",
     "text": [
      "2020-04-17 23:45:33 - Transformer_no_pretrain - INFO: - decode batch cost time : 0.024170249700546265 ms\n",
      "I0417 23:45:33.829853 139696977332032 <ipython-input-11-3340543714f4>:36] decode batch cost time : 0.024170249700546265 ms\n",
      "2020-04-17 23:45:34 - Transformer_no_pretrain - INFO: - decode batch cost time : 0.023202896118164062 ms\n",
      "I0417 23:45:34.026626 139696977332032 <ipython-input-11-3340543714f4>:36] decode batch cost time : 0.023202896118164062 ms\n"
     ]
    },
    {
     "name": "stdout",
     "output_type": "stream",
     "text": [
      "predicted_words [[149, 449], [1024, 181], [122, 461], [122, 846], [461, 4], [108, 449], [9, 4], [7, 181]]\n",
      "---------------------------\n",
      "predicted_words [[24, 393], [4, 393], [24, 393], [449, 181], [461, 4], [108, 449], [99, 4], [7, 181]]\n",
      "---------------------------\n"
     ]
    },
    {
     "name": "stderr",
     "output_type": "stream",
     "text": [
      "2020-04-17 23:45:34 - Transformer_no_pretrain - INFO: - decode batch cost time : 0.024685025215148926 ms\n",
      "I0417 23:45:34.231264 139696977332032 <ipython-input-11-3340543714f4>:36] decode batch cost time : 0.024685025215148926 ms\n",
      "2020-04-17 23:45:34 - Transformer_no_pretrain - INFO: - decode batch cost time : 0.0226706862449646 ms\n",
      "I0417 23:45:34.420403 139696977332032 <ipython-input-11-3340543714f4>:36] decode batch cost time : 0.0226706862449646 ms\n"
     ]
    },
    {
     "name": "stdout",
     "output_type": "stream",
     "text": [
      "predicted_words [[149, 449], [449, 181], [122, 461], [461, 9], [461, 4], [108, 449], [9, 4], [7, 181]]\n",
      "---------------------------\n",
      "predicted_words [[149, 449], [449, 181], [122, 461], [122, 846], [461, 4], [108, 449], [9, 4], [7, 181]]\n",
      "---------------------------\n"
     ]
    },
    {
     "name": "stderr",
     "output_type": "stream",
     "text": [
      "2020-04-17 23:45:34 - Transformer_no_pretrain - INFO: - decode batch cost time : 0.02450627088546753 ms\n",
      "I0417 23:45:34.624269 139696977332032 <ipython-input-11-3340543714f4>:36] decode batch cost time : 0.02450627088546753 ms\n"
     ]
    },
    {
     "name": "stdout",
     "output_type": "stream",
     "text": [
      "predicted_words [[149, 449], [1024, 181], [122, 461], [122, 846], [461, 4], [108, 449], [9, 4], [7, 181]]\n",
      "---------------------------\n"
     ]
    },
    {
     "name": "stderr",
     "output_type": "stream",
     "text": [
      "2020-04-17 23:45:34 - Transformer_no_pretrain - INFO: - decode batch cost time : 0.023891955614089966 ms\n",
      "I0417 23:45:34.828994 139696977332032 <ipython-input-11-3340543714f4>:36] decode batch cost time : 0.023891955614089966 ms\n",
      "2020-04-17 23:45:35 - Transformer_no_pretrain - INFO: - decode batch cost time : 0.02259036898612976 ms\n",
      "I0417 23:45:35.016729 139696977332032 <ipython-input-11-3340543714f4>:36] decode batch cost time : 0.02259036898612976 ms\n"
     ]
    },
    {
     "name": "stdout",
     "output_type": "stream",
     "text": [
      "predicted_words [[149, 449], [449, 181], [122, 461], [122, 846], [461, 4], [108, 449], [9, 4], [7, 181]]\n",
      "---------------------------\n",
      "predicted_words [[24, 393], [1024, 181], [1024, 181], [449, 181], [461, 4], [231, 9], [9, 4], [7, 181]]\n",
      "---------------------------\n"
     ]
    },
    {
     "name": "stderr",
     "output_type": "stream",
     "text": [
      "2020-04-17 23:45:35 - Transformer_no_pretrain - INFO: - decode batch cost time : 0.02295514941215515 ms\n",
      "I0417 23:45:35.207519 139696977332032 <ipython-input-11-3340543714f4>:36] decode batch cost time : 0.02295514941215515 ms\n",
      "2020-04-17 23:45:35 - Transformer_no_pretrain - INFO: - decode batch cost time : 0.023195743560791016 ms\n",
      "I0417 23:45:35.405076 139696977332032 <ipython-input-11-3340543714f4>:36] decode batch cost time : 0.023195743560791016 ms\n"
     ]
    },
    {
     "name": "stdout",
     "output_type": "stream",
     "text": [
      "predicted_words [[24, 393], [24, 393], [1024, 181], [449, 181], [461, 4], [99, 9], [9, 4], [7, 181]]\n",
      "---------------------------\n",
      "predicted_words [[24, 393], [4, 393], [1024, 181], [122, 846], [461, 4], [108, 449], [99, 4], [7, 181]]\n",
      "---------------------------\n"
     ]
    },
    {
     "name": "stderr",
     "output_type": "stream",
     "text": [
      "2020-04-17 23:45:35 - Transformer_no_pretrain - INFO: - decode batch cost time : 0.02345094084739685 ms\n",
      "I0417 23:45:35.600348 139696977332032 <ipython-input-11-3340543714f4>:36] decode batch cost time : 0.02345094084739685 ms\n",
      "2020-04-17 23:45:35 - Transformer_no_pretrain - INFO: - decode batch cost time : 0.023476481437683105 ms\n",
      "I0417 23:45:35.795771 139696977332032 <ipython-input-11-3340543714f4>:36] decode batch cost time : 0.023476481437683105 ms\n"
     ]
    },
    {
     "name": "stdout",
     "output_type": "stream",
     "text": [
      "predicted_words [[149, 449], [1024, 181], [122, 461], [122, 846], [461, 4], [108, 449], [9, 4], [7, 181]]\n",
      "---------------------------\n",
      "predicted_words [[149, 449], [1024, 181], [122, 461], [122, 846], [461, 4], [108, 449], [9, 4], [7, 181]]\n",
      "---------------------------\n"
     ]
    },
    {
     "name": "stderr",
     "output_type": "stream",
     "text": [
      "2020-04-17 23:45:35 - Transformer_no_pretrain - INFO: - decode batch cost time : 0.023414671421051025 ms\n",
      "I0417 23:45:35.991158 139696977332032 <ipython-input-11-3340543714f4>:36] decode batch cost time : 0.023414671421051025 ms\n",
      "2020-04-17 23:45:36 - Transformer_no_pretrain - INFO: - decode batch cost time : 0.022624045610427856 ms\n",
      "I0417 23:45:36.182179 139696977332032 <ipython-input-11-3340543714f4>:36] decode batch cost time : 0.022624045610427856 ms\n"
     ]
    },
    {
     "name": "stdout",
     "output_type": "stream",
     "text": [
      "predicted_words [[24, 393], [1024, 181], [24, 393], [449, 181], [461, 4], [108, 449], [99, 4], [7, 181]]\n",
      "---------------------------\n",
      "predicted_words [[24, 393], [24, 393], [1024, 181], [122, 846], [461, 4], [108, 449], [99, 4], [7, 181]]\n",
      "---------------------------\n"
     ]
    },
    {
     "name": "stderr",
     "output_type": "stream",
     "text": [
      "2020-04-17 23:45:36 - Transformer_no_pretrain - INFO: - decode batch cost time : 0.027068138122558594 ms\n",
      "I0417 23:45:36.405941 139696977332032 <ipython-input-11-3340543714f4>:36] decode batch cost time : 0.027068138122558594 ms\n",
      "2020-04-17 23:45:36 - Transformer_no_pretrain - INFO: - decode batch cost time : 0.023140907287597656 ms\n",
      "I0417 23:45:36.599192 139696977332032 <ipython-input-11-3340543714f4>:36] decode batch cost time : 0.023140907287597656 ms\n"
     ]
    },
    {
     "name": "stdout",
     "output_type": "stream",
     "text": [
      "predicted_words [[149, 449], [4, 393], [1024, 181], [122, 846], [461, 4], [149, 449], [99, 4], [7, 181]]\n",
      "---------------------------\n",
      "predicted_words [[149, 449], [1024, 181], [122, 461], [122, 846], [461, 4], [108, 449], [9, 4], [7, 181]]\n",
      "---------------------------\n"
     ]
    },
    {
     "name": "stderr",
     "output_type": "stream",
     "text": [
      "2020-04-17 23:45:36 - Transformer_no_pretrain - INFO: - decode batch cost time : 0.026237070560455322 ms\n",
      "I0417 23:45:36.816472 139696977332032 <ipython-input-11-3340543714f4>:36] decode batch cost time : 0.026237070560455322 ms\n",
      "2020-04-17 23:45:37 - Transformer_no_pretrain - INFO: - decode batch cost time : 0.023072868585586548 ms\n",
      "I0417 23:45:37.012381 139696977332032 <ipython-input-11-3340543714f4>:36] decode batch cost time : 0.023072868585586548 ms\n"
     ]
    },
    {
     "name": "stdout",
     "output_type": "stream",
     "text": [
      "predicted_words [[149, 449], [449, 181], [122, 461], [122, 846], [461, 4], [108, 449], [9, 4], [7, 181]]\n",
      "---------------------------\n",
      "predicted_words [[24, 393], [4, 393], [24, 393], [449, 181], [461, 4], [7, 9], [461, 4], [24, 393]]\n",
      "---------------------------\n"
     ]
    },
    {
     "name": "stderr",
     "output_type": "stream",
     "text": [
      "2020-04-17 23:45:37 - Transformer_no_pretrain - INFO: - decode batch cost time : 0.024813562631607056 ms\n",
      "I0417 23:45:37.223077 139696977332032 <ipython-input-11-3340543714f4>:36] decode batch cost time : 0.024813562631607056 ms\n"
     ]
    },
    {
     "name": "stdout",
     "output_type": "stream",
     "text": [
      "predicted_words [[231, 9], [4, 393], [122, 461], [122, 846], [461, 4], [122, 461], [461, 4], [449, 181]]\n",
      "---------------------------\n"
     ]
    },
    {
     "name": "stderr",
     "output_type": "stream",
     "text": [
      "2020-04-17 23:45:37 - Transformer_no_pretrain - INFO: - decode batch cost time : 0.022662967443466187 ms\n",
      "I0417 23:45:37.429405 139696977332032 <ipython-input-11-3340543714f4>:36] decode batch cost time : 0.022662967443466187 ms\n",
      "2020-04-17 23:45:37 - Transformer_no_pretrain - INFO: - decode batch cost time : 0.022370368242263794 ms\n",
      "I0417 23:45:37.615863 139696977332032 <ipython-input-11-3340543714f4>:36] decode batch cost time : 0.022370368242263794 ms\n"
     ]
    },
    {
     "name": "stdout",
     "output_type": "stream",
     "text": [
      "predicted_words [[24, 393], [1024, 181], [1024, 181], [449, 181], [461, 4], [108, 449], [9, 4], [7, 181]]\n",
      "---------------------------\n",
      "predicted_words [[149, 449], [1024, 181], [122, 461], [122, 846], [461, 4], [108, 449], [9, 4], [7, 181]]\n",
      "---------------------------\n"
     ]
    },
    {
     "name": "stderr",
     "output_type": "stream",
     "text": [
      "2020-04-17 23:45:37 - Transformer_no_pretrain - INFO: - decode batch cost time : 0.023205459117889404 ms\n",
      "I0417 23:45:37.808473 139696977332032 <ipython-input-11-3340543714f4>:36] decode batch cost time : 0.023205459117889404 ms\n",
      "2020-04-17 23:45:37 - Transformer_no_pretrain - INFO: - decode batch cost time : 0.022549480199813843 ms\n",
      "I0417 23:45:37.996089 139696977332032 <ipython-input-11-3340543714f4>:36] decode batch cost time : 0.022549480199813843 ms\n"
     ]
    },
    {
     "name": "stdout",
     "output_type": "stream",
     "text": [
      "predicted_words [[149, 449], [449, 181], [122, 461], [122, 846], [461, 4], [108, 449], [9, 4], [7, 181]]\n",
      "---------------------------\n",
      "predicted_words [[149, 449], [449, 181], [122, 461], [122, 846], [461, 4], [108, 449], [9, 4], [7, 181]]\n",
      "---------------------------\n"
     ]
    },
    {
     "name": "stderr",
     "output_type": "stream",
     "text": [
      "2020-04-17 23:45:38 - Transformer_no_pretrain - INFO: - decode batch cost time : 0.02296587824821472 ms\n",
      "I0417 23:45:38.187615 139696977332032 <ipython-input-11-3340543714f4>:36] decode batch cost time : 0.02296587824821472 ms\n",
      "2020-04-17 23:45:38 - Transformer_no_pretrain - INFO: - decode batch cost time : 0.02268749475479126 ms\n",
      "I0417 23:45:38.377258 139696977332032 <ipython-input-11-3340543714f4>:36] decode batch cost time : 0.02268749475479126 ms\n"
     ]
    },
    {
     "name": "stdout",
     "output_type": "stream",
     "text": [
      "predicted_words [[149, 449], [449, 181], [122, 461], [122, 846], [461, 4], [108, 449], [99, 4], [24, 393]]\n",
      "---------------------------\n",
      "predicted_words [[108, 449], [24, 393], [122, 461], [122, 846], [461, 4], [108, 449], [99, 4], [7, 181]]\n",
      "---------------------------\n"
     ]
    },
    {
     "name": "stderr",
     "output_type": "stream",
     "text": [
      "2020-04-17 23:45:38 - Transformer_no_pretrain - INFO: - decode batch cost time : 0.023052483797073364 ms\n",
      "I0417 23:45:38.569351 139696977332032 <ipython-input-11-3340543714f4>:36] decode batch cost time : 0.023052483797073364 ms\n",
      "2020-04-17 23:45:38 - Transformer_no_pretrain - INFO: - decode batch cost time : 0.023069918155670166 ms\n",
      "I0417 23:45:38.762141 139696977332032 <ipython-input-11-3340543714f4>:36] decode batch cost time : 0.023069918155670166 ms\n"
     ]
    },
    {
     "name": "stdout",
     "output_type": "stream",
     "text": [
      "predicted_words [[149, 449], [449, 181], [122, 461], [122, 846], [461, 4], [108, 449], [9, 4], [7, 181]]\n",
      "---------------------------\n",
      "predicted_words [[149, 449], [449, 181], [122, 461], [122, 846], [461, 4], [108, 449], [9, 4], [7, 181]]\n",
      "---------------------------\n"
     ]
    },
    {
     "name": "stderr",
     "output_type": "stream",
     "text": [
      "2020-04-17 23:45:38 - Transformer_no_pretrain - INFO: - decode batch cost time : 0.024822503328323364 ms\n",
      "I0417 23:45:38.968312 139696977332032 <ipython-input-11-3340543714f4>:36] decode batch cost time : 0.024822503328323364 ms\n"
     ]
    },
    {
     "name": "stdout",
     "output_type": "stream",
     "text": [
      "predicted_words [[149, 449], [24, 393], [122, 461], [122, 846], [461, 4], [108, 449], [99, 4], [7, 181]]\n",
      "---------------------------\n"
     ]
    },
    {
     "name": "stderr",
     "output_type": "stream",
     "text": [
      "2020-04-17 23:45:39 - Transformer_no_pretrain - INFO: - decode batch cost time : 0.02429342269897461 ms\n",
      "I0417 23:45:39.188866 139696977332032 <ipython-input-11-3340543714f4>:36] decode batch cost time : 0.02429342269897461 ms\n",
      "2020-04-17 23:45:39 - Transformer_no_pretrain - INFO: - decode batch cost time : 0.02293461561203003 ms\n",
      "I0417 23:45:39.380740 139696977332032 <ipython-input-11-3340543714f4>:36] decode batch cost time : 0.02293461561203003 ms\n"
     ]
    },
    {
     "name": "stdout",
     "output_type": "stream",
     "text": [
      "predicted_words [[24, 393], [1024, 181], [1024, 181], [122, 846], [461, 4], [108, 449], [9, 4], [7, 181]]\n",
      "---------------------------\n",
      "predicted_words [[149, 449], [1024, 181], [1024, 181], [122, 846], [461, 4], [108, 449], [99, 4], [7, 181]]\n",
      "---------------------------\n"
     ]
    },
    {
     "name": "stderr",
     "output_type": "stream",
     "text": [
      "2020-04-17 23:45:39 - Transformer_no_pretrain - INFO: - decode batch cost time : 0.023585259914398193 ms\n",
      "I0417 23:45:39.576813 139696977332032 <ipython-input-11-3340543714f4>:36] decode batch cost time : 0.023585259914398193 ms\n",
      "2020-04-17 23:45:39 - Transformer_no_pretrain - INFO: - decode batch cost time : 0.02201417088508606 ms\n",
      "I0417 23:45:39.760891 139696977332032 <ipython-input-11-3340543714f4>:36] decode batch cost time : 0.02201417088508606 ms\n"
     ]
    },
    {
     "name": "stdout",
     "output_type": "stream",
     "text": [
      "predicted_words [[149, 449], [449, 181], [122, 461], [122, 846], [461, 4], [108, 449], [9, 4], [7, 181]]\n",
      "---------------------------\n",
      "predicted_words [[149, 449], [449, 181], [122, 461], [122, 846], [461, 4], [108, 449], [9, 4], [7, 181]]\n",
      "---------------------------\n"
     ]
    },
    {
     "name": "stderr",
     "output_type": "stream",
     "text": [
      "2020-04-17 23:45:39 - Transformer_no_pretrain - INFO: - decode batch cost time : 0.02391505241394043 ms\n",
      "I0417 23:45:39.964101 139696977332032 <ipython-input-11-3340543714f4>:36] decode batch cost time : 0.02391505241394043 ms\n",
      "2020-04-17 23:45:40 - Transformer_no_pretrain - INFO: - decode batch cost time : 0.022543728351593018 ms\n",
      "I0417 23:45:40.153308 139696977332032 <ipython-input-11-3340543714f4>:36] decode batch cost time : 0.022543728351593018 ms\n"
     ]
    },
    {
     "name": "stdout",
     "output_type": "stream",
     "text": [
      "predicted_words [[149, 449], [449, 181], [122, 461], [122, 846], [461, 4], [108, 449], [9, 4], [7, 181]]\n",
      "---------------------------\n",
      "predicted_words [[149, 449], [449, 181], [122, 461], [122, 846], [461, 4], [108, 449], [9, 4], [7, 181]]\n",
      "---------------------------\n"
     ]
    },
    {
     "name": "stderr",
     "output_type": "stream",
     "text": [
      "2020-04-17 23:45:40 - Transformer_no_pretrain - INFO: - decode batch cost time : 0.02449283003807068 ms\n",
      "I0417 23:45:40.356847 139696977332032 <ipython-input-11-3340543714f4>:36] decode batch cost time : 0.02449283003807068 ms\n",
      "2020-04-17 23:45:40 - Transformer_no_pretrain - INFO: - decode batch cost time : 0.023307502269744873 ms\n",
      "I0417 23:45:40.550881 139696977332032 <ipython-input-11-3340543714f4>:36] decode batch cost time : 0.023307502269744873 ms\n"
     ]
    },
    {
     "name": "stdout",
     "output_type": "stream",
     "text": [
      "predicted_words [[149, 449], [449, 181], [122, 461], [122, 846], [461, 4], [108, 449], [9, 4], [7, 181]]\n",
      "---------------------------\n",
      "predicted_words [[149, 449], [4, 393], [122, 461], [122, 846], [461, 4], [108, 449], [9, 4], [7, 181]]\n",
      "---------------------------\n"
     ]
    },
    {
     "name": "stderr",
     "output_type": "stream",
     "text": [
      "2020-04-17 23:45:40 - Transformer_no_pretrain - INFO: - decode batch cost time : 0.023630917072296143 ms\n",
      "I0417 23:45:40.757216 139696977332032 <ipython-input-11-3340543714f4>:36] decode batch cost time : 0.023630917072296143 ms\n"
     ]
    },
    {
     "name": "stdout",
     "output_type": "stream",
     "text": [
      "predicted_words [[149, 449], [1024, 181], [122, 461], [122, 846], [461, 4], [108, 449], [9, 4], [7, 181]]\n",
      "---------------------------\n"
     ]
    },
    {
     "name": "stderr",
     "output_type": "stream",
     "text": [
      "2020-04-17 23:45:40 - Transformer_no_pretrain - INFO: - decode batch cost time : 0.024800091981887817 ms\n",
      "I0417 23:45:40.963428 139696977332032 <ipython-input-11-3340543714f4>:36] decode batch cost time : 0.024800091981887817 ms\n",
      "2020-04-17 23:45:41 - Transformer_no_pretrain - INFO: - decode batch cost time : 0.023541569709777832 ms\n",
      "I0417 23:45:41.158794 139696977332032 <ipython-input-11-3340543714f4>:36] decode batch cost time : 0.023541569709777832 ms\n"
     ]
    },
    {
     "name": "stdout",
     "output_type": "stream",
     "text": [
      "predicted_words [[149, 449], [1024, 181], [122, 461], [122, 846], [461, 4], [108, 449], [9, 4], [7, 181]]\n",
      "---------------------------\n",
      "predicted_words [[24, 393], [99, 149], [24, 393], [1024, 181], [231, 4], [7, 4], [461, 4], [122, 846]]\n",
      "---------------------------\n"
     ]
    },
    {
     "name": "stderr",
     "output_type": "stream",
     "text": [
      "2020-04-17 23:45:41 - Transformer_no_pretrain - INFO: - decode batch cost time : 0.022847265005111694 ms\n",
      "I0417 23:45:41.348517 139696977332032 <ipython-input-11-3340543714f4>:36] decode batch cost time : 0.022847265005111694 ms\n",
      "2020-04-17 23:45:41 - Transformer_no_pretrain - INFO: - decode batch cost time : 0.02246832847595215 ms\n",
      "I0417 23:45:41.535163 139696977332032 <ipython-input-11-3340543714f4>:36] decode batch cost time : 0.02246832847595215 ms\n"
     ]
    },
    {
     "name": "stdout",
     "output_type": "stream",
     "text": [
      "predicted_words [[108, 449], [15, 108], [24, 393], [1024, 181], [231, 4], [7, 4], [461, 4], [24, 393]]\n",
      "---------------------------\n",
      "predicted_words [[149, 449], [1024, 181], [122, 461], [122, 846], [461, 4], [108, 449], [9, 4], [7, 181]]\n",
      "---------------------------\n"
     ]
    },
    {
     "name": "stderr",
     "output_type": "stream",
     "text": [
      "2020-04-17 23:45:41 - Transformer_no_pretrain - INFO: - decode batch cost time : 0.022890567779541016 ms\n",
      "I0417 23:45:41.725229 139696977332032 <ipython-input-11-3340543714f4>:36] decode batch cost time : 0.022890567779541016 ms\n",
      "2020-04-17 23:45:41 - Transformer_no_pretrain - INFO: - decode batch cost time : 0.021878719329833984 ms\n",
      "I0417 23:45:41.907750 139696977332032 <ipython-input-11-3340543714f4>:36] decode batch cost time : 0.021878719329833984 ms\n"
     ]
    },
    {
     "name": "stdout",
     "output_type": "stream",
     "text": [
      "predicted_words [[24, 393], [4, 393], [1024, 181], [122, 846], [461, 4], [108, 449], [99, 4], [7, 181]]\n",
      "---------------------------\n",
      "predicted_words [[149, 449], [1024, 181], [122, 461], [122, 846], [461, 4], [108, 449], [9, 4], [7, 181]]\n",
      "---------------------------\n"
     ]
    },
    {
     "name": "stderr",
     "output_type": "stream",
     "text": [
      "2020-04-17 23:45:42 - Transformer_no_pretrain - INFO: - decode batch cost time : 0.022520840167999268 ms\n",
      "I0417 23:45:42.094869 139696977332032 <ipython-input-11-3340543714f4>:36] decode batch cost time : 0.022520840167999268 ms\n",
      "2020-04-17 23:45:42 - Transformer_no_pretrain - INFO: - decode batch cost time : 0.022688448429107666 ms\n",
      "I0417 23:45:42.283322 139696977332032 <ipython-input-11-3340543714f4>:36] decode batch cost time : 0.022688448429107666 ms\n"
     ]
    },
    {
     "name": "stdout",
     "output_type": "stream",
     "text": [
      "predicted_words [[149, 449], [4, 393], [1024, 181], [122, 846], [461, 4], [108, 449], [9, 4], [7, 181]]\n",
      "---------------------------\n",
      "predicted_words [[149, 449], [449, 181], [122, 461], [122, 846], [461, 4], [108, 449], [9, 4], [7, 181]]\n",
      "---------------------------\n"
     ]
    },
    {
     "name": "stderr",
     "output_type": "stream",
     "text": [
      "2020-04-17 23:45:42 - Transformer_no_pretrain - INFO: - decode batch cost time : 0.023223549127578735 ms\n",
      "I0417 23:45:42.475995 139696977332032 <ipython-input-11-3340543714f4>:36] decode batch cost time : 0.023223549127578735 ms\n",
      "2020-04-17 23:45:42 - Transformer_no_pretrain - INFO: - decode batch cost time : 0.023387402296066284 ms\n",
      "I0417 23:45:42.674518 139696977332032 <ipython-input-11-3340543714f4>:36] decode batch cost time : 0.023387402296066284 ms\n"
     ]
    },
    {
     "name": "stdout",
     "output_type": "stream",
     "text": [
      "predicted_words [[149, 449], [1024, 181], [122, 461], [122, 846], [461, 4], [108, 449], [9, 4], [7, 181]]\n",
      "---------------------------\n",
      "predicted_words [[24, 393], [1024, 181], [1024, 181], [122, 846], [461, 4], [108, 449], [9, 4], [449, 181]]\n",
      "---------------------------\n"
     ]
    },
    {
     "name": "stderr",
     "output_type": "stream",
     "text": [
      "2020-04-17 23:45:42 - Transformer_no_pretrain - INFO: - decode batch cost time : 0.023857951164245605 ms\n",
      "I0417 23:45:42.878071 139696977332032 <ipython-input-11-3340543714f4>:36] decode batch cost time : 0.023857951164245605 ms\n",
      "2020-04-17 23:45:43 - Transformer_no_pretrain - INFO: - decode batch cost time : 0.02282896637916565 ms\n",
      "I0417 23:45:43.068613 139696977332032 <ipython-input-11-3340543714f4>:36] decode batch cost time : 0.02282896637916565 ms\n"
     ]
    },
    {
     "name": "stdout",
     "output_type": "stream",
     "text": [
      "predicted_words [[24, 393], [1024, 181], [1024, 181], [122, 846], [461, 4], [108, 449], [9, 4], [449, 181]]\n",
      "---------------------------\n",
      "predicted_words [[149, 449], [449, 181], [122, 461], [122, 846], [461, 4], [108, 449], [9, 4], [7, 181]]\n",
      "---------------------------\n"
     ]
    },
    {
     "name": "stderr",
     "output_type": "stream",
     "text": [
      "2020-04-17 23:45:43 - Transformer_no_pretrain - INFO: - decode batch cost time : 0.02309921383857727 ms\n",
      "I0417 23:45:43.264651 139696977332032 <ipython-input-11-3340543714f4>:36] decode batch cost time : 0.02309921383857727 ms\n",
      "2020-04-17 23:45:43 - Transformer_no_pretrain - INFO: - decode batch cost time : 0.022620797157287598 ms\n",
      "I0417 23:45:43.452903 139696977332032 <ipython-input-11-3340543714f4>:36] decode batch cost time : 0.022620797157287598 ms\n"
     ]
    },
    {
     "name": "stdout",
     "output_type": "stream",
     "text": [
      "predicted_words [[149, 449], [449, 181], [122, 461], [122, 846], [461, 4], [108, 449], [9, 4], [7, 181]]\n",
      "---------------------------\n",
      "predicted_words [[108, 449], [1024, 181], [122, 461], [122, 846], [461, 4], [108, 449], [99, 4], [7, 181]]\n",
      "---------------------------\n"
     ]
    },
    {
     "name": "stderr",
     "output_type": "stream",
     "text": [
      "2020-04-17 23:45:43 - Transformer_no_pretrain - INFO: - decode batch cost time : 0.022450029850006104 ms\n",
      "I0417 23:45:43.640840 139696977332032 <ipython-input-11-3340543714f4>:36] decode batch cost time : 0.022450029850006104 ms\n",
      "2020-04-17 23:45:43 - Transformer_no_pretrain - INFO: - decode batch cost time : 0.022510558366775513 ms\n",
      "I0417 23:45:43.828755 139696977332032 <ipython-input-11-3340543714f4>:36] decode batch cost time : 0.022510558366775513 ms\n"
     ]
    },
    {
     "name": "stdout",
     "output_type": "stream",
     "text": [
      "predicted_words [[24, 393], [1024, 181], [1024, 181], [449, 181], [461, 4], [108, 449], [99, 4], [7, 181]]\n",
      "---------------------------\n",
      "predicted_words [[24, 393], [1024, 181], [122, 461], [122, 846], [461, 4], [108, 449], [9, 4], [7, 181]]\n",
      "---------------------------\n"
     ]
    },
    {
     "name": "stderr",
     "output_type": "stream",
     "text": [
      "2020-04-17 23:45:44 - Transformer_no_pretrain - INFO: - decode batch cost time : 0.023160099983215332 ms\n",
      "I0417 23:45:44.021227 139696977332032 <ipython-input-11-3340543714f4>:36] decode batch cost time : 0.023160099983215332 ms\n",
      "2020-04-17 23:45:44 - Transformer_no_pretrain - INFO: - decode batch cost time : 0.022705376148223877 ms\n",
      "I0417 23:45:44.210064 139696977332032 <ipython-input-11-3340543714f4>:36] decode batch cost time : 0.022705376148223877 ms\n"
     ]
    },
    {
     "name": "stdout",
     "output_type": "stream",
     "text": [
      "predicted_words [[149, 449], [1024, 181], [122, 461], [122, 846], [461, 4], [108, 449], [9, 4], [7, 181]]\n",
      "---------------------------\n",
      "predicted_words [[24, 393], [4, 393], [24, 393], [171, 149], [62, 59], [108, 449], [461, 4], [122, 846]]\n",
      "---------------------------\n"
     ]
    },
    {
     "name": "stderr",
     "output_type": "stream",
     "text": [
      "2020-04-17 23:45:44 - Transformer_no_pretrain - INFO: - decode batch cost time : 0.023310750722885132 ms\n",
      "I0417 23:45:44.403747 139696977332032 <ipython-input-11-3340543714f4>:36] decode batch cost time : 0.023310750722885132 ms\n",
      "2020-04-17 23:45:44 - Transformer_no_pretrain - INFO: - decode batch cost time : 0.023808181285858154 ms\n",
      "I0417 23:45:44.601256 139696977332032 <ipython-input-11-3340543714f4>:36] decode batch cost time : 0.023808181285858154 ms\n"
     ]
    },
    {
     "name": "stdout",
     "output_type": "stream",
     "text": [
      "predicted_words [[149, 449], [1024, 181], [122, 461], [122, 846], [461, 4], [108, 449], [9, 4], [7, 181]]\n",
      "---------------------------\n",
      "predicted_words [[149, 449], [1024, 181], [122, 461], [122, 846], [461, 4], [108, 449], [9, 4], [7, 181]]\n",
      "---------------------------\n"
     ]
    },
    {
     "name": "stderr",
     "output_type": "stream",
     "text": [
      "2020-04-17 23:45:44 - Transformer_no_pretrain - INFO: - decode batch cost time : 0.02444678544998169 ms\n",
      "I0417 23:45:44.805909 139696977332032 <ipython-input-11-3340543714f4>:36] decode batch cost time : 0.02444678544998169 ms\n",
      "2020-04-17 23:45:44 - Transformer_no_pretrain - INFO: - decode batch cost time : 0.02304208278656006 ms\n",
      "I0417 23:45:44.997340 139696977332032 <ipython-input-11-3340543714f4>:36] decode batch cost time : 0.02304208278656006 ms\n"
     ]
    },
    {
     "name": "stdout",
     "output_type": "stream",
     "text": [
      "predicted_words [[24, 393], [24, 393], [1024, 181], [449, 181], [461, 4], [108, 449], [99, 4], [7, 181]]\n",
      "---------------------------\n",
      "predicted_words [[149, 449], [449, 181], [122, 461], [122, 846], [461, 4], [108, 449], [9, 4], [24, 393]]\n",
      "---------------------------\n"
     ]
    },
    {
     "name": "stderr",
     "output_type": "stream",
     "text": [
      "2020-04-17 23:45:45 - Transformer_no_pretrain - INFO: - decode batch cost time : 0.02401787042617798 ms\n",
      "I0417 23:45:45.198359 139696977332032 <ipython-input-11-3340543714f4>:36] decode batch cost time : 0.02401787042617798 ms\n"
     ]
    },
    {
     "name": "stdout",
     "output_type": "stream",
     "text": [
      "predicted_words [[149, 449], [449, 181], [122, 461], [122, 846], [461, 4], [108, 449], [9, 4], [7, 181]]\n",
      "---------------------------\n"
     ]
    },
    {
     "name": "stderr",
     "output_type": "stream",
     "text": [
      "2020-04-17 23:45:45 - Transformer_no_pretrain - INFO: - decode batch cost time : 0.024223387241363525 ms\n",
      "I0417 23:45:45.404256 139696977332032 <ipython-input-11-3340543714f4>:36] decode batch cost time : 0.024223387241363525 ms\n"
     ]
    },
    {
     "name": "stdout",
     "output_type": "stream",
     "text": [
      "predicted_words [[149, 449], [1024, 181], [122, 461], [122, 846], [461, 4], [108, 449], [9, 4], [7, 181]]\n",
      "---------------------------\n"
     ]
    },
    {
     "name": "stderr",
     "output_type": "stream",
     "text": [
      "2020-04-17 23:45:45 - Transformer_no_pretrain - INFO: - decode batch cost time : 0.023855149745941162 ms\n",
      "I0417 23:45:45.608581 139696977332032 <ipython-input-11-3340543714f4>:36] decode batch cost time : 0.023855149745941162 ms\n"
     ]
    },
    {
     "name": "stdout",
     "output_type": "stream",
     "text": [
      "predicted_words [[149, 449], [1024, 181], [122, 461], [122, 846], [461, 4], [108, 449], [24, 380], [7, 181]]\n",
      "---------------------------\n"
     ]
    },
    {
     "name": "stderr",
     "output_type": "stream",
     "text": [
      "2020-04-17 23:45:45 - Transformer_no_pretrain - INFO: - decode batch cost time : 0.023022234439849854 ms\n",
      "I0417 23:45:45.810739 139696977332032 <ipython-input-11-3340543714f4>:36] decode batch cost time : 0.023022234439849854 ms\n",
      "2020-04-17 23:45:45 - Transformer_no_pretrain - INFO: - decode batch cost time : 0.02272137999534607 ms\n",
      "I0417 23:45:45.999990 139696977332032 <ipython-input-11-3340543714f4>:36] decode batch cost time : 0.02272137999534607 ms\n"
     ]
    },
    {
     "name": "stdout",
     "output_type": "stream",
     "text": [
      "predicted_words [[24, 393], [1024, 181], [122, 461], [122, 846], [461, 4], [122, 461], [24, 380], [7, 181]]\n",
      "---------------------------\n",
      "predicted_words [[24, 393], [1024, 181], [122, 461], [122, 846], [461, 4], [122, 461], [24, 380], [7, 181]]\n",
      "---------------------------\n"
     ]
    },
    {
     "name": "stderr",
     "output_type": "stream",
     "text": [
      "2020-04-17 23:45:46 - Transformer_no_pretrain - INFO: - decode batch cost time : 0.023128241300582886 ms\n",
      "I0417 23:45:46.193772 139696977332032 <ipython-input-11-3340543714f4>:36] decode batch cost time : 0.023128241300582886 ms\n",
      "2020-04-17 23:45:46 - Transformer_no_pretrain - INFO: - decode batch cost time : 0.022417187690734863 ms\n",
      "I0417 23:45:46.380980 139696977332032 <ipython-input-11-3340543714f4>:36] decode batch cost time : 0.022417187690734863 ms\n"
     ]
    },
    {
     "name": "stdout",
     "output_type": "stream",
     "text": [
      "predicted_words [[149, 449], [1024, 181], [122, 461], [122, 846], [461, 4], [108, 449], [9, 4], [7, 181]]\n",
      "---------------------------\n",
      "predicted_words [[149, 449], [449, 181], [122, 461], [122, 846], [461, 4], [108, 449], [9, 4], [7, 181]]\n",
      "---------------------------\n"
     ]
    },
    {
     "name": "stderr",
     "output_type": "stream",
     "text": [
      "2020-04-17 23:45:46 - Transformer_no_pretrain - INFO: - decode batch cost time : 0.025200635194778442 ms\n",
      "I0417 23:45:46.590311 139696977332032 <ipython-input-11-3340543714f4>:36] decode batch cost time : 0.025200635194778442 ms\n",
      "2020-04-17 23:45:46 - Transformer_no_pretrain - INFO: - decode batch cost time : 0.023678451776504517 ms\n",
      "I0417 23:45:46.787801 139696977332032 <ipython-input-11-3340543714f4>:36] decode batch cost time : 0.023678451776504517 ms\n"
     ]
    },
    {
     "name": "stdout",
     "output_type": "stream",
     "text": [
      "predicted_words [[149, 449], [449, 181], [122, 461], [122, 846], [461, 4], [108, 449], [9, 4], [7, 181]]\n",
      "---------------------------\n",
      "predicted_words [[149, 449], [449, 181], [122, 461], [122, 846], [461, 4], [108, 449], [9, 4], [7, 181]]\n",
      "---------------------------\n"
     ]
    },
    {
     "name": "stderr",
     "output_type": "stream",
     "text": [
      "2020-04-17 23:45:46 - Transformer_no_pretrain - INFO: - decode batch cost time : 0.023852616548538208 ms\n",
      "I0417 23:45:46.986366 139696977332032 <ipython-input-11-3340543714f4>:36] decode batch cost time : 0.023852616548538208 ms\n"
     ]
    },
    {
     "name": "stdout",
     "output_type": "stream",
     "text": [
      "predicted_words [[149, 449], [449, 181], [122, 461], [122, 846], [461, 4], [108, 449], [9, 4], [7, 181]]\n",
      "---------------------------\n"
     ]
    },
    {
     "name": "stderr",
     "output_type": "stream",
     "text": [
      "2020-04-17 23:45:47 - Transformer_no_pretrain - INFO: - decode batch cost time : 0.023160487413406372 ms\n",
      "I0417 23:45:47.189712 139696977332032 <ipython-input-11-3340543714f4>:36] decode batch cost time : 0.023160487413406372 ms\n"
     ]
    },
    {
     "name": "stdout",
     "output_type": "stream",
     "text": [
      "predicted_words [[149, 449], [1024, 181], [122, 461], [122, 846], [461, 4], [108, 449], [9, 4], [7, 181]]\n",
      "---------------------------\n"
     ]
    },
    {
     "name": "stderr",
     "output_type": "stream",
     "text": [
      "2020-04-17 23:45:47 - Transformer_no_pretrain - INFO: - decode batch cost time : 0.02361246943473816 ms\n",
      "I0417 23:45:47.392373 139696977332032 <ipython-input-11-3340543714f4>:36] decode batch cost time : 0.02361246943473816 ms\n",
      "2020-04-17 23:45:47 - Transformer_no_pretrain - INFO: - decode batch cost time : 0.02273455262184143 ms\n",
      "I0417 23:45:47.581829 139696977332032 <ipython-input-11-3340543714f4>:36] decode batch cost time : 0.02273455262184143 ms\n"
     ]
    },
    {
     "name": "stdout",
     "output_type": "stream",
     "text": [
      "predicted_words [[149, 449], [1024, 181], [122, 461], [122, 846], [461, 4], [108, 449], [9, 4], [7, 181]]\n",
      "---------------------------\n",
      "predicted_words [[24, 393], [99, 149], [1024, 181], [449, 181], [461, 4], [231, 4], [461, 4], [24, 393]]\n",
      "---------------------------\n"
     ]
    },
    {
     "name": "stderr",
     "output_type": "stream",
     "text": [
      "2020-04-17 23:45:47 - Transformer_no_pretrain - INFO: - decode batch cost time : 0.02253982424736023 ms\n",
      "I0417 23:45:47.770090 139696977332032 <ipython-input-11-3340543714f4>:36] decode batch cost time : 0.02253982424736023 ms\n",
      "2020-04-17 23:45:47 - Transformer_no_pretrain - INFO: - decode batch cost time : 0.022061437368392944 ms\n",
      "I0417 23:45:47.954183 139696977332032 <ipython-input-11-3340543714f4>:36] decode batch cost time : 0.022061437368392944 ms\n"
     ]
    },
    {
     "name": "stdout",
     "output_type": "stream",
     "text": [
      "predicted_words [[149, 449], [4, 393], [1024, 181], [122, 846], [461, 4], [108, 449], [99, 4], [7, 181]]\n",
      "---------------------------\n",
      "predicted_words [[149, 449], [449, 181], [122, 461], [122, 846], [461, 4], [108, 449], [9, 4], [7, 181]]\n",
      "---------------------------\n"
     ]
    },
    {
     "name": "stderr",
     "output_type": "stream",
     "text": [
      "2020-04-17 23:45:48 - Transformer_no_pretrain - INFO: - decode batch cost time : 0.02252224087715149 ms\n",
      "I0417 23:45:48.141460 139696977332032 <ipython-input-11-3340543714f4>:36] decode batch cost time : 0.02252224087715149 ms\n",
      "2020-04-17 23:45:48 - Transformer_no_pretrain - INFO: - decode batch cost time : 0.02259594202041626 ms\n",
      "I0417 23:45:48.329234 139696977332032 <ipython-input-11-3340543714f4>:36] decode batch cost time : 0.02259594202041626 ms\n"
     ]
    },
    {
     "name": "stdout",
     "output_type": "stream",
     "text": [
      "predicted_words [[149, 449], [1024, 181], [122, 461], [122, 846], [461, 4], [108, 449], [9, 4], [7, 181]]\n",
      "---------------------------\n",
      "predicted_words [[149, 449], [449, 181], [122, 461], [122, 846], [461, 4], [108, 449], [9, 4], [7, 181]]\n",
      "---------------------------\n"
     ]
    },
    {
     "name": "stderr",
     "output_type": "stream",
     "text": [
      "2020-04-17 23:45:48 - Transformer_no_pretrain - INFO: - decode batch cost time : 0.023626327514648438 ms\n",
      "I0417 23:45:48.526084 139696977332032 <ipython-input-11-3340543714f4>:36] decode batch cost time : 0.023626327514648438 ms\n",
      "2020-04-17 23:45:48 - Transformer_no_pretrain - INFO: - decode batch cost time : 0.02297765016555786 ms\n",
      "I0417 23:45:48.717632 139696977332032 <ipython-input-11-3340543714f4>:36] decode batch cost time : 0.02297765016555786 ms\n"
     ]
    },
    {
     "name": "stdout",
     "output_type": "stream",
     "text": [
      "predicted_words [[149, 449], [449, 181], [122, 461], [122, 846], [461, 4], [108, 449], [9, 4], [7, 181]]\n",
      "---------------------------\n",
      "predicted_words [[24, 393], [1024, 181], [1024, 181], [449, 181], [461, 4], [231, 9], [9, 4], [7, 181]]\n",
      "---------------------------\n"
     ]
    },
    {
     "name": "stderr",
     "output_type": "stream",
     "text": [
      "2020-04-17 23:45:48 - Transformer_no_pretrain - INFO: - decode batch cost time : 0.023504257202148438 ms\n",
      "I0417 23:45:48.913751 139696977332032 <ipython-input-11-3340543714f4>:36] decode batch cost time : 0.023504257202148438 ms\n",
      "2020-04-17 23:45:49 - Transformer_no_pretrain - INFO: - decode batch cost time : 0.02352312207221985 ms\n"
     ]
    },
    {
     "name": "stdout",
     "output_type": "stream",
     "text": [
      "predicted_words [[24, 393], [24, 393], [122, 461], [122, 846], [461, 4], [99, 9], [9, 4], [7, 181]]\n",
      "---------------------------\n",
      "predicted_words [[24, 393], [4, 393], [1024, 181], [122, 846], [461, 4], [108, 449], [9, 4], [7, 181]]\n",
      "---------------------------\n"
     ]
    },
    {
     "name": "stderr",
     "output_type": "stream",
     "text": [
      "I0417 23:45:49.114694 139696977332032 <ipython-input-11-3340543714f4>:36] decode batch cost time : 0.02352312207221985 ms\n",
      "2020-04-17 23:45:49 - Transformer_no_pretrain - INFO: - decode batch cost time : 0.023873507976531982 ms\n",
      "I0417 23:45:49.313951 139696977332032 <ipython-input-11-3340543714f4>:36] decode batch cost time : 0.023873507976531982 ms\n",
      "2020-04-17 23:45:49 - Transformer_no_pretrain - INFO: - decode batch cost time : 0.023840337991714478 ms\n",
      "I0417 23:45:49.512525 139696977332032 <ipython-input-11-3340543714f4>:36] decode batch cost time : 0.023840337991714478 ms\n"
     ]
    },
    {
     "name": "stdout",
     "output_type": "stream",
     "text": [
      "predicted_words [[149, 449], [449, 181], [122, 461], [122, 846], [461, 4], [108, 449], [9, 4], [7, 181]]\n",
      "---------------------------\n",
      "predicted_words [[149, 449], [449, 181], [1024, 181], [122, 846], [461, 4], [108, 449], [9, 4], [7, 181]]\n",
      "---------------------------\n"
     ]
    },
    {
     "name": "stderr",
     "output_type": "stream",
     "text": [
      "2020-04-17 23:45:49 - Transformer_no_pretrain - INFO: - decode batch cost time : 0.0230410099029541 ms\n",
      "I0417 23:45:49.704886 139696977332032 <ipython-input-11-3340543714f4>:36] decode batch cost time : 0.0230410099029541 ms\n",
      "2020-04-17 23:45:49 - Transformer_no_pretrain - INFO: - decode batch cost time : 0.022300422191619873 ms\n",
      "I0417 23:45:49.891527 139696977332032 <ipython-input-11-3340543714f4>:36] decode batch cost time : 0.022300422191619873 ms\n"
     ]
    },
    {
     "name": "stdout",
     "output_type": "stream",
     "text": [
      "predicted_words [[24, 393], [24, 393], [24, 393], [122, 846], [461, 4], [108, 449], [99, 4], [7, 181]]\n",
      "---------------------------\n",
      "predicted_words [[24, 393], [24, 393], [1024, 181], [122, 846], [461, 4], [108, 449], [9, 4], [7, 181]]\n",
      "---------------------------\n"
     ]
    },
    {
     "name": "stderr",
     "output_type": "stream",
     "text": [
      "2020-04-17 23:45:50 - Transformer_no_pretrain - INFO: - decode batch cost time : 0.023634880781173706 ms\n",
      "I0417 23:45:50.088539 139696977332032 <ipython-input-11-3340543714f4>:36] decode batch cost time : 0.023634880781173706 ms\n"
     ]
    },
    {
     "name": "stdout",
     "output_type": "stream",
     "text": [
      "predicted_words [[149, 449], [4, 393], [122, 461], [122, 846], [461, 4], [108, 449], [9, 4], [7, 181]]\n",
      "---------------------------\n"
     ]
    },
    {
     "name": "stderr",
     "output_type": "stream",
     "text": [
      "2020-04-17 23:45:50 - Transformer_no_pretrain - INFO: - decode batch cost time : 0.024403423070907593 ms\n",
      "I0417 23:45:50.291929 139696977332032 <ipython-input-11-3340543714f4>:36] decode batch cost time : 0.024403423070907593 ms\n",
      "2020-04-17 23:45:50 - Transformer_no_pretrain - INFO: - decode batch cost time : 0.022923439741134644 ms\n",
      "I0417 23:45:50.483379 139696977332032 <ipython-input-11-3340543714f4>:36] decode batch cost time : 0.022923439741134644 ms\n"
     ]
    },
    {
     "name": "stdout",
     "output_type": "stream",
     "text": [
      "predicted_words [[149, 449], [1024, 181], [122, 461], [122, 846], [461, 4], [108, 449], [9, 4], [7, 181]]\n",
      "---------------------------\n",
      "predicted_words [[24, 393], [1024, 181], [1024, 181], [122, 846], [461, 4], [99, 9], [24, 380], [7, 181]]\n",
      "---------------------------\n"
     ]
    },
    {
     "name": "stderr",
     "output_type": "stream",
     "text": [
      "2020-04-17 23:45:50 - Transformer_no_pretrain - INFO: - decode batch cost time : 0.02344110608100891 ms\n",
      "I0417 23:45:50.678219 139696977332032 <ipython-input-11-3340543714f4>:36] decode batch cost time : 0.02344110608100891 ms\n"
     ]
    },
    {
     "name": "stdout",
     "output_type": "stream",
     "text": [
      "predicted_words [[24, 393], [4, 393], [1024, 181], [122, 846], [461, 4], [108, 449], [9, 4], [7, 181]]\n",
      "---------------------------\n"
     ]
    },
    {
     "name": "stderr",
     "output_type": "stream",
     "text": [
      "2020-04-17 23:45:50 - Transformer_no_pretrain - INFO: - decode batch cost time : 0.02411097288131714 ms\n",
      "I0417 23:45:50.883226 139696977332032 <ipython-input-11-3340543714f4>:36] decode batch cost time : 0.02411097288131714 ms\n",
      "2020-04-17 23:45:51 - Transformer_no_pretrain - INFO: - decode batch cost time : 0.02286401391029358 ms\n",
      "I0417 23:45:51.073125 139696977332032 <ipython-input-11-3340543714f4>:36] decode batch cost time : 0.02286401391029358 ms\n"
     ]
    },
    {
     "name": "stdout",
     "output_type": "stream",
     "text": [
      "predicted_words [[149, 449], [449, 181], [122, 461], [122, 846], [461, 4], [108, 449], [9, 4], [7, 181]]\n",
      "---------------------------\n",
      "predicted_words [[24, 393], [1024, 181], [24, 393], [449, 181], [461, 4], [108, 449], [99, 4], [7, 181]]\n",
      "---------------------------\n"
     ]
    },
    {
     "name": "stderr",
     "output_type": "stream",
     "text": [
      "2020-04-17 23:45:51 - Transformer_no_pretrain - INFO: - decode batch cost time : 0.02433842420578003 ms\n",
      "I0417 23:45:51.275616 139696977332032 <ipython-input-11-3340543714f4>:36] decode batch cost time : 0.02433842420578003 ms\n",
      "2020-04-17 23:45:51 - Transformer_no_pretrain - INFO: - decode batch cost time : 0.02203601598739624 ms\n",
      "I0417 23:45:51.459116 139696977332032 <ipython-input-11-3340543714f4>:36] decode batch cost time : 0.02203601598739624 ms\n"
     ]
    },
    {
     "name": "stdout",
     "output_type": "stream",
     "text": [
      "predicted_words [[149, 449], [1024, 181], [122, 461], [122, 846], [461, 4], [108, 449], [9, 4], [7, 181]]\n",
      "---------------------------\n",
      "predicted_words [[149, 449], [1024, 181], [122, 461], [122, 846], [461, 4], [108, 449], [9, 4], [7, 181]]\n",
      "---------------------------\n"
     ]
    },
    {
     "name": "stderr",
     "output_type": "stream",
     "text": [
      "2020-04-17 23:45:51 - Transformer_no_pretrain - INFO: - decode batch cost time : 0.022314637899398804 ms\n",
      "I0417 23:45:51.644987 139696977332032 <ipython-input-11-3340543714f4>:36] decode batch cost time : 0.022314637899398804 ms\n",
      "2020-04-17 23:45:51 - Transformer_no_pretrain - INFO: - decode batch cost time : 0.02308151125907898 ms\n",
      "I0417 23:45:51.837023 139696977332032 <ipython-input-11-3340543714f4>:36] decode batch cost time : 0.02308151125907898 ms\n"
     ]
    },
    {
     "name": "stdout",
     "output_type": "stream",
     "text": [
      "predicted_words [[149, 449], [449, 181], [122, 461], [122, 846], [461, 4], [108, 449], [9, 4], [7, 181]]\n",
      "---------------------------\n",
      "predicted_words [[149, 449], [449, 181], [122, 461], [122, 846], [461, 4], [108, 449], [9, 4], [7, 181]]\n",
      "---------------------------\n"
     ]
    },
    {
     "name": "stderr",
     "output_type": "stream",
     "text": [
      "2020-04-17 23:45:52 - Transformer_no_pretrain - INFO: - decode batch cost time : 0.02304619550704956 ms\n",
      "I0417 23:45:52.028773 139696977332032 <ipython-input-11-3340543714f4>:36] decode batch cost time : 0.02304619550704956 ms\n",
      "2020-04-17 23:45:52 - Transformer_no_pretrain - INFO: - decode batch cost time : 0.0236700177192688 ms\n",
      "I0417 23:45:52.225381 139696977332032 <ipython-input-11-3340543714f4>:36] decode batch cost time : 0.0236700177192688 ms\n"
     ]
    },
    {
     "name": "stdout",
     "output_type": "stream",
     "text": [
      "predicted_words [[24, 393], [24, 393], [1024, 181], [122, 846], [461, 4], [108, 449], [9, 4], [7, 181]]\n",
      "---------------------------\n",
      "predicted_words [[24, 393], [24, 393], [1024, 181], [122, 846], [461, 4], [108, 449], [99, 4], [7, 181]]\n",
      "---------------------------\n"
     ]
    },
    {
     "name": "stderr",
     "output_type": "stream",
     "text": [
      "2020-04-17 23:45:52 - Transformer_no_pretrain - INFO: - decode batch cost time : 0.023922711610794067 ms\n",
      "I0417 23:45:52.424850 139696977332032 <ipython-input-11-3340543714f4>:36] decode batch cost time : 0.023922711610794067 ms\n",
      "2020-04-17 23:45:52 - Transformer_no_pretrain - INFO: - decode batch cost time : 0.02317526936531067 ms\n",
      "I0417 23:45:52.617532 139696977332032 <ipython-input-11-3340543714f4>:36] decode batch cost time : 0.02317526936531067 ms\n"
     ]
    },
    {
     "name": "stdout",
     "output_type": "stream",
     "text": [
      "predicted_words [[24, 393], [4, 393], [1024, 181], [122, 846], [461, 4], [108, 449], [9, 4], [7, 181]]\n",
      "---------------------------\n",
      "predicted_words [[149, 449], [449, 181], [122, 461], [122, 846], [461, 4], [108, 449], [9, 4], [7, 181]]\n",
      "---------------------------\n"
     ]
    },
    {
     "name": "stderr",
     "output_type": "stream",
     "text": [
      "2020-04-17 23:45:52 - Transformer_no_pretrain - INFO: - decode batch cost time : 0.023442178964614868 ms\n",
      "I0417 23:45:52.812337 139696977332032 <ipython-input-11-3340543714f4>:36] decode batch cost time : 0.023442178964614868 ms\n",
      "2020-04-17 23:45:53 - Transformer_no_pretrain - INFO: - decode batch cost time : 0.022994786500930786 ms\n",
      "I0417 23:45:53.004504 139696977332032 <ipython-input-11-3340543714f4>:36] decode batch cost time : 0.022994786500930786 ms\n"
     ]
    },
    {
     "name": "stdout",
     "output_type": "stream",
     "text": [
      "predicted_words [[149, 449], [449, 181], [122, 461], [122, 846], [461, 4], [108, 449], [9, 4], [7, 181]]\n",
      "---------------------------\n",
      "predicted_words [[149, 449], [449, 181], [122, 461], [122, 846], [461, 4], [108, 449], [9, 4], [7, 181]]\n",
      "---------------------------\n"
     ]
    },
    {
     "name": "stderr",
     "output_type": "stream",
     "text": [
      "2020-04-17 23:45:53 - Transformer_no_pretrain - INFO: - decode batch cost time : 0.023348093032836914 ms\n",
      "I0417 23:45:53.198657 139696977332032 <ipython-input-11-3340543714f4>:36] decode batch cost time : 0.023348093032836914 ms\n",
      "2020-04-17 23:45:53 - Transformer_no_pretrain - INFO: - decode batch cost time : 0.02339988946914673 ms\n",
      "I0417 23:45:53.394065 139696977332032 <ipython-input-11-3340543714f4>:36] decode batch cost time : 0.02339988946914673 ms\n"
     ]
    },
    {
     "name": "stdout",
     "output_type": "stream",
     "text": [
      "predicted_words [[149, 449], [4, 393], [122, 461], [122, 846], [461, 4], [108, 449], [9, 4], [7, 181]]\n",
      "---------------------------\n",
      "predicted_words [[149, 449], [449, 181], [122, 461], [122, 846], [461, 4], [108, 449], [24, 380], [7, 181]]\n",
      "---------------------------\n"
     ]
    },
    {
     "name": "stderr",
     "output_type": "stream",
     "text": [
      "2020-04-17 23:45:53 - Transformer_no_pretrain - INFO: - decode batch cost time : 0.025414198637008667 ms\n",
      "I0417 23:45:53.613975 139696977332032 <ipython-input-11-3340543714f4>:36] decode batch cost time : 0.025414198637008667 ms\n",
      "2020-04-17 23:45:53 - Transformer_no_pretrain - INFO: - decode batch cost time : 0.022289246320724487 ms\n",
      "I0417 23:45:53.800228 139696977332032 <ipython-input-11-3340543714f4>:36] decode batch cost time : 0.022289246320724487 ms\n"
     ]
    },
    {
     "name": "stdout",
     "output_type": "stream",
     "text": [
      "predicted_words [[24, 393], [4, 393], [1024, 181], [122, 846], [461, 4], [108, 449], [99, 4], [7, 181]]\n",
      "---------------------------\n",
      "predicted_words [[149, 449], [4, 393], [122, 461], [122, 846], [461, 4], [108, 449], [9, 4], [7, 181]]\n",
      "---------------------------\n"
     ]
    },
    {
     "name": "stderr",
     "output_type": "stream",
     "text": [
      "2020-04-17 23:45:54 - Transformer_no_pretrain - INFO: - decode batch cost time : 0.025366872549057007 ms\n",
      "I0417 23:45:54.011477 139696977332032 <ipython-input-11-3340543714f4>:36] decode batch cost time : 0.025366872549057007 ms\n",
      "2020-04-17 23:45:54 - Transformer_no_pretrain - INFO: - decode batch cost time : 0.023265540599822998 ms\n",
      "I0417 23:45:54.205318 139696977332032 <ipython-input-11-3340543714f4>:36] decode batch cost time : 0.023265540599822998 ms\n"
     ]
    },
    {
     "name": "stdout",
     "output_type": "stream",
     "text": [
      "predicted_words [[24, 393], [4, 393], [1024, 181], [122, 846], [461, 4], [108, 449], [9, 4], [7, 181]]\n",
      "---------------------------\n",
      "predicted_words [[24, 393], [449, 181], [1024, 181], [122, 846], [461, 4], [108, 449], [9, 4], [449, 181]]\n",
      "---------------------------\n"
     ]
    },
    {
     "name": "stderr",
     "output_type": "stream",
     "text": [
      "2020-04-17 23:45:54 - Transformer_no_pretrain - INFO: - decode batch cost time : 0.02359861135482788 ms\n",
      "I0417 23:45:54.401937 139696977332032 <ipython-input-11-3340543714f4>:36] decode batch cost time : 0.02359861135482788 ms\n"
     ]
    },
    {
     "name": "stdout",
     "output_type": "stream",
     "text": [
      "predicted_words [[149, 449], [1024, 181], [122, 461], [122, 846], [461, 4], [108, 449], [9, 4], [7, 181]]\n",
      "---------------------------\n"
     ]
    },
    {
     "name": "stderr",
     "output_type": "stream",
     "text": [
      "2020-04-17 23:45:54 - Transformer_no_pretrain - INFO: - decode batch cost time : 0.02370855212211609 ms\n",
      "I0417 23:45:54.604671 139696977332032 <ipython-input-11-3340543714f4>:36] decode batch cost time : 0.02370855212211609 ms\n"
     ]
    },
    {
     "name": "stdout",
     "output_type": "stream",
     "text": [
      "predicted_words [[24, 393], [4, 393], [1024, 181], [122, 846], [461, 4], [108, 449], [9, 4], [449, 181]]\n",
      "---------------------------\n"
     ]
    },
    {
     "name": "stderr",
     "output_type": "stream",
     "text": [
      "2020-04-17 23:45:54 - Transformer_no_pretrain - INFO: - decode batch cost time : 0.025520265102386475 ms\n",
      "I0417 23:45:54.822173 139696977332032 <ipython-input-11-3340543714f4>:36] decode batch cost time : 0.025520265102386475 ms\n",
      "2020-04-17 23:45:55 - Transformer_no_pretrain - INFO: - decode batch cost time : 0.023396044969558716 ms\n"
     ]
    },
    {
     "name": "stdout",
     "output_type": "stream",
     "text": [
      "predicted_words [[149, 449], [449, 181], [122, 461], [122, 846], [461, 4], [108, 449], [99, 4], [7, 181]]\n",
      "---------------------------\n",
      "predicted_words [[149, 449], [449, 181], [122, 461], [122, 846], [461, 4], [108, 449], [9, 4], [7, 181]]\n",
      "---------------------------\n"
     ]
    },
    {
     "name": "stderr",
     "output_type": "stream",
     "text": [
      "I0417 23:45:55.022994 139696977332032 <ipython-input-11-3340543714f4>:36] decode batch cost time : 0.023396044969558716 ms\n",
      "2020-04-17 23:45:55 - Transformer_no_pretrain - INFO: - decode batch cost time : 0.025086581707000732 ms\n",
      "I0417 23:45:55.231990 139696977332032 <ipython-input-11-3340543714f4>:36] decode batch cost time : 0.025086581707000732 ms\n",
      "2020-04-17 23:45:55 - Transformer_no_pretrain - INFO: - decode batch cost time : 0.023604393005371094 ms\n",
      "I0417 23:45:55.429376 139696977332032 <ipython-input-11-3340543714f4>:36] decode batch cost time : 0.023604393005371094 ms\n"
     ]
    },
    {
     "name": "stdout",
     "output_type": "stream",
     "text": [
      "predicted_words [[149, 449], [449, 181], [122, 461], [122, 846], [461, 4], [108, 449], [9, 4], [7, 181]]\n",
      "---------------------------\n",
      "predicted_words [[149, 449], [4, 393], [122, 461], [122, 846], [461, 4], [108, 449], [9, 4], [7, 181]]\n",
      "---------------------------\n"
     ]
    },
    {
     "name": "stderr",
     "output_type": "stream",
     "text": [
      "2020-04-17 23:45:55 - Transformer_no_pretrain - INFO: - decode batch cost time : 0.0225980281829834 ms\n",
      "I0417 23:45:55.617910 139696977332032 <ipython-input-11-3340543714f4>:36] decode batch cost time : 0.0225980281829834 ms\n",
      "2020-04-17 23:45:55 - Transformer_no_pretrain - INFO: - decode batch cost time : 0.02271518111228943 ms\n",
      "I0417 23:45:55.807535 139696977332032 <ipython-input-11-3340543714f4>:36] decode batch cost time : 0.02271518111228943 ms\n"
     ]
    },
    {
     "name": "stdout",
     "output_type": "stream",
     "text": [
      "predicted_words [[149, 449], [4, 393], [122, 461], [122, 846], [461, 4], [108, 449], [9, 4], [7, 181]]\n",
      "---------------------------\n",
      "predicted_words [[24, 393], [24, 393], [1024, 181], [449, 181], [461, 4], [99, 9], [24, 380], [449, 181]]\n",
      "---------------------------\n"
     ]
    },
    {
     "name": "stderr",
     "output_type": "stream",
     "text": [
      "2020-04-17 23:45:56 - Transformer_no_pretrain - INFO: - decode batch cost time : 0.02384042739868164 ms\n",
      "I0417 23:45:56.011704 139696977332032 <ipython-input-11-3340543714f4>:36] decode batch cost time : 0.02384042739868164 ms\n"
     ]
    },
    {
     "name": "stdout",
     "output_type": "stream",
     "text": [
      "predicted_words [[24, 393], [4, 393], [1024, 181], [122, 846], [461, 4], [108, 449], [99, 4], [7, 181]]\n",
      "---------------------------\n"
     ]
    },
    {
     "name": "stderr",
     "output_type": "stream",
     "text": [
      "2020-04-17 23:45:56 - Transformer_no_pretrain - INFO: - decode batch cost time : 0.025288760662078857 ms\n",
      "I0417 23:45:56.226955 139696977332032 <ipython-input-11-3340543714f4>:36] decode batch cost time : 0.025288760662078857 ms\n"
     ]
    },
    {
     "name": "stdout",
     "output_type": "stream",
     "text": [
      "predicted_words [[149, 449], [449, 181], [122, 461], [122, 846], [461, 4], [108, 449], [9, 4], [7, 181]]\n",
      "---------------------------\n"
     ]
    },
    {
     "name": "stderr",
     "output_type": "stream",
     "text": [
      "2020-04-17 23:45:56 - Transformer_no_pretrain - INFO: - decode batch cost time : 0.023976802825927734 ms\n",
      "I0417 23:45:56.431632 139696977332032 <ipython-input-11-3340543714f4>:36] decode batch cost time : 0.023976802825927734 ms\n",
      "2020-04-17 23:45:56 - Transformer_no_pretrain - INFO: - decode batch cost time : 0.02339521050453186 ms\n",
      "I0417 23:45:56.626847 139696977332032 <ipython-input-11-3340543714f4>:36] decode batch cost time : 0.02339521050453186 ms\n"
     ]
    },
    {
     "name": "stdout",
     "output_type": "stream",
     "text": [
      "predicted_words [[149, 449], [1024, 181], [122, 461], [122, 846], [461, 4], [108, 449], [99, 4], [7, 181]]\n",
      "---------------------------\n",
      "predicted_words [[24, 393], [24, 393], [122, 461], [122, 846], [461, 4], [108, 449], [9, 4], [7, 181]]\n",
      "---------------------------\n"
     ]
    },
    {
     "name": "stderr",
     "output_type": "stream",
     "text": [
      "2020-04-17 23:45:56 - Transformer_no_pretrain - INFO: - decode batch cost time : 0.02316555380821228 ms\n",
      "I0417 23:45:56.819518 139696977332032 <ipython-input-11-3340543714f4>:36] decode batch cost time : 0.02316555380821228 ms\n",
      "2020-04-17 23:45:57 - Transformer_no_pretrain - INFO: - decode batch cost time : 0.023604124784469604 ms\n",
      "I0417 23:45:57.016660 139696977332032 <ipython-input-11-3340543714f4>:36] decode batch cost time : 0.023604124784469604 ms\n"
     ]
    },
    {
     "name": "stdout",
     "output_type": "stream",
     "text": [
      "predicted_words [[24, 393], [4, 393], [24, 393], [449, 181], [461, 4], [108, 449], [99, 4], [7, 181]]\n",
      "---------------------------\n",
      "predicted_words [[149, 449], [449, 181], [122, 461], [122, 846], [461, 4], [108, 449], [9, 4], [7, 181]]\n",
      "---------------------------\n"
     ]
    },
    {
     "name": "stderr",
     "output_type": "stream",
     "text": [
      "2020-04-17 23:45:57 - Transformer_no_pretrain - INFO: - decode batch cost time : 0.024733245372772217 ms\n",
      "I0417 23:45:57.222759 139696977332032 <ipython-input-11-3340543714f4>:36] decode batch cost time : 0.024733245372772217 ms\n"
     ]
    },
    {
     "name": "stdout",
     "output_type": "stream",
     "text": [
      "predicted_words [[24, 393], [1024, 181], [122, 461], [122, 846], [461, 4], [108, 449], [24, 380], [7, 181]]\n",
      "---------------------------\n"
     ]
    },
    {
     "name": "stderr",
     "output_type": "stream",
     "text": [
      "2020-04-17 23:45:57 - Transformer_no_pretrain - INFO: - decode batch cost time : 0.02410629391670227 ms\n",
      "I0417 23:45:57.429137 139696977332032 <ipython-input-11-3340543714f4>:36] decode batch cost time : 0.02410629391670227 ms\n",
      "2020-04-17 23:45:57 - Transformer_no_pretrain - INFO: - decode batch cost time : 0.02262669801712036 ms\n",
      "I0417 23:45:57.622291 139696977332032 <ipython-input-11-3340543714f4>:36] decode batch cost time : 0.02262669801712036 ms\n"
     ]
    },
    {
     "name": "stdout",
     "output_type": "stream",
     "text": [
      "predicted_words [[149, 449], [1024, 181], [122, 461], [122, 846], [461, 4], [108, 449], [9, 4], [7, 181]]\n",
      "---------------------------\n",
      "predicted_words [[24, 393], [4, 393], [1024, 181], [122, 846], [461, 4], [108, 449], [9, 4], [7, 181]]\n",
      "---------------------------\n"
     ]
    },
    {
     "name": "stderr",
     "output_type": "stream",
     "text": [
      "2020-04-17 23:45:57 - Transformer_no_pretrain - INFO: - decode batch cost time : 0.022397786378860474 ms\n",
      "I0417 23:45:57.809135 139696977332032 <ipython-input-11-3340543714f4>:36] decode batch cost time : 0.022397786378860474 ms\n",
      "2020-04-17 23:45:57 - Transformer_no_pretrain - INFO: - decode batch cost time : 0.021907836198806763 ms\n",
      "I0417 23:45:57.991980 139696977332032 <ipython-input-11-3340543714f4>:36] decode batch cost time : 0.021907836198806763 ms\n"
     ]
    },
    {
     "name": "stdout",
     "output_type": "stream",
     "text": [
      "predicted_words [[24, 393], [4, 393], [1024, 181], [122, 846], [461, 4], [108, 449], [9, 4], [7, 181]]\n",
      "---------------------------\n",
      "predicted_words [[149, 449], [1024, 181], [122, 461], [122, 846], [461, 4], [108, 449], [9, 4], [7, 181]]\n",
      "---------------------------\n"
     ]
    },
    {
     "name": "stderr",
     "output_type": "stream",
     "text": [
      "2020-04-17 23:45:58 - Transformer_no_pretrain - INFO: - decode batch cost time : 0.02430853247642517 ms\n",
      "I0417 23:45:58.193763 139696977332032 <ipython-input-11-3340543714f4>:36] decode batch cost time : 0.02430853247642517 ms\n",
      "2020-04-17 23:45:58 - Transformer_no_pretrain - INFO: - decode batch cost time : 0.02237042784690857 ms\n",
      "I0417 23:45:58.381319 139696977332032 <ipython-input-11-3340543714f4>:36] decode batch cost time : 0.02237042784690857 ms\n"
     ]
    },
    {
     "name": "stdout",
     "output_type": "stream",
     "text": [
      "predicted_words [[24, 393], [1024, 181], [1024, 181], [449, 181], [461, 4], [99, 9], [24, 380], [99, 7]]\n",
      "---------------------------\n",
      "predicted_words [[24, 393], [1024, 181], [1024, 181], [449, 181], [461, 4], [99, 9], [24, 380], [99, 7]]\n",
      "---------------------------\n"
     ]
    },
    {
     "name": "stderr",
     "output_type": "stream",
     "text": [
      "2020-04-17 23:45:58 - Transformer_no_pretrain - INFO: - decode batch cost time : 0.023488104343414307 ms\n",
      "I0417 23:45:58.577439 139696977332032 <ipython-input-11-3340543714f4>:36] decode batch cost time : 0.023488104343414307 ms\n",
      "2020-04-17 23:45:58 - Transformer_no_pretrain - INFO: - decode batch cost time : 0.02370569109916687 ms\n",
      "I0417 23:45:58.774566 139696977332032 <ipython-input-11-3340543714f4>:36] decode batch cost time : 0.02370569109916687 ms\n"
     ]
    },
    {
     "name": "stdout",
     "output_type": "stream",
     "text": [
      "predicted_words [[149, 449], [4, 393], [1024, 181], [122, 846], [461, 4], [108, 449], [99, 4], [7, 181]]\n",
      "---------------------------\n",
      "predicted_words [[24, 393], [1024, 181], [24, 393], [449, 181], [461, 4], [108, 449], [99, 4], [7, 181]]\n",
      "---------------------------\n"
     ]
    },
    {
     "name": "stderr",
     "output_type": "stream",
     "text": [
      "2020-04-17 23:45:58 - Transformer_no_pretrain - INFO: - decode batch cost time : 0.024405598640441895 ms\n",
      "I0417 23:45:58.976875 139696977332032 <ipython-input-11-3340543714f4>:36] decode batch cost time : 0.024405598640441895 ms\n"
     ]
    },
    {
     "name": "stdout",
     "output_type": "stream",
     "text": [
      "predicted_words [[149, 449], [449, 181], [122, 461], [122, 846], [461, 4], [108, 449], [9, 4], [449, 181]]\n",
      "---------------------------\n"
     ]
    },
    {
     "name": "stderr",
     "output_type": "stream",
     "text": [
      "2020-04-17 23:45:59 - Transformer_no_pretrain - INFO: - decode batch cost time : 0.027006864547729492 ms\n",
      "I0417 23:45:59.205087 139696977332032 <ipython-input-11-3340543714f4>:36] decode batch cost time : 0.027006864547729492 ms\n"
     ]
    },
    {
     "name": "stdout",
     "output_type": "stream",
     "text": [
      "predicted_words [[149, 449], [449, 181], [122, 461], [122, 846], [461, 4], [108, 449], [9, 4], [7, 181]]\n",
      "---------------------------\n"
     ]
    },
    {
     "name": "stderr",
     "output_type": "stream",
     "text": [
      "2020-04-17 23:45:59 - Transformer_no_pretrain - INFO: - decode batch cost time : 0.02416488528251648 ms\n",
      "I0417 23:45:59.407577 139696977332032 <ipython-input-11-3340543714f4>:36] decode batch cost time : 0.02416488528251648 ms\n",
      "2020-04-17 23:45:59 - Transformer_no_pretrain - INFO: - decode batch cost time : 0.023487508296966553 ms\n",
      "I0417 23:45:59.603434 139696977332032 <ipython-input-11-3340543714f4>:36] decode batch cost time : 0.023487508296966553 ms\n"
     ]
    },
    {
     "name": "stdout",
     "output_type": "stream",
     "text": [
      "predicted_words [[24, 393], [24, 393], [122, 461], [122, 846], [461, 4], [108, 449], [24, 380], [7, 181]]\n",
      "---------------------------\n",
      "predicted_words [[149, 449], [4, 393], [122, 461], [122, 846], [461, 4], [108, 449], [9, 4], [7, 181]]\n",
      "---------------------------\n"
     ]
    },
    {
     "name": "stderr",
     "output_type": "stream",
     "text": [
      "2020-04-17 23:45:59 - Transformer_no_pretrain - INFO: - decode batch cost time : 0.025077104568481445 ms\n",
      "I0417 23:45:59.812422 139696977332032 <ipython-input-11-3340543714f4>:36] decode batch cost time : 0.025077104568481445 ms\n"
     ]
    },
    {
     "name": "stdout",
     "output_type": "stream",
     "text": [
      "predicted_words [[149, 449], [449, 181], [122, 461], [122, 846], [461, 4], [108, 449], [99, 4], [7, 181]]\n",
      "---------------------------\n"
     ]
    },
    {
     "name": "stderr",
     "output_type": "stream",
     "text": [
      "2020-04-17 23:46:00 - Transformer_no_pretrain - INFO: - decode batch cost time : 0.02546745538711548 ms\n",
      "I0417 23:46:00.023858 139696977332032 <ipython-input-11-3340543714f4>:36] decode batch cost time : 0.02546745538711548 ms\n",
      "2020-04-17 23:46:00 - Transformer_no_pretrain - INFO: - decode batch cost time : 0.023208796977996826 ms\n",
      "I0417 23:46:00.218320 139696977332032 <ipython-input-11-3340543714f4>:36] decode batch cost time : 0.023208796977996826 ms\n"
     ]
    },
    {
     "name": "stdout",
     "output_type": "stream",
     "text": [
      "predicted_words [[149, 449], [449, 181], [122, 461], [122, 846], [461, 4], [108, 449], [9, 4], [7, 181]]\n",
      "---------------------------\n",
      "predicted_words [[149, 449], [1024, 181], [122, 461], [122, 846], [461, 4], [108, 449], [9, 4], [7, 181]]\n",
      "---------------------------\n"
     ]
    },
    {
     "name": "stderr",
     "output_type": "stream",
     "text": [
      "2020-04-17 23:46:00 - Transformer_no_pretrain - INFO: - decode batch cost time : 0.024471133947372437 ms\n",
      "I0417 23:46:00.427005 139696977332032 <ipython-input-11-3340543714f4>:36] decode batch cost time : 0.024471133947372437 ms\n",
      "2020-04-17 23:46:00 - Transformer_no_pretrain - INFO: - decode batch cost time : 0.022954732179641724 ms\n",
      "I0417 23:46:00.618130 139696977332032 <ipython-input-11-3340543714f4>:36] decode batch cost time : 0.022954732179641724 ms\n"
     ]
    },
    {
     "name": "stdout",
     "output_type": "stream",
     "text": [
      "predicted_words [[24, 393], [4, 393], [24, 393], [449, 181], [461, 4], [108, 449], [24, 380], [7, 181]]\n",
      "---------------------------\n",
      "predicted_words [[24, 393], [1024, 181], [24, 393], [449, 181], [461, 4], [99, 9], [24, 380], [7, 181]]\n",
      "---------------------------\n"
     ]
    },
    {
     "name": "stderr",
     "output_type": "stream",
     "text": [
      "2020-04-17 23:46:00 - Transformer_no_pretrain - INFO: - decode batch cost time : 0.024012327194213867 ms\n",
      "I0417 23:46:00.818242 139696977332032 <ipython-input-11-3340543714f4>:36] decode batch cost time : 0.024012327194213867 ms\n",
      "2020-04-17 23:46:01 - Transformer_no_pretrain - INFO: - decode batch cost time : 0.023398935794830322 ms\n"
     ]
    },
    {
     "name": "stdout",
     "output_type": "stream",
     "text": [
      "predicted_words [[24, 393], [4, 393], [1024, 181], [122, 846], [461, 4], [108, 449], [99, 4], [7, 181]]\n",
      "---------------------------\n",
      "predicted_words [[149, 449], [1024, 181], [122, 461], [122, 846], [461, 4], [108, 449], [9, 4], [7, 181]]\n",
      "---------------------------\n"
     ]
    },
    {
     "name": "stderr",
     "output_type": "stream",
     "text": [
      "I0417 23:46:01.017994 139696977332032 <ipython-input-11-3340543714f4>:36] decode batch cost time : 0.023398935794830322 ms\n",
      "2020-04-17 23:46:01 - Transformer_no_pretrain - INFO: - decode batch cost time : 0.025586217641830444 ms\n",
      "I0417 23:46:01.231023 139696977332032 <ipython-input-11-3340543714f4>:36] decode batch cost time : 0.025586217641830444 ms\n"
     ]
    },
    {
     "name": "stdout",
     "output_type": "stream",
     "text": [
      "predicted_words [[149, 449], [449, 181], [122, 461], [122, 846], [461, 4], [108, 449], [9, 4], [7, 181]]\n",
      "---------------------------\n"
     ]
    },
    {
     "name": "stderr",
     "output_type": "stream",
     "text": [
      "2020-04-17 23:46:01 - Transformer_no_pretrain - INFO: - decode batch cost time : 0.02484726905822754 ms\n",
      "I0417 23:46:01.438291 139696977332032 <ipython-input-11-3340543714f4>:36] decode batch cost time : 0.02484726905822754 ms\n",
      "2020-04-17 23:46:01 - Transformer_no_pretrain - INFO: - decode batch cost time : 0.022967487573623657 ms\n",
      "I0417 23:46:01.629592 139696977332032 <ipython-input-11-3340543714f4>:36] decode batch cost time : 0.022967487573623657 ms\n"
     ]
    },
    {
     "name": "stdout",
     "output_type": "stream",
     "text": [
      "predicted_words [[149, 449], [4, 393], [1024, 181], [122, 846], [461, 4], [108, 449], [99, 4], [7, 181]]\n",
      "---------------------------\n",
      "predicted_words [[149, 449], [449, 181], [122, 461], [122, 846], [461, 4], [108, 449], [9, 4], [7, 181]]\n",
      "---------------------------\n"
     ]
    },
    {
     "name": "stderr",
     "output_type": "stream",
     "text": [
      "2020-04-17 23:46:01 - Transformer_no_pretrain - INFO: - decode batch cost time : 0.023713231086730957 ms\n",
      "I0417 23:46:01.827533 139696977332032 <ipython-input-11-3340543714f4>:36] decode batch cost time : 0.023713231086730957 ms\n",
      "2020-04-17 23:46:02 - Transformer_no_pretrain - INFO: - decode batch cost time : 0.02344319224357605 ms\n",
      "I0417 23:46:02.022673 139696977332032 <ipython-input-11-3340543714f4>:36] decode batch cost time : 0.02344319224357605 ms\n"
     ]
    },
    {
     "name": "stdout",
     "output_type": "stream",
     "text": [
      "predicted_words [[149, 449], [1024, 181], [122, 461], [122, 846], [461, 4], [108, 449], [9, 4], [7, 181]]\n",
      "---------------------------\n",
      "predicted_words [[149, 449], [4, 393], [122, 461], [122, 846], [461, 4], [108, 449], [99, 4], [7, 181]]\n",
      "---------------------------\n"
     ]
    },
    {
     "name": "stderr",
     "output_type": "stream",
     "text": [
      "2020-04-17 23:46:02 - Transformer_no_pretrain - INFO: - decode batch cost time : 0.02362760901451111 ms\n",
      "I0417 23:46:02.219201 139696977332032 <ipython-input-11-3340543714f4>:36] decode batch cost time : 0.02362760901451111 ms\n"
     ]
    },
    {
     "name": "stdout",
     "output_type": "stream",
     "text": [
      "predicted_words [[149, 449], [1024, 181], [122, 461], [122, 846], [461, 4], [108, 449], [9, 4], [7, 181]]\n",
      "---------------------------\n"
     ]
    },
    {
     "name": "stderr",
     "output_type": "stream",
     "text": [
      "2020-04-17 23:46:02 - Transformer_no_pretrain - INFO: - decode batch cost time : 0.02366730570793152 ms\n",
      "I0417 23:46:02.421767 139696977332032 <ipython-input-11-3340543714f4>:36] decode batch cost time : 0.02366730570793152 ms\n",
      "2020-04-17 23:46:02 - Transformer_no_pretrain - INFO: - decode batch cost time : 0.022945523262023926 ms\n",
      "I0417 23:46:02.612801 139696977332032 <ipython-input-11-3340543714f4>:36] decode batch cost time : 0.022945523262023926 ms\n"
     ]
    },
    {
     "name": "stdout",
     "output_type": "stream",
     "text": [
      "predicted_words [[149, 449], [449, 181], [122, 461], [122, 846], [461, 4], [108, 449], [9, 4], [7, 181]]\n",
      "---------------------------\n",
      "predicted_words [[24, 393], [4, 393], [1024, 181], [1024, 181], [461, 4], [108, 449], [99, 4], [7, 181]]\n",
      "---------------------------\n"
     ]
    },
    {
     "name": "stderr",
     "output_type": "stream",
     "text": [
      "2020-04-17 23:46:02 - Transformer_no_pretrain - INFO: - decode batch cost time : 0.023629039525985718 ms\n",
      "I0417 23:46:02.810751 139696977332032 <ipython-input-11-3340543714f4>:36] decode batch cost time : 0.023629039525985718 ms\n",
      "2020-04-17 23:46:03 - Transformer_no_pretrain - INFO: - decode batch cost time : 0.02372339367866516 ms\n",
      "I0417 23:46:03.009011 139696977332032 <ipython-input-11-3340543714f4>:36] decode batch cost time : 0.02372339367866516 ms\n"
     ]
    },
    {
     "name": "stdout",
     "output_type": "stream",
     "text": [
      "predicted_words [[149, 449], [449, 181], [122, 461], [122, 846], [461, 4], [108, 449], [9, 4], [7, 181]]\n",
      "---------------------------\n",
      "predicted_words [[24, 393], [4, 393], [1024, 181], [122, 846], [461, 4], [108, 449], [99, 4], [7, 181]]\n",
      "---------------------------\n"
     ]
    },
    {
     "name": "stderr",
     "output_type": "stream",
     "text": [
      "2020-04-17 23:46:03 - Transformer_no_pretrain - INFO: - decode batch cost time : 0.023886173963546753 ms\n",
      "I0417 23:46:03.208611 139696977332032 <ipython-input-11-3340543714f4>:36] decode batch cost time : 0.023886173963546753 ms\n",
      "2020-04-17 23:46:03 - Transformer_no_pretrain - INFO: - decode batch cost time : 0.023119807243347168 ms\n",
      "I0417 23:46:03.401959 139696977332032 <ipython-input-11-3340543714f4>:36] decode batch cost time : 0.023119807243347168 ms\n"
     ]
    },
    {
     "name": "stdout",
     "output_type": "stream",
     "text": [
      "predicted_words [[149, 449], [449, 181], [122, 461], [122, 846], [461, 4], [108, 449], [9, 4], [7, 181]]\n",
      "---------------------------\n",
      "predicted_words [[24, 393], [4, 393], [1024, 181], [122, 846], [461, 4], [108, 449], [99, 4], [7, 181]]\n",
      "---------------------------\n"
     ]
    },
    {
     "name": "stderr",
     "output_type": "stream",
     "text": [
      "2020-04-17 23:46:03 - Transformer_no_pretrain - INFO: - decode batch cost time : 0.025273621082305908 ms\n",
      "I0417 23:46:03.613169 139696977332032 <ipython-input-11-3340543714f4>:36] decode batch cost time : 0.025273621082305908 ms\n"
     ]
    },
    {
     "name": "stdout",
     "output_type": "stream",
     "text": [
      "predicted_words [[24, 393], [4, 393], [1024, 181], [122, 846], [461, 4], [108, 449], [9, 4], [449, 181]]\n",
      "---------------------------\n"
     ]
    },
    {
     "name": "stderr",
     "output_type": "stream",
     "text": [
      "2020-04-17 23:46:03 - Transformer_no_pretrain - INFO: - decode batch cost time : 0.02596089243888855 ms\n",
      "I0417 23:46:03.829411 139696977332032 <ipython-input-11-3340543714f4>:36] decode batch cost time : 0.02596089243888855 ms\n",
      "2020-04-17 23:46:04 - Transformer_no_pretrain - INFO: - decode batch cost time : 0.023791909217834473 ms\n",
      "I0417 23:46:04.028460 139696977332032 <ipython-input-11-3340543714f4>:36] decode batch cost time : 0.023791909217834473 ms\n"
     ]
    },
    {
     "name": "stdout",
     "output_type": "stream",
     "text": [
      "predicted_words [[24, 393], [4, 393], [1024, 181], [122, 846], [461, 4], [108, 449], [9, 4], [449, 181]]\n",
      "---------------------------\n",
      "predicted_words [[149, 449], [449, 181], [122, 461], [122, 846], [461, 4], [108, 449], [9, 4], [7, 181]]\n",
      "---------------------------\n"
     ]
    },
    {
     "name": "stderr",
     "output_type": "stream",
     "text": [
      "2020-04-17 23:46:04 - Transformer_no_pretrain - INFO: - decode batch cost time : 0.023873120546340942 ms\n",
      "I0417 23:46:04.227681 139696977332032 <ipython-input-11-3340543714f4>:36] decode batch cost time : 0.023873120546340942 ms\n",
      "2020-04-17 23:46:04 - Transformer_no_pretrain - INFO: - decode batch cost time : 0.023606568574905396 ms\n",
      "I0417 23:46:04.425039 139696977332032 <ipython-input-11-3340543714f4>:36] decode batch cost time : 0.023606568574905396 ms\n"
     ]
    },
    {
     "name": "stdout",
     "output_type": "stream",
     "text": [
      "predicted_words [[149, 449], [1024, 181], [122, 461], [122, 846], [461, 4], [108, 449], [99, 4], [7, 181]]\n",
      "---------------------------\n",
      "predicted_words [[149, 449], [4, 393], [122, 461], [122, 846], [461, 4], [108, 449], [9, 4], [7, 181]]\n",
      "---------------------------\n"
     ]
    },
    {
     "name": "stderr",
     "output_type": "stream",
     "text": [
      "2020-04-17 23:46:04 - Transformer_no_pretrain - INFO: - decode batch cost time : 0.023763388395309448 ms\n",
      "I0417 23:46:04.622799 139696977332032 <ipython-input-11-3340543714f4>:36] decode batch cost time : 0.023763388395309448 ms\n"
     ]
    },
    {
     "name": "stdout",
     "output_type": "stream",
     "text": [
      "predicted_words [[149, 449], [449, 181], [122, 461], [122, 846], [461, 4], [108, 449], [9, 4], [7, 181]]\n",
      "---------------------------\n"
     ]
    },
    {
     "name": "stderr",
     "output_type": "stream",
     "text": [
      "2020-04-17 23:46:04 - Transformer_no_pretrain - INFO: - decode batch cost time : 0.025064915418624878 ms\n",
      "I0417 23:46:04.833498 139696977332032 <ipython-input-11-3340543714f4>:36] decode batch cost time : 0.025064915418624878 ms\n",
      "2020-04-17 23:46:05 - Transformer_no_pretrain - INFO: - decode batch cost time : 0.024037301540374756 ms\n"
     ]
    },
    {
     "name": "stdout",
     "output_type": "stream",
     "text": [
      "predicted_words [[24, 393], [24, 393], [24, 393], [122, 846], [7, 4], [108, 449], [24, 380], [7, 181]]\n",
      "---------------------------\n",
      "predicted_words [[149, 449], [449, 181], [122, 461], [122, 846], [461, 4], [108, 449], [9, 4], [7, 181]]\n",
      "---------------------------\n"
     ]
    },
    {
     "name": "stderr",
     "output_type": "stream",
     "text": [
      "I0417 23:46:05.033654 139696977332032 <ipython-input-11-3340543714f4>:36] decode batch cost time : 0.024037301540374756 ms\n",
      "2020-04-17 23:46:05 - Transformer_no_pretrain - INFO: - decode batch cost time : 0.02373582124710083 ms\n",
      "I0417 23:46:05.232033 139696977332032 <ipython-input-11-3340543714f4>:36] decode batch cost time : 0.02373582124710083 ms\n",
      "2020-04-17 23:46:05 - Transformer_no_pretrain - INFO: - decode batch cost time : 0.023031115531921387 ms\n",
      "I0417 23:46:05.424412 139696977332032 <ipython-input-11-3340543714f4>:36] decode batch cost time : 0.023031115531921387 ms\n"
     ]
    },
    {
     "name": "stdout",
     "output_type": "stream",
     "text": [
      "predicted_words [[149, 449], [449, 181], [122, 461], [122, 846], [461, 4], [108, 449], [9, 4], [7, 181]]\n",
      "---------------------------\n",
      "predicted_words [[149, 449], [1024, 181], [122, 461], [122, 846], [461, 4], [108, 449], [9, 4], [7, 181]]\n",
      "---------------------------\n"
     ]
    },
    {
     "name": "stderr",
     "output_type": "stream",
     "text": [
      "2020-04-17 23:46:05 - Transformer_no_pretrain - INFO: - decode batch cost time : 0.02437680959701538 ms\n",
      "I0417 23:46:05.628237 139696977332032 <ipython-input-11-3340543714f4>:36] decode batch cost time : 0.02437680959701538 ms\n"
     ]
    },
    {
     "name": "stdout",
     "output_type": "stream",
     "text": [
      "predicted_words [[24, 393], [1024, 181], [122, 461], [122, 846], [461, 4], [108, 449], [9, 4], [7, 181]]\n",
      "---------------------------\n"
     ]
    },
    {
     "name": "stderr",
     "output_type": "stream",
     "text": [
      "2020-04-17 23:46:05 - Transformer_no_pretrain - INFO: - decode batch cost time : 0.02362111210823059 ms\n",
      "I0417 23:46:05.831450 139696977332032 <ipython-input-11-3340543714f4>:36] decode batch cost time : 0.02362111210823059 ms\n",
      "2020-04-17 23:46:06 - Transformer_no_pretrain - INFO: - decode batch cost time : 0.022333115339279175 ms\n",
      "I0417 23:46:06.018137 139696977332032 <ipython-input-11-3340543714f4>:36] decode batch cost time : 0.022333115339279175 ms\n"
     ]
    },
    {
     "name": "stdout",
     "output_type": "stream",
     "text": [
      "predicted_words [[149, 449], [449, 181], [122, 461], [122, 846], [461, 4], [108, 449], [9, 4], [7, 181]]\n",
      "---------------------------\n",
      "predicted_words [[149, 449], [449, 181], [122, 461], [122, 846], [461, 4], [108, 449], [9, 4], [7, 181]]\n",
      "---------------------------\n"
     ]
    },
    {
     "name": "stderr",
     "output_type": "stream",
     "text": [
      "2020-04-17 23:46:06 - Transformer_no_pretrain - INFO: - decode batch cost time : 0.024298042058944702 ms\n",
      "I0417 23:46:06.226783 139696977332032 <ipython-input-11-3340543714f4>:36] decode batch cost time : 0.024298042058944702 ms\n",
      "2020-04-17 23:46:06 - Transformer_no_pretrain - INFO: - decode batch cost time : 0.02209627628326416 ms\n",
      "I0417 23:46:06.412016 139696977332032 <ipython-input-11-3340543714f4>:36] decode batch cost time : 0.02209627628326416 ms\n"
     ]
    },
    {
     "name": "stdout",
     "output_type": "stream",
     "text": [
      "predicted_words [[149, 449], [449, 181], [122, 461], [122, 846], [461, 4], [108, 449], [9, 4], [7, 181]]\n",
      "---------------------------\n",
      "predicted_words [[24, 393], [1024, 181], [1024, 181], [449, 181], [461, 4], [108, 449], [24, 380], [7, 181]]\n",
      "---------------------------\n"
     ]
    },
    {
     "name": "stderr",
     "output_type": "stream",
     "text": [
      "2020-04-17 23:46:06 - Transformer_no_pretrain - INFO: - decode batch cost time : 0.02430051565170288 ms\n",
      "I0417 23:46:06.615072 139696977332032 <ipython-input-11-3340543714f4>:36] decode batch cost time : 0.02430051565170288 ms\n",
      "2020-04-17 23:46:06 - Transformer_no_pretrain - INFO: - decode batch cost time : 0.022449404001235962 ms\n",
      "I0417 23:46:06.803100 139696977332032 <ipython-input-11-3340543714f4>:36] decode batch cost time : 0.022449404001235962 ms\n"
     ]
    },
    {
     "name": "stdout",
     "output_type": "stream",
     "text": [
      "predicted_words [[149, 449], [449, 181], [122, 461], [122, 846], [461, 4], [108, 449], [9, 4], [7, 181]]\n",
      "---------------------------\n",
      "predicted_words [[149, 449], [1024, 181], [122, 461], [122, 846], [461, 4], [108, 449], [9, 4], [7, 181]]\n",
      "---------------------------\n"
     ]
    },
    {
     "name": "stderr",
     "output_type": "stream",
     "text": [
      "2020-04-17 23:46:06 - Transformer_no_pretrain - INFO: - decode batch cost time : 0.02293267846107483 ms\n",
      "I0417 23:46:06.994818 139696977332032 <ipython-input-11-3340543714f4>:36] decode batch cost time : 0.02293267846107483 ms\n",
      "2020-04-17 23:46:07 - Transformer_no_pretrain - INFO: - decode batch cost time : 0.023145556449890137 ms\n",
      "I0417 23:46:07.190637 139696977332032 <ipython-input-11-3340543714f4>:36] decode batch cost time : 0.023145556449890137 ms\n"
     ]
    },
    {
     "name": "stdout",
     "output_type": "stream",
     "text": [
      "predicted_words [[149, 449], [449, 181], [122, 461], [122, 846], [461, 4], [108, 449], [9, 4], [7, 181]]\n",
      "---------------------------\n",
      "predicted_words [[24, 393], [24, 393], [122, 461], [449, 181], [461, 4], [108, 449], [9, 4], [7, 181]]\n",
      "---------------------------\n"
     ]
    },
    {
     "name": "stderr",
     "output_type": "stream",
     "text": [
      "2020-04-17 23:46:07 - Transformer_no_pretrain - INFO: - decode batch cost time : 0.02443423867225647 ms\n",
      "I0417 23:46:07.394590 139696977332032 <ipython-input-11-3340543714f4>:36] decode batch cost time : 0.02443423867225647 ms\n",
      "2020-04-17 23:46:07 - Transformer_no_pretrain - INFO: - decode batch cost time : 0.023928135633468628 ms\n"
     ]
    },
    {
     "name": "stdout",
     "output_type": "stream",
     "text": [
      "predicted_words [[149, 449], [449, 181], [122, 461], [122, 846], [461, 4], [108, 449], [9, 4], [7, 181]]\n",
      "---------------------------\n",
      "predicted_words [[149, 449], [1024, 181], [122, 461], [122, 846], [461, 4], [108, 449], [99, 4], [7, 181]]\n",
      "---------------------------\n"
     ]
    },
    {
     "name": "stderr",
     "output_type": "stream",
     "text": [
      "I0417 23:46:07.595217 139696977332032 <ipython-input-11-3340543714f4>:36] decode batch cost time : 0.023928135633468628 ms\n",
      "2020-04-17 23:46:07 - Transformer_no_pretrain - INFO: - decode batch cost time : 0.024149268865585327 ms\n",
      "I0417 23:46:07.801568 139696977332032 <ipython-input-11-3340543714f4>:36] decode batch cost time : 0.024149268865585327 ms\n",
      "2020-04-17 23:46:08 - Transformer_no_pretrain - INFO: - decode batch cost time : 0.02395889163017273 ms\n"
     ]
    },
    {
     "name": "stdout",
     "output_type": "stream",
     "text": [
      "predicted_words [[149, 449], [1024, 181], [122, 461], [122, 846], [461, 4], [108, 449], [9, 4], [7, 181]]\n",
      "---------------------------\n",
      "predicted_words [[24, 393], [1024, 181], [1024, 181], [122, 846], [461, 4], [122, 461], [24, 380], [7, 181]]\n",
      "---------------------------\n"
     ]
    },
    {
     "name": "stderr",
     "output_type": "stream",
     "text": [
      "I0417 23:46:08.002014 139696977332032 <ipython-input-11-3340543714f4>:36] decode batch cost time : 0.02395889163017273 ms\n",
      "2020-04-17 23:46:08 - Transformer_no_pretrain - INFO: - decode batch cost time : 0.024227440357208252 ms\n",
      "I0417 23:46:08.204504 139696977332032 <ipython-input-11-3340543714f4>:36] decode batch cost time : 0.024227440357208252 ms\n",
      "2020-04-17 23:46:08 - Transformer_no_pretrain - INFO: - decode batch cost time : 0.02379670739173889 ms\n"
     ]
    },
    {
     "name": "stdout",
     "output_type": "stream",
     "text": [
      "predicted_words [[149, 449], [4, 393], [1024, 181], [122, 846], [461, 4], [108, 449], [99, 4], [7, 181]]\n",
      "---------------------------\n",
      "predicted_words [[149, 449], [449, 181], [122, 461], [122, 846], [461, 4], [108, 449], [9, 4], [7, 181]]\n",
      "---------------------------\n"
     ]
    },
    {
     "name": "stderr",
     "output_type": "stream",
     "text": [
      "I0417 23:46:08.404177 139696977332032 <ipython-input-11-3340543714f4>:36] decode batch cost time : 0.02379670739173889 ms\n",
      "2020-04-17 23:46:08 - Transformer_no_pretrain - INFO: - decode batch cost time : 0.023817777633666992 ms\n",
      "I0417 23:46:08.615311 139696977332032 <ipython-input-11-3340543714f4>:36] decode batch cost time : 0.023817777633666992 ms\n",
      "2020-04-17 23:46:08 - Transformer_no_pretrain - INFO: - decode batch cost time : 0.02331283688545227 ms\n",
      "I0417 23:46:08.809660 139696977332032 <ipython-input-11-3340543714f4>:36] decode batch cost time : 0.02331283688545227 ms\n"
     ]
    },
    {
     "name": "stdout",
     "output_type": "stream",
     "text": [
      "predicted_words [[24, 393], [4, 393], [1024, 181], [122, 846], [461, 4], [108, 449], [99, 4], [7, 181]]\n",
      "---------------------------\n",
      "predicted_words [[149, 449], [1024, 181], [122, 461], [122, 846], [461, 4], [108, 449], [9, 4], [7, 181]]\n",
      "---------------------------\n"
     ]
    },
    {
     "name": "stderr",
     "output_type": "stream",
     "text": [
      "2020-04-17 23:46:09 - Transformer_no_pretrain - INFO: - decode batch cost time : 0.025728613138198853 ms\n",
      "I0417 23:46:09.029834 139696977332032 <ipython-input-11-3340543714f4>:36] decode batch cost time : 0.025728613138198853 ms\n"
     ]
    },
    {
     "name": "stdout",
     "output_type": "stream",
     "text": [
      "predicted_words [[149, 449], [4, 393], [122, 461], [122, 846], [461, 4], [108, 449], [99, 4], [7, 181]]\n",
      "---------------------------\n"
     ]
    },
    {
     "name": "stderr",
     "output_type": "stream",
     "text": [
      "2020-04-17 23:46:09 - Transformer_no_pretrain - INFO: - decode batch cost time : 0.025313347578048706 ms\n",
      "I0417 23:46:09.240912 139696977332032 <ipython-input-11-3340543714f4>:36] decode batch cost time : 0.025313347578048706 ms\n"
     ]
    },
    {
     "name": "stdout",
     "output_type": "stream",
     "text": [
      "predicted_words [[149, 449], [4, 393], [1024, 181], [122, 846], [461, 4], [108, 449], [9, 4], [7, 181]]\n",
      "---------------------------\n"
     ]
    },
    {
     "name": "stderr",
     "output_type": "stream",
     "text": [
      "2020-04-17 23:46:09 - Transformer_no_pretrain - INFO: - decode batch cost time : 0.02396753430366516 ms\n",
      "I0417 23:46:09.450404 139696977332032 <ipython-input-11-3340543714f4>:36] decode batch cost time : 0.02396753430366516 ms\n"
     ]
    },
    {
     "name": "stdout",
     "output_type": "stream",
     "text": [
      "predicted_words [[149, 449], [449, 181], [122, 461], [122, 846], [461, 4], [108, 449], [9, 4], [7, 181]]\n",
      "---------------------------\n"
     ]
    },
    {
     "name": "stderr",
     "output_type": "stream",
     "text": [
      "2020-04-17 23:46:09 - Transformer_no_pretrain - INFO: - decode batch cost time : 0.02561885118484497 ms\n",
      "I0417 23:46:09.664135 139696977332032 <ipython-input-11-3340543714f4>:36] decode batch cost time : 0.02561885118484497 ms\n"
     ]
    },
    {
     "name": "stdout",
     "output_type": "stream",
     "text": [
      "predicted_words [[149, 449], [449, 181], [122, 461], [122, 846], [461, 4], [108, 449], [9, 4], [7, 181]]\n",
      "---------------------------\n"
     ]
    },
    {
     "name": "stderr",
     "output_type": "stream",
     "text": [
      "2020-04-17 23:46:09 - Transformer_no_pretrain - INFO: - decode batch cost time : 0.02439144253730774 ms\n",
      "I0417 23:46:09.867992 139696977332032 <ipython-input-11-3340543714f4>:36] decode batch cost time : 0.02439144253730774 ms\n"
     ]
    },
    {
     "name": "stdout",
     "output_type": "stream",
     "text": [
      "predicted_words [[149, 449], [449, 181], [122, 461], [122, 846], [461, 4], [108, 449], [9, 4], [7, 181]]\n",
      "---------------------------\n",
      "predicted_words [[149, 449], [449, 181], [122, 461], [122, 846], [461, 4], [108, 449], [9, 4], [7, 181]]\n"
     ]
    },
    {
     "name": "stderr",
     "output_type": "stream",
     "text": [
      "2020-04-17 23:46:10 - Transformer_no_pretrain - INFO: - decode batch cost time : 0.0237257182598114 ms\n",
      "I0417 23:46:10.068534 139696977332032 <ipython-input-11-3340543714f4>:36] decode batch cost time : 0.0237257182598114 ms\n",
      "2020-04-17 23:46:10 - Transformer_no_pretrain - INFO: - decode batch cost time : 0.02268710732460022 ms\n",
      "I0417 23:46:10.258221 139696977332032 <ipython-input-11-3340543714f4>:36] decode batch cost time : 0.02268710732460022 ms\n",
      "2020-04-17 23:46:10 - Transformer_no_pretrain - INFO: - decode batch cost time : 0.023126184940338135 ms\n",
      "I0417 23:46:10.452483 139696977332032 <ipython-input-11-3340543714f4>:36] decode batch cost time : 0.023126184940338135 ms\n"
     ]
    },
    {
     "name": "stdout",
     "output_type": "stream",
     "text": [
      "---------------------------\n",
      "predicted_words [[149, 449], [1024, 181], [122, 461], [122, 846], [461, 4], [108, 449], [9, 4], [7, 181]]\n",
      "---------------------------\n",
      "predicted_words [[149, 449], [449, 181], [122, 461], [122, 846], [461, 4], [108, 449], [9, 4], [7, 181]]\n",
      "---------------------------\n"
     ]
    },
    {
     "name": "stderr",
     "output_type": "stream",
     "text": [
      "2020-04-17 23:46:10 - Transformer_no_pretrain - INFO: - decode batch cost time : 0.024969488382339478 ms\n",
      "I0417 23:46:10.660869 139696977332032 <ipython-input-11-3340543714f4>:36] decode batch cost time : 0.024969488382339478 ms\n"
     ]
    },
    {
     "name": "stdout",
     "output_type": "stream",
     "text": [
      "predicted_words [[24, 393], [449, 181], [1024, 181], [449, 181], [461, 4], [108, 449], [99, 4], [7, 181]]\n",
      "---------------------------\n"
     ]
    },
    {
     "name": "stderr",
     "output_type": "stream",
     "text": [
      "2020-04-17 23:46:10 - Transformer_no_pretrain - INFO: - decode batch cost time : 0.02431201934814453 ms\n",
      "I0417 23:46:10.869216 139696977332032 <ipython-input-11-3340543714f4>:36] decode batch cost time : 0.02431201934814453 ms\n",
      "2020-04-17 23:46:11 - Transformer_no_pretrain - INFO: - decode batch cost time : 0.023977220058441162 ms\n",
      "I0417 23:46:11.069032 139696977332032 <ipython-input-11-3340543714f4>:36] decode batch cost time : 0.023977220058441162 ms\n"
     ]
    },
    {
     "name": "stdout",
     "output_type": "stream",
     "text": [
      "predicted_words [[24, 393], [4, 393], [1024, 181], [122, 846], [461, 4], [108, 449], [9, 4], [7, 181]]\n",
      "---------------------------\n",
      "predicted_words [[149, 449], [4, 393], [122, 461], [122, 846], [461, 4], [108, 449], [9, 4], [7, 181]]\n",
      "---------------------------\n"
     ]
    },
    {
     "name": "stderr",
     "output_type": "stream",
     "text": [
      "2020-04-17 23:46:11 - Transformer_no_pretrain - INFO: - decode batch cost time : 0.025257468223571777 ms\n",
      "I0417 23:46:11.279832 139696977332032 <ipython-input-11-3340543714f4>:36] decode batch cost time : 0.025257468223571777 ms\n"
     ]
    },
    {
     "name": "stdout",
     "output_type": "stream",
     "text": [
      "predicted_words [[149, 449], [1024, 181], [122, 461], [122, 846], [461, 4], [108, 449], [9, 4], [7, 181]]\n",
      "---------------------------\n",
      "predicted_words [[24, 393], [1024, 181], [1024, 181], [122, 846], [461, 4], [108, 449], [9, 4], [7, 181]]\n",
      "---------------------------\n"
     ]
    },
    {
     "name": "stderr",
     "output_type": "stream",
     "text": [
      "2020-04-17 23:46:11 - Transformer_no_pretrain - INFO: - decode batch cost time : 0.024059265851974487 ms\n",
      "I0417 23:46:11.480741 139696977332032 <ipython-input-11-3340543714f4>:36] decode batch cost time : 0.024059265851974487 ms\n",
      "2020-04-17 23:46:11 - Transformer_no_pretrain - INFO: - decode batch cost time : 0.02352425456047058 ms\n",
      "I0417 23:46:11.678448 139696977332032 <ipython-input-11-3340543714f4>:36] decode batch cost time : 0.02352425456047058 ms\n"
     ]
    },
    {
     "name": "stdout",
     "output_type": "stream",
     "text": [
      "predicted_words [[149, 449], [24, 393], [1024, 181], [122, 846], [461, 4], [108, 449], [24, 380], [7, 181]]\n",
      "---------------------------\n"
     ]
    },
    {
     "name": "stderr",
     "output_type": "stream",
     "text": [
      "2020-04-17 23:46:11 - Transformer_no_pretrain - INFO: - decode batch cost time : 0.026341944932937622 ms\n",
      "I0417 23:46:11.898002 139696977332032 <ipython-input-11-3340543714f4>:36] decode batch cost time : 0.026341944932937622 ms\n"
     ]
    },
    {
     "name": "stdout",
     "output_type": "stream",
     "text": [
      "predicted_words [[149, 449], [1024, 181], [122, 461], [122, 846], [461, 4], [108, 449], [9, 4], [7, 181]]\n",
      "---------------------------\n"
     ]
    },
    {
     "name": "stderr",
     "output_type": "stream",
     "text": [
      "2020-04-17 23:46:12 - Transformer_no_pretrain - INFO: - decode batch cost time : 0.024731844663619995 ms\n",
      "I0417 23:46:12.111415 139696977332032 <ipython-input-11-3340543714f4>:36] decode batch cost time : 0.024731844663619995 ms\n"
     ]
    },
    {
     "name": "stdout",
     "output_type": "stream",
     "text": [
      "predicted_words [[24, 393], [1024, 181], [1024, 181], [122, 846], [461, 4], [108, 449], [9, 4], [7, 181]]\n",
      "---------------------------\n"
     ]
    },
    {
     "name": "stderr",
     "output_type": "stream",
     "text": [
      "2020-04-17 23:46:12 - Transformer_no_pretrain - INFO: - decode batch cost time : 0.02439051866531372 ms\n",
      "I0417 23:46:12.322483 139696977332032 <ipython-input-11-3340543714f4>:36] decode batch cost time : 0.02439051866531372 ms\n",
      "2020-04-17 23:46:12 - Transformer_no_pretrain - INFO: - decode batch cost time : 0.024043142795562744 ms\n"
     ]
    },
    {
     "name": "stdout",
     "output_type": "stream",
     "text": [
      "predicted_words [[149, 449], [449, 181], [122, 461], [122, 846], [461, 4], [108, 449], [9, 4], [7, 181]]\n",
      "---------------------------\n",
      "predicted_words [[149, 449], [449, 181], [122, 461], [122, 846], [461, 4], [108, 449], [9, 4], [7, 181]]\n",
      "---------------------------\n"
     ]
    },
    {
     "name": "stderr",
     "output_type": "stream",
     "text": [
      "I0417 23:46:12.523713 139696977332032 <ipython-input-11-3340543714f4>:36] decode batch cost time : 0.024043142795562744 ms\n",
      "2020-04-17 23:46:12 - Transformer_no_pretrain - INFO: - decode batch cost time : 0.024280518293380737 ms\n",
      "I0417 23:46:12.726112 139696977332032 <ipython-input-11-3340543714f4>:36] decode batch cost time : 0.024280518293380737 ms\n"
     ]
    },
    {
     "name": "stdout",
     "output_type": "stream",
     "text": [
      "predicted_words [[149, 449], [1024, 181], [122, 461], [122, 846], [461, 4], [108, 449], [24, 380], [449, 181]]\n",
      "---------------------------\n"
     ]
    },
    {
     "name": "stderr",
     "output_type": "stream",
     "text": [
      "2020-04-17 23:46:12 - Transformer_no_pretrain - INFO: - decode batch cost time : 0.024986743927001953 ms\n",
      "I0417 23:46:12.937777 139696977332032 <ipython-input-11-3340543714f4>:36] decode batch cost time : 0.024986743927001953 ms\n"
     ]
    },
    {
     "name": "stdout",
     "output_type": "stream",
     "text": [
      "predicted_words [[149, 449], [1024, 181], [122, 461], [122, 846], [461, 4], [108, 449], [9, 4], [7, 181]]\n",
      "---------------------------\n"
     ]
    },
    {
     "name": "stderr",
     "output_type": "stream",
     "text": [
      "2020-04-17 23:46:13 - Transformer_no_pretrain - INFO: - decode batch cost time : 0.024739712476730347 ms\n",
      "I0417 23:46:13.144374 139696977332032 <ipython-input-11-3340543714f4>:36] decode batch cost time : 0.024739712476730347 ms\n"
     ]
    },
    {
     "name": "stdout",
     "output_type": "stream",
     "text": [
      "predicted_words [[149, 449], [449, 181], [122, 461], [122, 846], [461, 4], [108, 449], [9, 4], [7, 181]]\n",
      "---------------------------\n"
     ]
    },
    {
     "name": "stderr",
     "output_type": "stream",
     "text": [
      "2020-04-17 23:46:13 - Transformer_no_pretrain - INFO: - decode batch cost time : 0.023354560136795044 ms\n",
      "I0417 23:46:13.346550 139696977332032 <ipython-input-11-3340543714f4>:36] decode batch cost time : 0.023354560136795044 ms\n",
      "2020-04-17 23:46:13 - Transformer_no_pretrain - INFO: - decode batch cost time : 0.022970527410507202 ms\n",
      "I0417 23:46:13.538016 139696977332032 <ipython-input-11-3340543714f4>:36] decode batch cost time : 0.022970527410507202 ms\n"
     ]
    },
    {
     "name": "stdout",
     "output_type": "stream",
     "text": [
      "predicted_words [[149, 449], [1024, 181], [122, 461], [122, 846], [461, 4], [108, 449], [9, 4], [7, 181]]\n",
      "---------------------------\n",
      "predicted_words [[149, 449], [4, 393], [122, 461], [122, 846], [461, 4], [108, 449], [99, 4], [7, 181]]\n",
      "---------------------------\n"
     ]
    },
    {
     "name": "stderr",
     "output_type": "stream",
     "text": [
      "2020-04-17 23:46:13 - Transformer_no_pretrain - INFO: - decode batch cost time : 0.02356809377670288 ms\n",
      "I0417 23:46:13.734531 139696977332032 <ipython-input-11-3340543714f4>:36] decode batch cost time : 0.02356809377670288 ms\n"
     ]
    },
    {
     "name": "stdout",
     "output_type": "stream",
     "text": [
      "predicted_words [[149, 449], [449, 181], [122, 461], [122, 846], [461, 4], [108, 449], [9, 4], [7, 181]]\n",
      "---------------------------\n"
     ]
    },
    {
     "name": "stderr",
     "output_type": "stream",
     "text": [
      "2020-04-17 23:46:13 - Transformer_no_pretrain - INFO: - decode batch cost time : 0.025798022747039795 ms\n",
      "I0417 23:46:13.949796 139696977332032 <ipython-input-11-3340543714f4>:36] decode batch cost time : 0.025798022747039795 ms\n"
     ]
    },
    {
     "name": "stdout",
     "output_type": "stream",
     "text": [
      "predicted_words [[149, 449], [449, 181], [122, 461], [122, 846], [461, 4], [108, 449], [9, 4], [7, 181]]\n",
      "---------------------------\n"
     ]
    },
    {
     "name": "stderr",
     "output_type": "stream",
     "text": [
      "2020-04-17 23:46:14 - Transformer_no_pretrain - INFO: - decode batch cost time : 0.025507628917694092 ms\n",
      "I0417 23:46:14.169573 139696977332032 <ipython-input-11-3340543714f4>:36] decode batch cost time : 0.025507628917694092 ms\n"
     ]
    },
    {
     "name": "stdout",
     "output_type": "stream",
     "text": [
      "predicted_words [[149, 449], [4, 393], [1024, 181], [122, 846], [461, 4], [108, 449], [99, 4], [7, 181]]\n",
      "---------------------------\n"
     ]
    },
    {
     "name": "stderr",
     "output_type": "stream",
     "text": [
      "2020-04-17 23:46:14 - Transformer_no_pretrain - INFO: - decode batch cost time : 0.02463686466217041 ms\n",
      "I0417 23:46:14.382049 139696977332032 <ipython-input-11-3340543714f4>:36] decode batch cost time : 0.02463686466217041 ms\n"
     ]
    },
    {
     "name": "stdout",
     "output_type": "stream",
     "text": [
      "predicted_words [[149, 449], [4, 393], [1024, 181], [122, 846], [461, 4], [108, 449], [99, 4], [7, 181]]\n",
      "---------------------------\n"
     ]
    },
    {
     "name": "stderr",
     "output_type": "stream",
     "text": [
      "2020-04-17 23:46:14 - Transformer_no_pretrain - INFO: - decode batch cost time : 0.0240648090839386 ms\n",
      "I0417 23:46:14.590505 139696977332032 <ipython-input-11-3340543714f4>:36] decode batch cost time : 0.0240648090839386 ms\n",
      "2020-04-17 23:46:14 - Transformer_no_pretrain - INFO: - decode batch cost time : 0.0234546959400177 ms\n",
      "I0417 23:46:14.787125 139696977332032 <ipython-input-11-3340543714f4>:36] decode batch cost time : 0.0234546959400177 ms\n"
     ]
    },
    {
     "name": "stdout",
     "output_type": "stream",
     "text": [
      "predicted_words [[149, 449], [1024, 181], [1024, 181], [122, 846], [461, 4], [108, 449], [99, 4], [7, 181]]\n",
      "---------------------------\n",
      "predicted_words [[149, 449], [449, 181], [122, 461], [122, 846], [461, 4], [108, 449], [9, 4], [7, 181]]\n",
      "---------------------------\n"
     ]
    },
    {
     "name": "stderr",
     "output_type": "stream",
     "text": [
      "2020-04-17 23:46:15 - Transformer_no_pretrain - INFO: - decode batch cost time : 0.027087420225143433 ms\n",
      "I0417 23:46:15.012785 139696977332032 <ipython-input-11-3340543714f4>:36] decode batch cost time : 0.027087420225143433 ms\n",
      "2020-04-17 23:46:15 - Transformer_no_pretrain - INFO: - decode batch cost time : 0.023416757583618164 ms\n",
      "I0417 23:46:15.209829 139696977332032 <ipython-input-11-3340543714f4>:36] decode batch cost time : 0.023416757583618164 ms\n"
     ]
    },
    {
     "name": "stdout",
     "output_type": "stream",
     "text": [
      "predicted_words [[149, 449], [4, 393], [1024, 181], [122, 846], [461, 4], [108, 449], [9, 4], [7, 181]]\n",
      "---------------------------\n",
      "predicted_words [[24, 393], [4, 393], [122, 461], [122, 846], [461, 4], [108, 449], [99, 4], [7, 181]]\n",
      "---------------------------\n"
     ]
    },
    {
     "name": "stderr",
     "output_type": "stream",
     "text": [
      "2020-04-17 23:46:15 - Transformer_no_pretrain - INFO: - decode batch cost time : 0.023453235626220703 ms\n",
      "I0417 23:46:15.406331 139696977332032 <ipython-input-11-3340543714f4>:36] decode batch cost time : 0.023453235626220703 ms\n"
     ]
    },
    {
     "name": "stdout",
     "output_type": "stream",
     "text": [
      "predicted_words [[24, 393], [4, 393], [24, 393], [122, 846], [461, 4], [108, 449], [99, 4], [7, 181]]\n",
      "---------------------------\n"
     ]
    },
    {
     "name": "stderr",
     "output_type": "stream",
     "text": [
      "2020-04-17 23:46:15 - Transformer_no_pretrain - INFO: - decode batch cost time : 0.026193737983703613 ms\n",
      "I0417 23:46:15.624899 139696977332032 <ipython-input-11-3340543714f4>:36] decode batch cost time : 0.026193737983703613 ms\n",
      "2020-04-17 23:46:15 - Transformer_no_pretrain - INFO: - decode batch cost time : 0.023050636053085327 ms\n",
      "I0417 23:46:15.818573 139696977332032 <ipython-input-11-3340543714f4>:36] decode batch cost time : 0.023050636053085327 ms\n"
     ]
    },
    {
     "name": "stdout",
     "output_type": "stream",
     "text": [
      "predicted_words [[24, 393], [1024, 181], [24, 393], [449, 181], [461, 4], [108, 449], [9, 4], [7, 181]]\n",
      "---------------------------\n",
      "predicted_words [[24, 393], [1024, 181], [24, 393], [449, 181], [461, 4], [108, 449], [9, 4], [7, 181]]\n",
      "---------------------------\n"
     ]
    },
    {
     "name": "stderr",
     "output_type": "stream",
     "text": [
      "2020-04-17 23:46:16 - Transformer_no_pretrain - INFO: - decode batch cost time : 0.023649871349334717 ms\n",
      "I0417 23:46:16.016494 139696977332032 <ipython-input-11-3340543714f4>:36] decode batch cost time : 0.023649871349334717 ms\n"
     ]
    },
    {
     "name": "stdout",
     "output_type": "stream",
     "text": [
      "predicted_words [[149, 449], [1024, 181], [122, 461], [122, 846], [461, 4], [108, 449], [9, 4], [7, 181]]\n",
      "---------------------------\n"
     ]
    },
    {
     "name": "stderr",
     "output_type": "stream",
     "text": [
      "2020-04-17 23:46:16 - Transformer_no_pretrain - INFO: - decode batch cost time : 0.02454453706741333 ms\n",
      "I0417 23:46:16.222062 139696977332032 <ipython-input-11-3340543714f4>:36] decode batch cost time : 0.02454453706741333 ms\n"
     ]
    },
    {
     "name": "stdout",
     "output_type": "stream",
     "text": [
      "predicted_words [[149, 449], [4, 393], [122, 461], [122, 846], [461, 4], [108, 449], [9, 4], [7, 181]]\n",
      "---------------------------\n"
     ]
    },
    {
     "name": "stderr",
     "output_type": "stream",
     "text": [
      "2020-04-17 23:46:16 - Transformer_no_pretrain - INFO: - decode batch cost time : 0.023598521947860718 ms\n",
      "I0417 23:46:16.426373 139696977332032 <ipython-input-11-3340543714f4>:36] decode batch cost time : 0.023598521947860718 ms\n"
     ]
    },
    {
     "name": "stdout",
     "output_type": "stream",
     "text": [
      "predicted_words [[24, 393], [4, 393], [1024, 181], [122, 846], [461, 4], [108, 449], [99, 4], [7, 181]]\n",
      "---------------------------\n"
     ]
    },
    {
     "name": "stderr",
     "output_type": "stream",
     "text": [
      "2020-04-17 23:46:16 - Transformer_no_pretrain - INFO: - decode batch cost time : 0.023715734481811523 ms\n",
      "I0417 23:46:16.631622 139696977332032 <ipython-input-11-3340543714f4>:36] decode batch cost time : 0.023715734481811523 ms\n",
      "2020-04-17 23:46:16 - Transformer_no_pretrain - INFO: - decode batch cost time : 0.023575276136398315 ms\n",
      "I0417 23:46:16.828739 139696977332032 <ipython-input-11-3340543714f4>:36] decode batch cost time : 0.023575276136398315 ms\n"
     ]
    },
    {
     "name": "stdout",
     "output_type": "stream",
     "text": [
      "predicted_words [[24, 393], [1024, 181], [1024, 181], [449, 181], [461, 4], [108, 449], [99, 4], [7, 181]]\n",
      "---------------------------\n",
      "predicted_words [[149, 449], [449, 181], [122, 461], [122, 846], [461, 4], [108, 449], [9, 4], [7, 181]]\n",
      "---------------------------\n"
     ]
    },
    {
     "name": "stderr",
     "output_type": "stream",
     "text": [
      "2020-04-17 23:46:17 - Transformer_no_pretrain - INFO: - decode batch cost time : 0.026942282915115356 ms\n",
      "I0417 23:46:17.058786 139696977332032 <ipython-input-11-3340543714f4>:36] decode batch cost time : 0.026942282915115356 ms\n",
      "2020-04-17 23:46:17 - Transformer_no_pretrain - INFO: - decode batch cost time : 0.02337890863418579 ms\n",
      "I0417 23:46:17.253986 139696977332032 <ipython-input-11-3340543714f4>:36] decode batch cost time : 0.02337890863418579 ms\n"
     ]
    },
    {
     "name": "stdout",
     "output_type": "stream",
     "text": [
      "predicted_words [[24, 393], [4, 393], [24, 393], [449, 181], [461, 4], [108, 449], [99, 4], [7, 181]]\n",
      "---------------------------\n",
      "predicted_words [[149, 449], [4, 393], [1024, 181], [122, 846], [461, 4], [108, 449], [99, 4], [7, 181]]\n",
      "---------------------------\n"
     ]
    },
    {
     "name": "stderr",
     "output_type": "stream",
     "text": [
      "2020-04-17 23:46:17 - Transformer_no_pretrain - INFO: - decode batch cost time : 0.02437537908554077 ms\n",
      "I0417 23:46:17.463613 139696977332032 <ipython-input-11-3340543714f4>:36] decode batch cost time : 0.02437537908554077 ms\n",
      "2020-04-17 23:46:17 - Transformer_no_pretrain - INFO: - decode batch cost time : 0.023316144943237305 ms\n",
      "I0417 23:46:17.659341 139696977332032 <ipython-input-11-3340543714f4>:36] decode batch cost time : 0.023316144943237305 ms\n"
     ]
    },
    {
     "name": "stdout",
     "output_type": "stream",
     "text": [
      "predicted_words [[149, 449], [4, 393], [1024, 181], [122, 846], [461, 4], [108, 449], [99, 4], [7, 181]]\n",
      "---------------------------\n",
      "predicted_words [[24, 393], [1024, 181], [1024, 181], [449, 181], [461, 4], [108, 449], [9, 4], [7, 181]]\n",
      "---------------------------\n"
     ]
    },
    {
     "name": "stderr",
     "output_type": "stream",
     "text": [
      "2020-04-17 23:46:17 - Transformer_no_pretrain - INFO: - decode batch cost time : 0.023930907249450684 ms\n",
      "I0417 23:46:17.859984 139696977332032 <ipython-input-11-3340543714f4>:36] decode batch cost time : 0.023930907249450684 ms\n",
      "2020-04-17 23:46:18 - Transformer_no_pretrain - INFO: - decode batch cost time : 0.024073034524917603 ms\n"
     ]
    },
    {
     "name": "stdout",
     "output_type": "stream",
     "text": [
      "predicted_words [[24, 393], [1024, 181], [122, 461], [122, 846], [461, 4], [108, 449], [24, 380], [449, 181]]\n",
      "---------------------------\n",
      "predicted_words [[149, 449], [4, 393], [1024, 181], [122, 846], [461, 4], [108, 449], [99, 4], [7, 181]]\n",
      "---------------------------\n"
     ]
    },
    {
     "name": "stderr",
     "output_type": "stream",
     "text": [
      "I0417 23:46:18.060823 139696977332032 <ipython-input-11-3340543714f4>:36] decode batch cost time : 0.024073034524917603 ms\n",
      "2020-04-17 23:46:18 - Transformer_no_pretrain - INFO: - decode batch cost time : 0.02405187487602234 ms\n",
      "I0417 23:46:18.262644 139696977332032 <ipython-input-11-3340543714f4>:36] decode batch cost time : 0.02405187487602234 ms\n",
      "2020-04-17 23:46:18 - Transformer_no_pretrain - INFO: - decode batch cost time : 0.023309022188186646 ms\n",
      "I0417 23:46:18.458031 139696977332032 <ipython-input-11-3340543714f4>:36] decode batch cost time : 0.023309022188186646 ms\n"
     ]
    },
    {
     "name": "stdout",
     "output_type": "stream",
     "text": [
      "predicted_words [[24, 393], [449, 181], [1024, 181], [449, 181], [461, 4], [108, 449], [9, 4], [7, 181]]\n",
      "---------------------------\n",
      "predicted_words [[149, 449], [1024, 181], [122, 461], [122, 846], [461, 4], [108, 449], [9, 4], [7, 181]]\n",
      "---------------------------\n"
     ]
    },
    {
     "name": "stderr",
     "output_type": "stream",
     "text": [
      "2020-04-17 23:46:18 - Transformer_no_pretrain - INFO: - decode batch cost time : 0.02383670210838318 ms\n",
      "I0417 23:46:18.657032 139696977332032 <ipython-input-11-3340543714f4>:36] decode batch cost time : 0.02383670210838318 ms\n"
     ]
    },
    {
     "name": "stdout",
     "output_type": "stream",
     "text": [
      "predicted_words [[149, 449], [1024, 181], [122, 461], [122, 846], [461, 4], [108, 449], [9, 4], [7, 181]]\n",
      "---------------------------\n"
     ]
    },
    {
     "name": "stderr",
     "output_type": "stream",
     "text": [
      "2020-04-17 23:46:18 - Transformer_no_pretrain - INFO: - decode batch cost time : 0.023464441299438477 ms\n",
      "I0417 23:46:18.859327 139696977332032 <ipython-input-11-3340543714f4>:36] decode batch cost time : 0.023464441299438477 ms\n"
     ]
    },
    {
     "name": "stdout",
     "output_type": "stream",
     "text": [
      "predicted_words [[149, 449], [449, 181], [122, 461], [122, 846], [461, 4], [108, 449], [9, 4], [7, 181]]\n",
      "---------------------------\n"
     ]
    },
    {
     "name": "stderr",
     "output_type": "stream",
     "text": [
      "2020-04-17 23:46:19 - Transformer_no_pretrain - INFO: - decode batch cost time : 0.024202793836593628 ms\n",
      "I0417 23:46:19.063411 139696977332032 <ipython-input-11-3340543714f4>:36] decode batch cost time : 0.024202793836593628 ms\n"
     ]
    },
    {
     "name": "stdout",
     "output_type": "stream",
     "text": [
      "predicted_words [[149, 449], [4, 393], [122, 461], [122, 846], [461, 4], [108, 449], [9, 4], [7, 181]]\n",
      "---------------------------\n"
     ]
    },
    {
     "name": "stderr",
     "output_type": "stream",
     "text": [
      "2020-04-17 23:46:19 - Transformer_no_pretrain - INFO: - decode batch cost time : 0.026040464639663696 ms\n",
      "I0417 23:46:19.285586 139696977332032 <ipython-input-11-3340543714f4>:36] decode batch cost time : 0.026040464639663696 ms\n"
     ]
    },
    {
     "name": "stdout",
     "output_type": "stream",
     "text": [
      "predicted_words [[149, 449], [449, 181], [122, 461], [122, 846], [461, 4], [108, 449], [9, 4], [7, 181]]\n",
      "---------------------------\n"
     ]
    },
    {
     "name": "stderr",
     "output_type": "stream",
     "text": [
      "2020-04-17 23:46:19 - Transformer_no_pretrain - INFO: - decode batch cost time : 0.024722397327423096 ms\n",
      "I0417 23:46:19.496153 139696977332032 <ipython-input-11-3340543714f4>:36] decode batch cost time : 0.024722397327423096 ms\n"
     ]
    },
    {
     "name": "stdout",
     "output_type": "stream",
     "text": [
      "predicted_words [[24, 393], [4, 393], [24, 393], [449, 181], [461, 4], [108, 449], [99, 4], [7, 181]]\n",
      "---------------------------\n"
     ]
    },
    {
     "name": "stderr",
     "output_type": "stream",
     "text": [
      "2020-04-17 23:46:19 - Transformer_no_pretrain - INFO: - decode batch cost time : 0.024035334587097168 ms\n",
      "I0417 23:46:19.708052 139696977332032 <ipython-input-11-3340543714f4>:36] decode batch cost time : 0.024035334587097168 ms\n",
      "2020-04-17 23:46:19 - Transformer_no_pretrain - INFO: - decode batch cost time : 0.023362040519714355 ms\n",
      "I0417 23:46:19.903827 139696977332032 <ipython-input-11-3340543714f4>:36] decode batch cost time : 0.023362040519714355 ms\n"
     ]
    },
    {
     "name": "stdout",
     "output_type": "stream",
     "text": [
      "predicted_words [[149, 449], [1024, 181], [122, 461], [122, 846], [461, 4], [108, 449], [9, 4], [7, 181]]\n",
      "---------------------------\n",
      "predicted_words [[24, 393], [1024, 181], [1024, 181], [449, 181], [122, 461], [108, 449], [9, 4], [7, 181]]\n",
      "---------------------------\n"
     ]
    },
    {
     "name": "stderr",
     "output_type": "stream",
     "text": [
      "2020-04-17 23:46:20 - Transformer_no_pretrain - INFO: - decode batch cost time : 0.025537222623825073 ms\n",
      "I0417 23:46:20.122907 139696977332032 <ipython-input-11-3340543714f4>:36] decode batch cost time : 0.025537222623825073 ms\n",
      "2020-04-17 23:46:20 - Transformer_no_pretrain - INFO: - decode batch cost time : 0.023409247398376465 ms\n",
      "I0417 23:46:20.319197 139696977332032 <ipython-input-11-3340543714f4>:36] decode batch cost time : 0.023409247398376465 ms\n"
     ]
    },
    {
     "name": "stdout",
     "output_type": "stream",
     "text": [
      "predicted_words [[149, 449], [1024, 181], [122, 461], [122, 846], [461, 4], [108, 449], [9, 4], [7, 181]]\n",
      "---------------------------\n",
      "predicted_words [[7, 9], [1024, 181], [122, 461], [122, 846], [1024, 181], [108, 449], [24, 380], [7, 181]]\n",
      "---------------------------\n"
     ]
    },
    {
     "name": "stderr",
     "output_type": "stream",
     "text": [
      "2020-04-17 23:46:20 - Transformer_no_pretrain - INFO: - decode batch cost time : 0.02369830012321472 ms\n",
      "I0417 23:46:20.517251 139696977332032 <ipython-input-11-3340543714f4>:36] decode batch cost time : 0.02369830012321472 ms\n"
     ]
    },
    {
     "name": "stdout",
     "output_type": "stream",
     "text": [
      "predicted_words [[7, 9], [449, 181], [1024, 181], [122, 846], [1024, 181], [108, 449], [99, 4], [7, 181]]\n",
      "---------------------------\n"
     ]
    },
    {
     "name": "stderr",
     "output_type": "stream",
     "text": [
      "2020-04-17 23:46:20 - Transformer_no_pretrain - INFO: - decode batch cost time : 0.023847192525863647 ms\n",
      "I0417 23:46:20.721093 139696977332032 <ipython-input-11-3340543714f4>:36] decode batch cost time : 0.023847192525863647 ms\n",
      "2020-04-17 23:46:20 - Transformer_no_pretrain - INFO: - decode batch cost time : 0.023784130811691284 ms\n",
      "I0417 23:46:20.920444 139696977332032 <ipython-input-11-3340543714f4>:36] decode batch cost time : 0.023784130811691284 ms\n"
     ]
    },
    {
     "name": "stdout",
     "output_type": "stream",
     "text": [
      "predicted_words [[24, 393], [4, 393], [1024, 181], [122, 846], [122, 461], [108, 449], [99, 4], [7, 181]]\n",
      "---------------------------\n",
      "predicted_words [[24, 393], [4, 393], [1024, 181], [122, 846], [461, 4], [108, 449], [9, 4], [7, 181]]\n",
      "---------------------------\n"
     ]
    },
    {
     "name": "stderr",
     "output_type": "stream",
     "text": [
      "2020-04-17 23:46:21 - Transformer_no_pretrain - INFO: - decode batch cost time : 0.025586962699890137 ms\n",
      "I0417 23:46:21.139963 139696977332032 <ipython-input-11-3340543714f4>:36] decode batch cost time : 0.025586962699890137 ms\n"
     ]
    },
    {
     "name": "stdout",
     "output_type": "stream",
     "text": [
      "predicted_words [[149, 449], [4, 393], [122, 461], [122, 846], [461, 4], [108, 449], [99, 4], [7, 181]]\n",
      "---------------------------\n"
     ]
    },
    {
     "name": "stderr",
     "output_type": "stream",
     "text": [
      "2020-04-17 23:46:21 - Transformer_no_pretrain - INFO: - decode batch cost time : 0.024240761995315552 ms\n",
      "I0417 23:46:21.345990 139696977332032 <ipython-input-11-3340543714f4>:36] decode batch cost time : 0.024240761995315552 ms\n"
     ]
    },
    {
     "name": "stdout",
     "output_type": "stream",
     "text": [
      "predicted_words [[149, 449], [449, 181], [122, 461], [122, 846], [461, 4], [108, 449], [9, 4], [7, 181]]\n",
      "---------------------------\n"
     ]
    },
    {
     "name": "stderr",
     "output_type": "stream",
     "text": [
      "2020-04-17 23:46:21 - Transformer_no_pretrain - INFO: - decode batch cost time : 0.0244273841381073 ms\n",
      "I0417 23:46:21.549888 139696977332032 <ipython-input-11-3340543714f4>:36] decode batch cost time : 0.0244273841381073 ms\n",
      "2020-04-17 23:46:21 - Transformer_no_pretrain - INFO: - decode batch cost time : 0.023716479539871216 ms\n",
      "I0417 23:46:21.748397 139696977332032 <ipython-input-11-3340543714f4>:36] decode batch cost time : 0.023716479539871216 ms\n"
     ]
    },
    {
     "name": "stdout",
     "output_type": "stream",
     "text": [
      "predicted_words [[24, 393], [1024, 181], [24, 393], [449, 181], [122, 461], [99, 9], [99, 4], [7, 181]]\n",
      "---------------------------\n",
      "predicted_words [[149, 449], [4, 393], [122, 461], [122, 846], [461, 4], [108, 449], [9, 4], [7, 181]]\n",
      "---------------------------\n"
     ]
    },
    {
     "name": "stderr",
     "output_type": "stream",
     "text": [
      "2020-04-17 23:46:21 - Transformer_no_pretrain - INFO: - decode batch cost time : 0.0240514874458313 ms\n",
      "I0417 23:46:21.950023 139696977332032 <ipython-input-11-3340543714f4>:36] decode batch cost time : 0.0240514874458313 ms\n"
     ]
    },
    {
     "name": "stdout",
     "output_type": "stream",
     "text": [
      "predicted_words [[24, 393], [24, 393], [1024, 181], [122, 846], [461, 4], [108, 449], [9, 4], [7, 181]]\n",
      "---------------------------\n",
      "predicted_words [[149, 449], [4, 393], [122, 461], [122, 846], [461, 4], [108, 449], [9, 4], [7, 181]]\n"
     ]
    },
    {
     "name": "stderr",
     "output_type": "stream",
     "text": [
      "2020-04-17 23:46:22 - Transformer_no_pretrain - INFO: - decode batch cost time : 0.023954331874847412 ms\n",
      "I0417 23:46:22.151009 139696977332032 <ipython-input-11-3340543714f4>:36] decode batch cost time : 0.023954331874847412 ms\n",
      "2020-04-17 23:46:22 - Transformer_no_pretrain - INFO: - decode batch cost time : 0.024735838174819946 ms\n",
      "I0417 23:46:22.358111 139696977332032 <ipython-input-11-3340543714f4>:36] decode batch cost time : 0.024735838174819946 ms\n"
     ]
    },
    {
     "name": "stdout",
     "output_type": "stream",
     "text": [
      "---------------------------\n",
      "predicted_words [[24, 393], [4, 393], [24, 393], [449, 181], [461, 4], [108, 449], [99, 4], [7, 181]]\n",
      "---------------------------\n"
     ]
    },
    {
     "name": "stderr",
     "output_type": "stream",
     "text": [
      "2020-04-17 23:46:22 - Transformer_no_pretrain - INFO: - decode batch cost time : 0.02552253007888794 ms\n",
      "I0417 23:46:22.571255 139696977332032 <ipython-input-11-3340543714f4>:36] decode batch cost time : 0.02552253007888794 ms\n"
     ]
    },
    {
     "name": "stdout",
     "output_type": "stream",
     "text": [
      "predicted_words [[149, 449], [4, 393], [1024, 181], [122, 846], [461, 4], [108, 449], [99, 4], [7, 181]]\n",
      "---------------------------\n"
     ]
    },
    {
     "name": "stderr",
     "output_type": "stream",
     "text": [
      "2020-04-17 23:46:22 - Transformer_no_pretrain - INFO: - decode batch cost time : 0.02491360902786255 ms\n",
      "I0417 23:46:22.780342 139696977332032 <ipython-input-11-3340543714f4>:36] decode batch cost time : 0.02491360902786255 ms\n"
     ]
    },
    {
     "name": "stdout",
     "output_type": "stream",
     "text": [
      "predicted_words [[149, 449], [449, 181], [122, 461], [122, 846], [461, 4], [108, 449], [9, 4], [7, 181]]\n",
      "---------------------------\n"
     ]
    },
    {
     "name": "stderr",
     "output_type": "stream",
     "text": [
      "2020-04-17 23:46:22 - Transformer_no_pretrain - INFO: - decode batch cost time : 0.025272727012634277 ms\n",
      "I0417 23:46:22.991926 139696977332032 <ipython-input-11-3340543714f4>:36] decode batch cost time : 0.025272727012634277 ms\n"
     ]
    },
    {
     "name": "stdout",
     "output_type": "stream",
     "text": [
      "predicted_words [[24, 393], [4, 393], [1024, 181], [449, 181], [461, 4], [231, 9], [99, 4], [7, 181]]\n",
      "---------------------------\n"
     ]
    },
    {
     "name": "stderr",
     "output_type": "stream",
     "text": [
      "2020-04-17 23:46:23 - Transformer_no_pretrain - INFO: - decode batch cost time : 0.024068892002105713 ms\n",
      "I0417 23:46:23.195104 139696977332032 <ipython-input-11-3340543714f4>:36] decode batch cost time : 0.024068892002105713 ms\n",
      "2020-04-17 23:46:23 - Transformer_no_pretrain - INFO: - decode batch cost time : 0.023649990558624268 ms\n",
      "I0417 23:46:23.393933 139696977332032 <ipython-input-11-3340543714f4>:36] decode batch cost time : 0.023649990558624268 ms\n"
     ]
    },
    {
     "name": "stdout",
     "output_type": "stream",
     "text": [
      "predicted_words [[149, 449], [1024, 181], [122, 461], [122, 846], [461, 4], [108, 449], [9, 4], [7, 181]]\n",
      "---------------------------\n",
      "predicted_words [[149, 449], [449, 181], [1024, 181], [449, 181], [461, 4], [108, 449], [9, 4], [449, 181]]\n",
      "---------------------------\n"
     ]
    },
    {
     "name": "stderr",
     "output_type": "stream",
     "text": [
      "2020-04-17 23:46:23 - Transformer_no_pretrain - INFO: - decode batch cost time : 0.024077504873275757 ms\n",
      "I0417 23:46:23.594936 139696977332032 <ipython-input-11-3340543714f4>:36] decode batch cost time : 0.024077504873275757 ms\n"
     ]
    },
    {
     "name": "stdout",
     "output_type": "stream",
     "text": [
      "predicted_words [[149, 449], [449, 181], [122, 461], [122, 846], [461, 4], [108, 449], [9, 4], [7, 181]]\n",
      "---------------------------\n"
     ]
    },
    {
     "name": "stderr",
     "output_type": "stream",
     "text": [
      "2020-04-17 23:46:23 - Transformer_no_pretrain - INFO: - decode batch cost time : 0.02513912320137024 ms\n",
      "I0417 23:46:23.809437 139696977332032 <ipython-input-11-3340543714f4>:36] decode batch cost time : 0.02513912320137024 ms\n",
      "2020-04-17 23:46:24 - Transformer_no_pretrain - INFO: - decode batch cost time : 0.023806005716323853 ms\n"
     ]
    },
    {
     "name": "stdout",
     "output_type": "stream",
     "text": [
      "predicted_words [[149, 449], [449, 181], [122, 461], [122, 846], [461, 4], [108, 449], [9, 4], [7, 181]]\n",
      "---------------------------\n",
      "predicted_words [[149, 449], [449, 181], [122, 461], [122, 846], [461, 4], [108, 449], [9, 4], [7, 181]]\n",
      "---------------------------\n"
     ]
    },
    {
     "name": "stderr",
     "output_type": "stream",
     "text": [
      "I0417 23:46:24.009085 139696977332032 <ipython-input-11-3340543714f4>:36] decode batch cost time : 0.023806005716323853 ms\n",
      "2020-04-17 23:46:24 - Transformer_no_pretrain - INFO: - decode batch cost time : 0.023629963397979736 ms\n",
      "I0417 23:46:24.207264 139696977332032 <ipython-input-11-3340543714f4>:36] decode batch cost time : 0.023629963397979736 ms\n",
      "2020-04-17 23:46:24 - Transformer_no_pretrain - INFO: - decode batch cost time : 0.023897171020507812 ms\n"
     ]
    },
    {
     "name": "stdout",
     "output_type": "stream",
     "text": [
      "predicted_words [[24, 393], [1024, 181], [24, 393], [122, 846], [7, 4], [108, 449], [9, 4], [7, 181]]\n",
      "---------------------------\n",
      "predicted_words [[149, 449], [4, 393], [122, 461], [122, 846], [461, 4], [108, 449], [9, 4], [7, 181]]\n",
      "---------------------------\n"
     ]
    },
    {
     "name": "stderr",
     "output_type": "stream",
     "text": [
      "I0417 23:46:24.407193 139696977332032 <ipython-input-11-3340543714f4>:36] decode batch cost time : 0.023897171020507812 ms\n",
      "2020-04-17 23:46:24 - Transformer_no_pretrain - INFO: - decode batch cost time : 0.024352818727493286 ms\n",
      "I0417 23:46:24.611770 139696977332032 <ipython-input-11-3340543714f4>:36] decode batch cost time : 0.024352818727493286 ms\n"
     ]
    },
    {
     "name": "stdout",
     "output_type": "stream",
     "text": [
      "predicted_words [[149, 449], [449, 181], [122, 461], [122, 846], [461, 4], [108, 449], [9, 4], [7, 181]]\n",
      "---------------------------\n"
     ]
    },
    {
     "name": "stderr",
     "output_type": "stream",
     "text": [
      "2020-04-17 23:46:24 - Transformer_no_pretrain - INFO: - decode batch cost time : 0.02437654137611389 ms\n",
      "I0417 23:46:24.816321 139696977332032 <ipython-input-11-3340543714f4>:36] decode batch cost time : 0.02437654137611389 ms\n"
     ]
    },
    {
     "name": "stdout",
     "output_type": "stream",
     "text": [
      "predicted_words [[149, 449], [1024, 181], [122, 461], [122, 846], [461, 4], [108, 449], [9, 4], [7, 181]]\n",
      "---------------------------\n"
     ]
    },
    {
     "name": "stderr",
     "output_type": "stream",
     "text": [
      "2020-04-17 23:46:25 - Transformer_no_pretrain - INFO: - decode batch cost time : 0.025356829166412354 ms\n",
      "I0417 23:46:25.029088 139696977332032 <ipython-input-11-3340543714f4>:36] decode batch cost time : 0.025356829166412354 ms\n",
      "2020-04-17 23:46:25 - Transformer_no_pretrain - INFO: - decode batch cost time : 0.023699522018432617 ms\n",
      "I0417 23:46:25.227910 139696977332032 <ipython-input-11-3340543714f4>:36] decode batch cost time : 0.023699522018432617 ms\n"
     ]
    },
    {
     "name": "stdout",
     "output_type": "stream",
     "text": [
      "predicted_words [[24, 393], [1024, 181], [122, 461], [122, 846], [7, 4], [108, 449], [9, 4], [7, 181]]\n",
      "---------------------------\n",
      "predicted_words [[24, 393], [1024, 181], [1024, 181], [449, 181], [461, 4], [108, 449], [9, 4], [7, 181]]\n",
      "---------------------------\n"
     ]
    },
    {
     "name": "stderr",
     "output_type": "stream",
     "text": [
      "2020-04-17 23:46:25 - Transformer_no_pretrain - INFO: - decode batch cost time : 0.025248169898986816 ms\n",
      "I0417 23:46:25.439011 139696977332032 <ipython-input-11-3340543714f4>:36] decode batch cost time : 0.025248169898986816 ms\n"
     ]
    },
    {
     "name": "stdout",
     "output_type": "stream",
     "text": [
      "predicted_words [[24, 393], [4, 393], [1024, 181], [122, 846], [461, 4], [108, 449], [99, 4], [7, 181]]\n",
      "---------------------------\n"
     ]
    },
    {
     "name": "stderr",
     "output_type": "stream",
     "text": [
      "2020-04-17 23:46:25 - Transformer_no_pretrain - INFO: - decode batch cost time : 0.024564802646636963 ms\n",
      "I0417 23:46:25.645697 139696977332032 <ipython-input-11-3340543714f4>:36] decode batch cost time : 0.024564802646636963 ms\n"
     ]
    },
    {
     "name": "stdout",
     "output_type": "stream",
     "text": [
      "predicted_words [[149, 449], [4, 393], [1024, 181], [122, 846], [461, 4], [108, 449], [99, 4], [7, 181]]\n",
      "---------------------------\n"
     ]
    },
    {
     "name": "stderr",
     "output_type": "stream",
     "text": [
      "2020-04-17 23:46:25 - Transformer_no_pretrain - INFO: - decode batch cost time : 0.024442017078399658 ms\n",
      "I0417 23:46:25.859723 139696977332032 <ipython-input-11-3340543714f4>:36] decode batch cost time : 0.024442017078399658 ms\n"
     ]
    },
    {
     "name": "stdout",
     "output_type": "stream",
     "text": [
      "predicted_words [[149, 449], [1024, 181], [122, 461], [122, 846], [461, 4], [108, 449], [99, 4], [7, 181]]\n",
      "---------------------------\n"
     ]
    },
    {
     "name": "stderr",
     "output_type": "stream",
     "text": [
      "2020-04-17 23:46:26 - Transformer_no_pretrain - INFO: - decode batch cost time : 0.024446547031402588 ms\n",
      "I0417 23:46:26.064048 139696977332032 <ipython-input-11-3340543714f4>:36] decode batch cost time : 0.024446547031402588 ms\n"
     ]
    },
    {
     "name": "stdout",
     "output_type": "stream",
     "text": [
      "predicted_words [[149, 449], [4, 393], [122, 461], [122, 846], [461, 4], [108, 449], [99, 4], [7, 181]]\n",
      "---------------------------\n"
     ]
    },
    {
     "name": "stderr",
     "output_type": "stream",
     "text": [
      "2020-04-17 23:46:26 - Transformer_no_pretrain - INFO: - decode batch cost time : 0.025149106979370117 ms\n",
      "I0417 23:46:26.273967 139696977332032 <ipython-input-11-3340543714f4>:36] decode batch cost time : 0.025149106979370117 ms\n"
     ]
    },
    {
     "name": "stdout",
     "output_type": "stream",
     "text": [
      "predicted_words [[24, 393], [4, 393], [1024, 181], [122, 846], [461, 4], [108, 449], [99, 4], [7, 181]]\n",
      "---------------------------\n"
     ]
    },
    {
     "name": "stderr",
     "output_type": "stream",
     "text": [
      "2020-04-17 23:46:26 - Transformer_no_pretrain - INFO: - decode batch cost time : 0.025582551956176758 ms\n",
      "I0417 23:46:26.492651 139696977332032 <ipython-input-11-3340543714f4>:36] decode batch cost time : 0.025582551956176758 ms\n"
     ]
    },
    {
     "name": "stdout",
     "output_type": "stream",
     "text": [
      "predicted_words [[149, 449], [1024, 181], [122, 461], [122, 846], [461, 4], [108, 449], [9, 4], [7, 181]]\n",
      "---------------------------\n"
     ]
    },
    {
     "name": "stderr",
     "output_type": "stream",
     "text": [
      "2020-04-17 23:46:26 - Transformer_no_pretrain - INFO: - decode batch cost time : 0.024065077304840088 ms\n",
      "I0417 23:46:26.695534 139696977332032 <ipython-input-11-3340543714f4>:36] decode batch cost time : 0.024065077304840088 ms\n"
     ]
    },
    {
     "name": "stdout",
     "output_type": "stream",
     "text": [
      "predicted_words [[24, 393], [24, 393], [122, 461], [122, 846], [461, 4], [108, 449], [9, 4], [7, 181]]\n",
      "---------------------------\n",
      "predicted_words [[149, 449], [449, 181], [122, 461], [122, 846], [461, 4], [108, 449], [9, 4], [7, 181]]\n",
      "---------------------------\n"
     ]
    },
    {
     "name": "stderr",
     "output_type": "stream",
     "text": [
      "2020-04-17 23:46:26 - Transformer_no_pretrain - INFO: - decode batch cost time : 0.02400153875350952 ms\n",
      "I0417 23:46:26.897125 139696977332032 <ipython-input-11-3340543714f4>:36] decode batch cost time : 0.02400153875350952 ms\n",
      "2020-04-17 23:46:27 - Transformer_no_pretrain - INFO: - decode batch cost time : 0.024360597133636475 ms\n",
      "I0417 23:46:27.102441 139696977332032 <ipython-input-11-3340543714f4>:36] decode batch cost time : 0.024360597133636475 ms\n"
     ]
    },
    {
     "name": "stdout",
     "output_type": "stream",
     "text": [
      "predicted_words [[24, 393], [4, 393], [1024, 181], [122, 846], [461, 4], [108, 449], [99, 4], [7, 181]]\n",
      "---------------------------\n"
     ]
    },
    {
     "name": "stderr",
     "output_type": "stream",
     "text": [
      "2020-04-17 23:46:27 - Transformer_no_pretrain - INFO: - decode batch cost time : 0.024106979370117188 ms\n",
      "I0417 23:46:27.305657 139696977332032 <ipython-input-11-3340543714f4>:36] decode batch cost time : 0.024106979370117188 ms\n"
     ]
    },
    {
     "name": "stdout",
     "output_type": "stream",
     "text": [
      "predicted_words [[149, 449], [1024, 181], [122, 461], [122, 846], [461, 4], [108, 449], [9, 4], [7, 181]]\n",
      "---------------------------\n"
     ]
    },
    {
     "name": "stderr",
     "output_type": "stream",
     "text": [
      "2020-04-17 23:46:27 - Transformer_no_pretrain - INFO: - decode batch cost time : 0.024571746587753296 ms\n",
      "I0417 23:46:27.512189 139696977332032 <ipython-input-11-3340543714f4>:36] decode batch cost time : 0.024571746587753296 ms\n"
     ]
    },
    {
     "name": "stdout",
     "output_type": "stream",
     "text": [
      "predicted_words [[24, 393], [4, 393], [1024, 181], [122, 846], [461, 4], [108, 449], [99, 4], [7, 181]]\n",
      "---------------------------\n"
     ]
    },
    {
     "name": "stderr",
     "output_type": "stream",
     "text": [
      "2020-04-17 23:46:27 - Transformer_no_pretrain - INFO: - decode batch cost time : 0.024702340364456177 ms\n",
      "I0417 23:46:27.719439 139696977332032 <ipython-input-11-3340543714f4>:36] decode batch cost time : 0.024702340364456177 ms\n"
     ]
    },
    {
     "name": "stdout",
     "output_type": "stream",
     "text": [
      "predicted_words [[24, 393], [4, 393], [24, 393], [449, 181], [461, 4], [108, 449], [99, 4], [7, 181]]\n",
      "---------------------------\n"
     ]
    },
    {
     "name": "stderr",
     "output_type": "stream",
     "text": [
      "2020-04-17 23:46:27 - Transformer_no_pretrain - INFO: - decode batch cost time : 0.02428954839706421 ms\n",
      "I0417 23:46:27.923625 139696977332032 <ipython-input-11-3340543714f4>:36] decode batch cost time : 0.02428954839706421 ms\n"
     ]
    },
    {
     "name": "stdout",
     "output_type": "stream",
     "text": [
      "predicted_words [[149, 449], [4, 393], [1024, 181], [122, 846], [461, 4], [108, 449], [99, 4], [7, 181]]\n",
      "---------------------------\n"
     ]
    },
    {
     "name": "stderr",
     "output_type": "stream",
     "text": [
      "2020-04-17 23:46:28 - Transformer_no_pretrain - INFO: - decode batch cost time : 0.024378985166549683 ms\n",
      "I0417 23:46:28.127710 139696977332032 <ipython-input-11-3340543714f4>:36] decode batch cost time : 0.024378985166549683 ms\n"
     ]
    },
    {
     "name": "stdout",
     "output_type": "stream",
     "text": [
      "predicted_words [[24, 393], [24, 393], [122, 461], [122, 846], [461, 4], [108, 449], [9, 4], [449, 181]]\n",
      "---------------------------\n"
     ]
    },
    {
     "name": "stderr",
     "output_type": "stream",
     "text": [
      "2020-04-17 23:46:28 - Transformer_no_pretrain - INFO: - decode batch cost time : 0.024411439895629883 ms\n",
      "I0417 23:46:28.332191 139696977332032 <ipython-input-11-3340543714f4>:36] decode batch cost time : 0.024411439895629883 ms\n"
     ]
    },
    {
     "name": "stdout",
     "output_type": "stream",
     "text": [
      "predicted_words [[149, 449], [4, 393], [122, 461], [122, 846], [461, 4], [108, 449], [9, 4], [7, 181]]\n",
      "---------------------------\n"
     ]
    },
    {
     "name": "stderr",
     "output_type": "stream",
     "text": [
      "2020-04-17 23:46:28 - Transformer_no_pretrain - INFO: - decode batch cost time : 0.024432450532913208 ms\n",
      "I0417 23:46:28.537634 139696977332032 <ipython-input-11-3340543714f4>:36] decode batch cost time : 0.024432450532913208 ms\n"
     ]
    },
    {
     "name": "stdout",
     "output_type": "stream",
     "text": [
      "predicted_words [[149, 449], [4, 393], [122, 461], [122, 846], [461, 4], [108, 449], [9, 4], [7, 181]]\n",
      "---------------------------\n"
     ]
    },
    {
     "name": "stderr",
     "output_type": "stream",
     "text": [
      "2020-04-17 23:46:28 - Transformer_no_pretrain - INFO: - decode batch cost time : 0.024648994207382202 ms\n",
      "I0417 23:46:28.744419 139696977332032 <ipython-input-11-3340543714f4>:36] decode batch cost time : 0.024648994207382202 ms\n"
     ]
    },
    {
     "name": "stdout",
     "output_type": "stream",
     "text": [
      "predicted_words [[149, 449], [1024, 181], [122, 461], [122, 846], [461, 4], [108, 449], [9, 4], [7, 181]]\n",
      "---------------------------\n"
     ]
    },
    {
     "name": "stderr",
     "output_type": "stream",
     "text": [
      "2020-04-17 23:46:28 - Transformer_no_pretrain - INFO: - decode batch cost time : 0.02414250373840332 ms\n",
      "I0417 23:46:28.947734 139696977332032 <ipython-input-11-3340543714f4>:36] decode batch cost time : 0.02414250373840332 ms\n"
     ]
    },
    {
     "name": "stdout",
     "output_type": "stream",
     "text": [
      "predicted_words [[149, 449], [4, 393], [122, 461], [122, 846], [461, 4], [108, 449], [9, 4], [7, 181]]\n",
      "---------------------------\n"
     ]
    },
    {
     "name": "stderr",
     "output_type": "stream",
     "text": [
      "2020-04-17 23:46:29 - Transformer_no_pretrain - INFO: - decode batch cost time : 0.024293482303619385 ms\n",
      "I0417 23:46:29.150672 139696977332032 <ipython-input-11-3340543714f4>:36] decode batch cost time : 0.024293482303619385 ms\n"
     ]
    },
    {
     "name": "stdout",
     "output_type": "stream",
     "text": [
      "predicted_words [[24, 393], [4, 393], [122, 461], [122, 846], [461, 4], [108, 449], [99, 4], [7, 181]]\n",
      "---------------------------\n"
     ]
    },
    {
     "name": "stderr",
     "output_type": "stream",
     "text": [
      "2020-04-17 23:46:29 - Transformer_no_pretrain - INFO: - decode batch cost time : 0.02493414282798767 ms\n",
      "I0417 23:46:29.359153 139696977332032 <ipython-input-11-3340543714f4>:36] decode batch cost time : 0.02493414282798767 ms\n"
     ]
    },
    {
     "name": "stdout",
     "output_type": "stream",
     "text": [
      "predicted_words [[24, 393], [4, 393], [1024, 181], [122, 846], [461, 4], [108, 449], [99, 4], [7, 181]]\n",
      "---------------------------\n"
     ]
    },
    {
     "name": "stderr",
     "output_type": "stream",
     "text": [
      "2020-04-17 23:46:29 - Transformer_no_pretrain - INFO: - decode batch cost time : 0.024615615606307983 ms\n",
      "I0417 23:46:29.586297 139696977332032 <ipython-input-11-3340543714f4>:36] decode batch cost time : 0.024615615606307983 ms\n"
     ]
    },
    {
     "name": "stdout",
     "output_type": "stream",
     "text": [
      "predicted_words [[149, 449], [4, 393], [122, 461], [122, 846], [461, 4], [108, 449], [99, 4], [7, 181]]\n",
      "---------------------------\n"
     ]
    },
    {
     "name": "stderr",
     "output_type": "stream",
     "text": [
      "2020-04-17 23:46:29 - Transformer_no_pretrain - INFO: - decode batch cost time : 0.02438393235206604 ms\n",
      "I0417 23:46:29.791032 139696977332032 <ipython-input-11-3340543714f4>:36] decode batch cost time : 0.02438393235206604 ms\n"
     ]
    },
    {
     "name": "stdout",
     "output_type": "stream",
     "text": [
      "predicted_words [[24, 393], [4, 393], [1024, 181], [122, 846], [461, 4], [108, 449], [99, 4], [7, 181]]\n",
      "---------------------------\n"
     ]
    },
    {
     "name": "stderr",
     "output_type": "stream",
     "text": [
      "2020-04-17 23:46:30 - Transformer_no_pretrain - INFO: - decode batch cost time : 0.0254061222076416 ms\n",
      "I0417 23:46:30.014087 139696977332032 <ipython-input-11-3340543714f4>:36] decode batch cost time : 0.0254061222076416 ms\n"
     ]
    },
    {
     "name": "stdout",
     "output_type": "stream",
     "text": [
      "predicted_words [[24, 393], [4, 393], [24, 393], [449, 181], [461, 4], [108, 449], [99, 4], [7, 181]]\n",
      "---------------------------\n"
     ]
    },
    {
     "name": "stderr",
     "output_type": "stream",
     "text": [
      "2020-04-17 23:46:30 - Transformer_no_pretrain - INFO: - decode batch cost time : 0.02645733952522278 ms\n",
      "I0417 23:46:30.248517 139696977332032 <ipython-input-11-3340543714f4>:36] decode batch cost time : 0.02645733952522278 ms\n"
     ]
    },
    {
     "name": "stdout",
     "output_type": "stream",
     "text": [
      "predicted_words [[149, 449], [449, 181], [122, 461], [122, 846], [461, 4], [108, 449], [9, 4], [7, 181]]\n",
      "---------------------------\n"
     ]
    },
    {
     "name": "stderr",
     "output_type": "stream",
     "text": [
      "2020-04-17 23:46:30 - Transformer_no_pretrain - INFO: - decode batch cost time : 0.02775508165359497 ms\n",
      "I0417 23:46:30.480216 139696977332032 <ipython-input-11-3340543714f4>:36] decode batch cost time : 0.02775508165359497 ms\n"
     ]
    },
    {
     "name": "stdout",
     "output_type": "stream",
     "text": [
      "predicted_words [[149, 449], [4, 393], [122, 461], [122, 846], [461, 4], [108, 449], [99, 4], [7, 181]]\n",
      "---------------------------\n"
     ]
    },
    {
     "name": "stderr",
     "output_type": "stream",
     "text": [
      "2020-04-17 23:46:30 - Transformer_no_pretrain - INFO: - decode batch cost time : 0.025618255138397217 ms\n",
      "I0417 23:46:30.697062 139696977332032 <ipython-input-11-3340543714f4>:36] decode batch cost time : 0.025618255138397217 ms\n"
     ]
    },
    {
     "name": "stdout",
     "output_type": "stream",
     "text": [
      "predicted_words [[24, 393], [1024, 181], [24, 393], [122, 846], [461, 4], [108, 449], [9, 4], [7, 181]]\n",
      "---------------------------\n"
     ]
    },
    {
     "name": "stderr",
     "output_type": "stream",
     "text": [
      "2020-04-17 23:46:30 - Transformer_no_pretrain - INFO: - decode batch cost time : 0.024860471487045288 ms\n",
      "I0417 23:46:30.906106 139696977332032 <ipython-input-11-3340543714f4>:36] decode batch cost time : 0.024860471487045288 ms\n"
     ]
    },
    {
     "name": "stdout",
     "output_type": "stream",
     "text": [
      "predicted_words [[24, 393], [1024, 181], [1024, 181], [449, 181], [461, 4], [108, 449], [99, 4], [7, 181]]\n",
      "---------------------------\n"
     ]
    },
    {
     "name": "stderr",
     "output_type": "stream",
     "text": [
      "2020-04-17 23:46:31 - Transformer_no_pretrain - INFO: - decode batch cost time : 0.024903446435928345 ms\n",
      "I0417 23:46:31.116060 139696977332032 <ipython-input-11-3340543714f4>:36] decode batch cost time : 0.024903446435928345 ms\n"
     ]
    },
    {
     "name": "stdout",
     "output_type": "stream",
     "text": [
      "predicted_words [[24, 393], [4, 393], [1024, 181], [122, 846], [461, 4], [108, 449], [99, 4], [7, 181]]\n",
      "---------------------------\n"
     ]
    },
    {
     "name": "stderr",
     "output_type": "stream",
     "text": [
      "2020-04-17 23:46:31 - Transformer_no_pretrain - INFO: - decode batch cost time : 0.02505168318748474 ms\n",
      "I0417 23:46:31.327356 139696977332032 <ipython-input-11-3340543714f4>:36] decode batch cost time : 0.02505168318748474 ms\n"
     ]
    },
    {
     "name": "stdout",
     "output_type": "stream",
     "text": [
      "predicted_words [[149, 449], [449, 181], [122, 461], [122, 846], [461, 4], [108, 449], [9, 4], [7, 181]]\n",
      "---------------------------\n"
     ]
    },
    {
     "name": "stderr",
     "output_type": "stream",
     "text": [
      "2020-04-17 23:46:31 - Transformer_no_pretrain - INFO: - decode batch cost time : 0.024987757205963135 ms\n",
      "I0417 23:46:31.537648 139696977332032 <ipython-input-11-3340543714f4>:36] decode batch cost time : 0.024987757205963135 ms\n"
     ]
    },
    {
     "name": "stdout",
     "output_type": "stream",
     "text": [
      "predicted_words [[149, 449], [1024, 181], [122, 461], [122, 846], [461, 4], [108, 449], [9, 4], [7, 181]]\n",
      "---------------------------\n"
     ]
    },
    {
     "name": "stderr",
     "output_type": "stream",
     "text": [
      "2020-04-17 23:46:31 - Transformer_no_pretrain - INFO: - decode batch cost time : 0.025114864110946655 ms\n",
      "I0417 23:46:31.748215 139696977332032 <ipython-input-11-3340543714f4>:36] decode batch cost time : 0.025114864110946655 ms\n"
     ]
    },
    {
     "name": "stdout",
     "output_type": "stream",
     "text": [
      "predicted_words [[24, 393], [4, 393], [24, 393], [122, 846], [461, 4], [108, 449], [99, 4], [7, 181]]\n",
      "---------------------------\n"
     ]
    },
    {
     "name": "stderr",
     "output_type": "stream",
     "text": [
      "2020-04-17 23:46:31 - Transformer_no_pretrain - INFO: - decode batch cost time : 0.0265713632106781 ms\n",
      "I0417 23:46:31.971574 139696977332032 <ipython-input-11-3340543714f4>:36] decode batch cost time : 0.0265713632106781 ms\n"
     ]
    },
    {
     "name": "stdout",
     "output_type": "stream",
     "text": [
      "predicted_words [[24, 393], [4, 393], [1024, 181], [122, 846], [461, 4], [108, 449], [99, 4], [7, 181]]\n",
      "---------------------------\n"
     ]
    },
    {
     "name": "stderr",
     "output_type": "stream",
     "text": [
      "2020-04-17 23:46:32 - Transformer_no_pretrain - INFO: - decode batch cost time : 0.02702462673187256 ms\n",
      "I0417 23:46:32.202788 139696977332032 <ipython-input-11-3340543714f4>:36] decode batch cost time : 0.02702462673187256 ms\n"
     ]
    },
    {
     "name": "stdout",
     "output_type": "stream",
     "text": [
      "predicted_words [[149, 449], [449, 181], [122, 461], [122, 846], [461, 4], [108, 449], [9, 4], [7, 181]]\n",
      "---------------------------\n"
     ]
    },
    {
     "name": "stderr",
     "output_type": "stream",
     "text": [
      "2020-04-17 23:46:32 - Transformer_no_pretrain - INFO: - decode batch cost time : 0.025464028120040894 ms\n",
      "I0417 23:46:32.419652 139696977332032 <ipython-input-11-3340543714f4>:36] decode batch cost time : 0.025464028120040894 ms\n"
     ]
    },
    {
     "name": "stdout",
     "output_type": "stream",
     "text": [
      "predicted_words [[24, 393], [4, 393], [1024, 181], [122, 846], [461, 4], [108, 449], [99, 4], [7, 181]]\n",
      "---------------------------\n"
     ]
    },
    {
     "name": "stderr",
     "output_type": "stream",
     "text": [
      "2020-04-17 23:46:32 - Transformer_no_pretrain - INFO: - decode batch cost time : 0.024914264678955078 ms\n",
      "I0417 23:46:32.629465 139696977332032 <ipython-input-11-3340543714f4>:36] decode batch cost time : 0.024914264678955078 ms\n"
     ]
    },
    {
     "name": "stdout",
     "output_type": "stream",
     "text": [
      "predicted_words [[149, 449], [1024, 181], [122, 461], [122, 846], [461, 4], [231, 9], [9, 4], [449, 181]]\n",
      "---------------------------\n"
     ]
    },
    {
     "name": "stderr",
     "output_type": "stream",
     "text": [
      "2020-04-17 23:46:32 - Transformer_no_pretrain - INFO: - decode batch cost time : 0.024926811456680298 ms\n",
      "I0417 23:46:32.839358 139696977332032 <ipython-input-11-3340543714f4>:36] decode batch cost time : 0.024926811456680298 ms\n"
     ]
    },
    {
     "name": "stdout",
     "output_type": "stream",
     "text": [
      "predicted_words [[149, 449], [1024, 181], [122, 461], [122, 846], [461, 4], [108, 449], [9, 4], [7, 181]]\n",
      "---------------------------\n"
     ]
    },
    {
     "name": "stderr",
     "output_type": "stream",
     "text": [
      "2020-04-17 23:46:33 - Transformer_no_pretrain - INFO: - decode batch cost time : 0.02509850263595581 ms\n",
      "I0417 23:46:33.050496 139696977332032 <ipython-input-11-3340543714f4>:36] decode batch cost time : 0.02509850263595581 ms\n"
     ]
    },
    {
     "name": "stdout",
     "output_type": "stream",
     "text": [
      "predicted_words [[24, 393], [4, 393], [1024, 181], [122, 846], [461, 4], [108, 449], [99, 4], [7, 181]]\n",
      "---------------------------\n"
     ]
    },
    {
     "name": "stderr",
     "output_type": "stream",
     "text": [
      "2020-04-17 23:46:33 - Transformer_no_pretrain - INFO: - decode batch cost time : 0.02533191442489624 ms\n",
      "I0417 23:46:33.264278 139696977332032 <ipython-input-11-3340543714f4>:36] decode batch cost time : 0.02533191442489624 ms\n"
     ]
    },
    {
     "name": "stdout",
     "output_type": "stream",
     "text": [
      "predicted_words [[149, 449], [449, 181], [122, 461], [122, 846], [461, 4], [108, 449], [9, 4], [7, 181]]\n",
      "---------------------------\n"
     ]
    },
    {
     "name": "stderr",
     "output_type": "stream",
     "text": [
      "2020-04-17 23:46:33 - Transformer_no_pretrain - INFO: - decode batch cost time : 0.02505633234977722 ms\n",
      "I0417 23:46:33.474388 139696977332032 <ipython-input-11-3340543714f4>:36] decode batch cost time : 0.02505633234977722 ms\n"
     ]
    },
    {
     "name": "stdout",
     "output_type": "stream",
     "text": [
      "predicted_words [[24, 393], [4, 393], [1024, 181], [122, 846], [461, 4], [108, 449], [99, 4], [7, 181]]\n",
      "---------------------------\n"
     ]
    },
    {
     "name": "stderr",
     "output_type": "stream",
     "text": [
      "2020-04-17 23:46:33 - Transformer_no_pretrain - INFO: - decode batch cost time : 0.02503734827041626 ms\n",
      "I0417 23:46:33.693662 139696977332032 <ipython-input-11-3340543714f4>:36] decode batch cost time : 0.02503734827041626 ms\n"
     ]
    },
    {
     "name": "stdout",
     "output_type": "stream",
     "text": [
      "predicted_words [[24, 393], [4, 393], [1024, 181], [122, 846], [461, 4], [108, 449], [99, 4], [7, 181]]\n",
      "---------------------------\n"
     ]
    },
    {
     "name": "stderr",
     "output_type": "stream",
     "text": [
      "2020-04-17 23:46:33 - Transformer_no_pretrain - INFO: - decode batch cost time : 0.026226133108139038 ms\n",
      "I0417 23:46:33.914168 139696977332032 <ipython-input-11-3340543714f4>:36] decode batch cost time : 0.026226133108139038 ms\n"
     ]
    },
    {
     "name": "stdout",
     "output_type": "stream",
     "text": [
      "predicted_words [[149, 449], [1024, 181], [122, 461], [122, 846], [461, 4], [108, 449], [99, 4], [7, 181]]\n",
      "---------------------------\n"
     ]
    },
    {
     "name": "stderr",
     "output_type": "stream",
     "text": [
      "2020-04-17 23:46:34 - Transformer_no_pretrain - INFO: - decode batch cost time : 0.026784509420394897 ms\n",
      "I0417 23:46:34.142574 139696977332032 <ipython-input-11-3340543714f4>:36] decode batch cost time : 0.026784509420394897 ms\n"
     ]
    },
    {
     "name": "stdout",
     "output_type": "stream",
     "text": [
      "predicted_words [[149, 449], [4, 393], [1024, 181], [122, 846], [461, 4], [108, 449], [99, 4], [7, 181]]\n",
      "---------------------------\n"
     ]
    },
    {
     "name": "stderr",
     "output_type": "stream",
     "text": [
      "2020-04-17 23:46:34 - Transformer_no_pretrain - INFO: - decode batch cost time : 0.027802854776382446 ms\n",
      "I0417 23:46:34.375926 139696977332032 <ipython-input-11-3340543714f4>:36] decode batch cost time : 0.027802854776382446 ms\n"
     ]
    },
    {
     "name": "stdout",
     "output_type": "stream",
     "text": [
      "predicted_words [[24, 393], [24, 393], [122, 461], [449, 181], [461, 4], [108, 449], [9, 4], [7, 181]]\n",
      "---------------------------\n"
     ]
    },
    {
     "name": "stderr",
     "output_type": "stream",
     "text": [
      "2020-04-17 23:46:34 - Transformer_no_pretrain - INFO: - decode batch cost time : 0.026303529739379883 ms\n",
      "I0417 23:46:34.597075 139696977332032 <ipython-input-11-3340543714f4>:36] decode batch cost time : 0.026303529739379883 ms\n"
     ]
    },
    {
     "name": "stdout",
     "output_type": "stream",
     "text": [
      "predicted_words [[24, 393], [1024, 181], [1024, 181], [449, 181], [461, 4], [108, 449], [99, 4], [7, 181]]\n",
      "---------------------------\n"
     ]
    },
    {
     "name": "stderr",
     "output_type": "stream",
     "text": [
      "2020-04-17 23:46:34 - Transformer_no_pretrain - INFO: - decode batch cost time : 0.027135193347930908 ms\n",
      "I0417 23:46:34.826962 139696977332032 <ipython-input-11-3340543714f4>:36] decode batch cost time : 0.027135193347930908 ms\n"
     ]
    },
    {
     "name": "stdout",
     "output_type": "stream",
     "text": [
      "predicted_words [[24, 393], [4, 393], [24, 393], [449, 181], [461, 4], [99, 4], [122, 461], [108, 74]]\n",
      "---------------------------\n"
     ]
    },
    {
     "name": "stderr",
     "output_type": "stream",
     "text": [
      "2020-04-17 23:46:35 - Transformer_no_pretrain - INFO: - decode batch cost time : 0.025978177785873413 ms\n",
      "I0417 23:46:35.044991 139696977332032 <ipython-input-11-3340543714f4>:36] decode batch cost time : 0.025978177785873413 ms\n"
     ]
    },
    {
     "name": "stdout",
     "output_type": "stream",
     "text": [
      "predicted_words [[149, 449], [4, 393], [122, 461], [122, 846], [461, 4], [108, 449], [99, 4], [7, 181]]\n",
      "---------------------------\n"
     ]
    },
    {
     "name": "stderr",
     "output_type": "stream",
     "text": [
      "2020-04-17 23:46:35 - Transformer_no_pretrain - INFO: - decode batch cost time : 0.029118388891220093 ms\n",
      "I0417 23:46:35.287909 139696977332032 <ipython-input-11-3340543714f4>:36] decode batch cost time : 0.029118388891220093 ms\n"
     ]
    },
    {
     "name": "stdout",
     "output_type": "stream",
     "text": [
      "predicted_words [[24, 393], [4, 393], [1024, 181], [122, 846], [461, 4], [108, 449], [99, 4], [7, 181]]\n",
      "---------------------------\n"
     ]
    },
    {
     "name": "stderr",
     "output_type": "stream",
     "text": [
      "2020-04-17 23:46:35 - Transformer_no_pretrain - INFO: - decode batch cost time : 0.02744990587234497 ms\n",
      "I0417 23:46:35.522526 139696977332032 <ipython-input-11-3340543714f4>:36] decode batch cost time : 0.02744990587234497 ms\n"
     ]
    },
    {
     "name": "stdout",
     "output_type": "stream",
     "text": [
      "predicted_words [[149, 449], [1024, 181], [122, 461], [122, 846], [461, 4], [108, 449], [99, 4], [7, 181]]\n",
      "---------------------------\n"
     ]
    },
    {
     "name": "stderr",
     "output_type": "stream",
     "text": [
      "2020-04-17 23:46:35 - Transformer_no_pretrain - INFO: - decode batch cost time : 0.025797933340072632 ms\n",
      "I0417 23:46:35.739498 139696977332032 <ipython-input-11-3340543714f4>:36] decode batch cost time : 0.025797933340072632 ms\n"
     ]
    },
    {
     "name": "stdout",
     "output_type": "stream",
     "text": [
      "predicted_words [[24, 393], [4, 393], [122, 461], [122, 846], [461, 4], [108, 449], [99, 4], [7, 181]]\n",
      "---------------------------\n"
     ]
    },
    {
     "name": "stderr",
     "output_type": "stream",
     "text": [
      "2020-04-17 23:46:35 - Transformer_no_pretrain - INFO: - decode batch cost time : 0.027258187532424927 ms\n",
      "I0417 23:46:35.979749 139696977332032 <ipython-input-11-3340543714f4>:36] decode batch cost time : 0.027258187532424927 ms\n"
     ]
    },
    {
     "name": "stdout",
     "output_type": "stream",
     "text": [
      "predicted_words [[24, 393], [4, 393], [24, 393], [449, 181], [461, 4], [108, 449], [99, 4], [7, 181]]\n",
      "---------------------------\n"
     ]
    },
    {
     "name": "stderr",
     "output_type": "stream",
     "text": [
      "2020-04-17 23:46:36 - Transformer_no_pretrain - INFO: - decode batch cost time : 0.02868962287902832 ms\n",
      "I0417 23:46:36.225820 139696977332032 <ipython-input-11-3340543714f4>:36] decode batch cost time : 0.02868962287902832 ms\n"
     ]
    },
    {
     "name": "stdout",
     "output_type": "stream",
     "text": [
      "predicted_words [[24, 393], [1024, 181], [24, 393], [449, 181], [461, 4], [108, 449], [99, 4], [7, 181]]\n",
      "---------------------------\n"
     ]
    },
    {
     "name": "stderr",
     "output_type": "stream",
     "text": [
      "2020-04-17 23:46:36 - Transformer_no_pretrain - INFO: - decode batch cost time : 0.028759777545928955 ms\n",
      "I0417 23:46:36.467442 139696977332032 <ipython-input-11-3340543714f4>:36] decode batch cost time : 0.028759777545928955 ms\n"
     ]
    },
    {
     "name": "stdout",
     "output_type": "stream",
     "text": [
      "predicted_words [[149, 449], [4, 393], [122, 461], [122, 846], [461, 4], [108, 449], [99, 4], [7, 181]]\n",
      "---------------------------\n"
     ]
    },
    {
     "name": "stderr",
     "output_type": "stream",
     "text": [
      "2020-04-17 23:46:36 - Transformer_no_pretrain - INFO: - decode batch cost time : 0.02873075008392334 ms\n",
      "I0417 23:46:36.708835 139696977332032 <ipython-input-11-3340543714f4>:36] decode batch cost time : 0.02873075008392334 ms\n"
     ]
    },
    {
     "name": "stdout",
     "output_type": "stream",
     "text": [
      "predicted_words [[149, 449], [1024, 181], [122, 461], [122, 846], [461, 4], [108, 449], [9, 4], [7, 181]]\n",
      "---------------------------\n"
     ]
    },
    {
     "name": "stderr",
     "output_type": "stream",
     "text": [
      "2020-04-17 23:46:36 - Transformer_no_pretrain - INFO: - decode batch cost time : 0.02870190143585205 ms\n",
      "I0417 23:46:36.949405 139696977332032 <ipython-input-11-3340543714f4>:36] decode batch cost time : 0.02870190143585205 ms\n"
     ]
    },
    {
     "name": "stdout",
     "output_type": "stream",
     "text": [
      "predicted_words [[149, 449], [4, 393], [122, 461], [122, 846], [461, 4], [108, 449], [99, 4], [7, 181]]\n",
      "---------------------------\n"
     ]
    },
    {
     "name": "stderr",
     "output_type": "stream",
     "text": [
      "2020-04-17 23:46:37 - Transformer_no_pretrain - INFO: - decode batch cost time : 0.02752712368965149 ms\n",
      "I0417 23:46:37.183001 139696977332032 <ipython-input-11-3340543714f4>:36] decode batch cost time : 0.02752712368965149 ms\n"
     ]
    },
    {
     "name": "stdout",
     "output_type": "stream",
     "text": [
      "predicted_words [[149, 449], [4, 393], [1024, 181], [122, 846], [461, 4], [108, 449], [99, 4], [7, 181]]\n",
      "---------------------------\n"
     ]
    },
    {
     "name": "stderr",
     "output_type": "stream",
     "text": [
      "2020-04-17 23:46:37 - Transformer_no_pretrain - INFO: - decode batch cost time : 0.02683466672897339 ms\n",
      "I0417 23:46:37.408934 139696977332032 <ipython-input-11-3340543714f4>:36] decode batch cost time : 0.02683466672897339 ms\n"
     ]
    },
    {
     "name": "stdout",
     "output_type": "stream",
     "text": [
      "predicted_words [[149, 449], [1024, 181], [1024, 181], [122, 846], [461, 4], [108, 449], [99, 4], [7, 181]]\n",
      "---------------------------\n"
     ]
    },
    {
     "name": "stderr",
     "output_type": "stream",
     "text": [
      "2020-04-17 23:46:37 - Transformer_no_pretrain - INFO: - decode batch cost time : 0.029084324836730957 ms\n",
      "I0417 23:46:37.659823 139696977332032 <ipython-input-11-3340543714f4>:36] decode batch cost time : 0.029084324836730957 ms\n"
     ]
    },
    {
     "name": "stdout",
     "output_type": "stream",
     "text": [
      "predicted_words [[149, 449], [4, 393], [24, 393], [449, 181], [181, 59], [108, 449], [99, 4], [122, 846]]\n",
      "---------------------------\n"
     ]
    },
    {
     "name": "stderr",
     "output_type": "stream",
     "text": [
      "2020-04-17 23:46:37 - Transformer_no_pretrain - INFO: - decode batch cost time : 0.02820897102355957 ms\n",
      "I0417 23:46:37.897943 139696977332032 <ipython-input-11-3340543714f4>:36] decode batch cost time : 0.02820897102355957 ms\n"
     ]
    },
    {
     "name": "stdout",
     "output_type": "stream",
     "text": [
      "predicted_words [[149, 449], [4, 393], [1024, 181], [122, 846], [461, 4], [108, 449], [99, 4], [7, 181]]\n",
      "---------------------------\n"
     ]
    },
    {
     "name": "stderr",
     "output_type": "stream",
     "text": [
      "2020-04-17 23:46:38 - Transformer_no_pretrain - INFO: - decode batch cost time : 0.02811923623085022 ms\n",
      "I0417 23:46:38.145678 139696977332032 <ipython-input-11-3340543714f4>:36] decode batch cost time : 0.02811923623085022 ms\n"
     ]
    },
    {
     "name": "stdout",
     "output_type": "stream",
     "text": [
      "predicted_words [[24, 393], [1024, 181], [24, 393], [122, 846], [461, 4], [99, 9], [231, 4], [7, 181]]\n",
      "---------------------------\n"
     ]
    },
    {
     "name": "stderr",
     "output_type": "stream",
     "text": [
      "2020-04-17 23:46:38 - Transformer_no_pretrain - INFO: - decode batch cost time : 0.028757929801940918 ms\n",
      "I0417 23:46:38.387661 139696977332032 <ipython-input-11-3340543714f4>:36] decode batch cost time : 0.028757929801940918 ms\n"
     ]
    },
    {
     "name": "stdout",
     "output_type": "stream",
     "text": [
      "predicted_words [[149, 449], [1024, 181], [122, 461], [122, 846], [461, 4], [108, 449], [9, 4], [7, 181]]\n",
      "---------------------------\n"
     ]
    },
    {
     "name": "stderr",
     "output_type": "stream",
     "text": [
      "2020-04-17 23:46:38 - Transformer_no_pretrain - INFO: - decode batch cost time : 0.027596890926361084 ms\n",
      "I0417 23:46:38.624722 139696977332032 <ipython-input-11-3340543714f4>:36] decode batch cost time : 0.027596890926361084 ms\n"
     ]
    },
    {
     "name": "stdout",
     "output_type": "stream",
     "text": [
      "predicted_words [[24, 393], [4, 393], [24, 393], [122, 846], [461, 4], [108, 449], [99, 4], [7, 181]]\n",
      "---------------------------\n"
     ]
    },
    {
     "name": "stderr",
     "output_type": "stream",
     "text": [
      "2020-04-17 23:46:38 - Transformer_no_pretrain - INFO: - decode batch cost time : 0.028231650590896606 ms\n",
      "I0417 23:46:38.866132 139696977332032 <ipython-input-11-3340543714f4>:36] decode batch cost time : 0.028231650590896606 ms\n"
     ]
    },
    {
     "name": "stdout",
     "output_type": "stream",
     "text": [
      "predicted_words [[24, 393], [4, 393], [24, 393], [449, 181], [461, 4], [108, 449], [122, 461], [7, 181]]\n",
      "---------------------------\n"
     ]
    },
    {
     "name": "stderr",
     "output_type": "stream",
     "text": [
      "2020-04-17 23:46:39 - Transformer_no_pretrain - INFO: - decode batch cost time : 0.030283182859420776 ms\n",
      "I0417 23:46:39.122739 139696977332032 <ipython-input-11-3340543714f4>:36] decode batch cost time : 0.030283182859420776 ms\n"
     ]
    },
    {
     "name": "stdout",
     "output_type": "stream",
     "text": [
      "predicted_words [[149, 449], [1024, 181], [122, 461], [122, 846], [461, 4], [108, 449], [99, 4], [7, 181]]\n",
      "---------------------------\n"
     ]
    },
    {
     "name": "stderr",
     "output_type": "stream",
     "text": [
      "2020-04-17 23:46:39 - Transformer_no_pretrain - INFO: - decode batch cost time : 0.03074786067008972 ms\n",
      "I0417 23:46:39.385071 139696977332032 <ipython-input-11-3340543714f4>:36] decode batch cost time : 0.03074786067008972 ms\n"
     ]
    },
    {
     "name": "stdout",
     "output_type": "stream",
     "text": [
      "predicted_words [[149, 449], [4, 393], [1024, 181], [122, 846], [461, 4], [108, 449], [99, 4], [7, 181]]\n",
      "---------------------------\n"
     ]
    },
    {
     "name": "stderr",
     "output_type": "stream",
     "text": [
      "2020-04-17 23:46:39 - Transformer_no_pretrain - INFO: - decode batch cost time : 0.028234273195266724 ms\n",
      "I0417 23:46:39.622567 139696977332032 <ipython-input-11-3340543714f4>:36] decode batch cost time : 0.028234273195266724 ms\n"
     ]
    },
    {
     "name": "stdout",
     "output_type": "stream",
     "text": [
      "predicted_words [[24, 393], [4, 393], [1024, 181], [122, 846], [461, 4], [108, 449], [99, 4], [7, 181]]\n",
      "---------------------------\n"
     ]
    },
    {
     "name": "stderr",
     "output_type": "stream",
     "text": [
      "2020-04-17 23:46:39 - Transformer_no_pretrain - INFO: - decode batch cost time : 0.027451515197753906 ms\n",
      "I0417 23:46:39.853639 139696977332032 <ipython-input-11-3340543714f4>:36] decode batch cost time : 0.027451515197753906 ms\n"
     ]
    },
    {
     "name": "stdout",
     "output_type": "stream",
     "text": [
      "predicted_words [[149, 449], [4, 393], [122, 461], [122, 846], [461, 4], [108, 449], [99, 4], [7, 181]]\n",
      "---------------------------\n"
     ]
    },
    {
     "name": "stderr",
     "output_type": "stream",
     "text": [
      "2020-04-17 23:46:40 - Transformer_no_pretrain - INFO: - decode batch cost time : 0.02863389253616333 ms\n",
      "I0417 23:46:40.094900 139696977332032 <ipython-input-11-3340543714f4>:36] decode batch cost time : 0.02863389253616333 ms\n"
     ]
    },
    {
     "name": "stdout",
     "output_type": "stream",
     "text": [
      "predicted_words [[24, 393], [4, 393], [24, 393], [449, 181], [461, 4], [108, 449], [15, 4], [7, 181]]\n",
      "---------------------------\n"
     ]
    },
    {
     "name": "stderr",
     "output_type": "stream",
     "text": [
      "2020-04-17 23:46:40 - Transformer_no_pretrain - INFO: - decode batch cost time : 0.03183487057685852 ms\n",
      "I0417 23:46:40.366992 139696977332032 <ipython-input-11-3340543714f4>:36] decode batch cost time : 0.03183487057685852 ms\n"
     ]
    },
    {
     "name": "stdout",
     "output_type": "stream",
     "text": [
      "predicted_words [[149, 449], [4, 393], [1024, 181], [122, 846], [461, 4], [108, 449], [99, 4], [7, 181]]\n",
      "---------------------------\n"
     ]
    },
    {
     "name": "stderr",
     "output_type": "stream",
     "text": [
      "2020-04-17 23:46:40 - Transformer_no_pretrain - INFO: - decode batch cost time : 0.030373692512512207 ms\n",
      "I0417 23:46:40.621787 139696977332032 <ipython-input-11-3340543714f4>:36] decode batch cost time : 0.030373692512512207 ms\n"
     ]
    },
    {
     "name": "stdout",
     "output_type": "stream",
     "text": [
      "predicted_words [[149, 449], [4, 393], [1024, 181], [122, 846], [461, 4], [108, 449], [99, 4], [7, 181]]\n",
      "---------------------------\n"
     ]
    },
    {
     "name": "stderr",
     "output_type": "stream",
     "text": [
      "2020-04-17 23:46:40 - Transformer_no_pretrain - INFO: - decode batch cost time : 0.03127843141555786 ms\n",
      "I0417 23:46:40.885194 139696977332032 <ipython-input-11-3340543714f4>:36] decode batch cost time : 0.03127843141555786 ms\n"
     ]
    },
    {
     "name": "stdout",
     "output_type": "stream",
     "text": [
      "predicted_words [[24, 393], [4, 393], [1024, 181], [122, 846], [461, 4], [108, 449], [99, 4], [7, 181]]\n",
      "---------------------------\n"
     ]
    },
    {
     "name": "stderr",
     "output_type": "stream",
     "text": [
      "2020-04-17 23:46:41 - Transformer_no_pretrain - INFO: - decode batch cost time : 0.03157457709312439 ms\n",
      "I0417 23:46:41.159537 139696977332032 <ipython-input-11-3340543714f4>:36] decode batch cost time : 0.03157457709312439 ms\n"
     ]
    },
    {
     "name": "stdout",
     "output_type": "stream",
     "text": [
      "predicted_words [[24, 393], [4, 393], [1024, 181], [122, 846], [461, 4], [108, 449], [99, 4], [7, 181]]\n",
      "---------------------------\n"
     ]
    },
    {
     "name": "stderr",
     "output_type": "stream",
     "text": [
      "2020-04-17 23:46:41 - Transformer_no_pretrain - INFO: - decode batch cost time : 0.031388550996780396 ms\n",
      "I0417 23:46:41.422059 139696977332032 <ipython-input-11-3340543714f4>:36] decode batch cost time : 0.031388550996780396 ms\n"
     ]
    },
    {
     "name": "stdout",
     "output_type": "stream",
     "text": [
      "predicted_words [[24, 393], [1024, 181], [24, 393], [449, 181], [461, 4], [108, 449], [99, 4], [7, 181]]\n",
      "---------------------------\n"
     ]
    },
    {
     "name": "stderr",
     "output_type": "stream",
     "text": [
      "2020-04-17 23:46:41 - Transformer_no_pretrain - INFO: - decode batch cost time : 0.03160765767097473 ms\n",
      "I0417 23:46:41.697463 139696977332032 <ipython-input-11-3340543714f4>:36] decode batch cost time : 0.03160765767097473 ms\n"
     ]
    },
    {
     "name": "stdout",
     "output_type": "stream",
     "text": [
      "predicted_words [[24, 393], [449, 181], [24, 393], [1024, 181], [461, 4], [108, 449], [99, 4], [7, 181]]\n",
      "---------------------------\n"
     ]
    },
    {
     "name": "stderr",
     "output_type": "stream",
     "text": [
      "2020-04-17 23:46:41 - Transformer_no_pretrain - INFO: - decode batch cost time : 0.030490100383758545 ms\n",
      "I0417 23:46:41.956277 139696977332032 <ipython-input-11-3340543714f4>:36] decode batch cost time : 0.030490100383758545 ms\n"
     ]
    },
    {
     "name": "stdout",
     "output_type": "stream",
     "text": [
      "predicted_words [[149, 449], [4, 393], [122, 461], [122, 846], [461, 4], [108, 449], [99, 4], [7, 181]]\n",
      "---------------------------\n"
     ]
    },
    {
     "name": "stderr",
     "output_type": "stream",
     "text": [
      "2020-04-17 23:46:42 - Transformer_no_pretrain - INFO: - decode batch cost time : 0.030791431665420532 ms\n",
      "I0417 23:46:42.215092 139696977332032 <ipython-input-11-3340543714f4>:36] decode batch cost time : 0.030791431665420532 ms\n"
     ]
    },
    {
     "name": "stdout",
     "output_type": "stream",
     "text": [
      "predicted_words [[24, 393], [4, 393], [24, 393], [449, 181], [461, 4], [108, 449], [99, 4], [7, 181]]\n",
      "---------------------------\n"
     ]
    },
    {
     "name": "stderr",
     "output_type": "stream",
     "text": [
      "2020-04-17 23:46:42 - Transformer_no_pretrain - INFO: - decode batch cost time : 0.03127714991569519 ms\n",
      "I0417 23:46:42.477038 139696977332032 <ipython-input-11-3340543714f4>:36] decode batch cost time : 0.03127714991569519 ms\n"
     ]
    },
    {
     "name": "stdout",
     "output_type": "stream",
     "text": [
      "predicted_words [[149, 449], [4, 393], [122, 461], [122, 846], [461, 4], [108, 449], [99, 4], [7, 181]]\n",
      "---------------------------\n"
     ]
    },
    {
     "name": "stderr",
     "output_type": "stream",
     "text": [
      "2020-04-17 23:46:42 - Transformer_no_pretrain - INFO: - decode batch cost time : 0.03106158971786499 ms\n",
      "I0417 23:46:42.736864 139696977332032 <ipython-input-11-3340543714f4>:36] decode batch cost time : 0.03106158971786499 ms\n"
     ]
    },
    {
     "name": "stdout",
     "output_type": "stream",
     "text": [
      "predicted_words [[24, 393], [4, 393], [24, 393], [449, 181], [461, 4], [108, 449], [99, 4], [7, 181]]\n",
      "---------------------------\n"
     ]
    },
    {
     "name": "stderr",
     "output_type": "stream",
     "text": [
      "2020-04-17 23:46:42 - Transformer_no_pretrain - INFO: - decode batch cost time : 0.031223416328430176 ms\n",
      "I0417 23:46:42.999145 139696977332032 <ipython-input-11-3340543714f4>:36] decode batch cost time : 0.031223416328430176 ms\n"
     ]
    },
    {
     "name": "stdout",
     "output_type": "stream",
     "text": [
      "predicted_words [[24, 393], [4, 393], [24, 393], [449, 181], [461, 4], [108, 449], [99, 4], [7, 181]]\n",
      "---------------------------\n"
     ]
    },
    {
     "name": "stderr",
     "output_type": "stream",
     "text": [
      "2020-04-17 23:46:43 - Transformer_no_pretrain - INFO: - decode batch cost time : 0.032042622566223145 ms\n",
      "I0417 23:46:43.268696 139696977332032 <ipython-input-11-3340543714f4>:36] decode batch cost time : 0.032042622566223145 ms\n"
     ]
    },
    {
     "name": "stdout",
     "output_type": "stream",
     "text": [
      "predicted_words [[149, 449], [4, 393], [122, 461], [122, 846], [461, 4], [108, 449], [99, 4], [7, 181]]\n",
      "---------------------------\n"
     ]
    },
    {
     "name": "stderr",
     "output_type": "stream",
     "text": [
      "2020-04-17 23:46:43 - Transformer_no_pretrain - INFO: - decode batch cost time : 0.031171411275863647 ms\n",
      "I0417 23:46:43.541996 139696977332032 <ipython-input-11-3340543714f4>:36] decode batch cost time : 0.031171411275863647 ms\n"
     ]
    },
    {
     "name": "stdout",
     "output_type": "stream",
     "text": [
      "predicted_words [[24, 393], [4, 393], [24, 393], [449, 181], [461, 4], [108, 449], [99, 4], [7, 181]]\n",
      "---------------------------\n"
     ]
    },
    {
     "name": "stderr",
     "output_type": "stream",
     "text": [
      "2020-04-17 23:46:43 - Transformer_no_pretrain - INFO: - decode batch cost time : 0.03161633014678955 ms\n",
      "I0417 23:46:43.806459 139696977332032 <ipython-input-11-3340543714f4>:36] decode batch cost time : 0.03161633014678955 ms\n"
     ]
    },
    {
     "name": "stdout",
     "output_type": "stream",
     "text": [
      "predicted_words [[24, 393], [4, 393], [24, 393], [449, 181], [461, 4], [108, 449], [15, 4], [7, 181]]\n",
      "---------------------------\n"
     ]
    },
    {
     "name": "stderr",
     "output_type": "stream",
     "text": [
      "2020-04-17 23:46:44 - Transformer_no_pretrain - INFO: - decode batch cost time : 0.032370299100875854 ms\n",
      "I0417 23:46:44.077944 139696977332032 <ipython-input-11-3340543714f4>:36] decode batch cost time : 0.032370299100875854 ms\n"
     ]
    },
    {
     "name": "stdout",
     "output_type": "stream",
     "text": [
      "predicted_words [[149, 449], [4, 393], [122, 461], [122, 846], [461, 4], [108, 449], [99, 4], [7, 181]]\n",
      "---------------------------\n"
     ]
    },
    {
     "name": "stderr",
     "output_type": "stream",
     "text": [
      "2020-04-17 23:46:44 - Transformer_no_pretrain - INFO: - decode batch cost time : 0.032740265130996704 ms\n",
      "I0417 23:46:44.352995 139696977332032 <ipython-input-11-3340543714f4>:36] decode batch cost time : 0.032740265130996704 ms\n"
     ]
    },
    {
     "name": "stdout",
     "output_type": "stream",
     "text": [
      "predicted_words [[24, 393], [449, 181], [24, 393], [449, 181], [461, 4], [108, 449], [99, 4], [7, 181]]\n",
      "---------------------------\n"
     ]
    },
    {
     "name": "stderr",
     "output_type": "stream",
     "text": [
      "2020-04-17 23:46:44 - Transformer_no_pretrain - INFO: - decode batch cost time : 0.033126384019851685 ms\n",
      "I0417 23:46:44.630290 139696977332032 <ipython-input-11-3340543714f4>:36] decode batch cost time : 0.033126384019851685 ms\n"
     ]
    },
    {
     "name": "stdout",
     "output_type": "stream",
     "text": [
      "predicted_words [[24, 393], [4, 393], [24, 393], [449, 181], [461, 4], [108, 449], [99, 4], [7, 181]]\n",
      "---------------------------\n"
     ]
    },
    {
     "name": "stderr",
     "output_type": "stream",
     "text": [
      "2020-04-17 23:46:44 - Transformer_no_pretrain - INFO: - decode batch cost time : 0.03515547513961792 ms\n",
      "I0417 23:46:44.924500 139696977332032 <ipython-input-11-3340543714f4>:36] decode batch cost time : 0.03515547513961792 ms\n"
     ]
    },
    {
     "name": "stdout",
     "output_type": "stream",
     "text": [
      "predicted_words [[24, 393], [4, 393], [24, 393], [449, 181], [461, 4], [99, 4], [122, 461], [108, 74]]\n",
      "---------------------------\n"
     ]
    },
    {
     "name": "stderr",
     "output_type": "stream",
     "text": [
      "2020-04-17 23:46:45 - Transformer_no_pretrain - INFO: - decode batch cost time : 0.03533834218978882 ms\n",
      "I0417 23:46:45.219948 139696977332032 <ipython-input-11-3340543714f4>:36] decode batch cost time : 0.03533834218978882 ms\n"
     ]
    },
    {
     "name": "stdout",
     "output_type": "stream",
     "text": [
      "predicted_words [[24, 393], [4, 393], [24, 393], [449, 181], [461, 4], [108, 449], [15, 4], [7, 181]]\n",
      "---------------------------\n"
     ]
    },
    {
     "name": "stderr",
     "output_type": "stream",
     "text": [
      "2020-04-17 23:46:45 - Transformer_no_pretrain - INFO: - decode batch cost time : 0.03495985269546509 ms\n",
      "I0417 23:46:45.513397 139696977332032 <ipython-input-11-3340543714f4>:36] decode batch cost time : 0.03495985269546509 ms\n"
     ]
    },
    {
     "name": "stdout",
     "output_type": "stream",
     "text": [
      "predicted_words [[24, 393], [4, 393], [24, 393], [449, 181], [122, 461], [231, 9], [122, 461], [7, 181]]\n",
      "---------------------------\n"
     ]
    },
    {
     "name": "stderr",
     "output_type": "stream",
     "text": [
      "2020-04-17 23:46:45 - Transformer_no_pretrain - INFO: - epoch 0: train_avg_acc = 0.021689, test_avg_acc = 0.021689\n",
      "I0417 23:46:45.867162 139696977332032 <ipython-input-12-855e57fc9e57>:90] epoch 0: train_avg_acc = 0.021689, test_avg_acc = 0.021689\n",
      "2020-04-17 23:46:45 - Transformer_no_pretrain - INFO: - logger已關閉\n",
      "I0417 23:46:45.868928 139696977332032 train_util.py:150] logger已關閉\n"
     ]
    }
   ],
   "source": [
    "write_train_para(writer, config)\n",
    "logger.info('------Training START--------')\n",
    "running_avg_loss, running_avg_rl_loss = 0, 0\n",
    "sum_total_reward = 0\n",
    "step = 0\n",
    "\n",
    "try:\n",
    "    for epoch in range(config.max_epochs):\n",
    "        for batch in train_loader:\n",
    "            step += 1\n",
    "            mle_loss = train_one(model, config, batch)\n",
    "            if config.train_rl:\n",
    "                rl_loss, batch_reward = train_one_RL(model, config, batch)             \n",
    "                writer.add_scalars('scalar/RL_Loss',  \n",
    "                       {'rl_loss': rl_loss\n",
    "                       }, step)\n",
    "                writer.add_scalars('scalar/Reward',  \n",
    "                       {'batch_reward': batch_reward\n",
    "                       }, step)\n",
    "                \n",
    "                if step%1000 == 0 :\n",
    "                    logger.info('epoch %d: %d, RL_Loss = %f, batch_reward = %f'\n",
    "                                    % (epoch, step, rl_loss, batch_reward))\n",
    "                sum_total_reward += batch_reward\n",
    "            else:\n",
    "                rl_loss = T.FloatTensor([0]).cuda()\n",
    "            (config.mle_weight * mle_loss + config.rl_weight * rl_loss).backward()  # 反向传播，计算当前梯度\n",
    "\n",
    "            '''梯度累加就是，每次获取1个batch的数据，计算1次梯度，梯度不清空'''\n",
    "            if step % (config.gradient_accum) == 0: # gradient accumulation\n",
    "    #             clip_grad_norm_(model.parameters(), 5.0)                      \n",
    "                optimizer.step() # 根据累计的梯度更新网络参数\n",
    "                optimizer.zero_grad() # 清空过往梯度 \n",
    "\n",
    "            if step%1000 == 0 :\n",
    "                with T.autograd.no_grad():\n",
    "                    train_batch_loss = mle_loss.item()\n",
    "                    train_batch_rl_loss = rl_loss.item()\n",
    "                    val_avg_loss = validate(validate_loader, config, model) # call batch by validate_loader\n",
    "                    running_avg_loss = calc_running_avg_loss(train_batch_loss, running_avg_loss)\n",
    "                    running_avg_rl_loss = calc_running_avg_loss(train_batch_rl_loss, running_avg_rl_loss)\n",
    "                    running_avg_reward = sum_total_reward / step\n",
    "                    logger.info('epoch %d: %d, training batch loss = %f, running_avg_loss loss = %f, validation loss = %f'\n",
    "                                % (epoch, step, train_batch_loss, running_avg_loss, val_avg_loss))\n",
    "                    writer.add_scalars('scalar/Loss',  \n",
    "                       {'train_batch_loss': train_batch_loss\n",
    "                       }, step)\n",
    "                    writer.add_scalars('scalar_avg/loss',  \n",
    "                       {'train_avg_loss': running_avg_loss,\n",
    "                        'test_avg_loss': val_avg_loss\n",
    "                       }, step)\n",
    "                    if running_avg_reward > 0:\n",
    "                        logger.info('epoch %d: %d, running_avg_reward = %f'\n",
    "                                % (epoch, step, running_avg_reward))\n",
    "                        writer.add_scalars('scalar_avg/Reward',  \n",
    "                           {'running_avg_reward': running_avg_reward\n",
    "                           }, step)\n",
    "                    if running_avg_rl_loss != 0:\n",
    "                        logger.info('epoch %d: %d, running_avg_rl_loss = %f'\n",
    "                                % (epoch, step, running_avg_rl_loss))\n",
    "                        writer.add_scalars('scalar_avg/RL_Loss',  \n",
    "                           {'running_avg_rl_loss': running_avg_rl_loss\n",
    "                           }, step)\n",
    "\n",
    "            if step%5000 == 0:\n",
    "                save_model(config, logger, model, optimizer, step, vocab, running_avg_loss, \\\n",
    "                           r_loss=0, title = loggerName)\n",
    "            if step%1000 == 0 and step > 0:\n",
    "                train_rouge_l_f = decode(writer, logger, step, config, model, batch, mode = 'train') # call batch by validate_loader\n",
    "                test_rouge_l_f = decode(writer, logger, step, config, model, validate_loader, mode = 'test') # call batch by validate_loader\n",
    "\n",
    "                writer.add_scalars('scalar/Rouge-L',  \n",
    "                   {'train_rouge_l_f': train_rouge_l_f,\n",
    "                    'test_rouge_l_f': test_rouge_l_f\n",
    "                   }, step)\n",
    "                logger.info('epoch %d: %d, train_rouge_l_f = %f, test_rouge_l_f = %f'\n",
    "                                % (epoch, step, train_rouge_l_f, test_rouge_l_f))\n",
    "#         break\n",
    "#         train_avg_acc = avg_acc(writer, logger, epoch, config, model, train_loader, mode = 'train')\n",
    "#         test_avg_acc = avg_acc(writer, logger, epoch, config, model, validate_loader, mode = 'test')\n",
    "#         logger.info('epoch %d: %d, train_avg_acc = %f, test_avg_acc = %f' % (epoch, step, train_avg_acc, test_avg_acc))\n",
    "except Excepation as e:\n",
    "        print(e)\n",
    "else:\n",
    "    logger.info(u'------Training SUCCESS--------')  \n",
    "finally:\n",
    "    logger.info(u'------Training END--------')    \n",
    "    train_avg_acc = decode_write_all(writer, logger, epoch, config, model, validate_loader, mode = 'train')\n",
    "    test_avg_acc = decode_write_all(writer, logger, epoch, config, model, validate_loader, mode = 'test')\n",
    "    logger.info('epoch %d: train_avg_acc = %f, test_avg_acc = %f' % (epoch, train_avg_acc, test_avg_acc))\n",
    "    removeLogger(logger)\n"
   ]
  },
  {
   "cell_type": "code",
   "execution_count": null,
   "metadata": {},
   "outputs": [],
   "source": []
  }
 ],
 "metadata": {
  "kernelspec": {
   "display_name": "Python 3",
   "language": "python",
   "name": "python3"
  },
  "language_info": {
   "codemirror_mode": {
    "name": "ipython",
    "version": 3
   },
   "file_extension": ".py",
   "mimetype": "text/x-python",
   "name": "python",
   "nbconvert_exporter": "python",
   "pygments_lexer": "ipython3",
   "version": "3.6.7"
  }
 },
 "nbformat": 4,
 "nbformat_minor": 4
}
