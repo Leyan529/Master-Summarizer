{
 "cells": [
  {
   "cell_type": "code",
   "execution_count": 13,
   "metadata": {},
   "outputs": [
    {
     "name": "stdout",
     "output_type": "stream",
     "text": [
      "0.10000000000000002\n"
     ]
    }
   ],
   "source": [
    "from nltk.translate.bleu_score import corpus_bleu\n",
    "# help(corpus_bleu)\n",
    "\n",
    "ref = 'the best ski capable rack out there'\n",
    "decoded = 'love the impecca digital photo frame just buy second one'\n",
    "Bleu_1 = corpus_bleu([[ref.split(\" \")]], [decoded.split(\" \")], weights=(1, 0, 0, 0))\n",
    "print(Bleu_1)"
   ]
  },
  {
   "cell_type": "code",
   "execution_count": 37,
   "metadata": {},
   "outputs": [
    {
     "data": {
      "text/plain": [
       "0.0684931506849315"
      ]
     },
     "execution_count": 37,
     "metadata": {},
     "output_type": "execute_result"
    }
   ],
   "source": [
    "from nltk.translate.meteor_score import single_meteor_score\n",
    "single_meteor_score(ref, decoded)"
   ]
  },
  {
   "cell_type": "code",
   "execution_count": 38,
   "metadata": {},
   "outputs": [
    {
     "name": "stdout",
     "output_type": "stream",
     "text": [
      "Help on package nltk.translate in nltk:\n",
      "\n",
      "NAME\n",
      "    nltk.translate\n",
      "\n",
      "DESCRIPTION\n",
      "    Experimental features for machine translation.\n",
      "    These interfaces are prone to change.\n",
      "\n",
      "PACKAGE CONTENTS\n",
      "    api\n",
      "    bleu_score\n",
      "    chrf_score\n",
      "    gale_church\n",
      "    gdfa\n",
      "    gleu_score\n",
      "    ibm1\n",
      "    ibm2\n",
      "    ibm3\n",
      "    ibm4\n",
      "    ibm5\n",
      "    ibm_model\n",
      "    meteor_score\n",
      "    metrics\n",
      "    nist_score\n",
      "    phrase_based\n",
      "    ribes_score\n",
      "    stack_decoder\n",
      "\n",
      "FILE\n",
      "    /home/eagleuser/.conda/envs/Leyan/lib/python3.6/site-packages/nltk/translate/__init__.py\n",
      "\n",
      "\n"
     ]
    }
   ],
   "source": [
    "import nltk\n",
    "help(nltk.translate)"
   ]
  }
 ],
 "metadata": {
  "kernelspec": {
   "display_name": "Python 3",
   "language": "python",
   "name": "python3"
  },
  "language_info": {
   "codemirror_mode": {
    "name": "ipython",
    "version": 3
   },
   "file_extension": ".py",
   "mimetype": "text/x-python",
   "name": "python",
   "nbconvert_exporter": "python",
   "pygments_lexer": "ipython3",
   "version": "3.6.7"
  }
 },
 "nbformat": 4,
 "nbformat_minor": 2
}
