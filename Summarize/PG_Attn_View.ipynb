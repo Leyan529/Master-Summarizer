{
 "cells": [
  {
   "cell_type": "code",
   "execution_count": 1,
   "metadata": {},
   "outputs": [
    {
     "name": "stderr",
     "output_type": "stream",
     "text": [
      "I0515 00:35:22.115855 140399905920832 file_utils.py:35] PyTorch version 1.4.0 available.\n",
      "2020-05-15 00:35:23 - Pointer_generator_word2Vec - INFO: - logger已啟動\n",
      "I0515 00:35:23.205549 140399905920832 train_util.py:106] logger已啟動\n"
     ]
    },
    {
     "name": "stdout",
     "output_type": "stream",
     "text": [
      "Pointer_generator_word2Vec\n",
      "model/saved_models_old_main6Cat/Pointer_generator_word2Vec/0588000.tar\n"
     ]
    }
   ],
   "source": [
    "from utils import config\n",
    "from utils.seq2seq import data\n",
    "\n",
    "from utils.seq2seq.batcher import *\n",
    "\n",
    "from utils.seq2seq.train_util import *\n",
    "from utils.seq2seq.rl_util import *\n",
    "from utils.seq2seq.initialize import loadCheckpoint, save_model\n",
    "from utils.seq2seq.write_result import *\n",
    "from datetime import datetime as dt\n",
    "from tqdm import tqdm\n",
    "from translate.seq2seq_beam import *\n",
    "from tensorboardX import SummaryWriter\n",
    "import argparse\n",
    "from utils.seq2seq.rl_util import *\n",
    "from torch.distributions import Categorical\n",
    "\n",
    "import os\n",
    "os.environ[\"CUDA_VISIBLE_DEVICES\"] = \"0\"\n",
    "\n",
    "os.environ['CUDA_LAUNCH_BLOCKING'] = \"1\" \n",
    "\n",
    "parser = argparse.ArgumentParser()\n",
    "parser.add_argument('--key_attention', type=bool, default=False, help = 'True/False')\n",
    "parser.add_argument('--intra_encoder', type=bool, default=False, help = 'True/False')\n",
    "parser.add_argument('--intra_decoder', type=bool, default=False, help = 'True/False')\n",
    "parser.add_argument('--copy', type=bool, default=True, help = 'True/False') # for transformer\n",
    "\n",
    "parser.add_argument('--model_type', type=str, default='seq2seq', choices=['seq2seq', 'transformer'])\n",
    "parser.add_argument('--train_rl', type=bool, default=False, help = 'True/False')\n",
    "parser.add_argument('--keywords', type=str, default='POS_keys', \n",
    "                    help = 'POS_keys / DEP_keys / Noun_adj_keys / TextRank_keys')\n",
    "\n",
    "parser.add_argument('--lr', type=float, default=0.0001)\n",
    "parser.add_argument('--rand_unif_init_mag', type=float, default=0.02)\n",
    "parser.add_argument('--trunc_norm_init_std', type=float, default=0.001)\n",
    "parser.add_argument('--mle_weight', type=float, default=1.0)\n",
    "parser.add_argument('--gound_truth_prob', type=float, default=0.1)\n",
    "\n",
    "parser.add_argument('--max_enc_steps', type=int, default=1000)\n",
    "parser.add_argument('--max_dec_steps', type=int, default=50)\n",
    "parser.add_argument('--min_dec_steps', type=int, default=8)\n",
    "parser.add_argument('--max_epochs', type=int, default=10)\n",
    "parser.add_argument('--vocab_size', type=int, default=50000)\n",
    "parser.add_argument('--beam_size', type=int, default=16)\n",
    "parser.add_argument('--batch_size', type=int, default=1)\n",
    "\n",
    "parser.add_argument('--hidden_dim', type=int, default=512)\n",
    "parser.add_argument('--emb_dim', type=int, default=300)\n",
    "parser.add_argument('--gradient_accum', type=int, default=1)\n",
    "\n",
    "parser.add_argument('--load_ckpt', type=str, default='0588000', help='0002000')\n",
    "parser.add_argument('--word_emb_type', type=str, default='word2Vec', help='word2Vec/glove/FastText')\n",
    "parser.add_argument('--pre_train_emb', type=bool, default=True, help = 'True/False') # 若pre_train_emb為false, 則emb type為NoPretrain\n",
    "\n",
    "\n",
    "opt = parser.parse_args(args=[])\n",
    "config = re_config(opt)\n",
    "loggerName, writerPath = getName(config)   \n",
    "logger = getLogger(loggerName)\n",
    "print(loggerName)\n",
    "\n",
    "# load_model_path = config.save_model_path + '/%s/%s.tar' % (loggerName, config.load_ckpt)\n",
    "\n",
    "load_model_path = 'model/saved_models_old_main6Cat' + '/%s/%s.tar' % (loggerName, config.load_ckpt)\n",
    "print(load_model_path)"
   ]
  },
  {
   "cell_type": "code",
   "execution_count": 2,
   "metadata": {},
   "outputs": [],
   "source": [
    "vocab = Vocab(config.vocab_path, config.vocab_size)"
   ]
  },
  {
   "cell_type": "markdown",
   "metadata": {},
   "source": [
    "# Prepare Seq2Seq Data"
   ]
  },
  {
   "cell_type": "code",
   "execution_count": 3,
   "metadata": {},
   "outputs": [],
   "source": [
    "from utils.seq2seq.batcher import Example, Batch\n",
    "import matplotlib.pyplot as plt\n",
    "\n",
    "config.batch_size = 1\n",
    "config.gound_truth_prob = 0.5\n",
    "# config.gound_truth_prob = 1.0\n",
    "\n",
    "# data = {'review':'cheaper amazon than online vet work dog has arthritis and liver problem will find out bloodwork has improve . vet strongly recommend this supplement . sadly human and milk thistle lot go na try that and compare blood work . but this product does seem make dog move better .',\n",
    "#         'summary':'<s> but this product does seem to make my dog move better </s>',\n",
    "#         config.keywords: \"vet online supplement recommend\"}\n",
    "\n",
    "# data = {'review':'this rear derailleur was breeze install and work well use replace the now obsolete after year rough use . the price was excellent and together with shimano quality hard not pick . note might consider next model next time see make difference the cost difference absolute term not much .',\n",
    "#         'summary':'<s> an inexpensive and good quality rear derailleur that does it is job well </s>',\n",
    "#         config.keywords: \" \".join(eval(\"['system', 'loosely', 'even', 'full']\"))}\n",
    "\n",
    "data = {'review':'this mongoose flat tire bike joke pretty easy assemble and gorgeous but catch tough the upper thigh area when you ride it . now been awhile since rode bike go take some get use too . never the less love this bike and make anyone look cool ride it .',\n",
    "        'summary':'it is pretty easy to assemble and it is gorgeous but there is',\n",
    "        config.keywords: \"vet online supplement recommend\",\n",
    "       \"percent_lcs\": '40.0'}\n",
    "\n",
    "ex = Example(config, vocab, data)\n",
    "b = Batch([ex])\n",
    "\n",
    "b.enc_pad_mask\n",
    "\n",
    "enc_batch, enc_padding_mask, enc_lens, enc_batch_extend_vocab, extra_zeros, coverage, ct_e, enc_key_batch, enc_key_mask, enc_key_lens= \\\n",
    "                get_input_from_batch(b, config, batch_first = True)\n",
    "dec_batch, dec_padding_mask, dec_lens, max_dec_len, target_batch = \\\n",
    "        get_output_from_batch(b, config, batch_first = True)"
   ]
  },
  {
   "cell_type": "markdown",
   "metadata": {},
   "source": [
    "# plot_attention"
   ]
  },
  {
   "cell_type": "code",
   "execution_count": 4,
   "metadata": {},
   "outputs": [],
   "source": [
    "def plot_attention(data, X_label=None, Y_label=None):\n",
    "    '''\n",
    "    Plot the attention model heatmap\n",
    "    Args:\n",
    "      data: attn_matrix with shape [ty, tx], cutted before 'PAD'\n",
    "      X_label: list of size tx, encoder tags\n",
    "      Y_label: list of size ty, decoder tags\n",
    "    '''\n",
    "    fig, ax = plt.subplots(figsize=(20, 8)) # set figure size\n",
    "    #   heatmap = ax.pcolor(data, cmap=plt.cm.Blues, alpha=0.9)\n",
    "#     heatmap = ax.pcolor(data, cmap='viridis', alpha=0.9)\n",
    "    heatmap = ax.pcolor(data, cmap='hot', alpha=0.9)\n",
    "    plt.colorbar(heatmap)\n",
    "  \n",
    "  # Set axis labels\n",
    "    if X_label != None and Y_label != None:\n",
    "        X_label = [x_label for x_label in X_label]\n",
    "        Y_label = [y_label for y_label in Y_label]\n",
    "\n",
    "        xticks = range(0,len(X_label))\n",
    "        ax.set_xticks(xticks, minor=False) # major ticks\n",
    "        ax.set_xticklabels(X_label, minor = False, rotation=45)   # labels should be 'unicode'\n",
    "        plt.xlabel('review words')\n",
    "        \n",
    "        yticks = range(0,len(Y_label))\n",
    "        ax.set_yticks(yticks, minor=False)\n",
    "        ax.set_yticklabels(Y_label, minor = False)   # labels should be 'unicode'\n",
    "        plt.ylabel('Decode summary words')\n",
    "        plt.title('Encoder Attention')\n",
    "\n",
    "        ax.grid(True)"
   ]
  },
  {
   "cell_type": "markdown",
   "metadata": {},
   "source": [
    "# Load Pointer-Generator Model"
   ]
  },
  {
   "cell_type": "code",
   "execution_count": 5,
   "metadata": {},
   "outputs": [
    {
     "name": "stderr",
     "output_type": "stream",
     "text": [
      "I0515 00:35:26.585666 140399905920832 utils_any2vec.py:341] loading projection weights from ../Train-Data/Mix6_mainCat/Embedding/word2Vec/word2Vec.300d.txt\n",
      "I0515 00:35:36.664665 140399905920832 utils_any2vec.py:405] loaded (49676, 300) matrix from ../Train-Data/Mix6_mainCat/Embedding/word2Vec/word2Vec.300d.txt\n"
     ]
    },
    {
     "name": "stdout",
     "output_type": "stream",
     "text": [
      "model/saved_models_old_main6Cat/Pointer_generator_word2Vec/0588000.tar\n"
     ]
    },
    {
     "name": "stderr",
     "output_type": "stream",
     "text": [
      "2020-05-15 00:35:41 - Pointer_generator_word2Vec - INFO: - Loaded model at model/saved_models_old_main6Cat/Pointer_generator_word2Vec/0588000.tar\n",
      "I0515 00:35:41.025185 140399905920832 initialize.py:212] Loaded model at model/saved_models_old_main6Cat/Pointer_generator_word2Vec/0588000.tar\n",
      "2020-05-15 00:35:41 - Pointer_generator_word2Vec - INFO: - Loaded model step = 588000, loss = 2.28, r_loss = 0.00 \n",
      "I0515 00:35:41.026382 140399905920832 initialize.py:213] Loaded model step = 588000, loss = 2.28, r_loss = 0.00 \n"
     ]
    },
    {
     "name": "stdout",
     "output_type": "stream",
     "text": [
      "[171, 133, 171, 100, 127, 1069, 6, 2704, 14, 884, 1202, 241, 3, 3]\n",
      "dec_words pretty is pretty easy to assemble and gorgeous but catch tough in [STOP] [STOP]\n"
     ]
    }
   ],
   "source": [
    "from seq2seq import Model\n",
    "import torch.nn as nn\n",
    "import torch as T\n",
    "import torch.nn.functional as F\n",
    "from torch.nn.utils import clip_grad_norm_\n",
    "\n",
    "load_step = None\n",
    "model = Model(pre_train_emb=config.pre_train_emb, \n",
    "              word_emb_type = config.word_emb_type, \n",
    "              vocab = vocab)\n",
    "\n",
    "model = model.cuda()\n",
    "optimizer = T.optim.Adam(model.parameters(), lr=config.lr)   \n",
    "# optimizer = T.optim.Adagrad(model.parameters(),lr=config.lr, initial_accumulator_value=0.1)\n",
    "\n",
    "\n",
    "if os.path.exists(load_model_path):\n",
    "    model, optimizer, load_step = loadCheckpoint(logger, load_model_path, model, optimizer)\n",
    "    \n",
    "# model.eval()\n",
    "decode = []\n",
    "with T.autograd.no_grad():\n",
    "    enc_batch_ = model.embeds(enc_batch)  # Get embeddings for encoder input    \n",
    "    enc_key_batch = model.embeds(enc_key_batch)  # Get key embeddings for encoder input\n",
    "    enc_out, enc_hidden = model.encoder(enc_batch_, enc_lens)\n",
    "\n",
    "    s_t = (enc_hidden[0], enc_hidden[1])  # Decoder hidden states\n",
    "    x_t = get_cuda(T.LongTensor(len(enc_out)).fill_(START))  # Input to the decoder\n",
    "    prev_s = None  # Used for intra-decoder attention (section 2.2 in https://arxiv.org/pdf/1705.04304.pdf)\n",
    "    sum_temporal_srcs = None  # Used for intra-temporal attention (section 2.1 in https://arxiv.org/pdf/1705.04304.pdf)\n",
    "    weight = None\n",
    "    for t in range(min(max_dec_len, config.max_dec_steps)):\n",
    "        use_gound_truth = get_cuda((T.rand(len(enc_out)) > config.gound_truth_prob)).long()  # Probabilities indicating whether to use ground truth labels instead of previous decoded tokens\n",
    "        x_t = use_gound_truth * dec_batch[:, t] + (1 - use_gound_truth) * x_t  # Select decoder input based on use_ground_truth probabilities\n",
    "        x_t = model.embeds(x_t)  \n",
    "        final_dist, s_t, ct_e, sum_temporal_srcs, prev_s, enc_attn, dec_attn = model.decoder(x_t, s_t, enc_out, enc_padding_mask,\n",
    "                                                                                  ct_e, extra_zeros,\n",
    "                                                                                  enc_batch_extend_vocab,\n",
    "                                                                                  sum_temporal_srcs, prev_s, enc_key_batch, enc_key_mask)\n",
    "\n",
    "#         x_t = T.multinomial(final_dist,1).squeeze()  # Sample words from final distribution which can be used as input in next time step\n",
    "\n",
    "#         is_oov = (x_t >= config.vocab_size).long()  # Mask indicating whether sampled word is OOV\n",
    "#         x_t = (1 - is_oov) * x_t.detach() + (is_oov) * UNKNOWN_TOKEN  # Replace OOVs with [UNK] token\n",
    "        x_t = T.max(final_dist, dim=1)[1]  # Sample words from final distribution which can be used as input in next time step\n",
    "\n",
    "        if t == 0: weight = enc_attn\n",
    "        else: weight = T.cat((weight, enc_attn), 0)  \n",
    "        decode.append(x_t.item())\n",
    "    #     print(x_t, enc_attn.shape, dec_attn)   # tensor(737, device='cuda:0') torch.Size([1, 50]) None\n",
    "        # x軸是tgt words\n",
    "        # y軸是src words\n",
    "    # print(weight.shape)\n",
    "print(decode)\n",
    "\n",
    "dec_words = [vocab.id2word(d) for d in decode]\n",
    "dec_words = \" \".join(dec_words) \n",
    "data['dec_words'] = dec_words\n",
    "print('dec_words',dec_words)"
   ]
  },
  {
   "cell_type": "code",
   "execution_count": 7,
   "metadata": {},
   "outputs": [
    {
     "data": {
      "image/png": "[encoded data removed]",
      "text/plain": [
       "<Figure size 1440x576 with 2 Axes>"
      ]
     },
     "metadata": {
      "needs_background": "light"
     },
     "output_type": "display_data"
    }
   ],
   "source": [
    "# plot_attention(weight.cpu().data, X_label=data['review'].split(), Y_label=data['summary'].split())\n",
    "plot_attention(weight.cpu().data, X_label=data['review'].split(), Y_label=data['dec_words'].split())\n",
    "# removeLogger(logger)"
   ]
  }
 ],
 "metadata": {
  "kernelspec": {
   "display_name": "Python 3.6.7 64-bit ('Leyan': conda)",
   "language": "python",
   "name": "python36764bitleyancondaa378f3cedbcc4b3f906a2276b3eef765"
  },
  "language_info": {
   "codemirror_mode": {
    "name": "ipython",
    "version": 3
   },
   "file_extension": ".py",
   "mimetype": "text/x-python",
   "name": "python",
   "nbconvert_exporter": "python",
   "pygments_lexer": "ipython3",
   "version": "3.6.7"
  }
 },
 "nbformat": 4,
 "nbformat_minor": 2
}
