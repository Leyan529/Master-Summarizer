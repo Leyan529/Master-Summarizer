{
 "cells": [
  {
   "cell_type": "code",
   "execution_count": 1,
   "metadata": {},
   "outputs": [],
   "source": [
    "from spacy import displacy\n",
    "from collections import Counter\n",
    "import en_core_web_sm\n",
    "import networkx as nx\n",
    "\n",
    "import spacy\n",
    "from nltk import Tree\n",
    "from spacy import displacy\n",
    "\n",
    "from show import find_shortest_path, show_tree, show_displacy\n",
    "\n",
    "nlp = en_core_web_sm.load()\n",
    "\n",
    "from spacy.pipeline import merge_entities\n",
    "nlp.add_pipe(merge_entities)"
   ]
  },
  {
   "cell_type": "code",
   "execution_count": 2,
   "metadata": {},
   "outputs": [
    {
     "name": "stdout",
     "output_type": "stream",
     "text": [
      "sentence: image quality high\n"
     ]
    }
   ],
   "source": [
    "# sent = 'Convulsions that occur after DTaP are caused by a fever.'\n",
    "sent = 'image quality high'\n",
    "doc = nlp(sent)\n",
    "print('sentence: %s'%(doc))"
   ]
  },
  {
   "cell_type": "code",
   "execution_count": 3,
   "metadata": {},
   "outputs": [
    {
     "data": {
      "text/plain": [
       "(['quality', 'high'], 1)"
      ]
     },
     "execution_count": 3,
     "metadata": {},
     "output_type": "execute_result"
    }
   ],
   "source": [
    "root = [token for token in doc if token.head == token][0]\n",
    "root\n",
    "\n",
    "# subject = list(root.lefts)[0]\n",
    "# for descendant in subject.subtree:\n",
    "#     assert subject is descendant or subject.is_ancestor(descendant)\n",
    "#     print(descendant.text, descendant.dep_, descendant.n_lefts,\n",
    "#             [left.text for left in descendant.lefts])\n",
    "#     print(descendant.text, descendant.dep_, descendant.n_rights,\n",
    "#             [left.text for left in descendant.rights])\n",
    "    \n",
    "source = root.text\n",
    "target = doc[-1].text\n",
    "find_shortest_path(doc, source, target)"
   ]
  },
  {
   "cell_type": "code",
   "execution_count": 4,
   "metadata": {},
   "outputs": [
    {
     "name": "stdout",
     "output_type": "stream",
     "text": [
      "      quality     \n",
      "   ______|_____    \n",
      "image         high\n",
      "\n"
     ]
    }
   ],
   "source": [
    "show_tree(doc)"
   ]
  },
  {
   "cell_type": "code",
   "execution_count": 5,
   "metadata": {},
   "outputs": [
    {
     "name": "stdout",
     "output_type": "stream",
     "text": [
      "('image', 'NN')\n",
      "('quality', 'NN')\n",
      "('high', 'JJ')\n"
     ]
    },
    {
     "data": {
      "text/html": [
       "<svg xmlns=\"http://www.w3.org/2000/svg\" xmlns:xlink=\"http://www.w3.org/1999/xlink\" xml:lang=\"en\" id=\"f2ba146c9d914cafa13791f58cb71a7a-0\" class=\"displacy\" width=\"575\" height=\"224.5\" direction=\"ltr\" style=\"max-width: none; height: 224.5px; color: #000000; background: #ffffff; font-family: Arial; direction: ltr\">\n",
       "<text class=\"displacy-token\" fill=\"currentColor\" text-anchor=\"middle\" y=\"134.5\">\n",
       "    <tspan class=\"displacy-word\" fill=\"currentColor\" x=\"50\">image</tspan>\n",
       "    <tspan class=\"displacy-tag\" dy=\"2em\" fill=\"currentColor\" x=\"50\">NOUN</tspan>\n",
       "</text>\n",
       "\n",
       "<text class=\"displacy-token\" fill=\"currentColor\" text-anchor=\"middle\" y=\"134.5\">\n",
       "    <tspan class=\"displacy-word\" fill=\"currentColor\" x=\"225\">quality</tspan>\n",
       "    <tspan class=\"displacy-tag\" dy=\"2em\" fill=\"currentColor\" x=\"225\">NOUN</tspan>\n",
       "</text>\n",
       "\n",
       "<text class=\"displacy-token\" fill=\"currentColor\" text-anchor=\"middle\" y=\"134.5\">\n",
       "    <tspan class=\"displacy-word\" fill=\"currentColor\" x=\"400\">high</tspan>\n",
       "    <tspan class=\"displacy-tag\" dy=\"2em\" fill=\"currentColor\" x=\"400\">ADJ</tspan>\n",
       "</text>\n",
       "\n",
       "<g class=\"displacy-arrow\">\n",
       "    <path class=\"displacy-arc\" id=\"arrow-f2ba146c9d914cafa13791f58cb71a7a-0-0\" stroke-width=\"2px\" d=\"M70,89.5 C70,2.0 225.0,2.0 225.0,89.5\" fill=\"none\" stroke=\"currentColor\"/>\n",
       "    <text dy=\"1.25em\" style=\"font-size: 0.8em; letter-spacing: 1px\">\n",
       "        <textPath xlink:href=\"#arrow-f2ba146c9d914cafa13791f58cb71a7a-0-0\" class=\"displacy-label\" startOffset=\"50%\" side=\"left\" fill=\"currentColor\" text-anchor=\"middle\">compound</textPath>\n",
       "    </text>\n",
       "    <path class=\"displacy-arrowhead\" d=\"M70,91.5 L62,79.5 78,79.5\" fill=\"currentColor\"/>\n",
       "</g>\n",
       "\n",
       "<g class=\"displacy-arrow\">\n",
       "    <path class=\"displacy-arc\" id=\"arrow-f2ba146c9d914cafa13791f58cb71a7a-0-1\" stroke-width=\"2px\" d=\"M245,89.5 C245,2.0 400.0,2.0 400.0,89.5\" fill=\"none\" stroke=\"currentColor\"/>\n",
       "    <text dy=\"1.25em\" style=\"font-size: 0.8em; letter-spacing: 1px\">\n",
       "        <textPath xlink:href=\"#arrow-f2ba146c9d914cafa13791f58cb71a7a-0-1\" class=\"displacy-label\" startOffset=\"50%\" side=\"left\" fill=\"currentColor\" text-anchor=\"middle\">amod</textPath>\n",
       "    </text>\n",
       "    <path class=\"displacy-arrowhead\" d=\"M400.0,91.5 L408.0,79.5 392.0,79.5\" fill=\"currentColor\"/>\n",
       "</g>\n",
       "</svg>"
      ],
      "text/plain": [
       "<IPython.core.display.HTML object>"
      ]
     },
     "metadata": {},
     "output_type": "display_data"
    }
   ],
   "source": [
    "for token in doc:\n",
    "    print((token.text, token.tag_))\n",
    "show_displacy(doc)"
   ]
  },
  {
   "cell_type": "code",
   "execution_count": 6,
   "metadata": {},
   "outputs": [
    {
     "data": {
      "text/plain": [
       "(['image', 'quality', 'high'], ['image', 'quality'])"
      ]
     },
     "execution_count": 6,
     "metadata": {},
     "output_type": "execute_result"
    }
   ],
   "source": [
    "from extract_key import extract_POS\n",
    "POS_fops = extract_POS(sent).run()  \n",
    "POS_fops"
   ]
  },
  {
   "cell_type": "code",
   "execution_count": 7,
   "metadata": {},
   "outputs": [
    {
     "name": "stdout",
     "output_type": "stream",
     "text": [
      "斷詞辭典 已取得\n",
      "negative-words.txt\n",
      "positive-words.txt\n",
      "total-words 已取得\n"
     ]
    },
    {
     "data": {
      "text/plain": [
       "'image quality high'"
      ]
     },
     "execution_count": 7,
     "metadata": {},
     "output_type": "execute_result"
    }
   ],
   "source": [
    "from data_util.eda import *\n",
    "POS_fops = FO_rule_POS(sent).run()                    \n",
    "POS_fops = [(f, o) for f, o in POS_fops]\n",
    "# POS_FOP_keywords = POS_FOP_keywords + POS_fops\n",
    "\n",
    "# DEP_fops = FOP_rule_Depend(sent).run()\n",
    "# DEP_fops = [(f, o) for f, o in DEP_fops]\n",
    "# DEP_FOP_keywords = DEP_FOP_keywords + DEP_fops\n",
    "\n",
    "# FOP_keywords\n",
    "POS_FOP_keywords = \",\".join([\"%s %s\"%(f, o) for f, o in POS_fops])\n",
    "# DEP_FOP_keywords = \",\".join([\"%s %s\"%(f, o) for f, o in DEP_fops]) \n",
    "POS_FOP_keywords"
   ]
  }
 ],
 "metadata": {
  "kernelspec": {
   "display_name": "Python 3",
   "language": "python",
   "name": "python3"
  },
  "language_info": {
   "codemirror_mode": {
    "name": "ipython",
    "version": 3
   },
   "file_extension": ".py",
   "mimetype": "text/x-python",
   "name": "python",
   "nbconvert_exporter": "python",
   "pygments_lexer": "ipython3",
   "version": "3.6.9"
  }
 },
 "nbformat": 4,
 "nbformat_minor": 4
}
