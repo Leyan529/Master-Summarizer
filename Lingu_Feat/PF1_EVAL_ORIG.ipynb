{
 "cells": [
  {
   "cell_type": "code",
   "execution_count": 9,
   "metadata": {},
   "outputs": [
    {
     "data": {
      "text/plain": [
       "([], [])"
      ]
     },
     "execution_count": 9,
     "metadata": {},
     "output_type": "execute_result"
    }
   ],
   "source": [
    "sent = 'The camera case looks nice .'\n",
    "\n",
    "\n",
    "from data_util.eda import *\n",
    "\n",
    "import os\n",
    "\n",
    "def extract_POS(sent):\n",
    "    POS_fops = FO_rule_POS(sent).run()                    \n",
    "    POS_PF = []\n",
    "    POS_O = []\n",
    "    for f, o in POS_fops:\n",
    "        POS_PF.append(f)\n",
    "        POS_O.append(o)\n",
    "\n",
    "    POS_Key = POS_PF + POS_O\n",
    "    return POS_Key, POS_PF\n",
    "\n",
    "extract_POS(sent)"
   ]
  },
  {
   "cell_type": "code",
   "execution_count": 2,
   "metadata": {},
   "outputs": [
    {
     "data": {
      "text/plain": [
       "([], [])"
      ]
     },
     "execution_count": 2,
     "metadata": {},
     "output_type": "execute_result"
    }
   ],
   "source": [
    "def extract_DEP(sent):\n",
    "    DEP_fops = FOP_rule_Depend(sent).run()\n",
    "    DEP_PF = []\n",
    "    DEP_O = []\n",
    "    for f, o in DEP_fops:\n",
    "        DEP_PF.append(f)\n",
    "        DEP_O.append(o)\n",
    "\n",
    "    DEP_Key = DEP_PF + DEP_O\n",
    "    return DEP_Key, DEP_PF\n",
    "extract_DEP(sent)"
   ]
  },
  {
   "cell_type": "code",
   "execution_count": 3,
   "metadata": {},
   "outputs": [],
   "source": [
    "import pandas as pd\n",
    "\n",
    "def crop_all(x):\n",
    "    x = eval(x)\n",
    "    x = [item for item in x if len(x)>0]\n",
    "    x = \" \".join(x)\n",
    "    return [item for item in x.split(\" \") if len(item)>0]\n",
    "\n",
    "def extract_df(df):\n",
    "    df['label_pfs'] = df['f'].apply(crop_all)\n",
    "    df['label_count'] = df['label_pfs'].apply(lambda x: len(x))\n",
    "\n",
    "\n",
    "    for idx in range(len(df)):           \n",
    "        series = df.iloc[idx]\n",
    "        label_pfs, label_count, sent = series['label_pfs'], series['label_count'], series['sent']\n",
    "        # pos\n",
    "        pred_pos_pfs = extract_POS(sent)[1]\n",
    "        df.loc[idx,'pred_pos_pfs'] = str(pred_pos_pfs)\n",
    "        correct_pos_pfs = set(label_pfs) & set(pred_pos_pfs)\n",
    "        df.loc[idx,'correct_pos_pfs'] = str(correct_pos_pfs)\n",
    "        df.loc[idx,'pos_pfs_count'] = len(pred_pos_pfs)\n",
    "        df.loc[idx,'correct_pos_pfs_count'] = len(correct_pos_pfs)\n",
    "\n",
    "        # dep\n",
    "        pred_dep_pfs = extract_DEP(sent)[1]\n",
    "        df.loc[idx,'pred_dep_pfs'] = str(pred_dep_pfs)\n",
    "        correct_dep_pfs = set(label_pfs) & set(pred_dep_pfs)\n",
    "        df.loc[idx,'correct_dep_pfs'] = str(correct_dep_pfs)\n",
    "        df.loc[idx,'dep_pfs_count'] = len(pred_dep_pfs)\n",
    "        df.loc[idx,'correct_dep_pfs_count'] = len(correct_dep_pfs)\n",
    "    return df\n",
    "\n",
    "def calc_acc(df, df_type):\n",
    "    precision = sum(list(df['correct_pos_pfs_count']))/sum(list(df['pos_pfs_count']))\n",
    "    recall = sum(list(df['correct_pos_pfs_count']))/sum(list(df['label_count']))\n",
    "    f_measure = (2*precision*recall) / (precision + recall)\n",
    "    print('%s pos precision : %.2f'%(df_type, precision))\n",
    "    print('%s pos recall : %.2f'%(df_type, recall))\n",
    "    print('%s pos f_measure : %.2f'%(df_type, f_measure))\n",
    "\n",
    "    print('------------------------------------------------------------------------------')\n",
    "    precision = sum(list(df['correct_dep_pfs_count']))/sum(list(df['dep_pfs_count']))\n",
    "    recall = sum(list(df['correct_dep_pfs_count']))/sum(list(df['label_count']))\n",
    "    f_measure = (2*precision*recall) / (precision + recall)\n",
    "    print('%s dep precision : %.2f'%(df_type, precision))\n",
    "    print('%s dep recall : %.2f'%(df_type, recall))\n",
    "    print('%s dep f_measure : %.2f'%(df_type, f_measure))"
   ]
  },
  {
   "cell_type": "code",
   "execution_count": null,
   "metadata": {},
   "outputs": [],
   "source": []
  },
  {
   "cell_type": "code",
   "execution_count": 4,
   "metadata": {},
   "outputs": [
    {
     "name": "stdout",
     "output_type": "stream",
     "text": [
      "Cellular phone pos precision : 0.29\n",
      "Cellular phone pos recall : 0.20\n",
      "Cellular phone pos f_measure : 0.24\n",
      "------------------------------------------------------------------------------\n",
      "Cellular phone dep precision : 0.28\n",
      "Cellular phone dep recall : 0.23\n",
      "Cellular phone dep f_measure : 0.25\n"
     ]
    }
   ],
   "source": [
    "fn = 'keyword_eval\\PF1\\Cellular phone.xlsx'\n",
    "df_type = os.path.basename(fn).split('.')[0]\n",
    "df = pd.read_excel(fn, usecols=['f','count','sent'])\n",
    "df = extract_df(df)\n",
    "calc_acc(df, df_type)"
   ]
  },
  {
   "cell_type": "code",
   "execution_count": 5,
   "metadata": {},
   "outputs": [
    {
     "name": "stdout",
     "output_type": "stream",
     "text": [
      "Digital camera1 pos precision : 0.19\n",
      "Digital camera1 pos recall : 0.16\n",
      "Digital camera1 pos f_measure : 0.18\n",
      "------------------------------------------------------------------------------\n",
      "Digital camera1 dep precision : 0.14\n",
      "Digital camera1 dep recall : 0.15\n",
      "Digital camera1 dep f_measure : 0.15\n"
     ]
    }
   ],
   "source": [
    "fn = 'keyword_eval\\PF1\\Digital camera1.xlsx'\n",
    "df_type = os.path.basename(fn).split('.')[0]\n",
    "df = pd.read_excel(fn, usecols=['f','count','sent'])\n",
    "df = extract_df(df)\n",
    "calc_acc(df, df_type)"
   ]
  },
  {
   "cell_type": "code",
   "execution_count": 6,
   "metadata": {},
   "outputs": [
    {
     "name": "stdout",
     "output_type": "stream",
     "text": [
      "Digital camera2 pos precision : 0.28\n",
      "Digital camera2 pos recall : 0.19\n",
      "Digital camera2 pos f_measure : 0.23\n",
      "------------------------------------------------------------------------------\n",
      "Digital camera2 dep precision : 0.24\n",
      "Digital camera2 dep recall : 0.19\n",
      "Digital camera2 dep f_measure : 0.21\n"
     ]
    }
   ],
   "source": [
    "fn = 'keyword_eval\\PF1\\Digital camera2.xlsx'\n",
    "df_type = os.path.basename(fn).split('.')[0]\n",
    "df = pd.read_excel(fn, usecols=['f','count','sent'])\n",
    "df = extract_df(df)\n",
    "calc_acc(df, df_type)"
   ]
  },
  {
   "cell_type": "code",
   "execution_count": 7,
   "metadata": {},
   "outputs": [
    {
     "name": "stdout",
     "output_type": "stream",
     "text": [
      "DVD player pos precision : 0.19\n",
      "DVD player pos recall : 0.10\n",
      "DVD player pos f_measure : 0.13\n",
      "------------------------------------------------------------------------------\n",
      "DVD player dep precision : 0.14\n",
      "DVD player dep recall : 0.10\n",
      "DVD player dep f_measure : 0.11\n"
     ]
    }
   ],
   "source": [
    "fn = 'keyword_eval\\PF1\\DVD player.xlsx'\n",
    "df_type = os.path.basename(fn).split('.')[0]\n",
    "df = pd.read_excel(fn, usecols=['f','count','sent'])\n",
    "df = extract_df(df)\n",
    "calc_acc(df, df_type)"
   ]
  },
  {
   "cell_type": "code",
   "execution_count": 8,
   "metadata": {},
   "outputs": [
    {
     "name": "stdout",
     "output_type": "stream",
     "text": [
      "Mp3 player pos precision : 0.24\n",
      "Mp3 player pos recall : 0.15\n",
      "Mp3 player pos f_measure : 0.19\n",
      "------------------------------------------------------------------------------\n",
      "Mp3 player dep precision : 0.21\n",
      "Mp3 player dep recall : 0.18\n",
      "Mp3 player dep f_measure : 0.19\n"
     ]
    }
   ],
   "source": [
    "fn = 'keyword_eval\\PF1\\Mp3 player.xlsx'\n",
    "df_type = os.path.basename(fn).split('.')[0]\n",
    "df = pd.read_excel(fn, usecols=['f','count','sent'])\n",
    "df = extract_df(df)\n",
    "calc_acc(df, df_type)"
   ]
  },
  {
   "cell_type": "code",
   "execution_count": null,
   "metadata": {},
   "outputs": [],
   "source": []
  }
 ],
 "metadata": {
  "kernelspec": {
   "display_name": "Python 3",
   "language": "python",
   "name": "python3"
  },
  "language_info": {
   "codemirror_mode": {
    "name": "ipython",
    "version": 3
   },
   "file_extension": ".py",
   "mimetype": "text/x-python",
   "name": "python",
   "nbconvert_exporter": "python",
   "pygments_lexer": "ipython3",
   "version": "3.6.9"
  }
 },
 "nbformat": 4,
 "nbformat_minor": 4
}
