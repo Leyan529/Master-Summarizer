{
 "cells": [
  {
   "cell_type": "code",
   "execution_count": 1,
   "metadata": {},
   "outputs": [],
   "source": [
    "import os\n",
    "sent = 'The camera case looks nice .'\n",
    "import spacy\n",
    "import en_core_web_sm\n",
    "from pprint import pprint\n",
    "\n",
    "nlp = en_core_web_sm.load()"
   ]
  },
  {
   "cell_type": "code",
   "execution_count": null,
   "metadata": {},
   "outputs": [],
   "source": [
    "\n",
    "\n"
   ]
  },
  {
   "cell_type": "code",
   "execution_count": 2,
   "metadata": {},
   "outputs": [],
   "source": [
    "def noun_adj(sent):\n",
    "    # array of sentence_noun_adj pairs\n",
    "    noun_adj_pairs = []\n",
    "\n",
    "    # array consisting of noun after adjective\n",
    "    checked = []\n",
    "\n",
    "    doc = nlp(sent, \"utf-8\")\n",
    "    # detect noun after adjective\n",
    "    for i,token in enumerate(doc):\n",
    "        if token.pos_ in ('NOUN','PROPN'):\n",
    "            # print(str(token))\n",
    "            for j in range(0,len(doc)):\n",
    "                if doc[j].pos_ == 'ADJ' and doc[j - 1].pos_ == 'ADV' and j == i - 1:\n",
    "                    checked.append(str(token))\n",
    "                    noun_adj_pairs.append((str(doc),str(token),str(doc[j - 1]) + ' ' + str(doc[j])))\n",
    "                    break\n",
    "                elif doc[j].pos_ == 'ADJ' and doc[j - 1].pos_ != 'ADV' and j == i - 1:\n",
    "                    checked.append(str(token))\n",
    "                    noun_adj_pairs.append((str(doc),str(token),str(doc[j])))\n",
    "                    break\n",
    "\n",
    "    # detect noun before adjective\n",
    "    for i,token in enumerate(doc):\n",
    "        if str(token) not in checked:\n",
    "            if token.pos_ not in ('NOUN','PROPN'):\n",
    "                continue\n",
    "            for j in range(i + 1,len(doc)):\n",
    "                if doc[j].pos_ == 'ADJ':\n",
    "                    noun_adj_pairs.append((str(doc),str(token),str(doc[j])))\n",
    "                    break\n",
    "                    \n",
    "    f_list = list(set([item[1] for item in noun_adj_pairs]))\n",
    "    o_list = list(set([item[2] for item in noun_adj_pairs]))\n",
    "    return (f_list + o_list) , f_list"
   ]
  },
  {
   "cell_type": "code",
   "execution_count": 3,
   "metadata": {},
   "outputs": [
    {
     "data": {
      "text/plain": [
       "(['camera', 'case', 'nice'], ['camera', 'case'])"
      ]
     },
     "execution_count": 3,
     "metadata": {},
     "output_type": "execute_result"
    }
   ],
   "source": [
    "noun_adj(sent)"
   ]
  }
 ],
 "metadata": {
  "kernelspec": {
   "display_name": "Python 3",
   "language": "python",
   "name": "python3"
  },
  "language_info": {
   "codemirror_mode": {
    "name": "ipython",
    "version": 3
   },
   "file_extension": ".py",
   "mimetype": "text/x-python",
   "name": "python",
   "nbconvert_exporter": "python",
   "pygments_lexer": "ipython3",
   "version": "3.6.9"
  }
 },
 "nbformat": 4,
 "nbformat_minor": 4
}
