{
 "cells": [
  {
   "cell_type": "code",
   "execution_count": 1,
   "metadata": {},
   "outputs": [
    {
     "name": "stdout",
     "output_type": "stream",
     "text": [
      "斷詞辭典 已取得\n",
      "negative-words.txt\n",
      "positive-words.txt\n",
      "total-words 已取得\n"
     ]
    }
   ],
   "source": [
    "from data_util.eda import *\n",
    "import os\n",
    "sent = 'The camera case looks nice .'\n",
    "\n"
   ]
  },
  {
   "cell_type": "code",
   "execution_count": 2,
   "metadata": {},
   "outputs": [
    {
     "data": {
      "text/plain": [
       "(['case', 'camera', 'nice'], ['case', 'camera'])"
      ]
     },
     "execution_count": 2,
     "metadata": {},
     "output_type": "execute_result"
    }
   ],
   "source": [
    "from extract_key import noun_adj\n",
    "\n",
    "\n",
    "noun_adj(sent)"
   ]
  },
  {
   "cell_type": "code",
   "execution_count": 3,
   "metadata": {},
   "outputs": [],
   "source": [
    "import pandas as pd\n",
    "\n",
    "def crop_all(x):\n",
    "    x = eval(x)\n",
    "    x = [item for item in x if len(x)>0]\n",
    "    x = \" \".join(x)\n",
    "    return [item for item in x.split(\" \") if len(item)>0]\n",
    "\n",
    "def extract_df(df):\n",
    "    df['label_pfs'] = df['f'].apply(crop_all)\n",
    "    df['label_count'] = df['label_pfs'].apply(lambda x: len(x))\n",
    "\n",
    "\n",
    "    for idx in range(len(df)):           \n",
    "        series = df.iloc[idx]\n",
    "        label_pfs, label_count, sent = series['label_pfs'], series['label_count'], series['sent']\n",
    "#         # pos\n",
    "#         pred_pos_pfs = extract_POS(sent)[1]\n",
    "#         df.loc[idx,'pred_pos_pfs'] = str(pred_pos_pfs)\n",
    "#         correct_pos_pfs = set(label_pfs) & set(pred_pos_pfs)\n",
    "#         df.loc[idx,'correct_pos_pfs'] = str(correct_pos_pfs)\n",
    "#         df.loc[idx,'pos_pfs_count'] = len(pred_pos_pfs)\n",
    "#         df.loc[idx,'correct_pos_pfs_count'] = len(correct_pos_pfs)\n",
    "\n",
    "        # noun_adj\n",
    "        pred_noun_adj_pfs = noun_adj(sent)[1]\n",
    "        df.loc[idx,'pred_noun_adj_pfs'] = str(pred_noun_adj_pfs)\n",
    "        correct_noun_adj_pfs = set(label_pfs) & set(pred_noun_adj_pfs)\n",
    "        df.loc[idx,'correct_noun_adj_pfs'] = str(correct_noun_adj_pfs)\n",
    "        df.loc[idx,'noun_adj_pfs_count'] = len(pred_noun_adj_pfs)\n",
    "        df.loc[idx,'correct_noun_adj_pfs_count'] = len(correct_noun_adj_pfs)\n",
    "    return df\n",
    "\n",
    "def calc_acc(df, df_type):\n",
    "#     precision = sum(list(df['correct_pos_pfs_count']))/sum(list(df['pos_pfs_count']))\n",
    "#     recall = sum(list(df['correct_pos_pfs_count']))/sum(list(df['label_count']))\n",
    "#     f_measure = (2*precision*recall) / (precision + recall)\n",
    "#     print('%s pos precision : %.2f'%(df_type, precision))\n",
    "#     print('%s pos recall : %.2f'%(df_type, recall))\n",
    "#     print('%s pos f_measure : %.2f'%(df_type, f_measure))\n",
    "\n",
    "    print('------------------------------------------------------------------------------')\n",
    "    precision = sum(list(df['correct_noun_adj_pfs_count']))/sum(list(df['noun_adj_pfs_count']))\n",
    "    recall = sum(list(df['correct_noun_adj_pfs_count']))/sum(list(df['label_count']))\n",
    "    f_measure = (2*precision*recall) / (precision + recall)\n",
    "    print('%s noun_adj precision : %.2f'%(df_type, precision))\n",
    "    print('%s noun_adj recall : %.2f'%(df_type, recall))\n",
    "    print('%s noun_adj f_measure : %.2f'%(df_type, f_measure))"
   ]
  },
  {
   "cell_type": "code",
   "execution_count": 4,
   "metadata": {},
   "outputs": [
    {
     "name": "stdout",
     "output_type": "stream",
     "text": [
      "------------------------------------------------------------------------------\n",
      "Anti-virus software noun_adj precision : 0.24\n",
      "Anti-virus software noun_adj recall : 0.36\n",
      "Anti-virus software noun_adj f_measure : 0.29\n"
     ]
    }
   ],
   "source": [
    "fn = 'keyword_eval\\PF2\\Anti-virus software.xlsx'\n",
    "df_type = os.path.basename(fn).split('.')[0]\n",
    "df = pd.read_excel(fn, usecols=['f','count','sent'])\n",
    "df = extract_df(df)\n",
    "calc_acc(df, df_type)"
   ]
  },
  {
   "cell_type": "code",
   "execution_count": 5,
   "metadata": {},
   "outputs": [
    {
     "name": "stdout",
     "output_type": "stream",
     "text": [
      "------------------------------------------------------------------------------\n",
      "Digital camera 1 noun_adj precision : 0.25\n",
      "Digital camera 1 noun_adj recall : 0.59\n",
      "Digital camera 1 noun_adj f_measure : 0.35\n"
     ]
    }
   ],
   "source": [
    "fn = 'keyword_eval\\PF2\\Digital camera 1.xlsx'\n",
    "df_type = os.path.basename(fn).split('.')[0]\n",
    "df = pd.read_excel(fn, usecols=['f','count','sent'])\n",
    "df = extract_df(df)\n",
    "calc_acc(df, df_type)"
   ]
  },
  {
   "cell_type": "code",
   "execution_count": 6,
   "metadata": {},
   "outputs": [
    {
     "name": "stdout",
     "output_type": "stream",
     "text": [
      "------------------------------------------------------------------------------\n",
      "Digital camera 2 noun_adj precision : 0.31\n",
      "Digital camera 2 noun_adj recall : 0.50\n",
      "Digital camera 2 noun_adj f_measure : 0.39\n"
     ]
    }
   ],
   "source": [
    "fn = 'keyword_eval\\PF2\\Digital camera 2.xlsx'\n",
    "df_type = os.path.basename(fn).split('.')[0]\n",
    "df = pd.read_excel(fn, usecols=['f','count','sent'])\n",
    "df = extract_df(df)\n",
    "calc_acc(df, df_type)"
   ]
  },
  {
   "cell_type": "code",
   "execution_count": 7,
   "metadata": {},
   "outputs": [
    {
     "name": "stdout",
     "output_type": "stream",
     "text": [
      "------------------------------------------------------------------------------\n",
      "Hitachi router noun_adj precision : 0.31\n",
      "Hitachi router noun_adj recall : 0.44\n",
      "Hitachi router noun_adj f_measure : 0.36\n"
     ]
    }
   ],
   "source": [
    "fn = 'keyword_eval\\PF2\\Hitachi router.xlsx'\n",
    "df_type = os.path.basename(fn).split('.')[0]\n",
    "df = pd.read_excel(fn, usecols=['f','count','sent'])\n",
    "df = extract_df(df)\n",
    "calc_acc(df, df_type)"
   ]
  },
  {
   "cell_type": "code",
   "execution_count": 8,
   "metadata": {},
   "outputs": [
    {
     "name": "stdout",
     "output_type": "stream",
     "text": [
      "------------------------------------------------------------------------------\n",
      "ipod noun_adj precision : 0.28\n",
      "ipod noun_adj recall : 0.62\n",
      "ipod noun_adj f_measure : 0.38\n"
     ]
    }
   ],
   "source": [
    "fn = 'keyword_eval\\PF2\\ipod.xlsx'\n",
    "df_type = os.path.basename(fn).split('.')[0]\n",
    "df = pd.read_excel(fn, usecols=['f','count','sent'])\n",
    "df = extract_df(df)\n",
    "calc_acc(df, df_type)"
   ]
  },
  {
   "cell_type": "code",
   "execution_count": 9,
   "metadata": {},
   "outputs": [
    {
     "name": "stdout",
     "output_type": "stream",
     "text": [
      "------------------------------------------------------------------------------\n",
      "MicroMP3 noun_adj precision : 0.26\n",
      "MicroMP3 noun_adj recall : 0.51\n",
      "MicroMP3 noun_adj f_measure : 0.35\n"
     ]
    }
   ],
   "source": [
    "fn = 'keyword_eval\\PF2\\MicroMP3.xlsx'\n",
    "df_type = os.path.basename(fn).split('.')[0]\n",
    "df = pd.read_excel(fn, usecols=['f','count','sent'])\n",
    "df = extract_df(df)\n",
    "calc_acc(df, df_type)"
   ]
  },
  {
   "cell_type": "code",
   "execution_count": 10,
   "metadata": {},
   "outputs": [
    {
     "name": "stdout",
     "output_type": "stream",
     "text": [
      "------------------------------------------------------------------------------\n",
      "Router noun_adj precision : 0.27\n",
      "Router noun_adj recall : 0.52\n",
      "Router noun_adj f_measure : 0.36\n"
     ]
    }
   ],
   "source": [
    "fn = 'keyword_eval\\PF2\\Router.xlsx'\n",
    "df_type = os.path.basename(fn).split('.')[0]\n",
    "df = pd.read_excel(fn, usecols=['f','count','sent'])\n",
    "df = extract_df(df)\n",
    "calc_acc(df, df_type)"
   ]
  },
  {
   "cell_type": "code",
   "execution_count": null,
   "metadata": {},
   "outputs": [],
   "source": []
  }
 ],
 "metadata": {
  "kernelspec": {
   "display_name": "Python 3",
   "language": "python",
   "name": "python3"
  },
  "language_info": {
   "codemirror_mode": {
    "name": "ipython",
    "version": 3
   },
   "file_extension": ".py",
   "mimetype": "text/x-python",
   "name": "python",
   "nbconvert_exporter": "python",
   "pygments_lexer": "ipython3",
   "version": "3.6.9"
  }
 },
 "nbformat": 4,
 "nbformat_minor": 4
}
