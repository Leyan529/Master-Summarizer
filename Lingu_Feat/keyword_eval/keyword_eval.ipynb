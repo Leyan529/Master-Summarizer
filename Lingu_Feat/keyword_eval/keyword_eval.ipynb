{
 "cells": [
  {
   "cell_type": "code",
   "execution_count": 100,
   "metadata": {},
   "outputs": [],
   "source": [
    "path = 'D:\\MyBox\\Master Thesis\\產品摘要\\keyword_eval'\n",
    "\n",
    "from glob import glob\n",
    "import os\n",
    "import re\n",
    "import pandas as pd\n",
    "\n",
    "PF1 = glob(path + '\\PF1\\*.txt')\n",
    "PF2 = glob(path + '\\PF2\\*.txt')\n",
    "Keyword = glob(path + '\\Keyword\\*.txt')"
   ]
  },
  {
   "cell_type": "code",
   "execution_count": 83,
   "metadata": {},
   "outputs": [
    {
     "data": {
      "text/plain": [
       "['D:\\\\MyBox\\\\Master Thesis\\\\產品摘要\\\\keyword_eval\\\\PF1\\\\Cellular phone.txt',\n",
       " 'D:\\\\MyBox\\\\Master Thesis\\\\產品摘要\\\\keyword_eval\\\\PF1\\\\Digital camera1.txt',\n",
       " 'D:\\\\MyBox\\\\Master Thesis\\\\產品摘要\\\\keyword_eval\\\\PF1\\\\Digital camera2.txt',\n",
       " 'D:\\\\MyBox\\\\Master Thesis\\\\產品摘要\\\\keyword_eval\\\\PF1\\\\DVD player.txt',\n",
       " 'D:\\\\MyBox\\\\Master Thesis\\\\產品摘要\\\\keyword_eval\\\\PF1\\\\Mp3 player.txt']"
      ]
     },
     "execution_count": 83,
     "metadata": {},
     "output_type": "execute_result"
    }
   ],
   "source": [
    "PF1"
   ]
  },
  {
   "cell_type": "code",
   "execution_count": 80,
   "metadata": {},
   "outputs": [
    {
     "name": "stdout",
     "output_type": "stream",
     "text": [
      "Cellular phone\n",
      "D:\\MyBox\\Master Thesis\\產品摘要\\keyword_eval\\PF1\\Cellular phone.txt\n",
      "Digital camera1\n",
      "D:\\MyBox\\Master Thesis\\產品摘要\\keyword_eval\\PF1\\Digital camera1.txt\n",
      "Digital camera2\n",
      "D:\\MyBox\\Master Thesis\\產品摘要\\keyword_eval\\PF1\\Digital camera2.txt\n",
      "DVD player\n",
      "D:\\MyBox\\Master Thesis\\產品摘要\\keyword_eval\\PF1\\DVD player.txt\n",
      "Mp3 player\n",
      "D:\\MyBox\\Master Thesis\\產品摘要\\keyword_eval\\PF1\\Mp3 player.txt\n"
     ]
    }
   ],
   "source": [
    "for p in PF1:\n",
    "    print(os.path.basename(p).replace('.txt',''))\n",
    "    print(p)\n",
    "    f = open(p, 'r', encoding='utf-8')\n",
    "    lines = f.readlines()\n",
    "    lines = [l.replace('+','').replace('-','').strip() for l in lines if '[' in l and '[t]' not in l]\n",
    "    lines = [re.sub(r\"[[0-9tu]+]\", \"\", l) for l in lines ]\n",
    "    lines = [l.split('##') for l in lines if len(l.split('##'))>1]\n",
    "    lines = [[l[0].split(','), l[1]] for l in lines]\n",
    "\n",
    "    newlines = []\n",
    "    for l in lines:\n",
    "        exist = False\n",
    "        for f in l[0]:\n",
    "            if f in l[1]: exist=True; break\n",
    "        if exist: newlines.append([l[0], len(l[0]), l[1]])\n",
    "    f.close()\n",
    "    df = pd.DataFrame(newlines, columns=['f', 'count','sent'])\n",
    "    df.to_excel(p.replace('.txt','.xlsx'))\n",
    "    "
   ]
  },
  {
   "cell_type": "code",
   "execution_count": 86,
   "metadata": {},
   "outputs": [
    {
     "data": {
      "text/plain": [
       "['D:\\\\MyBox\\\\Master Thesis\\\\產品摘要\\\\keyword_eval\\\\PF2\\\\Anti-virus software.txt',\n",
       " 'D:\\\\MyBox\\\\Master Thesis\\\\產品摘要\\\\keyword_eval\\\\PF2\\\\Digital camera 1.txt',\n",
       " 'D:\\\\MyBox\\\\Master Thesis\\\\產品摘要\\\\keyword_eval\\\\PF2\\\\Digital camera 2.txt',\n",
       " 'D:\\\\MyBox\\\\Master Thesis\\\\產品摘要\\\\keyword_eval\\\\PF2\\\\Hitachi router.txt',\n",
       " 'D:\\\\MyBox\\\\Master Thesis\\\\產品摘要\\\\keyword_eval\\\\PF2\\\\ipod.txt',\n",
       " 'D:\\\\MyBox\\\\Master Thesis\\\\產品摘要\\\\keyword_eval\\\\PF2\\\\MicroMP3.txt',\n",
       " 'D:\\\\MyBox\\\\Master Thesis\\\\產品摘要\\\\keyword_eval\\\\PF2\\\\Router.txt']"
      ]
     },
     "execution_count": 86,
     "metadata": {},
     "output_type": "execute_result"
    }
   ],
   "source": [
    "PF2"
   ]
  },
  {
   "cell_type": "code",
   "execution_count": 98,
   "metadata": {},
   "outputs": [
    {
     "name": "stdout",
     "output_type": "stream",
     "text": [
      "Anti-virus software\n",
      "D:\\MyBox\\Master Thesis\\產品摘要\\keyword_eval\\PF2\\Anti-virus software.txt\n",
      "Digital camera 1\n",
      "D:\\MyBox\\Master Thesis\\產品摘要\\keyword_eval\\PF2\\Digital camera 1.txt\n",
      "Digital camera 2\n",
      "D:\\MyBox\\Master Thesis\\產品摘要\\keyword_eval\\PF2\\Digital camera 2.txt\n",
      "Hitachi router\n",
      "D:\\MyBox\\Master Thesis\\產品摘要\\keyword_eval\\PF2\\Hitachi router.txt\n",
      "ipod\n",
      "D:\\MyBox\\Master Thesis\\產品摘要\\keyword_eval\\PF2\\ipod.txt\n",
      "MicroMP3\n",
      "D:\\MyBox\\Master Thesis\\產品摘要\\keyword_eval\\PF2\\MicroMP3.txt\n",
      "Router\n",
      "D:\\MyBox\\Master Thesis\\產品摘要\\keyword_eval\\PF2\\Router.txt\n"
     ]
    }
   ],
   "source": [
    "for p in PF2:\n",
    "    print(os.path.basename(p).replace('.txt',''))\n",
    "    print(p)\n",
    "    f = open(p, 'r', encoding='utf-8', errors='replace')\n",
    "    lines = f.readlines()\n",
    "    lines = [l.replace('+','').replace('-','').strip() for l in lines if '[' in l and '[t]' not in l]\n",
    "    lines = [re.sub(r\"[[0-9p]+]\", \"\", l) for l in lines ]\n",
    "\n",
    "\n",
    "    lines = [l.split('##') for l in lines if '##' in l]\n",
    "    lines = [[l[0].split(','), l[1]] for l in lines]\n",
    "    lines\n",
    "    newlines = []\n",
    "    for l in lines:\n",
    "        exist = False\n",
    "        for f in l[0]:\n",
    "            if f in l[1]: exist=True; break\n",
    "        if exist: newlines.append([l[0], len(l[0]), l[1]])\n",
    "    f.close()\n",
    "    df = pd.DataFrame(newlines, columns=['f', 'count','sent'])\n",
    "    df.to_excel(p.replace('.txt','.xlsx'))"
   ]
  },
  {
   "cell_type": "code",
   "execution_count": 209,
   "metadata": {},
   "outputs": [],
   "source": [
    "# for p in Keyword:\n",
    "#     print(os.path.basename(p).replace('.txt',''))\n",
    "#     print(p)\n",
    "p = 'D:\\MyBox\\Master Thesis\\產品摘要\\keyword_eval\\Keyword\\\\test.txt'\n",
    "f = open(p, 'r', encoding='utf-8', errors='replace')\n",
    "lines = f.readlines()\n",
    "SENTENCE = [l.replace('<SENTENCE>','').strip() for l in lines if '<SENTENCE>' in l]\n",
    "\n",
    "\n",
    "FOP_key = [l.strip() for l in lines if '<INST_NUM ' in l]\n",
    "FOP_key = [re.sub(r\"<INST_NUM = [0-9]+> \", \"\", l) for l in FOP_key]\n",
    "FOP_key = [re.sub(r\"<INST_NUM  = [0-9]+> \", \"\", l) for l in FOP_key]\n",
    "FOP_key = [re.sub(r\"<INST_NUM = [0-9]+ > \", \"\", l) for l in FOP_key]\n",
    "FOP_key = [re.sub(r\"[0-9]_\", \"\", l) for l in FOP_key]\n",
    "FOP_key = [re.sub(r\"[[0-9]+]\", \"\", l) for l in FOP_key]\n",
    "FOP_key = [l.split(',') for l in FOP_key]\n",
    "\n",
    "new_FOP_key = []\n",
    "for item_list in FOP_key:\n",
    "    new_item_list = []\n",
    "    for item in item_list:\n",
    "        if len(list(item)) == 0: continue\n",
    "        if list(item)[0] == ' ': \n",
    "            new_item = \"\".join(list(item)[1:])            \n",
    "        else:\n",
    "            new_item = item\n",
    "        new_item_list.append(new_item)\n",
    "    new_item_list = [word for word in new_item_list if word != '']\n",
    "    new_FOP_key.append(new_item_list)\n",
    "\n",
    "len(new_FOP_key)\n",
    "len(SENTENCE)\n",
    "\n",
    "newlines = [[x,y] for x,y in zip(new_FOP_key, SENTENCE)]\n",
    "newlines = [[line[0], len(line[0]),line[1]] for line in newlines]\n",
    "\n",
    "df = pd.DataFrame(newlines, columns=['keyword', 'count' ,'sent'])\n",
    "df.to_excel(p.replace('.txt','.xlsx'))\n"
   ]
  },
  {
   "cell_type": "code",
   "execution_count": 210,
   "metadata": {},
   "outputs": [],
   "source": [
    "p = 'D:\\MyBox\\Master Thesis\\產品摘要\\keyword_eval\\Keyword\\\\train.txt'\n",
    "f = open(p, 'r', encoding='utf-8', errors='replace')\n",
    "lines = f.readlines()\n",
    "\n",
    "SENTENCE = [l.strip() for l in lines if 'SENTENCE NUM' in l]\n",
    "SENTENCE = [re.sub(r\"<SENTENCE NUM = [0-9]+> \", \"\", l) for l in SENTENCE]\n",
    "SENTENCE = [\"\".join(list(l)[1:]) for l in SENTENCE ]\n",
    "# SENTENCE\n",
    "\n",
    "FOP_key = [l.strip() for l in lines if '<INST_NUM ' in l]\n",
    "FOP_key = [re.sub(r\"<INST_NUM = [0-9]+>    \", \"\", l) for l in FOP_key]\n",
    "FOP_key = [re.sub(r\"<INST_NUM  = [0-9]+>    \", \"\", l) for l in FOP_key]\n",
    "FOP_key = [re.sub(r\"<INST_NUM = [0-9]+ >    \", \"\", l) for l in FOP_key]\n",
    "FOP_key = [re.sub(r\"[0-9]_\", \"\", l) for l in FOP_key]\n",
    "FOP_key = [re.sub(r\"[[0-9]+]\", \"\", l) for l in FOP_key]\n",
    "FOP_key = [l.split(',') for l in FOP_key]\n",
    "\n",
    "FOP_key\n",
    "new_FOP_key = []\n",
    "for item_list in FOP_key:\n",
    "    new_item_list = []\n",
    "    for item in item_list:\n",
    "        if len(list(item)) == 0: continue\n",
    "        if list(item)[0] == ' ': \n",
    "            new_item = \"\".join(list(item)[1:])            \n",
    "        else:\n",
    "            new_item = item\n",
    "        new_item_list.append(new_item)\n",
    "    new_item_list = [word for word in new_item_list if word != '']\n",
    "    new_FOP_key.append(new_item_list)\n",
    "\n",
    "# len(new_FOP_key)\n",
    "# len(SENTENCE)\n",
    "\n",
    "newlines = [[x,y] for x,y in zip(new_FOP_key, SENTENCE)]\n",
    "newlines = [[line[0], len(line[0]),line[1]] for line in newlines]\n",
    "\n",
    "df = pd.DataFrame(newlines, columns=['keyword', 'count' ,'sent'])\n",
    "df.to_excel(p.replace('.txt','.xlsx'))\n"
   ]
  }
 ],
 "metadata": {
  "kernelspec": {
   "display_name": "Python 3",
   "language": "python",
   "name": "python3"
  },
  "language_info": {
   "codemirror_mode": {
    "name": "ipython",
    "version": 3
   },
   "file_extension": ".py",
   "mimetype": "text/x-python",
   "name": "python",
   "nbconvert_exporter": "python",
   "pygments_lexer": "ipython3",
   "version": "3.6.8"
  }
 },
 "nbformat": 4,
 "nbformat_minor": 2
}
