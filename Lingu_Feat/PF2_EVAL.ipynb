{
 "cells": [
  {
   "cell_type": "code",
   "execution_count": 1,
   "metadata": {},
   "outputs": [
    {
     "data": {
      "text/plain": [
       "(['looks', 'case', 'nice', 'camera'], ['case', 'camera'])"
      ]
     },
     "execution_count": 1,
     "metadata": {},
     "output_type": "execute_result"
    }
   ],
   "source": [
    "from extract_key import extract_DEP\n",
    "import os\n",
    "sent = 'The camera case looks nice .'\n",
    "\n",
    "\n",
    "DEP = extract_DEP(sent).run()  \n",
    "DEP"
   ]
  },
  {
   "cell_type": "code",
   "execution_count": 2,
   "metadata": {},
   "outputs": [
    {
     "data": {
      "text/plain": [
       "(['case', 'nice'], ['case'])"
      ]
     },
     "execution_count": 2,
     "metadata": {},
     "output_type": "execute_result"
    }
   ],
   "source": [
    "from extract_key import extract_POS\n",
    "POS = extract_POS(sent).run()  \n",
    "POS"
   ]
  },
  {
   "cell_type": "code",
   "execution_count": 3,
   "metadata": {},
   "outputs": [],
   "source": [
    "import pandas as pd\n",
    "\n",
    "def crop_all(x):\n",
    "    x = eval(x)\n",
    "    x = [item for item in x if len(x)>0]\n",
    "    x = \" \".join(x)\n",
    "    return [item for item in x.split(\" \") if len(item)>0]\n",
    "\n",
    "def extract_df(df):\n",
    "    df['label_pfs'] = df['f'].apply(crop_all)\n",
    "    df['label_count'] = df['label_pfs'].apply(lambda x: len(x))\n",
    "\n",
    "\n",
    "    for idx in range(len(df)):           \n",
    "        series = df.iloc[idx]\n",
    "        label_pfs, label_count, sent = series['label_pfs'], series['label_count'], series['sent']\n",
    "        # pos\n",
    "        pred_pos_pfs = extract_POS(sent).run()[1]\n",
    "        df.loc[idx,'pred_pos_pfs'] = str(pred_pos_pfs)\n",
    "        correct_pos_pfs = set(label_pfs) & set(pred_pos_pfs)\n",
    "        df.loc[idx,'correct_pos_pfs'] = str(correct_pos_pfs)\n",
    "        df.loc[idx,'pos_pfs_count'] = len(pred_pos_pfs)\n",
    "        df.loc[idx,'correct_pos_pfs_count'] = len(correct_pos_pfs)\n",
    "\n",
    "        # dep\n",
    "        pred_dep_pfs = extract_DEP(sent).run()[1]\n",
    "        df.loc[idx,'pred_dep_pfs'] = str(pred_dep_pfs)\n",
    "        correct_dep_pfs = set(label_pfs) & set(pred_dep_pfs)\n",
    "        df.loc[idx,'correct_dep_pfs'] = str(correct_dep_pfs)\n",
    "        df.loc[idx,'dep_pfs_count'] = len(pred_dep_pfs)\n",
    "        df.loc[idx,'correct_dep_pfs_count'] = len(correct_dep_pfs)\n",
    "    return df\n",
    "\n",
    "def calc_acc(df, df_type):\n",
    "    precision = sum(list(df['correct_pos_pfs_count']))/sum(list(df['pos_pfs_count']))\n",
    "    recall = sum(list(df['correct_pos_pfs_count']))/sum(list(df['label_count']))\n",
    "    f_measure = (2*precision*recall) / (precision + recall)\n",
    "    print('%s pos precision : %.2f'%(df_type, precision))\n",
    "    print('%s pos recall : %.2f'%(df_type, recall))\n",
    "    print('%s pos f_measure : %.2f'%(df_type, f_measure))\n",
    "\n",
    "    print('------------------------------------------------------------------------------')\n",
    "    precision = sum(list(df['correct_dep_pfs_count']))/sum(list(df['dep_pfs_count']))\n",
    "    recall = sum(list(df['correct_dep_pfs_count']))/sum(list(df['label_count']))\n",
    "    f_measure = (2*precision*recall) / (precision + recall)\n",
    "    print('%s dep precision : %.2f'%(df_type, precision))\n",
    "    print('%s dep recall : %.2f'%(df_type, recall))\n",
    "    print('%s dep f_measure : %.2f'%(df_type, f_measure))"
   ]
  },
  {
   "cell_type": "code",
   "execution_count": 4,
   "metadata": {},
   "outputs": [
    {
     "name": "stdout",
     "output_type": "stream",
     "text": [
      "Anti-virus software pos precision : 0.28\n",
      "Anti-virus software pos recall : 0.19\n",
      "Anti-virus software pos f_measure : 0.23\n",
      "------------------------------------------------------------------------------\n",
      "Anti-virus software dep precision : 0.24\n",
      "Anti-virus software dep recall : 0.29\n",
      "Anti-virus software dep f_measure : 0.26\n"
     ]
    }
   ],
   "source": [
    "fn = 'keyword_eval\\PF2\\Anti-virus software.xlsx'\n",
    "df_type = os.path.basename(fn).split('.')[0]\n",
    "df = pd.read_excel(fn, usecols=['f','count','sent'])\n",
    "df = extract_df(df)\n",
    "calc_acc(df, df_type)"
   ]
  },
  {
   "cell_type": "code",
   "execution_count": 5,
   "metadata": {},
   "outputs": [
    {
     "name": "stdout",
     "output_type": "stream",
     "text": [
      "Digital camera 1 pos precision : 0.25\n",
      "Digital camera 1 pos recall : 0.29\n",
      "Digital camera 1 pos f_measure : 0.27\n",
      "------------------------------------------------------------------------------\n",
      "Digital camera 1 dep precision : 0.26\n",
      "Digital camera 1 dep recall : 0.40\n",
      "Digital camera 1 dep f_measure : 0.32\n"
     ]
    }
   ],
   "source": [
    "fn = 'keyword_eval\\PF2\\Digital camera 1.xlsx'\n",
    "df_type = os.path.basename(fn).split('.')[0]\n",
    "df = pd.read_excel(fn, usecols=['f','count','sent'])\n",
    "df = extract_df(df)\n",
    "calc_acc(df, df_type)"
   ]
  },
  {
   "cell_type": "code",
   "execution_count": 6,
   "metadata": {},
   "outputs": [
    {
     "name": "stdout",
     "output_type": "stream",
     "text": [
      "Digital camera 2 pos precision : 0.35\n",
      "Digital camera 2 pos recall : 0.30\n",
      "Digital camera 2 pos f_measure : 0.32\n",
      "------------------------------------------------------------------------------\n",
      "Digital camera 2 dep precision : 0.32\n",
      "Digital camera 2 dep recall : 0.35\n",
      "Digital camera 2 dep f_measure : 0.33\n"
     ]
    }
   ],
   "source": [
    "fn = 'keyword_eval\\PF2\\Digital camera 2.xlsx'\n",
    "df_type = os.path.basename(fn).split('.')[0]\n",
    "df = pd.read_excel(fn, usecols=['f','count','sent'])\n",
    "df = extract_df(df)\n",
    "calc_acc(df, df_type)"
   ]
  },
  {
   "cell_type": "code",
   "execution_count": 7,
   "metadata": {},
   "outputs": [
    {
     "name": "stdout",
     "output_type": "stream",
     "text": [
      "Hitachi router pos precision : 0.31\n",
      "Hitachi router pos recall : 0.26\n",
      "Hitachi router pos f_measure : 0.28\n",
      "------------------------------------------------------------------------------\n",
      "Hitachi router dep precision : 0.29\n",
      "Hitachi router dep recall : 0.35\n",
      "Hitachi router dep f_measure : 0.32\n"
     ]
    }
   ],
   "source": [
    "fn = 'keyword_eval\\PF2\\Hitachi router.xlsx'\n",
    "df_type = os.path.basename(fn).split('.')[0]\n",
    "df = pd.read_excel(fn, usecols=['f','count','sent'])\n",
    "df = extract_df(df)\n",
    "calc_acc(df, df_type)"
   ]
  },
  {
   "cell_type": "code",
   "execution_count": 8,
   "metadata": {},
   "outputs": [
    {
     "name": "stdout",
     "output_type": "stream",
     "text": [
      "ipod pos precision : 0.24\n",
      "ipod pos recall : 0.19\n",
      "ipod pos f_measure : 0.22\n",
      "------------------------------------------------------------------------------\n",
      "ipod dep precision : 0.26\n",
      "ipod dep recall : 0.40\n",
      "ipod dep f_measure : 0.31\n"
     ]
    }
   ],
   "source": [
    "fn = 'keyword_eval\\PF2\\ipod.xlsx'\n",
    "df_type = os.path.basename(fn).split('.')[0]\n",
    "df = pd.read_excel(fn, usecols=['f','count','sent'])\n",
    "df = extract_df(df)\n",
    "calc_acc(df, df_type)"
   ]
  },
  {
   "cell_type": "code",
   "execution_count": 9,
   "metadata": {},
   "outputs": [
    {
     "name": "stdout",
     "output_type": "stream",
     "text": [
      "MicroMP3 pos precision : 0.32\n",
      "MicroMP3 pos recall : 0.24\n",
      "MicroMP3 pos f_measure : 0.28\n",
      "------------------------------------------------------------------------------\n",
      "MicroMP3 dep precision : 0.27\n",
      "MicroMP3 dep recall : 0.37\n",
      "MicroMP3 dep f_measure : 0.31\n"
     ]
    }
   ],
   "source": [
    "fn = 'keyword_eval\\PF2\\MicroMP3.xlsx'\n",
    "df_type = os.path.basename(fn).split('.')[0]\n",
    "df = pd.read_excel(fn, usecols=['f','count','sent'])\n",
    "df = extract_df(df)\n",
    "calc_acc(df, df_type)"
   ]
  },
  {
   "cell_type": "code",
   "execution_count": 10,
   "metadata": {},
   "outputs": [
    {
     "name": "stdout",
     "output_type": "stream",
     "text": [
      "Router pos precision : 0.29\n",
      "Router pos recall : 0.25\n",
      "Router pos f_measure : 0.26\n",
      "------------------------------------------------------------------------------\n",
      "Router dep precision : 0.27\n",
      "Router dep recall : 0.35\n",
      "Router dep f_measure : 0.30\n"
     ]
    }
   ],
   "source": [
    "fn = 'keyword_eval\\PF2\\Router.xlsx'\n",
    "df_type = os.path.basename(fn).split('.')[0]\n",
    "df = pd.read_excel(fn, usecols=['f','count','sent'])\n",
    "df = extract_df(df)\n",
    "calc_acc(df, df_type)"
   ]
  },
  {
   "cell_type": "code",
   "execution_count": 11,
   "metadata": {},
   "outputs": [],
   "source": [
    "# Router pos precision : 0.26\n",
    "# Router pos recall : 0.26\n",
    "# Router pos f_measure : 0.26\n",
    "# ------------------------------------------------------------------------------\n",
    "# Router dep precision : 0.24\n",
    "# Router dep recall : 0.33\n",
    "# Router dep f_measure : 0.28"
   ]
  }
 ],
 "metadata": {
  "kernelspec": {
   "display_name": "Python 3",
   "language": "python",
   "name": "python3"
  },
  "language_info": {
   "codemirror_mode": {
    "name": "ipython",
    "version": 3
   },
   "file_extension": ".py",
   "mimetype": "text/x-python",
   "name": "python",
   "nbconvert_exporter": "python",
   "pygments_lexer": "ipython3",
   "version": "3.6.9"
  }
 },
 "nbformat": 4,
 "nbformat_minor": 4
}
