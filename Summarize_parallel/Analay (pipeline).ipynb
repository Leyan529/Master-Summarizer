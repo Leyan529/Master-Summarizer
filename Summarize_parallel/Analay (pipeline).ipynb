{
 "cells": [
  {
   "cell_type": "code",
   "execution_count": 1,
   "metadata": {},
   "outputs": [
    {
     "name": "stdout",
     "output_type": "stream",
     "text": [
      "901434\n",
      "811290\n",
      "90144\n"
     ]
    }
   ],
   "source": [
    "import pandas as pd\n",
    "from utils import config\n",
    "\n",
    "from sklearn.model_selection import train_test_split\n",
    "\n",
    "config.xls_path = '../Train-Data/Mix6_mainCat_pipeline/pro_review.xlsx'\n",
    "# config.xls_path = '/home/eagleuser/Users/leyan/Train-Data/Mix6_mainCat_new/pro_review.xlsx'\n",
    "total_df = pd.read_excel(config.xls_path)\n",
    "total_df['review_ID'] = total_df.review_ID.astype(str)\n",
    "\n",
    "# total_df = total_df[total_df['review_len']>=50]\n",
    "# total_df = total_df[total_df['summary_len']>=5]\n",
    "total_df = total_df.sort_values(by=['review_len','overlap'], ascending = False)\n",
    "train_df, val_df = train_test_split(total_df, test_size=0.1, \n",
    "                                    random_state=0, shuffle=True)\n",
    "\n",
    "print(len(total_df))\n",
    "print(len(train_df))\n",
    "print(len(val_df))\n",
    "\n",
    "# train : 504075(90%),    test : 56009(10%) -> best 566084"
   ]
  },
  {
   "cell_type": "code",
   "execution_count": 2,
   "metadata": {},
   "outputs": [],
   "source": [
    "def longest_common_subsequence(main_string, comparing_string):\n",
    "\n",
    "#     main_string = main_string.split(\" \")\n",
    "#     comparing_string = comparing_string.split(\" \")\n",
    "    columns_length = len(main_string)  # Get the length of the first word or base word\n",
    "    rows_length = len(comparing_string)  # Get the length of the second word or comparing word\n",
    "\n",
    "    # MAKE A 2D LIST (MATRIX)\n",
    "    dynamic_table = [[0] * (columns_length + 1) for i in range(rows_length + 1)]\n",
    "\n",
    "    # rows_length = NUMBER OF ROWS\n",
    "    # columns_length = NUMBER OF COLUMNS\n",
    "    \n",
    "    # FILL THE MATRIX FOLLOWING LCS ALGORITHM.\n",
    "    for i in range(1, rows_length + 1):\n",
    "        for j in range(1, columns_length + 1):\n",
    "            if main_string[j - 1] == comparing_string[i - 1]:\n",
    "                dynamic_table[i][j] = 1 + dynamic_table[i - 1][j - 1]\n",
    "\n",
    "            else:\n",
    "                dynamic_table[i][j] = max(dynamic_table[i - 1][j], dynamic_table[i][j - 1])\n",
    "\n",
    "#     print(\"MATRIX ACCORDING TO LONGEST COMMON SUBSEQUENCE ALGORITHM: \\n \")\n",
    "\n",
    "    # for i in range(rows_length + 1):\n",
    "    #     print(dynamic_table[i])\n",
    "\n",
    "    #print(\"LENGTH OF LONGEST COMMON SUBSEQUENCE = \", dynamic_table[rows_length][columns_length])\n",
    "\n",
    "    len_lcs = dynamic_table[rows_length][columns_length]\n",
    "\n",
    "    i = len(comparing_string)\n",
    "    j = len(main_string)\n",
    "\n",
    "    lcs_string = str()\n",
    "\n",
    "    # BACKTRACKING TO FIND THE LONGEST COMMON SUBSEQUENCE\n",
    "\n",
    "    temp = True\n",
    "\n",
    "    while temp is True:\n",
    "        if dynamic_table[i][j] == 0:\n",
    "            temp = False\n",
    "        elif dynamic_table[i][j] == dynamic_table[i][j - 1]:\n",
    "            j = j - 1\n",
    "\n",
    "        else:\n",
    "            lcs_string = main_string[j-1] + \" \" + lcs_string\n",
    "            i = i - 1\n",
    "            j = j - 1\n",
    "\n",
    "    return lcs_string, len_lcs"
   ]
  },
  {
   "cell_type": "code",
   "execution_count": 3,
   "metadata": {},
   "outputs": [],
   "source": [
    "# df.loc[i,'token_lcs'] = token_lcs\n",
    "#             df.loc[i,'len_lcs'] = len_lcs\n",
    "#             df.loc[i,'percent_lcs'] = percent_lcs\n",
    "#             df.loc[i,'overlap_pos'] = overlap_pos\n",
    "            \n",
    "#             df.loc[i,'reveiw_len'] = len(rev_tokens)\n",
    "#             df.loc[i,'summary_len'] = len(summary_tokens)"
   ]
  },
  {
   "cell_type": "code",
   "execution_count": 4,
   "metadata": {},
   "outputs": [],
   "source": [
    "#%%\n",
    "from tqdm import tqdm\n",
    "from copy import deepcopy\n",
    "def analay(df, mode):\n",
    "    df['token_lcs'] = 0\n",
    "    df['len_lcs'] = 0\n",
    "    df['percent_lcs'] = 0\n",
    "    df['overlap_pos'] = 0\n",
    "\n",
    "    df['reveiw_len'] = 0\n",
    "    df['summary_len'] = 0\n",
    "#     df = df[:100]\n",
    "    with tqdm(total=len(df)) as pbar:\n",
    "        for i ,row in df.iterrows():       \n",
    "            overlap_pos = None\n",
    "\n",
    "            rev, summary = row['review'], row['summary']\n",
    "            rev_tokens, summary_tokens = rev.split(\" \"), summary.split(\" \")           \n",
    "            token_lcs, len_lcs = longest_common_subsequence(rev_tokens, summary_tokens)\n",
    "            percent_lcs = len_lcs / len(summary_tokens) * 100 # percent\n",
    "\n",
    "            rev_sents = rev.split(\" . \")\n",
    "            overlap_sents = {idx: longest_common_subsequence(sent.split(\" \"), summary_tokens) for idx, sent in enumerate(rev_sents)}\n",
    "            sort_overlap_sent = {k:v for k,v in sorted(overlap_sents.items(), key= lambda item: item[1], reverse=True)}\n",
    "            overlap_sent_id = list(sort_overlap_sent.items())[0][0]\n",
    "\n",
    "            if (overlap_sent_id == 0) and (percent_lcs >= 20): overlap_pos = 0 # overlap_Top \n",
    "            elif (overlap_sent_id == len(rev_tokens)-1) and (percent_lcs >= 20): overlap_pos = 1 # overlap_Final \n",
    "            elif (percent_lcs >= 20): overlap_pos = 2 # overlap_other \n",
    "            else: overlap_pos = -1 # no overlap \n",
    "\n",
    "            df.loc[i,'token_lcs'] = token_lcs\n",
    "            df.loc[i,'len_lcs'] = len_lcs\n",
    "            df.loc[i,'percent_lcs'] = percent_lcs\n",
    "            df.loc[i,'overlap_pos'] = overlap_pos\n",
    "            \n",
    "            df.loc[i,'reveiw_len'] = len(rev_tokens)\n",
    "            df.loc[i,'summary_len'] = len(summary_tokens)\n",
    "\n",
    "            pbar.update(1)\n",
    "            pbar.set_description(\"%s row: %s | overlap_pos: %s (%2.2f)percent| len_lcs: %s\" % (mode, i, overlap_pos, percent_lcs, len_lcs))\n",
    "#     df = df[df['token_lcs']!=0]\n",
    "    return df\n",
    "\n"
   ]
  },
  {
   "cell_type": "code",
   "execution_count": 5,
   "metadata": {},
   "outputs": [
    {
     "data": {
      "text/html": [
       "<div>\n",
       "<style scoped>\n",
       "    .dataframe tbody tr th:only-of-type {\n",
       "        vertical-align: middle;\n",
       "    }\n",
       "\n",
       "    .dataframe tbody tr th {\n",
       "        vertical-align: top;\n",
       "    }\n",
       "\n",
       "    .dataframe thead th {\n",
       "        text-align: right;\n",
       "    }\n",
       "</style>\n",
       "<table border=\"1\" class=\"dataframe\">\n",
       "  <thead>\n",
       "    <tr style=\"text-align: right;\">\n",
       "      <th></th>\n",
       "      <th>review_ID</th>\n",
       "      <th>rating</th>\n",
       "      <th>vote</th>\n",
       "      <th>binaryrating</th>\n",
       "      <th>review</th>\n",
       "      <th>summary</th>\n",
       "      <th>cheat</th>\n",
       "      <th>cheat_num</th>\n",
       "      <th>overlap</th>\n",
       "      <th>review_len</th>\n",
       "      <th>...</th>\n",
       "      <th>POS_keys</th>\n",
       "      <th>DEP_keys</th>\n",
       "      <th>Noun_adj_keys</th>\n",
       "      <th>TextRank_keys</th>\n",
       "      <th>len_lcs</th>\n",
       "      <th>percent_lcs</th>\n",
       "      <th>overlap_pos</th>\n",
       "      <th>token_lcs</th>\n",
       "      <th>summary_polarity</th>\n",
       "      <th>summary_subjectivity</th>\n",
       "    </tr>\n",
       "  </thead>\n",
       "  <tbody>\n",
       "    <tr>\n",
       "      <th>499904</th>\n",
       "      <td>1488153600</td>\n",
       "      <td>3</td>\n",
       "      <td>2</td>\n",
       "      <td>negative</td>\n",
       "      <td>as other reviewer state this stuff work for a ...</td>\n",
       "      <td>&lt;s&gt; not a substitute for hot wax &lt;/s&gt;</td>\n",
       "      <td>{'a', 'wax', 'hot', 'for'}</td>\n",
       "      <td>4</td>\n",
       "      <td>4</td>\n",
       "      <td>74</td>\n",
       "      <td>...</td>\n",
       "      <td>['', '', 'stick', 'snow', 'was', '']</td>\n",
       "      <td>['other', 'work', 'is', 'state']</td>\n",
       "      <td>['state', 'work', 'run', 'couple', 'stuff', 'r...</td>\n",
       "      <td>['reviewer', 'state']</td>\n",
       "      <td>3</td>\n",
       "      <td>37.500000</td>\n",
       "      <td>2</td>\n",
       "      <td>for wax wax</td>\n",
       "      <td>0.250000</td>\n",
       "      <td>0.850</td>\n",
       "    </tr>\n",
       "    <tr>\n",
       "      <th>117797</th>\n",
       "      <td>1258416000</td>\n",
       "      <td>1</td>\n",
       "      <td>18</td>\n",
       "      <td>negative</td>\n",
       "      <td>i purchase these drive because i was look for ...</td>\n",
       "      <td>&lt;s&gt; drive fail repeatedly quality does not mat...</td>\n",
       "      <td>{'look', 'drive', 'fail'}</td>\n",
       "      <td>3</td>\n",
       "      <td>4</td>\n",
       "      <td>156</td>\n",
       "      <td>...</td>\n",
       "      <td>['drive', 'grade', 'purchase', 'professional',...</td>\n",
       "      <td>['drive', 'purchase', 'grade', 'professional',...</td>\n",
       "      <td>['drive', 'grade', 'professional', 'drive', 'p...</td>\n",
       "      <td>['drive', 'grade', 'use', 'performance', 'perf...</td>\n",
       "      <td>3</td>\n",
       "      <td>30.000000</td>\n",
       "      <td>2</td>\n",
       "      <td>drive look not</td>\n",
       "      <td>-0.500000</td>\n",
       "      <td>0.300</td>\n",
       "    </tr>\n",
       "    <tr>\n",
       "      <th>153759</th>\n",
       "      <td>1385942400</td>\n",
       "      <td>5</td>\n",
       "      <td>2</td>\n",
       "      <td>positive</td>\n",
       "      <td>this is a great radar detector . i use escort ...</td>\n",
       "      <td>&lt;s&gt; great radar dectector worth the money &lt;/s&gt;</td>\n",
       "      <td>{'the', 'worth', 'radar', 'money', 'great'}</td>\n",
       "      <td>5</td>\n",
       "      <td>5</td>\n",
       "      <td>151</td>\n",
       "      <td>...</td>\n",
       "      <td>['radar', 'detector', 'great', '', '', 'great'...</td>\n",
       "      <td>['detector', 'great', 'use', 'escort', '8500x5...</td>\n",
       "      <td>['radar', 'great', '8500x50', 'escort', 'year'...</td>\n",
       "      <td>['great', 'speed', 'ticket', 'buy', 'protection']</td>\n",
       "      <td>5</td>\n",
       "      <td>62.500000</td>\n",
       "      <td>2</td>\n",
       "      <td>great radar the the money</td>\n",
       "      <td>0.550000</td>\n",
       "      <td>0.425</td>\n",
       "    </tr>\n",
       "    <tr>\n",
       "      <th>316710</th>\n",
       "      <td>1227052800</td>\n",
       "      <td>4</td>\n",
       "      <td>2</td>\n",
       "      <td>positive</td>\n",
       "      <td>the mouse is precise and has a fast response ....</td>\n",
       "      <td>&lt;s&gt; cheap fast precise but bulky mouse and sli...</td>\n",
       "      <td>{'but', 'dock', 'and', 'bulky', 'precise', 'fa...</td>\n",
       "      <td>7</td>\n",
       "      <td>7</td>\n",
       "      <td>97</td>\n",
       "      <td>...</td>\n",
       "      <td>['fast', 'response', 'precise', 'mouse', 'batt...</td>\n",
       "      <td>['response', 'is', 'precise', 'fast', 'mouse',...</td>\n",
       "      <td>['response', 'mouse', 'precise', 'fast', 'shap...</td>\n",
       "      <td>['price', 'fast']</td>\n",
       "      <td>4</td>\n",
       "      <td>36.363636</td>\n",
       "      <td>2</td>\n",
       "      <td>mouse and and dock</td>\n",
       "      <td>0.333333</td>\n",
       "      <td>0.700</td>\n",
       "    </tr>\n",
       "    <tr>\n",
       "      <th>850679</th>\n",
       "      <td>1379030400</td>\n",
       "      <td>5</td>\n",
       "      <td>3</td>\n",
       "      <td>positive</td>\n",
       "      <td>for year i suffer with shear to remove the mat...</td>\n",
       "      <td>&lt;s&gt; great for small dog and cat &lt;/s&gt;</td>\n",
       "      <td>{'dog', 'and', 'for', 'cat'}</td>\n",
       "      <td>4</td>\n",
       "      <td>4</td>\n",
       "      <td>89</td>\n",
       "      <td>...</td>\n",
       "      <td>['remove', 'matting', 'tool', 'special', 'were...</td>\n",
       "      <td>['remove', 'matting', 'tool', 'special', 'sort...</td>\n",
       "      <td>['tool', 'special', 'tool', 'need', 'work', 'd...</td>\n",
       "      <td>['help', 'remove']</td>\n",
       "      <td>3</td>\n",
       "      <td>37.500000</td>\n",
       "      <td>0</td>\n",
       "      <td>for cat and</td>\n",
       "      <td>0.275000</td>\n",
       "      <td>0.575</td>\n",
       "    </tr>\n",
       "  </tbody>\n",
       "</table>\n",
       "<p>5 rows × 21 columns</p>\n",
       "</div>"
      ],
      "text/plain": [
       "         review_ID  rating  vote binaryrating  \\\n",
       "499904  1488153600       3     2     negative   \n",
       "117797  1258416000       1    18     negative   \n",
       "153759  1385942400       5     2     positive   \n",
       "316710  1227052800       4     2     positive   \n",
       "850679  1379030400       5     3     positive   \n",
       "\n",
       "                                                   review  \\\n",
       "499904  as other reviewer state this stuff work for a ...   \n",
       "117797  i purchase these drive because i was look for ...   \n",
       "153759  this is a great radar detector . i use escort ...   \n",
       "316710  the mouse is precise and has a fast response ....   \n",
       "850679  for year i suffer with shear to remove the mat...   \n",
       "\n",
       "                                                  summary  \\\n",
       "499904              <s> not a substitute for hot wax </s>   \n",
       "117797  <s> drive fail repeatedly quality does not mat...   \n",
       "153759     <s> great radar dectector worth the money </s>   \n",
       "316710  <s> cheap fast precise but bulky mouse and sli...   \n",
       "850679               <s> great for small dog and cat </s>   \n",
       "\n",
       "                                                    cheat  cheat_num  overlap  \\\n",
       "499904                         {'a', 'wax', 'hot', 'for'}          4        4   \n",
       "117797                          {'look', 'drive', 'fail'}          3        4   \n",
       "153759        {'the', 'worth', 'radar', 'money', 'great'}          5        5   \n",
       "316710  {'but', 'dock', 'and', 'bulky', 'precise', 'fa...          7        7   \n",
       "850679                       {'dog', 'and', 'for', 'cat'}          4        4   \n",
       "\n",
       "        review_len          ...           \\\n",
       "499904          74          ...            \n",
       "117797         156          ...            \n",
       "153759         151          ...            \n",
       "316710          97          ...            \n",
       "850679          89          ...            \n",
       "\n",
       "                                                 POS_keys  \\\n",
       "499904               ['', '', 'stick', 'snow', 'was', '']   \n",
       "117797  ['drive', 'grade', 'purchase', 'professional',...   \n",
       "153759  ['radar', 'detector', 'great', '', '', 'great'...   \n",
       "316710  ['fast', 'response', 'precise', 'mouse', 'batt...   \n",
       "850679  ['remove', 'matting', 'tool', 'special', 'were...   \n",
       "\n",
       "                                                 DEP_keys  \\\n",
       "499904                   ['other', 'work', 'is', 'state']   \n",
       "117797  ['drive', 'purchase', 'grade', 'professional',...   \n",
       "153759  ['detector', 'great', 'use', 'escort', '8500x5...   \n",
       "316710  ['response', 'is', 'precise', 'fast', 'mouse',...   \n",
       "850679  ['remove', 'matting', 'tool', 'special', 'sort...   \n",
       "\n",
       "                                            Noun_adj_keys  \\\n",
       "499904  ['state', 'work', 'run', 'couple', 'stuff', 'r...   \n",
       "117797  ['drive', 'grade', 'professional', 'drive', 'p...   \n",
       "153759  ['radar', 'great', '8500x50', 'escort', 'year'...   \n",
       "316710  ['response', 'mouse', 'precise', 'fast', 'shap...   \n",
       "850679  ['tool', 'special', 'tool', 'need', 'work', 'd...   \n",
       "\n",
       "                                            TextRank_keys len_lcs  \\\n",
       "499904                              ['reviewer', 'state']       3   \n",
       "117797  ['drive', 'grade', 'use', 'performance', 'perf...       3   \n",
       "153759  ['great', 'speed', 'ticket', 'buy', 'protection']       5   \n",
       "316710                                  ['price', 'fast']       4   \n",
       "850679                                 ['help', 'remove']       3   \n",
       "\n",
       "        percent_lcs  overlap_pos                   token_lcs summary_polarity  \\\n",
       "499904    37.500000            2                for wax wax          0.250000   \n",
       "117797    30.000000            2             drive look not         -0.500000   \n",
       "153759    62.500000            2  great radar the the money          0.550000   \n",
       "316710    36.363636            2         mouse and and dock          0.333333   \n",
       "850679    37.500000            0                for cat and          0.275000   \n",
       "\n",
       "        summary_subjectivity  \n",
       "499904                 0.850  \n",
       "117797                 0.300  \n",
       "153759                 0.425  \n",
       "316710                 0.700  \n",
       "850679                 0.575  \n",
       "\n",
       "[5 rows x 21 columns]"
      ]
     },
     "execution_count": 5,
     "metadata": {},
     "output_type": "execute_result"
    }
   ],
   "source": [
    "train_df.head()"
   ]
  },
  {
   "cell_type": "code",
   "execution_count": 6,
   "metadata": {},
   "outputs": [
    {
     "data": {
      "text/html": [
       "<div>\n",
       "<style scoped>\n",
       "    .dataframe tbody tr th:only-of-type {\n",
       "        vertical-align: middle;\n",
       "    }\n",
       "\n",
       "    .dataframe tbody tr th {\n",
       "        vertical-align: top;\n",
       "    }\n",
       "\n",
       "    .dataframe thead th {\n",
       "        text-align: right;\n",
       "    }\n",
       "</style>\n",
       "<table border=\"1\" class=\"dataframe\">\n",
       "  <thead>\n",
       "    <tr style=\"text-align: right;\">\n",
       "      <th></th>\n",
       "      <th>review_ID</th>\n",
       "      <th>rating</th>\n",
       "      <th>vote</th>\n",
       "      <th>binaryrating</th>\n",
       "      <th>review</th>\n",
       "      <th>summary</th>\n",
       "      <th>cheat</th>\n",
       "      <th>cheat_num</th>\n",
       "      <th>overlap</th>\n",
       "      <th>review_len</th>\n",
       "      <th>...</th>\n",
       "      <th>POS_keys</th>\n",
       "      <th>DEP_keys</th>\n",
       "      <th>Noun_adj_keys</th>\n",
       "      <th>TextRank_keys</th>\n",
       "      <th>len_lcs</th>\n",
       "      <th>percent_lcs</th>\n",
       "      <th>overlap_pos</th>\n",
       "      <th>token_lcs</th>\n",
       "      <th>summary_polarity</th>\n",
       "      <th>summary_subjectivity</th>\n",
       "    </tr>\n",
       "  </thead>\n",
       "  <tbody>\n",
       "    <tr>\n",
       "      <th>249123</th>\n",
       "      <td>1427760000</td>\n",
       "      <td>3</td>\n",
       "      <td>10</td>\n",
       "      <td>negative</td>\n",
       "      <td>the taotronic may be one of the most aesthetic...</td>\n",
       "      <td>&lt;s&gt; very portable but has substantial issue &lt;/s&gt;</td>\n",
       "      <td>{'but', 'portable', 'substantial', 'very', 'has'}</td>\n",
       "      <td>5</td>\n",
       "      <td>5</td>\n",
       "      <td>553</td>\n",
       "      <td>...</td>\n",
       "      <td>['', 'extendable', 'steel', 'manual', 'stainle...</td>\n",
       "      <td>['feature', 'taotronic', 'be', 'has', 'test', ...</td>\n",
       "      <td>['stick', 'taotronic', 'selfie', 'own', 'test'...</td>\n",
       "      <td>['phone', 'phones', 'selfie', 'stick', 'app', ...</td>\n",
       "      <td>4</td>\n",
       "      <td>50.000000</td>\n",
       "      <td>2</td>\n",
       "      <td>but has substantial substantial</td>\n",
       "      <td>0.200000</td>\n",
       "      <td>0.3000</td>\n",
       "    </tr>\n",
       "    <tr>\n",
       "      <th>488278</th>\n",
       "      <td>1419811200</td>\n",
       "      <td>5</td>\n",
       "      <td>11</td>\n",
       "      <td>positive</td>\n",
       "      <td>easy to assemble 20 min even though there were...</td>\n",
       "      <td>&lt;s&gt; we experience almost immediate result this...</td>\n",
       "      <td>{'this', 'is', 'great', 'we'}</td>\n",
       "      <td>4</td>\n",
       "      <td>4</td>\n",
       "      <td>164</td>\n",
       "      <td>...</td>\n",
       "      <td>['', 'new', 'wife', 'restless', 'leg', 'syndro...</td>\n",
       "      <td>['min', 'assemble', 'new', 'use', 'attack', 'h...</td>\n",
       "      <td>['week', 'wife', 'night', 'leg', 'energy', 'ne...</td>\n",
       "      <td>['min', 'assemble', 'start', 'use', 'leg']</td>\n",
       "      <td>3</td>\n",
       "      <td>27.272727</td>\n",
       "      <td>2</td>\n",
       "      <td>we is great</td>\n",
       "      <td>0.800000</td>\n",
       "      <td>0.7500</td>\n",
       "    </tr>\n",
       "    <tr>\n",
       "      <th>811533</th>\n",
       "      <td>1363737600</td>\n",
       "      <td>3</td>\n",
       "      <td>15</td>\n",
       "      <td>negative</td>\n",
       "      <td>so i purchase this because it look ultra cute ...</td>\n",
       "      <td>&lt;s&gt; i like it but not worth the price &lt;/s&gt;</td>\n",
       "      <td>{'it', 'i', 'the', 'but'}</td>\n",
       "      <td>4</td>\n",
       "      <td>5</td>\n",
       "      <td>111</td>\n",
       "      <td>...</td>\n",
       "      <td>['new', 'doggie', '', '', 'padded', 'siding', ...</td>\n",
       "      <td>['new', 'purchase', 'plush', 'doggie', 'cute',...</td>\n",
       "      <td>['doggie', 'new', 'mat', 'wash', 'happy', 'bit...</td>\n",
       "      <td>['look', 'ultra', 'cute']</td>\n",
       "      <td>5</td>\n",
       "      <td>50.000000</td>\n",
       "      <td>2</td>\n",
       "      <td>i it but the the</td>\n",
       "      <td>-0.150000</td>\n",
       "      <td>0.1000</td>\n",
       "    </tr>\n",
       "    <tr>\n",
       "      <th>831748</th>\n",
       "      <td>1330473600</td>\n",
       "      <td>3</td>\n",
       "      <td>6</td>\n",
       "      <td>negative</td>\n",
       "      <td>i find this pad to fit okay in the top tray of...</td>\n",
       "      <td>&lt;s&gt; fit but it is not the same pad as come wit...</td>\n",
       "      <td>{'it', 'the', 'but', 'pad', 'fit', 'is', 'come...</td>\n",
       "      <td>8</td>\n",
       "      <td>11</td>\n",
       "      <td>84</td>\n",
       "      <td>...</td>\n",
       "      <td>['pad', 'top', 'tray', 'find', '', '', '', '',...</td>\n",
       "      <td>['top', 'find', 'pad', 'fit', 'tray', 'fluval'...</td>\n",
       "      <td>['pad', 'tray', 'top', 'pad', 'same', 'pad', '...</td>\n",
       "      <td>['fit', 'okay']</td>\n",
       "      <td>12</td>\n",
       "      <td>80.000000</td>\n",
       "      <td>2</td>\n",
       "      <td>fit but it is not the same pad come with the 206</td>\n",
       "      <td>0.200000</td>\n",
       "      <td>0.2625</td>\n",
       "    </tr>\n",
       "    <tr>\n",
       "      <th>611599</th>\n",
       "      <td>1529798400</td>\n",
       "      <td>1</td>\n",
       "      <td>2</td>\n",
       "      <td>negative</td>\n",
       "      <td>as everyone else mention these filter clog inc...</td>\n",
       "      <td>&lt;s&gt; as everyone else mention these filter clog...</td>\n",
       "      <td>{'incredibly', 'everyone', 'as', 'clog', 'else...</td>\n",
       "      <td>7</td>\n",
       "      <td>9</td>\n",
       "      <td>62</td>\n",
       "      <td>...</td>\n",
       "      <td>['filter', 'clog', 'drip', 'slow', 'rate', '',...</td>\n",
       "      <td>['everyone', 'mention', 'clog', 'slow', 'rate']</td>\n",
       "      <td>['clog', 'filter', 'total', 'use', 'day', 'dri...</td>\n",
       "      <td>['filter', 'clog']</td>\n",
       "      <td>9</td>\n",
       "      <td>81.818182</td>\n",
       "      <td>2</td>\n",
       "      <td>as everyone else mention these filter clog inc...</td>\n",
       "      <td>0.333333</td>\n",
       "      <td>0.5000</td>\n",
       "    </tr>\n",
       "  </tbody>\n",
       "</table>\n",
       "<p>5 rows × 21 columns</p>\n",
       "</div>"
      ],
      "text/plain": [
       "         review_ID  rating  vote binaryrating  \\\n",
       "249123  1427760000       3    10     negative   \n",
       "488278  1419811200       5    11     positive   \n",
       "811533  1363737600       3    15     negative   \n",
       "831748  1330473600       3     6     negative   \n",
       "611599  1529798400       1     2     negative   \n",
       "\n",
       "                                                   review  \\\n",
       "249123  the taotronic may be one of the most aesthetic...   \n",
       "488278  easy to assemble 20 min even though there were...   \n",
       "811533  so i purchase this because it look ultra cute ...   \n",
       "831748  i find this pad to fit okay in the top tray of...   \n",
       "611599  as everyone else mention these filter clog inc...   \n",
       "\n",
       "                                                  summary  \\\n",
       "249123   <s> very portable but has substantial issue </s>   \n",
       "488278  <s> we experience almost immediate result this...   \n",
       "811533         <s> i like it but not worth the price </s>   \n",
       "831748  <s> fit but it is not the same pad as come wit...   \n",
       "611599  <s> as everyone else mention these filter clog...   \n",
       "\n",
       "                                                    cheat  cheat_num  overlap  \\\n",
       "249123  {'but', 'portable', 'substantial', 'very', 'has'}          5        5   \n",
       "488278                      {'this', 'is', 'great', 'we'}          4        4   \n",
       "811533                          {'it', 'i', 'the', 'but'}          4        5   \n",
       "831748  {'it', 'the', 'but', 'pad', 'fit', 'is', 'come...          8       11   \n",
       "611599  {'incredibly', 'everyone', 'as', 'clog', 'else...          7        9   \n",
       "\n",
       "        review_len          ...           \\\n",
       "249123         553          ...            \n",
       "488278         164          ...            \n",
       "811533         111          ...            \n",
       "831748          84          ...            \n",
       "611599          62          ...            \n",
       "\n",
       "                                                 POS_keys  \\\n",
       "249123  ['', 'extendable', 'steel', 'manual', 'stainle...   \n",
       "488278  ['', 'new', 'wife', 'restless', 'leg', 'syndro...   \n",
       "811533  ['new', 'doggie', '', '', 'padded', 'siding', ...   \n",
       "831748  ['pad', 'top', 'tray', 'find', '', '', '', '',...   \n",
       "611599  ['filter', 'clog', 'drip', 'slow', 'rate', '',...   \n",
       "\n",
       "                                                 DEP_keys  \\\n",
       "249123  ['feature', 'taotronic', 'be', 'has', 'test', ...   \n",
       "488278  ['min', 'assemble', 'new', 'use', 'attack', 'h...   \n",
       "811533  ['new', 'purchase', 'plush', 'doggie', 'cute',...   \n",
       "831748  ['top', 'find', 'pad', 'fit', 'tray', 'fluval'...   \n",
       "611599    ['everyone', 'mention', 'clog', 'slow', 'rate']   \n",
       "\n",
       "                                            Noun_adj_keys  \\\n",
       "249123  ['stick', 'taotronic', 'selfie', 'own', 'test'...   \n",
       "488278  ['week', 'wife', 'night', 'leg', 'energy', 'ne...   \n",
       "811533  ['doggie', 'new', 'mat', 'wash', 'happy', 'bit...   \n",
       "831748  ['pad', 'tray', 'top', 'pad', 'same', 'pad', '...   \n",
       "611599  ['clog', 'filter', 'total', 'use', 'day', 'dri...   \n",
       "\n",
       "                                            TextRank_keys len_lcs  \\\n",
       "249123  ['phone', 'phones', 'selfie', 'stick', 'app', ...       4   \n",
       "488278         ['min', 'assemble', 'start', 'use', 'leg']       3   \n",
       "811533                          ['look', 'ultra', 'cute']       5   \n",
       "831748                                    ['fit', 'okay']      12   \n",
       "611599                                 ['filter', 'clog']       9   \n",
       "\n",
       "        percent_lcs  overlap_pos  \\\n",
       "249123    50.000000            2   \n",
       "488278    27.272727            2   \n",
       "811533    50.000000            2   \n",
       "831748    80.000000            2   \n",
       "611599    81.818182            2   \n",
       "\n",
       "                                                token_lcs summary_polarity  \\\n",
       "249123                   but has substantial substantial          0.200000   \n",
       "488278                                       we is great          0.800000   \n",
       "811533                                  i it but the the         -0.150000   \n",
       "831748  fit but it is not the same pad come with the 206          0.200000   \n",
       "611599  as everyone else mention these filter clog inc...         0.333333   \n",
       "\n",
       "        summary_subjectivity  \n",
       "249123                0.3000  \n",
       "488278                0.7500  \n",
       "811533                0.1000  \n",
       "831748                0.2625  \n",
       "611599                0.5000  \n",
       "\n",
       "[5 rows x 21 columns]"
      ]
     },
     "execution_count": 6,
     "metadata": {},
     "output_type": "execute_result"
    }
   ],
   "source": [
    "val_df.head()"
   ]
  },
  {
   "cell_type": "code",
   "execution_count": 7,
   "metadata": {},
   "outputs": [
    {
     "name": "stdout",
     "output_type": "stream",
     "text": [
      "True\n"
     ]
    }
   ],
   "source": [
    "import os\n",
    "\n",
    "if os.path.exists('Analay/train_pipeline_df.xlsx'):\n",
    "    print('True')\n",
    "    p_train_df = pd.read_excel('Analay/train_pipeline_df.xlsx')\n",
    "    p_val_df = pd.read_excel('Analay/val_pipeline_df.xlsx')\n",
    "else:    \n",
    "    p_train_df = analay(deepcopy(train_df), 'train')\n",
    "    p_train_df.to_excel('Analay/train_pipeline_df.xlsx', encoding='utf8')\n",
    "\n",
    "    p_val_df = analay(deepcopy(val_df), 'test')\n",
    "    p_val_df.to_excel('Analay/val_pipeline_df.xlsx', encoding='utf8')"
   ]
  },
  {
   "cell_type": "code",
   "execution_count": 8,
   "metadata": {},
   "outputs": [
    {
     "data": {
      "text/html": [
       "<div>\n",
       "<style scoped>\n",
       "    .dataframe tbody tr th:only-of-type {\n",
       "        vertical-align: middle;\n",
       "    }\n",
       "\n",
       "    .dataframe tbody tr th {\n",
       "        vertical-align: top;\n",
       "    }\n",
       "\n",
       "    .dataframe thead th {\n",
       "        text-align: right;\n",
       "    }\n",
       "</style>\n",
       "<table border=\"1\" class=\"dataframe\">\n",
       "  <thead>\n",
       "    <tr style=\"text-align: right;\">\n",
       "      <th></th>\n",
       "      <th>rating</th>\n",
       "      <th>vote</th>\n",
       "      <th>cheat_num</th>\n",
       "      <th>overlap</th>\n",
       "      <th>review_len</th>\n",
       "      <th>summary_len</th>\n",
       "      <th>len_lcs</th>\n",
       "      <th>percent_lcs</th>\n",
       "      <th>overlap_pos</th>\n",
       "      <th>summary_polarity</th>\n",
       "      <th>summary_subjectivity</th>\n",
       "      <th>reveiw_len</th>\n",
       "    </tr>\n",
       "  </thead>\n",
       "  <tbody>\n",
       "    <tr>\n",
       "      <th>count</th>\n",
       "      <td>811290.000000</td>\n",
       "      <td>811290.000000</td>\n",
       "      <td>811290.000000</td>\n",
       "      <td>811290.000000</td>\n",
       "      <td>811290.000000</td>\n",
       "      <td>811290.000000</td>\n",
       "      <td>811290.000000</td>\n",
       "      <td>811290.000000</td>\n",
       "      <td>811290.000000</td>\n",
       "      <td>811290.000000</td>\n",
       "      <td>811290.000000</td>\n",
       "      <td>811290.000000</td>\n",
       "    </tr>\n",
       "    <tr>\n",
       "      <th>mean</th>\n",
       "      <td>3.641745</td>\n",
       "      <td>10.804366</td>\n",
       "      <td>6.366933</td>\n",
       "      <td>7.117907</td>\n",
       "      <td>191.736918</td>\n",
       "      <td>11.478404</td>\n",
       "      <td>6.511284</td>\n",
       "      <td>54.568720</td>\n",
       "      <td>1.557925</td>\n",
       "      <td>0.265480</td>\n",
       "      <td>0.492240</td>\n",
       "      <td>191.736918</td>\n",
       "    </tr>\n",
       "    <tr>\n",
       "      <th>std</th>\n",
       "      <td>1.524361</td>\n",
       "      <td>39.063616</td>\n",
       "      <td>3.165013</td>\n",
       "      <td>3.575878</td>\n",
       "      <td>154.760094</td>\n",
       "      <td>3.709440</td>\n",
       "      <td>4.066999</td>\n",
       "      <td>20.504786</td>\n",
       "      <td>0.848886</td>\n",
       "      <td>0.382833</td>\n",
       "      <td>0.316340</td>\n",
       "      <td>154.760094</td>\n",
       "    </tr>\n",
       "    <tr>\n",
       "      <th>min</th>\n",
       "      <td>1.000000</td>\n",
       "      <td>2.000000</td>\n",
       "      <td>3.000000</td>\n",
       "      <td>3.000000</td>\n",
       "      <td>24.000000</td>\n",
       "      <td>6.000000</td>\n",
       "      <td>1.000000</td>\n",
       "      <td>4.347826</td>\n",
       "      <td>-1.000000</td>\n",
       "      <td>-1.000000</td>\n",
       "      <td>0.000000</td>\n",
       "      <td>24.000000</td>\n",
       "    </tr>\n",
       "    <tr>\n",
       "      <th>25%</th>\n",
       "      <td>2.000000</td>\n",
       "      <td>2.000000</td>\n",
       "      <td>4.000000</td>\n",
       "      <td>5.000000</td>\n",
       "      <td>88.000000</td>\n",
       "      <td>9.000000</td>\n",
       "      <td>4.000000</td>\n",
       "      <td>37.500000</td>\n",
       "      <td>2.000000</td>\n",
       "      <td>0.000000</td>\n",
       "      <td>0.275000</td>\n",
       "      <td>88.000000</td>\n",
       "    </tr>\n",
       "    <tr>\n",
       "      <th>50%</th>\n",
       "      <td>4.000000</td>\n",
       "      <td>4.000000</td>\n",
       "      <td>6.000000</td>\n",
       "      <td>6.000000</td>\n",
       "      <td>139.000000</td>\n",
       "      <td>11.000000</td>\n",
       "      <td>5.000000</td>\n",
       "      <td>50.000000</td>\n",
       "      <td>2.000000</td>\n",
       "      <td>0.250000</td>\n",
       "      <td>0.541667</td>\n",
       "      <td>139.000000</td>\n",
       "    </tr>\n",
       "    <tr>\n",
       "      <th>75%</th>\n",
       "      <td>5.000000</td>\n",
       "      <td>8.000000</td>\n",
       "      <td>8.000000</td>\n",
       "      <td>9.000000</td>\n",
       "      <td>236.000000</td>\n",
       "      <td>13.000000</td>\n",
       "      <td>8.000000</td>\n",
       "      <td>75.000000</td>\n",
       "      <td>2.000000</td>\n",
       "      <td>0.500000</td>\n",
       "      <td>0.750000</td>\n",
       "      <td>236.000000</td>\n",
       "    </tr>\n",
       "    <tr>\n",
       "      <th>max</th>\n",
       "      <td>5.000000</td>\n",
       "      <td>4971.000000</td>\n",
       "      <td>43.000000</td>\n",
       "      <td>50.000000</td>\n",
       "      <td>1000.000000</td>\n",
       "      <td>65.000000</td>\n",
       "      <td>63.000000</td>\n",
       "      <td>96.923077</td>\n",
       "      <td>2.000000</td>\n",
       "      <td>1.000000</td>\n",
       "      <td>1.000000</td>\n",
       "      <td>1000.000000</td>\n",
       "    </tr>\n",
       "  </tbody>\n",
       "</table>\n",
       "</div>"
      ],
      "text/plain": [
       "              rating           vote      cheat_num        overlap  \\\n",
       "count  811290.000000  811290.000000  811290.000000  811290.000000   \n",
       "mean        3.641745      10.804366       6.366933       7.117907   \n",
       "std         1.524361      39.063616       3.165013       3.575878   \n",
       "min         1.000000       2.000000       3.000000       3.000000   \n",
       "25%         2.000000       2.000000       4.000000       5.000000   \n",
       "50%         4.000000       4.000000       6.000000       6.000000   \n",
       "75%         5.000000       8.000000       8.000000       9.000000   \n",
       "max         5.000000    4971.000000      43.000000      50.000000   \n",
       "\n",
       "          review_len    summary_len        len_lcs    percent_lcs  \\\n",
       "count  811290.000000  811290.000000  811290.000000  811290.000000   \n",
       "mean      191.736918      11.478404       6.511284      54.568720   \n",
       "std       154.760094       3.709440       4.066999      20.504786   \n",
       "min        24.000000       6.000000       1.000000       4.347826   \n",
       "25%        88.000000       9.000000       4.000000      37.500000   \n",
       "50%       139.000000      11.000000       5.000000      50.000000   \n",
       "75%       236.000000      13.000000       8.000000      75.000000   \n",
       "max      1000.000000      65.000000      63.000000      96.923077   \n",
       "\n",
       "         overlap_pos  summary_polarity  summary_subjectivity     reveiw_len  \n",
       "count  811290.000000     811290.000000         811290.000000  811290.000000  \n",
       "mean        1.557925          0.265480              0.492240     191.736918  \n",
       "std         0.848886          0.382833              0.316340     154.760094  \n",
       "min        -1.000000         -1.000000              0.000000      24.000000  \n",
       "25%         2.000000          0.000000              0.275000      88.000000  \n",
       "50%         2.000000          0.250000              0.541667     139.000000  \n",
       "75%         2.000000          0.500000              0.750000     236.000000  \n",
       "max         2.000000          1.000000              1.000000    1000.000000  "
      ]
     },
     "execution_count": 8,
     "metadata": {},
     "output_type": "execute_result"
    }
   ],
   "source": [
    "p_train_df['review_ID'] = p_train_df.review_ID.astype(str)\n",
    "p_train_df.describe()"
   ]
  },
  {
   "cell_type": "code",
   "execution_count": 9,
   "metadata": {},
   "outputs": [
    {
     "name": "stdout",
     "output_type": "stream",
     "text": [
      "count    811290.000000\n",
      "mean        191.736918\n",
      "std         154.760094\n",
      "min          24.000000\n",
      "25%          88.000000\n",
      "50%         139.000000\n",
      "75%         236.000000\n",
      "max        1000.000000\n",
      "Name: reveiw_len, dtype: float64\n",
      "reveiw_len < 30 : 5\n",
      "reveiw_len > 500 : 45245\n"
     ]
    },
    {
     "data": {
      "text/plain": [
       "Text(0.5, 1.0, 'reveiw_len')"
      ]
     },
     "execution_count": 9,
     "metadata": {},
     "output_type": "execute_result"
    }
   ],
   "source": [
    "import matplotlib.pyplot as plt\n",
    "\n",
    "hist = p_train_df['reveiw_len'].hist(bins=10)\n",
    "s = p_train_df['reveiw_len'].describe(); print(s)\n",
    "print('reveiw_len < 30 :',len(p_train_df[p_train_df['reveiw_len']<30]))\n",
    "print('reveiw_len > 500 :',len(p_train_df[p_train_df['reveiw_len']>=500])) # # max pos, max_enc_steps \n",
    "plt.ylabel('length')\n",
    "plt.title('reveiw_len')"
   ]
  },
  {
   "cell_type": "code",
   "execution_count": 10,
   "metadata": {},
   "outputs": [
    {
     "name": "stdout",
     "output_type": "stream",
     "text": [
      "summary_len > 30 : 527\n",
      "summary_len <= 5 : 0\n",
      "count    811290.000000\n",
      "mean         11.478404\n",
      "std           3.709440\n",
      "min           6.000000\n",
      "25%           9.000000\n",
      "50%          11.000000\n",
      "75%          13.000000\n",
      "max          65.000000\n",
      "Name: summary_len, dtype: float64\n"
     ]
    },
    {
     "data": {
      "text/plain": [
       "Text(0.5, 1.0, 'summary_len')"
      ]
     },
     "execution_count": 10,
     "metadata": {},
     "output_type": "execute_result"
    },
    {
     "data": {
      "image/png": "[encoded data removed]",
      "text/plain": [
       "<Figure size 432x288 with 1 Axes>"
      ]
     },
     "metadata": {
      "needs_background": "light"
     },
     "output_type": "display_data"
    }
   ],
   "source": [
    "print('summary_len > 30 :',len(p_train_df[p_train_df['summary_len']>30]))  # max_dec_steps\n",
    "print('summary_len <= 5 :',len(p_train_df[p_train_df['summary_len']<6])) # min_dec_steps\n",
    "hist = p_train_df['summary_len'].hist(bins=10)\n",
    "s = p_train_df['summary_len'].describe(); print(s)\n",
    "plt.ylabel('length')\n",
    "plt.title('summary_len')"
   ]
  },
  {
   "cell_type": "markdown",
   "metadata": {},
   "source": [
    "# Rating"
   ]
  },
  {
   "cell_type": "code",
   "execution_count": 13,
   "metadata": {},
   "outputs": [
    {
     "data": {
      "text/plain": [
       "Text(0.5, 1.0, 'Rating')"
      ]
     },
     "execution_count": 13,
     "metadata": {},
     "output_type": "execute_result"
    },
    {
     "data": {
      "image/png": "[encoded data removed]",
      "text/plain": [
       "<Figure size 432x288 with 1 Axes>"
      ]
     },
     "metadata": {
      "needs_background": "light"
     },
     "output_type": "display_data"
    }
   ],
   "source": [
    "hist = p_train_df['rating'].hist(bins=5)\n",
    "# s = p_train_df['vote'].describe(); print(s)\n",
    "plt.ylabel('count')\n",
    "plt.title('Rating')"
   ]
  },
  {
   "cell_type": "markdown",
   "metadata": {},
   "source": [
    "# sentiment"
   ]
  },
  {
   "cell_type": "code",
   "execution_count": 14,
   "metadata": {},
   "outputs": [
    {
     "name": "stdout",
     "output_type": "stream",
     "text": [
      "summary_polarity and summary_subjectivity  > 0 : 543444\n",
      "count    811290.000000\n",
      "mean          0.492240\n",
      "std           0.316340\n",
      "min           0.000000\n",
      "25%           0.275000\n",
      "50%           0.541667\n",
      "75%           0.750000\n",
      "max           1.000000\n",
      "Name: summary_subjectivity, dtype: float64\n"
     ]
    },
    {
     "data": {
      "text/plain": [
       "Text(0.5, 1.0, 'summary_subjectivity')"
      ]
     },
     "execution_count": 14,
     "metadata": {},
     "output_type": "execute_result"
    },
    {
     "data": {
      "image/png": "[encoded data removed]",
      "text/plain": [
       "<Figure size 432x288 with 1 Axes>"
      ]
     },
     "metadata": {
      "needs_background": "light"
     },
     "output_type": "display_data"
    }
   ],
   "source": [
    "print('summary_polarity and summary_subjectivity  > 0 :',len(p_train_df[\n",
    "    (abs(p_train_df['summary_polarity'])>0.1) &\n",
    "    (p_train_df['summary_subjectivity']>0.25)\n",
    "\n",
    "]))  # max_dec_steps\n",
    "# print('summary_len <= 5 :',len(p_train_df[p_train_df['summary_len']<6])) # min_dec_steps\n",
    "\n",
    "hist = p_train_df['summary_subjectivity'].hist(bins=10)\n",
    "s = p_train_df['summary_subjectivity'].describe(); print(s)\n",
    "plt.ylabel('subjectivity')\n",
    "plt.title('summary_subjectivity')"
   ]
  },
  {
   "cell_type": "code",
   "execution_count": 15,
   "metadata": {},
   "outputs": [
    {
     "name": "stdout",
     "output_type": "stream",
     "text": [
      "summary_polarity and summary_subjectivity  > 0 : 543444\n",
      "count    811290.000000\n",
      "mean          0.265480\n",
      "std           0.382833\n",
      "min          -1.000000\n",
      "25%           0.000000\n",
      "50%           0.250000\n",
      "75%           0.500000\n",
      "max           1.000000\n",
      "Name: summary_polarity, dtype: float64\n"
     ]
    },
    {
     "data": {
      "text/plain": [
       "Text(0.5, 1.0, 'summary_polarity')"
      ]
     },
     "execution_count": 15,
     "metadata": {},
     "output_type": "execute_result"
    },
    {
     "data": {
      "image/png": "[encoded data removed]",
      "text/plain": [
       "<Figure size 432x288 with 1 Axes>"
      ]
     },
     "metadata": {
      "needs_background": "light"
     },
     "output_type": "display_data"
    }
   ],
   "source": [
    "print('summary_polarity and summary_subjectivity  > 0 :',len(p_train_df[\n",
    "    (abs(p_train_df['summary_polarity'])>0.1) &\n",
    "    (p_train_df['summary_subjectivity']>0.25)\n",
    "\n",
    "]))  # max_dec_steps\n",
    "# print('summary_len <= 5 :',len(p_train_df[p_train_df['summary_len']<6])) # min_dec_steps\n",
    "\n",
    "hist = p_train_df['summary_polarity'].hist(bins=10)\n",
    "s = p_train_df['summary_polarity'].describe(); print(s)\n",
    "plt.ylabel('polarity')\n",
    "plt.title('summary_polarity')"
   ]
  },
  {
   "cell_type": "markdown",
   "metadata": {},
   "source": [
    "# Prune data length"
   ]
  },
  {
   "cell_type": "code",
   "execution_count": 16,
   "metadata": {},
   "outputs": [
    {
     "name": "stdout",
     "output_type": "stream",
     "text": [
      "reveiw_len <= 500 and summary_len<= 20: 494635\n"
     ]
    }
   ],
   "source": [
    "print('reveiw_len <= 500 and summary_len<= 20:',len(p_train_df[\n",
    "    (p_train_df['reveiw_len']<=500) & (p_train_df['summary_len']<=20) &\n",
    "    (abs(p_train_df['summary_polarity'])>0.1) &\n",
    "    (p_train_df['summary_subjectivity']>0.25)    \n",
    "                                        ]))\n",
    "\n",
    "min_df = p_train_df[\n",
    "    (p_train_df['reveiw_len']<=500) & (p_train_df['summary_len']<=20) &\n",
    "    (abs(p_train_df['summary_polarity'])>0.1) &\n",
    "    (p_train_df['summary_subjectivity']>0.25)    \n",
    "                                        ]\n",
    "\n",
    "# print('reveiw_len > 7000 :',len(p_train_df[p_train_df['reveiw_len']>=700])) # # max pos, max_enc_steps \n",
    "# s = p_train_df['reveiw_len'].describe(); print(s)\n",
    "# s = s.drop(labels = ['count'])\n",
    "# s.plot.bar()\n",
    "# plt.ylabel('length')\n",
    "# plt.title('reveiw_len')\n",
    "# plt.show()"
   ]
  },
  {
   "cell_type": "markdown",
   "metadata": {},
   "source": [
    "# percent_lcs EDA(20 divided)"
   ]
  },
  {
   "cell_type": "code",
   "execution_count": 31,
   "metadata": {},
   "outputs": [
    {
     "name": "stdout",
     "output_type": "stream",
     "text": [
      "count    494635.000000\n",
      "mean         54.642645\n",
      "std          20.875017\n",
      "min           5.882353\n",
      "25%          37.500000\n",
      "50%          50.000000\n",
      "75%          75.000000\n",
      "max          90.000000\n",
      "Name: percent_lcs, dtype: float64\n"
     ]
    },
    {
     "data": {
      "text/plain": [
       "Text(0.5, 1.0, 'percent_lcs')"
      ]
     },
     "execution_count": 31,
     "metadata": {},
     "output_type": "execute_result"
    },
    {
     "data": {
      "image/png": "[encoded data removed]",
      "text/plain": [
       "<Figure size 432x288 with 1 Axes>"
      ]
     },
     "metadata": {
      "needs_background": "light"
     },
     "output_type": "display_data"
    }
   ],
   "source": [
    "hist = min_df['percent_lcs'].hist(bins=5)\n",
    "s = min_df['percent_lcs'].describe(); print(s)\n",
    "plt.ylabel('count')\n",
    "plt.xlabel('percent(%)')\n",
    "plt.title('percent_lcs')"
   ]
  },
  {
   "cell_type": "code",
   "execution_count": 32,
   "metadata": {},
   "outputs": [
    {
     "data": {
      "image/png": "[encoded data removed]",
      "text/plain": [
       "<Figure size 432x288 with 1 Axes>"
      ]
     },
     "metadata": {
      "needs_background": "light"
     },
     "output_type": "display_data"
    }
   ],
   "source": [
    "# 统计学上的四分为函数\n",
    "# 原则上p是可以取0到1之间的任意值的。但是有一个四分位数是p分位数中较为有名的。\n",
    "\n",
    "# 所谓四分位数；即把数值由小到大排列并分成四等份，处于三个分割点位置的数值就是四分位数。\n",
    "\n",
    "# 第1四分位数 (Q1)，又称“较小四分位数”，等于该样本中所有数值由小到大排列后第25%的数字。\n",
    "# 第2四分位数 (Q2)，又称“中位数”，等于该样本中所有数值由小到大排列后第50%的数字。\n",
    "# 第3四分位数 (Q3)，又称“较大四分位数”，等于该样本中所有数值由小到大排列后第75%的数字。\n",
    "# 第3四分位数与第1四分位数的差距又称四分位距（InterQuartile Range,IQR）\n",
    "\n",
    "s = pd.Series({'x < 20':len(min_df[min_df['percent_lcs']<20])/len(min_df)*100, \n",
    "           '20 < x < 40':len(min_df[(min_df['percent_lcs']>20) & (min_df['percent_lcs']<40)])/len(min_df)*100, \n",
    "           '40 < x < 60':len(min_df[(min_df['percent_lcs']>40) & (min_df['percent_lcs']<60)])/len(min_df)*100, \n",
    "           '60 < x < 80':len(min_df[(min_df['percent_lcs']>60) & (min_df['percent_lcs']<80)])/len(min_df)*100, \n",
    "           'x > 80':len(min_df[min_df['percent_lcs']>80])/len(min_df)*100          \n",
    "          })\n",
    "s.plot.bar()\n",
    "plt.ylabel('total(%)')\n",
    "plt.title('percent_lcs EDA(20% divided)')\n",
    "plt.show()"
   ]
  },
  {
   "cell_type": "code",
   "execution_count": 34,
   "metadata": {},
   "outputs": [
    {
     "name": "stdout",
     "output_type": "stream",
     "text": [
      "overlap Top :10.87 %\n",
      "overlap Final :0.00 %\n",
      "overlap Other Pos :35.14 %\n",
      "No overlap :53.99 %\n"
     ]
    },
    {
     "data": {
      "image/png": "[encoded data removed]",
      "text/plain": [
       "<Figure size 432x288 with 1 Axes>"
      ]
     },
     "metadata": {
      "needs_background": "light"
     },
     "output_type": "display_data"
    }
   ],
   "source": [
    "'''\n",
    "overlap => percent_lcs > (50% summary len)\n",
    "overlap_pos : 0 Top\n",
    "overlap_pos : 1 Final\n",
    "overlap_pos : 2 Other Pos\n",
    "overlap_pos : -1 No overlap\n",
    "'''\n",
    "\n",
    "print('overlap Top :%2.2f'% float(len(min_df[(min_df['overlap_pos'] == 0) & (min_df['percent_lcs']>50)])/len(min_df)*100),'%') \n",
    "print('overlap Final :%2.2f'% float(len(min_df[(min_df['overlap_pos'] == 1) & (min_df['percent_lcs']>50)])/len(min_df)*100),'%') \n",
    "print('overlap Other Pos :%2.2f'% float(len(min_df[(min_df['overlap_pos'] == 2) & (min_df['percent_lcs']>50)])/len(min_df)*100),'%') \n",
    "print('No overlap :%2.2f'% float(len(min_df[(min_df['percent_lcs']<=50)])/len(min_df)*100),'%') \n",
    "\n",
    "s = pd.Series({'overlap Top':len(min_df[(min_df['overlap_pos'] == 0) & (min_df['percent_lcs']>50)])/len(min_df)*100, \n",
    "           'overlap Final':len(min_df[(min_df['overlap_pos'] == 1) & (min_df['percent_lcs']>50)])/len(min_df)*100,      \n",
    "           'overlap Other Pos':len(min_df[(min_df['overlap_pos'] == 2) & (min_df['percent_lcs']>50)])/len(min_df)*100,  \n",
    "           'No overlap':len(min_df[(min_df['percent_lcs']<=50)])/len(min_df)*100,  \n",
    "          })\n",
    "s.plot.bar()\n",
    "plt.ylabel('total(%)')\n",
    "plt.title('overlap')\n",
    "plt.show()"
   ]
  },
  {
   "cell_type": "markdown",
   "metadata": {},
   "source": [
    "# Ext/Abs分界(50)"
   ]
  },
  {
   "cell_type": "code",
   "execution_count": 35,
   "metadata": {},
   "outputs": [
    {
     "name": "stdout",
     "output_type": "stream",
     "text": [
      "percent_lcs x > 50  46.01 %\n",
      "percent_lcs x <= 50  53.99 %\n"
     ]
    },
    {
     "data": {
      "image/png": "[encoded data removed]",
      "text/plain": [
       "<Figure size 432x288 with 1 Axes>"
      ]
     },
     "metadata": {
      "needs_background": "light"
     },
     "output_type": "display_data"
    }
   ],
   "source": [
    "print('percent_lcs x > 50  %2.2f'% float(len(min_df[(min_df['percent_lcs']>50)])/len(min_df)*100),'%')  # max_dec_steps\n",
    "print('percent_lcs x <= 50  %2.2f'% float(len(min_df[(min_df['percent_lcs']<=50)])/len(min_df)*100),'%')  # max_dec_steps\n",
    "\n",
    "s = pd.Series({'x > 50':len(min_df[(min_df['percent_lcs']>50)])/len(min_df)*100, \n",
    "           'x < 50':len(min_df[(min_df['percent_lcs']<=50)])/len(min_df)*100,      \n",
    "          })\n",
    "s.plot.bar()\n",
    "plt.ylabel('total(%)')\n",
    "plt.title('percent_lcs')\n",
    "plt.show()"
   ]
  },
  {
   "cell_type": "code",
   "execution_count": 36,
   "metadata": {},
   "outputs": [
    {
     "name": "stdout",
     "output_type": "stream",
     "text": [
      "overlap Top :10.87 %\n",
      "overlap Final :0.00 %\n",
      "overlap Other Pos :35.14 %\n",
      "No overlap :53.99 %\n"
     ]
    },
    {
     "data": {
      "image/png": "[encoded data removed]",
      "text/plain": [
       "<Figure size 432x288 with 1 Axes>"
      ]
     },
     "metadata": {
      "needs_background": "light"
     },
     "output_type": "display_data"
    }
   ],
   "source": [
    "'''\n",
    "overlap => percent_lcs > (50% summary len)\n",
    "overlap_pos : 0 Top\n",
    "overlap_pos : 1 Final\n",
    "overlap_pos : 2 Other Pos\n",
    "overlap_pos : -1 No overlap\n",
    "'''\n",
    "\n",
    "print('overlap Top :%2.2f'% float(len(min_df[(min_df['overlap_pos'] == 0) & (min_df['percent_lcs']>50)])/len(min_df)*100),'%') \n",
    "print('overlap Final :%2.2f'% float(len(min_df[(min_df['overlap_pos'] == 1) & (min_df['percent_lcs']>50)])/len(min_df)*100),'%') \n",
    "print('overlap Other Pos :%2.2f'% float(len(min_df[(min_df['overlap_pos'] == 2) & (min_df['percent_lcs']>50)])/len(min_df)*100),'%') \n",
    "print('No overlap :%2.2f'% float(len(min_df[(min_df['percent_lcs']<=50)])/len(min_df)*100),'%') \n",
    "\n",
    "s = pd.Series({'overlap Top':len(min_df[(min_df['overlap_pos'] == 0) & (min_df['percent_lcs']>50)])/len(min_df)*100, \n",
    "           'overlap Final':len(min_df[(min_df['overlap_pos'] == 1) & (min_df['percent_lcs']>50)])/len(min_df)*100,      \n",
    "           'overlap Other Pos':len(min_df[(min_df['overlap_pos'] == 2) & (min_df['percent_lcs']>50)])/len(min_df)*100,  \n",
    "           'No overlap':len(min_df[(min_df['percent_lcs']<=50)])/len(min_df)*100,  \n",
    "          })\n",
    "s.plot.bar()\n",
    "plt.ylabel('total(%)')\n",
    "plt.title('overlap')\n",
    "plt.show()"
   ]
  },
  {
   "cell_type": "code",
   "execution_count": 38,
   "metadata": {},
   "outputs": [
    {
     "data": {
      "text/plain": [
       "[{'review': 'the knife from the set i get is completely dull with no serration remain . in fact it is not even part of the set each piece has a serial number it is much more used pretty much useless . otherwise it is a nice set and great size .',\n",
       "  'summary': '<s> knife is totally dull could cut a piece of cheese cake i suppose </s>',\n",
       "  'token_lcs': 'knife i dull of ',\n",
       "  'overlap': 7,\n",
       "  'percent_lcs': 26.66666666666667,\n",
       "  'keywords': \"['serration', 'dull', 'much', 'used', 'serial', 'number', 'set', 'great', 'nice', 'size']\"},\n",
       " {'review': 'i love this hoodie so much that i buy in several color . it is make of soft material and the fit is as expect and true to size . when i wash it i lay it out to dry so i do not know of any shrinkage .',\n",
       "  'summary': '<s> soft hoodie warm hoodie warm and cottony happy wearer sleepy wearer purr purr purr </s>',\n",
       "  'token_lcs': 'hoodie and ',\n",
       "  'overlap': 3,\n",
       "  'percent_lcs': 12.5,\n",
       "  'keywords': \"['several', 'hoodie', 'color', 'love', 'material', 'soft', '']\"},\n",
       " {'review': 'nbsp i have no idea how good it is . i put the wrong bolt in because the direction suck and i did not see that there were four bolt in the box . now i can not get it out . check out my video .',\n",
       "  'summary': '<s> make sure you have all the bolt and part in front of you before you start </s>',\n",
       "  'token_lcs': 'have the bolt in in ',\n",
       "  'overlap': 5,\n",
       "  'percent_lcs': 27.77777777777778,\n",
       "  'keywords': \"['', 'wrong', 'bolt', '', '']\"},\n",
       " {'review': 'i absolutely my new phone case it look exactly how it does in the picture . i had it for a few day and everything is still into place no piece come off . go to shop for more soon .',\n",
       "  'summary': '<s> peeerfect phone case ever summer is around the corner perfect to look at </s>',\n",
       "  'token_lcs': 'phone case look to ',\n",
       "  'overlap': 6,\n",
       "  'percent_lcs': 26.66666666666667,\n",
       "  'keywords': \"['new', 'phone', 'case', 'everything', 'still', '']\"},\n",
       " {'review': 'recommend carson binocular from several friend and source . find the professional review on the mark in quality and value . very pleased to have make a purchase with first time quality and no return . al rice 525 14th st . 95540 mm54ushe review code .',\n",
       "  'summary': '<s> best bang for the buck and beyond guarentee to exceed your expectation r1s0ocoaqr7pxo ref </s>',\n",
       "  'token_lcs': 'and and to ',\n",
       "  'overlap': 3,\n",
       "  'percent_lcs': 18.75,\n",
       "  'keywords': \"['several', 'carson', 'friend', 'recommend', 'professional', 'review', 'purchase', 'make', 'first', 'time', 'quality', '', '']\"},\n",
       " {'review': 'bafx product 2 pack anti shock hiking walking trek trail pole 1 pair blue royal blue receive order on time and in good shape all part include in box . exactly what i need for hike on trail in oregon . online setup and usage guide was very helpful .',\n",
       "  'summary': '<s> collapsible pole comfortable grip wrist lanyard include replaceable end for hike on land or snow </s>',\n",
       "  'token_lcs': 'pole on for hike on ',\n",
       "  'overlap': 5,\n",
       "  'percent_lcs': 29.41176470588236,\n",
       "  'keywords': \"['pole', 'good', 'shock', 'trek', 'order', 'shape', 'royal', 'blue', 'trail', 'receive', 'anti', '', 'online', 'setup']\"},\n",
       " {'review': 'this is the worst phone i have ever use in my life . there is a constant buzz on the phone via handset and speakerphone . i could not take it anymore and put my fist through it throw it into the garbage . do not buy this phone .',\n",
       "  'summary': '<s> do not buy this phone complete garbage spend some more buck and get a decent phone </s>',\n",
       "  'token_lcs': 'this phone a phone phone ',\n",
       "  'overlap': 8,\n",
       "  'percent_lcs': 27.77777777777778,\n",
       "  'keywords': \"['', 'constant', 'buzz', '', 'buy', 'phone']\"},\n",
       " {'review': 'fantastic price easy set up no issue or problem whatsoever . i will purchase the dvd player this week and give you an update on the performance . run to cosco and get one while it is still in stock purchase mine on saturday june 8 2013 in s .',\n",
       "  'summary': '<s> super bowl weekend 2017 update vizio die will not power on rip vizio </s>',\n",
       "  'token_lcs': 'will on ',\n",
       "  'overlap': 3,\n",
       "  'percent_lcs': 13.33333333333333,\n",
       "  'keywords': \"['fantastic', 'price', 'dvd', 'purchase', '']\"},\n",
       " {'review': 'i am an independent graphic designer . this printer save me a lot of trip to the print shop and produce print that are adequate to share with client . i am use this printer wirelessly with an macbook pro run an older g4 mini and an iphone 4 .',\n",
       "  'summary': '<s> good quality at a fair price a good buy for a graphic designer </s>',\n",
       "  'token_lcs': 'graphic designer ',\n",
       "  'overlap': 3,\n",
       "  'percent_lcs': 13.33333333333333,\n",
       "  'keywords': \"['graphic', 'designer', 'produce', 'print', 'use', 'printer']\"},\n",
       " {'review': 'if i am go to be out and about on a weekend or evening and know that i might be at a hardware store the beach a mall some place unforeseen these are go to be appropriate . during a heat wave they even go to church with me .',\n",
       "  'summary': '<s> favorite sandal they fit i can wear them everywhere and they are in style at the moment </s>',\n",
       "  'token_lcs': 'i and at the ',\n",
       "  'overlap': 6,\n",
       "  'percent_lcs': 21.05263157894737,\n",
       "  'keywords': \"['be', 'appropriate', '']\"}]"
      ]
     },
     "execution_count": 38,
     "metadata": {},
     "output_type": "execute_result"
    }
   ],
   "source": [
    "def view(df, condition, view_num=10):\n",
    "    package_dict = []\n",
    "    for i in range(view_num):\n",
    "        d1 = dict(min_df[eval(condition)].iloc[i])\n",
    "        d2 = {'review':d1['review'],\n",
    "              'summary':d1['summary'],\n",
    "              'token_lcs':d1['token_lcs'],\n",
    "              'overlap':d1['overlap'],\n",
    "              'percent_lcs':d1['percent_lcs'],\n",
    "              'keywords':d1['POS_keys']            \n",
    "             }\n",
    "        package_dict.append(d2)\n",
    "    return package_dict\n",
    "        \n",
    "# view(min_df, \"(min_df['overlap_pos'] == 2) & (min_df['percent_lcs']<50)\")\n",
    "view(min_df, \"(min_df['review_len']<=50) & (min_df['percent_lcs']<=40) & (min_df['summary_len']>=15)\")"
   ]
  },
  {
   "cell_type": "code",
   "execution_count": 39,
   "metadata": {},
   "outputs": [
    {
     "data": {
      "text/plain": [
       "153759       <s> great radar dectector worth the money </s>\n",
       "450402    <s> great freedive snorkel replace the clip if...\n",
       "636439    <s> if your car does not have bluetooth this i...\n",
       "367298    <s> it wash fine it does what it is suppose to...\n",
       "253468    <s> an absolute must for higher end headphone ...\n",
       "658137    <s> for a cheap holster this thing is great fr...\n",
       "338602    <s> i highly recommend it to anyone who want a...\n",
       "230505     <s> glad i get this and will use it all the </s>\n",
       "262202    <s> for the price the q800 is an excellent val...\n",
       "29112               <s> good binocular at a good price </s>\n",
       "Name: summary, dtype: object"
      ]
     },
     "execution_count": 39,
     "metadata": {},
     "output_type": "execute_result"
    }
   ],
   "source": [
    "dict(min_df[(min_df['overlap_pos'] == 2) & (min_df['percent_lcs']>50)].iloc[0:10])['summary']"
   ]
  },
  {
   "cell_type": "code",
   "execution_count": null,
   "metadata": {},
   "outputs": [],
   "source": []
  }
 ],
 "metadata": {
  "kernelspec": {
   "display_name": "Python 3",
   "language": "python",
   "name": "python3"
  },
  "language_info": {
   "codemirror_mode": {
    "name": "ipython",
    "version": 3
   },
   "file_extension": ".py",
   "mimetype": "text/x-python",
   "name": "python",
   "nbconvert_exporter": "python",
   "pygments_lexer": "ipython3",
   "version": "3.6.7"
  }
 },
 "nbformat": 4,
 "nbformat_minor": 4
}
