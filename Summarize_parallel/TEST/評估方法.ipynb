{
 "cells": [
  {
   "cell_type": "markdown",
   "metadata": {},
   "source": [
    "# Bleu"
   ]
  },
  {
   "cell_type": "code",
   "execution_count": 1,
   "metadata": {},
   "outputs": [
    {
     "name": "stdout",
     "output_type": "stream",
     "text": [
      "0.10000000000000002\n"
     ]
    },
    {
     "name": "stderr",
     "output_type": "stream",
     "text": [
      "D:\\Program\\Anaconda3\\envs\\tensorflow\\lib\\site-packages\\nltk\\translate\\bleu_score.py:516: UserWarning: \n",
      "The hypothesis contains 0 counts of 2-gram overlaps.\n",
      "Therefore the BLEU score evaluates to 0, independently of\n",
      "how many N-gram overlaps of lower order it contains.\n",
      "Consider using lower n-gram order or use SmoothingFunction()\n",
      "  warnings.warn(_msg)\n",
      "D:\\Program\\Anaconda3\\envs\\tensorflow\\lib\\site-packages\\nltk\\translate\\bleu_score.py:516: UserWarning: \n",
      "The hypothesis contains 0 counts of 3-gram overlaps.\n",
      "Therefore the BLEU score evaluates to 0, independently of\n",
      "how many N-gram overlaps of lower order it contains.\n",
      "Consider using lower n-gram order or use SmoothingFunction()\n",
      "  warnings.warn(_msg)\n",
      "D:\\Program\\Anaconda3\\envs\\tensorflow\\lib\\site-packages\\nltk\\translate\\bleu_score.py:516: UserWarning: \n",
      "The hypothesis contains 0 counts of 4-gram overlaps.\n",
      "Therefore the BLEU score evaluates to 0, independently of\n",
      "how many N-gram overlaps of lower order it contains.\n",
      "Consider using lower n-gram order or use SmoothingFunction()\n",
      "  warnings.warn(_msg)\n"
     ]
    }
   ],
   "source": [
    "from nltk.translate.bleu_score import corpus_bleu\n",
    "# help(corpus_bleu)\n",
    "ref = 'the best ski capable rack out there'\n",
    "decoded = 'love the impecca digital photo frame just buy second one'\n",
    "Bleu_1 = corpus_bleu([[ref.split(\" \")]], [decoded.split(\" \")], weights=(1, 0, 0, 0))\n",
    "print(Bleu_1)"
   ]
  },
  {
   "cell_type": "markdown",
   "metadata": {},
   "source": [
    "# Meteor"
   ]
  },
  {
   "cell_type": "code",
   "execution_count": 2,
   "metadata": {},
   "outputs": [
    {
     "data": {
      "text/plain": [
       "0.0684931506849315"
      ]
     },
     "execution_count": 2,
     "metadata": {},
     "output_type": "execute_result"
    }
   ],
   "source": [
    "from nltk.translate.meteor_score import single_meteor_score\n",
    "single_meteor_score(ref, decoded)"
   ]
  },
  {
   "cell_type": "code",
   "execution_count": 3,
   "metadata": {},
   "outputs": [
    {
     "name": "stdout",
     "output_type": "stream",
     "text": [
      "Help on package nltk.translate in nltk:\n",
      "\n",
      "NAME\n",
      "    nltk.translate\n",
      "\n",
      "DESCRIPTION\n",
      "    Experimental features for machine translation.\n",
      "    These interfaces are prone to change.\n",
      "\n",
      "PACKAGE CONTENTS\n",
      "    api\n",
      "    bleu_score\n",
      "    chrf_score\n",
      "    gale_church\n",
      "    gdfa\n",
      "    gleu_score\n",
      "    ibm1\n",
      "    ibm2\n",
      "    ibm3\n",
      "    ibm4\n",
      "    ibm5\n",
      "    ibm_model\n",
      "    meteor_score\n",
      "    metrics\n",
      "    nist_score\n",
      "    phrase_based\n",
      "    ribes_score\n",
      "    stack_decoder\n",
      "\n",
      "FILE\n",
      "    d:\\program\\anaconda3\\envs\\tensorflow\\lib\\site-packages\\nltk\\translate\\__init__.py\n",
      "\n",
      "\n"
     ]
    }
   ],
   "source": [
    "import nltk\n",
    "help(nltk.translate)"
   ]
  },
  {
   "cell_type": "markdown",
   "metadata": {},
   "source": [
    "# TextRank"
   ]
  },
  {
   "cell_type": "code",
   "execution_count": 4,
   "metadata": {},
   "outputs": [],
   "source": [
    "from summa import keywords as TextRank\n",
    "from summa.summarizer import summarize\n",
    "article = '''\n",
    "only had little time use this this just general overview . for technical specification and professional review there always google it . make this review efficient possible will quick and also comparison with other phone you might most interested compare especially the note that replace the iphone plus the since share more than few similarity and even the new upcoming note edge . physical the note basically note hold one before then feel right home . just smidge taller narrower thicker and heavier . but the main thing notice the design difference . look straight down onto the screen side you might not notice much but set down and view all side and see much better difference . like have same car but the 2015 version over the 2014 version first you see any difference until you close and realize the little thing that make really stand out . first all samsung has finally pay attention its best aesthetic competitor htc and follow suit with real aluminum metal chamfer edge and not the fake aluminum the note look great . view from the top and bottom edge and see even more striking design change and upgrade . view from the top edge especially and see what mean . here the first samsung with truly beautiful edge would have never think would say that the very next thing notice once you turn the screen . the was the first qhd screen for america from big company but can say that amole has come long way and now the best the market . the color gamut saturation contrast and black level have always been great but samsung has also come long way term color reproduction and especially make the screen still look great direct sunlight only been two year since the note but samsung has make amazing progress . qhd mean 2560 1440 resolution 515 ppi and the brightest clearest and best screen the planet right now . other notable improvement are processor upgrade exyno and snapdragon processor depend where you buy upgrade gpu for you game aficionado . the note was one the fastest and most powerful for its time and still one the fastest phone right now and yet the note even faster swipe through screen switch between app run dozen app play game they all feel like breeze . upgraded camera 16mp the back the front . you can now record video mode the now make wacom the famous stylus maker . hardware and software improvement have make more usable than ever . samsung get rid the usb charge port the note favor the more universal but improvement have make possible charge the battery from minute . the battery 3220mah from 3200 the note both will get you through whole day moderate usage with bunch spare . never had lower than remain use from with moderate heavy usage . what you should know you already that the screen use the most battery . keep leave and will drain fast especially play game . other big battery hog are leave your gps radio even you are not actively use and app that continually access your phone like you set your email instant retrieval instead every few hour . itself this phone beast many sense the word . but how does compare with the other phone and worthy buy upgrade comparison with the iphone plus you want giant phone the iphone plus very intriguing option . apple person go get this phone just the truth . has beautiful 1080p screen fast and finally apple has phone that all apple lover who have been crave for huge phone have . the apple ecosystem still superior term app and userability . the other hand you like samsung then you should absolutely get the note samsung now has almost perfect big phone and each phone from now will only get better . you will never regret get this phone . the neutral then depend your lifestyle . you just want big phone for everyday use personally think easier use apple phone . everything just right there the learning curve not very steep . but you want more control over your phone and more tech savvy there nothing better than the android ecosystem has the best all world and for those more tech savvy actually easier use than apple phone . user both ecosystem can attest this personally . comparison with the want include the because both share the screen . but the more compact have smaller bezel and smaller screen . you still want big phone but feel the note phone were just tad too big then the has that perfect combination . also has one the best screen the market lcd form has beautiful design and the quality . comparison with the note edge personally for there comparison go get and use the note edge main phone . has smaller screen but that curve and design make unique the most unique and phone for far . some will complain that with that form factor will very hard have case that can fully protect but will just extra careful with it . comparison with the note this might most important comparison because you own note move from the note note was easy for because not had performance issue that note plus the 1080p screen the note 10x better than the 720p note not just resolution but brightness color reproduction legibility etc . the difference from the note the note less pronounce since this size qhd over fhd resolution not pronounce although you put them side side you will notice the difference . advice you resell your note then absolutely upgrade the note you upgrade and have buy the note full price then would say wait until the note what will and get the note edge . itself the samsung galaxy note definite recommendation . upgrade still highly recommend with caveat . will add the review once have use more .\n",
    "'''\n",
    "\n",
    "ref = 'nearly perfect big phone but is it worthy upgrade over your phone'"
   ]
  },
  {
   "cell_type": "code",
   "execution_count": 5,
   "metadata": {},
   "outputs": [
    {
     "data": {
      "text/plain": [
       "'note\\nupgrade\\nupgraded\\nphone\\nuse\\nscreen\\nedge\\nmake\\napple person\\nbig\\ncolor\\nespecially\\ndesign difference\\npersonally\\nterm\\nlike\\nqhd\\ncomparison\\nright\\napp\\naluminum\\nresolution\\ncharge\\nmoderate\\nbattery\\nvideo\\nimprovement\\nlook\\nbeautiful\\nprocessor\\npossible\\ninstant retrieval\\nlcd form\\nstylus maker\\ntaller narrower'"
      ]
     },
     "execution_count": 5,
     "metadata": {},
     "output_type": "execute_result"
    }
   ],
   "source": [
    "TextRank.keywords(article)"
   ]
  },
  {
   "cell_type": "code",
   "execution_count": 6,
   "metadata": {},
   "outputs": [
    {
     "data": {
      "text/plain": [
       "'make this review efficient possible will quick and also comparison with other phone you might most interested compare especially the note that replace the iphone plus the since share more than few similarity and even the new upcoming note edge .'"
      ]
     },
     "execution_count": 6,
     "metadata": {},
     "output_type": "execute_result"
    }
   ],
   "source": [
    "summarize(article, words=30)"
   ]
  },
  {
   "cell_type": "markdown",
   "metadata": {},
   "source": [
    "# Centroid"
   ]
  },
  {
   "cell_type": "code",
   "execution_count": 24,
   "metadata": {},
   "outputs": [
    {
     "name": "stderr",
     "output_type": "stream",
     "text": [
      "D:\\Program\\Anaconda3\\envs\\tensorflow\\lib\\site-packages\\tensorflow\\python\\framework\\dtypes.py:516: FutureWarning: Passing (type, 1) or '1type' as a synonym of type is deprecated; in a future version of numpy, it will be understood as (type, (1,)) / '(1,)type'.\n",
      "  _np_qint8 = np.dtype([(\"qint8\", np.int8, 1)])\n",
      "D:\\Program\\Anaconda3\\envs\\tensorflow\\lib\\site-packages\\tensorflow\\python\\framework\\dtypes.py:517: FutureWarning: Passing (type, 1) or '1type' as a synonym of type is deprecated; in a future version of numpy, it will be understood as (type, (1,)) / '(1,)type'.\n",
      "  _np_quint8 = np.dtype([(\"quint8\", np.uint8, 1)])\n",
      "D:\\Program\\Anaconda3\\envs\\tensorflow\\lib\\site-packages\\tensorflow\\python\\framework\\dtypes.py:518: FutureWarning: Passing (type, 1) or '1type' as a synonym of type is deprecated; in a future version of numpy, it will be understood as (type, (1,)) / '(1,)type'.\n",
      "  _np_qint16 = np.dtype([(\"qint16\", np.int16, 1)])\n",
      "D:\\Program\\Anaconda3\\envs\\tensorflow\\lib\\site-packages\\tensorflow\\python\\framework\\dtypes.py:519: FutureWarning: Passing (type, 1) or '1type' as a synonym of type is deprecated; in a future version of numpy, it will be understood as (type, (1,)) / '(1,)type'.\n",
      "  _np_quint16 = np.dtype([(\"quint16\", np.uint16, 1)])\n",
      "D:\\Program\\Anaconda3\\envs\\tensorflow\\lib\\site-packages\\tensorflow\\python\\framework\\dtypes.py:520: FutureWarning: Passing (type, 1) or '1type' as a synonym of type is deprecated; in a future version of numpy, it will be understood as (type, (1,)) / '(1,)type'.\n",
      "  _np_qint32 = np.dtype([(\"qint32\", np.int32, 1)])\n",
      "D:\\Program\\Anaconda3\\envs\\tensorflow\\lib\\site-packages\\tensorflow\\python\\framework\\dtypes.py:525: FutureWarning: Passing (type, 1) or '1type' as a synonym of type is deprecated; in a future version of numpy, it will be understood as (type, (1,)) / '(1,)type'.\n",
      "  np_resource = np.dtype([(\"resource\", np.ubyte, 1)])\n"
     ]
    },
    {
     "data": {
      "text/plain": [
       "'../Train-Data/Cameras/Embedding/word2Vec/word2Vec.300d.txt'"
      ]
     },
     "execution_count": 24,
     "metadata": {},
     "output_type": "execute_result"
    }
   ],
   "source": [
    "from utils import config\n",
    "from utils.seq2seq import data\n",
    "\n",
    "from utils.seq2seq.batcher import *\n",
    "\n",
    "from utils.seq2seq.train_util import *\n",
    "from utils.seq2seq.rl_util import *\n",
    "from utils.seq2seq.initialize import loadCheckpoint, save_model\n",
    "from utils.seq2seq.write_result import *\n",
    "from datetime import datetime as dt\n",
    "from tqdm import tqdm\n",
    "from translate.seq2seq_beam import *\n",
    "from tensorboardX import SummaryWriter\n",
    "import argparse\n",
    "from utils.seq2seq.rl_util import *\n",
    "from torch.distributions import Categorical\n",
    "\n",
    "import os\n",
    "os.environ[\"CUDA_VISIBLE_DEVICES\"] = \"0\"\n",
    "\n",
    "os.environ['CUDA_LAUNCH_BLOCKING'] = \"1\" \n",
    "\n",
    "parser = argparse.ArgumentParser()\n",
    "parser.add_argument('--key_attention', type=bool, default=False, help = 'True/False')\n",
    "parser.add_argument('--intra_encoder', type=bool, default=False, help = 'True/False')\n",
    "parser.add_argument('--intra_decoder', type=bool, default=False, help = 'True/False')\n",
    "parser.add_argument('--copy', type=bool, default=True, help = 'True/False') # for transformer\n",
    "\n",
    "parser.add_argument('--model_type', type=str, default='seq2seq', choices=['seq2seq', 'transformer'])\n",
    "parser.add_argument('--train_rl', type=bool, default=False, help = 'True/False')\n",
    "parser.add_argument('--keywords', type=str, default='POS_keys', \n",
    "                    help = 'POS_keys / DEP_keys / Noun_adj_keys / TextRank_keys')\n",
    "\n",
    "parser.add_argument('--lr', type=float, default=0.0001)\n",
    "parser.add_argument('--rand_unif_init_mag', type=float, default=0.02)\n",
    "parser.add_argument('--trunc_norm_init_std', type=float, default=0.001)\n",
    "parser.add_argument('--mle_weight', type=float, default=1.0)\n",
    "parser.add_argument('--gound_truth_prob', type=float, default=0.1)\n",
    "\n",
    "parser.add_argument('--max_enc_steps', type=int, default=500)\n",
    "parser.add_argument('--max_dec_steps', type=int, default=20)\n",
    "parser.add_argument('--min_dec_steps', type=int, default=5)\n",
    "parser.add_argument('--max_epochs', type=int, default=15)\n",
    "parser.add_argument('--vocab_size', type=int, default=50000)\n",
    "parser.add_argument('--beam_size', type=int, default=5)\n",
    "parser.add_argument('--batch_size', type=int, default=8)\n",
    "\n",
    "parser.add_argument('--hidden_dim', type=int, default=512)\n",
    "parser.add_argument('--emb_dim', type=int, default=300)\n",
    "parser.add_argument('--gradient_accum', type=int, default=1)\n",
    "\n",
    "parser.add_argument('--load_ckpt', type=str, default=None, help='0002000')\n",
    "parser.add_argument('--word_emb_type', type=str, default='word2Vec', help='word2Vec/glove/FastText')\n",
    "parser.add_argument('--pre_train_emb', type=bool, default=True, help = 'True/False') # 若pre_train_emb為false, 則emb type為NoPretrain\n",
    "\n",
    "\n",
    "opt = parser.parse_args(args=[])\n",
    "config = re_config(opt)\n"
   ]
  },
  {
   "cell_type": "markdown",
   "metadata": {},
   "source": [
    "# Centroid - tfidf"
   ]
  },
  {
   "cell_type": "code",
   "execution_count": 32,
   "metadata": {},
   "outputs": [
    {
     "name": "stdout",
     "output_type": "stream",
     "text": [
      "../Train-Data/Cameras/Embedding/word2Vec/word2Vec.300d.txt\n",
      "CENTROIDE MODE: tfidf\n"
     ]
    }
   ],
   "source": [
    "# text: string to summarize\n",
    "# summary_length:\n",
    "# if k < 1 then summarize k% of the original text\n",
    "# else if k >= 1 choose the k most relevant sentences of the original text\n",
    "\n",
    "# query_based_token: It's a list.\n",
    "# If you don't like tfidf/lda methods to generate summary, \n",
    "# give us your relevant token and we try to generate the summary based on them (example: [\"music\", \"rock\"]). \n",
    "# If this list is full, centroid_mode param will be ignored.\n",
    "\n",
    "from CentroidSummarizer import summarizer\n",
    "model_path = config.word_emb_path\n",
    "s = summarizer.Summarizer(model_path=model_path)\n",
    "\n",
    "summary, text_error, boolean_error = s.summarize(text=article, summary_length=1, query_based_token=[])\n"
   ]
  },
  {
   "cell_type": "code",
   "execution_count": 33,
   "metadata": {},
   "outputs": [
    {
     "name": "stdout",
     "output_type": "stream",
     "text": [
      "summary the other hand you like samsung then you should absolutely get the note samsung now has almost perfect big phone and each phone from now will only get better .\n",
      "text_error \n",
      "boolean_error False\n"
     ]
    }
   ],
   "source": [
    "print('summary',summary)\n",
    "print('text_error',text_error)\n",
    "print('boolean_error',boolean_error)"
   ]
  },
  {
   "cell_type": "markdown",
   "metadata": {},
   "source": [
    "# Centroid - query_based"
   ]
  },
  {
   "cell_type": "code",
   "execution_count": 30,
   "metadata": {},
   "outputs": [
    {
     "name": "stdout",
     "output_type": "stream",
     "text": [
      "CENTROIDE MODE: query_based\n"
     ]
    },
    {
     "data": {
      "text/plain": [
       "'the color gamut saturation contrast and black level have always been great but samsung has also come long way term color reproduction and especially make the screen still look great direct sunlight only been two year since the note but samsung has make amazing progress .'"
      ]
     },
     "execution_count": 30,
     "metadata": {},
     "output_type": "execute_result"
    }
   ],
   "source": [
    "summary_query_based, text_error_query_based, boolean_error_query_based = s.summarize(text=article, summary_length=1, query_based_token=[\"great\"])\n",
    "summary_query_based"
   ]
  },
  {
   "cell_type": "code",
   "execution_count": 31,
   "metadata": {},
   "outputs": [],
   "source": [
    "# only had little time use this this just general overview . for technical specification and professional review there always google it . make this review efficient possible will quick and also comparison with other phone you might most interested compare especially the note that replace the iphone plus the since share more than few similarity and even the new upcoming note edge . physical the note basically note hold one before then feel right home . just smidge taller narrower thicker and heavier . but the main thing notice the design difference . look straight down onto the screen side you might not notice much but set down and view all side and see much better difference . like have same car but the 2015 version over the 2014 version first you see any difference until you close and realize the little thing that make really stand out . first all samsung has finally pay attention its best aesthetic competitor htc and follow suit with real aluminum metal chamfer edge and not the fake aluminum the note look great . view from the top and bottom edge and see even more striking design change and upgrade . view from the top edge especially and see what mean . here the first samsung with truly beautiful edge would have never think would say that the very next thing notice once you turn the screen . the was the first qhd screen for america from big company but can say that amole has come long way and now the best the market . the color gamut saturation contrast and black level have always been great but samsung has also come long way term color reproduction and especially make the screen still look great direct sunlight only been two year since the note but samsung has make amazing progress . qhd mean 2560 1440 resolution 515 ppi and the brightest clearest and best screen the planet right now . other notable improvement are processor upgrade exyno and snapdragon processor depend where you buy upgrade gpu for you game aficionado . the note was one the fastest and most powerful for its time and still one the fastest phone right now and yet the note even faster swipe through screen switch between app run dozen app play game they all feel like breeze . upgraded camera 16mp the back the front . you can now record video mode the now make wacom the famous stylus maker . hardware and software improvement have make more usable than ever . samsung get rid the usb charge port the note favor the more universal but improvement have make possible charge the battery from minute . the battery 3220mah from 3200 the note both will get you through whole day moderate usage with bunch spare . never had lower than remain use from with moderate heavy usage . what you should know you already that the screen use the most battery . keep leave and will drain fast especially play game . other big battery hog are leave your gps radio even you are not actively use and app that continually access your phone like you set your email instant retrieval instead every few hour . itself this phone beast many sense the word . but how does compare with the other phone and worthy buy upgrade comparison with the iphone plus you want giant phone the iphone plus very intriguing option . apple person go get this phone just the truth . has beautiful 1080p screen fast and finally apple has phone that all apple lover who have been crave for huge phone have . the apple ecosystem still superior term app and userability . the other hand you like samsung then you should absolutely get the note samsung now has almost perfect big phone and each phone from now will only get better . you will never regret get this phone . the neutral then depend your lifestyle . you just want big phone for everyday use personally think easier use apple phone . everything just right there the learning curve not very steep . but you want more control over your phone and more tech savvy there nothing better than the android ecosystem has the best all world and for those more tech savvy actually easier use than apple phone . user both ecosystem can attest this personally . comparison with the want include the because both share the screen . but the more compact have smaller bezel and smaller screen . you still want big phone but feel the note phone were just tad too big then the has that perfect combination . also has one the best screen the market lcd form has beautiful design and the quality . comparison with the note edge personally for there comparison go get and use the note edge main phone . has smaller screen but that curve and design make unique the most unique and phone for far . some will complain that with that form factor will very hard have case that can fully protect but will just extra careful with it . comparison with the note this might most important comparison because you own note move from the note note was easy for because not had performance issue that note plus the 1080p screen the note 10x better than the 720p note not just resolution but brightness color reproduction legibility etc . the difference from the note the note less pronounce since this size qhd over fhd resolution not pronounce although you put them side side you will notice the difference . advice you resell your note then absolutely upgrade the note you upgrade and have buy the note full price then would say wait until the note what will and get the note edge . itself the samsung galaxy note definite recommendation . upgrade still highly recommend with caveat . will add the review once have use more ."
   ]
  },
  {
   "cell_type": "code",
   "execution_count": null,
   "metadata": {},
   "outputs": [],
   "source": []
  }
 ],
 "metadata": {
  "kernelspec": {
   "display_name": "Python 3",
   "language": "python",
   "name": "python3"
  },
  "language_info": {
   "codemirror_mode": {
    "name": "ipython",
    "version": 3
   },
   "file_extension": ".py",
   "mimetype": "text/x-python",
   "name": "python",
   "nbconvert_exporter": "python",
   "pygments_lexer": "ipython3",
   "version": "3.6.7"
  }
 },
 "nbformat": 4,
 "nbformat_minor": 4
}
