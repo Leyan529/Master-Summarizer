{
 "cells": [
  {
   "cell_type": "code",
   "execution_count": 1,
   "metadata": {},
   "outputs": [
    {
     "name": "stderr",
     "output_type": "stream",
     "text": [
      "I0424 10:16:59.053524 139653603854144 file_utils.py:35] PyTorch version 1.4.0 available.\n",
      "2020-04-24 10:16:59 - Pointer_generator_word2Vec - INFO: - logger已啟動\n",
      "I0424 10:16:59.892058 139653603854144 train_util.py:102] logger已啟動\n"
     ]
    }
   ],
   "source": [
    "from utils import config, data\n",
    "from utils.seq2seq.batcher import *\n",
    "from utils.seq2seq.train_util import *\n",
    "from utils.seq2seq.rl_util import *\n",
    "from utils.seq2seq.initialize import loadCheckpoint, save_model\n",
    "from utils.seq2seq.write_result import *\n",
    "from datetime import datetime as dt\n",
    "from tqdm import tqdm\n",
    "from translate.seq2seq_beam import *\n",
    "from tensorboardX import SummaryWriter\n",
    "import argparse\n",
    "from utils.seq2seq.rl_util import *\n",
    "from torch.distributions import Categorical\n",
    "\n",
    "import os\n",
    "os.environ[\"CUDA_VISIBLE_DEVICES\"] = \"1\"\n",
    "\n",
    "os.environ['CUDA_LAUNCH_BLOCKING'] = \"1\" \n",
    "\n",
    "parser = argparse.ArgumentParser()\n",
    "parser.add_argument('--key_attention', type=bool, default=False, help = 'True/False')\n",
    "parser.add_argument('--intra_encoder', type=bool, default=False, help = 'True/False')\n",
    "parser.add_argument('--intra_decoder', type=bool, default=False, help = 'True/False')\n",
    "parser.add_argument('--copy', type=bool, default=True, help = 'True/False') # for transformer\n",
    "\n",
    "parser.add_argument('--model_type', type=str, default='seq2seq', choices=['seq2seq', 'transformer'])\n",
    "parser.add_argument('--train_rl', type=bool, default=False, help = 'True/False')\n",
    "parser.add_argument('--keywords', type=str, default='POS_keys', \n",
    "                    help = 'POS_keys / DEP_keys / Noun_adj_keys / TextRank_keys')\n",
    "\n",
    "parser.add_argument('--lr', type=float, default=0.0001)\n",
    "parser.add_argument('--rand_unif_init_mag', type=float, default=0.02)\n",
    "parser.add_argument('--trunc_norm_init_std', type=float, default=0.001)\n",
    "parser.add_argument('--mle_weight', type=float, default=1.0)\n",
    "parser.add_argument('--gound_truth_prob', type=float, default=0.5)\n",
    "\n",
    "parser.add_argument('--max_enc_steps', type=int, default=500)\n",
    "parser.add_argument('--max_dec_steps', type=int, default=20)\n",
    "parser.add_argument('--min_dec_steps', type=int, default=6)\n",
    "parser.add_argument('--max_epochs', type=int, default=15)\n",
    "parser.add_argument('--vocab_size', type=int, default=50000)\n",
    "parser.add_argument('--beam_size', type=int, default=5)\n",
    "parser.add_argument('--batch_size', type=int, default=8)\n",
    "\n",
    "parser.add_argument('--hidden_dim', type=int, default=512)\n",
    "parser.add_argument('--emb_dim', type=int, default=300)\n",
    "parser.add_argument('--gradient_accum', type=int, default=1)\n",
    "\n",
    "parser.add_argument('--load_ckpt', type=str, default='0760000', help='0002000')\n",
    "parser.add_argument('--word_emb_type', type=str, default='word2Vec', help='word2Vec/glove/FastText')\n",
    "parser.add_argument('--pre_train_emb', type=bool, default=True, help = 'True/False') # 若pre_train_emb為false, 則emb type為NoPretrain\n",
    "\n",
    "\n",
    "opt = parser.parse_args(args=[])\n",
    "config = re_config(opt)\n",
    "loggerName, writerPath = getName(config)    \n",
    "logger = getLogger(loggerName)\n",
    "writer = SummaryWriter(writerPath)"
   ]
  },
  {
   "cell_type": "code",
   "execution_count": 2,
   "metadata": {},
   "outputs": [
    {
     "name": "stderr",
     "output_type": "stream",
     "text": [
      "2020-04-24 10:17:16 - Pointer_generator_word2Vec - INFO: - train : 119524, test : 13281\n",
      "I0424 10:17:16.826524 139653603854144 batcher.py:174] train : 119524, test : 13281\n",
      "2020-04-24 10:17:16 - Pointer_generator_word2Vec - INFO: - train batches : 14940, test batches : 1660\n",
      "I0424 10:17:16.886122 139653603854144 batcher.py:185] train batches : 14940, test batches : 1660\n"
     ]
    }
   ],
   "source": [
    "total_df = getDataLoader(logger, config)[-1]"
   ]
  },
  {
   "cell_type": "code",
   "execution_count": 3,
   "metadata": {},
   "outputs": [
    {
     "name": "stderr",
     "output_type": "stream",
     "text": [
      "row 118171 :  89%|████████▉ | 118172/132805 [05:18<00:33, 436.05it/s]IOPub message rate exceeded.\n",
      "The notebook server will temporarily stop sending output\n",
      "to the client in order to avoid crashing it.\n",
      "To change this limit, set the config variable\n",
      "`--NotebookApp.iopub_msg_rate_limit`.\n",
      "\n",
      "Current values:\n",
      "NotebookApp.iopub_msg_rate_limit=1000.0 (msgs/sec)\n",
      "NotebookApp.rate_limit_window=3.0 (secs)\n",
      "\n",
      "row 129943 :  98%|█████████▊| 129944/132805 [05:49<00:08, 355.85it/s]IOPub message rate exceeded.\n",
      "The notebook server will temporarily stop sending output\n",
      "to the client in order to avoid crashing it.\n",
      "To change this limit, set the config variable\n",
      "`--NotebookApp.iopub_msg_rate_limit`.\n",
      "\n",
      "Current values:\n",
      "NotebookApp.iopub_msg_rate_limit=1000.0 (msgs/sec)\n",
      "NotebookApp.rate_limit_window=3.0 (secs)\n",
      "\n"
     ]
    }
   ],
   "source": [
    "with tqdm(total=len(total_df)) as pbar:\n",
    "    for i ,row in total_df.iterrows():        \n",
    "        pbar.update(1)\n",
    "        pbar.set_description(\"row %s \" % (i))\n",
    "\n",
    "        art_set = row['review'].strip().split(' ')        \n",
    "        ref_set = row['summary'].strip().split(' ')\n",
    "        overlap = set(art_set) & set(ref_set)\n",
    "        total_df.loc[i, 'overlap'] = len(overlap)\n",
    "\n",
    "\n",
    "total_df.head()\n",
    "total_df.describe()"
   ]
  },
  {
   "cell_type": "code",
   "execution_count": 9,
   "metadata": {},
   "outputs": [
    {
     "data": {
      "text/html": [
       "<div>\n",
       "<style scoped>\n",
       "    .dataframe tbody tr th:only-of-type {\n",
       "        vertical-align: middle;\n",
       "    }\n",
       "\n",
       "    .dataframe tbody tr th {\n",
       "        vertical-align: top;\n",
       "    }\n",
       "\n",
       "    .dataframe thead th {\n",
       "        text-align: right;\n",
       "    }\n",
       "</style>\n",
       "<table border=\"1\" class=\"dataframe\">\n",
       "  <thead>\n",
       "    <tr style=\"text-align: right;\">\n",
       "      <th></th>\n",
       "      <th>review</th>\n",
       "      <th>summary</th>\n",
       "      <th>cheat</th>\n",
       "      <th>cheat_num</th>\n",
       "      <th>lemm_review_len</th>\n",
       "      <th>lemm_summary_len</th>\n",
       "      <th>POS_keys</th>\n",
       "      <th>DEP_keys</th>\n",
       "      <th>TextRank_keywords</th>\n",
       "      <th>overlap</th>\n",
       "    </tr>\n",
       "  </thead>\n",
       "  <tbody>\n",
       "    <tr>\n",
       "      <th>22919</th>\n",
       "      <td>. although should thank amazon warehouse for f...</td>\n",
       "      <td>&lt;s&gt; after year of drag foot this tv make me ju...</td>\n",
       "      <td>{'tv', 'year', 'hd'}</td>\n",
       "      <td>3</td>\n",
       "      <td>1000</td>\n",
       "      <td>14</td>\n",
       "      <td>pair mine,class nbsp,speed high,class nbsp,ite...</td>\n",
       "      <td>avsfourm great,inventory list,avsfourm great,i...</td>\n",
       "      <td>use nbsp light mount mounting regard picture u...</td>\n",
       "      <td>7.0</td>\n",
       "    </tr>\n",
       "    <tr>\n",
       "      <th>100978</th>\n",
       "      <td>div class div input type hide name value class...</td>\n",
       "      <td>&lt;s&gt; nice look and highly portable battery that...</td>\n",
       "      <td>{'nice', 'battery', 'efficiency'}</td>\n",
       "      <td>3</td>\n",
       "      <td>1000</td>\n",
       "      <td>14</td>\n",
       "      <td>phone flip,unit video,cable proper,button pres...</td>\n",
       "      <td>phone small,phone flip,cable proper,phone smar...</td>\n",
       "      <td>charging device charge battery pack testing ma...</td>\n",
       "      <td>7.0</td>\n",
       "    </tr>\n",
       "    <tr>\n",
       "      <th>29057</th>\n",
       "      <td>note please see the comment section for the li...</td>\n",
       "      <td>&lt;s&gt; the new tamron mm macro vc is winner side ...</td>\n",
       "      <td>{'winner', 'tamron', 'macro', 'mm'}</td>\n",
       "      <td>4</td>\n",
       "      <td>999</td>\n",
       "      <td>14</td>\n",
       "      <td>customer reveal,review discuss,lense macro,qua...</td>\n",
       "      <td>offer model,offer lense,nikon canon,sony canon...</td>\n",
       "      <td>image canon focus mm macro lense lens tamron c...</td>\n",
       "      <td>6.0</td>\n",
       "    </tr>\n",
       "    <tr>\n",
       "      <th>24114</th>\n",
       "      <td>handsome camera with vintage vibe the harken b...</td>\n",
       "      <td>&lt;s&gt; vintage vibe precision build great image &lt;/s&gt;</td>\n",
       "      <td>{'vibe', 'great', 'vintage', 'image'}</td>\n",
       "      <td>4</td>\n",
       "      <td>999</td>\n",
       "      <td>8</td>\n",
       "      <td>camera handsome,vibe vintage,grip thin,pack co...</td>\n",
       "      <td>camera handsome,vibe vintage,grip thin,grip la...</td>\n",
       "      <td>camera olympus use lcd iso dial evf evfs batte...</td>\n",
       "      <td>4.0</td>\n",
       "    </tr>\n",
       "    <tr>\n",
       "      <th>80518</th>\n",
       "      <td>after much research buy the concept2 model row...</td>\n",
       "      <td>&lt;s&gt; concept model has advantage over bodycraft...</td>\n",
       "      <td>{'model', 'advantage', 'bodycraft'}</td>\n",
       "      <td>3</td>\n",
       "      <td>999</td>\n",
       "      <td>9</td>\n",
       "      <td>follow compare,ymca local,wind 2nd,monitor pol...</td>\n",
       "      <td>ymca local,store 2nd,software rowpro,concept2 ...</td>\n",
       "      <td>concept online row rowing market marketing row...</td>\n",
       "      <td>4.0</td>\n",
       "    </tr>\n",
       "  </tbody>\n",
       "</table>\n",
       "</div>"
      ],
      "text/plain": [
       "                                                   review  \\\n",
       "22919   . although should thank amazon warehouse for f...   \n",
       "100978  div class div input type hide name value class...   \n",
       "29057   note please see the comment section for the li...   \n",
       "24114   handsome camera with vintage vibe the harken b...   \n",
       "80518   after much research buy the concept2 model row...   \n",
       "\n",
       "                                                  summary  \\\n",
       "22919   <s> after year of drag foot this tv make me ju...   \n",
       "100978  <s> nice look and highly portable battery that...   \n",
       "29057   <s> the new tamron mm macro vc is winner side ...   \n",
       "24114   <s> vintage vibe precision build great image </s>   \n",
       "80518   <s> concept model has advantage over bodycraft...   \n",
       "\n",
       "                                        cheat  cheat_num  lemm_review_len  \\\n",
       "22919                    {'tv', 'year', 'hd'}          3             1000   \n",
       "100978      {'nice', 'battery', 'efficiency'}          3             1000   \n",
       "29057     {'winner', 'tamron', 'macro', 'mm'}          4              999   \n",
       "24114   {'vibe', 'great', 'vintage', 'image'}          4              999   \n",
       "80518     {'model', 'advantage', 'bodycraft'}          3              999   \n",
       "\n",
       "        lemm_summary_len                                   POS_keys  \\\n",
       "22919                 14  pair mine,class nbsp,speed high,class nbsp,ite...   \n",
       "100978                14  phone flip,unit video,cable proper,button pres...   \n",
       "29057                 14  customer reveal,review discuss,lense macro,qua...   \n",
       "24114                  8  camera handsome,vibe vintage,grip thin,pack co...   \n",
       "80518                  9  follow compare,ymca local,wind 2nd,monitor pol...   \n",
       "\n",
       "                                         DEP_keys  \\\n",
       "22919   avsfourm great,inventory list,avsfourm great,i...   \n",
       "100978  phone small,phone flip,cable proper,phone smar...   \n",
       "29057   offer model,offer lense,nikon canon,sony canon...   \n",
       "24114   camera handsome,vibe vintage,grip thin,grip la...   \n",
       "80518   ymca local,store 2nd,software rowpro,concept2 ...   \n",
       "\n",
       "                                        TextRank_keywords  overlap  \n",
       "22919   use nbsp light mount mounting regard picture u...      7.0  \n",
       "100978  charging device charge battery pack testing ma...      7.0  \n",
       "29057   image canon focus mm macro lense lens tamron c...      6.0  \n",
       "24114   camera olympus use lcd iso dial evf evfs batte...      4.0  \n",
       "80518   concept online row rowing market marketing row...      4.0  "
      ]
     },
     "execution_count": 9,
     "metadata": {},
     "output_type": "execute_result"
    }
   ],
   "source": [
    "total_df = total_df.sort_values(by=['lemm_review_len','overlap'], ascending = False)\n",
    "total_df.head()"
   ]
  },
  {
   "cell_type": "code",
   "execution_count": 10,
   "metadata": {},
   "outputs": [],
   "source": [
    "train_df, val_df = train_test_split(total_df, test_size=0.1, \n",
    "                                    random_state=0, shuffle=True)"
   ]
  },
  {
   "cell_type": "code",
   "execution_count": 17,
   "metadata": {},
   "outputs": [
    {
     "data": {
      "text/plain": [
       "0.270774070479569"
      ]
     },
     "execution_count": 17,
     "metadata": {},
     "output_type": "execute_result"
    }
   ],
   "source": [
    "len(train_df[train_df['overlap']>5])/len(train_df)"
   ]
  },
  {
   "cell_type": "code",
   "execution_count": 18,
   "metadata": {},
   "outputs": [
    {
     "data": {
      "text/plain": [
       "0.2754310669377306"
      ]
     },
     "execution_count": 18,
     "metadata": {},
     "output_type": "execute_result"
    }
   ],
   "source": [
    "len(val_df[val_df['overlap']>5])/len(val_df)"
   ]
  },
  {
   "cell_type": "code",
   "execution_count": null,
   "metadata": {},
   "outputs": [],
   "source": []
  }
 ],
 "metadata": {
  "kernelspec": {
   "display_name": "Python 3",
   "language": "python",
   "name": "python3"
  },
  "language_info": {
   "codemirror_mode": {
    "name": "ipython",
    "version": 3
   },
   "file_extension": ".py",
   "mimetype": "text/x-python",
   "name": "python",
   "nbconvert_exporter": "python",
   "pygments_lexer": "ipython3",
   "version": "3.6.7"
  }
 },
 "nbformat": 4,
 "nbformat_minor": 4
}
