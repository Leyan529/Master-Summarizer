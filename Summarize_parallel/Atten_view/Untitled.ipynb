{
 "cells": [
  {
   "cell_type": "code",
   "execution_count": 1,
   "metadata": {},
   "outputs": [],
   "source": [
    "import pandas as pd\n",
    "pro_df = pd.read_excel('/home/eagleuser/Users/leyan/Train-Data/Mix6_mainCat_Ekphrasis_new/pro_review.xlsx')\n"
   ]
  },
  {
   "cell_type": "code",
   "execution_count": 2,
   "metadata": {},
   "outputs": [
    {
     "data": {
      "text/plain": [
       "'the mics quality be okay but i try use it with my i river mp player and my computer and i get that really annoy white noise in the background all the time it be really loud . before you buy it check out some sample recording on the internet if you be interested in high quality .'"
      ]
     },
     "execution_count": 2,
     "metadata": {},
     "output_type": "execute_result"
    }
   ],
   "source": [
    "idx = 0\n",
    "pro_df[(pro_df['review_len']<=70)][['review','summary','review_len']].iloc[idx]['review']\n"
   ]
  },
  {
   "cell_type": "code",
   "execution_count": 3,
   "metadata": {},
   "outputs": [
    {
     "data": {
      "text/plain": [
       "'<s> quality okay but annoy white noise </s>'"
      ]
     },
     "execution_count": 3,
     "metadata": {},
     "output_type": "execute_result"
    }
   ],
   "source": [
    "pro_df[(pro_df['review_len']<=70)][['review','summary','review_len']].iloc[idx]['summary']\n"
   ]
  },
  {
   "cell_type": "code",
   "execution_count": 4,
   "metadata": {},
   "outputs": [
    {
     "name": "stdout",
     "output_type": "stream",
     "text": [
      "negative\n",
      "2.0\n",
      "0.25\n",
      "0.25\n",
      "True\n",
      "['mp', 'computer', 'noise', 'quality', 'mics', 'player', 'annoy', 'background', 'river', 'time', 'okay', 'loud', 'white', 'internet', 'recording', 'quality', 'sample', 'interested', 'high']\n"
     ]
    }
   ],
   "source": [
    "print(pro_df[(pro_df['review_len']<=70)][['summary_polarity','summary_subjectivity','binaryrating']].iloc[0]['binaryrating'])\n",
    "print(pro_df[(pro_df['review_len']<=70)][['summary_polarity','summary_subjectivity','rating']].iloc[0]['rating'])\n",
    "print(pro_df[(pro_df['review_len']<=70)][['summary_polarity','summary_subjectivity','summary_conflict']].iloc[0]['summary_polarity'])\n",
    "print(pro_df[(pro_df['review_len']<=70)][['summary_polarity','summary_subjectivity','summary_conflict']].iloc[0]['summary_subjectivity'])\n",
    "print(pro_df[(pro_df['review_len']<=70)][['summary_polarity','summary_subjectivity','summary_conflict']].iloc[0]['summary_conflict'])\n",
    "print(pro_df[(pro_df['review_len']<=70)][['summary_polarity','summary_subjectivity','Noun_adj_keys']].iloc[0]['Noun_adj_keys'])\n"
   ]
  },
  {
   "cell_type": "code",
   "execution_count": 5,
   "metadata": {},
   "outputs": [],
   "source": [
    "df = pd.read_excel('/home/eagleuser/Users/leyan/Train-Data/Mix6_mainCat_Ekphrasis_new/review.xlsx')\n"
   ]
  },
  {
   "cell_type": "code",
   "execution_count": 6,
   "metadata": {},
   "outputs": [
    {
     "name": "stdout",
     "output_type": "stream",
     "text": [
      "the mics quality be okay but i try use it with my i river mp player and my computer and i get that really annoy white noise in the background all the time it be really loud . before you buy it check out some sample recording on the internet if you be interested in high quality .\n",
      "<s> quality okay but annoy white noise </s>\n",
      "B00001W0DT\n",
      "1174089600\n",
      "58\n"
     ]
    }
   ],
   "source": [
    "# df[(df['review_ID']==1497744000) & (df['lemm_review_len']==74)]\n",
    "idx = 0\n",
    "print(df[(df['lemm_review_len']<=70)][['review','summary','lemm_review_len']].iloc[idx]['review'])\n",
    "print(df[(df['lemm_review_len']<=70)][['review','summary','lemm_review_len']].iloc[idx]['summary'])\n",
    "print(df[(df['lemm_review_len']<=70)][['asin','review','summary','lemm_review_len']].iloc[idx]['asin'])\n",
    "print(df[(df['lemm_review_len']<=70)][['review','summary','review_ID']].iloc[idx]['review_ID'])\n",
    "print(df[(df['lemm_review_len']<=70)][['review','summary','lemm_review_len']].iloc[idx]['lemm_review_len'])"
   ]
  },
  {
   "cell_type": "code",
   "execution_count": 7,
   "metadata": {},
   "outputs": [
    {
     "name": "stdout",
     "output_type": "stream",
     "text": [
      "the mic's quality is okay but i tried using it with my iriver mp3-player and my computer and i get that really annoying white noise in the background all the time (it's really loud). before you buy it check out some sample-recordings on the internet if you are interested in high quality.\n",
      "quality okay, but annoying white noise\n",
      "<s> quality okay but annoy white noise </s>\n"
     ]
    }
   ],
   "source": [
    "print(df[(df['lemm_review_len']<=70)][['orign_review','orign_summary']].iloc[idx]['orign_review'])\n",
    "print(df[(df['lemm_review_len']<=70)][['orign_review','orign_summary']].iloc[idx]['orign_summary'])\n",
    "print(df[(df['lemm_review_len']<=70)][['orign_review','summary']].iloc[idx]['summary'])"
   ]
  }
 ],
 "metadata": {
  "kernelspec": {
   "display_name": "Python 3",
   "language": "python",
   "name": "python3"
  },
  "language_info": {
   "codemirror_mode": {
    "name": "ipython",
    "version": 3
   },
   "file_extension": ".py",
   "mimetype": "text/x-python",
   "name": "python",
   "nbconvert_exporter": "python",
   "pygments_lexer": "ipython3",
   "version": "3.6.7"
  }
 },
 "nbformat": 4,
 "nbformat_minor": 2
}
