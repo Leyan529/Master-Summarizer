{
 "cells": [
  {
   "cell_type": "code",
   "execution_count": 1,
   "metadata": {
    "scrolled": true
   },
   "outputs": [],
   "source": [
    "import sys \n",
    "sys.path.append(\"..\") \n",
    "from utils import config\n",
    "from utils.seq2seq.batcher import *\n",
    "from utils.seq2seq.train_util import *\n",
    "import argparse\n",
    "\n",
    "\n",
    "import os\n",
    "os.environ[\"CUDA_VISIBLE_DEVICES\"] = \"0\"\n",
    "\n",
    "os.environ['CUDA_LAUNCH_BLOCKING'] = \"1\" \n",
    "\n",
    "parser = argparse.ArgumentParser()\n",
    "parser.add_argument('--key_attention', type=bool, default=False, help = 'True/False')\n",
    "parser.add_argument('--intra_encoder', type=bool, default=True, help = 'True/False')\n",
    "parser.add_argument('--intra_decoder', type=bool, default=True, help = 'True/False')\n",
    "parser.add_argument('--copy', type=bool, default=True, help = 'True/False') # for transformer\n",
    "\n",
    "parser.add_argument('--model_type', type=str, default='seq2seq', choices=['seq2seq', 'transformer'])\n",
    "parser.add_argument('--train_rl', type=bool, default=False, help = 'True/False')\n",
    "parser.add_argument('--keywords', type=str, default='POS_keys', \n",
    "                    help = 'POS_keys / DEP_keys / Noun_adj_keys / TextRank_keys')\n",
    "\n",
    "parser.add_argument('--lr', type=float, default=0.0001)\n",
    "parser.add_argument('--rand_unif_init_mag', type=float, default=0.02)\n",
    "parser.add_argument('--trunc_norm_init_std', type=float, default=0.001)\n",
    "parser.add_argument('--mle_weight', type=float, default=1.0)\n",
    "parser.add_argument('--gound_truth_prob', type=float, default=0.1)\n",
    "\n",
    "parser.add_argument('--max_enc_steps', type=int, default=1000)\n",
    "parser.add_argument('--max_dec_steps', type=int, default=50)\n",
    "parser.add_argument('--min_dec_steps', type=int, default=8)\n",
    "parser.add_argument('--max_epochs', type=int, default=10)\n",
    "parser.add_argument('--vocab_size', type=int, default=50000)\n",
    "parser.add_argument('--beam_size', type=int, default=16)\n",
    "parser.add_argument('--batch_size', type=int, default=1)\n",
    "\n",
    "parser.add_argument('--hidden_dim', type=int, default=512)\n",
    "parser.add_argument('--emb_dim', type=int, default=300)\n",
    "parser.add_argument('--gradient_accum', type=int, default=1)\n",
    "\n",
    "parser.add_argument('--word_emb_type', type=str, default='word2Vec', help='word2Vec/glove/FastText')\n",
    "parser.add_argument('--pre_train_emb', type=bool, default=True, help = 'True/False') # 若pre_train_emb為false, 則emb type為NoPretrain\n",
    "\n",
    "opt = parser.parse_args(args=[])\n",
    "config = re_config(opt)\n"
   ]
  },
  {
   "cell_type": "markdown",
   "metadata": {},
   "source": [
    "# Load Pointer-Generator Model"
   ]
  },
  {
   "cell_type": "code",
   "execution_count": 2,
   "metadata": {},
   "outputs": [
    {
     "name": "stderr",
     "output_type": "stream",
     "text": [
      "I0621 00:56:20.587182 139793014654784 file_utils.py:35] PyTorch version 1.4.0 available.\n"
     ]
    },
    {
     "name": "stdout",
     "output_type": "stream",
     "text": [
      "Pointer_generator_word2Vec_Intra_Atten.tar\n"
     ]
    },
    {
     "name": "stderr",
     "output_type": "stream",
     "text": [
      "I0621 00:56:25.349340 139793014654784 utils_any2vec.py:341] loading projection weights from /home/eagleuser/Users/leyan//Train-Data/Mix6_mainCat_Ekphrasis/Embedding/word2Vec/word2Vec.300d.txt\n"
     ]
    },
    {
     "name": "stdout",
     "output_type": "stream",
     "text": [
      "/home/eagleuser/Users/leyan//Train-Data/Mix6_mainCat_Ekphrasis/Embedding/word2Vec/word2Vec.300d.txt\n"
     ]
    },
    {
     "name": "stderr",
     "output_type": "stream",
     "text": [
      "I0621 00:56:34.178926 139793014654784 utils_any2vec.py:405] loaded (49385, 300) matrix from /home/eagleuser/Users/leyan//Train-Data/Mix6_mainCat_Ekphrasis/Embedding/word2Vec/word2Vec.300d.txt\n"
     ]
    },
    {
     "data": {
      "text/plain": [
       "Model(\n",
       "  (encoder): Encoder(\n",
       "    (lstm): LSTM(300, 512, batch_first=True, bidirectional=True)\n",
       "    (reduce_h): Linear(in_features=1024, out_features=512, bias=True)\n",
       "    (reduce_c): Linear(in_features=1024, out_features=512, bias=True)\n",
       "  )\n",
       "  (decoder): Decoder(\n",
       "    (enc_attention): encoder_attention(\n",
       "      (W_h): Linear(in_features=1024, out_features=1024, bias=False)\n",
       "      (W_s): Linear(in_features=1024, out_features=1024, bias=True)\n",
       "      (W_t): Linear(in_features=300, out_features=1024, bias=True)\n",
       "      (v): Linear(in_features=1024, out_features=1, bias=False)\n",
       "    )\n",
       "    (dec_attention): decoder_attention(\n",
       "      (W_prev): Linear(in_features=512, out_features=512, bias=False)\n",
       "      (W_s): Linear(in_features=512, out_features=512, bias=True)\n",
       "      (W_t): Linear(in_features=300, out_features=512, bias=True)\n",
       "      (v): Linear(in_features=512, out_features=1, bias=False)\n",
       "    )\n",
       "    (x_context): Linear(in_features=1324, out_features=300, bias=True)\n",
       "    (x_key_context): Linear(in_features=1624, out_features=300, bias=True)\n",
       "    (lstm): LSTMCell(300, 512)\n",
       "    (p_gen_linear): Linear(in_features=2860, out_features=1, bias=True)\n",
       "    (V): Linear(in_features=2048, out_features=512, bias=True)\n",
       "    (V1): Linear(in_features=512, out_features=50000, bias=True)\n",
       "  )\n",
       "  (embeds): Embedding(50000, 300)\n",
       ")"
      ]
     },
     "execution_count": 2,
     "metadata": {},
     "output_type": "execute_result"
    }
   ],
   "source": [
    "from create_model.pg import Model \n",
    "load_model_path = 'Pointer_generator_word2Vec_Intra_Atten.tar'\n",
    "# load_model_path = 'Pointer_generator_word2Vec_Intra_Atten(Noun_adj_keys).tar'\n",
    "\n",
    "import torch as T\n",
    "T.backends.cudnn.benchmark = True \n",
    "checkpoint = T.load(load_model_path)\n",
    "vocab = checkpoint['vocab']\n",
    "print(load_model_path)\n",
    "\n",
    "model = Model(pre_train_emb=config.pre_train_emb, \n",
    "              word_emb_type = config.word_emb_type, \n",
    "              vocab = vocab)\n",
    "\n",
    "model = model.cuda()\n",
    "model.load_state_dict(checkpoint['model'])\n",
    "model.eval()"
   ]
  },
  {
   "cell_type": "code",
   "execution_count": 3,
   "metadata": {},
   "outputs": [],
   "source": [
    "from utils.seq2seq.batcher import Example, Batch\n",
    "import matplotlib.pyplot as plt\n",
    "\n",
    "config.batch_size = 1\n",
    "config.gound_truth_prob = 0.5\n",
    "\n",
    "data = {'review_ID':'',\n",
    "        'review':'this mongoose flat tire bike joke pretty easy assemble and gorgeous but catch tough the upper thigh area when you ride it . now been awhile since rode bike go take some get use too . never the less love this bike and make anyone look cool ride it .',\n",
    "        'summary':'it is pretty easy to assemble and it is gorgeous but there is',\n",
    "        'POS_keys': \"['good', 'sound', 'static', 'terrible', 'listen', 'book', 'audio', 'speaker', 'recommend']\",\n",
    "       \"percent_lcs\": '40.0'}\n",
    "\n",
    "ex = Example(config, vocab, data)\n",
    "b = Batch([ex])\n",
    "\n",
    "b.enc_pad_mask\n",
    "\n",
    "enc_batch, enc_padding_mask, enc_lens, enc_batch_extend_vocab, extra_zeros, coverage, ct_e, enc_key_batch, enc_key_mask, enc_key_lens= \\\n",
    "                get_input_from_batch(b, config, batch_first = True)\n",
    "dec_batch, dec_padding_mask, dec_lens, max_dec_len, target_batch = \\\n",
    "        get_output_from_batch(b, config, batch_first = True)\n",
    "\n",
    "max_enc_len = max(T.max(enc_lens,dim=0)).tolist()[0]    "
   ]
  },
  {
   "cell_type": "markdown",
   "metadata": {},
   "source": [
    "# plot_attention"
   ]
  },
  {
   "cell_type": "code",
   "execution_count": 4,
   "metadata": {},
   "outputs": [],
   "source": [
    "def plot_enc_attention(data, X_label=None, Y_label=None):\n",
    "    '''\n",
    "    Plot the attention model heatmap\n",
    "    Args:\n",
    "      data: attn_matrix with shape [ty, tx], cutted before 'PAD'\n",
    "      X_label: list of size tx, encoder tags\n",
    "      Y_label: list of size ty, decoder tags\n",
    "    '''\n",
    "    fig, ax = plt.subplots(figsize=(20, 8)) # set figure size\n",
    "    #   heatmap = ax.pcolor(data, cmap=plt.cm.Blues, alpha=0.9)\n",
    "    heatmap = ax.pcolor(data, cmap='viridis', alpha=0.9)\n",
    "#     heatmap = ax.pcolor(data, cmap='hot', alpha=0.9)\n",
    "    plt.colorbar(heatmap)\n",
    "  \n",
    "  # Set axis labels\n",
    "    if X_label != None and Y_label != None:\n",
    "        X_label = [x_label for x_label in X_label]\n",
    "        Y_label = [y_label for y_label in Y_label]\n",
    "\n",
    "        xticks = range(0,len(X_label))\n",
    "        ax.set_xticks(xticks, minor=False) # major ticks\n",
    "        ax.set_xticklabels(X_label, minor = False, rotation=90)   # labels should be 'unicode'\n",
    "        plt.xlabel('review words')\n",
    "        \n",
    "        yticks = range(0,len(Y_label))\n",
    "        ax.set_yticks(yticks, minor=False)\n",
    "        ax.set_yticklabels(Y_label, minor = False)   # labels should be 'unicode'\n",
    "        plt.ylabel('Summary words')\n",
    "        plt.title('Intra-Encoder Attention')\n",
    "\n",
    "        ax.grid(True)\n",
    "        \n",
    "        \n",
    "        \n",
    "def plot_dec_attention(data, X_label=None, Y_label=None):\n",
    "    '''\n",
    "    Plot the attention model heatmap\n",
    "    Args:\n",
    "      data: attn_matrix with shape [ty, tx], cutted before 'PAD'\n",
    "      X_label: list of size tx, encoder tags\n",
    "      Y_label: list of size ty, decoder tags\n",
    "    '''\n",
    "    fig, ax = plt.subplots(figsize=(20, 8)) # set figure size\n",
    "    heatmap = ax.pcolor(data, cmap=plt.cm.Blues, alpha=0.9)\n",
    "#     heatmap = ax.pcolor(data, cmap='viridis', alpha=0.9)\n",
    "#     heatmap = ax.pcolor(data, cmap='hot', alpha=0.9)\n",
    "    plt.colorbar(heatmap)\n",
    "  \n",
    "  # Set axis labels\n",
    "    if X_label != None and Y_label != None:\n",
    "        X_label = [x_label for x_label in X_label]\n",
    "        Y_label = [y_label for y_label in Y_label]\n",
    "\n",
    "        xticks = range(0,len(X_label))\n",
    "        ax.set_xticks(xticks, minor=False) # major ticks\n",
    "        ax.set_xticklabels(X_label, minor = False, rotation=0)   # labels should be 'unicode'\n",
    "        plt.xlabel('Decoded Summary words')\n",
    "        \n",
    "        yticks = range(0,len(Y_label))\n",
    "        ax.set_yticks(yticks, minor=False)\n",
    "        ax.set_yticklabels(Y_label, minor = False)   # labels should be 'unicode'\n",
    "        plt.ylabel('Reference Summary words')\n",
    "        plt.title('Intra-Decoder Attention')\n",
    "\n",
    "        ax.grid(True)        "
   ]
  },
  {
   "cell_type": "code",
   "execution_count": 5,
   "metadata": {},
   "outputs": [
    {
     "data": {
      "text/plain": [
       "50"
      ]
     },
     "execution_count": 5,
     "metadata": {},
     "output_type": "execute_result"
    }
   ],
   "source": [
    "max_enc_len"
   ]
  },
  {
   "cell_type": "code",
   "execution_count": 6,
   "metadata": {},
   "outputs": [
    {
     "name": "stdout",
     "output_type": "stream",
     "text": [
      "[8, 133, 9612, 697, 851, 234, 234, 2178, 133, 171, 100, 127, 133, 1069]\n",
      "dec_words this is mongoose flat tire bike bike joke is pretty easy to is assemble\n",
      "embed_words [START] this is mongoose flat tire assemble bike it is pretty easy there is\n",
      "summary it is pretty easy to assemble and it is gorgeous but there is\n"
     ]
    }
   ],
   "source": [
    "decode = []\n",
    "decode_2 = []\n",
    "embed_words = []\n",
    "with T.autograd.no_grad():\n",
    "    enc_batch_ = model.embeds(enc_batch)  # Get embeddings for encoder input    \n",
    "    enc_key_batch = model.embeds(enc_key_batch)  # Get key embeddings for encoder input\n",
    "    enc_out, enc_hidden = model.encoder(enc_batch_, enc_lens, max_enc_len)\n",
    "\n",
    "    s_t = (enc_hidden[0], enc_hidden[1])  # Decoder hidden states\n",
    "    x_t = get_cuda(T.LongTensor(len(enc_out)).fill_(START))  # Input to the decoder\n",
    "    prev_s = None  # Used for intra-decoder attention (section 2.2 in https://arxiv.org/pdf/1705.04304.pdf)\n",
    "    sum_temporal_srcs = None  # Used for intra-temporal attention (section 2.1 in https://arxiv.org/pdf/1705.04304.pdf)\n",
    "    weight = None\n",
    "    dec_weight = []  \n",
    "\n",
    "    for t in range(min(max_dec_len, config.max_dec_steps)):\n",
    "        use_gound_truth = get_cuda((T.rand(len(enc_out)) > config.gound_truth_prob)).long()  # Probabilities indicating whether to use ground truth labels instead of previous decoded tokens\n",
    "        x_t = use_gound_truth * dec_batch[:, t] + (1 - use_gound_truth) * x_t  # Select decoder input based on use_ground_truth probabilities\n",
    "        embed_words.append(x_t.item())\n",
    "        x_t = model.embeds(x_t)  \n",
    "        final_dist, s_t, ct_e, sum_temporal_srcs, prev_s, enc_attn, dec_attn = model.decoder(x_t, s_t, enc_out, enc_padding_mask,\n",
    "                                                                                  ct_e, extra_zeros,\n",
    "                                                                                  enc_batch_extend_vocab,\n",
    "                                                                                  sum_temporal_srcs, prev_s, enc_key_batch, enc_key_mask)\n",
    "\n",
    "        x_t = T.max(final_dist, dim=1)[1]  # Sample words from final distribution which can be used as input in next time step\n",
    "\n",
    "        \n",
    "        if t == 0: \n",
    "            weight = enc_attn; \n",
    "        else: \n",
    "            weight = T.cat((weight, enc_attn), 0)  \n",
    "        \n",
    "        dec_weight.append(dec_attn) \n",
    "        \n",
    "        decode.append(x_t.item())\n",
    "        # x軸是tgt words\n",
    "        # y軸是src words\n",
    "    # print(weight.shape)\n",
    "print(decode)\n",
    "\n",
    "dec_words = [vocab.id2word(d) for d in decode]\n",
    "dec_words = \" \".join(dec_words) \n",
    "data['dec_words'] = dec_words\n",
    "print('dec_words',dec_words)\n",
    "\n",
    "# embed_words = embed_words[1:]\n",
    "# print(embed_words)\n",
    "embed_words = [vocab.id2word(d) for d in embed_words]\n",
    "embed_words = \" \".join(embed_words) \n",
    "data['embed_words'] = embed_words\n",
    "print('embed_words',embed_words)\n",
    "print('summary',data['summary'])"
   ]
  },
  {
   "cell_type": "code",
   "execution_count": 7,
   "metadata": {},
   "outputs": [
    {
     "data": {
      "text/plain": [
       "torch.Size([1, 50])"
      ]
     },
     "execution_count": 7,
     "metadata": {},
     "output_type": "execute_result"
    }
   ],
   "source": [
    "sum_temporal_srcs.shape"
   ]
  },
  {
   "cell_type": "markdown",
   "metadata": {},
   "source": [
    "# Intra-Temporal EncoderAttention可視化"
   ]
  },
  {
   "cell_type": "code",
   "execution_count": 8,
   "metadata": {},
   "outputs": [
    {
     "data": {
      "image/png": "[encoded data removed]",
      "text/plain": [
       "<Figure size 1440x576 with 2 Axes>"
      ]
     },
     "metadata": {
      "needs_background": "light"
     },
     "output_type": "display_data"
    }
   ],
   "source": [
    "plot_enc_attention(weight.cpu().data, X_label=data['review'].split()+ ['[END]'], Y_label=data['summary'].split()+ ['[END]'])"
   ]
  },
  {
   "cell_type": "code",
   "execution_count": 9,
   "metadata": {
    "scrolled": false
   },
   "outputs": [
    {
     "data": {
      "text/plain": [
       "[tensor([[1.]], device='cuda:0'),\n",
       " tensor([[0.2970, 0.7030]], device='cuda:0'),\n",
       " tensor([[0.3648, 0.2199, 0.4153]], device='cuda:0'),\n",
       " tensor([[0.1705, 0.1519, 0.2590, 0.4186]], device='cuda:0'),\n",
       " tensor([[0.1680, 0.1398, 0.1447, 0.1867, 0.3608]], device='cuda:0'),\n",
       " tensor([[0.1015, 0.0786, 0.0772, 0.0881, 0.2066, 0.4480]], device='cuda:0'),\n",
       " tensor([[0.0394, 0.0316, 0.0334, 0.0418, 0.0999, 0.1844, 0.5695]],\n",
       "        device='cuda:0'),\n",
       " tensor([[0.0236, 0.0300, 0.0315, 0.0344, 0.0614, 0.0919, 0.2381, 0.4891]],\n",
       "        device='cuda:0'),\n",
       " tensor([[0.0067, 0.0601, 0.0591, 0.0540, 0.0647, 0.0767, 0.1386, 0.2260, 0.3142]],\n",
       "        device='cuda:0'),\n",
       " tensor([[0.0053, 0.0197, 0.0186, 0.0195, 0.0266, 0.0319, 0.0650, 0.0868, 0.1198,\n",
       "          0.6067]], device='cuda:0'),\n",
       " tensor([[0.1542, 0.0086, 0.0113, 0.0087, 0.0149, 0.0232, 0.0469, 0.0597, 0.0739,\n",
       "          0.4231, 0.1755]], device='cuda:0'),\n",
       " tensor([[0.0385, 0.0099, 0.0106, 0.0107, 0.0162, 0.0268, 0.0335, 0.0457, 0.0481,\n",
       "          0.2000, 0.0570, 0.5031]], device='cuda:0'),\n",
       " tensor([[0.0202, 0.0246, 0.0245, 0.0187, 0.0234, 0.0296, 0.0258, 0.0299, 0.0248,\n",
       "          0.0473, 0.0222, 0.1162, 0.5928]], device='cuda:0')]"
      ]
     },
     "execution_count": 9,
     "metadata": {},
     "output_type": "execute_result"
    }
   ],
   "source": [
    "dec_weight[1:]"
   ]
  },
  {
   "cell_type": "markdown",
   "metadata": {},
   "source": [
    "# Sequential Intra-Decoder-Attention可視化"
   ]
  },
  {
   "cell_type": "code",
   "execution_count": 10,
   "metadata": {},
   "outputs": [
    {
     "data": {
      "image/png": "[encoded data removed]",
      "text/plain": [
       "<Figure size 1440x576 with 2 Axes>"
      ]
     },
     "metadata": {
      "needs_background": "light"
     },
     "output_type": "display_data"
    }
   ],
   "source": [
    "from torch import nn\n",
    "import torch\n",
    "\n",
    "new_dec_weight = None\n",
    "for idx, w in enumerate(dec_weight[1:]):\n",
    "    x = torch.tensor([[0.0]])\n",
    "    w_ = x.repeat(1,len(decode)-(idx+2))\n",
    "    new_w = torch.cat((w.cpu(), w_),dim=1)\n",
    "    if idx == 0: new_dec_weight = new_w\n",
    "    else: new_dec_weight = T.cat((new_dec_weight, new_w), 0) \n",
    "\n",
    "\n",
    "\n",
    "plot_dec_attention(new_dec_weight.data, X_label=data['dec_words'].split(),\n",
    "                   Y_label=data['summary'].split()+ ['[END]'])\n",
    "\n",
    "# 依照ground-true 0.5隨機使用summary token預測\n",
    "# 每一個時間點的decode words 會調整自己過去關注的生成詞彙分布\n",
    "\n"
   ]
  },
  {
   "cell_type": "code",
   "execution_count": 11,
   "metadata": {},
   "outputs": [
    {
     "data": {
      "text/plain": [
       "tensor([[0.0202, 0.0246, 0.0245, 0.0187, 0.0234, 0.0296, 0.0258, 0.0299, 0.0248,\n",
       "         0.0473, 0.0222, 0.1162, 0.5928]], device='cuda:0')"
      ]
     },
     "execution_count": 11,
     "metadata": {},
     "output_type": "execute_result"
    }
   ],
   "source": [
    "dec_weight[1:][-1]"
   ]
  }
 ],
 "metadata": {
  "kernelspec": {
   "display_name": "Python 3.6.7 64-bit ('Leyan': conda)",
   "language": "python",
   "name": "python36764bitleyancondaa378f3cedbcc4b3f906a2276b3eef765"
  },
  "language_info": {
   "codemirror_mode": {
    "name": "ipython",
    "version": 3
   },
   "file_extension": ".py",
   "mimetype": "text/x-python",
   "name": "python",
   "nbconvert_exporter": "python",
   "pygments_lexer": "ipython3",
   "version": "3.6.7"
  }
 },
 "nbformat": 4,
 "nbformat_minor": 2
}
