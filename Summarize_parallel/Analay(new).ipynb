{
 "cells": [
  {
   "cell_type": "code",
   "execution_count": 39,
   "metadata": {},
   "outputs": [
    {
     "name": "stdout",
     "output_type": "stream",
     "text": [
      "560084\n",
      "504075\n",
      "56009\n"
     ]
    }
   ],
   "source": [
    "import pandas as pd\n",
    "from utils import config\n",
    "\n",
    "from sklearn.model_selection import train_test_split\n",
    "\n",
    "# config.xls_path = '../Train-Data/Mix6_mainCat_20/pro_review.xlsx'\n",
    "# config.xls_path = '/home/eagleuser/Users/leyan/Train-Data/Mix6_mainCat_new/pro_review.xlsx'\n",
    "total_df = pd.read_excel(config.xls_path)\n",
    "# total_df = total_df[total_df['review_len']>=50]\n",
    "# total_df = total_df[total_df['summary_len']>=5]\n",
    "total_df = total_df.sort_values(by=['review_len','overlap'], ascending = False)\n",
    "train_df, val_df = train_test_split(total_df, test_size=0.1, \n",
    "                                    random_state=0, shuffle=True)\n",
    "\n",
    "print(len(total_df))\n",
    "print(len(train_df))\n",
    "print(len(val_df))\n",
    "\n",
    "# train : 504075(90%),    test : 56009(10%) -> best 566084"
   ]
  },
  {
   "cell_type": "code",
   "execution_count": 40,
   "metadata": {},
   "outputs": [],
   "source": [
    "def longest_common_subsequence(main_string, comparing_string):\n",
    "\n",
    "#     main_string = main_string.split(\" \")\n",
    "#     comparing_string = comparing_string.split(\" \")\n",
    "    columns_length = len(main_string)  # Get the length of the first word or base word\n",
    "    rows_length = len(comparing_string)  # Get the length of the second word or comparing word\n",
    "\n",
    "    # MAKE A 2D LIST (MATRIX)\n",
    "    dynamic_table = [[0] * (columns_length + 1) for i in range(rows_length + 1)]\n",
    "\n",
    "    # rows_length = NUMBER OF ROWS\n",
    "    # columns_length = NUMBER OF COLUMNS\n",
    "    \n",
    "    # FILL THE MATRIX FOLLOWING LCS ALGORITHM.\n",
    "    for i in range(1, rows_length + 1):\n",
    "        for j in range(1, columns_length + 1):\n",
    "            if main_string[j - 1] == comparing_string[i - 1]:\n",
    "                dynamic_table[i][j] = 1 + dynamic_table[i - 1][j - 1]\n",
    "\n",
    "            else:\n",
    "                dynamic_table[i][j] = max(dynamic_table[i - 1][j], dynamic_table[i][j - 1])\n",
    "\n",
    "#     print(\"MATRIX ACCORDING TO LONGEST COMMON SUBSEQUENCE ALGORITHM: \\n \")\n",
    "\n",
    "    # for i in range(rows_length + 1):\n",
    "    #     print(dynamic_table[i])\n",
    "\n",
    "    #print(\"LENGTH OF LONGEST COMMON SUBSEQUENCE = \", dynamic_table[rows_length][columns_length])\n",
    "\n",
    "    len_lcs = dynamic_table[rows_length][columns_length]\n",
    "\n",
    "    i = len(comparing_string)\n",
    "    j = len(main_string)\n",
    "\n",
    "    lcs_string = str()\n",
    "\n",
    "    # BACKTRACKING TO FIND THE LONGEST COMMON SUBSEQUENCE\n",
    "\n",
    "    temp = True\n",
    "\n",
    "    while temp is True:\n",
    "        if dynamic_table[i][j] == 0:\n",
    "            temp = False\n",
    "        elif dynamic_table[i][j] == dynamic_table[i][j - 1]:\n",
    "            j = j - 1\n",
    "\n",
    "        else:\n",
    "            lcs_string = main_string[j-1] + \" \" + lcs_string\n",
    "            i = i - 1\n",
    "            j = j - 1\n",
    "\n",
    "    return lcs_string, len_lcs"
   ]
  },
  {
   "cell_type": "code",
   "execution_count": 41,
   "metadata": {},
   "outputs": [],
   "source": [
    "# df.loc[i,'token_lcs'] = token_lcs\n",
    "#             df.loc[i,'len_lcs'] = len_lcs\n",
    "#             df.loc[i,'percent_lcs'] = percent_lcs\n",
    "#             df.loc[i,'overlap_pos'] = overlap_pos\n",
    "            \n",
    "#             df.loc[i,'reveiw_len'] = len(rev_tokens)\n",
    "#             df.loc[i,'summary_len'] = len(summary_tokens)"
   ]
  },
  {
   "cell_type": "code",
   "execution_count": 42,
   "metadata": {},
   "outputs": [],
   "source": [
    "#%%\n",
    "from tqdm import tqdm\n",
    "from copy import deepcopy\n",
    "def analay(df, mode):\n",
    "#     df['token_lcs'] = 0\n",
    "#     df['len_lcs'] = 0\n",
    "#     df['percent_lcs'] = 0\n",
    "#     df['overlap_pos'] = 0\n",
    "\n",
    "#     df['reveiw_len'] = 0\n",
    "#     df['summary_len'] = 0\n",
    "#     df = df[:100]\n",
    "    with tqdm(total=len(df)) as pbar:\n",
    "        for i ,row in df.iterrows():       \n",
    "            overlap_pos = None\n",
    "\n",
    "#             rev, summary = row['review'], row['summary']\n",
    "#             rev_tokens, summary_tokens = rev.split(\" \"), summary.split(\" \")           \n",
    "#             token_lcs, len_lcs = longest_common_subsequence(rev_tokens, summary_tokens)\n",
    "#             percent_lcs = len_lcs / len(summary_tokens) * 100 # percent\n",
    "\n",
    "#             rev_sents = rev.split(\" . \")\n",
    "#             overlap_sents = {idx: longest_common_subsequence(sent.split(\" \"), summary_tokens) for idx, sent in enumerate(rev_sents)}\n",
    "#             sort_overlap_sent = {k:v for k,v in sorted(overlap_sents.items(), key= lambda item: item[1], reverse=True)}\n",
    "#             overlap_sent_id = list(sort_overlap_sent.items())[0][0]\n",
    "\n",
    "#             if (overlap_sent_id == 0) and (percent_lcs >= 20): overlap_pos = 0 # overlap_Top \n",
    "#             elif (overlap_sent_id == len(rev_tokens)-1) and (percent_lcs >= 20): overlap_pos = 1 # overlap_Final \n",
    "#             elif (percent_lcs >= 20): overlap_pos = 2 # overlap_other \n",
    "#             else: overlap_pos = -1 # no overlap \n",
    "\n",
    "#             df.loc[i,'token_lcs'] = token_lcs\n",
    "#             df.loc[i,'len_lcs'] = len_lcs\n",
    "#             df.loc[i,'percent_lcs'] = percent_lcs\n",
    "#             df.loc[i,'overlap_pos'] = overlap_pos\n",
    "            \n",
    "#             df.loc[i,'reveiw_len'] = len(rev_tokens)\n",
    "#             df.loc[i,'summary_len'] = len(summary_tokens)\n",
    "\n",
    "            pbar.update(1)\n",
    "#             pbar.set_description(\"%s row: %s | overlap_pos: %s (%2.2f)percent| len_lcs: %s\" % (mode, i, overlap_pos, percent_lcs, len_lcs))\n",
    "#     df = df[df['token_lcs']!=0]\n",
    "    return df\n",
    "\n"
   ]
  },
  {
   "cell_type": "code",
   "execution_count": 43,
   "metadata": {},
   "outputs": [
    {
     "data": {
      "text/html": [
       "<div>\n",
       "<style scoped>\n",
       "    .dataframe tbody tr th:only-of-type {\n",
       "        vertical-align: middle;\n",
       "    }\n",
       "\n",
       "    .dataframe tbody tr th {\n",
       "        vertical-align: top;\n",
       "    }\n",
       "\n",
       "    .dataframe thead th {\n",
       "        text-align: right;\n",
       "    }\n",
       "</style>\n",
       "<table border=\"1\" class=\"dataframe\">\n",
       "  <thead>\n",
       "    <tr style=\"text-align: right;\">\n",
       "      <th></th>\n",
       "      <th>Unnamed: 0</th>\n",
       "      <th>Unnamed: 0.1</th>\n",
       "      <th>review</th>\n",
       "      <th>summary</th>\n",
       "      <th>cheat</th>\n",
       "      <th>cheat_num</th>\n",
       "      <th>review_len</th>\n",
       "      <th>summary_len</th>\n",
       "      <th>POS_keys</th>\n",
       "      <th>DEP_keys</th>\n",
       "      <th>...</th>\n",
       "      <th>overlap</th>\n",
       "      <th>binaryrating</th>\n",
       "      <th>vote</th>\n",
       "      <th>token_lcs</th>\n",
       "      <th>len_lcs</th>\n",
       "      <th>percent_lcs</th>\n",
       "      <th>overlap_pos</th>\n",
       "      <th>summary_polarity</th>\n",
       "      <th>summary_subjectivity</th>\n",
       "      <th>reveiw_len</th>\n",
       "    </tr>\n",
       "  </thead>\n",
       "  <tbody>\n",
       "    <tr>\n",
       "      <th>90153</th>\n",
       "      <td>90153</td>\n",
       "      <td>90153</td>\n",
       "      <td>best advanced amateur please discount this rev...</td>\n",
       "      <td>&lt;s&gt; excellent camera that need bright lens to ...</td>\n",
       "      <td>{'camera', 'bright', 'excellent', 'lens'}</td>\n",
       "      <td>2</td>\n",
       "      <td>619</td>\n",
       "      <td>11</td>\n",
       "      <td>['advanced', 'discount', 'review', 'amateur', ...</td>\n",
       "      <td>['advanced', 'discount', 'review', 'amateur', ...</td>\n",
       "      <td>...</td>\n",
       "      <td>7</td>\n",
       "      <td>NaN</td>\n",
       "      <td>NaN</td>\n",
       "      <td>camera lens lens really</td>\n",
       "      <td>4</td>\n",
       "      <td>36.363636</td>\n",
       "      <td>2</td>\n",
       "      <td>0.633333</td>\n",
       "      <td>0.666667</td>\n",
       "      <td>619</td>\n",
       "    </tr>\n",
       "    <tr>\n",
       "      <th>403514</th>\n",
       "      <td>403514</td>\n",
       "      <td>403514</td>\n",
       "      <td>great screen protector . have have this phone ...</td>\n",
       "      <td>&lt;s&gt; great screen protector for phone get the j...</td>\n",
       "      <td>{'phone', 'screen', 'protector', 'great'}</td>\n",
       "      <td>1</td>\n",
       "      <td>40</td>\n",
       "      <td>11</td>\n",
       "      <td>['protector', 'great', 'screen', '', 'fit', 'p...</td>\n",
       "      <td>['protector', 'great', 'week', 'have', 'phone'...</td>\n",
       "      <td>...</td>\n",
       "      <td>6</td>\n",
       "      <td>NaN</td>\n",
       "      <td>NaN</td>\n",
       "      <td>great screen protector phone the the</td>\n",
       "      <td>6</td>\n",
       "      <td>54.545455</td>\n",
       "      <td>2</td>\n",
       "      <td>0.800000</td>\n",
       "      <td>0.750000</td>\n",
       "      <td>40</td>\n",
       "    </tr>\n",
       "    <tr>\n",
       "      <th>299132</th>\n",
       "      <td>299132</td>\n",
       "      <td>299132</td>\n",
       "      <td>best tire bang for the buck for sure . zero co...</td>\n",
       "      <td>&lt;s&gt; best tire bang for the buck for sure &lt;/s&gt;</td>\n",
       "      <td>{'buck', 'bang', 'tire', 'best'}</td>\n",
       "      <td>1</td>\n",
       "      <td>43</td>\n",
       "      <td>10</td>\n",
       "      <td>['', '', 'noticeable', 'difference', 'perfect'...</td>\n",
       "      <td>['tire', 'noticeable', 'difference', 'front', ...</td>\n",
       "      <td>...</td>\n",
       "      <td>7</td>\n",
       "      <td>NaN</td>\n",
       "      <td>NaN</td>\n",
       "      <td>best tire bang for the buck for sure</td>\n",
       "      <td>8</td>\n",
       "      <td>80.000000</td>\n",
       "      <td>2</td>\n",
       "      <td>0.750000</td>\n",
       "      <td>0.594444</td>\n",
       "      <td>43</td>\n",
       "    </tr>\n",
       "    <tr>\n",
       "      <th>277298</th>\n",
       "      <td>277298</td>\n",
       "      <td>277298</td>\n",
       "      <td>been have some issue turn and not turn off wit...</td>\n",
       "      <td>&lt;s&gt; love the battery indicator and the ability...</td>\n",
       "      <td>{'love', 'ability', 'pop', 'indicator', 'batte...</td>\n",
       "      <td>0</td>\n",
       "      <td>40</td>\n",
       "      <td>12</td>\n",
       "      <td>['switch', 'main', '', 'battery', 'love', '']</td>\n",
       "      <td>['switch', 'main', 'turn', 'issue', 'act', 'se...</td>\n",
       "      <td>...</td>\n",
       "      <td>7</td>\n",
       "      <td>NaN</td>\n",
       "      <td>NaN</td>\n",
       "      <td>the and the indicator and the ability pop</td>\n",
       "      <td>8</td>\n",
       "      <td>66.666667</td>\n",
       "      <td>2</td>\n",
       "      <td>0.500000</td>\n",
       "      <td>0.600000</td>\n",
       "      <td>40</td>\n",
       "    </tr>\n",
       "    <tr>\n",
       "      <th>492671</th>\n",
       "      <td>492671</td>\n",
       "      <td>492671</td>\n",
       "      <td>have give dog these dental treat before and th...</td>\n",
       "      <td>&lt;s&gt; package was not receive and both up and am...</td>\n",
       "      <td>{'package', 'amazon', 'receive'}</td>\n",
       "      <td>0</td>\n",
       "      <td>135</td>\n",
       "      <td>17</td>\n",
       "      <td>['dental', 'treat', 'large', 'good', 'quantity...</td>\n",
       "      <td>['dental', 'treat', 'give', 'large', 'find', '...</td>\n",
       "      <td>...</td>\n",
       "      <td>11</td>\n",
       "      <td>NaN</td>\n",
       "      <td>NaN</td>\n",
       "      <td>and amazon and and amazon was say say the</td>\n",
       "      <td>9</td>\n",
       "      <td>52.941176</td>\n",
       "      <td>2</td>\n",
       "      <td>0.125000</td>\n",
       "      <td>0.375000</td>\n",
       "      <td>135</td>\n",
       "    </tr>\n",
       "  </tbody>\n",
       "</table>\n",
       "<p>5 rows × 22 columns</p>\n",
       "</div>"
      ],
      "text/plain": [
       "        Unnamed: 0  Unnamed: 0.1  \\\n",
       "90153        90153         90153   \n",
       "403514      403514        403514   \n",
       "299132      299132        299132   \n",
       "277298      277298        277298   \n",
       "492671      492671        492671   \n",
       "\n",
       "                                                   review  \\\n",
       "90153   best advanced amateur please discount this rev...   \n",
       "403514  great screen protector . have have this phone ...   \n",
       "299132  best tire bang for the buck for sure . zero co...   \n",
       "277298  been have some issue turn and not turn off wit...   \n",
       "492671  have give dog these dental treat before and th...   \n",
       "\n",
       "                                                  summary  \\\n",
       "90153   <s> excellent camera that need bright lens to ...   \n",
       "403514  <s> great screen protector for phone get the j...   \n",
       "299132      <s> best tire bang for the buck for sure </s>   \n",
       "277298  <s> love the battery indicator and the ability...   \n",
       "492671  <s> package was not receive and both up and am...   \n",
       "\n",
       "                                                    cheat  cheat_num  \\\n",
       "90153           {'camera', 'bright', 'excellent', 'lens'}          2   \n",
       "403514          {'phone', 'screen', 'protector', 'great'}          1   \n",
       "299132                   {'buck', 'bang', 'tire', 'best'}          1   \n",
       "277298  {'love', 'ability', 'pop', 'indicator', 'batte...          0   \n",
       "492671                   {'package', 'amazon', 'receive'}          0   \n",
       "\n",
       "        review_len  summary_len  \\\n",
       "90153          619           11   \n",
       "403514          40           11   \n",
       "299132          43           10   \n",
       "277298          40           12   \n",
       "492671         135           17   \n",
       "\n",
       "                                                 POS_keys  \\\n",
       "90153   ['advanced', 'discount', 'review', 'amateur', ...   \n",
       "403514  ['protector', 'great', 'screen', '', 'fit', 'p...   \n",
       "299132  ['', '', 'noticeable', 'difference', 'perfect'...   \n",
       "277298      ['switch', 'main', '', 'battery', 'love', '']   \n",
       "492671  ['dental', 'treat', 'large', 'good', 'quantity...   \n",
       "\n",
       "                                                 DEP_keys     ...     overlap  \\\n",
       "90153   ['advanced', 'discount', 'review', 'amateur', ...     ...           7   \n",
       "403514  ['protector', 'great', 'week', 'have', 'phone'...     ...           6   \n",
       "299132  ['tire', 'noticeable', 'difference', 'front', ...     ...           7   \n",
       "277298  ['switch', 'main', 'turn', 'issue', 'act', 'se...     ...           7   \n",
       "492671  ['dental', 'treat', 'give', 'large', 'find', '...     ...          11   \n",
       "\n",
       "       binaryrating  vote                                   token_lcs  \\\n",
       "90153           NaN   NaN                    camera lens lens really    \n",
       "403514          NaN   NaN       great screen protector phone the the    \n",
       "299132          NaN   NaN       best tire bang for the buck for sure    \n",
       "277298          NaN   NaN  the and the indicator and the ability pop    \n",
       "492671          NaN   NaN  and amazon and and amazon was say say the    \n",
       "\n",
       "        len_lcs percent_lcs  overlap_pos  summary_polarity  \\\n",
       "90153         4   36.363636            2          0.633333   \n",
       "403514        6   54.545455            2          0.800000   \n",
       "299132        8   80.000000            2          0.750000   \n",
       "277298        8   66.666667            2          0.500000   \n",
       "492671        9   52.941176            2          0.125000   \n",
       "\n",
       "        summary_subjectivity  reveiw_len  \n",
       "90153               0.666667         619  \n",
       "403514              0.750000          40  \n",
       "299132              0.594444          43  \n",
       "277298              0.600000          40  \n",
       "492671              0.375000         135  \n",
       "\n",
       "[5 rows x 22 columns]"
      ]
     },
     "execution_count": 43,
     "metadata": {},
     "output_type": "execute_result"
    }
   ],
   "source": [
    "train_df.head()"
   ]
  },
  {
   "cell_type": "code",
   "execution_count": 44,
   "metadata": {},
   "outputs": [
    {
     "data": {
      "text/html": [
       "<div>\n",
       "<style scoped>\n",
       "    .dataframe tbody tr th:only-of-type {\n",
       "        vertical-align: middle;\n",
       "    }\n",
       "\n",
       "    .dataframe tbody tr th {\n",
       "        vertical-align: top;\n",
       "    }\n",
       "\n",
       "    .dataframe thead th {\n",
       "        text-align: right;\n",
       "    }\n",
       "</style>\n",
       "<table border=\"1\" class=\"dataframe\">\n",
       "  <thead>\n",
       "    <tr style=\"text-align: right;\">\n",
       "      <th></th>\n",
       "      <th>Unnamed: 0</th>\n",
       "      <th>Unnamed: 0.1</th>\n",
       "      <th>review</th>\n",
       "      <th>summary</th>\n",
       "      <th>cheat</th>\n",
       "      <th>cheat_num</th>\n",
       "      <th>review_len</th>\n",
       "      <th>summary_len</th>\n",
       "      <th>POS_keys</th>\n",
       "      <th>DEP_keys</th>\n",
       "      <th>...</th>\n",
       "      <th>overlap</th>\n",
       "      <th>binaryrating</th>\n",
       "      <th>vote</th>\n",
       "      <th>token_lcs</th>\n",
       "      <th>len_lcs</th>\n",
       "      <th>percent_lcs</th>\n",
       "      <th>overlap_pos</th>\n",
       "      <th>summary_polarity</th>\n",
       "      <th>summary_subjectivity</th>\n",
       "      <th>reveiw_len</th>\n",
       "    </tr>\n",
       "  </thead>\n",
       "  <tbody>\n",
       "    <tr>\n",
       "      <th>21412</th>\n",
       "      <td>21412</td>\n",
       "      <td>21412</td>\n",
       "      <td>great camera for the for novice user like me ....</td>\n",
       "      <td>&lt;s&gt; great camera for the price star &lt;/s&gt;</td>\n",
       "      <td>{'camera', 'price', 'great'}</td>\n",
       "      <td>1</td>\n",
       "      <td>235</td>\n",
       "      <td>8</td>\n",
       "      <td>['camera', 'great', 'digital', 'camera', '', '...</td>\n",
       "      <td>['camera', 'great', 'first', 'digital', 'camer...</td>\n",
       "      <td>...</td>\n",
       "      <td>5</td>\n",
       "      <td>NaN</td>\n",
       "      <td>NaN</td>\n",
       "      <td>great camera for the price</td>\n",
       "      <td>5</td>\n",
       "      <td>62.500000</td>\n",
       "      <td>2</td>\n",
       "      <td>0.800</td>\n",
       "      <td>0.75</td>\n",
       "      <td>235</td>\n",
       "    </tr>\n",
       "    <tr>\n",
       "      <th>124072</th>\n",
       "      <td>124072</td>\n",
       "      <td>124072</td>\n",
       "      <td>bit small . have squint lot see happen the scr...</td>\n",
       "      <td>&lt;s&gt; while always strive to be better than aver...</td>\n",
       "      <td>{'average', 'strive', 'better'}</td>\n",
       "      <td>1</td>\n",
       "      <td>84</td>\n",
       "      <td>10</td>\n",
       "      <td>['', 'happen', 'screen', 'find', 'tv', 'invite...</td>\n",
       "      <td>['squint', 'happen', 'lot', 'see', 'screen', '...</td>\n",
       "      <td>...</td>\n",
       "      <td>6</td>\n",
       "      <td>NaN</td>\n",
       "      <td>NaN</td>\n",
       "      <td>while always strive better than average</td>\n",
       "      <td>6</td>\n",
       "      <td>60.000000</td>\n",
       "      <td>2</td>\n",
       "      <td>0.175</td>\n",
       "      <td>0.45</td>\n",
       "      <td>84</td>\n",
       "    </tr>\n",
       "    <tr>\n",
       "      <th>350410</th>\n",
       "      <td>350410</td>\n",
       "      <td>350410</td>\n",
       "      <td>purchase this phone last july 2011 and the pow...</td>\n",
       "      <td>&lt;s&gt; warranty no warranty in amazon com llc &lt;/s&gt;</td>\n",
       "      <td>{'llc', 'amazon', 'warranty'}</td>\n",
       "      <td>0</td>\n",
       "      <td>514</td>\n",
       "      <td>9</td>\n",
       "      <td>['purchase', 'phone', 'instruction', 'follow',...</td>\n",
       "      <td>['button', 'power', 'phone', 'purchase', 'july...</td>\n",
       "      <td>...</td>\n",
       "      <td>3</td>\n",
       "      <td>NaN</td>\n",
       "      <td>NaN</td>\n",
       "      <td>amazon amazon llc</td>\n",
       "      <td>3</td>\n",
       "      <td>33.333333</td>\n",
       "      <td>2</td>\n",
       "      <td>0.000</td>\n",
       "      <td>0.00</td>\n",
       "      <td>514</td>\n",
       "    </tr>\n",
       "    <tr>\n",
       "      <th>240350</th>\n",
       "      <td>240350</td>\n",
       "      <td>240350</td>\n",
       "      <td>have two these scooter there major problem wit...</td>\n",
       "      <td>&lt;s&gt; currie zip scooter chain fall off every ri...</td>\n",
       "      <td>{'fall', 'ride', 'chain', 'scooter', 'currie'}</td>\n",
       "      <td>1</td>\n",
       "      <td>50</td>\n",
       "      <td>10</td>\n",
       "      <td>['problem', 'major', 'occur', 'scooter', '', '...</td>\n",
       "      <td>['problem', 'major', 'scooter', 'fall', 'have'...</td>\n",
       "      <td>...</td>\n",
       "      <td>7</td>\n",
       "      <td>NaN</td>\n",
       "      <td>NaN</td>\n",
       "      <td>scooter chain fall off every ride</td>\n",
       "      <td>6</td>\n",
       "      <td>60.000000</td>\n",
       "      <td>2</td>\n",
       "      <td>0.000</td>\n",
       "      <td>0.00</td>\n",
       "      <td>50</td>\n",
       "    </tr>\n",
       "    <tr>\n",
       "      <th>478832</th>\n",
       "      <td>478832</td>\n",
       "      <td>478832</td>\n",
       "      <td>really like this stroller for get puppy out an...</td>\n",
       "      <td>&lt;s&gt; really like this stroller for get my puppy...</td>\n",
       "      <td>{'stroller', 'puppy', 'like'}</td>\n",
       "      <td>1</td>\n",
       "      <td>80</td>\n",
       "      <td>13</td>\n",
       "      <td>['see', 'world', 'puppy', 'old', '', '', 'walk...</td>\n",
       "      <td>['risk', 'world', 'other', 'puppy', 'parvo', '...</td>\n",
       "      <td>...</td>\n",
       "      <td>10</td>\n",
       "      <td>NaN</td>\n",
       "      <td>NaN</td>\n",
       "      <td>really like this stroller for get puppy out an...</td>\n",
       "      <td>10</td>\n",
       "      <td>76.923077</td>\n",
       "      <td>2</td>\n",
       "      <td>0.200</td>\n",
       "      <td>0.20</td>\n",
       "      <td>80</td>\n",
       "    </tr>\n",
       "  </tbody>\n",
       "</table>\n",
       "<p>5 rows × 22 columns</p>\n",
       "</div>"
      ],
      "text/plain": [
       "        Unnamed: 0  Unnamed: 0.1  \\\n",
       "21412        21412         21412   \n",
       "124072      124072        124072   \n",
       "350410      350410        350410   \n",
       "240350      240350        240350   \n",
       "478832      478832        478832   \n",
       "\n",
       "                                                   review  \\\n",
       "21412   great camera for the for novice user like me ....   \n",
       "124072  bit small . have squint lot see happen the scr...   \n",
       "350410  purchase this phone last july 2011 and the pow...   \n",
       "240350  have two these scooter there major problem wit...   \n",
       "478832  really like this stroller for get puppy out an...   \n",
       "\n",
       "                                                  summary  \\\n",
       "21412            <s> great camera for the price star </s>   \n",
       "124072  <s> while always strive to be better than aver...   \n",
       "350410    <s> warranty no warranty in amazon com llc </s>   \n",
       "240350  <s> currie zip scooter chain fall off every ri...   \n",
       "478832  <s> really like this stroller for get my puppy...   \n",
       "\n",
       "                                                 cheat  cheat_num  review_len  \\\n",
       "21412                     {'camera', 'price', 'great'}          1         235   \n",
       "124072                 {'average', 'strive', 'better'}          1          84   \n",
       "350410                   {'llc', 'amazon', 'warranty'}          0         514   \n",
       "240350  {'fall', 'ride', 'chain', 'scooter', 'currie'}          1          50   \n",
       "478832                   {'stroller', 'puppy', 'like'}          1          80   \n",
       "\n",
       "        summary_len                                           POS_keys  \\\n",
       "21412             8  ['camera', 'great', 'digital', 'camera', '', '...   \n",
       "124072           10  ['', 'happen', 'screen', 'find', 'tv', 'invite...   \n",
       "350410            9  ['purchase', 'phone', 'instruction', 'follow',...   \n",
       "240350           10  ['problem', 'major', 'occur', 'scooter', '', '...   \n",
       "478832           13  ['see', 'world', 'puppy', 'old', '', '', 'walk...   \n",
       "\n",
       "                                                 DEP_keys     ...     overlap  \\\n",
       "21412   ['camera', 'great', 'first', 'digital', 'camer...     ...           5   \n",
       "124072  ['squint', 'happen', 'lot', 'see', 'screen', '...     ...           6   \n",
       "350410  ['button', 'power', 'phone', 'purchase', 'july...     ...           3   \n",
       "240350  ['problem', 'major', 'scooter', 'fall', 'have'...     ...           7   \n",
       "478832  ['risk', 'world', 'other', 'puppy', 'parvo', '...     ...          10   \n",
       "\n",
       "       binaryrating  vote                                          token_lcs  \\\n",
       "21412           NaN   NaN                        great camera for the price    \n",
       "124072          NaN   NaN           while always strive better than average    \n",
       "350410          NaN   NaN                                 amazon amazon llc    \n",
       "240350          NaN   NaN                 scooter chain fall off every ride    \n",
       "478832          NaN   NaN  really like this stroller for get puppy out an...   \n",
       "\n",
       "        len_lcs percent_lcs  overlap_pos  summary_polarity  \\\n",
       "21412         5   62.500000            2             0.800   \n",
       "124072        6   60.000000            2             0.175   \n",
       "350410        3   33.333333            2             0.000   \n",
       "240350        6   60.000000            2             0.000   \n",
       "478832       10   76.923077            2             0.200   \n",
       "\n",
       "        summary_subjectivity  reveiw_len  \n",
       "21412                   0.75         235  \n",
       "124072                  0.45          84  \n",
       "350410                  0.00         514  \n",
       "240350                  0.00          50  \n",
       "478832                  0.20          80  \n",
       "\n",
       "[5 rows x 22 columns]"
      ]
     },
     "execution_count": 44,
     "metadata": {},
     "output_type": "execute_result"
    }
   ],
   "source": [
    "val_df.head()"
   ]
  },
  {
   "cell_type": "code",
   "execution_count": 45,
   "metadata": {},
   "outputs": [
    {
     "name": "stderr",
     "output_type": "stream",
     "text": [
      "100%|██████████| 504075/504075 [00:23<00:00, 21294.61it/s]\n",
      "100%|██████████| 56009/56009 [00:02<00:00, 21420.98it/s]\n"
     ]
    }
   ],
   "source": [
    "import os\n",
    "import matplotlib.pyplot as plt\n",
    "\n",
    "if os.path.exists('Analay/train_df.xlsx'):\n",
    "    print('True')\n",
    "    p_train_df = pd.read_excel('Analay/train_df.xlsx')\n",
    "    p_val_df = pd.read_excel('Analay/val_df.xlsx')\n",
    "else:    \n",
    "    p_train_df = analay(deepcopy(train_df), 'train')\n",
    "    p_train_df.to_excel('Analay/train_df.xlsx', encoding='utf8')\n",
    "\n",
    "    p_val_df = analay(deepcopy(val_df), 'test')\n",
    "    p_val_df.to_excel('Analay/val_df.xlsx', encoding='utf8')"
   ]
  },
  {
   "cell_type": "code",
   "execution_count": 46,
   "metadata": {},
   "outputs": [],
   "source": [
    "# p_train_df['review_ID'] = p_train_df.review_ID.astype(str)\n",
    "# p_train_df['review_ID'] = p_train_df.review_ID.astype(str)\n",
    "\n",
    "# p_train_df.describe()"
   ]
  },
  {
   "cell_type": "code",
   "execution_count": 47,
   "metadata": {},
   "outputs": [
    {
     "name": "stdout",
     "output_type": "stream",
     "text": [
      "count    504075.000000\n",
      "mean        133.084476\n",
      "std         131.237904\n",
      "min          20.000000\n",
      "25%          51.000000\n",
      "50%          89.000000\n",
      "75%         163.000000\n",
      "max        1000.000000\n",
      "Name: reveiw_len, dtype: float64\n",
      "reveiw_len < 30 : 37857\n",
      "reveiw_len > 500 : 14196\n"
     ]
    },
    {
     "data": {
      "text/plain": [
       "Text(0.5, 1.0, 'reveiw_len')"
      ]
     },
     "execution_count": 47,
     "metadata": {},
     "output_type": "execute_result"
    },
    {
     "data": {
      "image/png": "[encoded data removed]",
      "text/plain": [
       "<Figure size 432x288 with 1 Axes>"
      ]
     },
     "metadata": {
      "needs_background": "light"
     },
     "output_type": "display_data"
    }
   ],
   "source": [
    "\n",
    "hist = p_train_df['reveiw_len'].hist(bins=10)\n",
    "s = p_train_df['reveiw_len'].describe(); print(s)\n",
    "print('reveiw_len < 30 :',len(p_train_df[p_train_df['reveiw_len']<30]))\n",
    "print('reveiw_len > 500 :',len(p_train_df[p_train_df['reveiw_len']>=500])) # # max pos, max_enc_steps \n",
    "plt.ylabel('length')\n",
    "plt.title('reveiw_len')"
   ]
  },
  {
   "cell_type": "code",
   "execution_count": 48,
   "metadata": {},
   "outputs": [
    {
     "name": "stdout",
     "output_type": "stream",
     "text": [
      "summary_len > 30 : 160\n",
      "summary_len <= 5 : 22\n",
      "count    504075.000000\n",
      "mean         12.507050\n",
      "std           3.673311\n",
      "min           5.000000\n",
      "25%          10.000000\n",
      "50%          12.000000\n",
      "75%          14.000000\n",
      "max          61.000000\n",
      "Name: summary_len, dtype: float64\n"
     ]
    },
    {
     "data": {
      "text/plain": [
       "Text(0.5, 1.0, 'summary_len')"
      ]
     },
     "execution_count": 48,
     "metadata": {},
     "output_type": "execute_result"
    },
    {
     "data": {
      "image/png": "[encoded data removed]",
      "text/plain": [
       "<Figure size 432x288 with 1 Axes>"
      ]
     },
     "metadata": {
      "needs_background": "light"
     },
     "output_type": "display_data"
    }
   ],
   "source": [
    "print('summary_len > 30 :',len(p_train_df[p_train_df['summary_len']>30]))  # max_dec_steps\n",
    "print('summary_len <= 5 :',len(p_train_df[p_train_df['summary_len']<6])) # min_dec_steps\n",
    "hist = p_train_df['summary_len'].hist(bins=10)\n",
    "s = p_train_df['summary_len'].describe(); print(s)\n",
    "plt.ylabel('length')\n",
    "plt.title('summary_len')"
   ]
  },
  {
   "cell_type": "markdown",
   "metadata": {},
   "source": [
    "# Rating"
   ]
  },
  {
   "cell_type": "code",
   "execution_count": 49,
   "metadata": {},
   "outputs": [],
   "source": [
    "# hist = p_train_df['rating'].hist(bins=5)\n",
    "# # s = p_train_df['vote'].describe(); print(s)\n",
    "# plt.ylabel('count')\n",
    "# plt.title('Rating')"
   ]
  },
  {
   "cell_type": "markdown",
   "metadata": {},
   "source": [
    "# sentiment"
   ]
  },
  {
   "cell_type": "code",
   "execution_count": 50,
   "metadata": {},
   "outputs": [
    {
     "name": "stdout",
     "output_type": "stream",
     "text": [
      "summary_polarity and summary_subjectivity  > 0 : 372734\n",
      "count    504075.000000\n",
      "mean          0.537656\n",
      "std           0.286407\n",
      "min           0.000000\n",
      "25%           0.375000\n",
      "50%           0.585374\n",
      "75%           0.750000\n",
      "max           1.000000\n",
      "Name: summary_subjectivity, dtype: float64\n"
     ]
    },
    {
     "data": {
      "text/plain": [
       "Text(0.5, 1.0, 'summary_subjectivity')"
      ]
     },
     "execution_count": 50,
     "metadata": {},
     "output_type": "execute_result"
    },
    {
     "data": {
      "image/png": "[encoded data removed]",
      "text/plain": [
       "<Figure size 432x288 with 1 Axes>"
      ]
     },
     "metadata": {
      "needs_background": "light"
     },
     "output_type": "display_data"
    }
   ],
   "source": [
    "print('summary_polarity and summary_subjectivity  > 0 :',len(p_train_df[\n",
    "    (abs(p_train_df['summary_polarity'])>0.1) &\n",
    "    (p_train_df['summary_subjectivity']>0.25)\n",
    "\n",
    "]))  # max_dec_steps\n",
    "# print('summary_len <= 5 :',len(p_train_df[p_train_df['summary_len']<6])) # min_dec_steps\n",
    "\n",
    "hist = p_train_df['summary_subjectivity'].hist(bins=10)\n",
    "s = p_train_df['summary_subjectivity'].describe(); print(s)\n",
    "plt.ylabel('subjectivity')\n",
    "plt.title('summary_subjectivity')"
   ]
  },
  {
   "cell_type": "code",
   "execution_count": 51,
   "metadata": {
    "scrolled": true
   },
   "outputs": [
    {
     "name": "stdout",
     "output_type": "stream",
     "text": [
      "summary_polarity and summary_subjectivity  > 0 : 372734\n",
      "count    504075.000000\n",
      "mean          0.372711\n",
      "std           0.288491\n",
      "min           0.000000\n",
      "25%           0.125000\n",
      "50%           0.350000\n",
      "75%           0.566667\n",
      "max           1.000000\n",
      "Name: summary_polarity, dtype: float64\n"
     ]
    },
    {
     "data": {
      "text/plain": [
       "Text(0.5, 1.0, 'summary_polarity')"
      ]
     },
     "execution_count": 51,
     "metadata": {},
     "output_type": "execute_result"
    },
    {
     "data": {
      "image/png": "[encoded data removed]",
      "text/plain": [
       "<Figure size 432x288 with 1 Axes>"
      ]
     },
     "metadata": {
      "needs_background": "light"
     },
     "output_type": "display_data"
    }
   ],
   "source": [
    "print('summary_polarity and summary_subjectivity  > 0 :',len(p_train_df[\n",
    "    (abs(p_train_df['summary_polarity'])>0.1) &\n",
    "    (p_train_df['summary_subjectivity']>0.25)\n",
    "\n",
    "]))  # max_dec_steps\n",
    "# print('summary_len <= 5 :',len(p_train_df[p_train_df['summary_len']<6])) # min_dec_steps\n",
    "\n",
    "hist = p_train_df['summary_polarity'].hist(bins=10)\n",
    "s = p_train_df['summary_polarity'].describe(); print(s)\n",
    "plt.ylabel('polarity')\n",
    "plt.title('summary_polarity')"
   ]
  },
  {
   "cell_type": "code",
   "execution_count": null,
   "metadata": {},
   "outputs": [],
   "source": []
  },
  {
   "cell_type": "markdown",
   "metadata": {},
   "source": [
    "# POS_Keyword"
   ]
  },
  {
   "cell_type": "code",
   "execution_count": 52,
   "metadata": {},
   "outputs": [
    {
     "data": {
      "text/html": [
       "<div>\n",
       "<style scoped>\n",
       "    .dataframe tbody tr th:only-of-type {\n",
       "        vertical-align: middle;\n",
       "    }\n",
       "\n",
       "    .dataframe tbody tr th {\n",
       "        vertical-align: top;\n",
       "    }\n",
       "\n",
       "    .dataframe thead th {\n",
       "        text-align: right;\n",
       "    }\n",
       "</style>\n",
       "<table border=\"1\" class=\"dataframe\">\n",
       "  <thead>\n",
       "    <tr style=\"text-align: right;\">\n",
       "      <th></th>\n",
       "      <th>len_Pos_keys</th>\n",
       "    </tr>\n",
       "  </thead>\n",
       "  <tbody>\n",
       "    <tr>\n",
       "      <th>count</th>\n",
       "      <td>504075.000000</td>\n",
       "    </tr>\n",
       "    <tr>\n",
       "      <th>mean</th>\n",
       "      <td>28.674392</td>\n",
       "    </tr>\n",
       "    <tr>\n",
       "      <th>std</th>\n",
       "      <td>27.971112</td>\n",
       "    </tr>\n",
       "    <tr>\n",
       "      <th>min</th>\n",
       "      <td>1.000000</td>\n",
       "    </tr>\n",
       "    <tr>\n",
       "      <th>25%</th>\n",
       "      <td>11.000000</td>\n",
       "    </tr>\n",
       "    <tr>\n",
       "      <th>50%</th>\n",
       "      <td>19.000000</td>\n",
       "    </tr>\n",
       "    <tr>\n",
       "      <th>75%</th>\n",
       "      <td>35.000000</td>\n",
       "    </tr>\n",
       "    <tr>\n",
       "      <th>max</th>\n",
       "      <td>317.000000</td>\n",
       "    </tr>\n",
       "  </tbody>\n",
       "</table>\n",
       "</div>"
      ],
      "text/plain": [
       "        len_Pos_keys\n",
       "count  504075.000000\n",
       "mean       28.674392\n",
       "std        27.971112\n",
       "min         1.000000\n",
       "25%        11.000000\n",
       "50%        19.000000\n",
       "75%        35.000000\n",
       "max       317.000000"
      ]
     },
     "execution_count": 52,
     "metadata": {},
     "output_type": "execute_result"
    }
   ],
   "source": [
    "p_train_df['len_Pos_keys'] = 0\n",
    "f = lambda x: len(eval(x))\n",
    "p_train_df['len_Pos_keys'] = p_train_df['POS_keys'].apply(f)\n",
    "p_train_df[['POS_keys','len_Pos_keys']].head()\n",
    "p_train_df[['POS_keys','len_Pos_keys']].describe()"
   ]
  },
  {
   "cell_type": "code",
   "execution_count": 53,
   "metadata": {},
   "outputs": [
    {
     "name": "stdout",
     "output_type": "stream",
     "text": [
      "20315\n"
     ]
    }
   ],
   "source": [
    "print(len(p_train_df[p_train_df['len_Pos_keys']<=5]))"
   ]
  },
  {
   "cell_type": "markdown",
   "metadata": {},
   "source": [
    "# DEP_Keyword"
   ]
  },
  {
   "cell_type": "code",
   "execution_count": 54,
   "metadata": {},
   "outputs": [
    {
     "data": {
      "text/html": [
       "<div>\n",
       "<style scoped>\n",
       "    .dataframe tbody tr th:only-of-type {\n",
       "        vertical-align: middle;\n",
       "    }\n",
       "\n",
       "    .dataframe tbody tr th {\n",
       "        vertical-align: top;\n",
       "    }\n",
       "\n",
       "    .dataframe thead th {\n",
       "        text-align: right;\n",
       "    }\n",
       "</style>\n",
       "<table border=\"1\" class=\"dataframe\">\n",
       "  <thead>\n",
       "    <tr style=\"text-align: right;\">\n",
       "      <th></th>\n",
       "      <th>len_DEP_keys</th>\n",
       "    </tr>\n",
       "  </thead>\n",
       "  <tbody>\n",
       "    <tr>\n",
       "      <th>count</th>\n",
       "      <td>504075.000000</td>\n",
       "    </tr>\n",
       "    <tr>\n",
       "      <th>mean</th>\n",
       "      <td>46.994158</td>\n",
       "    </tr>\n",
       "    <tr>\n",
       "      <th>std</th>\n",
       "      <td>48.281941</td>\n",
       "    </tr>\n",
       "    <tr>\n",
       "      <th>min</th>\n",
       "      <td>0.000000</td>\n",
       "    </tr>\n",
       "    <tr>\n",
       "      <th>25%</th>\n",
       "      <td>17.000000</td>\n",
       "    </tr>\n",
       "    <tr>\n",
       "      <th>50%</th>\n",
       "      <td>31.000000</td>\n",
       "    </tr>\n",
       "    <tr>\n",
       "      <th>75%</th>\n",
       "      <td>58.000000</td>\n",
       "    </tr>\n",
       "    <tr>\n",
       "      <th>max</th>\n",
       "      <td>475.000000</td>\n",
       "    </tr>\n",
       "  </tbody>\n",
       "</table>\n",
       "</div>"
      ],
      "text/plain": [
       "        len_DEP_keys\n",
       "count  504075.000000\n",
       "mean       46.994158\n",
       "std        48.281941\n",
       "min         0.000000\n",
       "25%        17.000000\n",
       "50%        31.000000\n",
       "75%        58.000000\n",
       "max       475.000000"
      ]
     },
     "execution_count": 54,
     "metadata": {},
     "output_type": "execute_result"
    }
   ],
   "source": [
    "p_train_df['len_DEP_keys'] = 0\n",
    "f = lambda x: len(eval(x))\n",
    "p_train_df['len_DEP_keys'] = p_train_df['DEP_keys'].apply(f)\n",
    "p_train_df[['DEP_keys','len_DEP_keys']].head()\n",
    "p_train_df[['DEP_keys','len_DEP_keys']].describe()"
   ]
  },
  {
   "cell_type": "code",
   "execution_count": 55,
   "metadata": {},
   "outputs": [
    {
     "name": "stdout",
     "output_type": "stream",
     "text": [
      "6860\n"
     ]
    }
   ],
   "source": [
    "print(len(p_train_df[p_train_df['len_DEP_keys']<=5]))"
   ]
  },
  {
   "cell_type": "markdown",
   "metadata": {},
   "source": [
    "# TextRank_Keyword"
   ]
  },
  {
   "cell_type": "code",
   "execution_count": 56,
   "metadata": {},
   "outputs": [
    {
     "ename": "KeyError",
     "evalue": "'TextRank_keys'",
     "output_type": "error",
     "traceback": [
      "\u001b[0;31m---------------------------------------------------------------------------\u001b[0m",
      "\u001b[0;31mKeyError\u001b[0m                                  Traceback (most recent call last)",
      "\u001b[0;32m~/.conda/envs/Leyan/lib/python3.6/site-packages/pandas/core/indexes/base.py\u001b[0m in \u001b[0;36mget_loc\u001b[0;34m(self, key, method, tolerance)\u001b[0m\n\u001b[1;32m   3077\u001b[0m             \u001b[0;32mtry\u001b[0m\u001b[0;34m:\u001b[0m\u001b[0;34m\u001b[0m\u001b[0;34m\u001b[0m\u001b[0m\n\u001b[0;32m-> 3078\u001b[0;31m                 \u001b[0;32mreturn\u001b[0m \u001b[0mself\u001b[0m\u001b[0;34m.\u001b[0m\u001b[0m_engine\u001b[0m\u001b[0;34m.\u001b[0m\u001b[0mget_loc\u001b[0m\u001b[0;34m(\u001b[0m\u001b[0mkey\u001b[0m\u001b[0;34m)\u001b[0m\u001b[0;34m\u001b[0m\u001b[0;34m\u001b[0m\u001b[0m\n\u001b[0m\u001b[1;32m   3079\u001b[0m             \u001b[0;32mexcept\u001b[0m \u001b[0mKeyError\u001b[0m\u001b[0;34m:\u001b[0m\u001b[0;34m\u001b[0m\u001b[0;34m\u001b[0m\u001b[0m\n",
      "\u001b[0;32mpandas/_libs/index.pyx\u001b[0m in \u001b[0;36mpandas._libs.index.IndexEngine.get_loc\u001b[0;34m()\u001b[0m\n",
      "\u001b[0;32mpandas/_libs/index.pyx\u001b[0m in \u001b[0;36mpandas._libs.index.IndexEngine.get_loc\u001b[0;34m()\u001b[0m\n",
      "\u001b[0;32mpandas/_libs/hashtable_class_helper.pxi\u001b[0m in \u001b[0;36mpandas._libs.hashtable.PyObjectHashTable.get_item\u001b[0;34m()\u001b[0m\n",
      "\u001b[0;32mpandas/_libs/hashtable_class_helper.pxi\u001b[0m in \u001b[0;36mpandas._libs.hashtable.PyObjectHashTable.get_item\u001b[0;34m()\u001b[0m\n",
      "\u001b[0;31mKeyError\u001b[0m: 'TextRank_keys'",
      "\nDuring handling of the above exception, another exception occurred:\n",
      "\u001b[0;31mKeyError\u001b[0m                                  Traceback (most recent call last)",
      "\u001b[0;32m<ipython-input-56-52f5804855de>\u001b[0m in \u001b[0;36m<module>\u001b[0;34m\u001b[0m\n\u001b[1;32m      1\u001b[0m \u001b[0mp_train_df\u001b[0m\u001b[0;34m[\u001b[0m\u001b[0;34m'len_TextRank_keys'\u001b[0m\u001b[0;34m]\u001b[0m \u001b[0;34m=\u001b[0m \u001b[0;36m0\u001b[0m\u001b[0;34m\u001b[0m\u001b[0;34m\u001b[0m\u001b[0m\n\u001b[1;32m      2\u001b[0m \u001b[0mf\u001b[0m \u001b[0;34m=\u001b[0m \u001b[0;32mlambda\u001b[0m \u001b[0mx\u001b[0m\u001b[0;34m:\u001b[0m \u001b[0mlen\u001b[0m\u001b[0;34m(\u001b[0m\u001b[0meval\u001b[0m\u001b[0;34m(\u001b[0m\u001b[0mx\u001b[0m\u001b[0;34m)\u001b[0m\u001b[0;34m)\u001b[0m\u001b[0;34m\u001b[0m\u001b[0;34m\u001b[0m\u001b[0m\n\u001b[0;32m----> 3\u001b[0;31m \u001b[0mp_train_df\u001b[0m\u001b[0;34m[\u001b[0m\u001b[0;34m'len_TextRank_keys'\u001b[0m\u001b[0;34m]\u001b[0m \u001b[0;34m=\u001b[0m \u001b[0mp_train_df\u001b[0m\u001b[0;34m[\u001b[0m\u001b[0;34m'TextRank_keys'\u001b[0m\u001b[0;34m]\u001b[0m\u001b[0;34m.\u001b[0m\u001b[0mapply\u001b[0m\u001b[0;34m(\u001b[0m\u001b[0mf\u001b[0m\u001b[0;34m)\u001b[0m\u001b[0;34m\u001b[0m\u001b[0;34m\u001b[0m\u001b[0m\n\u001b[0m\u001b[1;32m      4\u001b[0m \u001b[0mp_train_df\u001b[0m\u001b[0;34m[\u001b[0m\u001b[0;34m[\u001b[0m\u001b[0;34m'TextRank_keys'\u001b[0m\u001b[0;34m,\u001b[0m\u001b[0;34m'len_TextRank_keys'\u001b[0m\u001b[0;34m]\u001b[0m\u001b[0;34m]\u001b[0m\u001b[0;34m.\u001b[0m\u001b[0mhead\u001b[0m\u001b[0;34m(\u001b[0m\u001b[0;34m)\u001b[0m\u001b[0;34m\u001b[0m\u001b[0;34m\u001b[0m\u001b[0m\n\u001b[1;32m      5\u001b[0m \u001b[0mp_train_df\u001b[0m\u001b[0;34m[\u001b[0m\u001b[0;34m[\u001b[0m\u001b[0;34m'TextRank_keys'\u001b[0m\u001b[0;34m,\u001b[0m\u001b[0;34m'len_TextRank_keys'\u001b[0m\u001b[0;34m]\u001b[0m\u001b[0;34m]\u001b[0m\u001b[0;34m.\u001b[0m\u001b[0mdescribe\u001b[0m\u001b[0;34m(\u001b[0m\u001b[0;34m)\u001b[0m\u001b[0;34m\u001b[0m\u001b[0;34m\u001b[0m\u001b[0m\n",
      "\u001b[0;32m~/.conda/envs/Leyan/lib/python3.6/site-packages/pandas/core/frame.py\u001b[0m in \u001b[0;36m__getitem__\u001b[0;34m(self, key)\u001b[0m\n\u001b[1;32m   2686\u001b[0m             \u001b[0;32mreturn\u001b[0m \u001b[0mself\u001b[0m\u001b[0;34m.\u001b[0m\u001b[0m_getitem_multilevel\u001b[0m\u001b[0;34m(\u001b[0m\u001b[0mkey\u001b[0m\u001b[0;34m)\u001b[0m\u001b[0;34m\u001b[0m\u001b[0;34m\u001b[0m\u001b[0m\n\u001b[1;32m   2687\u001b[0m         \u001b[0;32melse\u001b[0m\u001b[0;34m:\u001b[0m\u001b[0;34m\u001b[0m\u001b[0;34m\u001b[0m\u001b[0m\n\u001b[0;32m-> 2688\u001b[0;31m             \u001b[0;32mreturn\u001b[0m \u001b[0mself\u001b[0m\u001b[0;34m.\u001b[0m\u001b[0m_getitem_column\u001b[0m\u001b[0;34m(\u001b[0m\u001b[0mkey\u001b[0m\u001b[0;34m)\u001b[0m\u001b[0;34m\u001b[0m\u001b[0;34m\u001b[0m\u001b[0m\n\u001b[0m\u001b[1;32m   2689\u001b[0m \u001b[0;34m\u001b[0m\u001b[0m\n\u001b[1;32m   2690\u001b[0m     \u001b[0;32mdef\u001b[0m \u001b[0m_getitem_column\u001b[0m\u001b[0;34m(\u001b[0m\u001b[0mself\u001b[0m\u001b[0;34m,\u001b[0m \u001b[0mkey\u001b[0m\u001b[0;34m)\u001b[0m\u001b[0;34m:\u001b[0m\u001b[0;34m\u001b[0m\u001b[0;34m\u001b[0m\u001b[0m\n",
      "\u001b[0;32m~/.conda/envs/Leyan/lib/python3.6/site-packages/pandas/core/frame.py\u001b[0m in \u001b[0;36m_getitem_column\u001b[0;34m(self, key)\u001b[0m\n\u001b[1;32m   2693\u001b[0m         \u001b[0;31m# get column\u001b[0m\u001b[0;34m\u001b[0m\u001b[0;34m\u001b[0m\u001b[0;34m\u001b[0m\u001b[0m\n\u001b[1;32m   2694\u001b[0m         \u001b[0;32mif\u001b[0m \u001b[0mself\u001b[0m\u001b[0;34m.\u001b[0m\u001b[0mcolumns\u001b[0m\u001b[0;34m.\u001b[0m\u001b[0mis_unique\u001b[0m\u001b[0;34m:\u001b[0m\u001b[0;34m\u001b[0m\u001b[0;34m\u001b[0m\u001b[0m\n\u001b[0;32m-> 2695\u001b[0;31m             \u001b[0;32mreturn\u001b[0m \u001b[0mself\u001b[0m\u001b[0;34m.\u001b[0m\u001b[0m_get_item_cache\u001b[0m\u001b[0;34m(\u001b[0m\u001b[0mkey\u001b[0m\u001b[0;34m)\u001b[0m\u001b[0;34m\u001b[0m\u001b[0;34m\u001b[0m\u001b[0m\n\u001b[0m\u001b[1;32m   2696\u001b[0m \u001b[0;34m\u001b[0m\u001b[0m\n\u001b[1;32m   2697\u001b[0m         \u001b[0;31m# duplicate columns & possible reduce dimensionality\u001b[0m\u001b[0;34m\u001b[0m\u001b[0;34m\u001b[0m\u001b[0;34m\u001b[0m\u001b[0m\n",
      "\u001b[0;32m~/.conda/envs/Leyan/lib/python3.6/site-packages/pandas/core/generic.py\u001b[0m in \u001b[0;36m_get_item_cache\u001b[0;34m(self, item)\u001b[0m\n\u001b[1;32m   2487\u001b[0m         \u001b[0mres\u001b[0m \u001b[0;34m=\u001b[0m \u001b[0mcache\u001b[0m\u001b[0;34m.\u001b[0m\u001b[0mget\u001b[0m\u001b[0;34m(\u001b[0m\u001b[0mitem\u001b[0m\u001b[0;34m)\u001b[0m\u001b[0;34m\u001b[0m\u001b[0;34m\u001b[0m\u001b[0m\n\u001b[1;32m   2488\u001b[0m         \u001b[0;32mif\u001b[0m \u001b[0mres\u001b[0m \u001b[0;32mis\u001b[0m \u001b[0;32mNone\u001b[0m\u001b[0;34m:\u001b[0m\u001b[0;34m\u001b[0m\u001b[0;34m\u001b[0m\u001b[0m\n\u001b[0;32m-> 2489\u001b[0;31m             \u001b[0mvalues\u001b[0m \u001b[0;34m=\u001b[0m \u001b[0mself\u001b[0m\u001b[0;34m.\u001b[0m\u001b[0m_data\u001b[0m\u001b[0;34m.\u001b[0m\u001b[0mget\u001b[0m\u001b[0;34m(\u001b[0m\u001b[0mitem\u001b[0m\u001b[0;34m)\u001b[0m\u001b[0;34m\u001b[0m\u001b[0;34m\u001b[0m\u001b[0m\n\u001b[0m\u001b[1;32m   2490\u001b[0m             \u001b[0mres\u001b[0m \u001b[0;34m=\u001b[0m \u001b[0mself\u001b[0m\u001b[0;34m.\u001b[0m\u001b[0m_box_item_values\u001b[0m\u001b[0;34m(\u001b[0m\u001b[0mitem\u001b[0m\u001b[0;34m,\u001b[0m \u001b[0mvalues\u001b[0m\u001b[0;34m)\u001b[0m\u001b[0;34m\u001b[0m\u001b[0;34m\u001b[0m\u001b[0m\n\u001b[1;32m   2491\u001b[0m             \u001b[0mcache\u001b[0m\u001b[0;34m[\u001b[0m\u001b[0mitem\u001b[0m\u001b[0;34m]\u001b[0m \u001b[0;34m=\u001b[0m \u001b[0mres\u001b[0m\u001b[0;34m\u001b[0m\u001b[0;34m\u001b[0m\u001b[0m\n",
      "\u001b[0;32m~/.conda/envs/Leyan/lib/python3.6/site-packages/pandas/core/internals.py\u001b[0m in \u001b[0;36mget\u001b[0;34m(self, item, fastpath)\u001b[0m\n\u001b[1;32m   4113\u001b[0m \u001b[0;34m\u001b[0m\u001b[0m\n\u001b[1;32m   4114\u001b[0m             \u001b[0;32mif\u001b[0m \u001b[0;32mnot\u001b[0m \u001b[0misna\u001b[0m\u001b[0;34m(\u001b[0m\u001b[0mitem\u001b[0m\u001b[0;34m)\u001b[0m\u001b[0;34m:\u001b[0m\u001b[0;34m\u001b[0m\u001b[0;34m\u001b[0m\u001b[0m\n\u001b[0;32m-> 4115\u001b[0;31m                 \u001b[0mloc\u001b[0m \u001b[0;34m=\u001b[0m \u001b[0mself\u001b[0m\u001b[0;34m.\u001b[0m\u001b[0mitems\u001b[0m\u001b[0;34m.\u001b[0m\u001b[0mget_loc\u001b[0m\u001b[0;34m(\u001b[0m\u001b[0mitem\u001b[0m\u001b[0;34m)\u001b[0m\u001b[0;34m\u001b[0m\u001b[0;34m\u001b[0m\u001b[0m\n\u001b[0m\u001b[1;32m   4116\u001b[0m             \u001b[0;32melse\u001b[0m\u001b[0;34m:\u001b[0m\u001b[0;34m\u001b[0m\u001b[0;34m\u001b[0m\u001b[0m\n\u001b[1;32m   4117\u001b[0m                 \u001b[0mindexer\u001b[0m \u001b[0;34m=\u001b[0m \u001b[0mnp\u001b[0m\u001b[0;34m.\u001b[0m\u001b[0marange\u001b[0m\u001b[0;34m(\u001b[0m\u001b[0mlen\u001b[0m\u001b[0;34m(\u001b[0m\u001b[0mself\u001b[0m\u001b[0;34m.\u001b[0m\u001b[0mitems\u001b[0m\u001b[0;34m)\u001b[0m\u001b[0;34m)\u001b[0m\u001b[0;34m[\u001b[0m\u001b[0misna\u001b[0m\u001b[0;34m(\u001b[0m\u001b[0mself\u001b[0m\u001b[0;34m.\u001b[0m\u001b[0mitems\u001b[0m\u001b[0;34m)\u001b[0m\u001b[0;34m]\u001b[0m\u001b[0;34m\u001b[0m\u001b[0;34m\u001b[0m\u001b[0m\n",
      "\u001b[0;32m~/.conda/envs/Leyan/lib/python3.6/site-packages/pandas/core/indexes/base.py\u001b[0m in \u001b[0;36mget_loc\u001b[0;34m(self, key, method, tolerance)\u001b[0m\n\u001b[1;32m   3078\u001b[0m                 \u001b[0;32mreturn\u001b[0m \u001b[0mself\u001b[0m\u001b[0;34m.\u001b[0m\u001b[0m_engine\u001b[0m\u001b[0;34m.\u001b[0m\u001b[0mget_loc\u001b[0m\u001b[0;34m(\u001b[0m\u001b[0mkey\u001b[0m\u001b[0;34m)\u001b[0m\u001b[0;34m\u001b[0m\u001b[0;34m\u001b[0m\u001b[0m\n\u001b[1;32m   3079\u001b[0m             \u001b[0;32mexcept\u001b[0m \u001b[0mKeyError\u001b[0m\u001b[0;34m:\u001b[0m\u001b[0;34m\u001b[0m\u001b[0;34m\u001b[0m\u001b[0m\n\u001b[0;32m-> 3080\u001b[0;31m                 \u001b[0;32mreturn\u001b[0m \u001b[0mself\u001b[0m\u001b[0;34m.\u001b[0m\u001b[0m_engine\u001b[0m\u001b[0;34m.\u001b[0m\u001b[0mget_loc\u001b[0m\u001b[0;34m(\u001b[0m\u001b[0mself\u001b[0m\u001b[0;34m.\u001b[0m\u001b[0m_maybe_cast_indexer\u001b[0m\u001b[0;34m(\u001b[0m\u001b[0mkey\u001b[0m\u001b[0;34m)\u001b[0m\u001b[0;34m)\u001b[0m\u001b[0;34m\u001b[0m\u001b[0;34m\u001b[0m\u001b[0m\n\u001b[0m\u001b[1;32m   3081\u001b[0m \u001b[0;34m\u001b[0m\u001b[0m\n\u001b[1;32m   3082\u001b[0m         \u001b[0mindexer\u001b[0m \u001b[0;34m=\u001b[0m \u001b[0mself\u001b[0m\u001b[0;34m.\u001b[0m\u001b[0mget_indexer\u001b[0m\u001b[0;34m(\u001b[0m\u001b[0;34m[\u001b[0m\u001b[0mkey\u001b[0m\u001b[0;34m]\u001b[0m\u001b[0;34m,\u001b[0m \u001b[0mmethod\u001b[0m\u001b[0;34m=\u001b[0m\u001b[0mmethod\u001b[0m\u001b[0;34m,\u001b[0m \u001b[0mtolerance\u001b[0m\u001b[0;34m=\u001b[0m\u001b[0mtolerance\u001b[0m\u001b[0;34m)\u001b[0m\u001b[0;34m\u001b[0m\u001b[0;34m\u001b[0m\u001b[0m\n",
      "\u001b[0;32mpandas/_libs/index.pyx\u001b[0m in \u001b[0;36mpandas._libs.index.IndexEngine.get_loc\u001b[0;34m()\u001b[0m\n",
      "\u001b[0;32mpandas/_libs/index.pyx\u001b[0m in \u001b[0;36mpandas._libs.index.IndexEngine.get_loc\u001b[0;34m()\u001b[0m\n",
      "\u001b[0;32mpandas/_libs/hashtable_class_helper.pxi\u001b[0m in \u001b[0;36mpandas._libs.hashtable.PyObjectHashTable.get_item\u001b[0;34m()\u001b[0m\n",
      "\u001b[0;32mpandas/_libs/hashtable_class_helper.pxi\u001b[0m in \u001b[0;36mpandas._libs.hashtable.PyObjectHashTable.get_item\u001b[0;34m()\u001b[0m\n",
      "\u001b[0;31mKeyError\u001b[0m: 'TextRank_keys'"
     ]
    }
   ],
   "source": [
    "p_train_df['len_TextRank_keys'] = 0\n",
    "f = lambda x: len(eval(x))\n",
    "p_train_df['len_TextRank_keys'] = p_train_df['TextRank_keys'].apply(f)\n",
    "p_train_df[['TextRank_keys','len_TextRank_keys']].head()\n",
    "p_train_df[['TextRank_keys','len_TextRank_keys']].describe()"
   ]
  },
  {
   "cell_type": "code",
   "execution_count": null,
   "metadata": {},
   "outputs": [],
   "source": [
    "print(len(p_train_df[p_train_df['len_TextRank_keys']<=1]))"
   ]
  },
  {
   "cell_type": "markdown",
   "metadata": {},
   "source": [
    "# Prune data length"
   ]
  },
  {
   "cell_type": "code",
   "execution_count": null,
   "metadata": {},
   "outputs": [],
   "source": [
    "print('reveiw_len <= 500 and summary_len<= 20 and summary_polarity > 0.1 and summary_subjectivity > 0.25 : ',len(p_train_df[\n",
    "    (p_train_df['reveiw_len']<=500) & (p_train_df['summary_len']<=20) \n",
    "#     (abs(p_train_df['summary_polarity'])>0.1) &\n",
    "#     (p_train_df['summary_subjectivity']>0.25) &\n",
    "#     (p_train_df['len_TextRank_keys']>0) \n",
    "#     (p_train_df['len_DEP_keys']>5) & \n",
    "#     (p_train_df['len_Pos_keys']>5)\n",
    "                                        ]))\n",
    "print('reveiw_len <= 500 and summary_len<= 20 and summary_polarity > 0.1 and summary_subjectivity > 0.25 : ',len(p_val_df[\n",
    "    (p_val_df['reveiw_len']<=500) & (p_val_df['summary_len']<=20) \n",
    "#     (abs(p_val_df['summary_polarity'])>0.1) &\n",
    "#     (p_val_df['summary_subjectivity']>0.25)    \n",
    "                                        ]))\n",
    "\n",
    "# # first_acc = 0.325\n",
    "min_df = p_train_df[\n",
    "    (p_train_df['reveiw_len']<=500) & (p_train_df['summary_len']<=20) \n",
    "#     (abs(p_train_df['summary_polarity'])>0.1) &\n",
    "#     (p_train_df['summary_subjectivity']>0.25)    \n",
    "                                        ]\n",
    "\n",
    "# print('reveiw_len > 7000 :',len(p_train_df[p_train_df['reveiw_len']>=700])) # # max pos, max_enc_steps \n",
    "# s = p_train_df['reveiw_len'].describe(); print(s)\n",
    "# s = s.drop(labels = ['count'])\n",
    "# s.plot.bar()\n",
    "# plt.ylabel('length')\n",
    "# plt.title('reveiw_len')\n",
    "# plt.show()"
   ]
  },
  {
   "cell_type": "markdown",
   "metadata": {},
   "source": [
    "# percent_lcs EDA(20 divided)"
   ]
  },
  {
   "cell_type": "code",
   "execution_count": null,
   "metadata": {},
   "outputs": [],
   "source": [
    "hist = min_df['percent_lcs'].hist(bins=5)\n",
    "s = min_df['percent_lcs'].describe(); print(s)\n",
    "plt.ylabel('count')\n",
    "plt.xlabel('percent(%)')\n",
    "plt.title('percent_lcs')"
   ]
  },
  {
   "cell_type": "code",
   "execution_count": null,
   "metadata": {},
   "outputs": [],
   "source": [
    "# 统计学上的四分为函数\n",
    "# 原则上p是可以取0到1之间的任意值的。但是有一个四分位数是p分位数中较为有名的。\n",
    "\n",
    "# 所谓四分位数；即把数值由小到大排列并分成四等份，处于三个分割点位置的数值就是四分位数。\n",
    "\n",
    "# 第1四分位数 (Q1)，又称“较小四分位数”，等于该样本中所有数值由小到大排列后第25%的数字。\n",
    "# 第2四分位数 (Q2)，又称“中位数”，等于该样本中所有数值由小到大排列后第50%的数字。\n",
    "# 第3四分位数 (Q3)，又称“较大四分位数”，等于该样本中所有数值由小到大排列后第75%的数字。\n",
    "# 第3四分位数与第1四分位数的差距又称四分位距（InterQuartile Range,IQR）\n",
    "\n",
    "s = pd.Series({'x < 20':len(min_df[min_df['percent_lcs']<20])/len(min_df)*100, \n",
    "           '20 < x < 40':len(min_df[(min_df['percent_lcs']>20) & (min_df['percent_lcs']<40)])/len(min_df)*100, \n",
    "           '40 < x < 60':len(min_df[(min_df['percent_lcs']>40) & (min_df['percent_lcs']<60)])/len(min_df)*100, \n",
    "           '60 < x < 80':len(min_df[(min_df['percent_lcs']>60) & (min_df['percent_lcs']<80)])/len(min_df)*100, \n",
    "           'x > 80':len(min_df[min_df['percent_lcs']>80])/len(min_df)*100          \n",
    "          })\n",
    "s.plot.bar()\n",
    "plt.ylabel('total(%)')\n",
    "plt.title('percent_lcs EDA(20% divided)')\n",
    "plt.show()"
   ]
  },
  {
   "cell_type": "code",
   "execution_count": null,
   "metadata": {},
   "outputs": [],
   "source": [
    "'''\n",
    "overlap => percent_lcs > (50% summary len)\n",
    "overlap_pos : 0 Top\n",
    "overlap_pos : 1 Final\n",
    "overlap_pos : 2 Other Pos\n",
    "overlap_pos : -1 No overlap\n",
    "'''\n",
    "\n",
    "print('overlap Top :%2.2f'% float(len(min_df[(min_df['overlap_pos'] == 0) & (min_df['percent_lcs']>50)])/len(min_df)*100),'%') \n",
    "print('overlap Final :%2.2f'% float(len(min_df[(min_df['overlap_pos'] == 1) & (min_df['percent_lcs']>50)])/len(min_df)*100),'%') \n",
    "print('overlap Other Pos :%2.2f'% float(len(min_df[(min_df['overlap_pos'] == 2) & (min_df['percent_lcs']>50)])/len(min_df)*100),'%') \n",
    "print('No overlap :%2.2f'% float(len(min_df[(min_df['percent_lcs']<=50)])/len(min_df)*100),'%') \n",
    "\n",
    "s = pd.Series({'overlap Top':len(min_df[(min_df['overlap_pos'] == 0) & (min_df['percent_lcs']>50)])/len(min_df)*100, \n",
    "           'overlap Final':len(min_df[(min_df['overlap_pos'] == 1) & (min_df['percent_lcs']>50)])/len(min_df)*100,      \n",
    "           'overlap Other Pos':len(min_df[(min_df['overlap_pos'] == 2) & (min_df['percent_lcs']>50)])/len(min_df)*100,  \n",
    "           'No overlap':len(min_df[(min_df['percent_lcs']<=50)])/len(min_df)*100,  \n",
    "          })\n",
    "s.plot.bar()\n",
    "plt.ylabel('total(%)')\n",
    "plt.title('overlap')\n",
    "plt.show()"
   ]
  },
  {
   "cell_type": "markdown",
   "metadata": {},
   "source": [
    "# Ext/Abs分界(50)"
   ]
  },
  {
   "cell_type": "code",
   "execution_count": null,
   "metadata": {},
   "outputs": [],
   "source": [
    "print('percent_lcs x > 50  %2.2f'% float(len(min_df[(min_df['percent_lcs']>50)])/len(min_df)*100),'%')  # max_dec_steps\n",
    "print('percent_lcs x <= 50  %2.2f'% float(len(min_df[(min_df['percent_lcs']<=50)])/len(min_df)*100),'%')  # max_dec_steps\n",
    "\n",
    "s = pd.Series({'x > 50':len(min_df[(min_df['percent_lcs']>50)])/len(min_df)*100, \n",
    "           'x < 50':len(min_df[(min_df['percent_lcs']<=50)])/len(min_df)*100,      \n",
    "          })\n",
    "s.plot.bar()\n",
    "plt.ylabel('total(%)')\n",
    "plt.title('percent_lcs')\n",
    "plt.show()"
   ]
  },
  {
   "cell_type": "code",
   "execution_count": null,
   "metadata": {},
   "outputs": [],
   "source": [
    "'''\n",
    "overlap => percent_lcs > (50% summary len)\n",
    "overlap_pos : 0 Top\n",
    "overlap_pos : 1 Final\n",
    "overlap_pos : 2 Other Pos\n",
    "overlap_pos : -1 No overlap\n",
    "'''\n",
    "\n",
    "print('overlap Top :%2.2f'% float(len(min_df[(min_df['overlap_pos'] == 0) & (min_df['percent_lcs']>50)])/len(min_df)*100),'%') \n",
    "print('overlap Final :%2.2f'% float(len(min_df[(min_df['overlap_pos'] == 1) & (min_df['percent_lcs']>50)])/len(min_df)*100),'%') \n",
    "print('overlap Other Pos :%2.2f'% float(len(min_df[(min_df['overlap_pos'] == 2) & (min_df['percent_lcs']>50)])/len(min_df)*100),'%') \n",
    "print('No overlap :%2.2f'% float(len(min_df[(min_df['percent_lcs']<=50)])/len(min_df)*100),'%') \n",
    "\n",
    "s = pd.Series({'overlap Top':len(min_df[(min_df['overlap_pos'] == 0) & (min_df['percent_lcs']>50)])/len(min_df)*100, \n",
    "           'overlap Final':len(min_df[(min_df['overlap_pos'] == 1) & (min_df['percent_lcs']>50)])/len(min_df)*100,      \n",
    "           'overlap Other Pos':len(min_df[(min_df['overlap_pos'] == 2) & (min_df['percent_lcs']>50)])/len(min_df)*100,  \n",
    "           'No overlap':len(min_df[(min_df['percent_lcs']<=50)])/len(min_df)*100,  \n",
    "          })\n",
    "s.plot.bar()\n",
    "plt.ylabel('total(%)')\n",
    "plt.title('overlap')\n",
    "plt.show()"
   ]
  },
  {
   "cell_type": "code",
   "execution_count": null,
   "metadata": {},
   "outputs": [],
   "source": [
    "def view(df, condition, view_num=10):\n",
    "    package_dict = []\n",
    "    for i in range(view_num):\n",
    "        d1 = dict(min_df[eval(condition)].iloc[i])\n",
    "        d2 = {'review':d1['review'],\n",
    "              'summary':d1['summary'],\n",
    "              'summary_subjectivity':d1['summary_subjectivity'],\n",
    "              'summary_polarity':d1['summary_polarity'],\n",
    "#               'token_lcs':d1['token_lcs'],\n",
    "#               'overlap':d1['overlap'],\n",
    "#               'percent_lcs':d1['percent_lcs'],\n",
    "              'keywords':d1['POS_keys']            \n",
    "             }\n",
    "        package_dict.append(d2)\n",
    "    return package_dict\n",
    "        \n",
    "# view(min_df, \"(min_df['overlap_pos'] == 2) & (min_df['percent_lcs']<50)\")\n",
    "view(min_df, \"(min_df['review_len']<=50) & (min_df['percent_lcs']<=40) & (min_df['summary_len']>=15) & (min_df['summary_subjectivity']>=0.1)\")\n",
    "\n"
   ]
  },
  {
   "cell_type": "code",
   "execution_count": null,
   "metadata": {},
   "outputs": [],
   "source": [
    "dict(min_df[(min_df['overlap_pos'] == 2) & (min_df['percent_lcs']>50)].iloc[0:10])['summary']"
   ]
  },
  {
   "cell_type": "code",
   "execution_count": null,
   "metadata": {},
   "outputs": [],
   "source": []
  }
 ],
 "metadata": {
  "kernelspec": {
   "display_name": "Python 3",
   "language": "python",
   "name": "python3"
  },
  "language_info": {
   "codemirror_mode": {
    "name": "ipython",
    "version": 3
   },
   "file_extension": ".py",
   "mimetype": "text/x-python",
   "name": "python",
   "nbconvert_exporter": "python",
   "pygments_lexer": "ipython3",
   "version": "3.6.7"
  }
 },
 "nbformat": 4,
 "nbformat_minor": 4
}
