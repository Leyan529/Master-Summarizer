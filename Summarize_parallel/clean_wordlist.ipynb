{
 "cells": [
  {
   "cell_type": "code",
   "execution_count": 26,
   "metadata": {},
   "outputs": [
    {
     "name": "stdout",
     "output_type": "stream",
     "text": [
      "['abc', 'grfghrfg', '1234', '.']\n"
     ]
    }
   ],
   "source": [
    "#從字串中提取字母字串\n",
    "import re\n",
    "crazystring = ['1234abc', 'grfghrfg888','1234','.']\n",
    "# print('isdigit',crazystring.isdigit())\n",
    "# print('isalpha',crazystring.isalpha())\n",
    "# print('isalnum',crazystring.isalnum())\n",
    "\n",
    "# crazystring = [\n",
    "#     ''.join(re.findall(r'[A-Za-z]', word)) \\\n",
    "#     if (word.isalnum() and not (word.isdigit()))\n",
    "#     else word\n",
    "#     for word in crazystring\n",
    "# ]\n",
    "\n",
    "def clean_wordlist(wordlist):\n",
    "    wordlist = [\n",
    "        ''.join(re.findall(r'[A-Za-z]', word)) \\\n",
    "        if (word.isalnum() and not (word.isdigit()))\n",
    "        else word\n",
    "        for word in wordlist\n",
    "    ]\n",
    "    return wordlist\n",
    "\n",
    "# if crazystring.isalnum() and not (crazystring.isdigit()):\n",
    "#     crazystring = ''.join(re.findall(r'[A-Za-z]', crazystring))    \n",
    "\n",
    "print(clean_wordlist(crazystring))\n",
    "\n",
    "\n"
   ]
  }
 ],
 "metadata": {
  "kernelspec": {
   "display_name": "Python 3.6.7 64-bit ('Leyan': conda)",
   "language": "python",
   "name": "python36764bitleyancondaa378f3cedbcc4b3f906a2276b3eef765"
  },
  "language_info": {
   "codemirror_mode": {
    "name": "ipython",
    "version": 3
   },
   "file_extension": ".py",
   "mimetype": "text/x-python",
   "name": "python",
   "nbconvert_exporter": "python",
   "pygments_lexer": "ipython3",
   "version": "3.6.7"
  }
 },
 "nbformat": 4,
 "nbformat_minor": 2
}
