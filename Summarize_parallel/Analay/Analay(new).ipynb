{
 "cells": [
  {
   "cell_type": "code",
   "execution_count": 1,
   "metadata": {},
   "outputs": [
    {
     "name": "stdout",
     "output_type": "stream",
     "text": [
      "774184\n",
      "696765\n",
      "77419\n"
     ]
    }
   ],
   "source": [
    "import sys \n",
    "sys.path.append(\"..\") \n",
    "import os\n",
    "import pandas as pd\n",
    "from utils import config\n",
    "\n",
    "from sklearn.model_selection import train_test_split\n",
    "\n",
    "# config.xls_path = '../Train-Data/Mix6_mainCat_20/pro_review.xlsx'\n",
    "# config.xls_path = '/home/eagleuser/Users/leyan/Train-Data/Mix6_mainCat_new/pro_review.xlsx'\n",
    "\n",
    "# path = str(os.path.abspath(config.xls_path)).replace('Summarize_parallel','')\n",
    "total_df = pd.read_excel(str(os.path.abspath(config.xls_path)).replace('Summarize_parallel',''))\n",
    "# total_df = total_df[total_df['review_len']>=50]\n",
    "# total_df = total_df[total_df['summary_len']>=5]\n",
    "total_df = total_df.sort_values(by=['review_len','overlap'], ascending = False)\n",
    "train_df, val_df = train_test_split(total_df, test_size=0.1, \n",
    "                                    random_state=0, shuffle=True)\n",
    "\n",
    "print(len(total_df))\n",
    "print(len(train_df))\n",
    "print(len(val_df))\n",
    "\n",
    "# train : 504075(90%),    test : 56009(10%) -> best 566084"
   ]
  },
  {
   "cell_type": "code",
   "execution_count": 2,
   "metadata": {},
   "outputs": [],
   "source": [
    "def longest_common_subsequence(main_string, comparing_string):\n",
    "\n",
    "#     main_string = main_string.split(\" \")\n",
    "#     comparing_string = comparing_string.split(\" \")\n",
    "    columns_length = len(main_string)  # Get the length of the first word or base word\n",
    "    rows_length = len(comparing_string)  # Get the length of the second word or comparing word\n",
    "\n",
    "    # MAKE A 2D LIST (MATRIX)\n",
    "    dynamic_table = [[0] * (columns_length + 1) for i in range(rows_length + 1)]\n",
    "\n",
    "    # rows_length = NUMBER OF ROWS\n",
    "    # columns_length = NUMBER OF COLUMNS\n",
    "    \n",
    "    # FILL THE MATRIX FOLLOWING LCS ALGORITHM.\n",
    "    for i in range(1, rows_length + 1):\n",
    "        for j in range(1, columns_length + 1):\n",
    "            if main_string[j - 1] == comparing_string[i - 1]:\n",
    "                dynamic_table[i][j] = 1 + dynamic_table[i - 1][j - 1]\n",
    "\n",
    "            else:\n",
    "                dynamic_table[i][j] = max(dynamic_table[i - 1][j], dynamic_table[i][j - 1])\n",
    "\n",
    "#     print(\"MATRIX ACCORDING TO LONGEST COMMON SUBSEQUENCE ALGORITHM: \\n \")\n",
    "\n",
    "    # for i in range(rows_length + 1):\n",
    "    #     print(dynamic_table[i])\n",
    "\n",
    "    #print(\"LENGTH OF LONGEST COMMON SUBSEQUENCE = \", dynamic_table[rows_length][columns_length])\n",
    "\n",
    "    len_lcs = dynamic_table[rows_length][columns_length]\n",
    "\n",
    "    i = len(comparing_string)\n",
    "    j = len(main_string)\n",
    "\n",
    "    lcs_string = str()\n",
    "\n",
    "    # BACKTRACKING TO FIND THE LONGEST COMMON SUBSEQUENCE\n",
    "\n",
    "    temp = True\n",
    "\n",
    "    while temp is True:\n",
    "        if dynamic_table[i][j] == 0:\n",
    "            temp = False\n",
    "        elif dynamic_table[i][j] == dynamic_table[i][j - 1]:\n",
    "            j = j - 1\n",
    "\n",
    "        else:\n",
    "            lcs_string = main_string[j-1] + \" \" + lcs_string\n",
    "            i = i - 1\n",
    "            j = j - 1\n",
    "\n",
    "    return lcs_string, len_lcs"
   ]
  },
  {
   "cell_type": "code",
   "execution_count": 3,
   "metadata": {},
   "outputs": [],
   "source": [
    "# df.loc[i,'token_lcs'] = token_lcs\n",
    "#             df.loc[i,'len_lcs'] = len_lcs\n",
    "#             df.loc[i,'percent_lcs'] = percent_lcs\n",
    "#             df.loc[i,'overlap_pos'] = overlap_pos\n",
    "            \n",
    "#             df.loc[i,'reveiw_len'] = len(rev_tokens)\n",
    "#             df.loc[i,'summary_len'] = len(summary_tokens)"
   ]
  },
  {
   "cell_type": "code",
   "execution_count": 4,
   "metadata": {},
   "outputs": [],
   "source": [
    "#%%\n",
    "from tqdm import tqdm\n",
    "from copy import deepcopy\n",
    "def analay(df, mode):\n",
    "#     df['token_lcs'] = 0\n",
    "#     df['len_lcs'] = 0\n",
    "#     df['percent_lcs'] = 0\n",
    "#     df['overlap_pos'] = 0\n",
    "\n",
    "#     df['reveiw_len'] = 0\n",
    "#     df['summary_len'] = 0\n",
    "#     df = df[:100]\n",
    "    with tqdm(total=len(df)) as pbar:\n",
    "        for i ,row in df.iterrows():       \n",
    "            overlap_pos = None\n",
    "\n",
    "#             rev, summary = row['review'], row['summary']\n",
    "#             rev_tokens, summary_tokens = rev.split(\" \"), summary.split(\" \")           \n",
    "#             token_lcs, len_lcs = longest_common_subsequence(rev_tokens, summary_tokens)\n",
    "#             percent_lcs = len_lcs / len(summary_tokens) * 100 # percent\n",
    "\n",
    "#             rev_sents = rev.split(\" . \")\n",
    "#             overlap_sents = {idx: longest_common_subsequence(sent.split(\" \"), summary_tokens) for idx, sent in enumerate(rev_sents)}\n",
    "#             sort_overlap_sent = {k:v for k,v in sorted(overlap_sents.items(), key= lambda item: item[1], reverse=True)}\n",
    "#             overlap_sent_id = list(sort_overlap_sent.items())[0][0]\n",
    "\n",
    "#             if (overlap_sent_id == 0) and (percent_lcs >= 20): overlap_pos = 0 # overlap_Top \n",
    "#             elif (overlap_sent_id == len(rev_tokens)-1) and (percent_lcs >= 20): overlap_pos = 1 # overlap_Final \n",
    "#             elif (percent_lcs >= 20): overlap_pos = 2 # overlap_other \n",
    "#             else: overlap_pos = -1 # no overlap \n",
    "\n",
    "#             df.loc[i,'token_lcs'] = token_lcs\n",
    "#             df.loc[i,'len_lcs'] = len_lcs\n",
    "#             df.loc[i,'percent_lcs'] = percent_lcs\n",
    "#             df.loc[i,'overlap_pos'] = overlap_pos\n",
    "            \n",
    "#             df.loc[i,'reveiw_len'] = len(rev_tokens)\n",
    "#             df.loc[i,'summary_len'] = len(summary_tokens)\n",
    "\n",
    "            pbar.update(1)\n",
    "#             pbar.set_description(\"%s row: %s | overlap_pos: %s (%2.2f)percent| len_lcs: %s\" % (mode, i, overlap_pos, percent_lcs, len_lcs))\n",
    "#     df = df[df['token_lcs']!=0]\n",
    "    return df\n",
    "\n"
   ]
  },
  {
   "cell_type": "code",
   "execution_count": 35,
   "metadata": {},
   "outputs": [
    {
     "data": {
      "text/plain": [
       "485267    252\n",
       "509713     56\n",
       "609333    273\n",
       "30782     226\n",
       "279679     55\n",
       "Name: review_len, dtype: int64"
      ]
     },
     "execution_count": 35,
     "metadata": {},
     "output_type": "execute_result"
    }
   ],
   "source": [
    "train_df['review_len'].head()"
   ]
  },
  {
   "cell_type": "code",
   "execution_count": 6,
   "metadata": {},
   "outputs": [
    {
     "data": {
      "text/html": [
       "<div>\n",
       "<style scoped>\n",
       "    .dataframe tbody tr th:only-of-type {\n",
       "        vertical-align: middle;\n",
       "    }\n",
       "\n",
       "    .dataframe tbody tr th {\n",
       "        vertical-align: top;\n",
       "    }\n",
       "\n",
       "    .dataframe thead th {\n",
       "        text-align: right;\n",
       "    }\n",
       "</style>\n",
       "<table border=\"1\" class=\"dataframe\">\n",
       "  <thead>\n",
       "    <tr style=\"text-align: right;\">\n",
       "      <th></th>\n",
       "      <th>review_ID</th>\n",
       "      <th>rating</th>\n",
       "      <th>vote</th>\n",
       "      <th>binaryrating</th>\n",
       "      <th>orign_review</th>\n",
       "      <th>orign_summary</th>\n",
       "      <th>review</th>\n",
       "      <th>summary</th>\n",
       "      <th>cheat</th>\n",
       "      <th>cheat_num</th>\n",
       "      <th>...</th>\n",
       "      <th>DEP_keys</th>\n",
       "      <th>Noun_adj_keys</th>\n",
       "      <th>TextRank_keys</th>\n",
       "      <th>len_lcs</th>\n",
       "      <th>percent_lcs</th>\n",
       "      <th>overlap_pos</th>\n",
       "      <th>token_lcs</th>\n",
       "      <th>summary_polarity</th>\n",
       "      <th>summary_subjectivity</th>\n",
       "      <th>summary_check</th>\n",
       "    </tr>\n",
       "  </thead>\n",
       "  <tbody>\n",
       "    <tr>\n",
       "      <th>485267</th>\n",
       "      <td>1454457600</td>\n",
       "      <td>5</td>\n",
       "      <td>10</td>\n",
       "      <td>positive</td>\n",
       "      <td>Oh my goodness. I am an avid runner. Having ru...</td>\n",
       "      <td>BY FAR THE BEST REFLECTIVE VEST I HAVE TRIED -...</td>\n",
       "      <td>oh my goodness . i be an avid runner . have ru...</td>\n",
       "      <td>&lt;s&gt; by far the best reflective vest i have try...</td>\n",
       "      <td>{'have', 'be', 'of', 'best', 'avid', 'runner',...</td>\n",
       "      <td>10</td>\n",
       "      <td>...</td>\n",
       "      <td>[]</td>\n",
       "      <td>['runner', 'avid', 'use', 'number', 'relay', '...</td>\n",
       "      <td>[]</td>\n",
       "      <td>9</td>\n",
       "      <td>52.941176</td>\n",
       "      <td>2</td>\n",
       "      <td>i have of i be be be runner runner</td>\n",
       "      <td>0.450000</td>\n",
       "      <td>0.766667</td>\n",
       "      <td>12</td>\n",
       "    </tr>\n",
       "    <tr>\n",
       "      <th>509713</th>\n",
       "      <td>1411257600</td>\n",
       "      <td>5</td>\n",
       "      <td>3</td>\n",
       "      <td>positive</td>\n",
       "      <td>Put this inside my summer bag as a liner and i...</td>\n",
       "      <td>So glad I had this liner</td>\n",
       "      <td>put this inside my summer bag as a liner and i...</td>\n",
       "      <td>&lt;s&gt; so glad i have this liner &lt;/s&gt;</td>\n",
       "      <td>{'have', 'liner', 'so', 'glad', 'i'}</td>\n",
       "      <td>5</td>\n",
       "      <td>...</td>\n",
       "      <td>[]</td>\n",
       "      <td>['summer', 'difference', 'bag', 'liner', 'huge...</td>\n",
       "      <td>[]</td>\n",
       "      <td>6</td>\n",
       "      <td>75.000000</td>\n",
       "      <td>0</td>\n",
       "      <td>so glad i have this liner</td>\n",
       "      <td>0.500000</td>\n",
       "      <td>1.000000</td>\n",
       "      <td>5</td>\n",
       "    </tr>\n",
       "    <tr>\n",
       "      <th>609333</th>\n",
       "      <td>1476835200</td>\n",
       "      <td>4</td>\n",
       "      <td>2</td>\n",
       "      <td>positive</td>\n",
       "      <td>Bought this phone for my father to replace his...</td>\n",
       "      <td>Easy to see, easy to use</td>\n",
       "      <td>buy this phone for my father to replace his ol...</td>\n",
       "      <td>&lt;s&gt; easy to see of easy to use &lt;/s&gt;</td>\n",
       "      <td>{'to', 'easy', 'use', 'of'}</td>\n",
       "      <td>4</td>\n",
       "      <td>...</td>\n",
       "      <td>[]</td>\n",
       "      <td>['father', 'nokia', 'phone', 'old', 'phone', '...</td>\n",
       "      <td>[]</td>\n",
       "      <td>6</td>\n",
       "      <td>66.666667</td>\n",
       "      <td>2</td>\n",
       "      <td>to of easy to to use</td>\n",
       "      <td>0.433333</td>\n",
       "      <td>0.833333</td>\n",
       "      <td>5</td>\n",
       "    </tr>\n",
       "    <tr>\n",
       "      <th>30782</th>\n",
       "      <td>1135987200</td>\n",
       "      <td>5</td>\n",
       "      <td>3</td>\n",
       "      <td>positive</td>\n",
       "      <td>Let me begin by saying: I am not a professiona...</td>\n",
       "      <td>Great for the price I paid</td>\n",
       "      <td>let me begin by say of i be not a professional...</td>\n",
       "      <td>&lt;s&gt; great for the price i pay &lt;/s&gt;</td>\n",
       "      <td>{'i', 'pay', 'for', 'great'}</td>\n",
       "      <td>4</td>\n",
       "      <td>...</td>\n",
       "      <td>[]</td>\n",
       "      <td>['term', 'gher', 'review', 'photogram', 'greek...</td>\n",
       "      <td>[]</td>\n",
       "      <td>3</td>\n",
       "      <td>37.500000</td>\n",
       "      <td>-1</td>\n",
       "      <td>i i pay</td>\n",
       "      <td>0.800000</td>\n",
       "      <td>0.750000</td>\n",
       "      <td>5</td>\n",
       "    </tr>\n",
       "    <tr>\n",
       "      <th>279679</th>\n",
       "      <td>1391299200</td>\n",
       "      <td>5</td>\n",
       "      <td>2</td>\n",
       "      <td>positive</td>\n",
       "      <td>Unit was easy to set up, and does what is says...</td>\n",
       "      <td>I own another Philips TV and have been very pl...</td>\n",
       "      <td>unit be easy to set up of and do what be say i...</td>\n",
       "      <td>&lt;s&gt; i own another philip tv and have be very p...</td>\n",
       "      <td>{'with', 'have', 'be', 'tv', 'it', 'i'}</td>\n",
       "      <td>6</td>\n",
       "      <td>...</td>\n",
       "      <td>[]</td>\n",
       "      <td>['format', 'netflix', 'connection', 'pc', 'scr...</td>\n",
       "      <td>[]</td>\n",
       "      <td>4</td>\n",
       "      <td>28.571429</td>\n",
       "      <td>-1</td>\n",
       "      <td>be be it it</td>\n",
       "      <td>0.625000</td>\n",
       "      <td>1.000000</td>\n",
       "      <td>8</td>\n",
       "    </tr>\n",
       "  </tbody>\n",
       "</table>\n",
       "<p>5 rows × 24 columns</p>\n",
       "</div>"
      ],
      "text/plain": [
       "         review_ID  rating  vote binaryrating  \\\n",
       "485267  1454457600       5    10     positive   \n",
       "509713  1411257600       5     3     positive   \n",
       "609333  1476835200       4     2     positive   \n",
       "30782   1135987200       5     3     positive   \n",
       "279679  1391299200       5     2     positive   \n",
       "\n",
       "                                             orign_review  \\\n",
       "485267  Oh my goodness. I am an avid runner. Having ru...   \n",
       "509713  Put this inside my summer bag as a liner and i...   \n",
       "609333  Bought this phone for my father to replace his...   \n",
       "30782   Let me begin by saying: I am not a professiona...   \n",
       "279679  Unit was easy to set up, and does what is says...   \n",
       "\n",
       "                                            orign_summary  \\\n",
       "485267  BY FAR THE BEST REFLECTIVE VEST I HAVE TRIED -...   \n",
       "509713                           So glad I had this liner   \n",
       "609333                           Easy to see, easy to use   \n",
       "30782                          Great for the price I paid   \n",
       "279679  I own another Philips TV and have been very pl...   \n",
       "\n",
       "                                                   review  \\\n",
       "485267  oh my goodness . i be an avid runner . have ru...   \n",
       "509713  put this inside my summer bag as a liner and i...   \n",
       "609333  buy this phone for my father to replace his ol...   \n",
       "30782   let me begin by say of i be not a professional...   \n",
       "279679  unit be easy to set up of and do what be say i...   \n",
       "\n",
       "                                                  summary  \\\n",
       "485267  <s> by far the best reflective vest i have try...   \n",
       "509713                 <s> so glad i have this liner </s>   \n",
       "609333                <s> easy to see of easy to use </s>   \n",
       "30782                  <s> great for the price i pay </s>   \n",
       "279679  <s> i own another philip tv and have be very p...   \n",
       "\n",
       "                                                    cheat  cheat_num  \\\n",
       "485267  {'have', 'be', 'of', 'best', 'avid', 'runner',...         10   \n",
       "509713               {'have', 'liner', 'so', 'glad', 'i'}          5   \n",
       "609333                        {'to', 'easy', 'use', 'of'}          4   \n",
       "30782                        {'i', 'pay', 'for', 'great'}          4   \n",
       "279679            {'with', 'have', 'be', 'tv', 'it', 'i'}          6   \n",
       "\n",
       "            ...        DEP_keys  \\\n",
       "485267      ...              []   \n",
       "509713      ...              []   \n",
       "609333      ...              []   \n",
       "30782       ...              []   \n",
       "279679      ...              []   \n",
       "\n",
       "                                            Noun_adj_keys  TextRank_keys  \\\n",
       "485267  ['runner', 'avid', 'use', 'number', 'relay', '...             []   \n",
       "509713  ['summer', 'difference', 'bag', 'liner', 'huge...             []   \n",
       "609333  ['father', 'nokia', 'phone', 'old', 'phone', '...             []   \n",
       "30782   ['term', 'gher', 'review', 'photogram', 'greek...             []   \n",
       "279679  ['format', 'netflix', 'connection', 'pc', 'scr...             []   \n",
       "\n",
       "       len_lcs percent_lcs overlap_pos                            token_lcs  \\\n",
       "485267       9   52.941176           2  i have of i be be be runner runner    \n",
       "509713       6   75.000000           0           so glad i have this liner    \n",
       "609333       6   66.666667           2                to of easy to to use    \n",
       "30782        3   37.500000          -1                             i i pay    \n",
       "279679       4   28.571429          -1                         be be it it    \n",
       "\n",
       "        summary_polarity  summary_subjectivity  summary_check  \n",
       "485267          0.450000              0.766667             12  \n",
       "509713          0.500000              1.000000              5  \n",
       "609333          0.433333              0.833333              5  \n",
       "30782           0.800000              0.750000              5  \n",
       "279679          0.625000              1.000000              8  \n",
       "\n",
       "[5 rows x 24 columns]"
      ]
     },
     "execution_count": 6,
     "metadata": {},
     "output_type": "execute_result"
    }
   ],
   "source": [
    "train_df.head()"
   ]
  },
  {
   "cell_type": "code",
   "execution_count": 7,
   "metadata": {},
   "outputs": [
    {
     "data": {
      "text/html": [
       "<div>\n",
       "<style scoped>\n",
       "    .dataframe tbody tr th:only-of-type {\n",
       "        vertical-align: middle;\n",
       "    }\n",
       "\n",
       "    .dataframe tbody tr th {\n",
       "        vertical-align: top;\n",
       "    }\n",
       "\n",
       "    .dataframe thead th {\n",
       "        text-align: right;\n",
       "    }\n",
       "</style>\n",
       "<table border=\"1\" class=\"dataframe\">\n",
       "  <thead>\n",
       "    <tr style=\"text-align: right;\">\n",
       "      <th></th>\n",
       "      <th>review_ID</th>\n",
       "      <th>rating</th>\n",
       "      <th>vote</th>\n",
       "      <th>binaryrating</th>\n",
       "      <th>orign_review</th>\n",
       "      <th>orign_summary</th>\n",
       "      <th>review</th>\n",
       "      <th>summary</th>\n",
       "      <th>cheat</th>\n",
       "      <th>cheat_num</th>\n",
       "      <th>...</th>\n",
       "      <th>DEP_keys</th>\n",
       "      <th>Noun_adj_keys</th>\n",
       "      <th>TextRank_keys</th>\n",
       "      <th>len_lcs</th>\n",
       "      <th>percent_lcs</th>\n",
       "      <th>overlap_pos</th>\n",
       "      <th>token_lcs</th>\n",
       "      <th>summary_polarity</th>\n",
       "      <th>summary_subjectivity</th>\n",
       "      <th>summary_check</th>\n",
       "    </tr>\n",
       "  </thead>\n",
       "  <tbody>\n",
       "    <tr>\n",
       "      <th>515316</th>\n",
       "      <td>1342569600</td>\n",
       "      <td>3</td>\n",
       "      <td>4</td>\n",
       "      <td>negative</td>\n",
       "      <td>THe perfect chair for motorcycle travel and ju...</td>\n",
       "      <td>super small and comfy but they do break</td>\n",
       "      <td>the perfect chair for motorcycle travel and ju...</td>\n",
       "      <td>&lt;s&gt; super small and comfy but they do break &lt;/s&gt;</td>\n",
       "      <td>{'break', 'do', 'small'}</td>\n",
       "      <td>3</td>\n",
       "      <td>...</td>\n",
       "      <td>[]</td>\n",
       "      <td>['chair', 'perfect', 'light', 'small', 'leg', ...</td>\n",
       "      <td>[]</td>\n",
       "      <td>4</td>\n",
       "      <td>40.000000</td>\n",
       "      <td>-1</td>\n",
       "      <td>and and break break</td>\n",
       "      <td>0.041667</td>\n",
       "      <td>0.533333</td>\n",
       "      <td>6</td>\n",
       "    </tr>\n",
       "    <tr>\n",
       "      <th>80402</th>\n",
       "      <td>1344470400</td>\n",
       "      <td>5</td>\n",
       "      <td>5</td>\n",
       "      <td>positive</td>\n",
       "      <td>I'll start off by saying that I am an amateur ...</td>\n",
       "      <td>Great lens at a great price</td>\n",
       "      <td>i will start off by say that i be an amateur p...</td>\n",
       "      <td>&lt;s&gt; great lens at a great price &lt;/s&gt;</td>\n",
       "      <td>{'price', 'great', 'a', 'at', 'lens'}</td>\n",
       "      <td>5</td>\n",
       "      <td>...</td>\n",
       "      <td>[]</td>\n",
       "      <td>['photo', 'lot', 'lens', 'camera', 'whole', 't...</td>\n",
       "      <td>[]</td>\n",
       "      <td>5</td>\n",
       "      <td>62.500000</td>\n",
       "      <td>2</td>\n",
       "      <td>lens a great a price</td>\n",
       "      <td>0.800000</td>\n",
       "      <td>0.750000</td>\n",
       "      <td>5</td>\n",
       "    </tr>\n",
       "    <tr>\n",
       "      <th>83320</th>\n",
       "      <td>1231718400</td>\n",
       "      <td>5</td>\n",
       "      <td>2</td>\n",
       "      <td>positive</td>\n",
       "      <td>Plays Blue Ray discs beartifully and is simple...</td>\n",
       "      <td>You're gonna love your old DVD's.</td>\n",
       "      <td>play blue ray disc be a rt i fully and be simp...</td>\n",
       "      <td>&lt;s&gt; you be gon na love your old dvd be &lt;/s&gt;</td>\n",
       "      <td>{'be', 'old', 'dvd'}</td>\n",
       "      <td>3</td>\n",
       "      <td>...</td>\n",
       "      <td>[]</td>\n",
       "      <td>['rt', 'ray', 'blue', 'disc', 'simple', 'surpr...</td>\n",
       "      <td>[]</td>\n",
       "      <td>5</td>\n",
       "      <td>45.454545</td>\n",
       "      <td>-1</td>\n",
       "      <td>be your old dvd be</td>\n",
       "      <td>0.300000</td>\n",
       "      <td>0.400000</td>\n",
       "      <td>6</td>\n",
       "    </tr>\n",
       "    <tr>\n",
       "      <th>650017</th>\n",
       "      <td>1039824000</td>\n",
       "      <td>2</td>\n",
       "      <td>23</td>\n",
       "      <td>negative</td>\n",
       "      <td>I finally killed my $79 Costco cross-cut shred...</td>\n",
       "      <td>Small, flimsy construction, under-powered, no ...</td>\n",
       "      <td>i finally kill my of costco cross of cut shred...</td>\n",
       "      <td>&lt;s&gt; small of flimsy construction of under of p...</td>\n",
       "      <td>{'of', 'flimsy', 'under'}</td>\n",
       "      <td>3</td>\n",
       "      <td>...</td>\n",
       "      <td>[]</td>\n",
       "      <td>['machine', 'review', 'good', 'much', 'paper',...</td>\n",
       "      <td>[]</td>\n",
       "      <td>6</td>\n",
       "      <td>46.153846</td>\n",
       "      <td>-1</td>\n",
       "      <td>of of of of of of</td>\n",
       "      <td>-0.250000</td>\n",
       "      <td>0.400000</td>\n",
       "      <td>8</td>\n",
       "    </tr>\n",
       "    <tr>\n",
       "      <th>232896</th>\n",
       "      <td>1520985600</td>\n",
       "      <td>2</td>\n",
       "      <td>4</td>\n",
       "      <td>negative</td>\n",
       "      <td>The length of the tripod is quite short, 14\", ...</td>\n",
       "      <td>Pro: short when folded; Con: shaky when extended.</td>\n",
       "      <td>the length of the tripod be quite short of and...</td>\n",
       "      <td>&lt;s&gt; pro of short when fold of con of shaky whe...</td>\n",
       "      <td>{'of', 'short', 'extend', 'shaky'}</td>\n",
       "      <td>4</td>\n",
       "      <td>...</td>\n",
       "      <td>[]</td>\n",
       "      <td>['tripod', 'length', 'short', 'sorry', 'positi...</td>\n",
       "      <td>[]</td>\n",
       "      <td>6</td>\n",
       "      <td>46.153846</td>\n",
       "      <td>-1</td>\n",
       "      <td>of short of of when extend</td>\n",
       "      <td>-0.166667</td>\n",
       "      <td>0.400000</td>\n",
       "      <td>7</td>\n",
       "    </tr>\n",
       "  </tbody>\n",
       "</table>\n",
       "<p>5 rows × 24 columns</p>\n",
       "</div>"
      ],
      "text/plain": [
       "         review_ID  rating  vote binaryrating  \\\n",
       "515316  1342569600       3     4     negative   \n",
       "80402   1344470400       5     5     positive   \n",
       "83320   1231718400       5     2     positive   \n",
       "650017  1039824000       2    23     negative   \n",
       "232896  1520985600       2     4     negative   \n",
       "\n",
       "                                             orign_review  \\\n",
       "515316  THe perfect chair for motorcycle travel and ju...   \n",
       "80402   I'll start off by saying that I am an amateur ...   \n",
       "83320   Plays Blue Ray discs beartifully and is simple...   \n",
       "650017  I finally killed my $79 Costco cross-cut shred...   \n",
       "232896  The length of the tripod is quite short, 14\", ...   \n",
       "\n",
       "                                            orign_summary  \\\n",
       "515316            super small and comfy but they do break   \n",
       "80402                         Great lens at a great price   \n",
       "83320                   You're gonna love your old DVD's.   \n",
       "650017  Small, flimsy construction, under-powered, no ...   \n",
       "232896  Pro: short when folded; Con: shaky when extended.   \n",
       "\n",
       "                                                   review  \\\n",
       "515316  the perfect chair for motorcycle travel and ju...   \n",
       "80402   i will start off by say that i be an amateur p...   \n",
       "83320   play blue ray disc be a rt i fully and be simp...   \n",
       "650017  i finally kill my of costco cross of cut shred...   \n",
       "232896  the length of the tripod be quite short of and...   \n",
       "\n",
       "                                                  summary  \\\n",
       "515316   <s> super small and comfy but they do break </s>   \n",
       "80402                <s> great lens at a great price </s>   \n",
       "83320         <s> you be gon na love your old dvd be </s>   \n",
       "650017  <s> small of flimsy construction of under of p...   \n",
       "232896  <s> pro of short when fold of con of shaky whe...   \n",
       "\n",
       "                                        cheat  cheat_num      ...        \\\n",
       "515316               {'break', 'do', 'small'}          3      ...         \n",
       "80402   {'price', 'great', 'a', 'at', 'lens'}          5      ...         \n",
       "83320                    {'be', 'old', 'dvd'}          3      ...         \n",
       "650017              {'of', 'flimsy', 'under'}          3      ...         \n",
       "232896     {'of', 'short', 'extend', 'shaky'}          4      ...         \n",
       "\n",
       "        DEP_keys                                      Noun_adj_keys  \\\n",
       "515316        []  ['chair', 'perfect', 'light', 'small', 'leg', ...   \n",
       "80402         []  ['photo', 'lot', 'lens', 'camera', 'whole', 't...   \n",
       "83320         []  ['rt', 'ray', 'blue', 'disc', 'simple', 'surpr...   \n",
       "650017        []  ['machine', 'review', 'good', 'much', 'paper',...   \n",
       "232896        []  ['tripod', 'length', 'short', 'sorry', 'positi...   \n",
       "\n",
       "        TextRank_keys len_lcs percent_lcs overlap_pos  \\\n",
       "515316             []       4   40.000000          -1   \n",
       "80402              []       5   62.500000           2   \n",
       "83320              []       5   45.454545          -1   \n",
       "650017             []       6   46.153846          -1   \n",
       "232896             []       6   46.153846          -1   \n",
       "\n",
       "                          token_lcs  summary_polarity  summary_subjectivity  \\\n",
       "515316         and and break break           0.041667              0.533333   \n",
       "80402         lens a great a price           0.800000              0.750000   \n",
       "83320           be your old dvd be           0.300000              0.400000   \n",
       "650017           of of of of of of          -0.250000              0.400000   \n",
       "232896  of short of of when extend          -0.166667              0.400000   \n",
       "\n",
       "        summary_check  \n",
       "515316              6  \n",
       "80402               5  \n",
       "83320               6  \n",
       "650017              8  \n",
       "232896              7  \n",
       "\n",
       "[5 rows x 24 columns]"
      ]
     },
     "execution_count": 7,
     "metadata": {},
     "output_type": "execute_result"
    }
   ],
   "source": [
    "val_df.head()"
   ]
  },
  {
   "cell_type": "code",
   "execution_count": 8,
   "metadata": {},
   "outputs": [
    {
     "name": "stdout",
     "output_type": "stream",
     "text": [
      "True\n"
     ]
    }
   ],
   "source": [
    "import os\n",
    "import matplotlib.pyplot as plt\n",
    "\n",
    "\n",
    "# print(str(os.path.abspath('train_df.xlsx')))\n",
    "if os.path.exists('train_df.xlsx'):\n",
    "    print('True')\n",
    "    p_train_df = pd.read_excel('train_df.xlsx')\n",
    "    p_val_df = pd.read_excel('val_df.xlsx')\n",
    "else:    \n",
    "    p_train_df = analay(deepcopy(train_df), 'train')\n",
    "    p_train_df.to_excel('train_df.xlsx', encoding='utf8')\n",
    "\n",
    "    p_val_df = analay(deepcopy(val_df), 'test')\n",
    "    p_val_df.to_excel('val_df.xlsx', encoding='utf8')"
   ]
  },
  {
   "cell_type": "code",
   "execution_count": 9,
   "metadata": {},
   "outputs": [
    {
     "data": {
      "text/plain": [
       "Index(['review_ID', 'rating', 'vote', 'binaryrating', 'orign_review',\n",
       "       'orign_summary', 'review', 'summary', 'cheat', 'cheat_num', 'overlap',\n",
       "       'review_len', 'summary_len', 'POS_keys', 'DEP_keys', 'Noun_adj_keys',\n",
       "       'TextRank_keys', 'len_lcs', 'percent_lcs', 'overlap_pos', 'token_lcs',\n",
       "       'summary_polarity', 'summary_subjectivity', 'summary_check'],\n",
       "      dtype='object')"
      ]
     },
     "execution_count": 9,
     "metadata": {},
     "output_type": "execute_result"
    }
   ],
   "source": [
    "# p_train_df['review_ID'] = p_train_df.review_ID.astype(str)\n",
    "# p_train_df['review_ID'] = p_train_df.review_ID.astype(str)\n",
    "\n",
    "# p_train_df.describe()\n",
    "\n",
    "p_train_df.columns"
   ]
  },
  {
   "cell_type": "code",
   "execution_count": 10,
   "metadata": {},
   "outputs": [
    {
     "name": "stdout",
     "output_type": "stream",
     "text": [
      "count    696765.000000\n",
      "mean        197.815905\n",
      "std         157.865660\n",
      "min          25.000000\n",
      "25%          91.000000\n",
      "50%         144.000000\n",
      "75%         244.000000\n",
      "max        1000.000000\n",
      "Name: review_len, dtype: float64\n",
      "review_len > 500 : 41702\n"
     ]
    },
    {
     "data": {
      "text/plain": [
       "Text(0.5, 1.0, 'review_len Analysis')"
      ]
     },
     "execution_count": 10,
     "metadata": {},
     "output_type": "execute_result"
    },
    {
     "data": {
      "image/png": "[encoded data removed]",
      "text/plain": [
       "<Figure size 432x288 with 1 Axes>"
      ]
     },
     "metadata": {
      "needs_background": "light"
     },
     "output_type": "display_data"
    }
   ],
   "source": [
    "hist = p_train_df['review_len'].hist(bins=10)\n",
    "s = p_train_df['review_len'].describe(); print(s)\n",
    "# print('reveiw_len <= 20 :',len(p_train_df[p_train_df['reveiw_len']<=20]))\n",
    "print('review_len > 500 :',len(p_train_df[p_train_df['review_len']>500])) # # max pos, max_enc_steps \n",
    "plt.ylabel('count')\n",
    "plt.xlabel('length')\n",
    "\n",
    "plt.title('review_len Analysis')"
   ]
  },
  {
   "cell_type": "code",
   "execution_count": 11,
   "metadata": {},
   "outputs": [
    {
     "name": "stdout",
     "output_type": "stream",
     "text": [
      "summary_len > 20 : 13910\n",
      "count    696765.000000\n",
      "mean         11.798081\n",
      "std           3.280538\n",
      "min           6.000000\n",
      "25%           9.000000\n",
      "50%          11.000000\n",
      "75%          14.000000\n",
      "max          22.000000\n",
      "Name: summary_len, dtype: float64\n"
     ]
    },
    {
     "data": {
      "text/plain": [
       "Text(0.5, 1.0, 'summary_len Analysis')"
      ]
     },
     "execution_count": 11,
     "metadata": {},
     "output_type": "execute_result"
    },
    {
     "data": {
      "image/png": "[encoded data removed]",
      "text/plain": [
       "<Figure size 432x288 with 1 Axes>"
      ]
     },
     "metadata": {
      "needs_background": "light"
     },
     "output_type": "display_data"
    }
   ],
   "source": [
    "print('summary_len > 20 :',len(p_train_df[p_train_df['summary_len']>20]))  # max_dec_steps\n",
    "# print('summary_len <= 5 :',len(p_train_df[p_train_df['summary_len']<6])) # min_dec_steps\n",
    "hist = p_train_df['summary_len'].hist(bins=10)\n",
    "s = p_train_df['summary_len'].describe(); print(s)\n",
    "plt.ylabel('count')\n",
    "plt.xlabel('length')\n",
    "plt.title('summary_len Analysis')"
   ]
  },
  {
   "cell_type": "markdown",
   "metadata": {},
   "source": [
    "# Rating"
   ]
  },
  {
   "cell_type": "code",
   "execution_count": 12,
   "metadata": {},
   "outputs": [
    {
     "data": {
      "text/plain": [
       "Text(0.5, 1.0, 'Rating')"
      ]
     },
     "execution_count": 12,
     "metadata": {},
     "output_type": "execute_result"
    },
    {
     "data": {
      "image/png": "[encoded data removed]",
      "text/plain": [
       "<Figure size 432x288 with 1 Axes>"
      ]
     },
     "metadata": {
      "needs_background": "light"
     },
     "output_type": "display_data"
    }
   ],
   "source": [
    "hist = p_train_df['rating'].hist(bins=5)\n",
    "# s = p_train_df['vote'].describe(); print(s)\n",
    "plt.ylabel('count')\n",
    "plt.title('Rating')"
   ]
  },
  {
   "cell_type": "markdown",
   "metadata": {},
   "source": [
    "# sentiment"
   ]
  },
  {
   "cell_type": "code",
   "execution_count": 13,
   "metadata": {},
   "outputs": [
    {
     "name": "stdout",
     "output_type": "stream",
     "text": [
      "summary_polarity and summary_subjectivity  > 0 : 602355\n",
      "count    696765.000000\n",
      "mean          0.614706\n",
      "std           0.220207\n",
      "min           0.022222\n",
      "25%           0.466667\n",
      "50%           0.600000\n",
      "75%           0.750000\n",
      "max           1.000000\n",
      "Name: summary_subjectivity, dtype: float64\n"
     ]
    },
    {
     "data": {
      "text/plain": [
       "Text(0.5, 1.0, 'summary_subjectivity')"
      ]
     },
     "execution_count": 13,
     "metadata": {},
     "output_type": "execute_result"
    },
    {
     "data": {
      "image/png": "[encoded data removed]",
      "text/plain": [
       "<Figure size 432x288 with 1 Axes>"
      ]
     },
     "metadata": {
      "needs_background": "light"
     },
     "output_type": "display_data"
    }
   ],
   "source": [
    "print('summary_polarity and summary_subjectivity  > 0 :',len(p_train_df[\n",
    "    (abs(p_train_df['summary_polarity'])>0.1) &\n",
    "    (p_train_df['summary_subjectivity']>0.25)\n",
    "\n",
    "]))  # max_dec_steps\n",
    "# print('summary_len <= 5 :',len(p_train_df[p_train_df['summary_len']<6])) # min_dec_steps\n",
    "\n",
    "hist = p_train_df['summary_subjectivity'].hist(bins=10)\n",
    "s = p_train_df['summary_subjectivity'].describe(); print(s)\n",
    "plt.ylabel('subjectivity')\n",
    "plt.title('summary_subjectivity')"
   ]
  },
  {
   "cell_type": "code",
   "execution_count": 14,
   "metadata": {
    "scrolled": true
   },
   "outputs": [
    {
     "name": "stdout",
     "output_type": "stream",
     "text": [
      "summary_polarity and summary_subjectivity  > 0 : 602355\n",
      "count    696765.000000\n",
      "mean          0.345043\n",
      "std           0.404639\n",
      "min          -1.000000\n",
      "25%           0.133333\n",
      "50%           0.400000\n",
      "75%           0.650000\n",
      "max           1.000000\n",
      "Name: summary_polarity, dtype: float64\n"
     ]
    },
    {
     "data": {
      "text/plain": [
       "Text(0.5, 1.0, 'summary_polarity')"
      ]
     },
     "execution_count": 14,
     "metadata": {},
     "output_type": "execute_result"
    },
    {
     "data": {
      "image/png": "[encoded data removed]",
      "text/plain": [
       "<Figure size 432x288 with 1 Axes>"
      ]
     },
     "metadata": {
      "needs_background": "light"
     },
     "output_type": "display_data"
    }
   ],
   "source": [
    "print('summary_polarity and summary_subjectivity  > 0 :',len(p_train_df[\n",
    "    (abs(p_train_df['summary_polarity'])>0.1) &\n",
    "    (p_train_df['summary_subjectivity']>0.25)\n",
    "\n",
    "]))  # max_dec_steps\n",
    "# print('summary_len <= 5 :',len(p_train_df[p_train_df['summary_len']<6])) # min_dec_steps\n",
    "\n",
    "hist = p_train_df['summary_polarity'].hist(bins=10)\n",
    "s = p_train_df['summary_polarity'].describe(); print(s)\n",
    "plt.ylabel('polarity')\n",
    "plt.title('summary_polarity')"
   ]
  },
  {
   "cell_type": "code",
   "execution_count": null,
   "metadata": {},
   "outputs": [],
   "source": []
  },
  {
   "cell_type": "markdown",
   "metadata": {},
   "source": [
    "# POS_Keyword"
   ]
  },
  {
   "cell_type": "code",
   "execution_count": 15,
   "metadata": {},
   "outputs": [
    {
     "data": {
      "text/html": [
       "<div>\n",
       "<style scoped>\n",
       "    .dataframe tbody tr th:only-of-type {\n",
       "        vertical-align: middle;\n",
       "    }\n",
       "\n",
       "    .dataframe tbody tr th {\n",
       "        vertical-align: top;\n",
       "    }\n",
       "\n",
       "    .dataframe thead th {\n",
       "        text-align: right;\n",
       "    }\n",
       "</style>\n",
       "<table border=\"1\" class=\"dataframe\">\n",
       "  <thead>\n",
       "    <tr style=\"text-align: right;\">\n",
       "      <th></th>\n",
       "      <th>len_Pos_keys</th>\n",
       "    </tr>\n",
       "  </thead>\n",
       "  <tbody>\n",
       "    <tr>\n",
       "      <th>count</th>\n",
       "      <td>696765.0</td>\n",
       "    </tr>\n",
       "    <tr>\n",
       "      <th>mean</th>\n",
       "      <td>0.0</td>\n",
       "    </tr>\n",
       "    <tr>\n",
       "      <th>std</th>\n",
       "      <td>0.0</td>\n",
       "    </tr>\n",
       "    <tr>\n",
       "      <th>min</th>\n",
       "      <td>0.0</td>\n",
       "    </tr>\n",
       "    <tr>\n",
       "      <th>25%</th>\n",
       "      <td>0.0</td>\n",
       "    </tr>\n",
       "    <tr>\n",
       "      <th>50%</th>\n",
       "      <td>0.0</td>\n",
       "    </tr>\n",
       "    <tr>\n",
       "      <th>75%</th>\n",
       "      <td>0.0</td>\n",
       "    </tr>\n",
       "    <tr>\n",
       "      <th>max</th>\n",
       "      <td>0.0</td>\n",
       "    </tr>\n",
       "  </tbody>\n",
       "</table>\n",
       "</div>"
      ],
      "text/plain": [
       "       len_Pos_keys\n",
       "count      696765.0\n",
       "mean            0.0\n",
       "std             0.0\n",
       "min             0.0\n",
       "25%             0.0\n",
       "50%             0.0\n",
       "75%             0.0\n",
       "max             0.0"
      ]
     },
     "execution_count": 15,
     "metadata": {},
     "output_type": "execute_result"
    }
   ],
   "source": [
    "p_train_df['len_Pos_keys'] = 0\n",
    "f = lambda x: len(eval(x))\n",
    "p_train_df['len_Pos_keys'] = p_train_df['POS_keys'].apply(f)\n",
    "p_train_df[['POS_keys','len_Pos_keys']].head()\n",
    "p_train_df[['POS_keys','len_Pos_keys']].describe()"
   ]
  },
  {
   "cell_type": "code",
   "execution_count": 16,
   "metadata": {},
   "outputs": [
    {
     "name": "stdout",
     "output_type": "stream",
     "text": [
      "696765\n"
     ]
    }
   ],
   "source": [
    "print(len(p_train_df[p_train_df['len_Pos_keys']<=5]))"
   ]
  },
  {
   "cell_type": "markdown",
   "metadata": {},
   "source": [
    "# DEP_Keyword"
   ]
  },
  {
   "cell_type": "code",
   "execution_count": 17,
   "metadata": {},
   "outputs": [
    {
     "data": {
      "text/html": [
       "<div>\n",
       "<style scoped>\n",
       "    .dataframe tbody tr th:only-of-type {\n",
       "        vertical-align: middle;\n",
       "    }\n",
       "\n",
       "    .dataframe tbody tr th {\n",
       "        vertical-align: top;\n",
       "    }\n",
       "\n",
       "    .dataframe thead th {\n",
       "        text-align: right;\n",
       "    }\n",
       "</style>\n",
       "<table border=\"1\" class=\"dataframe\">\n",
       "  <thead>\n",
       "    <tr style=\"text-align: right;\">\n",
       "      <th></th>\n",
       "      <th>len_DEP_keys</th>\n",
       "    </tr>\n",
       "  </thead>\n",
       "  <tbody>\n",
       "    <tr>\n",
       "      <th>count</th>\n",
       "      <td>696765.0</td>\n",
       "    </tr>\n",
       "    <tr>\n",
       "      <th>mean</th>\n",
       "      <td>0.0</td>\n",
       "    </tr>\n",
       "    <tr>\n",
       "      <th>std</th>\n",
       "      <td>0.0</td>\n",
       "    </tr>\n",
       "    <tr>\n",
       "      <th>min</th>\n",
       "      <td>0.0</td>\n",
       "    </tr>\n",
       "    <tr>\n",
       "      <th>25%</th>\n",
       "      <td>0.0</td>\n",
       "    </tr>\n",
       "    <tr>\n",
       "      <th>50%</th>\n",
       "      <td>0.0</td>\n",
       "    </tr>\n",
       "    <tr>\n",
       "      <th>75%</th>\n",
       "      <td>0.0</td>\n",
       "    </tr>\n",
       "    <tr>\n",
       "      <th>max</th>\n",
       "      <td>0.0</td>\n",
       "    </tr>\n",
       "  </tbody>\n",
       "</table>\n",
       "</div>"
      ],
      "text/plain": [
       "       len_DEP_keys\n",
       "count      696765.0\n",
       "mean            0.0\n",
       "std             0.0\n",
       "min             0.0\n",
       "25%             0.0\n",
       "50%             0.0\n",
       "75%             0.0\n",
       "max             0.0"
      ]
     },
     "execution_count": 17,
     "metadata": {},
     "output_type": "execute_result"
    }
   ],
   "source": [
    "p_train_df['len_DEP_keys'] = 0\n",
    "f = lambda x: len(eval(x))\n",
    "p_train_df['len_DEP_keys'] = p_train_df['DEP_keys'].apply(f)\n",
    "p_train_df[['DEP_keys','len_DEP_keys']].head()\n",
    "p_train_df[['DEP_keys','len_DEP_keys']].describe()"
   ]
  },
  {
   "cell_type": "markdown",
   "metadata": {},
   "source": [
    "# Noun_adj_keys"
   ]
  },
  {
   "cell_type": "code",
   "execution_count": 18,
   "metadata": {},
   "outputs": [
    {
     "data": {
      "text/html": [
       "<div>\n",
       "<style scoped>\n",
       "    .dataframe tbody tr th:only-of-type {\n",
       "        vertical-align: middle;\n",
       "    }\n",
       "\n",
       "    .dataframe tbody tr th {\n",
       "        vertical-align: top;\n",
       "    }\n",
       "\n",
       "    .dataframe thead th {\n",
       "        text-align: right;\n",
       "    }\n",
       "</style>\n",
       "<table border=\"1\" class=\"dataframe\">\n",
       "  <thead>\n",
       "    <tr style=\"text-align: right;\">\n",
       "      <th></th>\n",
       "      <th>len_Noun_adj_keys</th>\n",
       "    </tr>\n",
       "  </thead>\n",
       "  <tbody>\n",
       "    <tr>\n",
       "      <th>count</th>\n",
       "      <td>696765.000000</td>\n",
       "    </tr>\n",
       "    <tr>\n",
       "      <th>mean</th>\n",
       "      <td>33.557743</td>\n",
       "    </tr>\n",
       "    <tr>\n",
       "      <th>std</th>\n",
       "      <td>29.950038</td>\n",
       "    </tr>\n",
       "    <tr>\n",
       "      <th>min</th>\n",
       "      <td>0.000000</td>\n",
       "    </tr>\n",
       "    <tr>\n",
       "      <th>25%</th>\n",
       "      <td>14.000000</td>\n",
       "    </tr>\n",
       "    <tr>\n",
       "      <th>50%</th>\n",
       "      <td>24.000000</td>\n",
       "    </tr>\n",
       "    <tr>\n",
       "      <th>75%</th>\n",
       "      <td>42.000000</td>\n",
       "    </tr>\n",
       "    <tr>\n",
       "      <th>max</th>\n",
       "      <td>333.000000</td>\n",
       "    </tr>\n",
       "  </tbody>\n",
       "</table>\n",
       "</div>"
      ],
      "text/plain": [
       "       len_Noun_adj_keys\n",
       "count      696765.000000\n",
       "mean           33.557743\n",
       "std            29.950038\n",
       "min             0.000000\n",
       "25%            14.000000\n",
       "50%            24.000000\n",
       "75%            42.000000\n",
       "max           333.000000"
      ]
     },
     "execution_count": 18,
     "metadata": {},
     "output_type": "execute_result"
    }
   ],
   "source": [
    "p_train_df['len_Noun_adj_keys'] = 0\n",
    "f = lambda x: len(eval(x))\n",
    "p_train_df['len_Noun_adj_keys'] = p_train_df['Noun_adj_keys'].apply(f)\n",
    "p_train_df[['Noun_adj_keys','len_Noun_adj_keys']].head()\n",
    "p_train_df[['Noun_adj_keys','len_Noun_adj_keys']].describe()"
   ]
  },
  {
   "cell_type": "code",
   "execution_count": 19,
   "metadata": {},
   "outputs": [
    {
     "name": "stdout",
     "output_type": "stream",
     "text": [
      "24075\n"
     ]
    }
   ],
   "source": [
    "print(len(p_train_df[p_train_df['len_Noun_adj_keys']<=5]))"
   ]
  },
  {
   "cell_type": "markdown",
   "metadata": {},
   "source": [
    "# TextRank_Keyword"
   ]
  },
  {
   "cell_type": "code",
   "execution_count": 20,
   "metadata": {},
   "outputs": [
    {
     "data": {
      "text/plain": [
       "Index(['review_ID', 'rating', 'vote', 'binaryrating', 'orign_review',\n",
       "       'orign_summary', 'review', 'summary', 'cheat', 'cheat_num', 'overlap',\n",
       "       'review_len', 'summary_len', 'POS_keys', 'DEP_keys', 'Noun_adj_keys',\n",
       "       'TextRank_keys', 'len_lcs', 'percent_lcs', 'overlap_pos', 'token_lcs',\n",
       "       'summary_polarity', 'summary_subjectivity', 'summary_check',\n",
       "       'len_Pos_keys', 'len_DEP_keys', 'len_Noun_adj_keys'],\n",
       "      dtype='object')"
      ]
     },
     "execution_count": 20,
     "metadata": {},
     "output_type": "execute_result"
    }
   ],
   "source": [
    "p_train_df.columns"
   ]
  },
  {
   "cell_type": "code",
   "execution_count": 21,
   "metadata": {},
   "outputs": [
    {
     "data": {
      "text/html": [
       "<div>\n",
       "<style scoped>\n",
       "    .dataframe tbody tr th:only-of-type {\n",
       "        vertical-align: middle;\n",
       "    }\n",
       "\n",
       "    .dataframe tbody tr th {\n",
       "        vertical-align: top;\n",
       "    }\n",
       "\n",
       "    .dataframe thead th {\n",
       "        text-align: right;\n",
       "    }\n",
       "</style>\n",
       "<table border=\"1\" class=\"dataframe\">\n",
       "  <thead>\n",
       "    <tr style=\"text-align: right;\">\n",
       "      <th></th>\n",
       "      <th>len_TextRank_keys</th>\n",
       "    </tr>\n",
       "  </thead>\n",
       "  <tbody>\n",
       "    <tr>\n",
       "      <th>count</th>\n",
       "      <td>696765.0</td>\n",
       "    </tr>\n",
       "    <tr>\n",
       "      <th>mean</th>\n",
       "      <td>0.0</td>\n",
       "    </tr>\n",
       "    <tr>\n",
       "      <th>std</th>\n",
       "      <td>0.0</td>\n",
       "    </tr>\n",
       "    <tr>\n",
       "      <th>min</th>\n",
       "      <td>0.0</td>\n",
       "    </tr>\n",
       "    <tr>\n",
       "      <th>25%</th>\n",
       "      <td>0.0</td>\n",
       "    </tr>\n",
       "    <tr>\n",
       "      <th>50%</th>\n",
       "      <td>0.0</td>\n",
       "    </tr>\n",
       "    <tr>\n",
       "      <th>75%</th>\n",
       "      <td>0.0</td>\n",
       "    </tr>\n",
       "    <tr>\n",
       "      <th>max</th>\n",
       "      <td>0.0</td>\n",
       "    </tr>\n",
       "  </tbody>\n",
       "</table>\n",
       "</div>"
      ],
      "text/plain": [
       "       len_TextRank_keys\n",
       "count           696765.0\n",
       "mean                 0.0\n",
       "std                  0.0\n",
       "min                  0.0\n",
       "25%                  0.0\n",
       "50%                  0.0\n",
       "75%                  0.0\n",
       "max                  0.0"
      ]
     },
     "execution_count": 21,
     "metadata": {},
     "output_type": "execute_result"
    }
   ],
   "source": [
    "p_train_df['len_TextRank_keys'] = 0\n",
    "f = lambda x: len(eval(x))\n",
    "p_train_df['len_TextRank_keys'] = p_train_df['TextRank_keys'].apply(f)\n",
    "p_train_df[['TextRank_keys','len_TextRank_keys']].head()\n",
    "p_train_df[['TextRank_keys','len_TextRank_keys']].describe()"
   ]
  },
  {
   "cell_type": "code",
   "execution_count": 22,
   "metadata": {},
   "outputs": [
    {
     "name": "stdout",
     "output_type": "stream",
     "text": [
      "696765\n"
     ]
    }
   ],
   "source": [
    "print(len(p_train_df[p_train_df['len_TextRank_keys']<=1]))"
   ]
  },
  {
   "cell_type": "markdown",
   "metadata": {},
   "source": [
    "# Prune data length"
   ]
  },
  {
   "cell_type": "code",
   "execution_count": 23,
   "metadata": {},
   "outputs": [
    {
     "name": "stdout",
     "output_type": "stream",
     "text": [
      "review_len <= 500 and summary_len<= 20 and summary_polarity > 0.1 and summary_subjectivity > 0.25 :  491430\n",
      "review_len <= 500 and summary_len<= 20 and summary_polarity > 0.1 and summary_subjectivity > 0.25 :  58330\n"
     ]
    }
   ],
   "source": [
    "print('review_len <= 500 and summary_len<= 20 and summary_polarity > 0.1 and summary_subjectivity > 0.25 : ',len(p_train_df[\n",
    "    (p_train_df['percent_lcs']>=25) & (p_train_df['review_len']>=50) &(p_train_df['review_len']<=500) & (p_train_df['summary_len']<=20) &\n",
    "    (abs(p_train_df['summary_polarity'])>=0.1) &\n",
    "    (p_train_df['summary_subjectivity']>=0.1)  &\n",
    "    (p_train_df['overlap_pos']!=0)\n",
    "#     (not((p_train_df['overlap_pos']==0) & (p_train_df['percent_lcs']>50)))\n",
    "#     (p_train_df['len_TextRank_keys']>0) \n",
    "#     (p_train_df['len_DEP_keys']>5) & \n",
    "#     (p_train_df['len_Pos_keys']>5)\n",
    "                                        ]))\n",
    "print('review_len <= 500 and summary_len<= 20 and summary_polarity > 0.1 and summary_subjectivity > 0.25 : ',len(p_val_df[\n",
    "    (p_val_df['review_len']>=50) &(p_val_df['review_len']<=500) & (p_val_df['summary_len']<=20) &\n",
    "    (abs(p_val_df['summary_polarity'])>=0.1) &\n",
    "    (p_val_df['summary_subjectivity']>=0.1) & (p_val_df['overlap_pos']!=0)    \n",
    "                                        ]))\n",
    "\n",
    "# # first_acc = 0.325\n",
    "min_df = p_train_df[\n",
    "    (p_train_df['review_len']<=500) & (p_train_df['summary_len']<=20) &\n",
    "    (abs(p_train_df['summary_polarity'])>=0.1) &\n",
    "    (p_train_df['summary_subjectivity']>=0.1)    \n",
    "                                        ]\n",
    "\n",
    "# print('reveiw_len > 7000 :',len(p_train_df[p_train_df['reveiw_len']>=700])) # # max pos, max_enc_steps \n",
    "# s = p_train_df['reveiw_len'].describe(); print(s)\n",
    "# s = s.drop(labels = ['count'])\n",
    "# s.plot.bar()\n",
    "# plt.ylabel('length')\n",
    "# plt.title('reveiw_len')\n",
    "# plt.show()"
   ]
  },
  {
   "cell_type": "markdown",
   "metadata": {},
   "source": [
    "# cheat_num"
   ]
  },
  {
   "cell_type": "code",
   "execution_count": 24,
   "metadata": {},
   "outputs": [
    {
     "name": "stdout",
     "output_type": "stream",
     "text": [
      "count    594784.000000\n",
      "mean          5.785162\n",
      "std           2.760313\n",
      "min           0.000000\n",
      "25%           4.000000\n",
      "50%           5.000000\n",
      "75%           7.000000\n",
      "max          18.000000\n",
      "Name: cheat_num, dtype: float64\n"
     ]
    },
    {
     "data": {
      "text/plain": [
       "Text(0.5, 1.0, 'cheat_num')"
      ]
     },
     "execution_count": 24,
     "metadata": {},
     "output_type": "execute_result"
    },
    {
     "data": {
      "image/png": "[encoded data removed]",
      "text/plain": [
       "<Figure size 432x288 with 1 Axes>"
      ]
     },
     "metadata": {
      "needs_background": "light"
     },
     "output_type": "display_data"
    }
   ],
   "source": [
    "hist = min_df['cheat_num'].hist(bins=10)\n",
    "s = min_df['cheat_num'].describe(); print(s)\n",
    "plt.xlabel('cheat')\n",
    "plt.title('cheat_num')"
   ]
  },
  {
   "cell_type": "markdown",
   "metadata": {},
   "source": [
    "# summary_check"
   ]
  },
  {
   "cell_type": "code",
   "execution_count": 25,
   "metadata": {},
   "outputs": [],
   "source": [
    "# s = min_df['summary_check'].describe(); print(s) # for tricky\n",
    "\n",
    "# hist = min_df['summary_check'].hist(bins=10)\n",
    "# s = min_df['summary_check'].describe(); print(s)\n",
    "# plt.xlabel('polarity')\n",
    "# plt.title('summary_polarity')"
   ]
  },
  {
   "cell_type": "markdown",
   "metadata": {},
   "source": [
    "# percent_lcs EDA(20 divided)"
   ]
  },
  {
   "cell_type": "code",
   "execution_count": 26,
   "metadata": {},
   "outputs": [
    {
     "name": "stdout",
     "output_type": "stream",
     "text": [
      "count    594784.000000\n",
      "mean         53.918920\n",
      "std          20.915612\n",
      "min           0.000000\n",
      "25%          37.500000\n",
      "50%          50.000000\n",
      "75%          72.727273\n",
      "max          90.000000\n",
      "Name: percent_lcs, dtype: float64\n"
     ]
    },
    {
     "data": {
      "text/plain": [
       "Text(0.5, 1.0, 'percent_lcs')"
      ]
     },
     "execution_count": 26,
     "metadata": {},
     "output_type": "execute_result"
    },
    {
     "data": {
      "image/png": "[encoded data removed]",
      "text/plain": [
       "<Figure size 432x288 with 1 Axes>"
      ]
     },
     "metadata": {
      "needs_background": "light"
     },
     "output_type": "display_data"
    }
   ],
   "source": [
    "hist = min_df['percent_lcs'].hist(bins=5)\n",
    "s = min_df['percent_lcs'].describe(); print(s)\n",
    "plt.ylabel('count')\n",
    "plt.xlabel('percent(%)')\n",
    "plt.title('percent_lcs')"
   ]
  },
  {
   "cell_type": "code",
   "execution_count": 27,
   "metadata": {},
   "outputs": [
    {
     "data": {
      "image/png": "[encoded data removed]",
      "text/plain": [
       "<Figure size 432x288 with 1 Axes>"
      ]
     },
     "metadata": {
      "needs_background": "light"
     },
     "output_type": "display_data"
    }
   ],
   "source": [
    "# 统计学上的四分为函数\n",
    "# 原则上p是可以取0到1之间的任意值的。但是有一个四分位数是p分位数中较为有名的。\n",
    "\n",
    "# 所谓四分位数；即把数值由小到大排列并分成四等份，处于三个分割点位置的数值就是四分位数。\n",
    "\n",
    "# 第1四分位数 (Q1)，又称“较小四分位数”，等于该样本中所有数值由小到大排列后第25%的数字。\n",
    "# 第2四分位数 (Q2)，又称“中位数”，等于该样本中所有数值由小到大排列后第50%的数字。\n",
    "# 第3四分位数 (Q3)，又称“较大四分位数”，等于该样本中所有数值由小到大排列后第75%的数字。\n",
    "# 第3四分位数与第1四分位数的差距又称四分位距（InterQuartile Range,IQR）\n",
    "\n",
    "s = pd.Series({'x < 20':len(min_df[min_df['percent_lcs']<20])/len(min_df)*100, \n",
    "           '20 < x < 40':len(min_df[(min_df['percent_lcs']>20) & (min_df['percent_lcs']<40)])/len(min_df)*100, \n",
    "           '40 < x < 60':len(min_df[(min_df['percent_lcs']>40) & (min_df['percent_lcs']<60)])/len(min_df)*100, \n",
    "           '60 < x < 80':len(min_df[(min_df['percent_lcs']>60) & (min_df['percent_lcs']<80)])/len(min_df)*100, \n",
    "           'x > 80':len(min_df[min_df['percent_lcs']>80])/len(min_df)*100          \n",
    "          })\n",
    "s.plot.bar()\n",
    "plt.ylabel('total(%)')\n",
    "plt.xlabel('20% (rank)')\n",
    "plt.title('percent_lcs')\n",
    "plt.show()"
   ]
  },
  {
   "cell_type": "code",
   "execution_count": 28,
   "metadata": {},
   "outputs": [
    {
     "name": "stdout",
     "output_type": "stream",
     "text": [
      "overlap Top :11.70 %\n",
      "overlap Final :0.00 %\n",
      "overlap Other Pos :44.44 %\n",
      "No overlap :43.86 %\n"
     ]
    },
    {
     "data": {
      "image/png": "[encoded data removed]",
      "text/plain": [
       "<Figure size 432x288 with 1 Axes>"
      ]
     },
     "metadata": {
      "needs_background": "light"
     },
     "output_type": "display_data"
    }
   ],
   "source": [
    "'''\n",
    "overlap => percent_lcs > (50% summary len)\n",
    "overlap_pos : 0 Top\n",
    "overlap_pos : 1 Final\n",
    "overlap_pos : 2 Other Pos\n",
    "overlap_pos : -1 No overlap\n",
    "'''\n",
    "\n",
    "# print('overlap Top :%2.2f'% float(len(min_df[(min_df['overlap_pos'] == 0) & (min_df['percent_lcs']>50)])/len(min_df)*100),'%') \n",
    "# print('overlap Final :%2.2f'% float(len(min_df[(min_df['overlap_pos'] == 1) & (min_df['percent_lcs']>50)])/len(min_df)*100),'%') \n",
    "# print('overlap Other Pos :%2.2f'% float(len(min_df[(min_df['overlap_pos'] == 2) & (min_df['percent_lcs']>50)])/len(min_df)*100),'%') \n",
    "# print('No overlap :%2.2f'% float(len(min_df[(min_df['percent_lcs']<=50)])/len(min_df)*100),'%') \n",
    "\n",
    "# s = pd.Series({'Top':len(min_df[(min_df['overlap_pos'] == 0) & (min_df['percent_lcs']>50)])/len(min_df)*100, \n",
    "#            'Final':len(min_df[(min_df['overlap_pos'] == 1) & (min_df['percent_lcs']>50)])/len(min_df)*100,      \n",
    "#            'Other Pos':len(min_df[(min_df['overlap_pos'] == 2) & (min_df['percent_lcs']>50)])/len(min_df)*100,  \n",
    "#            'No overlap':len(min_df[(min_df['percent_lcs']<=50)])/len(min_df)*100,  \n",
    "#           })\n",
    "\n",
    "\n",
    "print('overlap Top :%2.2f'% float(len(min_df[(min_df['overlap_pos'] == 0) ])/len(min_df)*100),'%') \n",
    "print('overlap Final :%2.2f'% float(len(min_df[(min_df['overlap_pos'] == 1) ])/len(min_df)*100),'%') \n",
    "print('overlap Other Pos :%2.2f'% float(len(min_df[(min_df['overlap_pos'] == 2) ])/len(min_df)*100),'%') \n",
    "print('No overlap :%2.2f'% float(len(min_df[(min_df['overlap_pos']==-1)])/len(min_df)*100),'%') \n",
    "\n",
    "s = pd.Series({'Top':len(min_df[(min_df['overlap_pos'] == 0) ])/len(min_df)*100, \n",
    "           'Final':len(min_df[(min_df['overlap_pos'] == 1) ])/len(min_df)*100,      \n",
    "           'Other Pos':len(min_df[(min_df['overlap_pos'] == 2) ])/len(min_df)*100,  \n",
    "           'No overlap':len(min_df[(min_df['overlap_pos']==-1)])/len(min_df)*100,  \n",
    "          })\n",
    "\n",
    "s.plot.bar()\n",
    "plt.ylabel('total(%)')\n",
    "plt.xlabel('Position')\n",
    "plt.title('overlap')\n",
    "plt.show()"
   ]
  },
  {
   "cell_type": "markdown",
   "metadata": {},
   "source": [
    "# Ext/Abs分界(50)"
   ]
  },
  {
   "cell_type": "code",
   "execution_count": 29,
   "metadata": {},
   "outputs": [
    {
     "name": "stdout",
     "output_type": "stream",
     "text": [
      "percent_lcs x > 50  46.93 %\n",
      "percent_lcs x <= 50  53.07 %\n"
     ]
    },
    {
     "data": {
      "image/png": "[encoded data removed]",
      "text/plain": [
       "<Figure size 432x288 with 1 Axes>"
      ]
     },
     "metadata": {
      "needs_background": "light"
     },
     "output_type": "display_data"
    }
   ],
   "source": [
    "print('percent_lcs x > 50  %2.2f'% float(len(min_df[(min_df['percent_lcs']>50)])/len(min_df)*100),'%')  # max_dec_steps\n",
    "print('percent_lcs x <= 50  %2.2f'% float(len(min_df[(min_df['percent_lcs']<=50)])/len(min_df)*100),'%')  # max_dec_steps\n",
    "\n",
    "s = pd.Series({'Ext.':len(min_df[(min_df['percent_lcs']>50)])/len(min_df)*100, \n",
    "           'Abs.':len(min_df[(min_df['percent_lcs']<=50)])/len(min_df)*100,      \n",
    "          })\n",
    "s.plot.bar()\n",
    "plt.ylabel('total(%)')\n",
    "plt.xlabel('summary type')\n",
    "plt.title('percent_lcs')\n",
    "plt.xticks(rotation=0)\n",
    "plt.show()"
   ]
  },
  {
   "cell_type": "code",
   "execution_count": 30,
   "metadata": {},
   "outputs": [
    {
     "name": "stdout",
     "output_type": "stream",
     "text": [
      "overlap Top :10.10 %\n",
      "overlap Final :0.00 %\n",
      "overlap Other Pos :36.84 %\n",
      "No overlap :53.07 %\n"
     ]
    },
    {
     "data": {
      "image/png": "[encoded data removed]",
      "text/plain": [
       "<Figure size 432x288 with 1 Axes>"
      ]
     },
     "metadata": {
      "needs_background": "light"
     },
     "output_type": "display_data"
    }
   ],
   "source": [
    "'''\n",
    "overlap => percent_lcs > (50% summary len)\n",
    "overlap_pos : 0 Top\n",
    "overlap_pos : 1 Final\n",
    "overlap_pos : 2 Other Pos\n",
    "overlap_pos : -1 No overlap\n",
    "'''\n",
    "\n",
    "print('overlap Top :%2.2f'% float(len(min_df[(min_df['overlap_pos'] == 0) & (min_df['percent_lcs']>50)])/len(min_df)*100),'%') \n",
    "print('overlap Final :%2.2f'% float(len(min_df[(min_df['overlap_pos'] == 1) & (min_df['percent_lcs']>50)])/len(min_df)*100),'%') \n",
    "print('overlap Other Pos :%2.2f'% float(len(min_df[(min_df['overlap_pos'] == 2) & (min_df['percent_lcs']>50)])/len(min_df)*100),'%') \n",
    "print('No overlap :%2.2f'% float(len(min_df[(min_df['percent_lcs']<=50)])/len(min_df)*100),'%') \n",
    "\n",
    "s = pd.Series({'overlap Top':len(min_df[(min_df['overlap_pos'] == 0) & (min_df['percent_lcs']>50)])/len(min_df)*100, \n",
    "           'overlap Final':len(min_df[(min_df['overlap_pos'] == 1) & (min_df['percent_lcs']>50)])/len(min_df)*100,      \n",
    "           'overlap Other Pos':len(min_df[(min_df['overlap_pos'] == 2) & (min_df['percent_lcs']>50)])/len(min_df)*100,  \n",
    "           'No overlap':len(min_df[(min_df['percent_lcs']<=50)])/len(min_df)*100,  \n",
    "          })\n",
    "s.plot.bar()\n",
    "plt.ylabel('total(%)')\n",
    "plt.title('overlap')\n",
    "plt.show()"
   ]
  },
  {
   "cell_type": "code",
   "execution_count": 31,
   "metadata": {},
   "outputs": [
    {
     "data": {
      "text/plain": [
       "[{'review': 'of i have no idea how good it be . i put the wrong bolt in because the direction suck of and i do not see that there be four bolt in the box . now i can not get it out . check out my video .',\n",
       "  'summary': '<s> make sure you have all the bolt and part in front of you before you start </s>',\n",
       "  'summary_subjectivity': 0.8888888888888888,\n",
       "  'summary_polarity': 0.5,\n",
       "  'keywords': '[]'},\n",
       " {'review': 'i dislike the instruction regard water and excavator mixing of it be too watery and take a long time to dry i use lb and it take around day to fully dry of but it be worth it . repeat i suggest add a bit less water than indicate .',\n",
       "  'summary': '<s> good product and well worth the price i pay thanks amazon of repeat </s>',\n",
       "  'summary_subjectivity': 0.3,\n",
       "  'summary_polarity': 0.4,\n",
       "  'keywords': '[]'},\n",
       " {'review': 'i use this about time of then the af stop work of the contact pin be all stick and would not come out towards the lens so it make no contact with the lens of it be a big mistake to buy this . avoid at all cost .',\n",
       "  'summary': '<s> do not waste your money of they should send me a new one </s>',\n",
       "  'summary_subjectivity': 0.2272727272727273,\n",
       "  'summary_polarity': 0.1181818181818182,\n",
       "  'keywords': '[]'},\n",
       " {'review': 'great of handy item with an easy glide plastic zipper . easy to get camera out and back in case again . hard case be critical for optimal protection of the camera . pink color be really easy to find in my bottomless pit of a purse .',\n",
       "  'summary': '<s> canon powershot mp digital camera case of crown hard she ll travel case </s>',\n",
       "  'summary_subjectivity': 0.2708333333333333,\n",
       "  'summary_polarity': -0.1458333333333333,\n",
       "  'keywords': '[]'},\n",
       " {'review': 'i have use sack of up gun protector sleeve for over year . it be a sturdy product that protect the firearm from contact damage with other firearm while store in the safe . plus their protection from moisture be excellent . this be well make american make product .',\n",
       "  'summary': '<s> do not buy cheap of knock off of product make in china of buy only sack of up </s>',\n",
       "  'summary_subjectivity': 0.85,\n",
       "  'summary_polarity': 0.2,\n",
       "  'keywords': '[]'},\n",
       " {'review': 'instal of these megapixel camera and all work fine except for of them . zos i be prompt to ship out a replacement camera and now system work great in daytime and . at night which be what i expect in this price range .',\n",
       "  'summary': '<s> good value in this price range for camera with a hard drive system </s>',\n",
       "  'summary_subjectivity': 0.5708333333333333,\n",
       "  'summary_polarity': 0.2041666666666666,\n",
       "  'keywords': '[]'},\n",
       " {'review': 'the case i receive do not fit the moto pure . it be clearly for a different phone . it be too small and the cutout be in all the wrong place . clearly this case be ship by accident . poor quality control . avoid this company .',\n",
       "  'summary': '<s> this be not a moto pure case of they ship the wrong case </s>',\n",
       "  'summary_subjectivity': 0.7,\n",
       "  'summary_polarity': -0.1428571428571428,\n",
       "  'keywords': '[]'},\n",
       " {'review': 'i buy the pound set it say . i get two pound dumbbell i use pounder in some exercise and it be a fair price so i keep them but it seem a little sketchy . especially since in the a section they say order get two .',\n",
       "  'summary': '<s> total weight add up to order equal two pound dumbbell price be not as good as it seem </s>',\n",
       "  'summary_subjectivity': 0.5333333333333333,\n",
       "  'summary_polarity': 0.2333333333333333,\n",
       "  'keywords': '[]'},\n",
       " {'review': 'in this video of i show you how i pair the speakerphone with my lg xenon phone . i also demonstrate the fm compatibility of the ability to play youtube music of the ease of make a call of and the little extra that come with this device .',\n",
       "  'summary': '<s> it be so easy to use of less than a minute to pair to your phone of </s>',\n",
       "  'summary_subjectivity': 0.45,\n",
       "  'summary_polarity': 0.1333333333333334,\n",
       "  'keywords': '[]'},\n",
       " {'review': 'i absolutely my new phone case . it look exactly how it do in the picture . i have it for a few day and everything be still into place no piece come off . must get lady . go to shop for more soon .',\n",
       "  'summary': '<s> pee effect phone case ever summer be around the corner perfect to look at </s>',\n",
       "  'summary_subjectivity': 1.0,\n",
       "  'summary_polarity': 1.0,\n",
       "  'keywords': '[]'}]"
      ]
     },
     "execution_count": 31,
     "metadata": {},
     "output_type": "execute_result"
    }
   ],
   "source": [
    "def view(df, condition, view_num=10):\n",
    "    package_dict = []\n",
    "    for i in range(view_num):\n",
    "        d1 = dict(min_df[eval(condition)].iloc[i])\n",
    "        d2 = {'review':d1['review'],\n",
    "              'summary':d1['summary'],\n",
    "              'summary_subjectivity':d1['summary_subjectivity'],\n",
    "              'summary_polarity':d1['summary_polarity'],\n",
    "#               'token_lcs':d1['token_lcs'],\n",
    "#               'overlap':d1['overlap'],\n",
    "#               'percent_lcs':d1['percent_lcs'],\n",
    "              'keywords':d1['POS_keys']            \n",
    "             }\n",
    "        package_dict.append(d2)\n",
    "    return package_dict\n",
    "        \n",
    "# view(min_df, \"(min_df['overlap_pos'] == 2) & (min_df['percent_lcs']<50)\")\n",
    "view(min_df, \"(min_df['review_len']<=50) & (min_df['percent_lcs']<=40) & (min_df['summary_len']>=15) & (min_df['summary_subjectivity']>=0.1)\")\n",
    "\n"
   ]
  },
  {
   "cell_type": "code",
   "execution_count": 32,
   "metadata": {},
   "outputs": [
    {
     "data": {
      "text/plain": [
       "485267    <s> by far the best reflective vest i have try...\n",
       "609333                  <s> easy to see of easy to use </s>\n",
       "767773    <s> i have order the twice now and love them o...\n",
       "230160    <s> holy crap this thing be nice of repeated </s>\n",
       "391521    <s> i buy this mirror because the guy who have...\n",
       "26176     <s> trendnet of etg be a great addition to a c...\n",
       "226646    <s> i have an iphone of and it fit easily in t...\n",
       "246566       <s> and it beautiful right out of the box </s>\n",
       "160192          <s> great case for the canon powershot </s>\n",
       "538841    <s> the picture display the item in a chrome l...\n",
       "Name: summary, dtype: object"
      ]
     },
     "execution_count": 32,
     "metadata": {},
     "output_type": "execute_result"
    }
   ],
   "source": [
    "dict(min_df[(min_df['overlap_pos'] == 2) & (min_df['percent_lcs']>50)].iloc[0:10])['summary']"
   ]
  },
  {
   "cell_type": "code",
   "execution_count": null,
   "metadata": {},
   "outputs": [],
   "source": []
  },
  {
   "cell_type": "code",
   "execution_count": 33,
   "metadata": {},
   "outputs": [],
   "source": [
    "# review_path = '/home/eagleuser/Users/leyan/Train-Data/Mix6_mainCat_Ekphrasis/review.xlsx'\n",
    "# df = pd.read_excel(review_path)"
   ]
  },
  {
   "cell_type": "code",
   "execution_count": 34,
   "metadata": {},
   "outputs": [
    {
     "ename": "NameError",
     "evalue": "name 'df' is not defined",
     "output_type": "error",
     "traceback": [
      "\u001b[0;31m---------------------------------------------------------------------------\u001b[0m",
      "\u001b[0;31mNameError\u001b[0m                                 Traceback (most recent call last)",
      "\u001b[0;32m<ipython-input-34-b666bf274d0a>\u001b[0m in \u001b[0;36m<module>\u001b[0;34m\u001b[0m\n\u001b[0;32m----> 1\u001b[0;31m \u001b[0mdf\u001b[0m\u001b[0;34m.\u001b[0m\u001b[0mcolumns\u001b[0m\u001b[0;34m\u001b[0m\u001b[0;34m\u001b[0m\u001b[0m\n\u001b[0m",
      "\u001b[0;31mNameError\u001b[0m: name 'df' is not defined"
     ]
    }
   ],
   "source": [
    "df.columns"
   ]
  },
  {
   "cell_type": "code",
   "execution_count": null,
   "metadata": {},
   "outputs": [],
   "source": [
    "# df[(df['review_ID']==1497744000) & (df['lemm_review_len']==74)]\n",
    "\n",
    "df[(df['lemm_review_len']<=70)][['review','summary','lemm_review_len']].iloc[0]['review']"
   ]
  },
  {
   "cell_type": "code",
   "execution_count": null,
   "metadata": {},
   "outputs": [],
   "source": [
    "df[(df['lemm_review_len']<=70)][['review','summary','review_ID']].iloc[0]['review_ID']"
   ]
  },
  {
   "cell_type": "code",
   "execution_count": null,
   "metadata": {},
   "outputs": [],
   "source": [
    "min_df.columns"
   ]
  },
  {
   "cell_type": "code",
   "execution_count": null,
   "metadata": {},
   "outputs": [],
   "source": [
    "min_df[(min_df['review_len']==58) & (min_df['review_ID']==1174089600)].iloc[0]['review']"
   ]
  },
  {
   "cell_type": "code",
   "execution_count": null,
   "metadata": {},
   "outputs": [],
   "source": [
    "min_df[(min_df['review_len']==58) & (min_df['review_ID']==1174089600)].iloc[0]['summary']"
   ]
  },
  {
   "cell_type": "code",
   "execution_count": null,
   "metadata": {},
   "outputs": [],
   "source": [
    "min_df[(min_df['review_len']==58) & (min_df['review_ID']==1174089600)].iloc[0]['percent_lcs']"
   ]
  },
  {
   "cell_type": "code",
   "execution_count": null,
   "metadata": {},
   "outputs": [],
   "source": [
    "min_df[(min_df['review_len']==58) & (min_df['review_ID']==1174089600)].iloc[0]['Noun_adj_keys']"
   ]
  },
  {
   "cell_type": "code",
   "execution_count": null,
   "metadata": {},
   "outputs": [],
   "source": [
    "['background', 'mic', 'quality', 'i', 'river', 'noise', 'player', 'computer']"
   ]
  }
 ],
 "metadata": {
  "kernelspec": {
   "display_name": "Python 3",
   "language": "python",
   "name": "python3"
  },
  "language_info": {
   "codemirror_mode": {
    "name": "ipython",
    "version": 3
   },
   "file_extension": ".py",
   "mimetype": "text/x-python",
   "name": "python",
   "nbconvert_exporter": "python",
   "pygments_lexer": "ipython3",
   "version": "3.6.7"
  }
 },
 "nbformat": 4,
 "nbformat_minor": 4
}
