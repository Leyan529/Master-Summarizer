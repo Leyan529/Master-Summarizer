{
 "cells": [
  {
   "cell_type": "code",
   "execution_count": 4,
   "metadata": {},
   "outputs": [
    {
     "name": "stdout",
     "output_type": "stream",
     "text": [
      "779339\n",
      "701405\n",
      "77934\n",
      "/home/eagleuser/Users/leyan/Train-Data/Mix6_mainCat_Ekphrasis_new/pro_review.xlsx\n"
     ]
    }
   ],
   "source": [
    "import sys \n",
    "sys.path.append(\"..\") \n",
    "import os\n",
    "import pandas as pd\n",
    "from utils import config\n",
    "config.data_type = 'Mix6_mainCat_Ekphrasis_new'\n",
    "from sklearn.model_selection import train_test_split\n",
    "\n",
    "# config.xls_path = '../Train-Data/Mix6_mainCat_20/pro_review.xlsx'\n",
    "config.xls_path = '/home/eagleuser/Users/leyan/Train-Data/Mix6_mainCat_Ekphrasis_new/pro_review.xlsx'\n",
    "# path = str(os.path.abspath(config.xls_path)).replace('Summarize_parallel','')\n",
    "total_df = pd.read_excel(str(os.path.abspath(config.xls_path)).replace('Summarize_parallel',''))\n",
    "\n",
    "# total_df = total_df[total_df['review_len']>=50]\n",
    "# total_df = total_df[total_df['summary_len']>=5]\n",
    "total_df = total_df.sort_values(by=['review_len','overlap'], ascending = False)\n",
    "train_df, val_df = train_test_split(total_df, test_size=0.1, \n",
    "                                    random_state=0, shuffle=True)\n",
    "\n",
    "print(len(total_df))\n",
    "print(len(train_df))\n",
    "print(len(val_df))\n",
    "print(str(os.path.abspath(config.xls_path)))\n",
    "# train : 504075(90%),    test : 56009(10%) -> best 566084"
   ]
  },
  {
   "cell_type": "code",
   "execution_count": 5,
   "metadata": {},
   "outputs": [
    {
     "data": {
      "text/plain": [
       "'/home/eagleuser/Users/leyan/Train-Data/Mix6_mainCat_Ekphrasis_new/pro_review.xlsx'"
      ]
     },
     "execution_count": 5,
     "metadata": {},
     "output_type": "execute_result"
    }
   ],
   "source": [
    "config.xls_path"
   ]
  },
  {
   "cell_type": "code",
   "execution_count": 6,
   "metadata": {},
   "outputs": [],
   "source": [
    "def longest_common_subsequence(main_string, comparing_string):\n",
    "\n",
    "#     main_string = main_string.split(\" \")\n",
    "#     comparing_string = comparing_string.split(\" \")\n",
    "    columns_length = len(main_string)  # Get the length of the first word or base word\n",
    "    rows_length = len(comparing_string)  # Get the length of the second word or comparing word\n",
    "\n",
    "    # MAKE A 2D LIST (MATRIX)\n",
    "    dynamic_table = [[0] * (columns_length + 1) for i in range(rows_length + 1)]\n",
    "\n",
    "    # rows_length = NUMBER OF ROWS\n",
    "    # columns_length = NUMBER OF COLUMNS\n",
    "    \n",
    "    # FILL THE MATRIX FOLLOWING LCS ALGORITHM.\n",
    "    for i in range(1, rows_length + 1):\n",
    "        for j in range(1, columns_length + 1):\n",
    "            if main_string[j - 1] == comparing_string[i - 1]:\n",
    "                dynamic_table[i][j] = 1 + dynamic_table[i - 1][j - 1]\n",
    "\n",
    "            else:\n",
    "                dynamic_table[i][j] = max(dynamic_table[i - 1][j], dynamic_table[i][j - 1])\n",
    "\n",
    "#     print(\"MATRIX ACCORDING TO LONGEST COMMON SUBSEQUENCE ALGORITHM: \\n \")\n",
    "\n",
    "    # for i in range(rows_length + 1):\n",
    "    #     print(dynamic_table[i])\n",
    "\n",
    "    #print(\"LENGTH OF LONGEST COMMON SUBSEQUENCE = \", dynamic_table[rows_length][columns_length])\n",
    "\n",
    "    len_lcs = dynamic_table[rows_length][columns_length]\n",
    "\n",
    "    i = len(comparing_string)\n",
    "    j = len(main_string)\n",
    "\n",
    "    lcs_string = str()\n",
    "\n",
    "    # BACKTRACKING TO FIND THE LONGEST COMMON SUBSEQUENCE\n",
    "\n",
    "    temp = True\n",
    "\n",
    "    while temp is True:\n",
    "        if dynamic_table[i][j] == 0:\n",
    "            temp = False\n",
    "        elif dynamic_table[i][j] == dynamic_table[i][j - 1]:\n",
    "            j = j - 1\n",
    "\n",
    "        else:\n",
    "            lcs_string = main_string[j-1] + \" \" + lcs_string\n",
    "            i = i - 1\n",
    "            j = j - 1\n",
    "\n",
    "    return lcs_string, len_lcs"
   ]
  },
  {
   "cell_type": "code",
   "execution_count": 7,
   "metadata": {},
   "outputs": [],
   "source": [
    "# df.loc[i,'token_lcs'] = token_lcs\n",
    "#             df.loc[i,'len_lcs'] = len_lcs\n",
    "#             df.loc[i,'percent_lcs'] = percent_lcs\n",
    "#             df.loc[i,'overlap_pos'] = overlap_pos\n",
    "            \n",
    "#             df.loc[i,'reveiw_len'] = len(rev_tokens)\n",
    "#             df.loc[i,'summary_len'] = len(summary_tokens)"
   ]
  },
  {
   "cell_type": "code",
   "execution_count": 8,
   "metadata": {},
   "outputs": [],
   "source": [
    "#%%\n",
    "from tqdm import tqdm\n",
    "from copy import deepcopy\n",
    "def analay(df, mode):\n",
    "#     df['token_lcs'] = 0\n",
    "#     df['len_lcs'] = 0\n",
    "#     df['percent_lcs'] = 0\n",
    "#     df['overlap_pos'] = 0\n",
    "\n",
    "#     df['reveiw_len'] = 0\n",
    "#     df['summary_len'] = 0\n",
    "#     df = df[:100]\n",
    "    with tqdm(total=len(df)) as pbar:\n",
    "        for i ,row in df.iterrows():       \n",
    "            overlap_pos = None\n",
    "\n",
    "#             rev, summary = row['review'], row['summary']\n",
    "#             rev_tokens, summary_tokens = rev.split(\" \"), summary.split(\" \")           \n",
    "#             token_lcs, len_lcs = longest_common_subsequence(rev_tokens, summary_tokens)\n",
    "#             percent_lcs = len_lcs / len(summary_tokens) * 100 # percent\n",
    "\n",
    "#             rev_sents = rev.split(\" . \")\n",
    "#             overlap_sents = {idx: longest_common_subsequence(sent.split(\" \"), summary_tokens) for idx, sent in enumerate(rev_sents)}\n",
    "#             sort_overlap_sent = {k:v for k,v in sorted(overlap_sents.items(), key= lambda item: item[1], reverse=True)}\n",
    "#             overlap_sent_id = list(sort_overlap_sent.items())[0][0]\n",
    "\n",
    "#             if (overlap_sent_id == 0) and (percent_lcs >= 20): overlap_pos = 0 # overlap_Top \n",
    "#             elif (overlap_sent_id == len(rev_tokens)-1) and (percent_lcs >= 20): overlap_pos = 1 # overlap_Final \n",
    "#             elif (percent_lcs >= 20): overlap_pos = 2 # overlap_other \n",
    "#             else: overlap_pos = -1 # no overlap \n",
    "\n",
    "#             df.loc[i,'token_lcs'] = token_lcs\n",
    "#             df.loc[i,'len_lcs'] = len_lcs\n",
    "#             df.loc[i,'percent_lcs'] = percent_lcs\n",
    "#             df.loc[i,'overlap_pos'] = overlap_pos\n",
    "            \n",
    "#             df.loc[i,'reveiw_len'] = len(rev_tokens)\n",
    "#             df.loc[i,'summary_len'] = len(summary_tokens)\n",
    "\n",
    "            pbar.update(1)\n",
    "#             pbar.set_description(\"%s row: %s | overlap_pos: %s (%2.2f)percent| len_lcs: %s\" % (mode, i, overlap_pos, percent_lcs, len_lcs))\n",
    "#     df = df[df['token_lcs']!=0]\n",
    "    return df\n",
    "\n"
   ]
  },
  {
   "cell_type": "code",
   "execution_count": 9,
   "metadata": {},
   "outputs": [
    {
     "data": {
      "text/plain": [
       "472216    322\n",
       "556246    141\n",
       "79843     571\n",
       "676151     67\n",
       "4833      460\n",
       "Name: review_len, dtype: int64"
      ]
     },
     "execution_count": 9,
     "metadata": {},
     "output_type": "execute_result"
    }
   ],
   "source": [
    "train_df['review_len'].head()"
   ]
  },
  {
   "cell_type": "code",
   "execution_count": 10,
   "metadata": {},
   "outputs": [
    {
     "data": {
      "text/html": [
       "<div>\n",
       "<style scoped>\n",
       "    .dataframe tbody tr th:only-of-type {\n",
       "        vertical-align: middle;\n",
       "    }\n",
       "\n",
       "    .dataframe tbody tr th {\n",
       "        vertical-align: top;\n",
       "    }\n",
       "\n",
       "    .dataframe thead th {\n",
       "        text-align: right;\n",
       "    }\n",
       "</style>\n",
       "<table border=\"1\" class=\"dataframe\">\n",
       "  <thead>\n",
       "    <tr style=\"text-align: right;\">\n",
       "      <th></th>\n",
       "      <th>asin</th>\n",
       "      <th>review_ID</th>\n",
       "      <th>rating</th>\n",
       "      <th>vote</th>\n",
       "      <th>binaryrating</th>\n",
       "      <th>orign_review</th>\n",
       "      <th>orign_summary</th>\n",
       "      <th>review</th>\n",
       "      <th>summary</th>\n",
       "      <th>cheat</th>\n",
       "      <th>...</th>\n",
       "      <th>Noun_adj_keys</th>\n",
       "      <th>TextRank_keys</th>\n",
       "      <th>len_lcs</th>\n",
       "      <th>percent_lcs</th>\n",
       "      <th>overlap_pos</th>\n",
       "      <th>token_lcs</th>\n",
       "      <th>summary_polarity</th>\n",
       "      <th>summary_subjectivity</th>\n",
       "      <th>summary_check</th>\n",
       "      <th>summary_conflict</th>\n",
       "    </tr>\n",
       "  </thead>\n",
       "  <tbody>\n",
       "    <tr>\n",
       "      <th>472216</th>\n",
       "      <td>B00WMU36Q6</td>\n",
       "      <td>1478217600</td>\n",
       "      <td>5</td>\n",
       "      <td>7</td>\n",
       "      <td>positive</td>\n",
       "      <td>Bought for my 10-yr old son.  First composite ...</td>\n",
       "      <td>I think that was a good decision as he squares...</td>\n",
       "      <td>bought for my of yr old son . first composite ...</td>\n",
       "      <td>&lt;s&gt; i think that be a good decision as he squa...</td>\n",
       "      <td>{'square', 'i', 'decision', 'ball', 'up', 'tha...</td>\n",
       "      <td>...</td>\n",
       "      <td>['son', 'yr', 'old', 'bat', 'composite', 'rein...</td>\n",
       "      <td>[]</td>\n",
       "      <td>15</td>\n",
       "      <td>88.235294</td>\n",
       "      <td>2</td>\n",
       "      <td>i think that be a good decision as he square u...</td>\n",
       "      <td>0.450000</td>\n",
       "      <td>0.400000</td>\n",
       "      <td>13</td>\n",
       "      <td>False</td>\n",
       "    </tr>\n",
       "    <tr>\n",
       "      <th>556246</th>\n",
       "      <td>B004XZHY34</td>\n",
       "      <td>1485302400</td>\n",
       "      <td>5</td>\n",
       "      <td>3</td>\n",
       "      <td>positive</td>\n",
       "      <td>Love it!!  Works with my old style flip phone ...</td>\n",
       "      <td>Love It !!!  Connect 2 phones !!  I use Flip P...</td>\n",
       "      <td>love it work with my old style flip phone sams...</td>\n",
       "      <td>&lt;s&gt; love it connect number phone i use flip ph...</td>\n",
       "      <td>{'phone', 'number', 'love', 'i', 'use', 'flip'...</td>\n",
       "      <td>...</td>\n",
       "      <td>['style', 'old', 'battery', 'life', 'time', 'c...</td>\n",
       "      <td>[]</td>\n",
       "      <td>9</td>\n",
       "      <td>81.818182</td>\n",
       "      <td>2</td>\n",
       "      <td>love it connect phone i use use flip phone</td>\n",
       "      <td>0.500000</td>\n",
       "      <td>0.600000</td>\n",
       "      <td>8</td>\n",
       "      <td>False</td>\n",
       "    </tr>\n",
       "    <tr>\n",
       "      <th>79843</th>\n",
       "      <td>B00142JKSG</td>\n",
       "      <td>1216080000</td>\n",
       "      <td>5</td>\n",
       "      <td>12</td>\n",
       "      <td>positive</td>\n",
       "      <td>I've been thinking about getting a HDTV for so...</td>\n",
       "      <td>Absolutely brilliant - stunning picture with u...</td>\n",
       "      <td>i have be think about get a hdtv for some time...</td>\n",
       "      <td>&lt;s&gt; absolutely brilliant stunning picture with...</td>\n",
       "      <td>{'content', 'hd', 'picture', 'with'}</td>\n",
       "      <td>...</td>\n",
       "      <td>['hdtv', 'purchase', 'confound', 'tv', 'commit...</td>\n",
       "      <td>[]</td>\n",
       "      <td>5</td>\n",
       "      <td>50.000000</td>\n",
       "      <td>2</td>\n",
       "      <td>picture with hd content content</td>\n",
       "      <td>0.700000</td>\n",
       "      <td>1.000000</td>\n",
       "      <td>6</td>\n",
       "      <td>False</td>\n",
       "    </tr>\n",
       "    <tr>\n",
       "      <th>676151</th>\n",
       "      <td>B00BC1D346</td>\n",
       "      <td>1365465600</td>\n",
       "      <td>5</td>\n",
       "      <td>47</td>\n",
       "      <td>positive</td>\n",
       "      <td>Just bought this and found it very easy to ope...</td>\n",
       "      <td>Easy to use and does a great job</td>\n",
       "      <td>just buy this and find it very easy to operate...</td>\n",
       "      <td>&lt;s&gt; easy to use and do a great job &lt;/s&gt;</td>\n",
       "      <td>{'easy', 'do', 'to'}</td>\n",
       "      <td>...</td>\n",
       "      <td>['number', 'slide', 'tray', 'multiple', 'negat...</td>\n",
       "      <td>[]</td>\n",
       "      <td>4</td>\n",
       "      <td>40.000000</td>\n",
       "      <td>-1</td>\n",
       "      <td>and to and do</td>\n",
       "      <td>0.616667</td>\n",
       "      <td>0.791667</td>\n",
       "      <td>7</td>\n",
       "      <td>False</td>\n",
       "    </tr>\n",
       "    <tr>\n",
       "      <th>4833</th>\n",
       "      <td>B000VLNXRU</td>\n",
       "      <td>1357689600</td>\n",
       "      <td>4</td>\n",
       "      <td>4</td>\n",
       "      <td>positive</td>\n",
       "      <td>As the title implies, this is a great piece of...</td>\n",
       "      <td>A must have for flight simmers who have a beef...</td>\n",
       "      <td>as the title imply this be a great piece of eq...</td>\n",
       "      <td>&lt;s&gt; a must have for flight simmer who have a b...</td>\n",
       "      <td>{'for', 'up', 'flight', 'have', 'a', 'set', 'b...</td>\n",
       "      <td>...</td>\n",
       "      <td>['piece', 'title', 'great', 'software', 'basic...</td>\n",
       "      <td>[]</td>\n",
       "      <td>9</td>\n",
       "      <td>64.285714</td>\n",
       "      <td>2</td>\n",
       "      <td>a have for have a a set up up</td>\n",
       "      <td>0.200000</td>\n",
       "      <td>0.900000</td>\n",
       "      <td>9</td>\n",
       "      <td>False</td>\n",
       "    </tr>\n",
       "  </tbody>\n",
       "</table>\n",
       "<p>5 rows × 26 columns</p>\n",
       "</div>"
      ],
      "text/plain": [
       "              asin   review_ID  rating  vote binaryrating  \\\n",
       "472216  B00WMU36Q6  1478217600       5     7     positive   \n",
       "556246  B004XZHY34  1485302400       5     3     positive   \n",
       "79843   B00142JKSG  1216080000       5    12     positive   \n",
       "676151  B00BC1D346  1365465600       5    47     positive   \n",
       "4833    B000VLNXRU  1357689600       4     4     positive   \n",
       "\n",
       "                                             orign_review  \\\n",
       "472216  Bought for my 10-yr old son.  First composite ...   \n",
       "556246  Love it!!  Works with my old style flip phone ...   \n",
       "79843   I've been thinking about getting a HDTV for so...   \n",
       "676151  Just bought this and found it very easy to ope...   \n",
       "4833    As the title implies, this is a great piece of...   \n",
       "\n",
       "                                            orign_summary  \\\n",
       "472216  I think that was a good decision as he squares...   \n",
       "556246  Love It !!!  Connect 2 phones !!  I use Flip P...   \n",
       "79843   Absolutely brilliant - stunning picture with u...   \n",
       "676151                   Easy to use and does a great job   \n",
       "4833    A must have for flight simmers who have a beef...   \n",
       "\n",
       "                                                   review  \\\n",
       "472216  bought for my of yr old son . first composite ...   \n",
       "556246  love it work with my old style flip phone sams...   \n",
       "79843   i have be think about get a hdtv for some time...   \n",
       "676151  just buy this and find it very easy to operate...   \n",
       "4833    as the title imply this be a great piece of eq...   \n",
       "\n",
       "                                                  summary  \\\n",
       "472216  <s> i think that be a good decision as he squa...   \n",
       "556246  <s> love it connect number phone i use flip ph...   \n",
       "79843   <s> absolutely brilliant stunning picture with...   \n",
       "676151            <s> easy to use and do a great job </s>   \n",
       "4833    <s> a must have for flight simmer who have a b...   \n",
       "\n",
       "                                                    cheat        ...         \\\n",
       "472216  {'square', 'i', 'decision', 'ball', 'up', 'tha...        ...          \n",
       "556246  {'phone', 'number', 'love', 'i', 'use', 'flip'...        ...          \n",
       "79843                {'content', 'hd', 'picture', 'with'}        ...          \n",
       "676151                               {'easy', 'do', 'to'}        ...          \n",
       "4833    {'for', 'up', 'flight', 'have', 'a', 'set', 'b...        ...          \n",
       "\n",
       "                                            Noun_adj_keys  TextRank_keys  \\\n",
       "472216  ['son', 'yr', 'old', 'bat', 'composite', 'rein...             []   \n",
       "556246  ['style', 'old', 'battery', 'life', 'time', 'c...             []   \n",
       "79843   ['hdtv', 'purchase', 'confound', 'tv', 'commit...             []   \n",
       "676151  ['number', 'slide', 'tray', 'multiple', 'negat...             []   \n",
       "4833    ['piece', 'title', 'great', 'software', 'basic...             []   \n",
       "\n",
       "        len_lcs  percent_lcs overlap_pos  \\\n",
       "472216       15    88.235294           2   \n",
       "556246        9    81.818182           2   \n",
       "79843         5    50.000000           2   \n",
       "676151        4    40.000000          -1   \n",
       "4833          9    64.285714           2   \n",
       "\n",
       "                                                token_lcs summary_polarity  \\\n",
       "472216  i think that be a good decision as he square u...         0.450000   \n",
       "556246        love it connect phone i use use flip phone          0.500000   \n",
       "79843                    picture with hd content content          0.700000   \n",
       "676151                                     and to and do          0.616667   \n",
       "4833                       a have for have a a set up up          0.200000   \n",
       "\n",
       "       summary_subjectivity  summary_check  summary_conflict  \n",
       "472216             0.400000             13             False  \n",
       "556246             0.600000              8             False  \n",
       "79843              1.000000              6             False  \n",
       "676151             0.791667              7             False  \n",
       "4833               0.900000              9             False  \n",
       "\n",
       "[5 rows x 26 columns]"
      ]
     },
     "execution_count": 10,
     "metadata": {},
     "output_type": "execute_result"
    }
   ],
   "source": [
    "train_df.head()"
   ]
  },
  {
   "cell_type": "code",
   "execution_count": 11,
   "metadata": {},
   "outputs": [
    {
     "data": {
      "text/html": [
       "<div>\n",
       "<style scoped>\n",
       "    .dataframe tbody tr th:only-of-type {\n",
       "        vertical-align: middle;\n",
       "    }\n",
       "\n",
       "    .dataframe tbody tr th {\n",
       "        vertical-align: top;\n",
       "    }\n",
       "\n",
       "    .dataframe thead th {\n",
       "        text-align: right;\n",
       "    }\n",
       "</style>\n",
       "<table border=\"1\" class=\"dataframe\">\n",
       "  <thead>\n",
       "    <tr style=\"text-align: right;\">\n",
       "      <th></th>\n",
       "      <th>asin</th>\n",
       "      <th>review_ID</th>\n",
       "      <th>rating</th>\n",
       "      <th>vote</th>\n",
       "      <th>binaryrating</th>\n",
       "      <th>orign_review</th>\n",
       "      <th>orign_summary</th>\n",
       "      <th>review</th>\n",
       "      <th>summary</th>\n",
       "      <th>cheat</th>\n",
       "      <th>...</th>\n",
       "      <th>Noun_adj_keys</th>\n",
       "      <th>TextRank_keys</th>\n",
       "      <th>len_lcs</th>\n",
       "      <th>percent_lcs</th>\n",
       "      <th>overlap_pos</th>\n",
       "      <th>token_lcs</th>\n",
       "      <th>summary_polarity</th>\n",
       "      <th>summary_subjectivity</th>\n",
       "      <th>summary_check</th>\n",
       "      <th>summary_conflict</th>\n",
       "    </tr>\n",
       "  </thead>\n",
       "  <tbody>\n",
       "    <tr>\n",
       "      <th>540072</th>\n",
       "      <td>B01920SCBC</td>\n",
       "      <td>1455753600</td>\n",
       "      <td>5</td>\n",
       "      <td>3</td>\n",
       "      <td>positive</td>\n",
       "      <td>I am an avid camper, backpacker, outdoor educa...</td>\n",
       "      <td>Great Survival/Hunting Knife for the Price!</td>\n",
       "      <td>i be an avid camper backpacker outdoor educati...</td>\n",
       "      <td>&lt;s&gt; great survival hunt knife for the price &lt;/s&gt;</td>\n",
       "      <td>{'hunt', 'great', 'for', 'survival', 'knife'}</td>\n",
       "      <td>...</td>\n",
       "      <td>['camper', 'backpacker', 'education', 'avid', ...</td>\n",
       "      <td>[]</td>\n",
       "      <td>5</td>\n",
       "      <td>55.555556</td>\n",
       "      <td>2</td>\n",
       "      <td>survival for the for the</td>\n",
       "      <td>0.800000</td>\n",
       "      <td>0.750000</td>\n",
       "      <td>6</td>\n",
       "      <td>False</td>\n",
       "    </tr>\n",
       "    <tr>\n",
       "      <th>130732</th>\n",
       "      <td>B005EROCLC</td>\n",
       "      <td>1366761600</td>\n",
       "      <td>4</td>\n",
       "      <td>3</td>\n",
       "      <td>positive</td>\n",
       "      <td>This camera works very well for the price. I'v...</td>\n",
       "      <td>Very nice camera - GREAT SWANN CUSTOMER SERVICE!</td>\n",
       "      <td>this camera work very well for the price . i h...</td>\n",
       "      <td>&lt;s&gt; very nice camera great swann customer serv...</td>\n",
       "      <td>{'very', 'service', 'customer', 'camera', 'swa...</td>\n",
       "      <td>...</td>\n",
       "      <td>['case', 'mind', 'thing', 'waterproof', 'case'...</td>\n",
       "      <td>[]</td>\n",
       "      <td>4</td>\n",
       "      <td>44.444444</td>\n",
       "      <td>-1</td>\n",
       "      <td>camera swann customer service</td>\n",
       "      <td>0.790000</td>\n",
       "      <td>0.875000</td>\n",
       "      <td>7</td>\n",
       "      <td>False</td>\n",
       "    </tr>\n",
       "    <tr>\n",
       "      <th>302512</th>\n",
       "      <td>B00A7DNOYY</td>\n",
       "      <td>1386460800</td>\n",
       "      <td>5</td>\n",
       "      <td>6</td>\n",
       "      <td>positive</td>\n",
       "      <td>It's hard to tell what clothing may be like by...</td>\n",
       "      <td>This shirt fits very well and is very well built.</td>\n",
       "      <td>it be hard to tell what clothing may be like b...</td>\n",
       "      <td>&lt;s&gt; this shirt fit very well and be very well ...</td>\n",
       "      <td>{'very', 'well', 'fit', 'shirt', 'be'}</td>\n",
       "      <td>...</td>\n",
       "      <td>[]</td>\n",
       "      <td>[]</td>\n",
       "      <td>7</td>\n",
       "      <td>58.333333</td>\n",
       "      <td>2</td>\n",
       "      <td>this shirt be well very well be</td>\n",
       "      <td>0.266667</td>\n",
       "      <td>0.333333</td>\n",
       "      <td>6</td>\n",
       "      <td>False</td>\n",
       "    </tr>\n",
       "    <tr>\n",
       "      <th>182659</th>\n",
       "      <td>B00I53VUEY</td>\n",
       "      <td>1407974400</td>\n",
       "      <td>4</td>\n",
       "      <td>7</td>\n",
       "      <td>positive</td>\n",
       "      <td>So far, this TYT Quad Band is working just gre...</td>\n",
       "      <td>Great mobile transceiver for the price and cap...</td>\n",
       "      <td>so far this tyt quad band be work just great ....</td>\n",
       "      <td>&lt;s&gt; great mobile transceiver for the price and...</td>\n",
       "      <td>{'for', 'great'}</td>\n",
       "      <td>...</td>\n",
       "      <td>['work', 'band', 'tyt', 'quad', 'great', 'mone...</td>\n",
       "      <td>[]</td>\n",
       "      <td>4</td>\n",
       "      <td>40.000000</td>\n",
       "      <td>-1</td>\n",
       "      <td>great for the and</td>\n",
       "      <td>0.800000</td>\n",
       "      <td>0.750000</td>\n",
       "      <td>6</td>\n",
       "      <td>False</td>\n",
       "    </tr>\n",
       "    <tr>\n",
       "      <th>223740</th>\n",
       "      <td>B00YAVF1E0</td>\n",
       "      <td>1513123200</td>\n",
       "      <td>1</td>\n",
       "      <td>2</td>\n",
       "      <td>negative</td>\n",
       "      <td>This is my 5th one of these they usually last ...</td>\n",
       "      <td>I'm wondering if cheesy company's are using am...</td>\n",
       "      <td>this be my of th one of these they usually las...</td>\n",
       "      <td>&lt;s&gt; i be wonder if cheesy company be use amazo...</td>\n",
       "      <td>{'rid', 'return', 'number', 'i', 'policy', 'co...</td>\n",
       "      <td>...</td>\n",
       "      <td>['number', 'company', 'wonder', 'amazon', 'che...</td>\n",
       "      <td>[]</td>\n",
       "      <td>19</td>\n",
       "      <td>90.476190</td>\n",
       "      <td>2</td>\n",
       "      <td>be be wonder if cheesy company be use amazon u...</td>\n",
       "      <td>-0.500000</td>\n",
       "      <td>0.600000</td>\n",
       "      <td>16</td>\n",
       "      <td>False</td>\n",
       "    </tr>\n",
       "  </tbody>\n",
       "</table>\n",
       "<p>5 rows × 26 columns</p>\n",
       "</div>"
      ],
      "text/plain": [
       "              asin   review_ID  rating  vote binaryrating  \\\n",
       "540072  B01920SCBC  1455753600       5     3     positive   \n",
       "130732  B005EROCLC  1366761600       4     3     positive   \n",
       "302512  B00A7DNOYY  1386460800       5     6     positive   \n",
       "182659  B00I53VUEY  1407974400       4     7     positive   \n",
       "223740  B00YAVF1E0  1513123200       1     2     negative   \n",
       "\n",
       "                                             orign_review  \\\n",
       "540072  I am an avid camper, backpacker, outdoor educa...   \n",
       "130732  This camera works very well for the price. I'v...   \n",
       "302512  It's hard to tell what clothing may be like by...   \n",
       "182659  So far, this TYT Quad Band is working just gre...   \n",
       "223740  This is my 5th one of these they usually last ...   \n",
       "\n",
       "                                            orign_summary  \\\n",
       "540072        Great Survival/Hunting Knife for the Price!   \n",
       "130732   Very nice camera - GREAT SWANN CUSTOMER SERVICE!   \n",
       "302512  This shirt fits very well and is very well built.   \n",
       "182659  Great mobile transceiver for the price and cap...   \n",
       "223740  I'm wondering if cheesy company's are using am...   \n",
       "\n",
       "                                                   review  \\\n",
       "540072  i be an avid camper backpacker outdoor educati...   \n",
       "130732  this camera work very well for the price . i h...   \n",
       "302512  it be hard to tell what clothing may be like b...   \n",
       "182659  so far this tyt quad band be work just great ....   \n",
       "223740  this be my of th one of these they usually las...   \n",
       "\n",
       "                                                  summary  \\\n",
       "540072   <s> great survival hunt knife for the price </s>   \n",
       "130732  <s> very nice camera great swann customer serv...   \n",
       "302512  <s> this shirt fit very well and be very well ...   \n",
       "182659  <s> great mobile transceiver for the price and...   \n",
       "223740  <s> i be wonder if cheesy company be use amazo...   \n",
       "\n",
       "                                                    cheat        ...         \\\n",
       "540072      {'hunt', 'great', 'for', 'survival', 'knife'}        ...          \n",
       "130732  {'very', 'service', 'customer', 'camera', 'swa...        ...          \n",
       "302512             {'very', 'well', 'fit', 'shirt', 'be'}        ...          \n",
       "182659                                   {'for', 'great'}        ...          \n",
       "223740  {'rid', 'return', 'number', 'i', 'policy', 'co...        ...          \n",
       "\n",
       "                                            Noun_adj_keys  TextRank_keys  \\\n",
       "540072  ['camper', 'backpacker', 'education', 'avid', ...             []   \n",
       "130732  ['case', 'mind', 'thing', 'waterproof', 'case'...             []   \n",
       "302512                                                 []             []   \n",
       "182659  ['work', 'band', 'tyt', 'quad', 'great', 'mone...             []   \n",
       "223740  ['number', 'company', 'wonder', 'amazon', 'che...             []   \n",
       "\n",
       "        len_lcs  percent_lcs overlap_pos  \\\n",
       "540072        5    55.555556           2   \n",
       "130732        4    44.444444          -1   \n",
       "302512        7    58.333333           2   \n",
       "182659        4    40.000000          -1   \n",
       "223740       19    90.476190           2   \n",
       "\n",
       "                                                token_lcs summary_polarity  \\\n",
       "540072                          survival for the for the          0.800000   \n",
       "130732                     camera swann customer service          0.790000   \n",
       "302512                   this shirt be well very well be          0.266667   \n",
       "182659                                 great for the and          0.800000   \n",
       "223740  be be wonder if cheesy company be use amazon u...        -0.500000   \n",
       "\n",
       "       summary_subjectivity  summary_check  summary_conflict  \n",
       "540072             0.750000              6             False  \n",
       "130732             0.875000              7             False  \n",
       "302512             0.333333              6             False  \n",
       "182659             0.750000              6             False  \n",
       "223740             0.600000             16             False  \n",
       "\n",
       "[5 rows x 26 columns]"
      ]
     },
     "execution_count": 11,
     "metadata": {},
     "output_type": "execute_result"
    }
   ],
   "source": [
    "val_df.head()"
   ]
  },
  {
   "cell_type": "code",
   "execution_count": 12,
   "metadata": {},
   "outputs": [
    {
     "name": "stderr",
     "output_type": "stream",
     "text": [
      "100%|██████████| 701405/701405 [00:31<00:00, 22614.64it/s]\n",
      "100%|██████████| 77934/77934 [00:03<00:00, 22692.50it/s]\n"
     ]
    }
   ],
   "source": [
    "import os\n",
    "import matplotlib.pyplot as plt\n",
    "\n",
    "\n",
    "# print(str(os.path.abspath('train_df.xlsx')))\n",
    "if os.path.exists('train_df.xlsx'):\n",
    "    print('True')\n",
    "    p_train_df = pd.read_excel('train_df.xlsx')\n",
    "    p_val_df = pd.read_excel('val_df.xlsx')\n",
    "else:    \n",
    "    p_train_df = analay(deepcopy(train_df), 'train')\n",
    "    p_train_df.to_excel('train_df.xlsx', encoding='utf8')\n",
    "\n",
    "    p_val_df = analay(deepcopy(val_df), 'test')\n",
    "    p_val_df.to_excel('val_df.xlsx', encoding='utf8')"
   ]
  },
  {
   "cell_type": "code",
   "execution_count": 13,
   "metadata": {},
   "outputs": [
    {
     "data": {
      "text/plain": [
       "Index(['asin', 'review_ID', 'rating', 'vote', 'binaryrating', 'orign_review',\n",
       "       'orign_summary', 'review', 'summary', 'cheat', 'cheat_num', 'overlap',\n",
       "       'review_len', 'summary_len', 'POS_keys', 'DEP_keys', 'Noun_adj_keys',\n",
       "       'TextRank_keys', 'len_lcs', 'percent_lcs', 'overlap_pos', 'token_lcs',\n",
       "       'summary_polarity', 'summary_subjectivity', 'summary_check',\n",
       "       'summary_conflict'],\n",
       "      dtype='object')"
      ]
     },
     "execution_count": 13,
     "metadata": {},
     "output_type": "execute_result"
    }
   ],
   "source": [
    "# p_train_df['review_ID'] = p_train_df.review_ID.astype(str)\n",
    "# p_train_df['review_ID'] = p_train_df.review_ID.astype(str)\n",
    "\n",
    "# p_train_df.describe()\n",
    "\n",
    "p_train_df.columns"
   ]
  },
  {
   "cell_type": "code",
   "execution_count": 14,
   "metadata": {},
   "outputs": [
    {
     "name": "stdout",
     "output_type": "stream",
     "text": [
      "count    701405.000000\n",
      "mean        191.908424\n",
      "std         154.317272\n",
      "min          28.000000\n",
      "25%          88.000000\n",
      "50%         139.000000\n",
      "75%         236.000000\n",
      "max        1000.000000\n",
      "Name: review_len, dtype: float64\n",
      "review_len > 500 : 38853\n"
     ]
    },
    {
     "data": {
      "text/plain": [
       "Text(0.5, 1.0, 'review_len Analysis')"
      ]
     },
     "execution_count": 14,
     "metadata": {},
     "output_type": "execute_result"
    },
    {
     "data": {
      "image/png": "[encoded data removed]",
      "text/plain": [
       "<Figure size 432x288 with 1 Axes>"
      ]
     },
     "metadata": {
      "needs_background": "light"
     },
     "output_type": "display_data"
    }
   ],
   "source": [
    "hist = p_train_df['review_len'].hist(bins=10)\n",
    "s = p_train_df['review_len'].describe(); print(s)\n",
    "# print('reveiw_len <= 20 :',len(p_train_df[p_train_df['reveiw_len']<=20]))\n",
    "print('review_len > 500 :',len(p_train_df[p_train_df['review_len']>500])) # # max pos, max_enc_steps \n",
    "plt.ylabel('count')\n",
    "plt.xlabel('length')\n",
    "\n",
    "plt.title('review_len Analysis')"
   ]
  },
  {
   "cell_type": "code",
   "execution_count": 15,
   "metadata": {},
   "outputs": [
    {
     "name": "stdout",
     "output_type": "stream",
     "text": [
      "summary_len > 20 : 11801\n",
      "count    701405.000000\n",
      "mean         11.255280\n",
      "std           3.229351\n",
      "min           6.000000\n",
      "25%           9.000000\n",
      "50%          10.000000\n",
      "75%          13.000000\n",
      "max          22.000000\n",
      "Name: summary_len, dtype: float64\n"
     ]
    },
    {
     "data": {
      "text/plain": [
       "Text(0.5, 1.0, 'summary_len Analysis')"
      ]
     },
     "execution_count": 15,
     "metadata": {},
     "output_type": "execute_result"
    },
    {
     "data": {
      "image/png": "[encoded data removed]",
      "text/plain": [
       "<Figure size 432x288 with 1 Axes>"
      ]
     },
     "metadata": {
      "needs_background": "light"
     },
     "output_type": "display_data"
    }
   ],
   "source": [
    "print('summary_len > 20 :',len(p_train_df[p_train_df['summary_len']>20]))  # max_dec_steps\n",
    "# print('summary_len <= 5 :',len(p_train_df[p_train_df['summary_len']<6])) # min_dec_steps\n",
    "hist = p_train_df['summary_len'].hist(bins=10)\n",
    "s = p_train_df['summary_len'].describe(); print(s)\n",
    "plt.ylabel('count')\n",
    "plt.xlabel('length')\n",
    "plt.title('summary_len Analysis')"
   ]
  },
  {
   "cell_type": "markdown",
   "metadata": {},
   "source": [
    "# Rating"
   ]
  },
  {
   "cell_type": "code",
   "execution_count": 16,
   "metadata": {},
   "outputs": [
    {
     "data": {
      "text/plain": [
       "Text(0.5, 1.0, 'Rating')"
      ]
     },
     "execution_count": 16,
     "metadata": {},
     "output_type": "execute_result"
    },
    {
     "data": {
      "image/png": "[encoded data removed]",
      "text/plain": [
       "<Figure size 432x288 with 1 Axes>"
      ]
     },
     "metadata": {
      "needs_background": "light"
     },
     "output_type": "display_data"
    }
   ],
   "source": [
    "hist = p_train_df['rating'].hist(bins=5)\n",
    "# s = p_train_df['vote'].describe(); print(s)\n",
    "plt.ylabel('count')\n",
    "plt.title('Rating')"
   ]
  },
  {
   "cell_type": "markdown",
   "metadata": {},
   "source": [
    "# sentiment"
   ]
  },
  {
   "cell_type": "code",
   "execution_count": 17,
   "metadata": {},
   "outputs": [
    {
     "name": "stdout",
     "output_type": "stream",
     "text": [
      "summary_polarity and summary_subjectivity  > 0 : 605965\n",
      "count    701405.000000\n",
      "mean          0.613583\n",
      "std           0.220062\n",
      "min           0.022222\n",
      "25%           0.466667\n",
      "50%           0.600000\n",
      "75%           0.750000\n",
      "max           1.000000\n",
      "Name: summary_subjectivity, dtype: float64\n"
     ]
    },
    {
     "data": {
      "text/plain": [
       "Text(0.5, 1.0, 'summary_subjectivity')"
      ]
     },
     "execution_count": 17,
     "metadata": {},
     "output_type": "execute_result"
    },
    {
     "data": {
      "image/png": "[encoded data removed]",
      "text/plain": [
       "<Figure size 432x288 with 1 Axes>"
      ]
     },
     "metadata": {
      "needs_background": "light"
     },
     "output_type": "display_data"
    }
   ],
   "source": [
    "print('summary_polarity and summary_subjectivity  > 0 :',len(p_train_df[\n",
    "    (abs(p_train_df['summary_polarity'])>0.1) &\n",
    "    (p_train_df['summary_subjectivity']>0.25)\n",
    "\n",
    "]))  # max_dec_steps\n",
    "# print('summary_len <= 5 :',len(p_train_df[p_train_df['summary_len']<6])) # min_dec_steps\n",
    "\n",
    "hist = p_train_df['summary_subjectivity'].hist(bins=10)\n",
    "s = p_train_df['summary_subjectivity'].describe(); print(s)\n",
    "plt.ylabel('subjectivity')\n",
    "plt.title('summary_subjectivity')"
   ]
  },
  {
   "cell_type": "code",
   "execution_count": 18,
   "metadata": {
    "scrolled": true
   },
   "outputs": [
    {
     "name": "stdout",
     "output_type": "stream",
     "text": [
      "summary_polarity and summary_subjectivity  > 0 : 605965\n",
      "count    701405.000000\n",
      "mean          0.344687\n",
      "std           0.404048\n",
      "min          -1.000000\n",
      "25%           0.133333\n",
      "50%           0.400000\n",
      "75%           0.650000\n",
      "max           1.000000\n",
      "Name: summary_polarity, dtype: float64\n"
     ]
    },
    {
     "data": {
      "text/plain": [
       "Text(0.5, 1.0, 'summary_polarity')"
      ]
     },
     "execution_count": 18,
     "metadata": {},
     "output_type": "execute_result"
    },
    {
     "data": {
      "image/png": "[encoded data removed]",
      "text/plain": [
       "<Figure size 432x288 with 1 Axes>"
      ]
     },
     "metadata": {
      "needs_background": "light"
     },
     "output_type": "display_data"
    }
   ],
   "source": [
    "print('summary_polarity and summary_subjectivity  > 0 :',len(p_train_df[\n",
    "    (abs(p_train_df['summary_polarity'])>0.1) &\n",
    "    (p_train_df['summary_subjectivity']>0.25)\n",
    "\n",
    "]))  # max_dec_steps\n",
    "# print('summary_len <= 5 :',len(p_train_df[p_train_df['summary_len']<6])) # min_dec_steps\n",
    "\n",
    "hist = p_train_df['summary_polarity'].hist(bins=10)\n",
    "s = p_train_df['summary_polarity'].describe(); print(s)\n",
    "plt.ylabel('polarity')\n",
    "plt.title('summary_polarity')"
   ]
  },
  {
   "cell_type": "code",
   "execution_count": null,
   "metadata": {},
   "outputs": [],
   "source": []
  },
  {
   "cell_type": "markdown",
   "metadata": {},
   "source": [
    "# POS_Keyword"
   ]
  },
  {
   "cell_type": "code",
   "execution_count": 19,
   "metadata": {},
   "outputs": [
    {
     "data": {
      "text/html": [
       "<div>\n",
       "<style scoped>\n",
       "    .dataframe tbody tr th:only-of-type {\n",
       "        vertical-align: middle;\n",
       "    }\n",
       "\n",
       "    .dataframe tbody tr th {\n",
       "        vertical-align: top;\n",
       "    }\n",
       "\n",
       "    .dataframe thead th {\n",
       "        text-align: right;\n",
       "    }\n",
       "</style>\n",
       "<table border=\"1\" class=\"dataframe\">\n",
       "  <thead>\n",
       "    <tr style=\"text-align: right;\">\n",
       "      <th></th>\n",
       "      <th>len_Pos_keys</th>\n",
       "    </tr>\n",
       "  </thead>\n",
       "  <tbody>\n",
       "    <tr>\n",
       "      <th>count</th>\n",
       "      <td>701405.0</td>\n",
       "    </tr>\n",
       "    <tr>\n",
       "      <th>mean</th>\n",
       "      <td>0.0</td>\n",
       "    </tr>\n",
       "    <tr>\n",
       "      <th>std</th>\n",
       "      <td>0.0</td>\n",
       "    </tr>\n",
       "    <tr>\n",
       "      <th>min</th>\n",
       "      <td>0.0</td>\n",
       "    </tr>\n",
       "    <tr>\n",
       "      <th>25%</th>\n",
       "      <td>0.0</td>\n",
       "    </tr>\n",
       "    <tr>\n",
       "      <th>50%</th>\n",
       "      <td>0.0</td>\n",
       "    </tr>\n",
       "    <tr>\n",
       "      <th>75%</th>\n",
       "      <td>0.0</td>\n",
       "    </tr>\n",
       "    <tr>\n",
       "      <th>max</th>\n",
       "      <td>0.0</td>\n",
       "    </tr>\n",
       "  </tbody>\n",
       "</table>\n",
       "</div>"
      ],
      "text/plain": [
       "       len_Pos_keys\n",
       "count      701405.0\n",
       "mean            0.0\n",
       "std             0.0\n",
       "min             0.0\n",
       "25%             0.0\n",
       "50%             0.0\n",
       "75%             0.0\n",
       "max             0.0"
      ]
     },
     "execution_count": 19,
     "metadata": {},
     "output_type": "execute_result"
    }
   ],
   "source": [
    "p_train_df['len_Pos_keys'] = 0\n",
    "f = lambda x: len(eval(x))\n",
    "p_train_df['len_Pos_keys'] = p_train_df['POS_keys'].apply(f)\n",
    "p_train_df[['POS_keys','len_Pos_keys']].head()\n",
    "p_train_df[['POS_keys','len_Pos_keys']].describe()"
   ]
  },
  {
   "cell_type": "code",
   "execution_count": 20,
   "metadata": {},
   "outputs": [
    {
     "name": "stdout",
     "output_type": "stream",
     "text": [
      "701405\n"
     ]
    }
   ],
   "source": [
    "print(len(p_train_df[p_train_df['len_Pos_keys']<=5]))"
   ]
  },
  {
   "cell_type": "markdown",
   "metadata": {},
   "source": [
    "# DEP_Keyword"
   ]
  },
  {
   "cell_type": "code",
   "execution_count": 21,
   "metadata": {},
   "outputs": [
    {
     "data": {
      "text/html": [
       "<div>\n",
       "<style scoped>\n",
       "    .dataframe tbody tr th:only-of-type {\n",
       "        vertical-align: middle;\n",
       "    }\n",
       "\n",
       "    .dataframe tbody tr th {\n",
       "        vertical-align: top;\n",
       "    }\n",
       "\n",
       "    .dataframe thead th {\n",
       "        text-align: right;\n",
       "    }\n",
       "</style>\n",
       "<table border=\"1\" class=\"dataframe\">\n",
       "  <thead>\n",
       "    <tr style=\"text-align: right;\">\n",
       "      <th></th>\n",
       "      <th>len_DEP_keys</th>\n",
       "    </tr>\n",
       "  </thead>\n",
       "  <tbody>\n",
       "    <tr>\n",
       "      <th>count</th>\n",
       "      <td>701405.0</td>\n",
       "    </tr>\n",
       "    <tr>\n",
       "      <th>mean</th>\n",
       "      <td>0.0</td>\n",
       "    </tr>\n",
       "    <tr>\n",
       "      <th>std</th>\n",
       "      <td>0.0</td>\n",
       "    </tr>\n",
       "    <tr>\n",
       "      <th>min</th>\n",
       "      <td>0.0</td>\n",
       "    </tr>\n",
       "    <tr>\n",
       "      <th>25%</th>\n",
       "      <td>0.0</td>\n",
       "    </tr>\n",
       "    <tr>\n",
       "      <th>50%</th>\n",
       "      <td>0.0</td>\n",
       "    </tr>\n",
       "    <tr>\n",
       "      <th>75%</th>\n",
       "      <td>0.0</td>\n",
       "    </tr>\n",
       "    <tr>\n",
       "      <th>max</th>\n",
       "      <td>0.0</td>\n",
       "    </tr>\n",
       "  </tbody>\n",
       "</table>\n",
       "</div>"
      ],
      "text/plain": [
       "       len_DEP_keys\n",
       "count      701405.0\n",
       "mean            0.0\n",
       "std             0.0\n",
       "min             0.0\n",
       "25%             0.0\n",
       "50%             0.0\n",
       "75%             0.0\n",
       "max             0.0"
      ]
     },
     "execution_count": 21,
     "metadata": {},
     "output_type": "execute_result"
    }
   ],
   "source": [
    "p_train_df['len_DEP_keys'] = 0\n",
    "f = lambda x: len(eval(x))\n",
    "p_train_df['len_DEP_keys'] = p_train_df['DEP_keys'].apply(f)\n",
    "p_train_df[['DEP_keys','len_DEP_keys']].head()\n",
    "p_train_df[['DEP_keys','len_DEP_keys']].describe()"
   ]
  },
  {
   "cell_type": "markdown",
   "metadata": {},
   "source": [
    "# Noun_adj_keys"
   ]
  },
  {
   "cell_type": "code",
   "execution_count": 22,
   "metadata": {},
   "outputs": [
    {
     "data": {
      "text/html": [
       "<div>\n",
       "<style scoped>\n",
       "    .dataframe tbody tr th:only-of-type {\n",
       "        vertical-align: middle;\n",
       "    }\n",
       "\n",
       "    .dataframe tbody tr th {\n",
       "        vertical-align: top;\n",
       "    }\n",
       "\n",
       "    .dataframe thead th {\n",
       "        text-align: right;\n",
       "    }\n",
       "</style>\n",
       "<table border=\"1\" class=\"dataframe\">\n",
       "  <thead>\n",
       "    <tr style=\"text-align: right;\">\n",
       "      <th></th>\n",
       "      <th>len_Noun_adj_keys</th>\n",
       "    </tr>\n",
       "  </thead>\n",
       "  <tbody>\n",
       "    <tr>\n",
       "      <th>count</th>\n",
       "      <td>701405.000000</td>\n",
       "    </tr>\n",
       "    <tr>\n",
       "      <th>mean</th>\n",
       "      <td>34.899466</td>\n",
       "    </tr>\n",
       "    <tr>\n",
       "      <th>std</th>\n",
       "      <td>31.676144</td>\n",
       "    </tr>\n",
       "    <tr>\n",
       "      <th>min</th>\n",
       "      <td>0.000000</td>\n",
       "    </tr>\n",
       "    <tr>\n",
       "      <th>25%</th>\n",
       "      <td>15.000000</td>\n",
       "    </tr>\n",
       "    <tr>\n",
       "      <th>50%</th>\n",
       "      <td>25.000000</td>\n",
       "    </tr>\n",
       "    <tr>\n",
       "      <th>75%</th>\n",
       "      <td>44.000000</td>\n",
       "    </tr>\n",
       "    <tr>\n",
       "      <th>max</th>\n",
       "      <td>376.000000</td>\n",
       "    </tr>\n",
       "  </tbody>\n",
       "</table>\n",
       "</div>"
      ],
      "text/plain": [
       "       len_Noun_adj_keys\n",
       "count      701405.000000\n",
       "mean           34.899466\n",
       "std            31.676144\n",
       "min             0.000000\n",
       "25%            15.000000\n",
       "50%            25.000000\n",
       "75%            44.000000\n",
       "max           376.000000"
      ]
     },
     "execution_count": 22,
     "metadata": {},
     "output_type": "execute_result"
    }
   ],
   "source": [
    "p_train_df['len_Noun_adj_keys'] = 0\n",
    "f = lambda x: len(eval(x))\n",
    "p_train_df['len_Noun_adj_keys'] = p_train_df['Noun_adj_keys'].apply(f)\n",
    "p_train_df[['Noun_adj_keys','len_Noun_adj_keys']].head()\n",
    "p_train_df[['Noun_adj_keys','len_Noun_adj_keys']].describe()"
   ]
  },
  {
   "cell_type": "code",
   "execution_count": 23,
   "metadata": {},
   "outputs": [
    {
     "name": "stdout",
     "output_type": "stream",
     "text": [
      "22242\n"
     ]
    }
   ],
   "source": [
    "print(len(p_train_df[p_train_df['len_Noun_adj_keys']<=5]))"
   ]
  },
  {
   "cell_type": "markdown",
   "metadata": {},
   "source": [
    "# TextRank_Keyword"
   ]
  },
  {
   "cell_type": "code",
   "execution_count": 24,
   "metadata": {},
   "outputs": [
    {
     "data": {
      "text/plain": [
       "Index(['asin', 'review_ID', 'rating', 'vote', 'binaryrating', 'orign_review',\n",
       "       'orign_summary', 'review', 'summary', 'cheat', 'cheat_num', 'overlap',\n",
       "       'review_len', 'summary_len', 'POS_keys', 'DEP_keys', 'Noun_adj_keys',\n",
       "       'TextRank_keys', 'len_lcs', 'percent_lcs', 'overlap_pos', 'token_lcs',\n",
       "       'summary_polarity', 'summary_subjectivity', 'summary_check',\n",
       "       'summary_conflict', 'len_Pos_keys', 'len_DEP_keys',\n",
       "       'len_Noun_adj_keys'],\n",
       "      dtype='object')"
      ]
     },
     "execution_count": 24,
     "metadata": {},
     "output_type": "execute_result"
    }
   ],
   "source": [
    "p_train_df.columns"
   ]
  },
  {
   "cell_type": "code",
   "execution_count": 25,
   "metadata": {},
   "outputs": [
    {
     "data": {
      "text/html": [
       "<div>\n",
       "<style scoped>\n",
       "    .dataframe tbody tr th:only-of-type {\n",
       "        vertical-align: middle;\n",
       "    }\n",
       "\n",
       "    .dataframe tbody tr th {\n",
       "        vertical-align: top;\n",
       "    }\n",
       "\n",
       "    .dataframe thead th {\n",
       "        text-align: right;\n",
       "    }\n",
       "</style>\n",
       "<table border=\"1\" class=\"dataframe\">\n",
       "  <thead>\n",
       "    <tr style=\"text-align: right;\">\n",
       "      <th></th>\n",
       "      <th>len_TextRank_keys</th>\n",
       "    </tr>\n",
       "  </thead>\n",
       "  <tbody>\n",
       "    <tr>\n",
       "      <th>count</th>\n",
       "      <td>701405.0</td>\n",
       "    </tr>\n",
       "    <tr>\n",
       "      <th>mean</th>\n",
       "      <td>0.0</td>\n",
       "    </tr>\n",
       "    <tr>\n",
       "      <th>std</th>\n",
       "      <td>0.0</td>\n",
       "    </tr>\n",
       "    <tr>\n",
       "      <th>min</th>\n",
       "      <td>0.0</td>\n",
       "    </tr>\n",
       "    <tr>\n",
       "      <th>25%</th>\n",
       "      <td>0.0</td>\n",
       "    </tr>\n",
       "    <tr>\n",
       "      <th>50%</th>\n",
       "      <td>0.0</td>\n",
       "    </tr>\n",
       "    <tr>\n",
       "      <th>75%</th>\n",
       "      <td>0.0</td>\n",
       "    </tr>\n",
       "    <tr>\n",
       "      <th>max</th>\n",
       "      <td>0.0</td>\n",
       "    </tr>\n",
       "  </tbody>\n",
       "</table>\n",
       "</div>"
      ],
      "text/plain": [
       "       len_TextRank_keys\n",
       "count           701405.0\n",
       "mean                 0.0\n",
       "std                  0.0\n",
       "min                  0.0\n",
       "25%                  0.0\n",
       "50%                  0.0\n",
       "75%                  0.0\n",
       "max                  0.0"
      ]
     },
     "execution_count": 25,
     "metadata": {},
     "output_type": "execute_result"
    }
   ],
   "source": [
    "p_train_df['len_TextRank_keys'] = 0\n",
    "f = lambda x: len(eval(x))\n",
    "p_train_df['len_TextRank_keys'] = p_train_df['TextRank_keys'].apply(f)\n",
    "p_train_df[['TextRank_keys','len_TextRank_keys']].head()\n",
    "p_train_df[['TextRank_keys','len_TextRank_keys']].describe()"
   ]
  },
  {
   "cell_type": "code",
   "execution_count": 26,
   "metadata": {},
   "outputs": [
    {
     "name": "stdout",
     "output_type": "stream",
     "text": [
      "701405\n"
     ]
    }
   ],
   "source": [
    "print(len(p_train_df[p_train_df['len_TextRank_keys']<=1]))"
   ]
  },
  {
   "cell_type": "markdown",
   "metadata": {},
   "source": [
    "# Prune data length"
   ]
  },
  {
   "cell_type": "code",
   "execution_count": 27,
   "metadata": {},
   "outputs": [
    {
     "name": "stdout",
     "output_type": "stream",
     "text": [
      "review_len <= 500 and summary_len<= 20 and summary_polarity > 0.1 and summary_subjectivity > 0.25 :  552479\n",
      "review_len <= 500 and summary_len<= 20 and summary_polarity > 0.1 and summary_subjectivity > 0.25 :  59246\n"
     ]
    }
   ],
   "source": [
    "print('review_len <= 500 and summary_len<= 20 and summary_polarity > 0.1 and summary_subjectivity > 0.25 : ',len(p_train_df[\n",
    "    (p_train_df['percent_lcs']>=25) & (p_train_df['review_len']>=50) &(p_train_df['review_len']<=500) & (p_train_df['summary_len']<=20) &\n",
    "    (abs(p_train_df['summary_polarity'])>=0.1) &\n",
    "    (p_train_df['summary_subjectivity']>=0.1)  \n",
    "#     (p_train_df['overlap_pos']!=0)\n",
    "#     (not((p_train_df['overlap_pos']==0) & (p_train_df['percent_lcs']>50)))\n",
    "#     (p_train_df['len_TextRank_keys']>0) \n",
    "#     (p_train_df['len_DEP_keys']>5) & \n",
    "#     (p_train_df['len_Pos_keys']>5)\n",
    "                                        ]))\n",
    "print('review_len <= 500 and summary_len<= 20 and summary_polarity > 0.1 and summary_subjectivity > 0.25 : ',len(p_val_df[\n",
    "    (p_val_df['review_len']>=50) &(p_val_df['review_len']<=500) & (p_val_df['summary_len']<=20) &\n",
    "    (abs(p_val_df['summary_polarity'])>=0.1) &\n",
    "    (p_val_df['summary_subjectivity']>=0.1) & (p_val_df['overlap_pos']!=0)    \n",
    "                                        ]))\n",
    "\n",
    "# # first_acc = 0.325\n",
    "min_df = p_train_df[\n",
    "    (p_train_df['review_len']<=500) & (p_train_df['summary_len']<=20) &\n",
    "    (abs(p_train_df['summary_polarity'])>=0.1) &\n",
    "    (p_train_df['summary_subjectivity']>=0.1)    \n",
    "                                        ]\n",
    "\n",
    "# print('reveiw_len > 7000 :',len(p_train_df[p_train_df['reveiw_len']>=700])) # # max pos, max_enc_steps \n",
    "# s = p_train_df['reveiw_len'].describe(); print(s)\n",
    "# s = s.drop(labels = ['count'])\n",
    "# s.plot.bar()\n",
    "# plt.ylabel('length')\n",
    "# plt.title('reveiw_len')\n",
    "# plt.show()"
   ]
  },
  {
   "cell_type": "markdown",
   "metadata": {},
   "source": [
    "# cheat_num"
   ]
  },
  {
   "cell_type": "code",
   "execution_count": 28,
   "metadata": {},
   "outputs": [
    {
     "name": "stdout",
     "output_type": "stream",
     "text": [
      "count    603142.000000\n",
      "mean          5.403888\n",
      "std           2.796530\n",
      "min           0.000000\n",
      "25%           3.000000\n",
      "50%           5.000000\n",
      "75%           7.000000\n",
      "max          18.000000\n",
      "Name: cheat_num, dtype: float64\n"
     ]
    },
    {
     "data": {
      "text/plain": [
       "Text(0.5, 1.0, 'cheat_num')"
      ]
     },
     "execution_count": 28,
     "metadata": {},
     "output_type": "execute_result"
    },
    {
     "data": {
      "image/png": "[encoded data removed]",
      "text/plain": [
       "<Figure size 432x288 with 1 Axes>"
      ]
     },
     "metadata": {
      "needs_background": "light"
     },
     "output_type": "display_data"
    }
   ],
   "source": [
    "hist = min_df['cheat_num'].hist(bins=10)\n",
    "s = min_df['cheat_num'].describe(); print(s)\n",
    "plt.xlabel('cheat')\n",
    "plt.title('cheat_num')"
   ]
  },
  {
   "cell_type": "markdown",
   "metadata": {},
   "source": [
    "# summary_conflict"
   ]
  },
  {
   "cell_type": "code",
   "execution_count": 29,
   "metadata": {},
   "outputs": [
    {
     "name": "stdout",
     "output_type": "stream",
     "text": [
      "149054\n",
      "454088\n",
      "conflict 24.712920008886798\n",
      "not conflict 75.2870799911132\n"
     ]
    },
    {
     "data": {
      "image/png": "[encoded data removed]",
      "text/plain": [
       "<Figure size 432x288 with 1 Axes>"
      ]
     },
     "metadata": {
      "needs_background": "light"
     },
     "output_type": "display_data"
    }
   ],
   "source": [
    "s = len(min_df[min_df['summary_conflict']==True]); print(s) \n",
    "s = len(min_df[min_df['summary_conflict']==False]); print(s) \n",
    "\n",
    "print('conflict',len(min_df[(min_df['summary_conflict']==True)])/len(min_df)*100)\n",
    "print('not conflict',len(min_df[(min_df['summary_conflict']==False)])/len(min_df)*100)\n",
    "\n",
    "\n",
    "s = pd.Series({'conflict':len(min_df[(min_df['summary_conflict']==True)])/len(min_df)*100, \n",
    "           'not conflict':len(min_df[(min_df['summary_conflict']==False)])/len(min_df)*100,      \n",
    "          })\n",
    "s.plot.bar()\n",
    "plt.ylabel('total(%)')\n",
    "plt.xlabel('conflict(Y/N)')\n",
    "plt.title('summary conflict analysis')\n",
    "plt.xticks(rotation=0)\n",
    "plt.show()"
   ]
  },
  {
   "cell_type": "markdown",
   "metadata": {},
   "source": [
    "# percent_lcs EDA(20 divided)"
   ]
  },
  {
   "cell_type": "code",
   "execution_count": 30,
   "metadata": {},
   "outputs": [
    {
     "name": "stdout",
     "output_type": "stream",
     "text": [
      "count    603142.000000\n",
      "mean         51.967161\n",
      "std          22.155730\n",
      "min           0.000000\n",
      "25%          35.714286\n",
      "50%          50.000000\n",
      "75%          75.000000\n",
      "max          90.000000\n",
      "Name: percent_lcs, dtype: float64\n"
     ]
    },
    {
     "data": {
      "text/plain": [
       "Text(0.5, 1.0, 'percent_lcs')"
      ]
     },
     "execution_count": 30,
     "metadata": {},
     "output_type": "execute_result"
    },
    {
     "data": {
      "image/png": "[encoded data removed]",
      "text/plain": [
       "<Figure size 432x288 with 1 Axes>"
      ]
     },
     "metadata": {
      "needs_background": "light"
     },
     "output_type": "display_data"
    }
   ],
   "source": [
    "hist = min_df['percent_lcs'].hist(bins=5)\n",
    "s = min_df['percent_lcs'].describe(); print(s)\n",
    "plt.ylabel('count')\n",
    "plt.xlabel('percent(%)')\n",
    "plt.title('percent_lcs')"
   ]
  },
  {
   "cell_type": "code",
   "execution_count": 31,
   "metadata": {},
   "outputs": [
    {
     "data": {
      "image/png": "[encoded data removed]",
      "text/plain": [
       "<Figure size 432x288 with 1 Axes>"
      ]
     },
     "metadata": {
      "needs_background": "light"
     },
     "output_type": "display_data"
    }
   ],
   "source": [
    "# 统计学上的四分为函数\n",
    "# 原则上p是可以取0到1之间的任意值的。但是有一个四分位数是p分位数中较为有名的。\n",
    "\n",
    "# 所谓四分位数；即把数值由小到大排列并分成四等份，处于三个分割点位置的数值就是四分位数。\n",
    "\n",
    "# 第1四分位数 (Q1)，又称“较小四分位数”，等于该样本中所有数值由小到大排列后第25%的数字。\n",
    "# 第2四分位数 (Q2)，又称“中位数”，等于该样本中所有数值由小到大排列后第50%的数字。\n",
    "# 第3四分位数 (Q3)，又称“较大四分位数”，等于该样本中所有数值由小到大排列后第75%的数字。\n",
    "# 第3四分位数与第1四分位数的差距又称四分位距（InterQuartile Range,IQR）\n",
    "\n",
    "s = pd.Series({'x < 20':len(min_df[min_df['percent_lcs']<20])/len(min_df)*100, \n",
    "           '20 < x < 40':len(min_df[(min_df['percent_lcs']>20) & (min_df['percent_lcs']<40)])/len(min_df)*100, \n",
    "           '40 < x < 60':len(min_df[(min_df['percent_lcs']>40) & (min_df['percent_lcs']<60)])/len(min_df)*100, \n",
    "           '60 < x < 80':len(min_df[(min_df['percent_lcs']>60) & (min_df['percent_lcs']<80)])/len(min_df)*100, \n",
    "           'x > 80':len(min_df[min_df['percent_lcs']>80])/len(min_df)*100          \n",
    "          })\n",
    "s.plot.bar()\n",
    "plt.ylabel('total(%)')\n",
    "plt.xlabel('20% (rank)')\n",
    "plt.title('percent_lcs')\n",
    "plt.show()"
   ]
  },
  {
   "cell_type": "code",
   "execution_count": 32,
   "metadata": {},
   "outputs": [
    {
     "name": "stdout",
     "output_type": "stream",
     "text": [
      "overlap Top :11.34 %\n",
      "overlap Final :0.00 %\n",
      "overlap Other Pos :40.48 %\n",
      "No overlap :48.18 %\n"
     ]
    },
    {
     "data": {
      "image/png": "[encoded data removed]",
      "text/plain": [
       "<Figure size 432x288 with 1 Axes>"
      ]
     },
     "metadata": {
      "needs_background": "light"
     },
     "output_type": "display_data"
    }
   ],
   "source": [
    "'''\n",
    "overlap => percent_lcs > (50% summary len)\n",
    "overlap_pos : 0 Top\n",
    "overlap_pos : 1 Final\n",
    "overlap_pos : 2 Other Pos\n",
    "overlap_pos : -1 No overlap\n",
    "'''\n",
    "\n",
    "# print('overlap Top :%2.2f'% float(len(min_df[(min_df['overlap_pos'] == 0) & (min_df['percent_lcs']>50)])/len(min_df)*100),'%') \n",
    "# print('overlap Final :%2.2f'% float(len(min_df[(min_df['overlap_pos'] == 1) & (min_df['percent_lcs']>50)])/len(min_df)*100),'%') \n",
    "# print('overlap Other Pos :%2.2f'% float(len(min_df[(min_df['overlap_pos'] == 2) & (min_df['percent_lcs']>50)])/len(min_df)*100),'%') \n",
    "# print('No overlap :%2.2f'% float(len(min_df[(min_df['percent_lcs']<=50)])/len(min_df)*100),'%') \n",
    "\n",
    "# s = pd.Series({'Top':len(min_df[(min_df['overlap_pos'] == 0) & (min_df['percent_lcs']>50)])/len(min_df)*100, \n",
    "#            'Final':len(min_df[(min_df['overlap_pos'] == 1) & (min_df['percent_lcs']>50)])/len(min_df)*100,      \n",
    "#            'Other Pos':len(min_df[(min_df['overlap_pos'] == 2) & (min_df['percent_lcs']>50)])/len(min_df)*100,  \n",
    "#            'No overlap':len(min_df[(min_df['percent_lcs']<=50)])/len(min_df)*100,  \n",
    "#           })\n",
    "\n",
    "\n",
    "print('overlap Top :%2.2f'% float(len(min_df[(min_df['overlap_pos'] == 0) ])/len(min_df)*100),'%') \n",
    "print('overlap Final :%2.2f'% float(len(min_df[(min_df['overlap_pos'] == 1) ])/len(min_df)*100),'%') \n",
    "print('overlap Other Pos :%2.2f'% float(len(min_df[(min_df['overlap_pos'] == 2) ])/len(min_df)*100),'%') \n",
    "print('No overlap :%2.2f'% float(len(min_df[(min_df['overlap_pos']==-1)])/len(min_df)*100),'%') \n",
    "\n",
    "s = pd.Series({'Top':len(min_df[(min_df['overlap_pos'] == 0) ])/len(min_df)*100, \n",
    "           'Final':len(min_df[(min_df['overlap_pos'] == 1) ])/len(min_df)*100,      \n",
    "           'Other Pos':len(min_df[(min_df['overlap_pos'] == 2) ])/len(min_df)*100,  \n",
    "           'No overlap':len(min_df[(min_df['overlap_pos']==-1)])/len(min_df)*100,  \n",
    "          })\n",
    "\n",
    "s.plot.bar()\n",
    "plt.ylabel('total(%)')\n",
    "plt.xlabel('Position')\n",
    "plt.title('overlap')\n",
    "plt.show()"
   ]
  },
  {
   "cell_type": "markdown",
   "metadata": {},
   "source": [
    "# Ext/Abs分界(50)"
   ]
  },
  {
   "cell_type": "code",
   "execution_count": 33,
   "metadata": {},
   "outputs": [
    {
     "name": "stdout",
     "output_type": "stream",
     "text": [
      "percent_lcs x > 50  42.70 %\n",
      "percent_lcs x <= 50  57.30 %\n"
     ]
    },
    {
     "data": {
      "image/png": "[encoded data removed]",
      "text/plain": [
       "<Figure size 432x288 with 1 Axes>"
      ]
     },
     "metadata": {
      "needs_background": "light"
     },
     "output_type": "display_data"
    }
   ],
   "source": [
    "print('percent_lcs x > 50  %2.2f'% float(len(min_df[(min_df['percent_lcs']>50)])/len(min_df)*100),'%')  # max_dec_steps\n",
    "print('percent_lcs x <= 50  %2.2f'% float(len(min_df[(min_df['percent_lcs']<=50)])/len(min_df)*100),'%')  # max_dec_steps\n",
    "\n",
    "s = pd.Series({'Ext.':len(min_df[(min_df['percent_lcs']>50)])/len(min_df)*100, \n",
    "           'Abs.':len(min_df[(min_df['percent_lcs']<=50)])/len(min_df)*100,      \n",
    "          })\n",
    "s.plot.bar()\n",
    "plt.ylabel('total(%)')\n",
    "plt.xlabel('summary type')\n",
    "plt.title('percent_lcs')\n",
    "plt.xticks(rotation=0)\n",
    "plt.show()"
   ]
  },
  {
   "cell_type": "code",
   "execution_count": 34,
   "metadata": {},
   "outputs": [
    {
     "name": "stdout",
     "output_type": "stream",
     "text": [
      "overlap Top :9.68 %\n",
      "overlap Final :0.00 %\n",
      "overlap Other Pos :33.02 %\n",
      "No overlap :57.30 %\n"
     ]
    },
    {
     "data": {
      "image/png": "[encoded data removed]",
      "text/plain": [
       "<Figure size 432x288 with 1 Axes>"
      ]
     },
     "metadata": {
      "needs_background": "light"
     },
     "output_type": "display_data"
    }
   ],
   "source": [
    "'''\n",
    "overlap => percent_lcs > (50% summary len)\n",
    "overlap_pos : 0 Top\n",
    "overlap_pos : 1 Final\n",
    "overlap_pos : 2 Other Pos\n",
    "overlap_pos : -1 No overlap\n",
    "'''\n",
    "\n",
    "print('overlap Top :%2.2f'% float(len(min_df[(min_df['overlap_pos'] == 0) & (min_df['percent_lcs']>50)])/len(min_df)*100),'%') \n",
    "print('overlap Final :%2.2f'% float(len(min_df[(min_df['overlap_pos'] == 1) & (min_df['percent_lcs']>50)])/len(min_df)*100),'%') \n",
    "print('overlap Other Pos :%2.2f'% float(len(min_df[(min_df['overlap_pos'] == 2) & (min_df['percent_lcs']>50)])/len(min_df)*100),'%') \n",
    "print('No overlap :%2.2f'% float(len(min_df[(min_df['percent_lcs']<=50)])/len(min_df)*100),'%') \n",
    "\n",
    "s = pd.Series({'overlap Top':len(min_df[(min_df['overlap_pos'] == 0) & (min_df['percent_lcs']>50)])/len(min_df)*100, \n",
    "           'overlap Final':len(min_df[(min_df['overlap_pos'] == 1) & (min_df['percent_lcs']>50)])/len(min_df)*100,      \n",
    "           'overlap Other Pos':len(min_df[(min_df['overlap_pos'] == 2) & (min_df['percent_lcs']>50)])/len(min_df)*100,  \n",
    "           'No overlap':len(min_df[(min_df['percent_lcs']<=50)])/len(min_df)*100,  \n",
    "          })\n",
    "s.plot.bar()\n",
    "plt.ylabel('total(%)')\n",
    "plt.title('overlap')\n",
    "plt.show()"
   ]
  },
  {
   "cell_type": "code",
   "execution_count": 35,
   "metadata": {},
   "outputs": [
    {
     "data": {
      "text/plain": [
       "[{'review': 'after buy buying this blu ray i find out i still have to buy number dollar worth of cord because it come with no cord it be a waste of money i have buy a good blu ray then that before there be a piece of .',\n",
       "  'summary': '<s> it not wroth the money do not buy look at other blu ray </s>',\n",
       "  'summary_subjectivity': 0.375,\n",
       "  'summary_polarity': -0.125,\n",
       "  'keywords': '[]'},\n",
       " {'review': 'installed number of these number megapixel camera and all work fine except for number of them . zos i be prompt to ship out a replacement camera and now system work great in daytime and . at night which be what i expect in this price range .',\n",
       "  'summary': '<s> good value in this price range for number camera with a of tb hard drive system </s>',\n",
       "  'summary_subjectivity': 0.5708333333333333,\n",
       "  'summary_polarity': 0.2041666666666666,\n",
       "  'keywords': '[]'},\n",
       " {'review': 'after read all the review on this site and see some of the poor review that this product get i have to do this wonderful product some justice . so without further ad due here be my video .',\n",
       "  'summary': '<s> anyone who do not give this litter box a good review obviously do not follow direction </s>',\n",
       "  'summary_subjectivity': 0.55,\n",
       "  'summary_polarity': 0.35,\n",
       "  'keywords': '[]'},\n",
       " {'review': 'i have no idea how good it be . i put the wrong bolt in because the direction suck and i do not see that there be four bolt in the box . now i can not get it out . check out my video .',\n",
       "  'summary': '<s> make sure you have all the bolt and part in front of you before you start </s>',\n",
       "  'summary_subjectivity': 0.8888888888888888,\n",
       "  'summary_polarity': 0.5,\n",
       "  'keywords': '[]'},\n",
       " {'review': 'this taste terrible i have a few other brand and decide to buy this one to try it and this be just terrible . lot of pulp and the citric acid to preserve warp the flavor . it do not even have the same effect as other amla choice .',\n",
       "  'summary': '<s> too much citric acid there be good amla juice brand in a bottle to buy </s>',\n",
       "  'summary_subjectivity': 0.4,\n",
       "  'summary_polarity': 0.45,\n",
       "  'keywords': '[]'},\n",
       " {'review': 'lg xpression c395 gsm slider red unlocked i use this model for several year . the downside be that the ribbon that connect the keyboard and slide screen would wear out . so the screen would lock up . eventually we move to a smart phone motorola go .',\n",
       "  'summary': '<s> work well a step above a flip phone and below a smart phone </s>',\n",
       "  'summary_subjectivity': 0.3714285714285714,\n",
       "  'summary_polarity': 0.1071428571428571,\n",
       "  'keywords': '[]'},\n",
       " {'review': 'the screw that secure the bench to the two foot be too long and as a result they extend past the bottom of the rubber end cap on either side of the foot . this result in a ridiculous wobble . see the video .',\n",
       "  'summary': '<s> wobble like crazy the screw be too long how have nobody mention this </s>',\n",
       "  'summary_subjectivity': 0.65,\n",
       "  'summary_polarity': -0.325,\n",
       "  'keywords': '[]'},\n",
       " {'review': 'i have this top for number week now i love it my start weight be number and i have now lose close to of lb with the help of this sauna top . the only downfall be i have to cuff up the sleeve because they be too long .',\n",
       "  'summary': '<s> i order a of and be of lbs fit perfectly really make you sweat </s>',\n",
       "  'summary_subjectivity': 0.3,\n",
       "  'summary_polarity': 0.3,\n",
       "  'keywords': '[]'},\n",
       " {'review': 'in this video i show you how i pair the speakerphone with my lg xenon phone . i also demonstrate the fm compatibility the ability to play youtube music the ease of make a call and the little extra that come with this device .',\n",
       "  'summary': '<s> it be so easy to use less than a minute to pair to your phone </s>',\n",
       "  'summary_subjectivity': 0.45,\n",
       "  'summary_polarity': 0.1333333333333334,\n",
       "  'keywords': '[]'},\n",
       " {'review': 'this be the bad phone i have ever use in my life . there be a constant buzz on the phone via handset and speakerphone . i could not take it anymore and put my fist through it throw it into the garbage . do not buy this phone .',\n",
       "  'summary': '<s> do not buy this phone complete garbage spend some more buck and get a decent phone </s>',\n",
       "  'summary_subjectivity': 0.5222222222222223,\n",
       "  'summary_polarity': 0.2555555555555555,\n",
       "  'keywords': '[]'}]"
      ]
     },
     "execution_count": 35,
     "metadata": {},
     "output_type": "execute_result"
    }
   ],
   "source": [
    "def view(df, condition, view_num=10):\n",
    "    package_dict = []\n",
    "    for i in range(view_num):\n",
    "        d1 = dict(min_df[eval(condition)].iloc[i])\n",
    "        d2 = {'review':d1['review'],\n",
    "              'summary':d1['summary'],\n",
    "              'summary_subjectivity':d1['summary_subjectivity'],\n",
    "              'summary_polarity':d1['summary_polarity'],\n",
    "#               'token_lcs':d1['token_lcs'],\n",
    "#               'overlap':d1['overlap'],\n",
    "#               'percent_lcs':d1['percent_lcs'],\n",
    "              'keywords':d1['POS_keys']            \n",
    "             }\n",
    "        package_dict.append(d2)\n",
    "    return package_dict\n",
    "        \n",
    "# view(min_df, \"(min_df['overlap_pos'] == 2) & (min_df['percent_lcs']<50)\")\n",
    "view(min_df, \"(min_df['review_len']<=50) & (min_df['percent_lcs']<=40) & (min_df['summary_len']>=15) & (min_df['summary_subjectivity']>=0.1)\")\n",
    "\n"
   ]
  },
  {
   "cell_type": "code",
   "execution_count": 36,
   "metadata": {},
   "outputs": [
    {
     "data": {
      "text/plain": [
       "472216    <s> i think that be a good decision as he squa...\n",
       "556246    <s> love it connect number phone i use flip ph...\n",
       "4833      <s> a must have for flight simmer who have a b...\n",
       "669633    <s> great basic calculator and it do have an o...\n",
       "276186    <s> inner baffle would have be nice otherwise ...\n",
       "627864    <s> dottie one touch number be a step in the w...\n",
       "470639            <s> i love my cherry red public bike </s>\n",
       "114631    <s> an audio engineer from the great audio com...\n",
       "506132    <s> i feel like a perfect fool for pay number ...\n",
       "213911    <s> a gentle reminder to just keep breathing </s>\n",
       "Name: summary, dtype: object"
      ]
     },
     "execution_count": 36,
     "metadata": {},
     "output_type": "execute_result"
    }
   ],
   "source": [
    "dict(min_df[(min_df['overlap_pos'] == 2) & (min_df['percent_lcs']>50)].iloc[0:10])['summary']"
   ]
  },
  {
   "cell_type": "code",
   "execution_count": null,
   "metadata": {},
   "outputs": [],
   "source": []
  },
  {
   "cell_type": "code",
   "execution_count": 37,
   "metadata": {},
   "outputs": [],
   "source": [
    "review_path = '/home/eagleuser/Users/leyan/Train-Data/Mix6_mainCat_Ekphrasis_new/review.xlsx'\n",
    "df = pd.read_excel(review_path)\n",
    "\n",
    "# review_path = '/home/eagleuser/Users/leyan/Train-Data/Mix6_mainCat_best/review.xlsx'\n",
    "# df = pd.read_excel(review_path)"
   ]
  },
  {
   "cell_type": "code",
   "execution_count": 38,
   "metadata": {},
   "outputs": [
    {
     "data": {
      "text/plain": [
       "Index(['asin', 'orign_review', 'orign_summary', 'review', 'summary', 'overall',\n",
       "       'vote', 'review_ID', 'lemm_review_len', 'lemm_summary_len'],\n",
       "      dtype='object')"
      ]
     },
     "execution_count": 38,
     "metadata": {},
     "output_type": "execute_result"
    }
   ],
   "source": [
    "df.columns"
   ]
  },
  {
   "cell_type": "code",
   "execution_count": 39,
   "metadata": {},
   "outputs": [
    {
     "data": {
      "text/html": [
       "<div>\n",
       "<style scoped>\n",
       "    .dataframe tbody tr th:only-of-type {\n",
       "        vertical-align: middle;\n",
       "    }\n",
       "\n",
       "    .dataframe tbody tr th {\n",
       "        vertical-align: top;\n",
       "    }\n",
       "\n",
       "    .dataframe thead th {\n",
       "        text-align: right;\n",
       "    }\n",
       "</style>\n",
       "<table border=\"1\" class=\"dataframe\">\n",
       "  <thead>\n",
       "    <tr style=\"text-align: right;\">\n",
       "      <th></th>\n",
       "      <th>review</th>\n",
       "      <th>summary</th>\n",
       "      <th>lemm_review_len</th>\n",
       "    </tr>\n",
       "  </thead>\n",
       "  <tbody>\n",
       "    <tr>\n",
       "      <th>2</th>\n",
       "      <td>the mics quality be okay but i try use it with...</td>\n",
       "      <td>&lt;s&gt; quality okay but annoy white noise &lt;/s&gt;</td>\n",
       "      <td>58</td>\n",
       "    </tr>\n",
       "    <tr>\n",
       "      <th>24</th>\n",
       "      <td>grant i have not use a number sennheiser but f...</td>\n",
       "      <td>&lt;s&gt; a great shotgun mic for the price &lt;/s&gt;</td>\n",
       "      <td>55</td>\n",
       "    </tr>\n",
       "    <tr>\n",
       "      <th>27</th>\n",
       "      <td>you can not have too many adapter if you be a ...</td>\n",
       "      <td>&lt;s&gt; a must have in the audio kit &lt;/s&gt;</td>\n",
       "      <td>59</td>\n",
       "    </tr>\n",
       "    <tr>\n",
       "      <th>28</th>\n",
       "      <td>i purchase two of these for my audio toolkit a...</td>\n",
       "      <td>&lt;s&gt; please with this hde xlr of pin male to of...</td>\n",
       "      <td>64</td>\n",
       "    </tr>\n",
       "    <tr>\n",
       "      <th>50</th>\n",
       "      <td>these be good monitor for my video edit for ab...</td>\n",
       "      <td>&lt;s&gt; extremely short lifespan number die on me ...</td>\n",
       "      <td>68</td>\n",
       "    </tr>\n",
       "  </tbody>\n",
       "</table>\n",
       "</div>"
      ],
      "text/plain": [
       "                                               review  \\\n",
       "2   the mics quality be okay but i try use it with...   \n",
       "24  grant i have not use a number sennheiser but f...   \n",
       "27  you can not have too many adapter if you be a ...   \n",
       "28  i purchase two of these for my audio toolkit a...   \n",
       "50  these be good monitor for my video edit for ab...   \n",
       "\n",
       "                                              summary  lemm_review_len  \n",
       "2         <s> quality okay but annoy white noise </s>               58  \n",
       "24         <s> a great shotgun mic for the price </s>               55  \n",
       "27              <s> a must have in the audio kit </s>               59  \n",
       "28  <s> please with this hde xlr of pin male to of...               64  \n",
       "50  <s> extremely short lifespan number die on me ...               68  "
      ]
     },
     "execution_count": 39,
     "metadata": {},
     "output_type": "execute_result"
    }
   ],
   "source": [
    "df[(df['lemm_review_len']<=70)][['review','summary','lemm_review_len']].head()"
   ]
  },
  {
   "cell_type": "code",
   "execution_count": 40,
   "metadata": {},
   "outputs": [
    {
     "name": "stdout",
     "output_type": "stream",
     "text": [
      "the mics quality be okay but i try use it with my i river mp player and my computer and i get that really annoy white noise in the background all the time it be really loud . before you buy it check out some sample recording on the internet if you be interested in high quality .\n",
      "<s> quality okay but annoy white noise </s>\n",
      "B00001W0DT\n",
      "1174089600\n",
      "58\n"
     ]
    }
   ],
   "source": [
    "# df[(df['review_ID']==1497744000) & (df['lemm_review_len']==74)]\n",
    "idx = 0\n",
    "print(df[(df['lemm_review_len']<=70)][['review','summary','lemm_review_len']].iloc[idx]['review'])\n",
    "print(df[(df['lemm_review_len']<=70)][['review','summary','lemm_review_len']].iloc[idx]['summary'])\n",
    "print(df[(df['lemm_review_len']<=70)][['asin','review','summary','lemm_review_len']].iloc[idx]['asin'])\n",
    "print(df[(df['lemm_review_len']<=70)][['review','summary','review_ID']].iloc[idx]['review_ID'])\n",
    "print(df[(df['lemm_review_len']<=70)][['review','summary','lemm_review_len']].iloc[idx]['lemm_review_len'])"
   ]
  },
  {
   "cell_type": "code",
   "execution_count": 41,
   "metadata": {},
   "outputs": [
    {
     "name": "stdout",
     "output_type": "stream",
     "text": [
      "the mic's quality is okay but i tried using it with my iriver mp3-player and my computer and i get that really annoying white noise in the background all the time (it's really loud). before you buy it check out some sample-recordings on the internet if you are interested in high quality.\n",
      "quality okay, but annoying white noise\n",
      "<s> quality okay but annoy white noise </s>\n"
     ]
    }
   ],
   "source": [
    "print(df[(df['lemm_review_len']<=70)][['orign_review','orign_summary']].iloc[idx]['orign_review'])\n",
    "print(df[(df['lemm_review_len']<=70)][['orign_review','orign_summary']].iloc[idx]['orign_summary'])\n",
    "print(df[(df['lemm_review_len']<=70)][['orign_review','summary']].iloc[idx]['summary'])"
   ]
  },
  {
   "cell_type": "code",
   "execution_count": 42,
   "metadata": {},
   "outputs": [
    {
     "data": {
      "text/plain": [
       "Index(['asin', 'review_ID', 'rating', 'vote', 'binaryrating', 'orign_review',\n",
       "       'orign_summary', 'review', 'summary', 'cheat', 'cheat_num', 'overlap',\n",
       "       'review_len', 'summary_len', 'POS_keys', 'DEP_keys', 'Noun_adj_keys',\n",
       "       'TextRank_keys', 'len_lcs', 'percent_lcs', 'overlap_pos', 'token_lcs',\n",
       "       'summary_polarity', 'summary_subjectivity', 'summary_check',\n",
       "       'summary_conflict', 'len_Pos_keys', 'len_DEP_keys', 'len_Noun_adj_keys',\n",
       "       'len_TextRank_keys'],\n",
       "      dtype='object')"
      ]
     },
     "execution_count": 42,
     "metadata": {},
     "output_type": "execute_result"
    }
   ],
   "source": [
    "min_df.columns"
   ]
  },
  {
   "cell_type": "code",
   "execution_count": 43,
   "metadata": {},
   "outputs": [
    {
     "name": "stdout",
     "output_type": "stream",
     "text": [
      "positive\n",
      "5.0\n",
      "0.6166666666666667\n",
      "0.7916666666666667\n",
      "False\n",
      "['number', 'slide', 'tray', 'multiple', 'negative', 'slide', 'horizontal']\n"
     ]
    }
   ],
   "source": [
    "print(min_df[(min_df['review_len']<=70)][['summary_polarity','summary_subjectivity','binaryrating']].iloc[0]['binaryrating'])\n",
    "print(min_df[(min_df['review_len']<=70)][['summary_polarity','summary_subjectivity','rating']].iloc[0]['rating'])\n",
    "print(min_df[(min_df['review_len']<=70)][['summary_polarity','summary_subjectivity','summary_conflict']].iloc[0]['summary_polarity'])\n",
    "print(min_df[(min_df['review_len']<=70)][['summary_polarity','summary_subjectivity','summary_conflict']].iloc[0]['summary_subjectivity'])\n",
    "print(min_df[(min_df['review_len']<=70)][['summary_polarity','summary_subjectivity','summary_conflict']].iloc[0]['summary_conflict'])\n",
    "print(min_df[(min_df['review_len']<=70)][['summary_polarity','summary_subjectivity','Noun_adj_keys']].iloc[0]['Noun_adj_keys'])\n"
   ]
  },
  {
   "cell_type": "code",
   "execution_count": 44,
   "metadata": {},
   "outputs": [
    {
     "data": {
      "text/plain": [
       "Index(['asin', 'review_ID', 'rating', 'vote', 'binaryrating', 'orign_review',\n",
       "       'orign_summary', 'review', 'summary', 'cheat', 'cheat_num', 'overlap',\n",
       "       'review_len', 'summary_len', 'POS_keys', 'DEP_keys', 'Noun_adj_keys',\n",
       "       'TextRank_keys', 'len_lcs', 'percent_lcs', 'overlap_pos', 'token_lcs',\n",
       "       'summary_polarity', 'summary_subjectivity', 'summary_check',\n",
       "       'summary_conflict', 'len_Pos_keys', 'len_DEP_keys', 'len_Noun_adj_keys',\n",
       "       'len_TextRank_keys'],\n",
       "      dtype='object')"
      ]
     },
     "execution_count": 44,
     "metadata": {},
     "output_type": "execute_result"
    }
   ],
   "source": [
    "min_df.columns"
   ]
  },
  {
   "cell_type": "code",
   "execution_count": 45,
   "metadata": {},
   "outputs": [
    {
     "data": {
      "text/plain": [
       "'ok so i read a whole lot of very positive review on this unit before i buy it and i have since return it . on the positive side it read usb flash drive but could not get a usb drive to work with it as i suspect you need to have it format to fat not ntfs and i do not have a fat formatted drive around to check . i read memory card but it be very slow with a of pixel image . for upscaling perhaps it me but i really do not notice the difference between it and my philip number unit which do not have a build in upscale . i try a variety of movie and there be little if any difference that i could notice on my number lcd panel that would compel me to spend the extra money for it . it play all divx format movie i throw at it even the encoders that use qp el . so that be quite good . for record dvd they seem have some sort of unstable mode when spun up where there be a very audible sound come from the unit . this do not happen with purchased dvd but only the burn one i try . so after my number week of really try to find a reason to keep it i just could not bring myself to burn another number when i have a perfectly good albeit do not play all divx format philip number . if you do not have a player or be in teh market for an hdmi and component out dvd player it be not a bad choice . the hdmi cable be include which be quite nice i must admit and the remote be pretty nice too .'"
      ]
     },
     "execution_count": 45,
     "metadata": {},
     "output_type": "execute_result"
    }
   ],
   "source": [
    "min_df[(min_df['review_len']>=58) & (min_df['review_ID']==1174089600)].iloc[0]['review']"
   ]
  },
  {
   "cell_type": "code",
   "execution_count": 46,
   "metadata": {},
   "outputs": [
    {
     "data": {
      "text/plain": [
       "'<s> i read some great review before i buy but </s>'"
      ]
     },
     "execution_count": 46,
     "metadata": {},
     "output_type": "execute_result"
    }
   ],
   "source": [
    "min_df[(min_df['review_len']>=58) & (min_df['review_ID']==1174089600)].iloc[0]['summary']"
   ]
  },
  {
   "cell_type": "code",
   "execution_count": 47,
   "metadata": {},
   "outputs": [
    {
     "data": {
      "text/plain": [
       "63.63636363636363"
      ]
     },
     "execution_count": 47,
     "metadata": {},
     "output_type": "execute_result"
    }
   ],
   "source": [
    "min_df[(min_df['review_len']>=58) & (min_df['review_ID']==1174089600)].iloc[0]['percent_lcs']"
   ]
  },
  {
   "cell_type": "code",
   "execution_count": 48,
   "metadata": {},
   "outputs": [
    {
     "data": {
      "text/plain": [
       "\"['review', 'lot', 'very positive', 'whole', 'side', 'drive', 'usb', 'flash', 'ntfs', 'positive', 'card', 'memory', 'slow', 'panel', 'movie', 'number', 'lcd', 'difference', 'variety', 'money', 'extra', 'little', 'dvd', 'record', 'sound', 'mode', 'sort', 'very audible', 'unstable', 'albeit', 'reason', 'number', 'week', 'perfectly good', 'good', 'dvd', 'hdmi', 'market', 'teh', 'player', 'choice', 'bad', 'cable', 'hdmi', 'nice']\""
      ]
     },
     "execution_count": 48,
     "metadata": {},
     "output_type": "execute_result"
    }
   ],
   "source": [
    "min_df[(min_df['review_len']>=58) & (min_df['review_ID']==1174089600)].iloc[0]['Noun_adj_keys']"
   ]
  },
  {
   "cell_type": "code",
   "execution_count": 49,
   "metadata": {},
   "outputs": [
    {
     "data": {
      "text/plain": [
       "['background', 'mic', 'quality', 'i', 'river', 'noise', 'player', 'computer']"
      ]
     },
     "execution_count": 49,
     "metadata": {},
     "output_type": "execute_result"
    }
   ],
   "source": [
    "['background', 'mic', 'quality', 'i', 'river', 'noise', 'player', 'computer']"
   ]
  },
  {
   "cell_type": "code",
   "execution_count": null,
   "metadata": {},
   "outputs": [],
   "source": []
  }
 ],
 "metadata": {
  "kernelspec": {
   "display_name": "Python 3",
   "language": "python",
   "name": "python3"
  },
  "language_info": {
   "codemirror_mode": {
    "name": "ipython",
    "version": 3
   },
   "file_extension": ".py",
   "mimetype": "text/x-python",
   "name": "python",
   "nbconvert_exporter": "python",
   "pygments_lexer": "ipython3",
   "version": "3.6.7"
  }
 },
 "nbformat": 4,
 "nbformat_minor": 4
}
