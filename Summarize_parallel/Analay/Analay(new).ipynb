{
 "cells": [
  {
   "cell_type": "code",
   "execution_count": 7,
   "metadata": {},
   "outputs": [
    {
     "name": "stdout",
     "output_type": "stream",
     "text": [
      "632610\n",
      "569349\n",
      "63261\n"
     ]
    }
   ],
   "source": [
    "import sys \n",
    "sys.path.append(\"..\") \n",
    "import os\n",
    "import pandas as pd\n",
    "from utils import config\n",
    "\n",
    "from sklearn.model_selection import train_test_split\n",
    "\n",
    "# config.xls_path = '../Train-Data/Mix6_mainCat_20/pro_review.xlsx'\n",
    "# config.xls_path = '/home/eagleuser/Users/leyan/Train-Data/Mix6_mainCat_new/pro_review.xlsx'\n",
    "\n",
    "# path = str(os.path.abspath(config.xls_path)).replace('Summarize_parallel','')\n",
    "total_df = pd.read_excel(str(os.path.abspath(config.xls_path)).replace('Summarize_parallel',''))\n",
    "# total_df = total_df[total_df['review_len']>=50]\n",
    "# total_df = total_df[total_df['summary_len']>=5]\n",
    "total_df = total_df.sort_values(by=['review_len','overlap'], ascending = False)\n",
    "train_df, val_df = train_test_split(total_df, test_size=0.1, \n",
    "                                    random_state=0, shuffle=True)\n",
    "\n",
    "print(len(total_df))\n",
    "print(len(train_df))\n",
    "print(len(val_df))\n",
    "\n",
    "# train : 504075(90%),    test : 56009(10%) -> best 566084"
   ]
  },
  {
   "cell_type": "code",
   "execution_count": 8,
   "metadata": {},
   "outputs": [],
   "source": [
    "def longest_common_subsequence(main_string, comparing_string):\n",
    "\n",
    "#     main_string = main_string.split(\" \")\n",
    "#     comparing_string = comparing_string.split(\" \")\n",
    "    columns_length = len(main_string)  # Get the length of the first word or base word\n",
    "    rows_length = len(comparing_string)  # Get the length of the second word or comparing word\n",
    "\n",
    "    # MAKE A 2D LIST (MATRIX)\n",
    "    dynamic_table = [[0] * (columns_length + 1) for i in range(rows_length + 1)]\n",
    "\n",
    "    # rows_length = NUMBER OF ROWS\n",
    "    # columns_length = NUMBER OF COLUMNS\n",
    "    \n",
    "    # FILL THE MATRIX FOLLOWING LCS ALGORITHM.\n",
    "    for i in range(1, rows_length + 1):\n",
    "        for j in range(1, columns_length + 1):\n",
    "            if main_string[j - 1] == comparing_string[i - 1]:\n",
    "                dynamic_table[i][j] = 1 + dynamic_table[i - 1][j - 1]\n",
    "\n",
    "            else:\n",
    "                dynamic_table[i][j] = max(dynamic_table[i - 1][j], dynamic_table[i][j - 1])\n",
    "\n",
    "#     print(\"MATRIX ACCORDING TO LONGEST COMMON SUBSEQUENCE ALGORITHM: \\n \")\n",
    "\n",
    "    # for i in range(rows_length + 1):\n",
    "    #     print(dynamic_table[i])\n",
    "\n",
    "    #print(\"LENGTH OF LONGEST COMMON SUBSEQUENCE = \", dynamic_table[rows_length][columns_length])\n",
    "\n",
    "    len_lcs = dynamic_table[rows_length][columns_length]\n",
    "\n",
    "    i = len(comparing_string)\n",
    "    j = len(main_string)\n",
    "\n",
    "    lcs_string = str()\n",
    "\n",
    "    # BACKTRACKING TO FIND THE LONGEST COMMON SUBSEQUENCE\n",
    "\n",
    "    temp = True\n",
    "\n",
    "    while temp is True:\n",
    "        if dynamic_table[i][j] == 0:\n",
    "            temp = False\n",
    "        elif dynamic_table[i][j] == dynamic_table[i][j - 1]:\n",
    "            j = j - 1\n",
    "\n",
    "        else:\n",
    "            lcs_string = main_string[j-1] + \" \" + lcs_string\n",
    "            i = i - 1\n",
    "            j = j - 1\n",
    "\n",
    "    return lcs_string, len_lcs"
   ]
  },
  {
   "cell_type": "code",
   "execution_count": 9,
   "metadata": {},
   "outputs": [],
   "source": [
    "# df.loc[i,'token_lcs'] = token_lcs\n",
    "#             df.loc[i,'len_lcs'] = len_lcs\n",
    "#             df.loc[i,'percent_lcs'] = percent_lcs\n",
    "#             df.loc[i,'overlap_pos'] = overlap_pos\n",
    "            \n",
    "#             df.loc[i,'reveiw_len'] = len(rev_tokens)\n",
    "#             df.loc[i,'summary_len'] = len(summary_tokens)"
   ]
  },
  {
   "cell_type": "code",
   "execution_count": 10,
   "metadata": {},
   "outputs": [],
   "source": [
    "#%%\n",
    "from tqdm import tqdm\n",
    "from copy import deepcopy\n",
    "def analay(df, mode):\n",
    "#     df['token_lcs'] = 0\n",
    "#     df['len_lcs'] = 0\n",
    "#     df['percent_lcs'] = 0\n",
    "#     df['overlap_pos'] = 0\n",
    "\n",
    "#     df['reveiw_len'] = 0\n",
    "#     df['summary_len'] = 0\n",
    "#     df = df[:100]\n",
    "    with tqdm(total=len(df)) as pbar:\n",
    "        for i ,row in df.iterrows():       \n",
    "            overlap_pos = None\n",
    "\n",
    "#             rev, summary = row['review'], row['summary']\n",
    "#             rev_tokens, summary_tokens = rev.split(\" \"), summary.split(\" \")           \n",
    "#             token_lcs, len_lcs = longest_common_subsequence(rev_tokens, summary_tokens)\n",
    "#             percent_lcs = len_lcs / len(summary_tokens) * 100 # percent\n",
    "\n",
    "#             rev_sents = rev.split(\" . \")\n",
    "#             overlap_sents = {idx: longest_common_subsequence(sent.split(\" \"), summary_tokens) for idx, sent in enumerate(rev_sents)}\n",
    "#             sort_overlap_sent = {k:v for k,v in sorted(overlap_sents.items(), key= lambda item: item[1], reverse=True)}\n",
    "#             overlap_sent_id = list(sort_overlap_sent.items())[0][0]\n",
    "\n",
    "#             if (overlap_sent_id == 0) and (percent_lcs >= 20): overlap_pos = 0 # overlap_Top \n",
    "#             elif (overlap_sent_id == len(rev_tokens)-1) and (percent_lcs >= 20): overlap_pos = 1 # overlap_Final \n",
    "#             elif (percent_lcs >= 20): overlap_pos = 2 # overlap_other \n",
    "#             else: overlap_pos = -1 # no overlap \n",
    "\n",
    "#             df.loc[i,'token_lcs'] = token_lcs\n",
    "#             df.loc[i,'len_lcs'] = len_lcs\n",
    "#             df.loc[i,'percent_lcs'] = percent_lcs\n",
    "#             df.loc[i,'overlap_pos'] = overlap_pos\n",
    "            \n",
    "#             df.loc[i,'reveiw_len'] = len(rev_tokens)\n",
    "#             df.loc[i,'summary_len'] = len(summary_tokens)\n",
    "\n",
    "            pbar.update(1)\n",
    "#             pbar.set_description(\"%s row: %s | overlap_pos: %s (%2.2f)percent| len_lcs: %s\" % (mode, i, overlap_pos, percent_lcs, len_lcs))\n",
    "#     df = df[df['token_lcs']!=0]\n",
    "    return df\n",
    "\n"
   ]
  },
  {
   "cell_type": "code",
   "execution_count": 11,
   "metadata": {},
   "outputs": [
    {
     "data": {
      "text/plain": [
       "388369     50\n",
       "191878    451\n",
       "575282    114\n",
       "149790     62\n",
       "359414     60\n",
       "Name: review_len, dtype: int64"
      ]
     },
     "execution_count": 11,
     "metadata": {},
     "output_type": "execute_result"
    }
   ],
   "source": [
    "train_df['review_len'].head()"
   ]
  },
  {
   "cell_type": "code",
   "execution_count": 12,
   "metadata": {},
   "outputs": [
    {
     "data": {
      "text/html": [
       "<div>\n",
       "<style scoped>\n",
       "    .dataframe tbody tr th:only-of-type {\n",
       "        vertical-align: middle;\n",
       "    }\n",
       "\n",
       "    .dataframe tbody tr th {\n",
       "        vertical-align: top;\n",
       "    }\n",
       "\n",
       "    .dataframe thead th {\n",
       "        text-align: right;\n",
       "    }\n",
       "</style>\n",
       "<table border=\"1\" class=\"dataframe\">\n",
       "  <thead>\n",
       "    <tr style=\"text-align: right;\">\n",
       "      <th></th>\n",
       "      <th>review_ID</th>\n",
       "      <th>rating</th>\n",
       "      <th>vote</th>\n",
       "      <th>binaryrating</th>\n",
       "      <th>orign_review</th>\n",
       "      <th>orign_summary</th>\n",
       "      <th>review</th>\n",
       "      <th>summary</th>\n",
       "      <th>cheat</th>\n",
       "      <th>cheat_num</th>\n",
       "      <th>...</th>\n",
       "      <th>POS_keys</th>\n",
       "      <th>DEP_keys</th>\n",
       "      <th>Noun_adj_keys</th>\n",
       "      <th>TextRank_keys</th>\n",
       "      <th>len_lcs</th>\n",
       "      <th>percent_lcs</th>\n",
       "      <th>overlap_pos</th>\n",
       "      <th>token_lcs</th>\n",
       "      <th>summary_polarity</th>\n",
       "      <th>summary_subjectivity</th>\n",
       "    </tr>\n",
       "  </thead>\n",
       "  <tbody>\n",
       "    <tr>\n",
       "      <th>388369</th>\n",
       "      <td>1482883200</td>\n",
       "      <td>3</td>\n",
       "      <td>3</td>\n",
       "      <td>negative</td>\n",
       "      <td>I'll give it 3 stars because it looked nice.  ...</td>\n",
       "      <td>I'll give it 3 stars because it looked nice. B...</td>\n",
       "      <td>i will give it star because it looked nice . b...</td>\n",
       "      <td>&lt;s&gt; i will give it star because it looked nice...</td>\n",
       "      <td>{'give', 'star', 'because', 'will', 'nice', 'b...</td>\n",
       "      <td>9</td>\n",
       "      <td>...</td>\n",
       "      <td>['nice', 'looked', 'way', 'size', '', 'return'...</td>\n",
       "      <td>['star', 'give', 'have', 'izumi', 'fit', 'pear...</td>\n",
       "      <td>['star', 'nice', 'size', 'largest', 'jersey', ...</td>\n",
       "      <td>['looked', 'nice']</td>\n",
       "      <td>12</td>\n",
       "      <td>85.714286</td>\n",
       "      <td>0</td>\n",
       "      <td>i will give it star because it looked nice but...</td>\n",
       "      <td>0.600000</td>\n",
       "      <td>1.000000</td>\n",
       "    </tr>\n",
       "    <tr>\n",
       "      <th>191878</th>\n",
       "      <td>1470614400</td>\n",
       "      <td>5</td>\n",
       "      <td>5</td>\n",
       "      <td>positive</td>\n",
       "      <td>YES. I have a Canon DSLR and a small collectio...</td>\n",
       "      <td>Perfection! The \"bring everywhere/take amazing...</td>\n",
       "      <td>i have a canon dslr and a small collection of ...</td>\n",
       "      <td>&lt;s&gt; the bring amazing in love with fuji camera...</td>\n",
       "      <td>{'love', 'amazing', 'fuji', 'camera', 'bring',...</td>\n",
       "      <td>8</td>\n",
       "      <td>...</td>\n",
       "      <td>['small', 'dslr', 'many', 'important', 'canon'...</td>\n",
       "      <td>['have', 'dslr', 'small', 'reaching', 'many', ...</td>\n",
       "      <td>['dslr', 'lens', 'iphone', 'collection', 'imag...</td>\n",
       "      <td>['canon', 'dslr', 'beloved', 'prior', 'frame',...</td>\n",
       "      <td>7</td>\n",
       "      <td>70.000000</td>\n",
       "      <td>2</td>\n",
       "      <td>the bring in with with fuji camera</td>\n",
       "      <td>0.550000</td>\n",
       "      <td>0.750000</td>\n",
       "    </tr>\n",
       "    <tr>\n",
       "      <th>575282</th>\n",
       "      <td>1287446400</td>\n",
       "      <td>1</td>\n",
       "      <td>5</td>\n",
       "      <td>negative</td>\n",
       "      <td>If this panel compressed another 1/2 inch, the...</td>\n",
       "      <td>Doesn't fit in replaced/new sliding glass door</td>\n",
       "      <td>if thi panel compressed another inch then i wo...</td>\n",
       "      <td>&lt;s&gt; do not fit in sliding glas door &lt;/s&gt;</td>\n",
       "      <td>{'glas', 'fit', 'sliding', 'do', 'door', 'in'}</td>\n",
       "      <td>6</td>\n",
       "      <td>...</td>\n",
       "      <td>['be', 'able', 'make', 'panel', 'new', 'vinyl'...</td>\n",
       "      <td>['glas', 'make', 'thi', 'tall', 'panel', 'trac...</td>\n",
       "      <td>['inch', 'thi', 'panel', 'able', 'glas', 'thi'...</td>\n",
       "      <td>['thi', 'panel', 'compressed', 'smaller']</td>\n",
       "      <td>4</td>\n",
       "      <td>44.444444</td>\n",
       "      <td>2</td>\n",
       "      <td>in sliding glas door</td>\n",
       "      <td>-0.200000</td>\n",
       "      <td>0.400000</td>\n",
       "    </tr>\n",
       "    <tr>\n",
       "      <th>149790</th>\n",
       "      <td>1467072000</td>\n",
       "      <td>4</td>\n",
       "      <td>5</td>\n",
       "      <td>positive</td>\n",
       "      <td>I really like this range finder/ watch. I like...</td>\n",
       "      <td>I really like this range finder/ watch</td>\n",
       "      <td>i really like thi range finder watch . i like ...</td>\n",
       "      <td>&lt;s&gt; i really like thi range finder watch &lt;/s&gt;</td>\n",
       "      <td>{'thi', 'range', 'watch', 'i', 'like', 'finder'}</td>\n",
       "      <td>6</td>\n",
       "      <td>...</td>\n",
       "      <td>['', 'like', 'wing', '', 'hole', 'play', 'make...</td>\n",
       "      <td>['aid', 'like', 'wing', 'battery', 'is', 'hole...</td>\n",
       "      <td>['bit', 'battery', 'issue', 'terrible']</td>\n",
       "      <td>['thi', 'finder', 'watch']</td>\n",
       "      <td>7</td>\n",
       "      <td>77.777778</td>\n",
       "      <td>0</td>\n",
       "      <td>i really like thi range finder watch</td>\n",
       "      <td>0.200000</td>\n",
       "      <td>0.200000</td>\n",
       "    </tr>\n",
       "    <tr>\n",
       "      <th>359414</th>\n",
       "      <td>1456704000</td>\n",
       "      <td>5</td>\n",
       "      <td>4</td>\n",
       "      <td>positive</td>\n",
       "      <td>I love these tights  they fit great , and the ...</td>\n",
       "      <td>I love these tights they fit great</td>\n",
       "      <td>i love these tight they fit great and the pock...</td>\n",
       "      <td>&lt;s&gt; i love these tight they fit great &lt;/s&gt;</td>\n",
       "      <td>{'love', 'fit', 'great', 'i', 'tight'}</td>\n",
       "      <td>5</td>\n",
       "      <td>...</td>\n",
       "      <td>['weather', 'well', 'cold', 'did', '']</td>\n",
       "      <td>['have', 'love', 'come', 'pocket', 'fit', 'col...</td>\n",
       "      <td>['come', 'pocket', 'back', 'weather', 'version...</td>\n",
       "      <td>['weather', 'real']</td>\n",
       "      <td>7</td>\n",
       "      <td>77.777778</td>\n",
       "      <td>0</td>\n",
       "      <td>i love these tight they fit great</td>\n",
       "      <td>0.380357</td>\n",
       "      <td>0.508929</td>\n",
       "    </tr>\n",
       "  </tbody>\n",
       "</table>\n",
       "<p>5 rows × 23 columns</p>\n",
       "</div>"
      ],
      "text/plain": [
       "         review_ID  rating  vote binaryrating  \\\n",
       "388369  1482883200       3     3     negative   \n",
       "191878  1470614400       5     5     positive   \n",
       "575282  1287446400       1     5     negative   \n",
       "149790  1467072000       4     5     positive   \n",
       "359414  1456704000       5     4     positive   \n",
       "\n",
       "                                             orign_review  \\\n",
       "388369  I'll give it 3 stars because it looked nice.  ...   \n",
       "191878  YES. I have a Canon DSLR and a small collectio...   \n",
       "575282  If this panel compressed another 1/2 inch, the...   \n",
       "149790  I really like this range finder/ watch. I like...   \n",
       "359414  I love these tights  they fit great , and the ...   \n",
       "\n",
       "                                            orign_summary  \\\n",
       "388369  I'll give it 3 stars because it looked nice. B...   \n",
       "191878  Perfection! The \"bring everywhere/take amazing...   \n",
       "575282     Doesn't fit in replaced/new sliding glass door   \n",
       "149790             I really like this range finder/ watch   \n",
       "359414                 I love these tights they fit great   \n",
       "\n",
       "                                                   review  \\\n",
       "388369  i will give it star because it looked nice . b...   \n",
       "191878  i have a canon dslr and a small collection of ...   \n",
       "575282  if thi panel compressed another inch then i wo...   \n",
       "149790  i really like thi range finder watch . i like ...   \n",
       "359414  i love these tight they fit great and the pock...   \n",
       "\n",
       "                                                  summary  \\\n",
       "388369  <s> i will give it star because it looked nice...   \n",
       "191878  <s> the bring amazing in love with fuji camera...   \n",
       "575282           <s> do not fit in sliding glas door </s>   \n",
       "149790      <s> i really like thi range finder watch </s>   \n",
       "359414         <s> i love these tight they fit great </s>   \n",
       "\n",
       "                                                    cheat  cheat_num  \\\n",
       "388369  {'give', 'star', 'because', 'will', 'nice', 'b...          9   \n",
       "191878  {'love', 'amazing', 'fuji', 'camera', 'bring',...          8   \n",
       "575282     {'glas', 'fit', 'sliding', 'do', 'door', 'in'}          6   \n",
       "149790   {'thi', 'range', 'watch', 'i', 'like', 'finder'}          6   \n",
       "359414             {'love', 'fit', 'great', 'i', 'tight'}          5   \n",
       "\n",
       "                ...           \\\n",
       "388369          ...            \n",
       "191878          ...            \n",
       "575282          ...            \n",
       "149790          ...            \n",
       "359414          ...            \n",
       "\n",
       "                                                 POS_keys  \\\n",
       "388369  ['nice', 'looked', 'way', 'size', '', 'return'...   \n",
       "191878  ['small', 'dslr', 'many', 'important', 'canon'...   \n",
       "575282  ['be', 'able', 'make', 'panel', 'new', 'vinyl'...   \n",
       "149790  ['', 'like', 'wing', '', 'hole', 'play', 'make...   \n",
       "359414             ['weather', 'well', 'cold', 'did', '']   \n",
       "\n",
       "                                                 DEP_keys  \\\n",
       "388369  ['star', 'give', 'have', 'izumi', 'fit', 'pear...   \n",
       "191878  ['have', 'dslr', 'small', 'reaching', 'many', ...   \n",
       "575282  ['glas', 'make', 'thi', 'tall', 'panel', 'trac...   \n",
       "149790  ['aid', 'like', 'wing', 'battery', 'is', 'hole...   \n",
       "359414  ['have', 'love', 'come', 'pocket', 'fit', 'col...   \n",
       "\n",
       "                                            Noun_adj_keys  \\\n",
       "388369  ['star', 'nice', 'size', 'largest', 'jersey', ...   \n",
       "191878  ['dslr', 'lens', 'iphone', 'collection', 'imag...   \n",
       "575282  ['inch', 'thi', 'panel', 'able', 'glas', 'thi'...   \n",
       "149790            ['bit', 'battery', 'issue', 'terrible']   \n",
       "359414  ['come', 'pocket', 'back', 'weather', 'version...   \n",
       "\n",
       "                                            TextRank_keys len_lcs percent_lcs  \\\n",
       "388369                                 ['looked', 'nice']      12   85.714286   \n",
       "191878  ['canon', 'dslr', 'beloved', 'prior', 'frame',...       7   70.000000   \n",
       "575282          ['thi', 'panel', 'compressed', 'smaller']       4   44.444444   \n",
       "149790                         ['thi', 'finder', 'watch']       7   77.777778   \n",
       "359414                                ['weather', 'real']       7   77.777778   \n",
       "\n",
       "       overlap_pos                                          token_lcs  \\\n",
       "388369           0  i will give it star because it looked nice but...   \n",
       "191878           2                the bring in with with fuji camera    \n",
       "575282           2                              in sliding glas door    \n",
       "149790           0              i really like thi range finder watch    \n",
       "359414           0                 i love these tight they fit great    \n",
       "\n",
       "        summary_polarity  summary_subjectivity  \n",
       "388369          0.600000              1.000000  \n",
       "191878          0.550000              0.750000  \n",
       "575282         -0.200000              0.400000  \n",
       "149790          0.200000              0.200000  \n",
       "359414          0.380357              0.508929  \n",
       "\n",
       "[5 rows x 23 columns]"
      ]
     },
     "execution_count": 12,
     "metadata": {},
     "output_type": "execute_result"
    }
   ],
   "source": [
    "train_df.head()"
   ]
  },
  {
   "cell_type": "code",
   "execution_count": 13,
   "metadata": {},
   "outputs": [
    {
     "data": {
      "text/html": [
       "<div>\n",
       "<style scoped>\n",
       "    .dataframe tbody tr th:only-of-type {\n",
       "        vertical-align: middle;\n",
       "    }\n",
       "\n",
       "    .dataframe tbody tr th {\n",
       "        vertical-align: top;\n",
       "    }\n",
       "\n",
       "    .dataframe thead th {\n",
       "        text-align: right;\n",
       "    }\n",
       "</style>\n",
       "<table border=\"1\" class=\"dataframe\">\n",
       "  <thead>\n",
       "    <tr style=\"text-align: right;\">\n",
       "      <th></th>\n",
       "      <th>review_ID</th>\n",
       "      <th>rating</th>\n",
       "      <th>vote</th>\n",
       "      <th>binaryrating</th>\n",
       "      <th>orign_review</th>\n",
       "      <th>orign_summary</th>\n",
       "      <th>review</th>\n",
       "      <th>summary</th>\n",
       "      <th>cheat</th>\n",
       "      <th>cheat_num</th>\n",
       "      <th>...</th>\n",
       "      <th>POS_keys</th>\n",
       "      <th>DEP_keys</th>\n",
       "      <th>Noun_adj_keys</th>\n",
       "      <th>TextRank_keys</th>\n",
       "      <th>len_lcs</th>\n",
       "      <th>percent_lcs</th>\n",
       "      <th>overlap_pos</th>\n",
       "      <th>token_lcs</th>\n",
       "      <th>summary_polarity</th>\n",
       "      <th>summary_subjectivity</th>\n",
       "    </tr>\n",
       "  </thead>\n",
       "  <tbody>\n",
       "    <tr>\n",
       "      <th>561399</th>\n",
       "      <td>1228003200</td>\n",
       "      <td>5</td>\n",
       "      <td>4</td>\n",
       "      <td>positive</td>\n",
       "      <td>This tool is just too cute and cool for words....</td>\n",
       "      <td>Great Tool for car or backpack!</td>\n",
       "      <td>thi tool is just too cute and cool for word . ...</td>\n",
       "      <td>&lt;s&gt; great tool for car or backpack &lt;/s&gt;</td>\n",
       "      <td>{'tool', 'great', 'or', 'for'}</td>\n",
       "      <td>4</td>\n",
       "      <td>...</td>\n",
       "      <td>['', 'tiny', 'case', 'odd', 'feature', 'tiny',...</td>\n",
       "      <td>['cute', 'tool', 'is', 'feature', 'odd', 'wren...</td>\n",
       "      <td>['tool', 'thi', 'cute', 'feature', 'odd', 'sto...</td>\n",
       "      <td>['thi', 'tool', 'feature']</td>\n",
       "      <td>3</td>\n",
       "      <td>37.500000</td>\n",
       "      <td>0</td>\n",
       "      <td>tool for or</td>\n",
       "      <td>0.8</td>\n",
       "      <td>0.750000</td>\n",
       "    </tr>\n",
       "    <tr>\n",
       "      <th>400097</th>\n",
       "      <td>1469664000</td>\n",
       "      <td>2</td>\n",
       "      <td>2</td>\n",
       "      <td>negative</td>\n",
       "      <td>I have serious arthritis in my spine.  I thoug...</td>\n",
       "      <td>I thought by the way this was described it wou...</td>\n",
       "      <td>i have seriou arthritis in my spine . i though...</td>\n",
       "      <td>&lt;s&gt; i thought by the way thi wa described it w...</td>\n",
       "      <td>{'described', 'way', 'thi', 'would', 'thought'...</td>\n",
       "      <td>14</td>\n",
       "      <td>...</td>\n",
       "      <td>['', 'went', 'comfortable', 'be', 'flat', 'bev...</td>\n",
       "      <td>['have', 'seriou', 'arthritis', 'small', 'puzz...</td>\n",
       "      <td>['spine', 'thi', 'padding', 'support', 'back',...</td>\n",
       "      <td>['seriou', 'arthritis', 'nd', 'use']</td>\n",
       "      <td>17</td>\n",
       "      <td>85.000000</td>\n",
       "      <td>2</td>\n",
       "      <td>i thought by the way thi wa described it would...</td>\n",
       "      <td>0.2</td>\n",
       "      <td>0.900000</td>\n",
       "    </tr>\n",
       "    <tr>\n",
       "      <th>337061</th>\n",
       "      <td>1392681600</td>\n",
       "      <td>5</td>\n",
       "      <td>6</td>\n",
       "      <td>positive</td>\n",
       "      <td>I have gone through so many plastic water bott...</td>\n",
       "      <td>Best Water Bottle I've Ever Owned!</td>\n",
       "      <td>i have gone through so many plastic water bott...</td>\n",
       "      <td>&lt;s&gt; best water bottle i have ever owned &lt;/s&gt;</td>\n",
       "      <td>{'have', 'i', 'water', 'bottle'}</td>\n",
       "      <td>4</td>\n",
       "      <td>...</td>\n",
       "      <td>['water', 'bottle', 'plastic', 'glas', 'many',...</td>\n",
       "      <td>['many', 'bottle', 'plastic', 'glas', 'many', ...</td>\n",
       "      <td>['water', 'plastic', 'glas', 'thi', 'many', 'b...</td>\n",
       "      <td>['water', 'bottle', 'drop']</td>\n",
       "      <td>4</td>\n",
       "      <td>44.444444</td>\n",
       "      <td>2</td>\n",
       "      <td>i have i have</td>\n",
       "      <td>1.0</td>\n",
       "      <td>0.300000</td>\n",
       "    </tr>\n",
       "    <tr>\n",
       "      <th>63750</th>\n",
       "      <td>1239235200</td>\n",
       "      <td>5</td>\n",
       "      <td>2</td>\n",
       "      <td>positive</td>\n",
       "      <td>I love this sound card because it sounds great...</td>\n",
       "      <td>Sounds Wonderful and Voice Over is Loud and Cl...</td>\n",
       "      <td>i love thi sound card because it sound great a...</td>\n",
       "      <td>&lt;s&gt; sound wonderful and voice over is loud and...</td>\n",
       "      <td>{'voice', 'loud', 'sound', 'is', 'and', 'over'}</td>\n",
       "      <td>6</td>\n",
       "      <td>...</td>\n",
       "      <td>['work', 'mic', '', 'sound', 'great', 'sound',...</td>\n",
       "      <td>['love', 'card', 'work', 'sound', 'mic', 'gett...</td>\n",
       "      <td>['card', 'work', 'sound', 'thi', 'great', 'mic...</td>\n",
       "      <td>['thi', 'sound', 'vistum', 'bit', 'work', 'wor...</td>\n",
       "      <td>6</td>\n",
       "      <td>54.545455</td>\n",
       "      <td>2</td>\n",
       "      <td>sound and is and loud and</td>\n",
       "      <td>0.4</td>\n",
       "      <td>0.645833</td>\n",
       "    </tr>\n",
       "    <tr>\n",
       "      <th>187420</th>\n",
       "      <td>1466467200</td>\n",
       "      <td>1</td>\n",
       "      <td>28</td>\n",
       "      <td>negative</td>\n",
       "      <td>I purchased this watch because I read reviews ...</td>\n",
       "      <td>The backlight is worse than bad it is horrible</td>\n",
       "      <td>i purchased thi watch because i read review of...</td>\n",
       "      <td>&lt;s&gt; the backlight is worse than bad it is horr...</td>\n",
       "      <td>{'bad', 'horrible', 'worse', 'backlight', 'is'...</td>\n",
       "      <td>7</td>\n",
       "      <td>...</td>\n",
       "      <td>['datum', 'much', '', '', 'watch', 'see', 'kin...</td>\n",
       "      <td>['review', 'provide', 'thi', 'datum', 'read', ...</td>\n",
       "      <td>['datum', 'review', 'watch', 'thi', 'how much'...</td>\n",
       "      <td>['thi', 'brightly', 'thing']</td>\n",
       "      <td>9</td>\n",
       "      <td>81.818182</td>\n",
       "      <td>2</td>\n",
       "      <td>the is is worse than bad it is horrible</td>\n",
       "      <td>-0.7</td>\n",
       "      <td>0.755556</td>\n",
       "    </tr>\n",
       "  </tbody>\n",
       "</table>\n",
       "<p>5 rows × 23 columns</p>\n",
       "</div>"
      ],
      "text/plain": [
       "         review_ID  rating  vote binaryrating  \\\n",
       "561399  1228003200       5     4     positive   \n",
       "400097  1469664000       2     2     negative   \n",
       "337061  1392681600       5     6     positive   \n",
       "63750   1239235200       5     2     positive   \n",
       "187420  1466467200       1    28     negative   \n",
       "\n",
       "                                             orign_review  \\\n",
       "561399  This tool is just too cute and cool for words....   \n",
       "400097  I have serious arthritis in my spine.  I thoug...   \n",
       "337061  I have gone through so many plastic water bott...   \n",
       "63750   I love this sound card because it sounds great...   \n",
       "187420  I purchased this watch because I read reviews ...   \n",
       "\n",
       "                                            orign_summary  \\\n",
       "561399                    Great Tool for car or backpack!   \n",
       "400097  I thought by the way this was described it wou...   \n",
       "337061                 Best Water Bottle I've Ever Owned!   \n",
       "63750   Sounds Wonderful and Voice Over is Loud and Cl...   \n",
       "187420     The backlight is worse than bad it is horrible   \n",
       "\n",
       "                                                   review  \\\n",
       "561399  thi tool is just too cute and cool for word . ...   \n",
       "400097  i have seriou arthritis in my spine . i though...   \n",
       "337061  i have gone through so many plastic water bott...   \n",
       "63750   i love thi sound card because it sound great a...   \n",
       "187420  i purchased thi watch because i read review of...   \n",
       "\n",
       "                                                  summary  \\\n",
       "561399            <s> great tool for car or backpack </s>   \n",
       "400097  <s> i thought by the way thi wa described it w...   \n",
       "337061       <s> best water bottle i have ever owned </s>   \n",
       "63750   <s> sound wonderful and voice over is loud and...   \n",
       "187420  <s> the backlight is worse than bad it is horr...   \n",
       "\n",
       "                                                    cheat  cheat_num  \\\n",
       "561399                     {'tool', 'great', 'or', 'for'}          4   \n",
       "400097  {'described', 'way', 'thi', 'would', 'thought'...         14   \n",
       "337061                   {'have', 'i', 'water', 'bottle'}          4   \n",
       "63750     {'voice', 'loud', 'sound', 'is', 'and', 'over'}          6   \n",
       "187420  {'bad', 'horrible', 'worse', 'backlight', 'is'...          7   \n",
       "\n",
       "                ...           \\\n",
       "561399          ...            \n",
       "400097          ...            \n",
       "337061          ...            \n",
       "63750           ...            \n",
       "187420          ...            \n",
       "\n",
       "                                                 POS_keys  \\\n",
       "561399  ['', 'tiny', 'case', 'odd', 'feature', 'tiny',...   \n",
       "400097  ['', 'went', 'comfortable', 'be', 'flat', 'bev...   \n",
       "337061  ['water', 'bottle', 'plastic', 'glas', 'many',...   \n",
       "63750   ['work', 'mic', '', 'sound', 'great', 'sound',...   \n",
       "187420  ['datum', 'much', '', '', 'watch', 'see', 'kin...   \n",
       "\n",
       "                                                 DEP_keys  \\\n",
       "561399  ['cute', 'tool', 'is', 'feature', 'odd', 'wren...   \n",
       "400097  ['have', 'seriou', 'arthritis', 'small', 'puzz...   \n",
       "337061  ['many', 'bottle', 'plastic', 'glas', 'many', ...   \n",
       "63750   ['love', 'card', 'work', 'sound', 'mic', 'gett...   \n",
       "187420  ['review', 'provide', 'thi', 'datum', 'read', ...   \n",
       "\n",
       "                                            Noun_adj_keys  \\\n",
       "561399  ['tool', 'thi', 'cute', 'feature', 'odd', 'sto...   \n",
       "400097  ['spine', 'thi', 'padding', 'support', 'back',...   \n",
       "337061  ['water', 'plastic', 'glas', 'thi', 'many', 'b...   \n",
       "63750   ['card', 'work', 'sound', 'thi', 'great', 'mic...   \n",
       "187420  ['datum', 'review', 'watch', 'thi', 'how much'...   \n",
       "\n",
       "                                            TextRank_keys len_lcs percent_lcs  \\\n",
       "561399                         ['thi', 'tool', 'feature']       3   37.500000   \n",
       "400097               ['seriou', 'arthritis', 'nd', 'use']      17   85.000000   \n",
       "337061                        ['water', 'bottle', 'drop']       4   44.444444   \n",
       "63750   ['thi', 'sound', 'vistum', 'bit', 'work', 'wor...       6   54.545455   \n",
       "187420                       ['thi', 'brightly', 'thing']       9   81.818182   \n",
       "\n",
       "       overlap_pos                                          token_lcs  \\\n",
       "561399           0                                       tool for or    \n",
       "400097           2  i thought by the way thi wa described it would...   \n",
       "337061           2                                     i have i have    \n",
       "63750            2                         sound and is and loud and    \n",
       "187420           2           the is is worse than bad it is horrible    \n",
       "\n",
       "        summary_polarity  summary_subjectivity  \n",
       "561399               0.8              0.750000  \n",
       "400097               0.2              0.900000  \n",
       "337061               1.0              0.300000  \n",
       "63750                0.4              0.645833  \n",
       "187420              -0.7              0.755556  \n",
       "\n",
       "[5 rows x 23 columns]"
      ]
     },
     "execution_count": 13,
     "metadata": {},
     "output_type": "execute_result"
    }
   ],
   "source": [
    "val_df.head()"
   ]
  },
  {
   "cell_type": "code",
   "execution_count": 18,
   "metadata": {},
   "outputs": [
    {
     "name": "stderr",
     "output_type": "stream",
     "text": [
      "100%|██████████| 569349/569349 [00:26<00:00, 21638.33it/s]\n",
      "100%|██████████| 63261/63261 [00:02<00:00, 22253.14it/s]\n"
     ]
    }
   ],
   "source": [
    "import os\n",
    "import matplotlib.pyplot as plt\n",
    "\n",
    "\n",
    "# print(str(os.path.abspath('train_df.xlsx')))\n",
    "if os.path.exists('train_df.xlsx'):\n",
    "    print('True')\n",
    "    p_train_df = pd.read_excel('train_df.xlsx')\n",
    "    p_val_df = pd.read_excel('val_df.xlsx')\n",
    "else:    \n",
    "    p_train_df = analay(deepcopy(train_df), 'train')\n",
    "    p_train_df.to_excel('train_df.xlsx', encoding='utf8')\n",
    "\n",
    "    p_val_df = analay(deepcopy(val_df), 'test')\n",
    "    p_val_df.to_excel('val_df.xlsx', encoding='utf8')"
   ]
  },
  {
   "cell_type": "code",
   "execution_count": 19,
   "metadata": {},
   "outputs": [
    {
     "data": {
      "text/plain": [
       "Index(['review_ID', 'rating', 'vote', 'binaryrating', 'orign_review',\n",
       "       'orign_summary', 'review', 'summary', 'cheat', 'cheat_num', 'overlap',\n",
       "       'review_len', 'summary_len', 'POS_keys', 'DEP_keys', 'Noun_adj_keys',\n",
       "       'TextRank_keys', 'len_lcs', 'percent_lcs', 'overlap_pos', 'token_lcs',\n",
       "       'summary_polarity', 'summary_subjectivity'],\n",
       "      dtype='object')"
      ]
     },
     "execution_count": 19,
     "metadata": {},
     "output_type": "execute_result"
    }
   ],
   "source": [
    "# p_train_df['review_ID'] = p_train_df.review_ID.astype(str)\n",
    "# p_train_df['review_ID'] = p_train_df.review_ID.astype(str)\n",
    "\n",
    "# p_train_df.describe()\n",
    "\n",
    "p_train_df.columns"
   ]
  },
  {
   "cell_type": "code",
   "execution_count": 20,
   "metadata": {},
   "outputs": [
    {
     "name": "stdout",
     "output_type": "stream",
     "text": [
      "count    569349.000000\n",
      "mean        164.244534\n",
      "std         101.944849\n",
      "min          23.000000\n",
      "25%          85.000000\n",
      "50%         132.000000\n",
      "75%         214.000000\n",
      "max         500.000000\n",
      "Name: review_len, dtype: float64\n",
      "review_len > 500 : 0\n"
     ]
    },
    {
     "data": {
      "text/plain": [
       "Text(0.5, 1.0, 'review_len Analysis')"
      ]
     },
     "execution_count": 20,
     "metadata": {},
     "output_type": "execute_result"
    },
    {
     "data": {
      "image/png": "[encoded data removed]",
      "text/plain": [
       "<Figure size 432x288 with 1 Axes>"
      ]
     },
     "metadata": {
      "needs_background": "light"
     },
     "output_type": "display_data"
    }
   ],
   "source": [
    "hist = p_train_df['review_len'].hist(bins=10)\n",
    "s = p_train_df['review_len'].describe(); print(s)\n",
    "# print('reveiw_len <= 20 :',len(p_train_df[p_train_df['reveiw_len']<=20]))\n",
    "print('review_len > 500 :',len(p_train_df[p_train_df['review_len']>500])) # # max pos, max_enc_steps \n",
    "plt.ylabel('count')\n",
    "plt.xlabel('length')\n",
    "\n",
    "plt.title('review_len Analysis')"
   ]
  },
  {
   "cell_type": "code",
   "execution_count": 21,
   "metadata": {},
   "outputs": [
    {
     "name": "stdout",
     "output_type": "stream",
     "text": [
      "summary_len > 20 : 0\n",
      "count    569349.000000\n",
      "mean         11.205610\n",
      "std           3.033007\n",
      "min           6.000000\n",
      "25%           9.000000\n",
      "50%          11.000000\n",
      "75%          13.000000\n",
      "max          20.000000\n",
      "Name: summary_len, dtype: float64\n"
     ]
    },
    {
     "data": {
      "text/plain": [
       "Text(0.5, 1.0, 'summary_len Analysis')"
      ]
     },
     "execution_count": 21,
     "metadata": {},
     "output_type": "execute_result"
    },
    {
     "data": {
      "image/png": "[encoded data removed]",
      "text/plain": [
       "<Figure size 432x288 with 1 Axes>"
      ]
     },
     "metadata": {
      "needs_background": "light"
     },
     "output_type": "display_data"
    }
   ],
   "source": [
    "print('summary_len > 20 :',len(p_train_df[p_train_df['summary_len']>20]))  # max_dec_steps\n",
    "# print('summary_len <= 5 :',len(p_train_df[p_train_df['summary_len']<6])) # min_dec_steps\n",
    "hist = p_train_df['summary_len'].hist(bins=10)\n",
    "s = p_train_df['summary_len'].describe(); print(s)\n",
    "plt.ylabel('count')\n",
    "plt.xlabel('length')\n",
    "plt.title('summary_len Analysis')"
   ]
  },
  {
   "cell_type": "markdown",
   "metadata": {},
   "source": [
    "# Rating"
   ]
  },
  {
   "cell_type": "code",
   "execution_count": 22,
   "metadata": {},
   "outputs": [
    {
     "data": {
      "text/plain": [
       "Text(0.5, 1.0, 'Rating')"
      ]
     },
     "execution_count": 22,
     "metadata": {},
     "output_type": "execute_result"
    },
    {
     "data": {
      "image/png": "[encoded data removed]",
      "text/plain": [
       "<Figure size 432x288 with 1 Axes>"
      ]
     },
     "metadata": {
      "needs_background": "light"
     },
     "output_type": "display_data"
    }
   ],
   "source": [
    "hist = p_train_df['rating'].hist(bins=5)\n",
    "# s = p_train_df['vote'].describe(); print(s)\n",
    "plt.ylabel('count')\n",
    "plt.title('Rating')"
   ]
  },
  {
   "cell_type": "markdown",
   "metadata": {},
   "source": [
    "# sentiment"
   ]
  },
  {
   "cell_type": "code",
   "execution_count": 23,
   "metadata": {},
   "outputs": [
    {
     "name": "stdout",
     "output_type": "stream",
     "text": [
      "summary_polarity and summary_subjectivity  > 0 : 497425\n",
      "count    569349.000000\n",
      "mean          0.618740\n",
      "std           0.219288\n",
      "min           0.022222\n",
      "25%           0.475000\n",
      "50%           0.600000\n",
      "75%           0.750000\n",
      "max           1.000000\n",
      "Name: summary_subjectivity, dtype: float64\n"
     ]
    },
    {
     "data": {
      "text/plain": [
       "Text(0.5, 1.0, 'summary_subjectivity')"
      ]
     },
     "execution_count": 23,
     "metadata": {},
     "output_type": "execute_result"
    },
    {
     "data": {
      "image/png": "[encoded data removed]",
      "text/plain": [
       "<Figure size 432x288 with 1 Axes>"
      ]
     },
     "metadata": {
      "needs_background": "light"
     },
     "output_type": "display_data"
    }
   ],
   "source": [
    "print('summary_polarity and summary_subjectivity  > 0 :',len(p_train_df[\n",
    "    (abs(p_train_df['summary_polarity'])>0.1) &\n",
    "    (p_train_df['summary_subjectivity']>0.25)\n",
    "\n",
    "]))  # max_dec_steps\n",
    "# print('summary_len <= 5 :',len(p_train_df[p_train_df['summary_len']<6])) # min_dec_steps\n",
    "\n",
    "hist = p_train_df['summary_subjectivity'].hist(bins=10)\n",
    "s = p_train_df['summary_subjectivity'].describe(); print(s)\n",
    "plt.ylabel('subjectivity')\n",
    "plt.title('summary_subjectivity')"
   ]
  },
  {
   "cell_type": "code",
   "execution_count": 24,
   "metadata": {
    "scrolled": true
   },
   "outputs": [
    {
     "name": "stdout",
     "output_type": "stream",
     "text": [
      "summary_polarity and summary_subjectivity  > 0 : 497425\n",
      "count    569349.000000\n",
      "mean          0.348173\n",
      "std           0.407641\n",
      "min          -1.000000\n",
      "25%           0.137500\n",
      "50%           0.400000\n",
      "75%           0.633333\n",
      "max           1.000000\n",
      "Name: summary_polarity, dtype: float64\n"
     ]
    },
    {
     "data": {
      "text/plain": [
       "Text(0.5, 1.0, 'summary_polarity')"
      ]
     },
     "execution_count": 24,
     "metadata": {},
     "output_type": "execute_result"
    },
    {
     "data": {
      "image/png": "[encoded data removed]",
      "text/plain": [
       "<Figure size 432x288 with 1 Axes>"
      ]
     },
     "metadata": {
      "needs_background": "light"
     },
     "output_type": "display_data"
    }
   ],
   "source": [
    "print('summary_polarity and summary_subjectivity  > 0 :',len(p_train_df[\n",
    "    (abs(p_train_df['summary_polarity'])>0.1) &\n",
    "    (p_train_df['summary_subjectivity']>0.25)\n",
    "\n",
    "]))  # max_dec_steps\n",
    "# print('summary_len <= 5 :',len(p_train_df[p_train_df['summary_len']<6])) # min_dec_steps\n",
    "\n",
    "hist = p_train_df['summary_polarity'].hist(bins=10)\n",
    "s = p_train_df['summary_polarity'].describe(); print(s)\n",
    "plt.ylabel('polarity')\n",
    "plt.title('summary_polarity')"
   ]
  },
  {
   "cell_type": "code",
   "execution_count": null,
   "metadata": {},
   "outputs": [],
   "source": []
  },
  {
   "cell_type": "markdown",
   "metadata": {},
   "source": [
    "# POS_Keyword"
   ]
  },
  {
   "cell_type": "code",
   "execution_count": 25,
   "metadata": {},
   "outputs": [
    {
     "data": {
      "text/html": [
       "<div>\n",
       "<style scoped>\n",
       "    .dataframe tbody tr th:only-of-type {\n",
       "        vertical-align: middle;\n",
       "    }\n",
       "\n",
       "    .dataframe tbody tr th {\n",
       "        vertical-align: top;\n",
       "    }\n",
       "\n",
       "    .dataframe thead th {\n",
       "        text-align: right;\n",
       "    }\n",
       "</style>\n",
       "<table border=\"1\" class=\"dataframe\">\n",
       "  <thead>\n",
       "    <tr style=\"text-align: right;\">\n",
       "      <th></th>\n",
       "      <th>len_Pos_keys</th>\n",
       "    </tr>\n",
       "  </thead>\n",
       "  <tbody>\n",
       "    <tr>\n",
       "      <th>count</th>\n",
       "      <td>569349.000000</td>\n",
       "    </tr>\n",
       "    <tr>\n",
       "      <th>mean</th>\n",
       "      <td>22.345142</td>\n",
       "    </tr>\n",
       "    <tr>\n",
       "      <th>std</th>\n",
       "      <td>14.710863</td>\n",
       "    </tr>\n",
       "    <tr>\n",
       "      <th>min</th>\n",
       "      <td>1.000000</td>\n",
       "    </tr>\n",
       "    <tr>\n",
       "      <th>25%</th>\n",
       "      <td>12.000000</td>\n",
       "    </tr>\n",
       "    <tr>\n",
       "      <th>50%</th>\n",
       "      <td>18.000000</td>\n",
       "    </tr>\n",
       "    <tr>\n",
       "      <th>75%</th>\n",
       "      <td>29.000000</td>\n",
       "    </tr>\n",
       "    <tr>\n",
       "      <th>max</th>\n",
       "      <td>131.000000</td>\n",
       "    </tr>\n",
       "  </tbody>\n",
       "</table>\n",
       "</div>"
      ],
      "text/plain": [
       "        len_Pos_keys\n",
       "count  569349.000000\n",
       "mean       22.345142\n",
       "std        14.710863\n",
       "min         1.000000\n",
       "25%        12.000000\n",
       "50%        18.000000\n",
       "75%        29.000000\n",
       "max       131.000000"
      ]
     },
     "execution_count": 25,
     "metadata": {},
     "output_type": "execute_result"
    }
   ],
   "source": [
    "p_train_df['len_Pos_keys'] = 0\n",
    "f = lambda x: len(eval(x))\n",
    "p_train_df['len_Pos_keys'] = p_train_df['POS_keys'].apply(f)\n",
    "p_train_df[['POS_keys','len_Pos_keys']].head()\n",
    "p_train_df[['POS_keys','len_Pos_keys']].describe()"
   ]
  },
  {
   "cell_type": "code",
   "execution_count": 26,
   "metadata": {},
   "outputs": [
    {
     "name": "stdout",
     "output_type": "stream",
     "text": [
      "15260\n"
     ]
    }
   ],
   "source": [
    "print(len(p_train_df[p_train_df['len_Pos_keys']<=5]))"
   ]
  },
  {
   "cell_type": "markdown",
   "metadata": {},
   "source": [
    "# DEP_Keyword"
   ]
  },
  {
   "cell_type": "code",
   "execution_count": 27,
   "metadata": {},
   "outputs": [
    {
     "data": {
      "text/html": [
       "<div>\n",
       "<style scoped>\n",
       "    .dataframe tbody tr th:only-of-type {\n",
       "        vertical-align: middle;\n",
       "    }\n",
       "\n",
       "    .dataframe tbody tr th {\n",
       "        vertical-align: top;\n",
       "    }\n",
       "\n",
       "    .dataframe thead th {\n",
       "        text-align: right;\n",
       "    }\n",
       "</style>\n",
       "<table border=\"1\" class=\"dataframe\">\n",
       "  <thead>\n",
       "    <tr style=\"text-align: right;\">\n",
       "      <th></th>\n",
       "      <th>len_DEP_keys</th>\n",
       "    </tr>\n",
       "  </thead>\n",
       "  <tbody>\n",
       "    <tr>\n",
       "      <th>count</th>\n",
       "      <td>569349.000000</td>\n",
       "    </tr>\n",
       "    <tr>\n",
       "      <th>mean</th>\n",
       "      <td>41.605648</td>\n",
       "    </tr>\n",
       "    <tr>\n",
       "      <th>std</th>\n",
       "      <td>28.794488</td>\n",
       "    </tr>\n",
       "    <tr>\n",
       "      <th>min</th>\n",
       "      <td>0.000000</td>\n",
       "    </tr>\n",
       "    <tr>\n",
       "      <th>25%</th>\n",
       "      <td>20.000000</td>\n",
       "    </tr>\n",
       "    <tr>\n",
       "      <th>50%</th>\n",
       "      <td>33.000000</td>\n",
       "    </tr>\n",
       "    <tr>\n",
       "      <th>75%</th>\n",
       "      <td>55.000000</td>\n",
       "    </tr>\n",
       "    <tr>\n",
       "      <th>max</th>\n",
       "      <td>215.000000</td>\n",
       "    </tr>\n",
       "  </tbody>\n",
       "</table>\n",
       "</div>"
      ],
      "text/plain": [
       "        len_DEP_keys\n",
       "count  569349.000000\n",
       "mean       41.605648\n",
       "std        28.794488\n",
       "min         0.000000\n",
       "25%        20.000000\n",
       "50%        33.000000\n",
       "75%        55.000000\n",
       "max       215.000000"
      ]
     },
     "execution_count": 27,
     "metadata": {},
     "output_type": "execute_result"
    }
   ],
   "source": [
    "p_train_df['len_DEP_keys'] = 0\n",
    "f = lambda x: len(eval(x))\n",
    "p_train_df['len_DEP_keys'] = p_train_df['DEP_keys'].apply(f)\n",
    "p_train_df[['DEP_keys','len_DEP_keys']].head()\n",
    "p_train_df[['DEP_keys','len_DEP_keys']].describe()"
   ]
  },
  {
   "cell_type": "code",
   "execution_count": 28,
   "metadata": {},
   "outputs": [
    {
     "name": "stdout",
     "output_type": "stream",
     "text": [
      "4382\n"
     ]
    }
   ],
   "source": [
    "print(len(p_train_df[p_train_df['len_DEP_keys']<=5]))"
   ]
  },
  {
   "cell_type": "markdown",
   "metadata": {},
   "source": [
    "# TextRank_Keyword"
   ]
  },
  {
   "cell_type": "code",
   "execution_count": 29,
   "metadata": {},
   "outputs": [
    {
     "data": {
      "text/plain": [
       "Index(['review_ID', 'rating', 'vote', 'binaryrating', 'orign_review',\n",
       "       'orign_summary', 'review', 'summary', 'cheat', 'cheat_num', 'overlap',\n",
       "       'review_len', 'summary_len', 'POS_keys', 'DEP_keys', 'Noun_adj_keys',\n",
       "       'TextRank_keys', 'len_lcs', 'percent_lcs', 'overlap_pos', 'token_lcs',\n",
       "       'summary_polarity', 'summary_subjectivity', 'len_Pos_keys',\n",
       "       'len_DEP_keys'],\n",
       "      dtype='object')"
      ]
     },
     "execution_count": 29,
     "metadata": {},
     "output_type": "execute_result"
    }
   ],
   "source": [
    "p_train_df.columns"
   ]
  },
  {
   "cell_type": "code",
   "execution_count": 30,
   "metadata": {},
   "outputs": [
    {
     "data": {
      "text/html": [
       "<div>\n",
       "<style scoped>\n",
       "    .dataframe tbody tr th:only-of-type {\n",
       "        vertical-align: middle;\n",
       "    }\n",
       "\n",
       "    .dataframe tbody tr th {\n",
       "        vertical-align: top;\n",
       "    }\n",
       "\n",
       "    .dataframe thead th {\n",
       "        text-align: right;\n",
       "    }\n",
       "</style>\n",
       "<table border=\"1\" class=\"dataframe\">\n",
       "  <thead>\n",
       "    <tr style=\"text-align: right;\">\n",
       "      <th></th>\n",
       "      <th>len_TextRank_keys</th>\n",
       "    </tr>\n",
       "  </thead>\n",
       "  <tbody>\n",
       "    <tr>\n",
       "      <th>count</th>\n",
       "      <td>569349.000000</td>\n",
       "    </tr>\n",
       "    <tr>\n",
       "      <th>mean</th>\n",
       "      <td>6.253837</td>\n",
       "    </tr>\n",
       "    <tr>\n",
       "      <th>std</th>\n",
       "      <td>4.250768</td>\n",
       "    </tr>\n",
       "    <tr>\n",
       "      <th>min</th>\n",
       "      <td>1.000000</td>\n",
       "    </tr>\n",
       "    <tr>\n",
       "      <th>25%</th>\n",
       "      <td>3.000000</td>\n",
       "    </tr>\n",
       "    <tr>\n",
       "      <th>50%</th>\n",
       "      <td>5.000000</td>\n",
       "    </tr>\n",
       "    <tr>\n",
       "      <th>75%</th>\n",
       "      <td>8.000000</td>\n",
       "    </tr>\n",
       "    <tr>\n",
       "      <th>max</th>\n",
       "      <td>42.000000</td>\n",
       "    </tr>\n",
       "  </tbody>\n",
       "</table>\n",
       "</div>"
      ],
      "text/plain": [
       "       len_TextRank_keys\n",
       "count      569349.000000\n",
       "mean            6.253837\n",
       "std             4.250768\n",
       "min             1.000000\n",
       "25%             3.000000\n",
       "50%             5.000000\n",
       "75%             8.000000\n",
       "max            42.000000"
      ]
     },
     "execution_count": 30,
     "metadata": {},
     "output_type": "execute_result"
    }
   ],
   "source": [
    "p_train_df['len_TextRank_keys'] = 0\n",
    "f = lambda x: len(eval(x))\n",
    "p_train_df['len_TextRank_keys'] = p_train_df['TextRank_keys'].apply(f)\n",
    "p_train_df[['TextRank_keys','len_TextRank_keys']].head()\n",
    "p_train_df[['TextRank_keys','len_TextRank_keys']].describe()"
   ]
  },
  {
   "cell_type": "code",
   "execution_count": 31,
   "metadata": {},
   "outputs": [
    {
     "name": "stdout",
     "output_type": "stream",
     "text": [
      "25356\n"
     ]
    }
   ],
   "source": [
    "print(len(p_train_df[p_train_df['len_TextRank_keys']<=1]))"
   ]
  },
  {
   "cell_type": "markdown",
   "metadata": {},
   "source": [
    "# Prune data length"
   ]
  },
  {
   "cell_type": "code",
   "execution_count": 32,
   "metadata": {},
   "outputs": [
    {
     "name": "stdout",
     "output_type": "stream",
     "text": [
      "review_len <= 500 and summary_len<= 20 and summary_polarity > 0.1 and summary_subjectivity > 0.25 :  512182\n",
      "review_len <= 500 and summary_len<= 20 and summary_polarity > 0.1 and summary_subjectivity > 0.25 :  58903\n"
     ]
    }
   ],
   "source": [
    "print('review_len <= 500 and summary_len<= 20 and summary_polarity > 0.1 and summary_subjectivity > 0.25 : ',len(p_train_df[\n",
    "    (p_train_df['review_len']<=500) & (p_train_df['summary_len']<=20) &\n",
    "    (abs(p_train_df['summary_polarity'])>0.1) &\n",
    "    (p_train_df['summary_subjectivity']>0.1) \n",
    "#     (p_train_df['len_TextRank_keys']>0) \n",
    "#     (p_train_df['len_DEP_keys']>5) & \n",
    "#     (p_train_df['len_Pos_keys']>5)\n",
    "                                        ]))\n",
    "print('review_len <= 500 and summary_len<= 20 and summary_polarity > 0.1 and summary_subjectivity > 0.25 : ',len(p_val_df[\n",
    "    (p_val_df['review_len']<=500) & (p_val_df['summary_len']<=20) &\n",
    "    (abs(p_val_df['summary_polarity'])>=0.1) &\n",
    "    (p_val_df['summary_subjectivity']>=0.1)    \n",
    "                                        ]))\n",
    "\n",
    "# # first_acc = 0.325\n",
    "min_df = p_train_df[\n",
    "    (p_train_df['review_len']<=500) & (p_train_df['summary_len']<=20) &\n",
    "    (abs(p_train_df['summary_polarity'])>=0.1) &\n",
    "    (p_train_df['summary_subjectivity']>=0.1)    \n",
    "                                        ]\n",
    "\n",
    "# print('reveiw_len > 7000 :',len(p_train_df[p_train_df['reveiw_len']>=700])) # # max pos, max_enc_steps \n",
    "# s = p_train_df['reveiw_len'].describe(); print(s)\n",
    "# s = s.drop(labels = ['count'])\n",
    "# s.plot.bar()\n",
    "# plt.ylabel('length')\n",
    "# plt.title('reveiw_len')\n",
    "# plt.show()"
   ]
  },
  {
   "cell_type": "markdown",
   "metadata": {},
   "source": [
    "# percent_lcs EDA(20 divided)"
   ]
  },
  {
   "cell_type": "code",
   "execution_count": 33,
   "metadata": {},
   "outputs": [
    {
     "name": "stdout",
     "output_type": "stream",
     "text": [
      "count    529491.000000\n",
      "mean         54.506104\n",
      "std          20.875314\n",
      "min           5.882353\n",
      "25%          37.500000\n",
      "50%          50.000000\n",
      "75%          75.000000\n",
      "max          90.000000\n",
      "Name: percent_lcs, dtype: float64\n"
     ]
    },
    {
     "data": {
      "text/plain": [
       "Text(0.5, 1.0, 'percent_lcs')"
      ]
     },
     "execution_count": 33,
     "metadata": {},
     "output_type": "execute_result"
    },
    {
     "data": {
      "image/png": "[encoded data removed]",
      "text/plain": [
       "<Figure size 432x288 with 1 Axes>"
      ]
     },
     "metadata": {
      "needs_background": "light"
     },
     "output_type": "display_data"
    }
   ],
   "source": [
    "hist = min_df['percent_lcs'].hist(bins=5)\n",
    "s = min_df['percent_lcs'].describe(); print(s)\n",
    "plt.ylabel('count')\n",
    "plt.xlabel('percent(%)')\n",
    "plt.title('percent_lcs')"
   ]
  },
  {
   "cell_type": "code",
   "execution_count": 34,
   "metadata": {},
   "outputs": [
    {
     "data": {
      "image/png": "[encoded data removed]",
      "text/plain": [
       "<Figure size 432x288 with 1 Axes>"
      ]
     },
     "metadata": {
      "needs_background": "light"
     },
     "output_type": "display_data"
    }
   ],
   "source": [
    "# 统计学上的四分为函数\n",
    "# 原则上p是可以取0到1之间的任意值的。但是有一个四分位数是p分位数中较为有名的。\n",
    "\n",
    "# 所谓四分位数；即把数值由小到大排列并分成四等份，处于三个分割点位置的数值就是四分位数。\n",
    "\n",
    "# 第1四分位数 (Q1)，又称“较小四分位数”，等于该样本中所有数值由小到大排列后第25%的数字。\n",
    "# 第2四分位数 (Q2)，又称“中位数”，等于该样本中所有数值由小到大排列后第50%的数字。\n",
    "# 第3四分位数 (Q3)，又称“较大四分位数”，等于该样本中所有数值由小到大排列后第75%的数字。\n",
    "# 第3四分位数与第1四分位数的差距又称四分位距（InterQuartile Range,IQR）\n",
    "\n",
    "s = pd.Series({'x < 20':len(min_df[min_df['percent_lcs']<20])/len(min_df)*100, \n",
    "           '20 < x < 40':len(min_df[(min_df['percent_lcs']>20) & (min_df['percent_lcs']<40)])/len(min_df)*100, \n",
    "           '40 < x < 60':len(min_df[(min_df['percent_lcs']>40) & (min_df['percent_lcs']<60)])/len(min_df)*100, \n",
    "           '60 < x < 80':len(min_df[(min_df['percent_lcs']>60) & (min_df['percent_lcs']<80)])/len(min_df)*100, \n",
    "           'x > 80':len(min_df[min_df['percent_lcs']>80])/len(min_df)*100          \n",
    "          })\n",
    "s.plot.bar()\n",
    "plt.ylabel('total(%)')\n",
    "plt.xlabel('20% (rank)')\n",
    "plt.title('percent_lcs')\n",
    "plt.show()"
   ]
  },
  {
   "cell_type": "code",
   "execution_count": 35,
   "metadata": {},
   "outputs": [
    {
     "name": "stdout",
     "output_type": "stream",
     "text": [
      "overlap Top :10.87 %\n",
      "overlap Final :0.00 %\n",
      "overlap Other Pos :34.89 %\n",
      "No overlap :54.25 %\n"
     ]
    },
    {
     "data": {
      "image/png": "[encoded data removed]",
      "text/plain": [
       "<Figure size 432x288 with 1 Axes>"
      ]
     },
     "metadata": {
      "needs_background": "light"
     },
     "output_type": "display_data"
    }
   ],
   "source": [
    "'''\n",
    "overlap => percent_lcs > (50% summary len)\n",
    "overlap_pos : 0 Top\n",
    "overlap_pos : 1 Final\n",
    "overlap_pos : 2 Other Pos\n",
    "overlap_pos : -1 No overlap\n",
    "'''\n",
    "\n",
    "print('overlap Top :%2.2f'% float(len(min_df[(min_df['overlap_pos'] == 0) & (min_df['percent_lcs']>50)])/len(min_df)*100),'%') \n",
    "print('overlap Final :%2.2f'% float(len(min_df[(min_df['overlap_pos'] == 1) & (min_df['percent_lcs']>50)])/len(min_df)*100),'%') \n",
    "print('overlap Other Pos :%2.2f'% float(len(min_df[(min_df['overlap_pos'] == 2) & (min_df['percent_lcs']>50)])/len(min_df)*100),'%') \n",
    "print('No overlap :%2.2f'% float(len(min_df[(min_df['percent_lcs']<=50)])/len(min_df)*100),'%') \n",
    "\n",
    "s = pd.Series({'Top':len(min_df[(min_df['overlap_pos'] == 0) & (min_df['percent_lcs']>50)])/len(min_df)*100, \n",
    "           'Final':len(min_df[(min_df['overlap_pos'] == 1) & (min_df['percent_lcs']>50)])/len(min_df)*100,      \n",
    "           'Other Pos':len(min_df[(min_df['overlap_pos'] == 2) & (min_df['percent_lcs']>50)])/len(min_df)*100,  \n",
    "           'No overlap':len(min_df[(min_df['percent_lcs']<=50)])/len(min_df)*100,  \n",
    "          })\n",
    "s.plot.bar()\n",
    "plt.ylabel('total(%)')\n",
    "plt.xlabel('Position')\n",
    "plt.title('overlap')\n",
    "plt.show()"
   ]
  },
  {
   "cell_type": "markdown",
   "metadata": {},
   "source": [
    "# Ext/Abs分界(50)"
   ]
  },
  {
   "cell_type": "code",
   "execution_count": 36,
   "metadata": {},
   "outputs": [
    {
     "name": "stdout",
     "output_type": "stream",
     "text": [
      "percent_lcs x > 50  45.75 %\n",
      "percent_lcs x <= 50  54.25 %\n"
     ]
    },
    {
     "data": {
      "image/png": "[encoded data removed]",
      "text/plain": [
       "<Figure size 432x288 with 1 Axes>"
      ]
     },
     "metadata": {
      "needs_background": "light"
     },
     "output_type": "display_data"
    }
   ],
   "source": [
    "print('percent_lcs x > 50  %2.2f'% float(len(min_df[(min_df['percent_lcs']>50)])/len(min_df)*100),'%')  # max_dec_steps\n",
    "print('percent_lcs x <= 50  %2.2f'% float(len(min_df[(min_df['percent_lcs']<=50)])/len(min_df)*100),'%')  # max_dec_steps\n",
    "\n",
    "s = pd.Series({'Ext.':len(min_df[(min_df['percent_lcs']>50)])/len(min_df)*100, \n",
    "           'Abs.':len(min_df[(min_df['percent_lcs']<=50)])/len(min_df)*100,      \n",
    "          })\n",
    "s.plot.bar()\n",
    "plt.ylabel('total(%)')\n",
    "plt.xlabel('summary type')\n",
    "plt.title('percent_lcs')\n",
    "plt.xticks(rotation=0)\n",
    "plt.show()"
   ]
  },
  {
   "cell_type": "code",
   "execution_count": 37,
   "metadata": {},
   "outputs": [
    {
     "name": "stdout",
     "output_type": "stream",
     "text": [
      "overlap Top :10.87 %\n",
      "overlap Final :0.00 %\n",
      "overlap Other Pos :34.89 %\n",
      "No overlap :54.25 %\n"
     ]
    },
    {
     "data": {
      "image/png": "[encoded data removed]",
      "text/plain": [
       "<Figure size 432x288 with 1 Axes>"
      ]
     },
     "metadata": {
      "needs_background": "light"
     },
     "output_type": "display_data"
    }
   ],
   "source": [
    "'''\n",
    "overlap => percent_lcs > (50% summary len)\n",
    "overlap_pos : 0 Top\n",
    "overlap_pos : 1 Final\n",
    "overlap_pos : 2 Other Pos\n",
    "overlap_pos : -1 No overlap\n",
    "'''\n",
    "\n",
    "print('overlap Top :%2.2f'% float(len(min_df[(min_df['overlap_pos'] == 0) & (min_df['percent_lcs']>50)])/len(min_df)*100),'%') \n",
    "print('overlap Final :%2.2f'% float(len(min_df[(min_df['overlap_pos'] == 1) & (min_df['percent_lcs']>50)])/len(min_df)*100),'%') \n",
    "print('overlap Other Pos :%2.2f'% float(len(min_df[(min_df['overlap_pos'] == 2) & (min_df['percent_lcs']>50)])/len(min_df)*100),'%') \n",
    "print('No overlap :%2.2f'% float(len(min_df[(min_df['percent_lcs']<=50)])/len(min_df)*100),'%') \n",
    "\n",
    "s = pd.Series({'overlap Top':len(min_df[(min_df['overlap_pos'] == 0) & (min_df['percent_lcs']>50)])/len(min_df)*100, \n",
    "           'overlap Final':len(min_df[(min_df['overlap_pos'] == 1) & (min_df['percent_lcs']>50)])/len(min_df)*100,      \n",
    "           'overlap Other Pos':len(min_df[(min_df['overlap_pos'] == 2) & (min_df['percent_lcs']>50)])/len(min_df)*100,  \n",
    "           'No overlap':len(min_df[(min_df['percent_lcs']<=50)])/len(min_df)*100,  \n",
    "          })\n",
    "s.plot.bar()\n",
    "plt.ylabel('total(%)')\n",
    "plt.title('overlap')\n",
    "plt.show()"
   ]
  },
  {
   "cell_type": "code",
   "execution_count": 38,
   "metadata": {},
   "outputs": [
    {
     "data": {
      "text/plain": [
       "[{'review': 'the two cat who eat treat loved kitty ka vium but sometime i noticed they sneezed a lot afterward . the larger bonitum tuna flake are easier for them to pick up and eat without getting them up their nose and they seem to prefer the bigger size too .',\n",
       "  'summary': '<s> ha replaced kitty ka vium a the favorite cat treat in my household </s>',\n",
       "  'summary_subjectivity': 1.0,\n",
       "  'summary_polarity': 0.5,\n",
       "  'keywords': \"['', '']\"},\n",
       " {'review': 'thi came with a car charger that do not work . came inside sealed box . i can not return thi item and get another at the cyber monday price . now i will spend another dollar for car charger . the usb cord is only inch long .',\n",
       "  'summary': '<s> wrong cord inside box questioning if product is new or counterfeit came sealed </s>',\n",
       "  'summary_subjectivity': 0.6772727272727272,\n",
       "  'summary_polarity': -0.1818181818181818,\n",
       "  'keywords': \"['', '', 'return', 'thi', 'dollar', 'spend', '']\"},\n",
       " {'review': 'my first avenir over yr also very easy on the butt priced right recommend to any rider looking for comfort longer ride edit they are good for yr then replace which is okay me only con no longer available imagine re minor complaint spandex covering beginning to stretch out .',\n",
       "  'summary': '<s> avenir still one of the most comfortable seat available presently out of production </s>',\n",
       "  'summary_subjectivity': 0.425,\n",
       "  'summary_polarity': 0.325,\n",
       "  'keywords': \"['imagine', 'butt', 'easy', 'first', 'minor', 'avenir', 'complaint', 'spandex', 'available']\"},\n",
       " {'review': 'washed second time again lot of lint released . it is no fun to wear it with lot of lint sticking to my body on the floor and everywhere i go . amazon credited my account the moment i dropped the returned hoodie off at up .',\n",
       "  'summary': '<s> after washing it released lot of lint excessive pilling returned for refund from amazon </s>',\n",
       "  'summary_subjectivity': 1.0,\n",
       "  'summary_polarity': -0.25,\n",
       "  'keywords': \"['washed', 'time', 'second', '', '']\"},\n",
       " {'review': 'i can not say much more than what the other reviewer unit ha only one tv must be two version of thi i suggest you connect thi unit to a good surge lot of the negitive issue might be caused by power apply to all sensitive electronic and computer .',\n",
       "  'summary': '<s> i own thi unit i got the refurbished version since thi model wa discontinued </s>',\n",
       "  'summary_subjectivity': 1.0,\n",
       "  'summary_polarity': 0.6,\n",
       "  'keywords': \"['thi', 'negitive', 'lot', 'issue', 'surge', 'good', 'connect']\"},\n",
       " {'review': 'the scarf came a a different color with a different pattern than shown in the picture . it did not meet my expectation in the slightest . it wa cheap i gues you get what you pay for basically something completely different than what you thought you bought .',\n",
       "  'summary': '<s> i hate it and will not be wearing it what a waste of effort </s>',\n",
       "  'summary_subjectivity': 0.45,\n",
       "  'summary_polarity': -0.5,\n",
       "  'keywords': \"['different', 'pattern', 'color', '', 'wa', 'cheap']\"},\n",
       " {'review': 'one of the foot strap broke within minute after usage by a year old . thi should not happen . i am noticing that several of the star review are from person who have no obviously purchased the item and one is a duplicate .',\n",
       "  'summary': '<s> do not purchase consider the competing brand that is more expensive and better built </s>',\n",
       "  'summary_subjectivity': 0.5666666666666667,\n",
       "  'summary_polarity': 0.1666666666666667,\n",
       "  'keywords': \"['', 'happen', 'thi', 'star', 'several']\"},\n",
       " {'review': 'why would you buy a dog food for that ha corn meal filler in it a the second ingredient might a well buy purina dog chow . pay more for a 3 3 lb bag at mr . chewy and get holistic dog food with better ingredient and nutrient .',\n",
       "  'summary': '<s> why pay for a dog food with second ingredient being a corn meal filler better choice out there </s>',\n",
       "  'summary_subjectivity': 0.25,\n",
       "  'summary_polarity': 0.25,\n",
       "  'keywords': \"['buy', 'ingredient', 'purina', 'dog', 'second', '', 'dog', 'food', 'get', 'holistic']\"},\n",
       " {'review': 'the do not work very well . when tightening it spin all the way up past the thread and never tighten . so ye it do provide more security than if it were absent but it do not work well . can not recommend and would not buy again .',\n",
       "  'summary': '<s> do not tighten sort of work if you do not need a these are fine </s>',\n",
       "  'summary_subjectivity': 0.5,\n",
       "  'summary_polarity': 0.4166666666666667,\n",
       "  'keywords': \"['work', 'well', '', 'were', 'absent', '']\"},\n",
       " {'review': 'feel nice with aluminum body not cheap plastic . picture in restaurant at i so without using flash turn out very nice provided the subject stay still for the shot . i bought thi at on a sale here and i am loving it .',\n",
       "  'summary': '<s> for can not beat thi nice pic in dark i so made in japan </s>',\n",
       "  'summary_subjectivity': 0.7,\n",
       "  'summary_polarity': 0.225,\n",
       "  'keywords': \"['nice', 'cheap', 'feel', 'plastic', 'stay', 'subject', '']\"}]"
      ]
     },
     "execution_count": 38,
     "metadata": {},
     "output_type": "execute_result"
    }
   ],
   "source": [
    "def view(df, condition, view_num=10):\n",
    "    package_dict = []\n",
    "    for i in range(view_num):\n",
    "        d1 = dict(min_df[eval(condition)].iloc[i])\n",
    "        d2 = {'review':d1['review'],\n",
    "              'summary':d1['summary'],\n",
    "              'summary_subjectivity':d1['summary_subjectivity'],\n",
    "              'summary_polarity':d1['summary_polarity'],\n",
    "#               'token_lcs':d1['token_lcs'],\n",
    "#               'overlap':d1['overlap'],\n",
    "#               'percent_lcs':d1['percent_lcs'],\n",
    "              'keywords':d1['POS_keys']            \n",
    "             }\n",
    "        package_dict.append(d2)\n",
    "    return package_dict\n",
    "        \n",
    "# view(min_df, \"(min_df['overlap_pos'] == 2) & (min_df['percent_lcs']<50)\")\n",
    "view(min_df, \"(min_df['review_len']<=50) & (min_df['percent_lcs']<=40) & (min_df['summary_len']>=15) & (min_df['summary_subjectivity']>=0.1)\")\n",
    "\n"
   ]
  },
  {
   "cell_type": "code",
   "execution_count": 39,
   "metadata": {},
   "outputs": [
    {
     "data": {
      "text/plain": [
       "191878    <s> the bring amazing in love with fuji camera...\n",
       "250707    <s> if you are really good at tying bandana an...\n",
       "263423            <s> most versatile rod in my arsenal </s>\n",
       "58812      <s> but not any good for music or other use </s>\n",
       "43007     <s> thi is a fantastic flash with little optio...\n",
       "439630    <s> and even my doctor said the glu cern a wa ...\n",
       "143099    <s> the sound is loud enough to easily be hear...\n",
       "496237    <s> you will not be disappointed if you need m...\n",
       "356691    <s> perfect for board game use not so much for...\n",
       "303926            <s> do not fit magpul moe hand guard </s>\n",
       "Name: summary, dtype: object"
      ]
     },
     "execution_count": 39,
     "metadata": {},
     "output_type": "execute_result"
    }
   ],
   "source": [
    "dict(min_df[(min_df['overlap_pos'] == 2) & (min_df['percent_lcs']>50)].iloc[0:10])['summary']"
   ]
  }
 ],
 "metadata": {
  "kernelspec": {
   "display_name": "Python 3",
   "language": "python",
   "name": "python3"
  },
  "language_info": {
   "codemirror_mode": {
    "name": "ipython",
    "version": 3
   },
   "file_extension": ".py",
   "mimetype": "text/x-python",
   "name": "python",
   "nbconvert_exporter": "python",
   "pygments_lexer": "ipython3",
   "version": "3.6.7"
  }
 },
 "nbformat": 4,
 "nbformat_minor": 4
}
