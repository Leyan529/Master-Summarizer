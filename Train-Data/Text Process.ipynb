{
 "cells": [
  {
   "cell_type": "code",
   "execution_count": 1,
   "metadata": {},
   "outputs": [
    {
     "name": "stderr",
     "output_type": "stream",
     "text": [
      "I0523 21:52:14.705673 140162638747456 file_utils.py:35] PyTorch version 1.4.0 available.\n",
      "I0523 21:52:16.651071 140162638747456 tokenization_utils.py:398] loading file https://s3.amazonaws.com/models.huggingface.co/bert/bert-base-uncased-vocab.txt from cache at /home/eagleuser/.cache/torch/transformers/26bc1ad6c0ac742e9b52263248f6d0f00068293b33709fae12320c0e35ccfbbb.542ce4285a40d23a559526243235df47c5f75c197f04f37d1a0c124c32c9a084\n"
     ]
    },
    {
     "name": "stdout",
     "output_type": "stream",
     "text": [
      "斷詞辭典 已取得\n",
      "negative-words.txt\n",
      "positive-words.txt\n",
      "total-words 已取得\n"
     ]
    }
   ],
   "source": [
    "import nltk\n",
    "from data_util.process import review_clean, summary_clean\n",
    "from data_util.extract_key import extract_POS, extract_DEP, noun_adj\n"
   ]
  },
  {
   "cell_type": "code",
   "execution_count": 2,
   "metadata": {},
   "outputs": [],
   "source": [
    "# step1 縮寫還原, 過濾html字元\n",
    "# step2 移除符號特徵 + 小數點數值\n",
    "# step3 nltk.sent_tokenize + Bert 絕對斷詞\n",
    "# step4 萃取review 名詞特徵 + 詞性還原"
   ]
  },
  {
   "cell_type": "code",
   "execution_count": 3,
   "metadata": {},
   "outputs": [
    {
     "name": "stdout",
     "output_type": "stream",
     "text": [
      "['weight', 'reading', 'yarn', 'thing', 'designer', 'motif', 'color', 'craft', 'teacher', 'fact', 'pillow', 'referral', 'pad', 'day', 'doily', 'topic', 'crochet', 'book', 'brittain', 'sense', 'stitch', 'way', 'index', 'week', 'sampling', 'detail', 'array']\n"
     ]
    },
    {
     "data": {
      "text/plain": [
       "'crochet for dummy by karen manthey susan brittain be a wonderfully thorough and very informative book for anyone want to learn to crochet and or want to freshen up their skill . the book read like a storybook in paragraph form . everything be explain in great detail from choose yarn and hook to how to work a large array of crochet stitch to how to read a pattern right down to how to care for one crochet item . the stitch drawing be clear and expertly do make learn new stitch so much easier . the book have both a content page and an index for easy referral . i especially like the fact that an index be include . so many crochet book do not include this . the index make it very easy to find information on a particular topic quickly . the recommendation for people just learn to crochet be fantastic . this book be not out when i learn to crochet and i learn the hard way about many of the pit fall this book help one to avoid . for instance they recommend one start out with a size crochet hook and a light color worsted weight yarn . i learn with a hook and a fingering weight yarn . after 2 whole day of crochet it be 36 long and tall . i be try to make a baby blanket for my doll which never get make . the book contain humor not just in the cartoon but in the instruction as well which make for very entertaining reading while one learn a new craft . i always appreciate have a teacher with a sense of humor . a good sampling of design be include so that one can try out their skill . these include sweater an afghan doily hot pad pillow scarf floral motif and bandana . i be a crochet designer and i read the book cover to cover like a storybook while on vacation this past week . i thoroughly enjoy it and learn a few thing as well . i would highly recommend this book to anyone interested in the art of crochet .'"
      ]
     },
     "execution_count": 3,
     "metadata": {},
     "output_type": "execute_result"
    }
   ],
   "source": [
    "review = \"\"\"Crocheting for Dummies by Karen Manthey & Susan Brittain is a wonderfully thorough and very informative book for anyone wanting to learn to crochet and or wanting to freshen up their skills.\n",
    "\n",
    "1. The book reads like a storybook in paragraph form.  Everything is explained in great detail from choosing yarns and hooks, to how to work a large array of crochet stitches, to how to read a pattern, right down to how to care for ones crocheted items.\n",
    "\n",
    "2. The stitch drawings are clear and expertly done making learning new stitches so much easier.\n",
    "\n",
    "The book has both a contents page and an index for easy referral.  I especially liked the fact that an index was included.  So many crochet books do not include this.  The index makes it very easy to find information on a particular topic quickly.\n",
    "\n",
    "The recommendations for people just learning to crochet are fantastic.  This book wasn't out when I learned to crochet and I learned the hard way about many of the pit falls this book helps one to avoid.  For instance they recommend one start out with a size H-8 crochet hook and a light colored worsted weight yarn.  I learned with a B-1 hook and a fingering weight yarn.  After 2 whole days of crocheting it was 36\" long and 1.5\" tall.  I was trying to make a baby blanket for my doll (which never got made).\n",
    "\n",
    "The book contains humor, not just in the cartoons but in the instructions as well which makes for very entertaining reading while one learns a new craft.  I always appreciate having a teacher with a sense of humor!\n",
    "\n",
    "A good sampling of designs is included so that one can try out their skills.  These include sweaters, an afghan, doilies, hot pads, pillow, scarves, floral motifs, and bandanas.\n",
    "\n",
    "I am a crochet designer and I read the book cover to cover like a storybook while on vacation this past week.  I thoroughly enjoyed it and learned a few things as well.  I would highly recommend this book to anyone interested in the art of crochet.'\n",
    "\"\"\"\n",
    "\n",
    "lemm_review, lemm_feats, lemm_sents = review_clean(review)\n",
    "print(lemm_feats)\n",
    "lemm_review"
   ]
  },
  {
   "cell_type": "code",
   "execution_count": 4,
   "metadata": {},
   "outputs": [
    {
     "data": {
      "text/plain": [
       "['crochet for dummy by karen manthey susan brittain be a wonderfully thorough and very informative book for anyone want to learn to crochet and or want to freshen up their skill .',\n",
       " 'the book read like a storybook in paragraph form .',\n",
       " 'everything be explain in great detail from choose yarn and hook to how to work a large array of crochet stitch to how to read a pattern right down to how to care for one crochet item .',\n",
       " 'the stitch drawing be clear and expertly do make learn new stitch so much easier .',\n",
       " 'the book have both a content page and an index for easy referral .',\n",
       " 'i especially like the fact that an index be include .',\n",
       " 'so many crochet book do not include this .',\n",
       " 'the index make it very easy to find information on a particular topic quickly .',\n",
       " 'the recommendation for people just learn to crochet be fantastic .',\n",
       " 'this book be not out when i learn to crochet and i learn the hard way about many of the pit fall this book help one to avoid .',\n",
       " 'for instance they recommend one start out with a size crochet hook and a light color worsted weight yarn .',\n",
       " 'i learn with a hook and a fingering weight yarn .',\n",
       " 'after 2 whole day of crochet it be 36 long and tall .',\n",
       " 'i be try to make a baby blanket for my doll which never get make .',\n",
       " 'the book contain humor not just in the cartoon but in the instruction as well which make for very entertaining reading while one learn a new craft .',\n",
       " 'i always appreciate have a teacher with a sense of humor .',\n",
       " 'a good sampling of design be include so that one can try out their skill .',\n",
       " 'these include sweater an afghan doily hot pad pillow scarf floral motif and bandana .',\n",
       " 'i be a crochet designer and i read the book cover to cover like a storybook while on vacation this past week .',\n",
       " 'i thoroughly enjoy it and learn a few thing as well .',\n",
       " 'i would highly recommend this book to anyone interested in the art of crochet .']"
      ]
     },
     "execution_count": 4,
     "metadata": {},
     "output_type": "execute_result"
    }
   ],
   "source": [
    "lemm_sents"
   ]
  },
  {
   "cell_type": "code",
   "execution_count": 5,
   "metadata": {},
   "outputs": [
    {
     "name": "stdout",
     "output_type": "stream",
     "text": [
      "Instrument fell apart at first tuning\n",
      "<s> instrument fall apart at first tuning </s>\n"
     ]
    }
   ],
   "source": [
    "summary = 'Instrument fell apart at first tuning'\n",
    "print(summary)\n",
    "summary = summary_clean(summary)\n",
    "print(summary)\n",
    "# lemm_summary = summary_cleaner(summary)\n",
    "# # print('summary2 : \\n',lemm_summary) \n",
    "# lemm_summary_len = len(lemm_summary.split(\" \"))"
   ]
  },
  {
   "cell_type": "markdown",
   "metadata": {},
   "source": [
    "# extract_POS"
   ]
  },
  {
   "cell_type": "code",
   "execution_count": 6,
   "metadata": {},
   "outputs": [
    {
     "name": "stdout",
     "output_type": "stream",
     "text": [
      "['weight', 'reading', 'floral', 'yarn', 'informative', 'make', 'past', 'designer', 'motif', 'color', 'craft', 'learn', 'particular', 'recommend', 'light', 'choose', 'pillow', 'referral', 'clear', 'day', 'entertaining', 'doily', 'pad', 'topic', 'crochet', 'easy', 'book', 'read', 'brittain', 'pit', 'fall', 'baby', 'scarf', 'susan', 'stitch', 'large', 'fantastic', 'way', 'whole', 'art', 'afghan', 'interested', 'week', 'pattern', 'sampling', 'detail', 'many', 'fingering', 'new', 'hard', 'be', 'find', 'drawing', 'good', 'great', 'information', 'hot', 'array']\n",
      "['weight', 'yarn', 'make', 'designer', 'motif', 'color', 'craft', 'recommend', 'light', 'pillow', 'day', 'doily', 'pad', 'topic', 'crochet', 'book', 'brittain', 'pit', 'fall', 'baby', 'scarf', 'susan', 'way', 'art', 'week', 'pattern', 'detail', 'information', 'array']\n"
     ]
    }
   ],
   "source": [
    "keywords, noun = extract_POS(lemm_review).run()\n",
    "print(keywords)\n",
    "print(noun)"
   ]
  },
  {
   "cell_type": "markdown",
   "metadata": {},
   "source": [
    "# extract_DEP"
   ]
  },
  {
   "cell_type": "code",
   "execution_count": 7,
   "metadata": {},
   "outputs": [
    {
     "name": "stdout",
     "output_type": "stream",
     "text": [
      "['humor', 'work', 'thorough', 'informative', 'recommendation', 'pillow', 'pad', 'day', 'hook', 'topic', 'easy', 'brittain', 'cover', 'few', 'bandana', 'good', 'great', 'blanket', 'array', 'yarn', 'have', 'thing', 'tall', 'motif', 'craft', 'page', 'teacher', 'referral', 'include', 'entertaining', 'content', 'read', 'susan', 'whole', 'large', 'fantastic', 'way', 'interested', 'index', 'everything', 'easier', 'paragraph', 'new', 'be', 'hot', 'weight', 'floral', 'past', 'size', 'try', 'color', 'recommend', 'choose', 'clear', 'appreciate', 'anyone', 'item', 'stitch', 'pattern', 'freshen', 'find', 'reading', 'make', 'designer', 'particular', 'light', 'long', 'help', 'information', 'sweater', 'crochet', 'book', 'baby', 'scarf', 'explain', 'skill', 'form', 'contain', 'afghan', 'week', 'sampling', 'detail', 'fingering', 'many', 'get', 'drawing', 'enjoy', 'learn', 'hard']\n",
      "['weight', 'reading', 'yarn', 'humor', 'thing', 'make', 'recommendation', 'size', 'designer', 'motif', 'color', 'craft', 'page', 'teacher', 'pillow', 'referral', 'pad', 'day', 'hook', 'topic', 'sweater', 'content', 'crochet', 'book', 'brittain', 'baby', 'scarf', 'anyone', 'cover', 'item', 'stitch', 'skill', 'bandana', 'form', 'way', 'index', 'week', 'pattern', 'sampling', 'detail', 'everything', 'paragraph', 'drawing', 'information', 'blanket', 'array']\n"
     ]
    }
   ],
   "source": [
    "keywords, noun = extract_DEP(lemm_review).run()\n",
    "print(keywords)\n",
    "print(noun)"
   ]
  },
  {
   "cell_type": "markdown",
   "metadata": {},
   "source": [
    "# noun_adj"
   ]
  },
  {
   "cell_type": "code",
   "execution_count": 8,
   "metadata": {},
   "outputs": [
    {
     "name": "stdout",
     "output_type": "stream",
     "text": [
      "['weight', 'reading', 'yarn', 'humor', 'thing', 'make', 'recommendation', 'size', 'designer', 'motif', 'while', 'color', 'craft', 'doll', 'karen', 'page', 'teacher', 'fact', 'design', 'referral', 'pillow', 'pad', 'day', 'hook', 'doily', 'topic', 'blanket', 'sweater', 'content', 'crochet', 'book', 'storybook', 'brittain', 'pit', 'baby', 'scarf', 'anyone', 'sense', 'item', 'cover', 'stitch', 'skill', 'bandana', 'form', 'way', 'instruction', 'index', 'vacation', 'week', 'start', 'pattern', 'cartoon', 'sampling', 'detail', 'instance', 'everything', 'paragraph', 'drawing', 'information', 'dummy', 'people', 'array', 'floral', 'past', 'particular', 'light', 'clear', 'entertaining', 'very entertaining', 'crochet', 'easy', 'few', 'susan', 'whole', 'large', 'fantastic', 'afghan', 'interested', 'so many', 'fingering', 'many', 'new', 'very informative', 'good', 'great', 'hard', 'hot']\n",
      "['weight', 'reading', 'yarn', 'humor', 'thing', 'make', 'recommendation', 'size', 'designer', 'motif', 'while', 'color', 'craft', 'doll', 'karen', 'page', 'teacher', 'fact', 'design', 'referral', 'pillow', 'pad', 'day', 'hook', 'doily', 'topic', 'blanket', 'sweater', 'content', 'crochet', 'book', 'storybook', 'brittain', 'pit', 'baby', 'scarf', 'anyone', 'sense', 'item', 'cover', 'stitch', 'skill', 'bandana', 'form', 'way', 'instruction', 'index', 'vacation', 'week', 'start', 'pattern', 'cartoon', 'sampling', 'detail', 'instance', 'everything', 'paragraph', 'drawing', 'information', 'dummy', 'people', 'array']\n"
     ]
    }
   ],
   "source": [
    "keywords, noun = noun_adj(lemm_review)\n",
    "print(keywords)\n",
    "print(noun)"
   ]
  }
 ],
 "metadata": {
  "kernelspec": {
   "display_name": "Python 3",
   "language": "python",
   "name": "python3"
  },
  "language_info": {
   "codemirror_mode": {
    "name": "ipython",
    "version": 3
   },
   "file_extension": ".py",
   "mimetype": "text/x-python",
   "name": "python",
   "nbconvert_exporter": "python",
   "pygments_lexer": "ipython3",
   "version": "3.6.7"
  }
 },
 "nbformat": 4,
 "nbformat_minor": 2
}
